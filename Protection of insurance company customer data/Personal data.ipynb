{
 "cells": [
  {
   "cell_type": "markdown",
   "metadata": {
    "toc": true
   },
   "source": [
    "<h1>Содержание<span class=\"tocSkip\"></span></h1>\n",
    "<div class=\"toc\"><ul class=\"toc-item\"><li><span><a href=\"#Загрузка-данных\" data-toc-modified-id=\"Загрузка-данных-1\"><span class=\"toc-item-num\">1&nbsp;&nbsp;</span>Загрузка данных</a></span></li><li><span><a href=\"#Умножение-матриц\" data-toc-modified-id=\"Умножение-матриц-2\"><span class=\"toc-item-num\">2&nbsp;&nbsp;</span>Умножение матриц</a></span></li><li><span><a href=\"#Алгоритм-преобразования\" data-toc-modified-id=\"Алгоритм-преобразования-3\"><span class=\"toc-item-num\">3&nbsp;&nbsp;</span>Алгоритм преобразования</a></span></li><li><span><a href=\"#Проверка-алгоритма\" data-toc-modified-id=\"Проверка-алгоритма-4\"><span class=\"toc-item-num\">4&nbsp;&nbsp;</span>Проверка алгоритма</a></span></li><li><span><a href=\"#Чек-лист-проверки\" data-toc-modified-id=\"Чек-лист-проверки-5\"><span class=\"toc-item-num\">5&nbsp;&nbsp;</span>Чек-лист проверки</a></span></li></ul></div>"
   ]
  },
  {
   "cell_type": "markdown",
   "metadata": {},
   "source": [
    "# Защита персональных данных клиентов"
   ]
  },
  {
   "cell_type": "markdown",
   "metadata": {},
   "source": [
    "Вам нужно защитить данные клиентов страховой компании. Задача разработь такой метод преобразования данных, чтобы по ним было сложно восстановить персональную информацию. Обоснуйте корректность его работы.\n",
    "\n",
    "Нужно защитить данные, чтобы при преобразовании качество моделей машинного обучения не ухудшилось. Подбирать наилучшую модель не требуется."
   ]
  },
  {
   "cell_type": "markdown",
   "metadata": {},
   "source": [
    "## Загрузка данных"
   ]
  },
  {
   "cell_type": "code",
   "execution_count": 5,
   "metadata": {
    "scrolled": true
   },
   "outputs": [],
   "source": [
    "import pandas as pd\n",
    "import numpy as np\n",
    "\n",
    "from sklearn.linear_model import LinearRegression\n",
    "from sklearn.metrics import r2_score\n",
    "from sklearn.model_selection import train_test_split\n",
    "\n",
    "import seaborn as sns"
   ]
  },
  {
   "cell_type": "code",
   "execution_count": 16,
   "metadata": {},
   "outputs": [],
   "source": [
    "try:\n",
    "    data = pd.read_csv('/datasets/insurance.csv')\n",
    "except: \n",
    "    data = pd.read_csv('https://code.s3.yandex.net/datasets/insurance.csv')"
   ]
  },
  {
   "cell_type": "code",
   "execution_count": 17,
   "metadata": {},
   "outputs": [
    {
     "name": "stdout",
     "output_type": "stream",
     "text": [
      "<class 'pandas.core.frame.DataFrame'>\n",
      "RangeIndex: 5000 entries, 0 to 4999\n",
      "Data columns (total 5 columns):\n",
      " #   Column             Non-Null Count  Dtype  \n",
      "---  ------             --------------  -----  \n",
      " 0   Пол                5000 non-null   int64  \n",
      " 1   Возраст            5000 non-null   float64\n",
      " 2   Зарплата           5000 non-null   float64\n",
      " 3   Члены семьи        5000 non-null   int64  \n",
      " 4   Страховые выплаты  5000 non-null   int64  \n",
      "dtypes: float64(2), int64(3)\n",
      "memory usage: 195.4 KB\n"
     ]
    }
   ],
   "source": [
    "data.info()"
   ]
  },
  {
   "cell_type": "code",
   "execution_count": 18,
   "metadata": {},
   "outputs": [
    {
     "data": {
      "text/html": [
       "<div>\n",
       "<style scoped>\n",
       "    .dataframe tbody tr th:only-of-type {\n",
       "        vertical-align: middle;\n",
       "    }\n",
       "\n",
       "    .dataframe tbody tr th {\n",
       "        vertical-align: top;\n",
       "    }\n",
       "\n",
       "    .dataframe thead th {\n",
       "        text-align: right;\n",
       "    }\n",
       "</style>\n",
       "<table border=\"1\" class=\"dataframe\">\n",
       "  <thead>\n",
       "    <tr style=\"text-align: right;\">\n",
       "      <th></th>\n",
       "      <th>Пол</th>\n",
       "      <th>Возраст</th>\n",
       "      <th>Зарплата</th>\n",
       "      <th>Члены семьи</th>\n",
       "      <th>Страховые выплаты</th>\n",
       "    </tr>\n",
       "  </thead>\n",
       "  <tbody>\n",
       "    <tr>\n",
       "      <th>count</th>\n",
       "      <td>5000.000000</td>\n",
       "      <td>5000.000000</td>\n",
       "      <td>5000.000000</td>\n",
       "      <td>5000.000000</td>\n",
       "      <td>5000.000000</td>\n",
       "    </tr>\n",
       "    <tr>\n",
       "      <th>mean</th>\n",
       "      <td>0.499000</td>\n",
       "      <td>30.952800</td>\n",
       "      <td>39916.360000</td>\n",
       "      <td>1.194200</td>\n",
       "      <td>0.148000</td>\n",
       "    </tr>\n",
       "    <tr>\n",
       "      <th>std</th>\n",
       "      <td>0.500049</td>\n",
       "      <td>8.440807</td>\n",
       "      <td>9900.083569</td>\n",
       "      <td>1.091387</td>\n",
       "      <td>0.463183</td>\n",
       "    </tr>\n",
       "    <tr>\n",
       "      <th>min</th>\n",
       "      <td>0.000000</td>\n",
       "      <td>18.000000</td>\n",
       "      <td>5300.000000</td>\n",
       "      <td>0.000000</td>\n",
       "      <td>0.000000</td>\n",
       "    </tr>\n",
       "    <tr>\n",
       "      <th>25%</th>\n",
       "      <td>0.000000</td>\n",
       "      <td>24.000000</td>\n",
       "      <td>33300.000000</td>\n",
       "      <td>0.000000</td>\n",
       "      <td>0.000000</td>\n",
       "    </tr>\n",
       "    <tr>\n",
       "      <th>50%</th>\n",
       "      <td>0.000000</td>\n",
       "      <td>30.000000</td>\n",
       "      <td>40200.000000</td>\n",
       "      <td>1.000000</td>\n",
       "      <td>0.000000</td>\n",
       "    </tr>\n",
       "    <tr>\n",
       "      <th>75%</th>\n",
       "      <td>1.000000</td>\n",
       "      <td>37.000000</td>\n",
       "      <td>46600.000000</td>\n",
       "      <td>2.000000</td>\n",
       "      <td>0.000000</td>\n",
       "    </tr>\n",
       "    <tr>\n",
       "      <th>max</th>\n",
       "      <td>1.000000</td>\n",
       "      <td>65.000000</td>\n",
       "      <td>79000.000000</td>\n",
       "      <td>6.000000</td>\n",
       "      <td>5.000000</td>\n",
       "    </tr>\n",
       "  </tbody>\n",
       "</table>\n",
       "</div>"
      ],
      "text/plain": [
       "               Пол      Возраст      Зарплата  Члены семьи  Страховые выплаты\n",
       "count  5000.000000  5000.000000   5000.000000  5000.000000        5000.000000\n",
       "mean      0.499000    30.952800  39916.360000     1.194200           0.148000\n",
       "std       0.500049     8.440807   9900.083569     1.091387           0.463183\n",
       "min       0.000000    18.000000   5300.000000     0.000000           0.000000\n",
       "25%       0.000000    24.000000  33300.000000     0.000000           0.000000\n",
       "50%       0.000000    30.000000  40200.000000     1.000000           0.000000\n",
       "75%       1.000000    37.000000  46600.000000     2.000000           0.000000\n",
       "max       1.000000    65.000000  79000.000000     6.000000           5.000000"
      ]
     },
     "execution_count": 18,
     "metadata": {},
     "output_type": "execute_result"
    }
   ],
   "source": [
    "data.describe()"
   ]
  },
  {
   "cell_type": "markdown",
   "metadata": {},
   "source": [
    "Можно возраст и зарплату привести к int. И так как максимальное число- 79000, можно привести весь датасет к int32"
   ]
  },
  {
   "cell_type": "code",
   "execution_count": 19,
   "metadata": {},
   "outputs": [],
   "source": [
    "data = data.astype('int32')"
   ]
  },
  {
   "cell_type": "code",
   "execution_count": 20,
   "metadata": {
    "scrolled": true
   },
   "outputs": [
    {
     "data": {
      "text/html": [
       "<div>\n",
       "<style scoped>\n",
       "    .dataframe tbody tr th:only-of-type {\n",
       "        vertical-align: middle;\n",
       "    }\n",
       "\n",
       "    .dataframe tbody tr th {\n",
       "        vertical-align: top;\n",
       "    }\n",
       "\n",
       "    .dataframe thead th {\n",
       "        text-align: right;\n",
       "    }\n",
       "</style>\n",
       "<table border=\"1\" class=\"dataframe\">\n",
       "  <thead>\n",
       "    <tr style=\"text-align: right;\">\n",
       "      <th></th>\n",
       "      <th>Пол</th>\n",
       "      <th>Возраст</th>\n",
       "      <th>Зарплата</th>\n",
       "      <th>Члены семьи</th>\n",
       "      <th>Страховые выплаты</th>\n",
       "    </tr>\n",
       "  </thead>\n",
       "  <tbody>\n",
       "    <tr>\n",
       "      <th>0</th>\n",
       "      <td>1</td>\n",
       "      <td>41</td>\n",
       "      <td>49600</td>\n",
       "      <td>1</td>\n",
       "      <td>0</td>\n",
       "    </tr>\n",
       "    <tr>\n",
       "      <th>1</th>\n",
       "      <td>0</td>\n",
       "      <td>46</td>\n",
       "      <td>38000</td>\n",
       "      <td>1</td>\n",
       "      <td>1</td>\n",
       "    </tr>\n",
       "    <tr>\n",
       "      <th>2</th>\n",
       "      <td>0</td>\n",
       "      <td>29</td>\n",
       "      <td>21000</td>\n",
       "      <td>0</td>\n",
       "      <td>0</td>\n",
       "    </tr>\n",
       "    <tr>\n",
       "      <th>3</th>\n",
       "      <td>0</td>\n",
       "      <td>21</td>\n",
       "      <td>41700</td>\n",
       "      <td>2</td>\n",
       "      <td>0</td>\n",
       "    </tr>\n",
       "    <tr>\n",
       "      <th>4</th>\n",
       "      <td>1</td>\n",
       "      <td>28</td>\n",
       "      <td>26100</td>\n",
       "      <td>0</td>\n",
       "      <td>0</td>\n",
       "    </tr>\n",
       "  </tbody>\n",
       "</table>\n",
       "</div>"
      ],
      "text/plain": [
       "   Пол  Возраст  Зарплата  Члены семьи  Страховые выплаты\n",
       "0    1       41     49600            1                  0\n",
       "1    0       46     38000            1                  1\n",
       "2    0       29     21000            0                  0\n",
       "3    0       21     41700            2                  0\n",
       "4    1       28     26100            0                  0"
      ]
     },
     "execution_count": 20,
     "metadata": {},
     "output_type": "execute_result"
    }
   ],
   "source": [
    "data.head()"
   ]
  },
  {
   "cell_type": "code",
   "execution_count": 21,
   "metadata": {},
   "outputs": [
    {
     "name": "stdout",
     "output_type": "stream",
     "text": [
      "<class 'pandas.core.frame.DataFrame'>\n",
      "RangeIndex: 5000 entries, 0 to 4999\n",
      "Data columns (total 5 columns):\n",
      " #   Column             Non-Null Count  Dtype\n",
      "---  ------             --------------  -----\n",
      " 0   Пол                5000 non-null   int32\n",
      " 1   Возраст            5000 non-null   int32\n",
      " 2   Зарплата           5000 non-null   int32\n",
      " 3   Члены семьи        5000 non-null   int32\n",
      " 4   Страховые выплаты  5000 non-null   int32\n",
      "dtypes: int32(5)\n",
      "memory usage: 97.8 KB\n"
     ]
    }
   ],
   "source": [
    "data.info()"
   ]
  },
  {
   "cell_type": "code",
   "execution_count": 26,
   "metadata": {},
   "outputs": [
    {
     "data": {
      "text/plain": [
       "50.051177072671436"
      ]
     },
     "execution_count": 26,
     "metadata": {},
     "output_type": "execute_result"
    }
   ],
   "source": [
    "97.8/195.4 *100"
   ]
  },
  {
   "cell_type": "markdown",
   "metadata": {},
   "source": [
    "Датасет небольшой, но снижение использования памяти практически на 50% может существенно сказаться на скорости обработки данных на больших объемах памяти"
   ]
  },
  {
   "cell_type": "code",
   "execution_count": 6,
   "metadata": {},
   "outputs": [
    {
     "data": {
      "image/png": "[encoded data removed]",
      "text/plain": [
       "<Figure size 432x648 with 6 Axes>"
      ]
     },
     "metadata": {
      "needs_background": "light"
     },
     "output_type": "display_data"
    }
   ],
   "source": [
    "data.hist(figsize=(6,9));"
   ]
  },
  {
   "cell_type": "markdown",
   "metadata": {},
   "source": [
    "Аномалий в данных не наблюдается"
   ]
  },
  {
   "cell_type": "code",
   "execution_count": 27,
   "metadata": {
    "scrolled": true
   },
   "outputs": [
    {
     "data": {
      "image/png": "[encoded data removed]",
      "text/plain": [
       "<Figure size 640x480 with 2 Axes>"
      ]
     },
     "metadata": {},
     "output_type": "display_data"
    }
   ],
   "source": [
    "sns.heatmap(data.corr().round(2), annot=True);"
   ]
  },
  {
   "cell_type": "markdown",
   "metadata": {},
   "source": [
    "Наблюдается высокая корреляция между возрастом и страховыми выплатами - в обычной жизни часто возраст также имеет достаточное значение для страховых компаний"
   ]
  },
  {
   "cell_type": "code",
   "execution_count": 8,
   "metadata": {
    "scrolled": true
   },
   "outputs": [
    {
     "data": {
      "text/plain": [
       "14.799999999999999"
      ]
     },
     "execution_count": 8,
     "metadata": {},
     "output_type": "execute_result"
    }
   ],
   "source": [
    "data['Страховые выплаты'].sum() / data['Страховые выплаты'].count() * 100"
   ]
  },
  {
   "cell_type": "markdown",
   "metadata": {},
   "source": [
    "Общее количество страховых выплат 14.8% \n",
    "\n",
    "Показатель того, что таргет не сбалансирован"
   ]
  },
  {
   "cell_type": "code",
   "execution_count": 9,
   "metadata": {},
   "outputs": [],
   "source": [
    "X = data.drop('Страховые выплаты', axis=1)\n",
    "y = data['Страховые выплаты']"
   ]
  },
  {
   "cell_type": "code",
   "execution_count": 10,
   "metadata": {
    "scrolled": true
   },
   "outputs": [
    {
     "data": {
      "text/html": [
       "<div>\n",
       "<style scoped>\n",
       "    .dataframe tbody tr th:only-of-type {\n",
       "        vertical-align: middle;\n",
       "    }\n",
       "\n",
       "    .dataframe tbody tr th {\n",
       "        vertical-align: top;\n",
       "    }\n",
       "\n",
       "    .dataframe thead th {\n",
       "        text-align: right;\n",
       "    }\n",
       "</style>\n",
       "<table border=\"1\" class=\"dataframe\">\n",
       "  <thead>\n",
       "    <tr style=\"text-align: right;\">\n",
       "      <th></th>\n",
       "      <th>Пол</th>\n",
       "      <th>Возраст</th>\n",
       "      <th>Зарплата</th>\n",
       "      <th>Члены семьи</th>\n",
       "    </tr>\n",
       "  </thead>\n",
       "  <tbody>\n",
       "    <tr>\n",
       "      <th>0</th>\n",
       "      <td>1</td>\n",
       "      <td>41.0</td>\n",
       "      <td>49600.0</td>\n",
       "      <td>1</td>\n",
       "    </tr>\n",
       "    <tr>\n",
       "      <th>1</th>\n",
       "      <td>0</td>\n",
       "      <td>46.0</td>\n",
       "      <td>38000.0</td>\n",
       "      <td>1</td>\n",
       "    </tr>\n",
       "    <tr>\n",
       "      <th>2</th>\n",
       "      <td>0</td>\n",
       "      <td>29.0</td>\n",
       "      <td>21000.0</td>\n",
       "      <td>0</td>\n",
       "    </tr>\n",
       "    <tr>\n",
       "      <th>3</th>\n",
       "      <td>0</td>\n",
       "      <td>21.0</td>\n",
       "      <td>41700.0</td>\n",
       "      <td>2</td>\n",
       "    </tr>\n",
       "    <tr>\n",
       "      <th>4</th>\n",
       "      <td>1</td>\n",
       "      <td>28.0</td>\n",
       "      <td>26100.0</td>\n",
       "      <td>0</td>\n",
       "    </tr>\n",
       "  </tbody>\n",
       "</table>\n",
       "</div>"
      ],
      "text/plain": [
       "   Пол  Возраст  Зарплата  Члены семьи\n",
       "0    1     41.0   49600.0            1\n",
       "1    0     46.0   38000.0            1\n",
       "2    0     29.0   21000.0            0\n",
       "3    0     21.0   41700.0            2\n",
       "4    1     28.0   26100.0            0"
      ]
     },
     "execution_count": 10,
     "metadata": {},
     "output_type": "execute_result"
    }
   ],
   "source": [
    "X.head()"
   ]
  },
  {
   "cell_type": "code",
   "execution_count": 11,
   "metadata": {
    "scrolled": true
   },
   "outputs": [
    {
     "data": {
      "text/plain": [
       "0    0\n",
       "1    1\n",
       "2    0\n",
       "3    0\n",
       "4    0\n",
       "Name: Страховые выплаты, dtype: int64"
      ]
     },
     "execution_count": 11,
     "metadata": {},
     "output_type": "execute_result"
    }
   ],
   "source": [
    "y.head()"
   ]
  },
  {
   "cell_type": "code",
   "execution_count": 12,
   "metadata": {},
   "outputs": [],
   "source": [
    "X_train, X_test, y_train, y_test = train_test_split(X, y, test_size=0.25, random_state=42)"
   ]
  },
  {
   "cell_type": "code",
   "execution_count": 13,
   "metadata": {
    "scrolled": true
   },
   "outputs": [
    {
     "data": {
      "text/plain": [
       "(3750, 4)"
      ]
     },
     "metadata": {},
     "output_type": "display_data"
    },
    {
     "data": {
      "text/plain": [
       "(1250, 4)"
      ]
     },
     "metadata": {},
     "output_type": "display_data"
    },
    {
     "data": {
      "text/plain": [
       "(3750,)"
      ]
     },
     "metadata": {},
     "output_type": "display_data"
    },
    {
     "data": {
      "text/plain": [
       "(1250,)"
      ]
     },
     "metadata": {},
     "output_type": "display_data"
    }
   ],
   "source": [
    "display(X_train.shape)\n",
    "display(X_test.shape)\n",
    "display(y_train.shape)\n",
    "display(y_test.shape)"
   ]
  },
  {
   "cell_type": "code",
   "execution_count": 14,
   "metadata": {},
   "outputs": [
    {
     "data": {
      "text/plain": [
       "0.4254778540696319"
      ]
     },
     "execution_count": 14,
     "metadata": {},
     "output_type": "execute_result"
    }
   ],
   "source": [
    "model = LinearRegression()\n",
    "model.fit(X_train, y_train)\n",
    "predict = model.predict(X_test)\n",
    "r2 = r2_score(y_test, predict)\n",
    "r2"
   ]
  },
  {
   "cell_type": "markdown",
   "metadata": {},
   "source": [
    "Были исследован датасет, проведена небольшая предобработка (не было пропусков и аномальных значений, на которые следовало бы обратить внимание)\n",
    "Так же разделены данные на тренировочную и тестовую выборки и получена метрика R2 на не закодированных данных. \n",
    "\n",
    "Далее проведем кодирование, обучим модель на зашифрованных данных и сравним метрики"
   ]
  },
  {
   "cell_type": "markdown",
   "metadata": {},
   "source": [
    "## Умножение матриц"
   ]
  },
  {
   "cell_type": "markdown",
   "metadata": {},
   "source": [
    "В этом задании вы можете записывать формулы в *Jupyter Notebook.*\n",
    "\n",
    "Чтобы записать формулу внутри текста, окружите её символами доллара \\\\$; если снаружи —  двойными символами \\\\$\\\\$. Эти формулы записываются на языке вёрстки *LaTeX.* \n",
    "\n",
    "Для примера мы записали формулы линейной регрессии. Можете их скопировать и отредактировать, чтобы решить задачу.\n",
    "\n",
    "Работать в *LaTeX* необязательно."
   ]
  },
  {
   "cell_type": "markdown",
   "metadata": {},
   "source": [
    "Обозначения:\n",
    "\n",
    "- $X$ — матрица признаков (нулевой столбец состоит из единиц)\n",
    "\n",
    "- $y$ — вектор целевого признака\n",
    "\n",
    "- $P$ — матрица, на которую умножаются признаки\n",
    "\n",
    "- $w$ — вектор весов линейной регрессии (нулевой элемент равен сдвигу)"
   ]
  },
  {
   "cell_type": "markdown",
   "metadata": {},
   "source": [
    "Предсказания:\n",
    "\n",
    "$$\n",
    "a = Xw\n",
    "$$\n",
    "\n",
    "Задача обучения:\n",
    "\n",
    "$$\n",
    "w = \\arg\\min_w MSE(Xw, y)\n",
    "$$\n",
    "\n",
    "Формула обучения:\n",
    "\n",
    "$$\n",
    "w = (X^T X)^{-1} X^T y\n",
    "$$"
   ]
  },
  {
   "cell_type": "markdown",
   "metadata": {},
   "source": [
    "**Ответ:** Качество предсказаний модели линейной регрессии не изменится \n",
    "\n",
    "**Обоснование:** Для корректного умножения признаков на матрицу должна быть соблюдена размерость - ширина первой матрицы\n",
    "А $(𝑚×𝑛)$ равна высоте второй матрицы В $(𝑛×r)$. Тогда размер произведения этих матриц будет $m×r$. Одно из условий- матрица, на которую будем производить умножение должна быть обратимой - то есть быть квадратной и иметь не нулевой определитель\n",
    "\n",
    "Цель: доказать, что $a = a_p$ ($X_w$ = $PXw_p$)\n",
    "\n",
    "Подставим значения из формулы обучения\n",
    "\n"
   ]
  },
  {
   "cell_type": "markdown",
   "metadata": {},
   "source": [
    "Подставим вместо параметра w, формулу её вычисления: $X_i w=X_i(X^T X)^{−1}XTy$\n",
    "\n",
    "Упростим формулу используя принцип ассоциативности $(A(BC)=(AB)C)$ и то, что транспонированное произведение матриц равно произведению транспонированных матриц взятых в обратном порядке $((AB)T=BTAT)$:\n",
    "\n",
    "$w = (X^T X)^{-1} X^T y$\n",
    "\n",
    "$ w' = ((XP)^T XP)^{-1} (XP)^T y $\n",
    "\n",
    "\n",
    "$w' = (P^T (X^T X) P)^{-1} (XP)^T y $= \n",
    "$(P^T (X^T X) P)^{-1} P^T X^T y $= \n",
    "$(X^TX)^{-1}(P^TP)^{-1}P^T X^T y $= \n",
    "$(X^TX)^{-1}P^{-1} (P^T)^{-1}P^T X^T y $=\n",
    "$(X^TX)^{-1}P^{-1} X^T y$ \n",
    "Следовательно $w' = P^-1 w$"
   ]
  },
  {
   "cell_type": "markdown",
   "metadata": {},
   "source": [
    "## Алгоритм преобразования"
   ]
  },
  {
   "cell_type": "markdown",
   "metadata": {},
   "source": [
    "**Алгоритм**\n",
    "\n",
    "1. Необходимо проверить матрицу, на которую будем производить умножение на обратимость\n",
    "2. Разделить данные на обучающую и тестовую выборки для обучения модели\n",
    "3. Создать обратимую матрицу\n",
    "4. Произвести умножение обучающих признаков на матрицу\n",
    "5. Сравнить метрики на исходных данных и на зашифрованных"
   ]
  },
  {
   "cell_type": "markdown",
   "metadata": {},
   "source": [
    "**Обоснование**\n",
    "\n",
    "Качество линейной регрессии будет одинаковым до и после преобразования данных. Преобразование данных не влияет на способность модели предсказывать целевой признак"
   ]
  },
  {
   "cell_type": "markdown",
   "metadata": {},
   "source": [
    "## Проверка алгоритма"
   ]
  },
  {
   "cell_type": "markdown",
   "metadata": {},
   "source": [
    "R2 я на исходных признаках я рассчитал чуть выше, теперь создам матрицу, на которую будем умножать признаки и после произведем умножение"
   ]
  },
  {
   "cell_type": "code",
   "execution_count": 15,
   "metadata": {},
   "outputs": [],
   "source": [
    "num = X.shape[1]\n",
    "matrix = np.random.randint(1,10, (num,num))"
   ]
  },
  {
   "cell_type": "code",
   "execution_count": 16,
   "metadata": {
    "scrolled": true
   },
   "outputs": [
    {
     "data": {
      "text/plain": [
       "array([[ 0.14967462, -0.29609544,  0.32863341, -0.1670282 ],\n",
       "       [-0.12147505, -0.04229935,  0.18980477, -0.02386117],\n",
       "       [-0.00867679,  0.10412148, -0.23644252,  0.21258134],\n",
       "       [ 0.01952278,  0.26572668, -0.21800434,  0.02169197]])"
      ]
     },
     "execution_count": 16,
     "metadata": {},
     "output_type": "execute_result"
    }
   ],
   "source": [
    "np.linalg.inv(matrix) #проверка матрицы на обратимость\n"
   ]
  },
  {
   "cell_type": "code",
   "execution_count": 17,
   "metadata": {},
   "outputs": [],
   "source": [
    "new_features = X @ matrix"
   ]
  },
  {
   "cell_type": "code",
   "execution_count": 18,
   "metadata": {},
   "outputs": [
    {
     "data": {
      "text/html": [
       "<div>\n",
       "<style scoped>\n",
       "    .dataframe tbody tr th:only-of-type {\n",
       "        vertical-align: middle;\n",
       "    }\n",
       "\n",
       "    .dataframe tbody tr th {\n",
       "        vertical-align: top;\n",
       "    }\n",
       "\n",
       "    .dataframe thead th {\n",
       "        text-align: right;\n",
       "    }\n",
       "</style>\n",
       "<table border=\"1\" class=\"dataframe\">\n",
       "  <thead>\n",
       "    <tr style=\"text-align: right;\">\n",
       "      <th></th>\n",
       "      <th>0</th>\n",
       "      <th>1</th>\n",
       "      <th>2</th>\n",
       "      <th>3</th>\n",
       "    </tr>\n",
       "  </thead>\n",
       "  <tbody>\n",
       "    <tr>\n",
       "      <th>0</th>\n",
       "      <td>297776.0</td>\n",
       "      <td>397053.0</td>\n",
       "      <td>248137.0</td>\n",
       "      <td>297937.0</td>\n",
       "    </tr>\n",
       "    <tr>\n",
       "      <th>1</th>\n",
       "      <td>228189.0</td>\n",
       "      <td>304282.0</td>\n",
       "      <td>190147.0</td>\n",
       "      <td>228371.0</td>\n",
       "    </tr>\n",
       "    <tr>\n",
       "      <th>2</th>\n",
       "      <td>126116.0</td>\n",
       "      <td>168174.0</td>\n",
       "      <td>105087.0</td>\n",
       "      <td>126232.0</td>\n",
       "    </tr>\n",
       "    <tr>\n",
       "      <th>3</th>\n",
       "      <td>250294.0</td>\n",
       "      <td>333738.0</td>\n",
       "      <td>208581.0</td>\n",
       "      <td>250374.0</td>\n",
       "    </tr>\n",
       "    <tr>\n",
       "      <th>4</th>\n",
       "      <td>156719.0</td>\n",
       "      <td>208969.0</td>\n",
       "      <td>130589.0</td>\n",
       "      <td>156830.0</td>\n",
       "    </tr>\n",
       "  </tbody>\n",
       "</table>\n",
       "</div>"
      ],
      "text/plain": [
       "          0         1         2         3\n",
       "0  297776.0  397053.0  248137.0  297937.0\n",
       "1  228189.0  304282.0  190147.0  228371.0\n",
       "2  126116.0  168174.0  105087.0  126232.0\n",
       "3  250294.0  333738.0  208581.0  250374.0\n",
       "4  156719.0  208969.0  130589.0  156830.0"
      ]
     },
     "execution_count": 18,
     "metadata": {},
     "output_type": "execute_result"
    }
   ],
   "source": [
    "new_features.head()"
   ]
  },
  {
   "cell_type": "markdown",
   "metadata": {},
   "source": [
    "Преобразование прошло успешно, признаки зашифрованы. Теперь проверим, изменился ли R2"
   ]
  },
  {
   "cell_type": "code",
   "execution_count": 19,
   "metadata": {},
   "outputs": [],
   "source": [
    "X_train_new, X_test_new, y_train_new, y_test_new = train_test_split(new_features, y, test_size=0.25, random_state=42)"
   ]
  },
  {
   "cell_type": "code",
   "execution_count": 20,
   "metadata": {},
   "outputs": [
    {
     "data": {
      "text/plain": [
       "0.4254778540696591"
      ]
     },
     "execution_count": 20,
     "metadata": {},
     "output_type": "execute_result"
    }
   ],
   "source": [
    "model.fit(X_train_new, y_train_new)\n",
    "predict_new = model.predict(X_test_new)\n",
    "r2_new = r2_score(y_test_new, predict_new)\n",
    "r2_new"
   ]
  },
  {
   "cell_type": "code",
   "execution_count": 21,
   "metadata": {},
   "outputs": [
    {
     "name": "stdout",
     "output_type": "stream",
     "text": [
      "R2 на исходных данных: 0.4254778540696319\n",
      "R2 на зашифрованных данных: 0.4254778540696591\n"
     ]
    }
   ],
   "source": [
    "print('R2 на исходных данных:', r2)\n",
    "print('R2 на зашифрованных данных:', r2_new)"
   ]
  },
  {
   "cell_type": "markdown",
   "metadata": {},
   "source": [
    "Вывод: \n",
    "Данные были загружены и проанализированы\n",
    "\n",
    "Был разработан алгоритм преобразования данных\n",
    "\n",
    "По алгоритму были зашифрованы данные\n",
    "\n",
    "После обучения модели на исходных и зашифрованных данных метрика не изменилась\n",
    "\n",
    "Общий итог: Качество линейной регресии не изменилось после умножения исходной матрицы на обратимую"
   ]
  }
 ],
 "metadata": {
  "ExecuteTimeLog": [
   {
    "duration": 409,
    "start_time": "2024-01-29T13:48:25.276Z"
   },
   {
    "duration": 87,
    "start_time": "2024-01-29T13:48:43.058Z"
   },
   {
    "duration": 19,
    "start_time": "2024-01-29T13:48:46.561Z"
   },
   {
    "duration": 2,
    "start_time": "2024-01-29T13:49:26.860Z"
   },
   {
    "duration": 12,
    "start_time": "2024-01-29T13:49:28.545Z"
   },
   {
    "duration": 8,
    "start_time": "2024-01-29T13:50:36.859Z"
   },
   {
    "duration": 22,
    "start_time": "2024-01-29T13:50:48.829Z"
   },
   {
    "duration": 858,
    "start_time": "2024-01-29T13:51:18.269Z"
   },
   {
    "duration": 484,
    "start_time": "2024-01-29T13:51:22.577Z"
   },
   {
    "duration": 480,
    "start_time": "2024-01-29T13:52:17.594Z"
   },
   {
    "duration": 502,
    "start_time": "2024-01-29T13:52:30.922Z"
   },
   {
    "duration": 709,
    "start_time": "2024-01-29T13:56:54.817Z"
   },
   {
    "duration": 50,
    "start_time": "2024-01-30T17:40:53.696Z"
   },
   {
    "duration": 6,
    "start_time": "2024-01-30T17:44:06.434Z"
   },
   {
    "duration": 1129,
    "start_time": "2024-01-30T17:44:09.741Z"
   },
   {
    "duration": 74,
    "start_time": "2024-01-30T17:44:10.872Z"
   },
   {
    "duration": 16,
    "start_time": "2024-01-30T17:44:11.579Z"
   },
   {
    "duration": 25,
    "start_time": "2024-01-30T17:44:11.803Z"
   },
   {
    "duration": 994,
    "start_time": "2024-01-30T17:44:13.418Z"
   },
   {
    "duration": 86,
    "start_time": "2024-01-30T17:44:14.414Z"
   },
   {
    "duration": 6,
    "start_time": "2024-01-30T17:44:52.378Z"
   },
   {
    "duration": 13,
    "start_time": "2024-01-30T17:45:05.593Z"
   },
   {
    "duration": 5,
    "start_time": "2024-01-30T17:45:07.572Z"
   },
   {
    "duration": 13,
    "start_time": "2024-01-30T17:45:12.813Z"
   },
   {
    "duration": 13,
    "start_time": "2024-01-30T17:45:19.695Z"
   },
   {
    "duration": 4,
    "start_time": "2024-01-30T17:45:27.829Z"
   },
   {
    "duration": 13,
    "start_time": "2024-01-30T17:45:30.563Z"
   },
   {
    "duration": 10,
    "start_time": "2024-01-30T17:45:39.211Z"
   },
   {
    "duration": 4,
    "start_time": "2024-01-30T17:45:46.927Z"
   },
   {
    "duration": 10,
    "start_time": "2024-01-30T17:45:51.990Z"
   },
   {
    "duration": 3,
    "start_time": "2024-01-30T17:46:17.471Z"
   },
   {
    "duration": 6,
    "start_time": "2024-01-30T17:46:24.619Z"
   },
   {
    "duration": 12,
    "start_time": "2024-01-30T17:46:41.825Z"
   },
   {
    "duration": 10,
    "start_time": "2024-01-30T17:47:49.906Z"
   },
   {
    "duration": 12,
    "start_time": "2024-01-30T17:55:36.689Z"
   },
   {
    "duration": 8,
    "start_time": "2024-01-30T17:56:50.552Z"
   },
   {
    "duration": 6,
    "start_time": "2024-01-30T17:56:57.767Z"
   },
   {
    "duration": 7,
    "start_time": "2024-01-30T17:56:58.606Z"
   },
   {
    "duration": 10,
    "start_time": "2024-01-30T17:56:58.923Z"
   },
   {
    "duration": 6,
    "start_time": "2024-01-30T17:57:06.205Z"
   },
   {
    "duration": 7,
    "start_time": "2024-01-30T17:57:06.680Z"
   },
   {
    "duration": 10,
    "start_time": "2024-01-30T17:57:07.565Z"
   },
   {
    "duration": 5,
    "start_time": "2024-01-30T17:57:11.483Z"
   },
   {
    "duration": 8,
    "start_time": "2024-01-30T17:57:17.451Z"
   },
   {
    "duration": 11,
    "start_time": "2024-01-30T17:57:18.751Z"
   },
   {
    "duration": 10,
    "start_time": "2024-01-30T17:58:52.564Z"
   },
   {
    "duration": 10,
    "start_time": "2024-01-30T18:00:03.850Z"
   },
   {
    "duration": 10,
    "start_time": "2024-01-30T18:00:58.859Z"
   },
   {
    "duration": 10,
    "start_time": "2024-01-30T18:01:23.147Z"
   },
   {
    "duration": 81,
    "start_time": "2024-01-30T18:01:41.158Z"
   },
   {
    "duration": 94,
    "start_time": "2024-01-30T18:01:45.987Z"
   },
   {
    "duration": 66,
    "start_time": "2024-01-30T18:01:48.334Z"
   },
   {
    "duration": 3672,
    "start_time": "2024-01-30T18:01:51.289Z"
   },
   {
    "duration": 629,
    "start_time": "2024-01-30T18:03:00.633Z"
   },
   {
    "duration": 5,
    "start_time": "2024-01-30T18:04:27.726Z"
   },
   {
    "duration": 6,
    "start_time": "2024-01-30T18:04:31.286Z"
   },
   {
    "duration": 7,
    "start_time": "2024-01-30T18:04:42.297Z"
   },
   {
    "duration": 5,
    "start_time": "2024-01-30T18:04:51.927Z"
   },
   {
    "duration": 5,
    "start_time": "2024-01-30T18:04:59.286Z"
   },
   {
    "duration": 5,
    "start_time": "2024-01-30T18:05:11.740Z"
   },
   {
    "duration": 77,
    "start_time": "2024-02-04T19:13:57.819Z"
   },
   {
    "duration": 39,
    "start_time": "2024-02-04T19:14:47.481Z"
   },
   {
    "duration": 1465,
    "start_time": "2024-02-04T19:15:42.109Z"
   },
   {
    "duration": 73,
    "start_time": "2024-02-04T19:15:43.576Z"
   },
   {
    "duration": 10,
    "start_time": "2024-02-04T19:15:43.651Z"
   },
   {
    "duration": 13,
    "start_time": "2024-02-04T19:15:43.663Z"
   },
   {
    "duration": 20,
    "start_time": "2024-02-04T19:15:43.677Z"
   },
   {
    "duration": 466,
    "start_time": "2024-02-04T19:15:43.699Z"
   },
   {
    "duration": 395,
    "start_time": "2024-02-04T19:15:44.166Z"
   },
   {
    "duration": 7,
    "start_time": "2024-02-04T19:15:44.562Z"
   },
   {
    "duration": 4,
    "start_time": "2024-02-04T19:15:44.571Z"
   },
   {
    "duration": 10,
    "start_time": "2024-02-04T19:15:44.577Z"
   },
   {
    "duration": 8,
    "start_time": "2024-02-04T19:15:44.588Z"
   },
   {
    "duration": 5,
    "start_time": "2024-02-04T19:15:44.597Z"
   },
   {
    "duration": 7,
    "start_time": "2024-02-04T19:15:44.603Z"
   },
   {
    "duration": 55,
    "start_time": "2024-02-04T19:15:44.612Z"
   },
   {
    "duration": 219,
    "start_time": "2024-02-04T19:15:44.670Z"
   },
   {
    "duration": 9,
    "start_time": "2024-02-04T19:16:14.002Z"
   },
   {
    "duration": 10,
    "start_time": "2024-02-04T19:16:20.771Z"
   },
   {
    "duration": 87,
    "start_time": "2024-02-04T19:16:27.807Z"
   },
   {
    "duration": 11,
    "start_time": "2024-02-04T19:17:06.740Z"
   },
   {
    "duration": 4,
    "start_time": "2024-02-04T19:17:55.822Z"
   },
   {
    "duration": 3,
    "start_time": "2024-02-04T19:17:59.230Z"
   },
   {
    "duration": 12,
    "start_time": "2024-02-04T19:17:59.867Z"
   },
   {
    "duration": 6,
    "start_time": "2024-02-04T19:18:25.802Z"
   },
   {
    "duration": 4,
    "start_time": "2024-02-04T19:19:22.406Z"
   },
   {
    "duration": 4,
    "start_time": "2024-02-04T19:19:22.969Z"
   },
   {
    "duration": 12,
    "start_time": "2024-02-04T19:19:23.390Z"
   },
   {
    "duration": 9,
    "start_time": "2024-02-04T19:19:34.824Z"
   },
   {
    "duration": 4,
    "start_time": "2024-02-04T19:24:50.453Z"
   },
   {
    "duration": 5,
    "start_time": "2024-02-04T19:25:33.607Z"
   },
   {
    "duration": 8,
    "start_time": "2024-02-04T19:25:57.880Z"
   },
   {
    "duration": 1304,
    "start_time": "2024-02-04T19:26:04.403Z"
   },
   {
    "duration": 27,
    "start_time": "2024-02-04T19:26:05.709Z"
   },
   {
    "duration": 10,
    "start_time": "2024-02-04T19:26:05.737Z"
   },
   {
    "duration": 14,
    "start_time": "2024-02-04T19:26:05.749Z"
   },
   {
    "duration": 20,
    "start_time": "2024-02-04T19:26:05.765Z"
   },
   {
    "duration": 467,
    "start_time": "2024-02-04T19:26:05.786Z"
   },
   {
    "duration": 360,
    "start_time": "2024-02-04T19:26:06.254Z"
   },
   {
    "duration": 5,
    "start_time": "2024-02-04T19:26:06.615Z"
   },
   {
    "duration": 4,
    "start_time": "2024-02-04T19:26:06.622Z"
   },
   {
    "duration": 7,
    "start_time": "2024-02-04T19:26:06.628Z"
   },
   {
    "duration": 4,
    "start_time": "2024-02-04T19:26:06.636Z"
   },
   {
    "duration": 32,
    "start_time": "2024-02-04T19:26:06.642Z"
   },
   {
    "duration": 9,
    "start_time": "2024-02-04T19:26:06.676Z"
   },
   {
    "duration": 8,
    "start_time": "2024-02-04T19:26:06.686Z"
   },
   {
    "duration": 9,
    "start_time": "2024-02-04T19:26:06.695Z"
   },
   {
    "duration": 19,
    "start_time": "2024-02-04T19:26:06.705Z"
   },
   {
    "duration": 9,
    "start_time": "2024-02-04T19:26:06.725Z"
   },
   {
    "duration": 5,
    "start_time": "2024-02-04T19:26:06.735Z"
   },
   {
    "duration": 18,
    "start_time": "2024-02-04T19:26:06.741Z"
   },
   {
    "duration": 1372,
    "start_time": "2024-02-04T19:27:30.362Z"
   },
   {
    "duration": 28,
    "start_time": "2024-02-04T19:27:31.737Z"
   },
   {
    "duration": 12,
    "start_time": "2024-02-04T19:27:31.766Z"
   },
   {
    "duration": 14,
    "start_time": "2024-02-04T19:27:31.780Z"
   },
   {
    "duration": 23,
    "start_time": "2024-02-04T19:27:31.796Z"
   },
   {
    "duration": 472,
    "start_time": "2024-02-04T19:27:31.820Z"
   },
   {
    "duration": 336,
    "start_time": "2024-02-04T19:27:32.294Z"
   },
   {
    "duration": 4,
    "start_time": "2024-02-04T19:27:32.632Z"
   },
   {
    "duration": 4,
    "start_time": "2024-02-04T19:27:32.637Z"
   },
   {
    "duration": 8,
    "start_time": "2024-02-04T19:27:32.643Z"
   },
   {
    "duration": 13,
    "start_time": "2024-02-04T19:27:32.653Z"
   },
   {
    "duration": 4,
    "start_time": "2024-02-04T19:27:32.667Z"
   },
   {
    "duration": 6,
    "start_time": "2024-02-04T19:27:32.673Z"
   },
   {
    "duration": 8,
    "start_time": "2024-02-04T19:27:32.681Z"
   },
   {
    "duration": 3,
    "start_time": "2024-02-04T19:27:32.691Z"
   },
   {
    "duration": 6,
    "start_time": "2024-02-04T19:27:32.695Z"
   },
   {
    "duration": 9,
    "start_time": "2024-02-04T19:27:32.702Z"
   },
   {
    "duration": 5,
    "start_time": "2024-02-04T19:27:32.712Z"
   },
   {
    "duration": 8,
    "start_time": "2024-02-04T19:27:32.718Z"
   },
   {
    "duration": 3,
    "start_time": "2024-02-04T19:27:32.727Z"
   },
   {
    "duration": 3,
    "start_time": "2024-02-04T19:27:59.279Z"
   },
   {
    "duration": 1347,
    "start_time": "2024-02-04T19:32:01.364Z"
   },
   {
    "duration": 27,
    "start_time": "2024-02-04T19:32:02.713Z"
   },
   {
    "duration": 11,
    "start_time": "2024-02-04T19:32:02.742Z"
   },
   {
    "duration": 12,
    "start_time": "2024-02-04T19:32:02.756Z"
   },
   {
    "duration": 22,
    "start_time": "2024-02-04T19:32:02.770Z"
   },
   {
    "duration": 446,
    "start_time": "2024-02-04T19:32:02.794Z"
   },
   {
    "duration": 373,
    "start_time": "2024-02-04T19:32:03.242Z"
   },
   {
    "duration": 7,
    "start_time": "2024-02-04T19:32:03.616Z"
   },
   {
    "duration": 4,
    "start_time": "2024-02-04T19:32:03.624Z"
   },
   {
    "duration": 12,
    "start_time": "2024-02-04T19:32:03.630Z"
   },
   {
    "duration": 25,
    "start_time": "2024-02-04T19:32:03.644Z"
   },
   {
    "duration": 6,
    "start_time": "2024-02-04T19:32:03.670Z"
   },
   {
    "duration": 9,
    "start_time": "2024-02-04T19:32:03.677Z"
   },
   {
    "duration": 8,
    "start_time": "2024-02-04T19:32:03.687Z"
   },
   {
    "duration": 3,
    "start_time": "2024-02-04T19:32:03.696Z"
   },
   {
    "duration": 3,
    "start_time": "2024-02-04T19:32:03.707Z"
   },
   {
    "duration": 10,
    "start_time": "2024-02-04T19:32:03.712Z"
   },
   {
    "duration": 41,
    "start_time": "2024-02-04T19:32:03.724Z"
   },
   {
    "duration": 9,
    "start_time": "2024-02-04T19:32:03.767Z"
   },
   {
    "duration": 3,
    "start_time": "2024-02-04T19:32:03.777Z"
   },
   {
    "duration": 53,
    "start_time": "2024-02-05T17:16:58.689Z"
   },
   {
    "duration": 1536,
    "start_time": "2024-02-05T17:18:24.256Z"
   },
   {
    "duration": 1385,
    "start_time": "2024-02-05T17:18:30.437Z"
   },
   {
    "duration": 73,
    "start_time": "2024-02-05T17:18:31.824Z"
   },
   {
    "duration": 9,
    "start_time": "2024-02-05T17:18:31.899Z"
   },
   {
    "duration": 12,
    "start_time": "2024-02-05T17:18:31.909Z"
   },
   {
    "duration": 20,
    "start_time": "2024-02-05T17:18:31.923Z"
   },
   {
    "duration": 445,
    "start_time": "2024-02-05T17:18:31.944Z"
   },
   {
    "duration": 334,
    "start_time": "2024-02-05T17:18:32.390Z"
   },
   {
    "duration": 5,
    "start_time": "2024-02-05T17:18:32.725Z"
   },
   {
    "duration": 15,
    "start_time": "2024-02-05T17:18:32.732Z"
   },
   {
    "duration": 26,
    "start_time": "2024-02-05T17:18:32.752Z"
   },
   {
    "duration": 8,
    "start_time": "2024-02-05T17:18:32.779Z"
   },
   {
    "duration": 23,
    "start_time": "2024-02-05T17:18:32.788Z"
   },
   {
    "duration": 37,
    "start_time": "2024-02-05T17:18:32.812Z"
   },
   {
    "duration": 15,
    "start_time": "2024-02-05T17:18:32.852Z"
   },
   {
    "duration": 3,
    "start_time": "2024-02-05T17:18:32.869Z"
   },
   {
    "duration": 14,
    "start_time": "2024-02-05T17:18:32.874Z"
   },
   {
    "duration": 7,
    "start_time": "2024-02-05T17:18:32.891Z"
   },
   {
    "duration": 14,
    "start_time": "2024-02-05T17:18:32.951Z"
   },
   {
    "duration": 86,
    "start_time": "2024-02-05T17:18:32.967Z"
   },
   {
    "duration": 77,
    "start_time": "2024-02-05T17:18:33.055Z"
   },
   {
    "duration": 27,
    "start_time": "2024-02-05T17:18:33.134Z"
   }
  ],
  "kernelspec": {
   "display_name": "Python 3 (ipykernel)",
   "language": "python",
   "name": "python3"
  },
  "language_info": {
   "codemirror_mode": {
    "name": "ipython",
    "version": 3
   },
   "file_extension": ".py",
   "mimetype": "text/x-python",
   "name": "python",
   "nbconvert_exporter": "python",
   "pygments_lexer": "ipython3",
   "version": "3.12.0"
  },
  "toc": {
   "base_numbering": 1,
   "nav_menu": {},
   "number_sections": true,
   "sideBar": true,
   "skip_h1_title": true,
   "title_cell": "Содержание",
   "title_sidebar": "Contents",
   "toc_cell": true,
   "toc_position": {
    "height": "618.182px",
    "left": "130px",
    "top": "148.781px",
    "width": "212px"
   },
   "toc_section_display": true,
   "toc_window_display": true
  }
 },
 "nbformat": 4,
 "nbformat_minor": 4
}
