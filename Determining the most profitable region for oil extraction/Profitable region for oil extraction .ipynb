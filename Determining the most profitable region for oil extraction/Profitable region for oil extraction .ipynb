{
 "cells": [
  {
   "cell_type": "markdown",
   "metadata": {},
   "source": [
    "# Выбор локации для скважины"
   ]
  },
  {
   "cell_type": "markdown",
   "metadata": {},
   "source": [
    "Задача: решить, где бурить новую скважину для добывающей компании.\n",
    "\n",
    "Предоставлены пробы нефти в трёх регионах: в каждом 10 000 месторождений, где измерили качество нефти и объём её запасов. Необходимо посмтроить модель машинного обучения, которая поможет определить регион, где добыча принесёт наибольшую прибыль. И проанализировать возможную прибыль и риски техникой *Bootstrap.*\n",
    "\n",
    "\n",
    "Шаги для выбора локации:\n",
    "\n",
    "- В избранном регионе ищут месторождения, для каждого определяют значения признаков;\n",
    "- Строят модель и оценивают объём запасов;\n",
    "- Выбирают месторождения с самым высокими оценками значений. Количество месторождений зависит от бюджета компании и стоимости разработки одной скважины;\n",
    "- Прибыль равна суммарной прибыли отобранных месторождений."
   ]
  },
  {
   "cell_type": "markdown",
   "metadata": {},
   "source": [
    "## Загрузка и подготовка данных"
   ]
  },
  {
   "cell_type": "markdown",
   "metadata": {},
   "source": [
    "Были получены датасеты по 3 регионам для определения лучшего (прибыльного) с точки зрения разработки в нем скважин. Необходимо будет просмотреть общкю информацию о данных, при необходимости предобработать. Построить модель для предсказания объемов запасов нефти и просчитать наиболее прибыльный регион."
   ]
  },
  {
   "cell_type": "code",
   "execution_count": 1,
   "metadata": {},
   "outputs": [],
   "source": [
    "import pandas as pd\n",
    "import numpy as np\n",
    "import matplotlib.pyplot as plt\n",
    "from sklearn.model_selection import cross_val_score\n",
    "from sklearn.model_selection import train_test_split\n",
    "from sklearn.linear_model import LinearRegression\n",
    "from sklearn.metrics import mean_squared_error\n",
    "from sklearn.preprocessing import StandardScaler\n",
    "\n",
    "RANDOM_STATE = 11111"
   ]
  },
  {
   "cell_type": "code",
   "execution_count": 2,
   "metadata": {},
   "outputs": [],
   "source": [
    "first_region = pd.read_csv('/datasets/geo_data_0.csv')\n",
    "second_region = pd.read_csv('/datasets/geo_data_1.csv')\n",
    "third_region = pd.read_csv('/datasets/geo_data_2.csv')"
   ]
  },
  {
   "cell_type": "code",
   "execution_count": 3,
   "metadata": {},
   "outputs": [
    {
     "data": {
      "text/html": [
       "<div>\n",
       "<style scoped>\n",
       "    .dataframe tbody tr th:only-of-type {\n",
       "        vertical-align: middle;\n",
       "    }\n",
       "\n",
       "    .dataframe tbody tr th {\n",
       "        vertical-align: top;\n",
       "    }\n",
       "\n",
       "    .dataframe thead th {\n",
       "        text-align: right;\n",
       "    }\n",
       "</style>\n",
       "<table border=\"1\" class=\"dataframe\">\n",
       "  <thead>\n",
       "    <tr style=\"text-align: right;\">\n",
       "      <th></th>\n",
       "      <th>id</th>\n",
       "      <th>f0</th>\n",
       "      <th>f1</th>\n",
       "      <th>f2</th>\n",
       "      <th>product</th>\n",
       "    </tr>\n",
       "  </thead>\n",
       "  <tbody>\n",
       "    <tr>\n",
       "      <th>0</th>\n",
       "      <td>txEyH</td>\n",
       "      <td>0.705745</td>\n",
       "      <td>-0.497823</td>\n",
       "      <td>1.221170</td>\n",
       "      <td>105.280062</td>\n",
       "    </tr>\n",
       "    <tr>\n",
       "      <th>1</th>\n",
       "      <td>2acmU</td>\n",
       "      <td>1.334711</td>\n",
       "      <td>-0.340164</td>\n",
       "      <td>4.365080</td>\n",
       "      <td>73.037750</td>\n",
       "    </tr>\n",
       "    <tr>\n",
       "      <th>2</th>\n",
       "      <td>409Wp</td>\n",
       "      <td>1.022732</td>\n",
       "      <td>0.151990</td>\n",
       "      <td>1.419926</td>\n",
       "      <td>85.265647</td>\n",
       "    </tr>\n",
       "    <tr>\n",
       "      <th>3</th>\n",
       "      <td>iJLyR</td>\n",
       "      <td>-0.032172</td>\n",
       "      <td>0.139033</td>\n",
       "      <td>2.978566</td>\n",
       "      <td>168.620776</td>\n",
       "    </tr>\n",
       "    <tr>\n",
       "      <th>4</th>\n",
       "      <td>Xdl7t</td>\n",
       "      <td>1.988431</td>\n",
       "      <td>0.155413</td>\n",
       "      <td>4.751769</td>\n",
       "      <td>154.036647</td>\n",
       "    </tr>\n",
       "  </tbody>\n",
       "</table>\n",
       "</div>"
      ],
      "text/plain": [
       "      id        f0        f1        f2     product\n",
       "0  txEyH  0.705745 -0.497823  1.221170  105.280062\n",
       "1  2acmU  1.334711 -0.340164  4.365080   73.037750\n",
       "2  409Wp  1.022732  0.151990  1.419926   85.265647\n",
       "3  iJLyR -0.032172  0.139033  2.978566  168.620776\n",
       "4  Xdl7t  1.988431  0.155413  4.751769  154.036647"
      ]
     },
     "execution_count": 3,
     "metadata": {},
     "output_type": "execute_result"
    }
   ],
   "source": [
    "first_region.head()"
   ]
  },
  {
   "cell_type": "code",
   "execution_count": 4,
   "metadata": {
    "scrolled": true
   },
   "outputs": [
    {
     "data": {
      "text/html": [
       "<div>\n",
       "<style scoped>\n",
       "    .dataframe tbody tr th:only-of-type {\n",
       "        vertical-align: middle;\n",
       "    }\n",
       "\n",
       "    .dataframe tbody tr th {\n",
       "        vertical-align: top;\n",
       "    }\n",
       "\n",
       "    .dataframe thead th {\n",
       "        text-align: right;\n",
       "    }\n",
       "</style>\n",
       "<table border=\"1\" class=\"dataframe\">\n",
       "  <thead>\n",
       "    <tr style=\"text-align: right;\">\n",
       "      <th></th>\n",
       "      <th>f0</th>\n",
       "      <th>f1</th>\n",
       "      <th>f2</th>\n",
       "      <th>product</th>\n",
       "    </tr>\n",
       "  </thead>\n",
       "  <tbody>\n",
       "    <tr>\n",
       "      <th>count</th>\n",
       "      <td>100000.000000</td>\n",
       "      <td>100000.000000</td>\n",
       "      <td>100000.000000</td>\n",
       "      <td>100000.000000</td>\n",
       "    </tr>\n",
       "    <tr>\n",
       "      <th>mean</th>\n",
       "      <td>0.500419</td>\n",
       "      <td>0.250143</td>\n",
       "      <td>2.502647</td>\n",
       "      <td>92.500000</td>\n",
       "    </tr>\n",
       "    <tr>\n",
       "      <th>std</th>\n",
       "      <td>0.871832</td>\n",
       "      <td>0.504433</td>\n",
       "      <td>3.248248</td>\n",
       "      <td>44.288691</td>\n",
       "    </tr>\n",
       "    <tr>\n",
       "      <th>min</th>\n",
       "      <td>-1.408605</td>\n",
       "      <td>-0.848218</td>\n",
       "      <td>-12.088328</td>\n",
       "      <td>0.000000</td>\n",
       "    </tr>\n",
       "    <tr>\n",
       "      <th>25%</th>\n",
       "      <td>-0.072580</td>\n",
       "      <td>-0.200881</td>\n",
       "      <td>0.287748</td>\n",
       "      <td>56.497507</td>\n",
       "    </tr>\n",
       "    <tr>\n",
       "      <th>50%</th>\n",
       "      <td>0.502360</td>\n",
       "      <td>0.250252</td>\n",
       "      <td>2.515969</td>\n",
       "      <td>91.849972</td>\n",
       "    </tr>\n",
       "    <tr>\n",
       "      <th>75%</th>\n",
       "      <td>1.073581</td>\n",
       "      <td>0.700646</td>\n",
       "      <td>4.715088</td>\n",
       "      <td>128.564089</td>\n",
       "    </tr>\n",
       "    <tr>\n",
       "      <th>max</th>\n",
       "      <td>2.362331</td>\n",
       "      <td>1.343769</td>\n",
       "      <td>16.003790</td>\n",
       "      <td>185.364347</td>\n",
       "    </tr>\n",
       "  </tbody>\n",
       "</table>\n",
       "</div>"
      ],
      "text/plain": [
       "                  f0             f1             f2        product\n",
       "count  100000.000000  100000.000000  100000.000000  100000.000000\n",
       "mean        0.500419       0.250143       2.502647      92.500000\n",
       "std         0.871832       0.504433       3.248248      44.288691\n",
       "min        -1.408605      -0.848218     -12.088328       0.000000\n",
       "25%        -0.072580      -0.200881       0.287748      56.497507\n",
       "50%         0.502360       0.250252       2.515969      91.849972\n",
       "75%         1.073581       0.700646       4.715088     128.564089\n",
       "max         2.362331       1.343769      16.003790     185.364347"
      ]
     },
     "execution_count": 4,
     "metadata": {},
     "output_type": "execute_result"
    }
   ],
   "source": [
    "first_region.describe()"
   ]
  },
  {
   "cell_type": "code",
   "execution_count": 5,
   "metadata": {},
   "outputs": [
    {
     "data": {
      "text/html": [
       "<div>\n",
       "<style scoped>\n",
       "    .dataframe tbody tr th:only-of-type {\n",
       "        vertical-align: middle;\n",
       "    }\n",
       "\n",
       "    .dataframe tbody tr th {\n",
       "        vertical-align: top;\n",
       "    }\n",
       "\n",
       "    .dataframe thead th {\n",
       "        text-align: right;\n",
       "    }\n",
       "</style>\n",
       "<table border=\"1\" class=\"dataframe\">\n",
       "  <thead>\n",
       "    <tr style=\"text-align: right;\">\n",
       "      <th></th>\n",
       "      <th>id</th>\n",
       "      <th>f0</th>\n",
       "      <th>f1</th>\n",
       "      <th>f2</th>\n",
       "      <th>product</th>\n",
       "    </tr>\n",
       "  </thead>\n",
       "  <tbody>\n",
       "    <tr>\n",
       "      <th>0</th>\n",
       "      <td>kBEdx</td>\n",
       "      <td>-15.001348</td>\n",
       "      <td>-8.276000</td>\n",
       "      <td>-0.005876</td>\n",
       "      <td>3.179103</td>\n",
       "    </tr>\n",
       "    <tr>\n",
       "      <th>1</th>\n",
       "      <td>62mP7</td>\n",
       "      <td>14.272088</td>\n",
       "      <td>-3.475083</td>\n",
       "      <td>0.999183</td>\n",
       "      <td>26.953261</td>\n",
       "    </tr>\n",
       "    <tr>\n",
       "      <th>2</th>\n",
       "      <td>vyE1P</td>\n",
       "      <td>6.263187</td>\n",
       "      <td>-5.948386</td>\n",
       "      <td>5.001160</td>\n",
       "      <td>134.766305</td>\n",
       "    </tr>\n",
       "    <tr>\n",
       "      <th>3</th>\n",
       "      <td>KcrkZ</td>\n",
       "      <td>-13.081196</td>\n",
       "      <td>-11.506057</td>\n",
       "      <td>4.999415</td>\n",
       "      <td>137.945408</td>\n",
       "    </tr>\n",
       "    <tr>\n",
       "      <th>4</th>\n",
       "      <td>AHL4O</td>\n",
       "      <td>12.702195</td>\n",
       "      <td>-8.147433</td>\n",
       "      <td>5.004363</td>\n",
       "      <td>134.766305</td>\n",
       "    </tr>\n",
       "  </tbody>\n",
       "</table>\n",
       "</div>"
      ],
      "text/plain": [
       "      id         f0         f1        f2     product\n",
       "0  kBEdx -15.001348  -8.276000 -0.005876    3.179103\n",
       "1  62mP7  14.272088  -3.475083  0.999183   26.953261\n",
       "2  vyE1P   6.263187  -5.948386  5.001160  134.766305\n",
       "3  KcrkZ -13.081196 -11.506057  4.999415  137.945408\n",
       "4  AHL4O  12.702195  -8.147433  5.004363  134.766305"
      ]
     },
     "execution_count": 5,
     "metadata": {},
     "output_type": "execute_result"
    }
   ],
   "source": [
    "second_region.head()"
   ]
  },
  {
   "cell_type": "code",
   "execution_count": 6,
   "metadata": {
    "scrolled": true
   },
   "outputs": [
    {
     "data": {
      "text/html": [
       "<div>\n",
       "<style scoped>\n",
       "    .dataframe tbody tr th:only-of-type {\n",
       "        vertical-align: middle;\n",
       "    }\n",
       "\n",
       "    .dataframe tbody tr th {\n",
       "        vertical-align: top;\n",
       "    }\n",
       "\n",
       "    .dataframe thead th {\n",
       "        text-align: right;\n",
       "    }\n",
       "</style>\n",
       "<table border=\"1\" class=\"dataframe\">\n",
       "  <thead>\n",
       "    <tr style=\"text-align: right;\">\n",
       "      <th></th>\n",
       "      <th>f0</th>\n",
       "      <th>f1</th>\n",
       "      <th>f2</th>\n",
       "      <th>product</th>\n",
       "    </tr>\n",
       "  </thead>\n",
       "  <tbody>\n",
       "    <tr>\n",
       "      <th>count</th>\n",
       "      <td>100000.000000</td>\n",
       "      <td>100000.000000</td>\n",
       "      <td>100000.000000</td>\n",
       "      <td>100000.000000</td>\n",
       "    </tr>\n",
       "    <tr>\n",
       "      <th>mean</th>\n",
       "      <td>1.141296</td>\n",
       "      <td>-4.796579</td>\n",
       "      <td>2.494541</td>\n",
       "      <td>68.825000</td>\n",
       "    </tr>\n",
       "    <tr>\n",
       "      <th>std</th>\n",
       "      <td>8.965932</td>\n",
       "      <td>5.119872</td>\n",
       "      <td>1.703572</td>\n",
       "      <td>45.944423</td>\n",
       "    </tr>\n",
       "    <tr>\n",
       "      <th>min</th>\n",
       "      <td>-31.609576</td>\n",
       "      <td>-26.358598</td>\n",
       "      <td>-0.018144</td>\n",
       "      <td>0.000000</td>\n",
       "    </tr>\n",
       "    <tr>\n",
       "      <th>25%</th>\n",
       "      <td>-6.298551</td>\n",
       "      <td>-8.267985</td>\n",
       "      <td>1.000021</td>\n",
       "      <td>26.953261</td>\n",
       "    </tr>\n",
       "    <tr>\n",
       "      <th>50%</th>\n",
       "      <td>1.153055</td>\n",
       "      <td>-4.813172</td>\n",
       "      <td>2.011479</td>\n",
       "      <td>57.085625</td>\n",
       "    </tr>\n",
       "    <tr>\n",
       "      <th>75%</th>\n",
       "      <td>8.621015</td>\n",
       "      <td>-1.332816</td>\n",
       "      <td>3.999904</td>\n",
       "      <td>107.813044</td>\n",
       "    </tr>\n",
       "    <tr>\n",
       "      <th>max</th>\n",
       "      <td>29.421755</td>\n",
       "      <td>18.734063</td>\n",
       "      <td>5.019721</td>\n",
       "      <td>137.945408</td>\n",
       "    </tr>\n",
       "  </tbody>\n",
       "</table>\n",
       "</div>"
      ],
      "text/plain": [
       "                  f0             f1             f2        product\n",
       "count  100000.000000  100000.000000  100000.000000  100000.000000\n",
       "mean        1.141296      -4.796579       2.494541      68.825000\n",
       "std         8.965932       5.119872       1.703572      45.944423\n",
       "min       -31.609576     -26.358598      -0.018144       0.000000\n",
       "25%        -6.298551      -8.267985       1.000021      26.953261\n",
       "50%         1.153055      -4.813172       2.011479      57.085625\n",
       "75%         8.621015      -1.332816       3.999904     107.813044\n",
       "max        29.421755      18.734063       5.019721     137.945408"
      ]
     },
     "execution_count": 6,
     "metadata": {},
     "output_type": "execute_result"
    }
   ],
   "source": [
    "second_region.describe()"
   ]
  },
  {
   "cell_type": "code",
   "execution_count": 7,
   "metadata": {},
   "outputs": [
    {
     "data": {
      "text/html": [
       "<div>\n",
       "<style scoped>\n",
       "    .dataframe tbody tr th:only-of-type {\n",
       "        vertical-align: middle;\n",
       "    }\n",
       "\n",
       "    .dataframe tbody tr th {\n",
       "        vertical-align: top;\n",
       "    }\n",
       "\n",
       "    .dataframe thead th {\n",
       "        text-align: right;\n",
       "    }\n",
       "</style>\n",
       "<table border=\"1\" class=\"dataframe\">\n",
       "  <thead>\n",
       "    <tr style=\"text-align: right;\">\n",
       "      <th></th>\n",
       "      <th>id</th>\n",
       "      <th>f0</th>\n",
       "      <th>f1</th>\n",
       "      <th>f2</th>\n",
       "      <th>product</th>\n",
       "    </tr>\n",
       "  </thead>\n",
       "  <tbody>\n",
       "    <tr>\n",
       "      <th>0</th>\n",
       "      <td>fwXo0</td>\n",
       "      <td>-1.146987</td>\n",
       "      <td>0.963328</td>\n",
       "      <td>-0.828965</td>\n",
       "      <td>27.758673</td>\n",
       "    </tr>\n",
       "    <tr>\n",
       "      <th>1</th>\n",
       "      <td>WJtFt</td>\n",
       "      <td>0.262778</td>\n",
       "      <td>0.269839</td>\n",
       "      <td>-2.530187</td>\n",
       "      <td>56.069697</td>\n",
       "    </tr>\n",
       "    <tr>\n",
       "      <th>2</th>\n",
       "      <td>ovLUW</td>\n",
       "      <td>0.194587</td>\n",
       "      <td>0.289035</td>\n",
       "      <td>-5.586433</td>\n",
       "      <td>62.871910</td>\n",
       "    </tr>\n",
       "    <tr>\n",
       "      <th>3</th>\n",
       "      <td>q6cA6</td>\n",
       "      <td>2.236060</td>\n",
       "      <td>-0.553760</td>\n",
       "      <td>0.930038</td>\n",
       "      <td>114.572842</td>\n",
       "    </tr>\n",
       "    <tr>\n",
       "      <th>4</th>\n",
       "      <td>WPMUX</td>\n",
       "      <td>-0.515993</td>\n",
       "      <td>1.716266</td>\n",
       "      <td>5.899011</td>\n",
       "      <td>149.600746</td>\n",
       "    </tr>\n",
       "  </tbody>\n",
       "</table>\n",
       "</div>"
      ],
      "text/plain": [
       "      id        f0        f1        f2     product\n",
       "0  fwXo0 -1.146987  0.963328 -0.828965   27.758673\n",
       "1  WJtFt  0.262778  0.269839 -2.530187   56.069697\n",
       "2  ovLUW  0.194587  0.289035 -5.586433   62.871910\n",
       "3  q6cA6  2.236060 -0.553760  0.930038  114.572842\n",
       "4  WPMUX -0.515993  1.716266  5.899011  149.600746"
      ]
     },
     "execution_count": 7,
     "metadata": {},
     "output_type": "execute_result"
    }
   ],
   "source": [
    "third_region.head()"
   ]
  },
  {
   "cell_type": "code",
   "execution_count": 8,
   "metadata": {
    "scrolled": true
   },
   "outputs": [
    {
     "data": {
      "text/html": [
       "<div>\n",
       "<style scoped>\n",
       "    .dataframe tbody tr th:only-of-type {\n",
       "        vertical-align: middle;\n",
       "    }\n",
       "\n",
       "    .dataframe tbody tr th {\n",
       "        vertical-align: top;\n",
       "    }\n",
       "\n",
       "    .dataframe thead th {\n",
       "        text-align: right;\n",
       "    }\n",
       "</style>\n",
       "<table border=\"1\" class=\"dataframe\">\n",
       "  <thead>\n",
       "    <tr style=\"text-align: right;\">\n",
       "      <th></th>\n",
       "      <th>f0</th>\n",
       "      <th>f1</th>\n",
       "      <th>f2</th>\n",
       "      <th>product</th>\n",
       "    </tr>\n",
       "  </thead>\n",
       "  <tbody>\n",
       "    <tr>\n",
       "      <th>count</th>\n",
       "      <td>100000.000000</td>\n",
       "      <td>100000.000000</td>\n",
       "      <td>100000.000000</td>\n",
       "      <td>100000.000000</td>\n",
       "    </tr>\n",
       "    <tr>\n",
       "      <th>mean</th>\n",
       "      <td>0.002023</td>\n",
       "      <td>-0.002081</td>\n",
       "      <td>2.495128</td>\n",
       "      <td>95.000000</td>\n",
       "    </tr>\n",
       "    <tr>\n",
       "      <th>std</th>\n",
       "      <td>1.732045</td>\n",
       "      <td>1.730417</td>\n",
       "      <td>3.473445</td>\n",
       "      <td>44.749921</td>\n",
       "    </tr>\n",
       "    <tr>\n",
       "      <th>min</th>\n",
       "      <td>-8.760004</td>\n",
       "      <td>-7.084020</td>\n",
       "      <td>-11.970335</td>\n",
       "      <td>0.000000</td>\n",
       "    </tr>\n",
       "    <tr>\n",
       "      <th>25%</th>\n",
       "      <td>-1.162288</td>\n",
       "      <td>-1.174820</td>\n",
       "      <td>0.130359</td>\n",
       "      <td>59.450441</td>\n",
       "    </tr>\n",
       "    <tr>\n",
       "      <th>50%</th>\n",
       "      <td>0.009424</td>\n",
       "      <td>-0.009482</td>\n",
       "      <td>2.484236</td>\n",
       "      <td>94.925613</td>\n",
       "    </tr>\n",
       "    <tr>\n",
       "      <th>75%</th>\n",
       "      <td>1.158535</td>\n",
       "      <td>1.163678</td>\n",
       "      <td>4.858794</td>\n",
       "      <td>130.595027</td>\n",
       "    </tr>\n",
       "    <tr>\n",
       "      <th>max</th>\n",
       "      <td>7.238262</td>\n",
       "      <td>7.844801</td>\n",
       "      <td>16.739402</td>\n",
       "      <td>190.029838</td>\n",
       "    </tr>\n",
       "  </tbody>\n",
       "</table>\n",
       "</div>"
      ],
      "text/plain": [
       "                  f0             f1             f2        product\n",
       "count  100000.000000  100000.000000  100000.000000  100000.000000\n",
       "mean        0.002023      -0.002081       2.495128      95.000000\n",
       "std         1.732045       1.730417       3.473445      44.749921\n",
       "min        -8.760004      -7.084020     -11.970335       0.000000\n",
       "25%        -1.162288      -1.174820       0.130359      59.450441\n",
       "50%         0.009424      -0.009482       2.484236      94.925613\n",
       "75%         1.158535       1.163678       4.858794     130.595027\n",
       "max         7.238262       7.844801      16.739402     190.029838"
      ]
     },
     "execution_count": 8,
     "metadata": {},
     "output_type": "execute_result"
    }
   ],
   "source": [
    "third_region.describe()"
   ]
  },
  {
   "cell_type": "code",
   "execution_count": 9,
   "metadata": {
    "scrolled": true
   },
   "outputs": [
    {
     "data": {
      "image/png": "[encoded data removed]",
      "text/plain": [
       "<Figure size 432x288 with 1 Axes>"
      ]
     },
     "metadata": {
      "needs_background": "light"
     },
     "output_type": "display_data"
    }
   ],
   "source": [
    "first_region['product'].hist()\n",
    "plt.xlabel(\"Объем нефти на скважину, тыс. барелей\")\n",
    "plt.ylabel(\"Количество скважин\")\n",
    "plt.title(\"Распределение по объему скважин\")\n",
    "plt.show()"
   ]
  },
  {
   "cell_type": "code",
   "execution_count": 10,
   "metadata": {
    "scrolled": false
   },
   "outputs": [
    {
     "data": {
      "image/png": "[encoded data removed]",
      "text/plain": [
       "<Figure size 432x288 with 1 Axes>"
      ]
     },
     "metadata": {
      "needs_background": "light"
     },
     "output_type": "display_data"
    }
   ],
   "source": [
    "second_region['product'].hist(bins=6)\n",
    "plt.xlabel(\"Объем нефти на скважину, тыс. барелей\")\n",
    "plt.ylabel(\"Количество скважин\")\n",
    "plt.title(\"Распределение по объему скважин\")\n",
    "plt.show()"
   ]
  },
  {
   "cell_type": "code",
   "execution_count": 11,
   "metadata": {},
   "outputs": [
    {
     "data": {
      "image/png": "[encoded data removed]",
      "text/plain": [
       "<Figure size 432x288 with 1 Axes>"
      ]
     },
     "metadata": {
      "needs_background": "light"
     },
     "output_type": "display_data"
    }
   ],
   "source": [
    "third_region['product'].hist()\n",
    "plt.xlabel(\"Объем нефти на скважину, тыс. барелей\")\n",
    "plt.ylabel(\"Количество скважин\")\n",
    "plt.title(\"Распределение по объему скважин\")\n",
    "plt.show()"
   ]
  },
  {
   "cell_type": "markdown",
   "metadata": {},
   "source": [
    "Первый и третий регионы похожи в части распределения объемов нефти- они распределены нормально. Второй регион отличается- в нем все данные распределены равномерно ( в том числе и нулевых значений тоже около 8тыс)"
   ]
  },
  {
   "cell_type": "markdown",
   "metadata": {},
   "source": [
    "## Обучение и проверка модели"
   ]
  },
  {
   "cell_type": "markdown",
   "metadata": {},
   "source": [
    "Так как получать предсказания модели нужно по трем регионам: напишем функцию по разделению выборок. Затем обучим модель на неподготовленных данных, проверим метрикой. Далее масштабируем данные и проверим функцию еще раз"
   ]
  },
  {
   "cell_type": "code",
   "execution_count": 12,
   "metadata": {},
   "outputs": [],
   "source": [
    "def data_split(data):\n",
    "    features = data[['f0', 'f1', 'f2']]\n",
    "    target = data['product']\n",
    "    features_train, features_valid, target_train, target_valid = train_test_split(\n",
    "        features, target, test_size=0.25, random_state=RANDOM_STATE)\n",
    "    \n",
    "    return features_train, features_valid, target_train, target_valid"
   ]
  },
  {
   "cell_type": "code",
   "execution_count": 13,
   "metadata": {},
   "outputs": [],
   "source": [
    "features_train_1, features_valid_1, target_train_1, target_valid_1 = data_split(first_region)"
   ]
  },
  {
   "cell_type": "code",
   "execution_count": 14,
   "metadata": {},
   "outputs": [
    {
     "data": {
      "text/plain": [
       "(75000, 3)"
      ]
     },
     "execution_count": 14,
     "metadata": {},
     "output_type": "execute_result"
    }
   ],
   "source": [
    "features_train_1.shape"
   ]
  },
  {
   "cell_type": "code",
   "execution_count": 15,
   "metadata": {},
   "outputs": [
    {
     "data": {
      "text/plain": [
       "(25000, 3)"
      ]
     },
     "execution_count": 15,
     "metadata": {},
     "output_type": "execute_result"
    }
   ],
   "source": [
    "features_valid_1.shape"
   ]
  },
  {
   "cell_type": "code",
   "execution_count": 16,
   "metadata": {},
   "outputs": [
    {
     "name": "stdout",
     "output_type": "stream",
     "text": [
      "RMSE 1 региона = 37.80134678944078\n"
     ]
    }
   ],
   "source": [
    "model_1 = LinearRegression()\n",
    "model_1.fit(features_train_1, target_train_1)\n",
    "model_1_predict = model_1.predict(features_valid_1)\n",
    "rmse_1 = mean_squared_error(target_valid_1, model_1_predict)**0.5\n",
    "print('RMSE 1 региона =', rmse_1)"
   ]
  },
  {
   "cell_type": "markdown",
   "metadata": {},
   "source": [
    "RMSE 1 региона = 37.80134678944078"
   ]
  },
  {
   "cell_type": "raw",
   "metadata": {},
   "source": [
    "scaler = StandardScaler()\n",
    "scaler.fit(features_train_1)\n",
    "features_train_scal_1 = scaler.transform(features_train_1)\n",
    "features_valid_scal_1 = scaler.transform(features_valid_1)\n",
    "model_1 = LinearRegression()\n",
    "model_1.fit(features_train_scal_1, target_train_1)\n",
    "model_1_predict = model_1.predict(features_valid_scal_1)\n",
    "rmse_1 = mean_squared_error(target_valid_1, model_1_predict)**0.5\n",
    "print('RMSE 1 региона =', rmse_1)"
   ]
  },
  {
   "cell_type": "markdown",
   "metadata": {},
   "source": [
    "При масштабировании показатель rmse не изменился"
   ]
  },
  {
   "cell_type": "markdown",
   "metadata": {},
   "source": [
    "Посмотрим на 2 регион"
   ]
  },
  {
   "cell_type": "code",
   "execution_count": 17,
   "metadata": {},
   "outputs": [],
   "source": [
    "features_train_2, features_valid_2, target_train_2, target_valid_2 = data_split(second_region)"
   ]
  },
  {
   "cell_type": "markdown",
   "metadata": {},
   "source": [
    "Без масштабирования:"
   ]
  },
  {
   "cell_type": "code",
   "execution_count": 18,
   "metadata": {},
   "outputs": [
    {
     "name": "stdout",
     "output_type": "stream",
     "text": [
      "RMSE 2 региона без масштабирования = 0.8928812144337774\n"
     ]
    }
   ],
   "source": [
    "model_2 = LinearRegression()\n",
    "model_2.fit(features_train_2, target_train_2)\n",
    "model_2_predict = model_2.predict(features_valid_2)\n",
    "rmse_2 = mean_squared_error(target_valid_2, model_2_predict)**0.5\n",
    "print('RMSE 2 региона без масштабирования =', rmse_2)"
   ]
  },
  {
   "cell_type": "markdown",
   "metadata": {},
   "source": [
    "RMSE 2 региона = 0.8928812144337774\n"
   ]
  },
  {
   "cell_type": "raw",
   "metadata": {},
   "source": [
    "scaler = StandardScaler()\n",
    "scaler.fit(features_train_2)\n",
    "features_train_scal = scaler.transform(features_train_2)\n",
    "features_valid_scal = scaler.transform(features_valid_2)\n",
    "model_2 = LinearRegression()\n",
    "model_2.fit(features_train_scal, target_train_2)\n",
    "model_2_predict = model_2.predict(features_valid_scal)\n",
    "rmse_2 = mean_squared_error(target_valid_2, model_2_predict)**0.5\n",
    "print('RMSE 2 региона с масштабированием =', rmse_2)"
   ]
  },
  {
   "cell_type": "markdown",
   "metadata": {},
   "source": [
    "Так же масштабирование никак не повлияло"
   ]
  },
  {
   "cell_type": "markdown",
   "metadata": {},
   "source": [
    "И очень хороший показатель rmse, а данные у нас во втором регионе были распределены равномерно."
   ]
  },
  {
   "cell_type": "markdown",
   "metadata": {},
   "source": [
    "Посмотрим на оставшийся 3 регион"
   ]
  },
  {
   "cell_type": "code",
   "execution_count": 19,
   "metadata": {},
   "outputs": [],
   "source": [
    "features_train_3, features_valid_3, target_train_3, target_valid_3 = data_split(third_region)"
   ]
  },
  {
   "cell_type": "code",
   "execution_count": 20,
   "metadata": {},
   "outputs": [
    {
     "name": "stdout",
     "output_type": "stream",
     "text": [
      "RMSE 3 региона без масштабирования = 40.2343226993647\n"
     ]
    }
   ],
   "source": [
    "model_3 = LinearRegression()\n",
    "model_3.fit(features_train_3, target_train_3)\n",
    "model_3_predict = model_3.predict(features_valid_3)\n",
    "rmse_3 = mean_squared_error(target_valid_3, model_3_predict)**0.5\n",
    "print('RMSE 3 региона без масштабирования =', rmse_3)"
   ]
  },
  {
   "cell_type": "raw",
   "metadata": {},
   "source": [
    "scaler = StandardScaler()\n",
    "scaler.fit(features_train_3)\n",
    "features_train_scal = scaler.transform(features_train_3)\n",
    "features_valid_scal = scaler.transform(features_valid_3)\n",
    "model_3 = LinearRegression()\n",
    "model_3.fit(features_train_scal, target_train_3)\n",
    "model_3_predict = model_3.predict(features_valid_scal)\n",
    "rmse_3 = mean_squared_error(target_valid_3, model_3_predict)**0.5\n",
    "print('RMSE 3 региона с масштабированием =', rmse_3)"
   ]
  },
  {
   "cell_type": "markdown",
   "metadata": {},
   "source": [
    "Так же масштабирование не дало результатов."
   ]
  },
  {
   "cell_type": "markdown",
   "metadata": {},
   "source": [
    "Объединю объем реального объема нефти в точке с предсказанным для удобства"
   ]
  },
  {
   "cell_type": "code",
   "execution_count": 21,
   "metadata": {},
   "outputs": [],
   "source": [
    "data_first = {'real_product': target_valid_1, 'predicted_product': model_1_predict}\n",
    "df_first = pd.DataFrame(data_first)"
   ]
  },
  {
   "cell_type": "code",
   "execution_count": 22,
   "metadata": {},
   "outputs": [],
   "source": [
    "data_second = {'real_product': target_valid_2, 'predicted_product': model_2_predict}\n",
    "df_second = pd.DataFrame(data_second)"
   ]
  },
  {
   "cell_type": "code",
   "execution_count": 23,
   "metadata": {},
   "outputs": [],
   "source": [
    "data_third = {'real_product': target_valid_3, 'predicted_product': model_3_predict}\n",
    "df_third = pd.DataFrame(data_third)"
   ]
  },
  {
   "cell_type": "code",
   "execution_count": 24,
   "metadata": {
    "scrolled": true
   },
   "outputs": [
    {
     "name": "stdout",
     "output_type": "stream",
     "text": [
      "Средний объем нефти в первом регионе: 92.5\n",
      "Предсказанный средний объем нефти в первом регионе: 92.60219\n",
      "RMSE 3 региона = 37.80134678944078\n"
     ]
    }
   ],
   "source": [
    "# сохраню значения в константы, чтобы при дальнейших подсчетах не рассчитывать заново\n",
    "first_region_product_mean = first_region[\"product\"].mean().round(5)\n",
    "first_region_product_predict = model_1_predict.mean().round(5)\n",
    "\n",
    "print(f'Средний объем нефти в первом регионе: {first_region_product_mean}')\n",
    "print(f'Предсказанный средний объем нефти в первом регионе: {first_region_product_predict}')\n",
    "print('RMSE 3 региона =', rmse_1)"
   ]
  },
  {
   "cell_type": "code",
   "execution_count": 25,
   "metadata": {
    "scrolled": true
   },
   "outputs": [
    {
     "name": "stdout",
     "output_type": "stream",
     "text": [
      "Средний объем нефти во втором регионе: 68.825\n",
      "Предсказанный средний объем нефти во втором регионе: 69.42023\n",
      "RMSE 3 региона = 0.8928812144337774\n"
     ]
    }
   ],
   "source": [
    "second_region_product_mean = second_region[\"product\"].mean().round(5)\n",
    "second_region_product_predict = model_2_predict.mean().round(5)\n",
    "\n",
    "print(f'Средний объем нефти во втором регионе: {second_region_product_mean}')\n",
    "print(f'Предсказанный средний объем нефти во втором регионе: {second_region_product_predict}')\n",
    "print('RMSE 3 региона =', rmse_2)"
   ]
  },
  {
   "cell_type": "code",
   "execution_count": 26,
   "metadata": {},
   "outputs": [
    {
     "name": "stdout",
     "output_type": "stream",
     "text": [
      "Средний объем нефти в третьем регионе: 95.0\n",
      "Предсказанный средний объем нефти в третьем регионе: 94.93496\n",
      "RMSE 3 региона = 40.2343226993647\n"
     ]
    }
   ],
   "source": [
    "third_region_product_mean = third_region[\"product\"].mean().round(5)\n",
    "third_region_product_predict = model_3_predict.mean().round(5)\n",
    "\n",
    "print(f'Средний объем нефти в третьем регионе: {third_region_product_mean}')\n",
    "print(f'Предсказанный средний объем нефти в третьем регионе: {third_region_product_predict}')\n",
    "print('RMSE 3 региона =', rmse_3)"
   ]
  },
  {
   "cell_type": "markdown",
   "metadata": {},
   "source": [
    "### Вывод:\n",
    "Лучшая метрика rmse у 2 региона (0.89), далее первый (37.8) и третий (40.2)\n",
    "Средний объем нефти и предсказанный средний объем во всех трех регионах практически равны. Но так как в 1 и 3 регионах средняя квадратичная ошибка выше- значит, предсказания там имеют больший разброс.\n",
    "\n"
   ]
  },
  {
   "cell_type": "markdown",
   "metadata": {},
   "source": [
    "## Подготовка к расчёту прибыли"
   ]
  },
  {
   "cell_type": "markdown",
   "metadata": {},
   "source": [
    "Рассчитаем достаточный объём сырья для безубыточной разработки новой скважины и сравним полученный объём сырья со средним запасом в каждом регионе. "
   ]
  },
  {
   "cell_type": "code",
   "execution_count": 27,
   "metadata": {},
   "outputs": [],
   "source": [
    "BUDGET = 10**7 # бюджет на разработку скважин (в тыс. руб.)\n",
    "REGION_POINTS = 500 # количество точек, исследуемых при разведке\n",
    "BEST_POINTS = 200 # количество лучших точек\n",
    "PRICE_1_BARREL = 450 # доход с 1 баррели нефти"
   ]
  },
  {
   "cell_type": "code",
   "execution_count": 28,
   "metadata": {
    "scrolled": false
   },
   "outputs": [
    {
     "name": "stdout",
     "output_type": "stream",
     "text": [
      "Для безубыточной разработки скважин в регионе:\n",
      "Необходимая средняя прибыль на точку - 50000.0 тыс. руб.\n",
      "Необходимый средний запас нефти на точку - 111.111 тыс. баррелей\n",
      "Необходимый средний запас нефти на регион - 22222.222 тыс. баррелей\n"
     ]
    }
   ],
   "source": [
    "print('Для безубыточной разработки скважин в регионе:')\n",
    "mean_profit_per_point = (BUDGET / BEST_POINTS)\n",
    "print(f'Необходимая средняя прибыль на точку - {mean_profit_per_point} тыс. руб.')\n",
    "\n",
    "mean_barrels_per_point = mean_profit_per_point  / PRICE_1_BARREL\n",
    "print(f'Необходимый средний запас нефти на точку - {round(mean_barrels_per_point, 3)} тыс. баррелей')\n",
    "\n",
    "mean_barrels_reg = BUDGET / PRICE_1_BARREL\n",
    "print(f'Необходимый средний запас нефти на регион - {round(mean_barrels_reg, 3)} тыс. баррелей')"
   ]
  },
  {
   "cell_type": "markdown",
   "metadata": {},
   "source": [
    "Далее напишем функцию по выбору лучших точек и подсчету прибыли по ним"
   ]
  },
  {
   "cell_type": "code",
   "execution_count": 29,
   "metadata": {},
   "outputs": [],
   "source": [
    "def oil_profit_calc(target, probs, count):\n",
    "    probs_sorted = probs.sort_values(ascending=False)\n",
    "    target_sort = target[probs_sorted.index][:count]\n",
    "    return (PRICE_1_BARREL * target_sort.sum() - BUDGET), target_sort.mean()"
   ]
  },
  {
   "cell_type": "markdown",
   "metadata": {},
   "source": [
    "## Расчёт прибыли и рисков "
   ]
  },
  {
   "cell_type": "markdown",
   "metadata": {},
   "source": [
    "Напишем функцию для бутстрепа по расчету прибыльности региона и среднему количеству запасов нефти в точках:"
   ]
  },
  {
   "cell_type": "code",
   "execution_count": 30,
   "metadata": {},
   "outputs": [],
   "source": [
    "state = np.random.RandomState(RANDOM_STATE)\n",
    "def bootstrap(target, probs):\n",
    "    values=[]\n",
    "    oil_values = []\n",
    "    for i in range(1000):\n",
    "        target_sample = target.sample(replace=True, random_state=state, n=REGION_POINTS)\n",
    "        probs_sample = probs[target_sample.index]\n",
    "        profit, oil = oil_profit_calc(target, probs_sample, BEST_POINTS)\n",
    "        oil_values.append(oil)    \n",
    "        values.append(profit)\n",
    "    \n",
    "    values = pd.Series(values)\n",
    "    lower = values.quantile(0.025).round(3)\n",
    "    upper = values.quantile(0.975).round(3)\n",
    "    mean = values.mean().round(3)\n",
    "    risk = ((values < 0).mean() * 100).round(3)\n",
    "    oil_mean = pd.Series(oil_values).mean()\n",
    "    \n",
    "    return mean, lower, upper, risk, oil_mean"
   ]
  },
  {
   "cell_type": "code",
   "execution_count": 31,
   "metadata": {
    "scrolled": true
   },
   "outputs": [
    {
     "name": "stdout",
     "output_type": "stream",
     "text": [
      "Данные по первому региону:\n",
      "Средняя прибыль по региону = 469536.505 тыс.руб.\n",
      "Средний запас нефти в скважине 116.32818338968403\n",
      "95% доверительный интервал от -59949.482 до 989980.787 тыс.руб.\n",
      "Процент риска 4.8%\n"
     ]
    }
   ],
   "source": [
    "mean_1, lower_1, upper_1, risk_1, oil_mean_1 = bootstrap(df_first['real_product'], df_first['predicted_product'])\n",
    "print('Данные по первому региону:')\n",
    "print(f'Средняя прибыль по региону = {mean_1} тыс.руб.')\n",
    "print(f'Средний запас нефти в скважине {oil_mean_1}')\n",
    "print(f'95% доверительный интервал от {lower_1} до {upper_1} тыс.руб.')\n",
    "print(f'Процент риска {risk_1}%')"
   ]
  },
  {
   "cell_type": "code",
   "execution_count": 32,
   "metadata": {},
   "outputs": [
    {
     "name": "stdout",
     "output_type": "stream",
     "text": [
      "Данные по первому региону:\n",
      "Средняя прибыль по региону = 509111.391 тыс.руб.\n",
      "Средний запас нефти в скважине 116.76790434485554\n",
      "95% доверительный интервал от 77340.178 до 940053.418 тыс.руб.\n",
      "Процент риска 1.1%\n"
     ]
    }
   ],
   "source": [
    "mean_2, lower_2, upper_2, risk_2, oil_mean_2 = bootstrap(df_second['real_product'], df_second['predicted_product'])\n",
    "print('Данные по первому региону:')\n",
    "print(f'Средняя прибыль по региону = {mean_2} тыс.руб.')\n",
    "print(f'Средний запас нефти в скважине {oil_mean_2}')\n",
    "print(f'95% доверительный интервал от {lower_2} до {upper_2} тыс.руб.')\n",
    "print(f'Процент риска {risk_2}%')"
   ]
  },
  {
   "cell_type": "code",
   "execution_count": 33,
   "metadata": {},
   "outputs": [
    {
     "name": "stdout",
     "output_type": "stream",
     "text": [
      "Данные по первому региону:\n",
      "Средняя прибыль по региону = 393044.162 тыс.руб.\n",
      "Средний запас нефти в скважине 115.4782684630756\n",
      "95% доверительный интервал от -154136.901 до 917412.777 тыс.руб.\n",
      "Процент риска 7.7%\n"
     ]
    }
   ],
   "source": [
    "mean_3, lower_3, upper_3, risk_3, oil_mean_3 = bootstrap(df_third['real_product'], df_third['predicted_product'])\n",
    "print('Данные по первому региону:')\n",
    "print(f'Средняя прибыль по региону = {mean_3} тыс.руб.')\n",
    "print(f'Средний запас нефти в скважине {oil_mean_3}')\n",
    "print(f'95% доверительный интервал от {lower_3} до {upper_3} тыс.руб.')\n",
    "print(f'Процент риска {risk_3}%')\n"
   ]
  },
  {
   "cell_type": "markdown",
   "metadata": {},
   "source": [
    "После изучения трех регионов - разработка скважин во 2 регионе наименее рискованная (порядка 1% риск). Так же средний запас нефти и доверительный интервал устраивают условию поставленной задачи. При этом в данном регионе объем нефти от 0 до 140 тыс. баррелей распределен равномерно между точками, то есть количество пустых точек велико.\n",
    "\n",
    "В первом и третьем процент риска выше, и доверительный интервал захватыват отрицательные значения (то есть теоретические убытки)\n",
    "\n",
    "\n",
    "Итог: 2 регион предпочтителен для разработки"
   ]
  }
 ],
 "metadata": {
  "ExecuteTimeLog": [
   {
    "duration": 1085,
    "start_time": "2023-10-10T17:08:38.209Z"
   },
   {
    "duration": 148,
    "start_time": "2023-10-10T17:08:50.002Z"
   },
   {
    "duration": 788,
    "start_time": "2023-10-10T17:09:14.888Z"
   },
   {
    "duration": 44,
    "start_time": "2023-10-10T17:09:41.030Z"
   },
   {
    "duration": 34,
    "start_time": "2023-10-10T17:09:54.690Z"
   },
   {
    "duration": 82,
    "start_time": "2023-10-10T17:10:08.404Z"
   },
   {
    "duration": 33,
    "start_time": "2023-10-10T17:10:12.280Z"
   },
   {
    "duration": 775,
    "start_time": "2023-10-10T17:10:33.209Z"
   },
   {
    "duration": 145,
    "start_time": "2023-10-10T17:11:12.453Z"
   },
   {
    "duration": 147,
    "start_time": "2023-10-10T17:11:23.455Z"
   },
   {
    "duration": 144,
    "start_time": "2023-10-10T17:11:28.680Z"
   },
   {
    "duration": 167,
    "start_time": "2023-10-10T17:14:16.797Z"
   },
   {
    "duration": 229,
    "start_time": "2023-10-10T17:14:20.423Z"
   },
   {
    "duration": 159,
    "start_time": "2023-10-10T17:14:26.351Z"
   },
   {
    "duration": 594,
    "start_time": "2023-10-10T17:14:32.810Z"
   },
   {
    "duration": 19,
    "start_time": "2023-10-10T17:14:46.613Z"
   },
   {
    "duration": 0,
    "start_time": "2023-10-10T17:15:33.963Z"
   },
   {
    "duration": 1434,
    "start_time": "2023-10-10T17:15:40.355Z"
   },
   {
    "duration": 157,
    "start_time": "2023-10-10T17:18:43.318Z"
   },
   {
    "duration": 167,
    "start_time": "2023-10-10T17:18:46.948Z"
   },
   {
    "duration": 146,
    "start_time": "2023-10-10T17:18:53.994Z"
   },
   {
    "duration": 18,
    "start_time": "2023-10-10T17:19:26.370Z"
   },
   {
    "duration": 15,
    "start_time": "2023-10-10T17:19:31.117Z"
   },
   {
    "duration": 12,
    "start_time": "2023-10-10T17:19:35.823Z"
   },
   {
    "duration": 14,
    "start_time": "2023-10-10T17:19:43.093Z"
   },
   {
    "duration": 14,
    "start_time": "2023-10-10T17:19:56.540Z"
   },
   {
    "duration": 315,
    "start_time": "2023-10-10T17:20:11.065Z"
   },
   {
    "duration": 371,
    "start_time": "2023-10-10T17:20:23.435Z"
   },
   {
    "duration": 4,
    "start_time": "2023-10-10T17:23:18.472Z"
   },
   {
    "duration": 439,
    "start_time": "2023-10-10T17:23:21.638Z"
   },
   {
    "duration": 159,
    "start_time": "2023-10-10T17:23:41.024Z"
   },
   {
    "duration": 237,
    "start_time": "2023-10-10T17:23:51.543Z"
   },
   {
    "duration": 246,
    "start_time": "2023-10-10T17:23:57.712Z"
   },
   {
    "duration": 242,
    "start_time": "2023-10-10T17:23:59.986Z"
   },
   {
    "duration": 227,
    "start_time": "2023-10-10T17:24:01.704Z"
   },
   {
    "duration": 203,
    "start_time": "2023-10-10T17:24:03.336Z"
   },
   {
    "duration": 190,
    "start_time": "2023-10-10T17:24:05.002Z"
   },
   {
    "duration": 181,
    "start_time": "2023-10-10T17:24:07.300Z"
   },
   {
    "duration": 172,
    "start_time": "2023-10-10T17:24:10.452Z"
   },
   {
    "duration": 159,
    "start_time": "2023-10-10T17:24:14.829Z"
   },
   {
    "duration": 147,
    "start_time": "2023-10-10T17:24:16.933Z"
   },
   {
    "duration": 157,
    "start_time": "2023-10-10T17:24:20.833Z"
   },
   {
    "duration": 150,
    "start_time": "2023-10-10T17:24:24.027Z"
   },
   {
    "duration": 152,
    "start_time": "2023-10-10T17:24:28.717Z"
   },
   {
    "duration": 157,
    "start_time": "2023-10-10T17:24:32.468Z"
   },
   {
    "duration": 176,
    "start_time": "2023-10-10T17:24:36.603Z"
   },
   {
    "duration": 163,
    "start_time": "2023-10-10T17:24:39.396Z"
   },
   {
    "duration": 166,
    "start_time": "2023-10-10T17:24:41.668Z"
   },
   {
    "duration": 153,
    "start_time": "2023-10-10T17:24:44.247Z"
   },
   {
    "duration": 159,
    "start_time": "2023-10-10T17:24:48.402Z"
   },
   {
    "duration": 158,
    "start_time": "2023-10-10T17:24:51.501Z"
   },
   {
    "duration": 10,
    "start_time": "2023-10-10T17:26:01.582Z"
   },
   {
    "duration": 435,
    "start_time": "2023-10-10T17:26:02.981Z"
   },
   {
    "duration": 11,
    "start_time": "2023-10-10T17:26:26.365Z"
   },
   {
    "duration": 4506,
    "start_time": "2023-10-10T17:26:43.363Z"
   },
   {
    "duration": 1675,
    "start_time": "2023-10-10T17:26:51.675Z"
   },
   {
    "duration": 0,
    "start_time": "2023-10-10T17:27:33.550Z"
   },
   {
    "duration": 0,
    "start_time": "2023-10-10T17:28:13.766Z"
   },
   {
    "duration": 401,
    "start_time": "2023-10-10T17:28:14.654Z"
   },
   {
    "duration": 4,
    "start_time": "2023-10-10T17:29:42.385Z"
   },
   {
    "duration": 382,
    "start_time": "2023-10-10T17:29:47.676Z"
   },
   {
    "duration": 99,
    "start_time": "2023-10-10T17:29:57.293Z"
   },
   {
    "duration": 426,
    "start_time": "2023-10-10T17:30:03.507Z"
   },
   {
    "duration": 149,
    "start_time": "2023-10-10T17:30:41.312Z"
   },
   {
    "duration": 156,
    "start_time": "2023-10-10T17:31:00.356Z"
   },
   {
    "duration": 156,
    "start_time": "2023-10-10T17:31:04.090Z"
   },
   {
    "duration": 143,
    "start_time": "2023-10-10T17:31:21.760Z"
   },
   {
    "duration": 158,
    "start_time": "2023-10-10T17:31:27.182Z"
   },
   {
    "duration": 179,
    "start_time": "2023-10-10T17:31:42.899Z"
   },
   {
    "duration": 160,
    "start_time": "2023-10-10T17:31:51.071Z"
   },
   {
    "duration": 142,
    "start_time": "2023-10-10T17:31:57.468Z"
   },
   {
    "duration": 139,
    "start_time": "2023-10-10T17:32:04.733Z"
   },
   {
    "duration": 135,
    "start_time": "2023-10-10T17:32:08.018Z"
   },
   {
    "duration": 138,
    "start_time": "2023-10-10T17:32:11.675Z"
   },
   {
    "duration": 140,
    "start_time": "2023-10-10T17:32:13.573Z"
   },
   {
    "duration": 190,
    "start_time": "2023-10-10T17:32:15.929Z"
   },
   {
    "duration": 138,
    "start_time": "2023-10-10T17:32:17.861Z"
   },
   {
    "duration": 15,
    "start_time": "2023-10-10T17:34:20.915Z"
   },
   {
    "duration": 9,
    "start_time": "2023-10-10T17:34:27.347Z"
   },
   {
    "duration": 10,
    "start_time": "2023-10-10T17:34:53.364Z"
   },
   {
    "duration": 12,
    "start_time": "2023-10-10T17:35:05.938Z"
   },
   {
    "duration": 2,
    "start_time": "2023-10-10T18:23:25.112Z"
   },
   {
    "duration": 13,
    "start_time": "2023-10-10T18:25:48.134Z"
   },
   {
    "duration": 1360,
    "start_time": "2023-10-10T18:26:23.226Z"
   },
   {
    "duration": 5,
    "start_time": "2023-10-10T18:26:31.453Z"
   },
   {
    "duration": 9,
    "start_time": "2023-10-10T18:29:19.613Z"
   },
   {
    "duration": 21,
    "start_time": "2023-10-10T18:30:38.636Z"
   },
   {
    "duration": 12,
    "start_time": "2023-10-11T06:53:10.698Z"
   },
   {
    "duration": 2,
    "start_time": "2023-10-11T06:54:26.341Z"
   },
   {
    "duration": 9,
    "start_time": "2023-10-11T06:54:28.093Z"
   },
   {
    "duration": 11,
    "start_time": "2023-10-11T06:54:31.841Z"
   },
   {
    "duration": 770,
    "start_time": "2023-10-11T06:54:40.059Z"
   },
   {
    "duration": 709,
    "start_time": "2023-10-11T06:54:57.620Z"
   },
   {
    "duration": 659,
    "start_time": "2023-10-11T06:55:03.172Z"
   },
   {
    "duration": 1116,
    "start_time": "2023-10-11T07:54:45.123Z"
   },
   {
    "duration": 406,
    "start_time": "2023-10-11T07:54:46.241Z"
   },
   {
    "duration": 16,
    "start_time": "2023-10-11T07:54:46.648Z"
   },
   {
    "duration": 41,
    "start_time": "2023-10-11T07:54:46.666Z"
   },
   {
    "duration": 15,
    "start_time": "2023-10-11T07:54:46.710Z"
   },
   {
    "duration": 41,
    "start_time": "2023-10-11T07:54:46.727Z"
   },
   {
    "duration": 8,
    "start_time": "2023-10-11T07:54:46.769Z"
   },
   {
    "duration": 48,
    "start_time": "2023-10-11T07:54:46.779Z"
   },
   {
    "duration": 403,
    "start_time": "2023-10-11T07:54:46.829Z"
   },
   {
    "duration": 154,
    "start_time": "2023-10-11T07:54:47.233Z"
   },
   {
    "duration": 143,
    "start_time": "2023-10-11T07:54:47.388Z"
   },
   {
    "duration": 12,
    "start_time": "2023-10-11T07:54:47.533Z"
   },
   {
    "duration": 15,
    "start_time": "2023-10-11T07:54:47.546Z"
   },
   {
    "duration": 13,
    "start_time": "2023-10-11T07:54:47.563Z"
   },
   {
    "duration": 13,
    "start_time": "2023-10-11T07:58:25.177Z"
   },
   {
    "duration": 5,
    "start_time": "2023-10-11T07:58:25.697Z"
   },
   {
    "duration": 3,
    "start_time": "2023-10-11T07:59:43.143Z"
   },
   {
    "duration": 96,
    "start_time": "2023-10-11T07:59:43.643Z"
   },
   {
    "duration": 77,
    "start_time": "2023-10-11T07:59:59.184Z"
   },
   {
    "duration": 437,
    "start_time": "2023-10-11T08:00:08.674Z"
   },
   {
    "duration": 108,
    "start_time": "2023-10-11T08:00:12.196Z"
   },
   {
    "duration": 10,
    "start_time": "2023-10-11T08:00:21.268Z"
   },
   {
    "duration": 18,
    "start_time": "2023-10-11T08:00:28.866Z"
   },
   {
    "duration": 8,
    "start_time": "2023-10-11T08:00:41.662Z"
   },
   {
    "duration": 4,
    "start_time": "2023-10-11T08:00:57.406Z"
   },
   {
    "duration": 4,
    "start_time": "2023-10-11T08:01:04.167Z"
   },
   {
    "duration": 15,
    "start_time": "2023-10-11T08:01:12.379Z"
   },
   {
    "duration": 660,
    "start_time": "2023-10-11T08:01:34.882Z"
   },
   {
    "duration": 3,
    "start_time": "2023-10-11T08:03:25.102Z"
   },
   {
    "duration": 103,
    "start_time": "2023-10-11T14:00:51.606Z"
   },
   {
    "duration": 107,
    "start_time": "2023-10-11T14:01:11.406Z"
   },
   {
    "duration": 5,
    "start_time": "2023-10-11T14:01:30.980Z"
   },
   {
    "duration": 5,
    "start_time": "2023-10-11T14:01:38.013Z"
   },
   {
    "duration": 87,
    "start_time": "2023-10-11T14:06:29.410Z"
   },
   {
    "duration": 1208,
    "start_time": "2023-10-11T14:06:43.637Z"
   },
   {
    "duration": 1052,
    "start_time": "2023-10-11T14:06:44.848Z"
   },
   {
    "duration": 28,
    "start_time": "2023-10-11T14:06:45.903Z"
   },
   {
    "duration": 66,
    "start_time": "2023-10-11T14:06:45.934Z"
   },
   {
    "duration": 17,
    "start_time": "2023-10-11T14:06:46.004Z"
   },
   {
    "duration": 82,
    "start_time": "2023-10-11T14:06:46.024Z"
   },
   {
    "duration": 21,
    "start_time": "2023-10-11T14:06:46.109Z"
   },
   {
    "duration": 66,
    "start_time": "2023-10-11T14:06:46.133Z"
   },
   {
    "duration": 710,
    "start_time": "2023-10-11T14:06:46.205Z"
   },
   {
    "duration": 208,
    "start_time": "2023-10-11T14:06:46.918Z"
   },
   {
    "duration": 207,
    "start_time": "2023-10-11T14:06:47.128Z"
   },
   {
    "duration": 10,
    "start_time": "2023-10-11T14:06:47.337Z"
   },
   {
    "duration": 19,
    "start_time": "2023-10-11T14:06:47.350Z"
   },
   {
    "duration": 21,
    "start_time": "2023-10-11T14:06:47.373Z"
   },
   {
    "duration": 12,
    "start_time": "2023-10-11T14:07:03.194Z"
   },
   {
    "duration": 16,
    "start_time": "2023-10-11T14:07:49.984Z"
   },
   {
    "duration": 13,
    "start_time": "2023-10-11T14:08:01.967Z"
   },
   {
    "duration": 5,
    "start_time": "2023-10-11T14:08:10.491Z"
   },
   {
    "duration": 6,
    "start_time": "2023-10-11T14:08:26.600Z"
   },
   {
    "duration": 5,
    "start_time": "2023-10-11T14:08:32.875Z"
   },
   {
    "duration": 207,
    "start_time": "2023-10-11T14:18:58.041Z"
   },
   {
    "duration": 24,
    "start_time": "2023-10-11T14:20:54.617Z"
   },
   {
    "duration": 21,
    "start_time": "2023-10-11T14:21:00.587Z"
   },
   {
    "duration": 141,
    "start_time": "2023-10-11T14:56:37.628Z"
   },
   {
    "duration": 12,
    "start_time": "2023-10-11T14:56:49.929Z"
   },
   {
    "duration": 12,
    "start_time": "2023-10-11T14:56:50.513Z"
   },
   {
    "duration": 91,
    "start_time": "2023-10-11T14:57:11.866Z"
   },
   {
    "duration": 1278,
    "start_time": "2023-10-11T14:57:41.082Z"
   },
   {
    "duration": 471,
    "start_time": "2023-10-11T14:57:42.362Z"
   },
   {
    "duration": 30,
    "start_time": "2023-10-11T14:57:42.835Z"
   },
   {
    "duration": 108,
    "start_time": "2023-10-11T14:57:42.867Z"
   },
   {
    "duration": 17,
    "start_time": "2023-10-11T14:57:42.977Z"
   },
   {
    "duration": 112,
    "start_time": "2023-10-11T14:57:42.996Z"
   },
   {
    "duration": 16,
    "start_time": "2023-10-11T14:57:43.111Z"
   },
   {
    "duration": 89,
    "start_time": "2023-10-11T14:57:43.129Z"
   },
   {
    "duration": 587,
    "start_time": "2023-10-11T14:57:43.220Z"
   },
   {
    "duration": 211,
    "start_time": "2023-10-11T14:57:43.809Z"
   },
   {
    "duration": 196,
    "start_time": "2023-10-11T14:57:44.022Z"
   },
   {
    "duration": 4,
    "start_time": "2023-10-11T14:57:44.220Z"
   },
   {
    "duration": 51,
    "start_time": "2023-10-11T14:57:44.226Z"
   },
   {
    "duration": 20,
    "start_time": "2023-10-11T14:57:44.280Z"
   },
   {
    "duration": 34,
    "start_time": "2023-10-11T14:57:44.302Z"
   },
   {
    "duration": 141,
    "start_time": "2023-10-11T14:57:44.339Z"
   },
   {
    "duration": 0,
    "start_time": "2023-10-11T14:57:44.482Z"
   },
   {
    "duration": 19,
    "start_time": "2023-10-11T14:57:58.807Z"
   },
   {
    "duration": 17,
    "start_time": "2023-10-11T14:58:01.654Z"
   },
   {
    "duration": 22,
    "start_time": "2023-10-11T14:58:18.627Z"
   },
   {
    "duration": 1866,
    "start_time": "2023-10-11T14:59:42.726Z"
   },
   {
    "duration": 484,
    "start_time": "2023-10-11T14:59:44.596Z"
   },
   {
    "duration": 19,
    "start_time": "2023-10-11T14:59:45.082Z"
   },
   {
    "duration": 133,
    "start_time": "2023-10-11T14:59:45.103Z"
   },
   {
    "duration": 16,
    "start_time": "2023-10-11T14:59:45.239Z"
   },
   {
    "duration": 56,
    "start_time": "2023-10-11T14:59:45.256Z"
   },
   {
    "duration": 11,
    "start_time": "2023-10-11T14:59:45.314Z"
   },
   {
    "duration": 55,
    "start_time": "2023-10-11T14:59:45.327Z"
   },
   {
    "duration": 512,
    "start_time": "2023-10-11T14:59:45.385Z"
   },
   {
    "duration": 280,
    "start_time": "2023-10-11T14:59:45.900Z"
   },
   {
    "duration": 231,
    "start_time": "2023-10-11T14:59:46.183Z"
   },
   {
    "duration": 4,
    "start_time": "2023-10-11T14:59:46.416Z"
   },
   {
    "duration": 44,
    "start_time": "2023-10-11T14:59:46.422Z"
   },
   {
    "duration": 5,
    "start_time": "2023-10-11T14:59:46.475Z"
   },
   {
    "duration": 37,
    "start_time": "2023-10-11T14:59:46.482Z"
   },
   {
    "duration": 133,
    "start_time": "2023-10-11T14:59:46.522Z"
   },
   {
    "duration": 16,
    "start_time": "2023-10-11T15:00:13.845Z"
   },
   {
    "duration": 1224,
    "start_time": "2023-10-11T15:00:19.374Z"
   },
   {
    "duration": 506,
    "start_time": "2023-10-11T15:00:20.601Z"
   },
   {
    "duration": 19,
    "start_time": "2023-10-11T15:00:21.109Z"
   },
   {
    "duration": 110,
    "start_time": "2023-10-11T15:00:21.130Z"
   },
   {
    "duration": 92,
    "start_time": "2023-10-11T15:00:21.244Z"
   },
   {
    "duration": 81,
    "start_time": "2023-10-11T15:00:21.338Z"
   },
   {
    "duration": 18,
    "start_time": "2023-10-11T15:00:21.421Z"
   },
   {
    "duration": 82,
    "start_time": "2023-10-11T15:00:21.440Z"
   },
   {
    "duration": 661,
    "start_time": "2023-10-11T15:00:21.524Z"
   },
   {
    "duration": 193,
    "start_time": "2023-10-11T15:00:22.187Z"
   },
   {
    "duration": 192,
    "start_time": "2023-10-11T15:00:22.382Z"
   },
   {
    "duration": 4,
    "start_time": "2023-10-11T15:00:22.576Z"
   },
   {
    "duration": 28,
    "start_time": "2023-10-11T15:00:22.582Z"
   },
   {
    "duration": 5,
    "start_time": "2023-10-11T15:00:22.613Z"
   },
   {
    "duration": 27,
    "start_time": "2023-10-11T15:00:22.619Z"
   },
   {
    "duration": 29,
    "start_time": "2023-10-11T15:00:22.649Z"
   },
   {
    "duration": 90,
    "start_time": "2023-10-11T15:00:22.680Z"
   },
   {
    "duration": 30,
    "start_time": "2023-10-11T15:02:09.037Z"
   },
   {
    "duration": 22,
    "start_time": "2023-10-11T15:02:45.636Z"
   },
   {
    "duration": 36,
    "start_time": "2023-10-11T15:03:17.710Z"
   },
   {
    "duration": 85,
    "start_time": "2023-10-11T15:04:46.866Z"
   },
   {
    "duration": 1439,
    "start_time": "2023-10-11T15:05:43.019Z"
   },
   {
    "duration": 568,
    "start_time": "2023-10-11T15:05:44.460Z"
   },
   {
    "duration": 27,
    "start_time": "2023-10-11T15:05:45.030Z"
   },
   {
    "duration": 71,
    "start_time": "2023-10-11T15:05:45.068Z"
   },
   {
    "duration": 23,
    "start_time": "2023-10-11T15:05:45.142Z"
   },
   {
    "duration": 64,
    "start_time": "2023-10-11T15:05:45.175Z"
   },
   {
    "duration": 17,
    "start_time": "2023-10-11T15:05:45.241Z"
   },
   {
    "duration": 87,
    "start_time": "2023-10-11T15:05:45.261Z"
   },
   {
    "duration": 582,
    "start_time": "2023-10-11T15:05:45.350Z"
   },
   {
    "duration": 226,
    "start_time": "2023-10-11T15:05:45.936Z"
   },
   {
    "duration": 177,
    "start_time": "2023-10-11T15:05:46.164Z"
   },
   {
    "duration": 7,
    "start_time": "2023-10-11T15:05:46.347Z"
   },
   {
    "duration": 25,
    "start_time": "2023-10-11T15:05:46.356Z"
   },
   {
    "duration": 4,
    "start_time": "2023-10-11T15:05:46.384Z"
   },
   {
    "duration": 26,
    "start_time": "2023-10-11T15:05:46.391Z"
   },
   {
    "duration": 25,
    "start_time": "2023-10-11T15:05:46.418Z"
   },
   {
    "duration": 104,
    "start_time": "2023-10-11T15:05:46.445Z"
   },
   {
    "duration": 220,
    "start_time": "2023-10-11T15:11:47.639Z"
   },
   {
    "duration": 1162,
    "start_time": "2023-10-11T15:12:10.751Z"
   },
   {
    "duration": 488,
    "start_time": "2023-10-11T15:12:11.915Z"
   },
   {
    "duration": 18,
    "start_time": "2023-10-11T15:12:12.405Z"
   },
   {
    "duration": 80,
    "start_time": "2023-10-11T15:12:12.425Z"
   },
   {
    "duration": 10,
    "start_time": "2023-10-11T15:12:12.507Z"
   },
   {
    "duration": 96,
    "start_time": "2023-10-11T15:12:12.519Z"
   },
   {
    "duration": 37,
    "start_time": "2023-10-11T15:12:12.618Z"
   },
   {
    "duration": 66,
    "start_time": "2023-10-11T15:12:12.656Z"
   },
   {
    "duration": 506,
    "start_time": "2023-10-11T15:12:12.724Z"
   },
   {
    "duration": 185,
    "start_time": "2023-10-11T15:12:13.232Z"
   },
   {
    "duration": 223,
    "start_time": "2023-10-11T15:12:13.419Z"
   },
   {
    "duration": 6,
    "start_time": "2023-10-11T15:12:13.648Z"
   },
   {
    "duration": 61,
    "start_time": "2023-10-11T15:12:13.657Z"
   },
   {
    "duration": 5,
    "start_time": "2023-10-11T15:12:13.723Z"
   },
   {
    "duration": 9,
    "start_time": "2023-10-11T15:12:13.731Z"
   },
   {
    "duration": 51,
    "start_time": "2023-10-11T15:12:13.741Z"
   },
   {
    "duration": 24,
    "start_time": "2023-10-11T15:12:13.795Z"
   },
   {
    "duration": 5,
    "start_time": "2023-10-11T15:12:24.366Z"
   },
   {
    "duration": 4,
    "start_time": "2023-10-11T15:39:34.296Z"
   },
   {
    "duration": 19,
    "start_time": "2023-10-11T15:39:34.747Z"
   },
   {
    "duration": 13,
    "start_time": "2023-10-11T15:39:35.345Z"
   },
   {
    "duration": 5,
    "start_time": "2023-10-11T15:39:35.994Z"
   },
   {
    "duration": 24,
    "start_time": "2023-10-11T15:39:43.580Z"
   },
   {
    "duration": 1241,
    "start_time": "2023-10-11T15:40:05.989Z"
   },
   {
    "duration": 470,
    "start_time": "2023-10-11T15:40:07.233Z"
   },
   {
    "duration": 19,
    "start_time": "2023-10-11T15:40:07.705Z"
   },
   {
    "duration": 146,
    "start_time": "2023-10-11T15:40:07.726Z"
   },
   {
    "duration": 9,
    "start_time": "2023-10-11T15:40:07.876Z"
   },
   {
    "duration": 81,
    "start_time": "2023-10-11T15:40:07.887Z"
   },
   {
    "duration": 10,
    "start_time": "2023-10-11T15:40:07.969Z"
   },
   {
    "duration": 98,
    "start_time": "2023-10-11T15:40:07.981Z"
   },
   {
    "duration": 533,
    "start_time": "2023-10-11T15:40:08.081Z"
   },
   {
    "duration": 190,
    "start_time": "2023-10-11T15:40:08.615Z"
   },
   {
    "duration": 191,
    "start_time": "2023-10-11T15:40:08.807Z"
   },
   {
    "duration": 5,
    "start_time": "2023-10-11T15:40:09.000Z"
   },
   {
    "duration": 35,
    "start_time": "2023-10-11T15:40:09.007Z"
   },
   {
    "duration": 7,
    "start_time": "2023-10-11T15:40:09.046Z"
   },
   {
    "duration": 14,
    "start_time": "2023-10-11T15:40:09.055Z"
   },
   {
    "duration": 29,
    "start_time": "2023-10-11T15:40:09.070Z"
   },
   {
    "duration": 56,
    "start_time": "2023-10-11T15:40:09.101Z"
   },
   {
    "duration": 15,
    "start_time": "2023-10-11T15:48:45.026Z"
   },
   {
    "duration": 1242,
    "start_time": "2023-10-11T15:49:03.330Z"
   },
   {
    "duration": 488,
    "start_time": "2023-10-11T15:49:04.574Z"
   },
   {
    "duration": 19,
    "start_time": "2023-10-11T15:49:05.067Z"
   },
   {
    "duration": 60,
    "start_time": "2023-10-11T15:49:05.088Z"
   },
   {
    "duration": 19,
    "start_time": "2023-10-11T15:49:05.150Z"
   },
   {
    "duration": 100,
    "start_time": "2023-10-11T15:49:05.171Z"
   },
   {
    "duration": 15,
    "start_time": "2023-10-11T15:49:05.273Z"
   },
   {
    "duration": 105,
    "start_time": "2023-10-11T15:49:05.292Z"
   },
   {
    "duration": 514,
    "start_time": "2023-10-11T15:49:05.400Z"
   },
   {
    "duration": 192,
    "start_time": "2023-10-11T15:49:05.916Z"
   },
   {
    "duration": 195,
    "start_time": "2023-10-11T15:49:06.110Z"
   },
   {
    "duration": 4,
    "start_time": "2023-10-11T15:49:06.307Z"
   },
   {
    "duration": 23,
    "start_time": "2023-10-11T15:49:06.313Z"
   },
   {
    "duration": 14,
    "start_time": "2023-10-11T15:49:06.349Z"
   },
   {
    "duration": 12,
    "start_time": "2023-10-11T15:49:06.364Z"
   },
   {
    "duration": 39,
    "start_time": "2023-10-11T15:49:06.378Z"
   },
   {
    "duration": 21,
    "start_time": "2023-10-11T15:49:06.419Z"
   },
   {
    "duration": 118,
    "start_time": "2023-10-11T15:49:06.442Z"
   },
   {
    "duration": 48,
    "start_time": "2023-10-11T15:49:57.315Z"
   },
   {
    "duration": 24,
    "start_time": "2023-10-11T15:51:47.829Z"
   },
   {
    "duration": 1265,
    "start_time": "2023-10-11T15:52:37.308Z"
   },
   {
    "duration": 485,
    "start_time": "2023-10-11T15:52:38.576Z"
   },
   {
    "duration": 23,
    "start_time": "2023-10-11T15:52:39.064Z"
   },
   {
    "duration": 64,
    "start_time": "2023-10-11T15:52:39.089Z"
   },
   {
    "duration": 12,
    "start_time": "2023-10-11T15:52:39.157Z"
   },
   {
    "duration": 54,
    "start_time": "2023-10-11T15:52:39.170Z"
   },
   {
    "duration": 10,
    "start_time": "2023-10-11T15:52:39.226Z"
   },
   {
    "duration": 53,
    "start_time": "2023-10-11T15:52:39.249Z"
   },
   {
    "duration": 492,
    "start_time": "2023-10-11T15:52:39.304Z"
   },
   {
    "duration": 187,
    "start_time": "2023-10-11T15:52:39.797Z"
   },
   {
    "duration": 197,
    "start_time": "2023-10-11T15:52:39.986Z"
   },
   {
    "duration": 4,
    "start_time": "2023-10-11T15:52:40.185Z"
   },
   {
    "duration": 75,
    "start_time": "2023-10-11T15:52:40.191Z"
   },
   {
    "duration": 67,
    "start_time": "2023-10-11T15:52:40.271Z"
   },
   {
    "duration": 29,
    "start_time": "2023-10-11T15:52:40.340Z"
   },
   {
    "duration": 50,
    "start_time": "2023-10-11T15:52:40.371Z"
   },
   {
    "duration": 45,
    "start_time": "2023-10-11T15:52:40.424Z"
   },
   {
    "duration": 93,
    "start_time": "2023-10-11T15:52:40.471Z"
   },
   {
    "duration": 22,
    "start_time": "2023-10-11T15:52:53.117Z"
   },
   {
    "duration": 1250,
    "start_time": "2023-10-11T15:53:44.666Z"
   },
   {
    "duration": 487,
    "start_time": "2023-10-11T15:53:45.918Z"
   },
   {
    "duration": 18,
    "start_time": "2023-10-11T15:53:46.407Z"
   },
   {
    "duration": 60,
    "start_time": "2023-10-11T15:53:46.427Z"
   },
   {
    "duration": 11,
    "start_time": "2023-10-11T15:53:46.489Z"
   },
   {
    "duration": 65,
    "start_time": "2023-10-11T15:53:46.502Z"
   },
   {
    "duration": 12,
    "start_time": "2023-10-11T15:53:46.568Z"
   },
   {
    "duration": 78,
    "start_time": "2023-10-11T15:53:46.583Z"
   },
   {
    "duration": 484,
    "start_time": "2023-10-11T15:53:46.665Z"
   },
   {
    "duration": 181,
    "start_time": "2023-10-11T15:53:47.154Z"
   },
   {
    "duration": 221,
    "start_time": "2023-10-11T15:53:47.338Z"
   },
   {
    "duration": 4,
    "start_time": "2023-10-11T15:53:47.561Z"
   },
   {
    "duration": 20,
    "start_time": "2023-10-11T15:53:47.569Z"
   },
   {
    "duration": 4,
    "start_time": "2023-10-11T15:53:47.592Z"
   },
   {
    "duration": 7,
    "start_time": "2023-10-11T15:53:47.597Z"
   },
   {
    "duration": 53,
    "start_time": "2023-10-11T15:53:47.606Z"
   },
   {
    "duration": 95,
    "start_time": "2023-10-11T15:53:47.662Z"
   },
   {
    "duration": 20,
    "start_time": "2023-10-11T15:53:47.763Z"
   },
   {
    "duration": 103,
    "start_time": "2023-10-11T15:53:47.847Z"
   },
   {
    "duration": 18,
    "start_time": "2023-10-11T15:53:47.965Z"
   },
   {
    "duration": 7,
    "start_time": "2023-10-11T16:05:43.382Z"
   },
   {
    "duration": 235,
    "start_time": "2023-10-11T16:05:50.539Z"
   },
   {
    "duration": 6,
    "start_time": "2023-10-11T16:05:55.868Z"
   },
   {
    "duration": 196,
    "start_time": "2023-10-11T16:06:06.472Z"
   },
   {
    "duration": 9,
    "start_time": "2023-10-11T16:06:11.749Z"
   },
   {
    "duration": 100,
    "start_time": "2023-10-11T16:08:42.646Z"
   },
   {
    "duration": 88,
    "start_time": "2023-10-11T16:09:18.643Z"
   },
   {
    "duration": 7,
    "start_time": "2023-10-11T16:09:26.218Z"
   },
   {
    "duration": 102,
    "start_time": "2023-10-11T16:09:52.990Z"
   },
   {
    "duration": 5,
    "start_time": "2023-10-11T16:10:00.322Z"
   },
   {
    "duration": 4,
    "start_time": "2023-10-11T16:10:26.840Z"
   },
   {
    "duration": 6,
    "start_time": "2023-10-11T18:32:16.430Z"
   },
   {
    "duration": 5,
    "start_time": "2023-10-11T18:32:18.687Z"
   },
   {
    "duration": 9,
    "start_time": "2023-10-11T18:32:19.256Z"
   },
   {
    "duration": 10,
    "start_time": "2023-10-11T18:33:58.842Z"
   },
   {
    "duration": 148,
    "start_time": "2023-10-11T18:34:00.437Z"
   },
   {
    "duration": 5,
    "start_time": "2023-10-11T18:34:00.781Z"
   },
   {
    "duration": 4,
    "start_time": "2023-10-11T18:34:57.862Z"
   },
   {
    "duration": 4,
    "start_time": "2023-10-11T18:35:28.587Z"
   },
   {
    "duration": 16,
    "start_time": "2023-10-11T18:35:29.430Z"
   },
   {
    "duration": 6,
    "start_time": "2023-10-11T18:35:31.638Z"
   },
   {
    "duration": 5,
    "start_time": "2023-10-11T18:35:32.417Z"
   },
   {
    "duration": 105,
    "start_time": "2023-10-11T18:35:35.167Z"
   },
   {
    "duration": 15,
    "start_time": "2023-10-11T18:35:36.923Z"
   },
   {
    "duration": 30,
    "start_time": "2023-10-11T18:35:37.519Z"
   },
   {
    "duration": 19,
    "start_time": "2023-10-11T18:35:38.954Z"
   },
   {
    "duration": 18,
    "start_time": "2023-10-11T18:35:39.216Z"
   },
   {
    "duration": 9,
    "start_time": "2023-10-11T18:35:40.056Z"
   },
   {
    "duration": 7,
    "start_time": "2023-10-11T18:35:40.371Z"
   },
   {
    "duration": 10,
    "start_time": "2023-10-11T18:35:41.866Z"
   },
   {
    "duration": 7,
    "start_time": "2023-10-11T18:37:36.166Z"
   },
   {
    "duration": 4,
    "start_time": "2023-10-11T18:37:41.078Z"
   },
   {
    "duration": 10,
    "start_time": "2023-10-11T18:37:52.254Z"
   },
   {
    "duration": 3,
    "start_time": "2023-10-11T18:40:22.292Z"
   },
   {
    "duration": 8,
    "start_time": "2023-10-12T06:33:01.622Z"
   },
   {
    "duration": 105,
    "start_time": "2023-10-12T06:44:07.448Z"
   },
   {
    "duration": 49,
    "start_time": "2023-10-12T06:44:14.778Z"
   },
   {
    "duration": 3,
    "start_time": "2023-10-12T06:44:23.986Z"
   },
   {
    "duration": 10,
    "start_time": "2023-10-12T06:44:25.858Z"
   },
   {
    "duration": 11,
    "start_time": "2023-10-12T06:45:37.134Z"
   },
   {
    "duration": 3,
    "start_time": "2023-10-12T06:47:09.751Z"
   },
   {
    "duration": 8,
    "start_time": "2023-10-12T06:47:11.621Z"
   },
   {
    "duration": 5,
    "start_time": "2023-10-12T06:47:19.008Z"
   },
   {
    "duration": 8,
    "start_time": "2023-10-12T06:49:29.667Z"
   },
   {
    "duration": 1262,
    "start_time": "2023-10-12T06:49:40.061Z"
   },
   {
    "duration": 95,
    "start_time": "2023-10-12T06:49:46.179Z"
   },
   {
    "duration": 5,
    "start_time": "2023-10-12T06:51:34.734Z"
   },
   {
    "duration": 5,
    "start_time": "2023-10-12T06:51:48.838Z"
   },
   {
    "duration": 4,
    "start_time": "2023-10-12T06:53:57.572Z"
   },
   {
    "duration": 11,
    "start_time": "2023-10-12T06:54:01.604Z"
   },
   {
    "duration": 4,
    "start_time": "2023-10-12T06:54:45.729Z"
   },
   {
    "duration": 2,
    "start_time": "2023-10-12T06:57:23.701Z"
   },
   {
    "duration": 5,
    "start_time": "2023-10-12T06:57:23.965Z"
   },
   {
    "duration": 2,
    "start_time": "2023-10-12T06:59:53.090Z"
   },
   {
    "duration": 4,
    "start_time": "2023-10-12T06:59:54.138Z"
   },
   {
    "duration": 4,
    "start_time": "2023-10-12T07:00:11.212Z"
   },
   {
    "duration": 3,
    "start_time": "2023-10-12T07:01:09.927Z"
   },
   {
    "duration": 14,
    "start_time": "2023-10-12T07:01:31.485Z"
   },
   {
    "duration": 3,
    "start_time": "2023-10-12T07:01:36.258Z"
   },
   {
    "duration": 5,
    "start_time": "2023-10-12T07:01:36.526Z"
   },
   {
    "duration": 6,
    "start_time": "2023-10-12T07:03:03.640Z"
   },
   {
    "duration": 124,
    "start_time": "2023-10-12T07:14:28.661Z"
   },
   {
    "duration": 4,
    "start_time": "2023-10-12T07:14:33.523Z"
   },
   {
    "duration": 4,
    "start_time": "2023-10-12T07:19:49.198Z"
   },
   {
    "duration": 10,
    "start_time": "2023-10-12T07:20:24.068Z"
   },
   {
    "duration": 1186,
    "start_time": "2023-10-12T07:20:29.818Z"
   },
   {
    "duration": 894,
    "start_time": "2023-10-12T07:20:31.006Z"
   },
   {
    "duration": 20,
    "start_time": "2023-10-12T07:20:31.902Z"
   },
   {
    "duration": 334,
    "start_time": "2023-10-12T07:20:31.925Z"
   },
   {
    "duration": 106,
    "start_time": "2023-10-12T07:20:32.261Z"
   },
   {
    "duration": 65,
    "start_time": "2023-10-12T07:20:32.369Z"
   },
   {
    "duration": 11,
    "start_time": "2023-10-12T07:20:32.436Z"
   },
   {
    "duration": 66,
    "start_time": "2023-10-12T07:20:32.448Z"
   },
   {
    "duration": 673,
    "start_time": "2023-10-12T07:20:32.515Z"
   },
   {
    "duration": 176,
    "start_time": "2023-10-12T07:20:33.191Z"
   },
   {
    "duration": 178,
    "start_time": "2023-10-12T07:20:33.369Z"
   },
   {
    "duration": 4,
    "start_time": "2023-10-12T07:20:33.549Z"
   },
   {
    "duration": 26,
    "start_time": "2023-10-12T07:20:33.554Z"
   },
   {
    "duration": 6,
    "start_time": "2023-10-12T07:20:33.583Z"
   },
   {
    "duration": 12,
    "start_time": "2023-10-12T07:20:33.591Z"
   },
   {
    "duration": 121,
    "start_time": "2023-10-12T07:20:33.605Z"
   },
   {
    "duration": 97,
    "start_time": "2023-10-12T07:20:33.729Z"
   },
   {
    "duration": 19,
    "start_time": "2023-10-12T07:20:33.828Z"
   },
   {
    "duration": 182,
    "start_time": "2023-10-12T07:20:33.850Z"
   },
   {
    "duration": 26,
    "start_time": "2023-10-12T07:20:34.035Z"
   },
   {
    "duration": 68,
    "start_time": "2023-10-12T07:20:34.063Z"
   },
   {
    "duration": 103,
    "start_time": "2023-10-12T07:20:34.136Z"
   },
   {
    "duration": 16,
    "start_time": "2023-10-12T07:20:34.241Z"
   },
   {
    "duration": 23,
    "start_time": "2023-10-12T07:20:34.258Z"
   },
   {
    "duration": 47,
    "start_time": "2023-10-12T07:20:34.282Z"
   },
   {
    "duration": 5,
    "start_time": "2023-10-12T07:20:40.555Z"
   },
   {
    "duration": 6,
    "start_time": "2023-10-12T07:20:48.128Z"
   },
   {
    "duration": 6,
    "start_time": "2023-10-12T07:21:02.279Z"
   },
   {
    "duration": 6,
    "start_time": "2023-10-12T07:21:03.744Z"
   },
   {
    "duration": 90,
    "start_time": "2023-10-12T07:21:23.437Z"
   },
   {
    "duration": 104,
    "start_time": "2023-10-12T07:21:29.983Z"
   },
   {
    "duration": 5,
    "start_time": "2023-10-12T07:21:51.592Z"
   },
   {
    "duration": 6,
    "start_time": "2023-10-12T07:23:04.925Z"
   },
   {
    "duration": 6,
    "start_time": "2023-10-12T07:23:13.184Z"
   },
   {
    "duration": 6,
    "start_time": "2023-10-12T07:24:45.202Z"
   },
   {
    "duration": 6,
    "start_time": "2023-10-12T07:25:21.975Z"
   },
   {
    "duration": 13,
    "start_time": "2023-10-12T07:30:55.808Z"
   },
   {
    "duration": 10,
    "start_time": "2023-10-12T07:31:06.456Z"
   },
   {
    "duration": 27,
    "start_time": "2023-10-12T07:31:14.881Z"
   },
   {
    "duration": 22,
    "start_time": "2023-10-12T07:31:18.785Z"
   },
   {
    "duration": 22,
    "start_time": "2023-10-12T07:31:36.911Z"
   },
   {
    "duration": 21,
    "start_time": "2023-10-12T07:31:44.045Z"
   },
   {
    "duration": 25,
    "start_time": "2023-10-12T07:32:17.842Z"
   },
   {
    "duration": 1248,
    "start_time": "2023-10-12T07:32:35.204Z"
   },
   {
    "duration": 432,
    "start_time": "2023-10-12T07:32:36.454Z"
   },
   {
    "duration": 20,
    "start_time": "2023-10-12T07:32:36.888Z"
   },
   {
    "duration": 60,
    "start_time": "2023-10-12T07:32:36.911Z"
   },
   {
    "duration": 9,
    "start_time": "2023-10-12T07:32:36.973Z"
   },
   {
    "duration": 58,
    "start_time": "2023-10-12T07:32:36.983Z"
   },
   {
    "duration": 9,
    "start_time": "2023-10-12T07:32:37.043Z"
   },
   {
    "duration": 59,
    "start_time": "2023-10-12T07:32:37.054Z"
   },
   {
    "duration": 515,
    "start_time": "2023-10-12T07:32:37.114Z"
   },
   {
    "duration": 159,
    "start_time": "2023-10-12T07:32:37.632Z"
   },
   {
    "duration": 155,
    "start_time": "2023-10-12T07:32:37.792Z"
   },
   {
    "duration": 132,
    "start_time": "2023-10-12T07:32:37.948Z"
   },
   {
    "duration": 0,
    "start_time": "2023-10-12T07:32:38.082Z"
   },
   {
    "duration": 0,
    "start_time": "2023-10-12T07:32:38.084Z"
   },
   {
    "duration": 0,
    "start_time": "2023-10-12T07:32:38.085Z"
   },
   {
    "duration": 0,
    "start_time": "2023-10-12T07:32:38.086Z"
   },
   {
    "duration": 0,
    "start_time": "2023-10-12T07:32:38.088Z"
   },
   {
    "duration": 0,
    "start_time": "2023-10-12T07:32:38.089Z"
   },
   {
    "duration": 0,
    "start_time": "2023-10-12T07:32:38.090Z"
   },
   {
    "duration": 0,
    "start_time": "2023-10-12T07:32:38.091Z"
   },
   {
    "duration": 0,
    "start_time": "2023-10-12T07:32:38.092Z"
   },
   {
    "duration": 0,
    "start_time": "2023-10-12T07:32:38.093Z"
   },
   {
    "duration": 0,
    "start_time": "2023-10-12T07:32:38.094Z"
   },
   {
    "duration": 0,
    "start_time": "2023-10-12T07:32:38.124Z"
   },
   {
    "duration": 0,
    "start_time": "2023-10-12T07:32:38.125Z"
   },
   {
    "duration": 0,
    "start_time": "2023-10-12T07:32:38.126Z"
   },
   {
    "duration": 1622,
    "start_time": "2023-10-12T07:33:23.406Z"
   },
   {
    "duration": 1166,
    "start_time": "2023-10-12T07:33:34.969Z"
   },
   {
    "duration": 1479,
    "start_time": "2023-10-12T07:33:40.352Z"
   },
   {
    "duration": 1340,
    "start_time": "2023-10-12T07:33:59.097Z"
   },
   {
    "duration": 1083,
    "start_time": "2023-10-12T07:37:49.982Z"
   },
   {
    "duration": 418,
    "start_time": "2023-10-12T07:37:51.067Z"
   },
   {
    "duration": 16,
    "start_time": "2023-10-12T07:37:51.487Z"
   },
   {
    "duration": 51,
    "start_time": "2023-10-12T07:37:51.505Z"
   },
   {
    "duration": 25,
    "start_time": "2023-10-12T07:37:51.558Z"
   },
   {
    "duration": 61,
    "start_time": "2023-10-12T07:37:51.585Z"
   },
   {
    "duration": 8,
    "start_time": "2023-10-12T07:37:51.648Z"
   },
   {
    "duration": 61,
    "start_time": "2023-10-12T07:37:51.658Z"
   },
   {
    "duration": 435,
    "start_time": "2023-10-12T07:37:51.721Z"
   },
   {
    "duration": 171,
    "start_time": "2023-10-12T07:37:52.157Z"
   },
   {
    "duration": 150,
    "start_time": "2023-10-12T07:37:52.329Z"
   },
   {
    "duration": 4,
    "start_time": "2023-10-12T07:37:52.480Z"
   },
   {
    "duration": 31,
    "start_time": "2023-10-12T07:37:52.485Z"
   },
   {
    "duration": 16,
    "start_time": "2023-10-12T07:37:52.518Z"
   },
   {
    "duration": 26,
    "start_time": "2023-10-12T07:37:52.537Z"
   },
   {
    "duration": 31,
    "start_time": "2023-10-12T07:37:52.565Z"
   },
   {
    "duration": 109,
    "start_time": "2023-10-12T07:37:52.626Z"
   },
   {
    "duration": 17,
    "start_time": "2023-10-12T07:37:52.737Z"
   },
   {
    "duration": 168,
    "start_time": "2023-10-12T07:37:52.756Z"
   },
   {
    "duration": 24,
    "start_time": "2023-10-12T07:37:52.926Z"
   },
   {
    "duration": 78,
    "start_time": "2023-10-12T07:37:52.952Z"
   },
   {
    "duration": 109,
    "start_time": "2023-10-12T07:37:53.032Z"
   },
   {
    "duration": 15,
    "start_time": "2023-10-12T07:37:53.143Z"
   },
   {
    "duration": 26,
    "start_time": "2023-10-12T07:37:53.160Z"
   },
   {
    "duration": 28,
    "start_time": "2023-10-12T07:37:53.187Z"
   },
   {
    "duration": 3,
    "start_time": "2023-10-12T07:48:42.037Z"
   },
   {
    "duration": 4,
    "start_time": "2023-10-12T09:55:32.396Z"
   },
   {
    "duration": 5,
    "start_time": "2023-10-12T09:59:47.143Z"
   },
   {
    "duration": 123,
    "start_time": "2023-10-12T10:00:36.915Z"
   },
   {
    "duration": 11,
    "start_time": "2023-10-12T10:01:25.477Z"
   },
   {
    "duration": 14,
    "start_time": "2023-10-12T10:01:30.084Z"
   },
   {
    "duration": 13,
    "start_time": "2023-10-12T10:03:12.404Z"
   },
   {
    "duration": 4,
    "start_time": "2023-10-12T10:39:43.899Z"
   },
   {
    "duration": 11,
    "start_time": "2023-10-12T10:39:52.926Z"
   },
   {
    "duration": 6,
    "start_time": "2023-10-12T10:40:02.930Z"
   },
   {
    "duration": 14,
    "start_time": "2023-10-12T11:03:03.244Z"
   },
   {
    "duration": 5,
    "start_time": "2023-10-12T11:03:21.935Z"
   },
   {
    "duration": 14,
    "start_time": "2023-10-12T11:03:22.330Z"
   },
   {
    "duration": 8,
    "start_time": "2023-10-12T11:04:31.079Z"
   },
   {
    "duration": 14,
    "start_time": "2023-10-12T11:04:32.091Z"
   },
   {
    "duration": 5,
    "start_time": "2023-10-12T11:06:22.421Z"
   },
   {
    "duration": 15,
    "start_time": "2023-10-12T11:06:22.992Z"
   },
   {
    "duration": 5,
    "start_time": "2023-10-12T11:15:37.507Z"
   },
   {
    "duration": 5,
    "start_time": "2023-10-12T11:15:40.768Z"
   },
   {
    "duration": 7,
    "start_time": "2023-10-12T11:15:57.037Z"
   },
   {
    "duration": 17,
    "start_time": "2023-10-12T11:16:46.331Z"
   },
   {
    "duration": 100,
    "start_time": "2023-10-12T11:17:13.400Z"
   },
   {
    "duration": 3,
    "start_time": "2023-10-12T11:18:40.683Z"
   },
   {
    "duration": 6,
    "start_time": "2023-10-12T11:18:46.836Z"
   },
   {
    "duration": 153,
    "start_time": "2023-10-12T11:19:33.297Z"
   },
   {
    "duration": 9,
    "start_time": "2023-10-12T11:19:37.595Z"
   },
   {
    "duration": 8,
    "start_time": "2023-10-12T11:19:41.357Z"
   },
   {
    "duration": 6,
    "start_time": "2023-10-12T11:19:44.633Z"
   },
   {
    "duration": 9,
    "start_time": "2023-10-12T11:19:51.599Z"
   },
   {
    "duration": 6,
    "start_time": "2023-10-12T11:20:01.165Z"
   },
   {
    "duration": 6,
    "start_time": "2023-10-12T11:20:04.772Z"
   },
   {
    "duration": 4,
    "start_time": "2023-10-12T11:21:14.446Z"
   },
   {
    "duration": 5,
    "start_time": "2023-10-12T11:21:14.977Z"
   },
   {
    "duration": 4,
    "start_time": "2023-10-12T11:23:05.674Z"
   },
   {
    "duration": 6,
    "start_time": "2023-10-12T11:23:06.159Z"
   },
   {
    "duration": 3,
    "start_time": "2023-10-12T11:23:36.263Z"
   },
   {
    "duration": 6,
    "start_time": "2023-10-12T11:23:36.795Z"
   },
   {
    "duration": 4,
    "start_time": "2023-10-12T11:24:04.877Z"
   },
   {
    "duration": 9,
    "start_time": "2023-10-12T11:24:05.458Z"
   },
   {
    "duration": 11,
    "start_time": "2023-10-12T11:24:25.105Z"
   },
   {
    "duration": 5,
    "start_time": "2023-10-12T11:24:34.949Z"
   },
   {
    "duration": 10,
    "start_time": "2023-10-12T11:24:36.583Z"
   },
   {
    "duration": 242,
    "start_time": "2023-10-12T11:28:08.283Z"
   },
   {
    "duration": 4,
    "start_time": "2023-10-12T11:28:24.516Z"
   },
   {
    "duration": 3,
    "start_time": "2023-10-12T11:28:44.368Z"
   },
   {
    "duration": 3,
    "start_time": "2023-10-12T11:29:59.222Z"
   },
   {
    "duration": 4,
    "start_time": "2023-10-12T11:31:42.038Z"
   },
   {
    "duration": 4,
    "start_time": "2023-10-12T11:31:42.269Z"
   },
   {
    "duration": 4,
    "start_time": "2023-10-12T11:31:42.553Z"
   },
   {
    "duration": 4,
    "start_time": "2023-10-12T11:33:09.005Z"
   },
   {
    "duration": 4,
    "start_time": "2023-10-12T11:33:09.220Z"
   },
   {
    "duration": 4,
    "start_time": "2023-10-12T11:33:09.471Z"
   },
   {
    "duration": 876,
    "start_time": "2023-10-12T11:34:04.235Z"
   },
   {
    "duration": 893,
    "start_time": "2023-10-12T11:35:11.366Z"
   },
   {
    "duration": 153,
    "start_time": "2023-10-12T11:35:28.615Z"
   },
   {
    "duration": 930,
    "start_time": "2023-10-12T11:35:31.628Z"
   },
   {
    "duration": 883,
    "start_time": "2023-10-12T11:36:08.810Z"
   },
   {
    "duration": 917,
    "start_time": "2023-10-12T11:37:23.321Z"
   },
   {
    "duration": 5,
    "start_time": "2023-10-12T11:37:30.499Z"
   },
   {
    "duration": 871,
    "start_time": "2023-10-12T11:37:37.078Z"
   },
   {
    "duration": 5,
    "start_time": "2023-10-12T11:37:56.331Z"
   },
   {
    "duration": 922,
    "start_time": "2023-10-12T11:37:58.494Z"
   },
   {
    "duration": 1056,
    "start_time": "2023-10-12T11:38:19.476Z"
   },
   {
    "duration": 404,
    "start_time": "2023-10-12T11:38:20.534Z"
   },
   {
    "duration": 15,
    "start_time": "2023-10-12T11:38:20.940Z"
   },
   {
    "duration": 177,
    "start_time": "2023-10-12T11:38:20.957Z"
   },
   {
    "duration": 8,
    "start_time": "2023-10-12T11:38:21.136Z"
   },
   {
    "duration": 73,
    "start_time": "2023-10-12T11:38:21.146Z"
   },
   {
    "duration": 9,
    "start_time": "2023-10-12T11:38:21.220Z"
   },
   {
    "duration": 64,
    "start_time": "2023-10-12T11:38:21.231Z"
   },
   {
    "duration": 434,
    "start_time": "2023-10-12T11:38:21.297Z"
   },
   {
    "duration": 170,
    "start_time": "2023-10-12T11:38:21.732Z"
   },
   {
    "duration": 155,
    "start_time": "2023-10-12T11:38:21.904Z"
   },
   {
    "duration": 4,
    "start_time": "2023-10-12T11:38:22.061Z"
   },
   {
    "duration": 60,
    "start_time": "2023-10-12T11:38:22.066Z"
   },
   {
    "duration": 45,
    "start_time": "2023-10-12T11:38:22.129Z"
   },
   {
    "duration": 36,
    "start_time": "2023-10-12T11:38:22.176Z"
   },
   {
    "duration": 109,
    "start_time": "2023-10-12T11:38:22.214Z"
   },
   {
    "duration": 199,
    "start_time": "2023-10-12T11:38:22.325Z"
   },
   {
    "duration": 55,
    "start_time": "2023-10-12T11:38:22.526Z"
   },
   {
    "duration": 190,
    "start_time": "2023-10-12T11:38:22.584Z"
   },
   {
    "duration": 144,
    "start_time": "2023-10-12T11:38:22.776Z"
   },
   {
    "duration": 209,
    "start_time": "2023-10-12T11:38:22.922Z"
   },
   {
    "duration": 22,
    "start_time": "2023-10-12T11:38:23.133Z"
   },
   {
    "duration": 28,
    "start_time": "2023-10-12T11:38:23.157Z"
   },
   {
    "duration": 26,
    "start_time": "2023-10-12T11:38:23.186Z"
   },
   {
    "duration": 57,
    "start_time": "2023-10-12T11:38:23.214Z"
   },
   {
    "duration": 41,
    "start_time": "2023-10-12T11:38:23.273Z"
   },
   {
    "duration": 22,
    "start_time": "2023-10-12T11:38:23.316Z"
   },
   {
    "duration": 103,
    "start_time": "2023-10-12T11:38:23.339Z"
   },
   {
    "duration": 244,
    "start_time": "2023-10-12T11:38:23.444Z"
   },
   {
    "duration": 77,
    "start_time": "2023-10-12T11:38:23.689Z"
   },
   {
    "duration": 1030,
    "start_time": "2023-10-12T11:38:23.768Z"
   },
   {
    "duration": 5,
    "start_time": "2023-10-12T11:41:35.142Z"
   },
   {
    "duration": 921,
    "start_time": "2023-10-12T11:41:35.662Z"
   },
   {
    "duration": 950,
    "start_time": "2023-10-12T11:41:53.782Z"
   },
   {
    "duration": 853,
    "start_time": "2023-10-12T11:41:58.247Z"
   },
   {
    "duration": 6,
    "start_time": "2023-10-12T11:42:15.246Z"
   },
   {
    "duration": 919,
    "start_time": "2023-10-12T11:42:15.594Z"
   },
   {
    "duration": 5,
    "start_time": "2023-10-12T11:42:32.570Z"
   },
   {
    "duration": 834,
    "start_time": "2023-10-12T11:42:33.857Z"
   },
   {
    "duration": 6,
    "start_time": "2023-10-12T11:42:38.623Z"
   },
   {
    "duration": 884,
    "start_time": "2023-10-12T11:42:39.825Z"
   },
   {
    "duration": 891,
    "start_time": "2023-10-12T11:42:49.732Z"
   },
   {
    "duration": 5,
    "start_time": "2023-10-12T11:43:03.319Z"
   },
   {
    "duration": 886,
    "start_time": "2023-10-12T11:43:03.762Z"
   },
   {
    "duration": 925,
    "start_time": "2023-10-12T11:43:52.602Z"
   },
   {
    "duration": 6,
    "start_time": "2023-10-12T11:45:59.640Z"
   },
   {
    "duration": 42,
    "start_time": "2023-10-12T11:46:00.159Z"
   },
   {
    "duration": 5,
    "start_time": "2023-10-12T11:46:16.729Z"
   },
   {
    "duration": 43,
    "start_time": "2023-10-12T11:46:17.066Z"
   },
   {
    "duration": 4,
    "start_time": "2023-10-12T11:46:30.233Z"
   },
   {
    "duration": 934,
    "start_time": "2023-10-12T11:46:30.672Z"
   },
   {
    "duration": 882,
    "start_time": "2023-10-12T11:46:33.540Z"
   },
   {
    "duration": 894,
    "start_time": "2023-10-12T11:46:34.905Z"
   },
   {
    "duration": 49,
    "start_time": "2023-10-13T09:09:32.129Z"
   },
   {
    "duration": 1153,
    "start_time": "2023-10-13T09:09:37.409Z"
   },
   {
    "duration": 1981,
    "start_time": "2023-10-13T09:09:38.564Z"
   },
   {
    "duration": 19,
    "start_time": "2023-10-13T09:09:40.547Z"
   },
   {
    "duration": 63,
    "start_time": "2023-10-13T09:09:40.569Z"
   },
   {
    "duration": 9,
    "start_time": "2023-10-13T09:09:40.634Z"
   },
   {
    "duration": 55,
    "start_time": "2023-10-13T09:09:40.645Z"
   },
   {
    "duration": 8,
    "start_time": "2023-10-13T09:09:40.703Z"
   },
   {
    "duration": 41,
    "start_time": "2023-10-13T09:09:40.712Z"
   },
   {
    "duration": 678,
    "start_time": "2023-10-13T09:09:40.754Z"
   },
   {
    "duration": 161,
    "start_time": "2023-10-13T09:09:41.444Z"
   },
   {
    "duration": 164,
    "start_time": "2023-10-13T09:09:41.607Z"
   },
   {
    "duration": 3,
    "start_time": "2023-10-13T09:09:41.773Z"
   },
   {
    "duration": 21,
    "start_time": "2023-10-13T09:09:41.778Z"
   },
   {
    "duration": 4,
    "start_time": "2023-10-13T09:09:41.801Z"
   },
   {
    "duration": 221,
    "start_time": "2023-10-13T09:09:41.807Z"
   },
   {
    "duration": 121,
    "start_time": "2023-10-13T09:09:42.030Z"
   },
   {
    "duration": 163,
    "start_time": "2023-10-13T09:09:42.244Z"
   },
   {
    "duration": 40,
    "start_time": "2023-10-13T09:09:42.409Z"
   },
   {
    "duration": 193,
    "start_time": "2023-10-13T09:09:42.451Z"
   },
   {
    "duration": 16,
    "start_time": "2023-10-13T09:09:42.646Z"
   },
   {
    "duration": 180,
    "start_time": "2023-10-13T09:09:42.665Z"
   },
   {
    "duration": 21,
    "start_time": "2023-10-13T09:09:42.847Z"
   },
   {
    "duration": 5,
    "start_time": "2023-10-13T09:09:42.870Z"
   },
   {
    "duration": 57,
    "start_time": "2023-10-13T09:09:42.876Z"
   },
   {
    "duration": 26,
    "start_time": "2023-10-13T09:09:42.935Z"
   },
   {
    "duration": 98,
    "start_time": "2023-10-13T09:09:42.964Z"
   },
   {
    "duration": 64,
    "start_time": "2023-10-13T09:09:43.064Z"
   },
   {
    "duration": 20,
    "start_time": "2023-10-13T09:09:43.130Z"
   },
   {
    "duration": 15,
    "start_time": "2023-10-13T09:09:43.151Z"
   },
   {
    "duration": 32,
    "start_time": "2023-10-13T09:09:43.167Z"
   },
   {
    "duration": 1090,
    "start_time": "2023-10-13T09:09:43.201Z"
   },
   {
    "duration": 863,
    "start_time": "2023-10-13T09:09:44.293Z"
   },
   {
    "duration": 850,
    "start_time": "2023-10-13T09:09:45.157Z"
   },
   {
    "duration": 5,
    "start_time": "2023-10-13T09:18:17.301Z"
   },
   {
    "duration": 1052,
    "start_time": "2023-10-13T09:18:36.502Z"
   },
   {
    "duration": 6,
    "start_time": "2023-10-13T09:19:11.838Z"
   },
   {
    "duration": 6471,
    "start_time": "2023-10-13T09:19:12.129Z"
   },
   {
    "duration": 6,
    "start_time": "2023-10-13T09:20:30.811Z"
   },
   {
    "duration": 6,
    "start_time": "2023-10-13T09:20:38.112Z"
   },
   {
    "duration": 5,
    "start_time": "2023-10-13T09:20:53.819Z"
   },
   {
    "duration": 956,
    "start_time": "2023-10-13T09:20:54.200Z"
   },
   {
    "duration": 6,
    "start_time": "2023-10-13T09:21:05.231Z"
   },
   {
    "duration": 6445,
    "start_time": "2023-10-13T09:21:11.499Z"
   },
   {
    "duration": 7176,
    "start_time": "2023-10-13T09:21:48.846Z"
   },
   {
    "duration": 6,
    "start_time": "2023-10-13T09:22:10.182Z"
   },
   {
    "duration": 11677,
    "start_time": "2023-10-13T09:22:10.455Z"
   },
   {
    "duration": 6,
    "start_time": "2023-10-13T09:22:45.239Z"
   },
   {
    "duration": 916,
    "start_time": "2023-10-13T09:22:51.093Z"
   },
   {
    "duration": 6,
    "start_time": "2023-10-13T09:23:09.067Z"
   },
   {
    "duration": 6970,
    "start_time": "2023-10-13T09:23:09.324Z"
   },
   {
    "duration": 5,
    "start_time": "2023-10-13T09:23:51.598Z"
   },
   {
    "duration": 6191,
    "start_time": "2023-10-13T09:23:55.593Z"
   },
   {
    "duration": 5,
    "start_time": "2023-10-13T09:24:11.541Z"
   },
   {
    "duration": 6,
    "start_time": "2023-10-13T09:24:15.542Z"
   },
   {
    "duration": 873,
    "start_time": "2023-10-13T09:24:15.786Z"
   },
   {
    "duration": 5,
    "start_time": "2023-10-13T09:24:42.932Z"
   },
   {
    "duration": 857,
    "start_time": "2023-10-13T09:24:43.204Z"
   },
   {
    "duration": 849,
    "start_time": "2023-10-13T09:24:47.190Z"
   },
   {
    "duration": 847,
    "start_time": "2023-10-13T09:24:57.589Z"
   },
   {
    "duration": 1023,
    "start_time": "2023-10-13T09:25:09.263Z"
   },
   {
    "duration": 870,
    "start_time": "2023-10-13T09:25:16.259Z"
   },
   {
    "duration": 906,
    "start_time": "2023-10-13T09:25:59.842Z"
   },
   {
    "duration": 3,
    "start_time": "2023-10-13T09:30:18.137Z"
   },
   {
    "duration": 5,
    "start_time": "2023-10-13T09:30:44.571Z"
   },
   {
    "duration": 5,
    "start_time": "2023-10-13T09:31:24.567Z"
   },
   {
    "duration": 907,
    "start_time": "2023-10-13T09:31:39.359Z"
   },
   {
    "duration": 5,
    "start_time": "2023-10-13T09:33:08.455Z"
   },
   {
    "duration": 15,
    "start_time": "2023-10-13T09:33:13.151Z"
   },
   {
    "duration": 5,
    "start_time": "2023-10-13T09:33:22.726Z"
   },
   {
    "duration": 15,
    "start_time": "2023-10-13T09:33:23.062Z"
   },
   {
    "duration": 16,
    "start_time": "2023-10-13T09:33:41.699Z"
   },
   {
    "duration": 5,
    "start_time": "2023-10-13T09:33:51.920Z"
   },
   {
    "duration": 14,
    "start_time": "2023-10-13T09:33:52.201Z"
   },
   {
    "duration": 5,
    "start_time": "2023-10-13T09:34:24.582Z"
   },
   {
    "duration": 1015,
    "start_time": "2023-10-13T09:34:24.856Z"
   },
   {
    "duration": 6,
    "start_time": "2023-10-13T09:35:01.124Z"
   },
   {
    "duration": 5,
    "start_time": "2023-10-13T09:35:35.167Z"
   },
   {
    "duration": 905,
    "start_time": "2023-10-13T09:35:35.373Z"
   },
   {
    "duration": 120,
    "start_time": "2023-10-13T09:36:11.894Z"
   },
   {
    "duration": 907,
    "start_time": "2023-10-13T09:36:17.888Z"
   },
   {
    "duration": 911,
    "start_time": "2023-10-13T09:37:06.341Z"
   },
   {
    "duration": 6,
    "start_time": "2023-10-13T09:37:07.891Z"
   },
   {
    "duration": 927,
    "start_time": "2023-10-13T09:37:08.066Z"
   },
   {
    "duration": 977,
    "start_time": "2023-10-13T09:37:16.586Z"
   },
   {
    "duration": 6,
    "start_time": "2023-10-13T09:37:28.960Z"
   },
   {
    "duration": 975,
    "start_time": "2023-10-13T09:37:29.418Z"
   },
   {
    "duration": 6,
    "start_time": "2023-10-13T09:37:39.483Z"
   },
   {
    "duration": 992,
    "start_time": "2023-10-13T09:37:40.246Z"
   },
   {
    "duration": 980,
    "start_time": "2023-10-13T09:37:58.252Z"
   },
   {
    "duration": 919,
    "start_time": "2023-10-13T09:38:45.737Z"
   },
   {
    "duration": 6,
    "start_time": "2023-10-13T09:38:51.553Z"
   },
   {
    "duration": 964,
    "start_time": "2023-10-13T09:38:52.022Z"
   },
   {
    "duration": 980,
    "start_time": "2023-10-13T09:38:59.396Z"
   },
   {
    "duration": 1046,
    "start_time": "2023-10-13T09:39:03.156Z"
   },
   {
    "duration": 1007,
    "start_time": "2023-10-13T09:39:23.145Z"
   },
   {
    "duration": 918,
    "start_time": "2023-10-13T09:39:31.322Z"
   },
   {
    "duration": 903,
    "start_time": "2023-10-13T09:39:57.843Z"
   },
   {
    "duration": 1060,
    "start_time": "2023-10-13T09:40:06.093Z"
   },
   {
    "duration": 411,
    "start_time": "2023-10-13T09:40:07.154Z"
   },
   {
    "duration": 16,
    "start_time": "2023-10-13T09:40:07.566Z"
   },
   {
    "duration": 89,
    "start_time": "2023-10-13T09:40:07.583Z"
   },
   {
    "duration": 29,
    "start_time": "2023-10-13T09:40:07.674Z"
   },
   {
    "duration": 99,
    "start_time": "2023-10-13T09:40:07.704Z"
   },
   {
    "duration": 13,
    "start_time": "2023-10-13T09:40:07.805Z"
   },
   {
    "duration": 64,
    "start_time": "2023-10-13T09:40:07.820Z"
   },
   {
    "duration": 404,
    "start_time": "2023-10-13T09:40:07.886Z"
   },
   {
    "duration": 146,
    "start_time": "2023-10-13T09:40:08.292Z"
   },
   {
    "duration": 155,
    "start_time": "2023-10-13T09:40:08.439Z"
   },
   {
    "duration": 3,
    "start_time": "2023-10-13T09:40:08.596Z"
   },
   {
    "duration": 52,
    "start_time": "2023-10-13T09:40:08.600Z"
   },
   {
    "duration": 13,
    "start_time": "2023-10-13T09:40:08.655Z"
   },
   {
    "duration": 42,
    "start_time": "2023-10-13T09:40:08.669Z"
   },
   {
    "duration": 42,
    "start_time": "2023-10-13T09:40:08.712Z"
   },
   {
    "duration": 190,
    "start_time": "2023-10-13T09:40:08.756Z"
   },
   {
    "duration": 24,
    "start_time": "2023-10-13T09:40:08.948Z"
   },
   {
    "duration": 177,
    "start_time": "2023-10-13T09:40:08.974Z"
   },
   {
    "duration": 41,
    "start_time": "2023-10-13T09:40:09.153Z"
   },
   {
    "duration": 5,
    "start_time": "2023-10-13T09:40:09.245Z"
   },
   {
    "duration": 123,
    "start_time": "2023-10-13T09:40:09.253Z"
   },
   {
    "duration": 46,
    "start_time": "2023-10-13T09:40:09.378Z"
   },
   {
    "duration": 35,
    "start_time": "2023-10-13T09:40:09.426Z"
   },
   {
    "duration": 25,
    "start_time": "2023-10-13T09:40:09.463Z"
   },
   {
    "duration": 19,
    "start_time": "2023-10-13T09:40:09.490Z"
   },
   {
    "duration": 13,
    "start_time": "2023-10-13T09:40:09.511Z"
   },
   {
    "duration": 27,
    "start_time": "2023-10-13T09:40:09.526Z"
   },
   {
    "duration": 22,
    "start_time": "2023-10-13T09:40:09.555Z"
   },
   {
    "duration": 22,
    "start_time": "2023-10-13T09:40:09.579Z"
   },
   {
    "duration": 958,
    "start_time": "2023-10-13T09:40:09.602Z"
   },
   {
    "duration": 953,
    "start_time": "2023-10-13T09:40:10.562Z"
   },
   {
    "duration": 1071,
    "start_time": "2023-10-13T09:40:11.517Z"
   },
   {
    "duration": 992,
    "start_time": "2023-10-13T09:40:21.259Z"
   },
   {
    "duration": 6,
    "start_time": "2023-10-13T09:40:56.387Z"
   },
   {
    "duration": 1000,
    "start_time": "2023-10-13T09:41:01.279Z"
   },
   {
    "duration": 1063,
    "start_time": "2023-10-13T09:41:03.257Z"
   },
   {
    "duration": 942,
    "start_time": "2023-10-13T09:41:05.465Z"
   },
   {
    "duration": 1069,
    "start_time": "2023-10-13T09:41:21.599Z"
   },
   {
    "duration": 442,
    "start_time": "2023-10-13T09:41:22.670Z"
   },
   {
    "duration": 16,
    "start_time": "2023-10-13T09:41:23.113Z"
   },
   {
    "duration": 54,
    "start_time": "2023-10-13T09:41:23.130Z"
   },
   {
    "duration": 17,
    "start_time": "2023-10-13T09:41:23.186Z"
   },
   {
    "duration": 61,
    "start_time": "2023-10-13T09:41:23.205Z"
   },
   {
    "duration": 8,
    "start_time": "2023-10-13T09:41:23.268Z"
   },
   {
    "duration": 45,
    "start_time": "2023-10-13T09:41:23.277Z"
   },
   {
    "duration": 408,
    "start_time": "2023-10-13T09:41:23.324Z"
   },
   {
    "duration": 148,
    "start_time": "2023-10-13T09:41:23.734Z"
   },
   {
    "duration": 169,
    "start_time": "2023-10-13T09:41:23.884Z"
   },
   {
    "duration": 3,
    "start_time": "2023-10-13T09:41:24.055Z"
   },
   {
    "duration": 24,
    "start_time": "2023-10-13T09:41:24.060Z"
   },
   {
    "duration": 8,
    "start_time": "2023-10-13T09:41:24.088Z"
   },
   {
    "duration": 8,
    "start_time": "2023-10-13T09:41:24.098Z"
   },
   {
    "duration": 45,
    "start_time": "2023-10-13T09:41:24.108Z"
   },
   {
    "duration": 190,
    "start_time": "2023-10-13T09:41:24.155Z"
   },
   {
    "duration": 16,
    "start_time": "2023-10-13T09:41:24.347Z"
   },
   {
    "duration": 179,
    "start_time": "2023-10-13T09:41:24.367Z"
   },
   {
    "duration": 15,
    "start_time": "2023-10-13T09:41:24.547Z"
   },
   {
    "duration": 87,
    "start_time": "2023-10-13T09:41:24.564Z"
   },
   {
    "duration": 100,
    "start_time": "2023-10-13T09:41:24.654Z"
   },
   {
    "duration": 32,
    "start_time": "2023-10-13T09:41:24.756Z"
   },
   {
    "duration": 17,
    "start_time": "2023-10-13T09:41:24.790Z"
   },
   {
    "duration": 27,
    "start_time": "2023-10-13T09:41:24.808Z"
   },
   {
    "duration": 46,
    "start_time": "2023-10-13T09:41:24.836Z"
   },
   {
    "duration": 42,
    "start_time": "2023-10-13T09:41:24.883Z"
   },
   {
    "duration": 26,
    "start_time": "2023-10-13T09:41:24.926Z"
   },
   {
    "duration": 14,
    "start_time": "2023-10-13T09:41:24.954Z"
   },
   {
    "duration": 54,
    "start_time": "2023-10-13T09:41:24.970Z"
   },
   {
    "duration": 966,
    "start_time": "2023-10-13T09:41:25.026Z"
   },
   {
    "duration": 953,
    "start_time": "2023-10-13T09:41:25.994Z"
   },
   {
    "duration": 946,
    "start_time": "2023-10-13T09:41:26.949Z"
   },
   {
    "duration": 2171,
    "start_time": "2023-10-13T09:48:52.443Z"
   },
   {
    "duration": 407,
    "start_time": "2023-10-13T09:48:54.616Z"
   },
   {
    "duration": 25,
    "start_time": "2023-10-13T09:48:55.024Z"
   },
   {
    "duration": 38,
    "start_time": "2023-10-13T09:48:55.050Z"
   },
   {
    "duration": 9,
    "start_time": "2023-10-13T09:48:55.090Z"
   },
   {
    "duration": 67,
    "start_time": "2023-10-13T09:48:55.100Z"
   },
   {
    "duration": 9,
    "start_time": "2023-10-13T09:48:55.169Z"
   },
   {
    "duration": 39,
    "start_time": "2023-10-13T09:48:55.179Z"
   },
   {
    "duration": 412,
    "start_time": "2023-10-13T09:48:55.220Z"
   },
   {
    "duration": 143,
    "start_time": "2023-10-13T09:48:55.633Z"
   },
   {
    "duration": 142,
    "start_time": "2023-10-13T09:48:55.778Z"
   },
   {
    "duration": 3,
    "start_time": "2023-10-13T09:48:55.921Z"
   },
   {
    "duration": 134,
    "start_time": "2023-10-13T09:48:55.926Z"
   },
   {
    "duration": 13,
    "start_time": "2023-10-13T09:48:56.063Z"
   },
   {
    "duration": 26,
    "start_time": "2023-10-13T09:48:56.078Z"
   },
   {
    "duration": 38,
    "start_time": "2023-10-13T09:48:56.105Z"
   },
   {
    "duration": 204,
    "start_time": "2023-10-13T09:48:56.145Z"
   },
   {
    "duration": 16,
    "start_time": "2023-10-13T09:48:56.350Z"
   },
   {
    "duration": 177,
    "start_time": "2023-10-13T09:48:56.368Z"
   },
   {
    "duration": 14,
    "start_time": "2023-10-13T09:48:56.547Z"
   },
   {
    "duration": 181,
    "start_time": "2023-10-13T09:48:56.563Z"
   },
   {
    "duration": 4,
    "start_time": "2023-10-13T09:48:56.746Z"
   },
   {
    "duration": 19,
    "start_time": "2023-10-13T09:48:56.751Z"
   },
   {
    "duration": 15,
    "start_time": "2023-10-13T09:48:56.771Z"
   },
   {
    "duration": 25,
    "start_time": "2023-10-13T09:48:56.787Z"
   },
   {
    "duration": 27,
    "start_time": "2023-10-13T09:48:56.813Z"
   },
   {
    "duration": 8,
    "start_time": "2023-10-13T09:48:56.842Z"
   },
   {
    "duration": 28,
    "start_time": "2023-10-13T09:48:56.851Z"
   },
   {
    "duration": 24,
    "start_time": "2023-10-13T09:48:56.880Z"
   },
   {
    "duration": 10,
    "start_time": "2023-10-13T09:48:56.906Z"
   },
   {
    "duration": 916,
    "start_time": "2023-10-13T09:48:56.918Z"
   },
   {
    "duration": 970,
    "start_time": "2023-10-13T09:48:57.835Z"
   },
   {
    "duration": 934,
    "start_time": "2023-10-13T09:48:58.806Z"
   },
   {
    "duration": 5,
    "start_time": "2023-10-13T09:51:50.706Z"
   },
   {
    "duration": 922,
    "start_time": "2023-10-13T09:51:50.980Z"
   },
   {
    "duration": 6,
    "start_time": "2023-10-13T09:52:09.327Z"
   },
   {
    "duration": 955,
    "start_time": "2023-10-13T09:52:09.976Z"
   },
   {
    "duration": 6,
    "start_time": "2023-10-13T09:52:19.402Z"
   },
   {
    "duration": 954,
    "start_time": "2023-10-13T09:52:20.624Z"
   },
   {
    "duration": 6,
    "start_time": "2023-10-13T09:52:38.005Z"
   },
   {
    "duration": 992,
    "start_time": "2023-10-13T09:52:38.215Z"
   },
   {
    "duration": 1536,
    "start_time": "2023-10-14T19:08:18.591Z"
   },
   {
    "duration": 796,
    "start_time": "2023-10-14T19:08:24.310Z"
   },
   {
    "duration": 16,
    "start_time": "2023-10-14T19:08:26.073Z"
   },
   {
    "duration": 40,
    "start_time": "2023-10-14T19:08:26.787Z"
   },
   {
    "duration": 7,
    "start_time": "2023-10-14T19:08:28.371Z"
   },
   {
    "duration": 34,
    "start_time": "2023-10-14T19:08:29.938Z"
   },
   {
    "duration": 10,
    "start_time": "2023-10-14T19:08:30.259Z"
   },
   {
    "duration": 35,
    "start_time": "2023-10-14T19:08:31.875Z"
   },
   {
    "duration": 163,
    "start_time": "2023-10-14T19:08:33.477Z"
   },
   {
    "duration": 194,
    "start_time": "2023-10-14T19:09:05.950Z"
   },
   {
    "duration": 151,
    "start_time": "2023-10-14T19:09:10.558Z"
   },
   {
    "duration": 4,
    "start_time": "2023-10-14T19:11:31.960Z"
   },
   {
    "duration": 3,
    "start_time": "2023-10-14T19:13:29.949Z"
   },
   {
    "duration": 3,
    "start_time": "2023-10-14T19:13:36.161Z"
   },
   {
    "duration": 4,
    "start_time": "2023-10-14T19:13:36.594Z"
   },
   {
    "duration": 3,
    "start_time": "2023-10-14T19:13:39.239Z"
   },
   {
    "duration": 3,
    "start_time": "2023-10-14T19:13:54.714Z"
   },
   {
    "duration": 5,
    "start_time": "2023-10-14T19:13:58.297Z"
   },
   {
    "duration": 1310,
    "start_time": "2023-10-14T19:14:02.894Z"
   },
   {
    "duration": 394,
    "start_time": "2023-10-14T19:14:04.205Z"
   },
   {
    "duration": 15,
    "start_time": "2023-10-14T19:14:04.601Z"
   },
   {
    "duration": 49,
    "start_time": "2023-10-14T19:14:04.618Z"
   },
   {
    "duration": 8,
    "start_time": "2023-10-14T19:14:04.668Z"
   },
   {
    "duration": 46,
    "start_time": "2023-10-14T19:14:04.678Z"
   },
   {
    "duration": 8,
    "start_time": "2023-10-14T19:14:04.726Z"
   },
   {
    "duration": 44,
    "start_time": "2023-10-14T19:14:04.736Z"
   },
   {
    "duration": 177,
    "start_time": "2023-10-14T19:14:04.782Z"
   },
   {
    "duration": 160,
    "start_time": "2023-10-14T19:14:04.963Z"
   },
   {
    "duration": 177,
    "start_time": "2023-10-14T19:14:05.125Z"
   },
   {
    "duration": 4,
    "start_time": "2023-10-14T19:14:05.307Z"
   },
   {
    "duration": 16,
    "start_time": "2023-10-14T19:14:05.312Z"
   },
   {
    "duration": 3,
    "start_time": "2023-10-14T19:14:05.330Z"
   },
   {
    "duration": 17,
    "start_time": "2023-10-14T19:14:05.334Z"
   },
   {
    "duration": 153,
    "start_time": "2023-10-14T19:14:05.353Z"
   },
   {
    "duration": 13,
    "start_time": "2023-10-14T19:14:05.509Z"
   },
   {
    "duration": 85,
    "start_time": "2023-10-14T19:14:05.523Z"
   },
   {
    "duration": 105,
    "start_time": "2023-10-14T19:14:05.610Z"
   },
   {
    "duration": 105,
    "start_time": "2023-10-14T19:14:05.717Z"
   },
   {
    "duration": 88,
    "start_time": "2023-10-14T19:14:05.826Z"
   },
   {
    "duration": 92,
    "start_time": "2023-10-14T19:14:05.916Z"
   },
   {
    "duration": 11,
    "start_time": "2023-10-14T19:14:06.010Z"
   },
   {
    "duration": 14,
    "start_time": "2023-10-14T19:14:06.022Z"
   },
   {
    "duration": 20,
    "start_time": "2023-10-14T19:14:06.038Z"
   },
   {
    "duration": 6,
    "start_time": "2023-10-14T19:14:06.061Z"
   },
   {
    "duration": 3,
    "start_time": "2023-10-14T19:14:06.069Z"
   },
   {
    "duration": 9,
    "start_time": "2023-10-14T19:14:06.076Z"
   },
   {
    "duration": 20,
    "start_time": "2023-10-14T19:14:06.087Z"
   },
   {
    "duration": 8,
    "start_time": "2023-10-14T19:14:06.109Z"
   },
   {
    "duration": 125,
    "start_time": "2023-10-14T19:14:06.118Z"
   },
   {
    "duration": 0,
    "start_time": "2023-10-14T19:14:06.245Z"
   },
   {
    "duration": 0,
    "start_time": "2023-10-14T19:14:06.246Z"
   },
   {
    "duration": 5,
    "start_time": "2023-10-14T19:15:48.533Z"
   },
   {
    "duration": 15,
    "start_time": "2023-10-14T19:15:50.584Z"
   },
   {
    "duration": 6,
    "start_time": "2023-10-14T19:16:05.930Z"
   },
   {
    "duration": 13,
    "start_time": "2023-10-14T19:16:06.127Z"
   },
   {
    "duration": 5,
    "start_time": "2023-10-14T19:16:11.089Z"
   },
   {
    "duration": 959,
    "start_time": "2023-10-14T19:16:11.330Z"
   },
   {
    "duration": 1006,
    "start_time": "2023-10-14T19:16:15.266Z"
   },
   {
    "duration": 950,
    "start_time": "2023-10-14T19:16:16.813Z"
   },
   {
    "duration": 5,
    "start_time": "2023-10-14T19:17:53.409Z"
   },
   {
    "duration": 925,
    "start_time": "2023-10-14T19:17:53.951Z"
   },
   {
    "duration": 6,
    "start_time": "2023-10-14T19:18:06.191Z"
   },
   {
    "duration": 982,
    "start_time": "2023-10-14T19:18:06.852Z"
   },
   {
    "duration": 991,
    "start_time": "2023-10-14T19:18:16.873Z"
   },
   {
    "duration": 967,
    "start_time": "2023-10-14T19:19:06.377Z"
   },
   {
    "duration": 5,
    "start_time": "2023-10-14T19:19:10.675Z"
   },
   {
    "duration": 944,
    "start_time": "2023-10-14T19:19:10.896Z"
   },
   {
    "duration": 938,
    "start_time": "2023-10-14T19:19:14.851Z"
   },
   {
    "duration": 5,
    "start_time": "2023-10-14T19:19:44.187Z"
   },
   {
    "duration": 915,
    "start_time": "2023-10-14T19:19:44.437Z"
   },
   {
    "duration": 904,
    "start_time": "2023-10-14T19:19:47.962Z"
   },
   {
    "duration": 946,
    "start_time": "2023-10-14T19:19:50.653Z"
   },
   {
    "duration": 1367,
    "start_time": "2023-10-14T19:27:40.358Z"
   },
   {
    "duration": 402,
    "start_time": "2023-10-14T19:27:41.727Z"
   },
   {
    "duration": 13,
    "start_time": "2023-10-14T19:27:42.131Z"
   },
   {
    "duration": 41,
    "start_time": "2023-10-14T19:27:42.146Z"
   },
   {
    "duration": 7,
    "start_time": "2023-10-14T19:27:42.188Z"
   },
   {
    "duration": 46,
    "start_time": "2023-10-14T19:27:42.196Z"
   },
   {
    "duration": 9,
    "start_time": "2023-10-14T19:27:42.243Z"
   },
   {
    "duration": 43,
    "start_time": "2023-10-14T19:27:42.253Z"
   },
   {
    "duration": 170,
    "start_time": "2023-10-14T19:27:42.297Z"
   },
   {
    "duration": 155,
    "start_time": "2023-10-14T19:27:42.469Z"
   },
   {
    "duration": 155,
    "start_time": "2023-10-14T19:27:42.625Z"
   },
   {
    "duration": 3,
    "start_time": "2023-10-14T19:27:42.782Z"
   },
   {
    "duration": 37,
    "start_time": "2023-10-14T19:27:42.787Z"
   },
   {
    "duration": 12,
    "start_time": "2023-10-14T19:27:42.826Z"
   },
   {
    "duration": 9,
    "start_time": "2023-10-14T19:27:42.839Z"
   },
   {
    "duration": 23,
    "start_time": "2023-10-14T19:27:42.850Z"
   },
   {
    "duration": 104,
    "start_time": "2023-10-14T19:27:42.912Z"
   },
   {
    "duration": 14,
    "start_time": "2023-10-14T19:27:43.018Z"
   },
   {
    "duration": 174,
    "start_time": "2023-10-14T19:27:43.034Z"
   },
   {
    "duration": 17,
    "start_time": "2023-10-14T19:27:43.209Z"
   },
   {
    "duration": 9,
    "start_time": "2023-10-14T19:27:43.307Z"
   },
   {
    "duration": 46,
    "start_time": "2023-10-14T19:27:43.408Z"
   },
   {
    "duration": 47,
    "start_time": "2023-10-14T19:27:43.456Z"
   },
   {
    "duration": 8,
    "start_time": "2023-10-14T19:27:43.505Z"
   },
   {
    "duration": 7,
    "start_time": "2023-10-14T19:27:43.514Z"
   },
   {
    "duration": 31,
    "start_time": "2023-10-14T19:27:43.522Z"
   },
   {
    "duration": 7,
    "start_time": "2023-10-14T19:27:43.555Z"
   },
   {
    "duration": 15,
    "start_time": "2023-10-14T19:27:43.565Z"
   },
   {
    "duration": 12,
    "start_time": "2023-10-14T19:27:43.582Z"
   },
   {
    "duration": 11,
    "start_time": "2023-10-14T19:27:43.595Z"
   },
   {
    "duration": 934,
    "start_time": "2023-10-14T19:27:43.608Z"
   },
   {
    "duration": 931,
    "start_time": "2023-10-14T19:27:44.544Z"
   },
   {
    "duration": 923,
    "start_time": "2023-10-14T19:27:45.476Z"
   },
   {
    "duration": 50,
    "start_time": "2023-12-12T17:11:28.965Z"
   },
   {
    "duration": 1466,
    "start_time": "2023-12-12T17:11:35.898Z"
   },
   {
    "duration": 726,
    "start_time": "2023-12-12T17:11:39.971Z"
   },
   {
    "duration": 162,
    "start_time": "2023-12-12T17:11:45.043Z"
   },
   {
    "duration": 1146,
    "start_time": "2024-02-19T13:58:17.305Z"
   },
   {
    "duration": 716,
    "start_time": "2024-02-19T13:58:19.921Z"
   },
   {
    "duration": 11,
    "start_time": "2024-02-19T13:58:20.639Z"
   },
   {
    "duration": 36,
    "start_time": "2024-02-19T13:58:21.255Z"
   },
   {
    "duration": 9,
    "start_time": "2024-02-19T13:58:21.480Z"
   },
   {
    "duration": 35,
    "start_time": "2024-02-19T13:58:21.662Z"
   },
   {
    "duration": 9,
    "start_time": "2024-02-19T13:58:23.612Z"
   },
   {
    "duration": 31,
    "start_time": "2024-02-19T13:58:23.898Z"
   },
   {
    "duration": 152,
    "start_time": "2024-02-19T13:58:25.367Z"
   },
   {
    "duration": 136,
    "start_time": "2024-02-19T13:58:27.876Z"
   },
   {
    "duration": 148,
    "start_time": "2024-02-19T13:58:28.377Z"
   }
  ],
  "kernelspec": {
   "display_name": "Python 3 (ipykernel)",
   "language": "python",
   "name": "python3"
  },
  "language_info": {
   "codemirror_mode": {
    "name": "ipython",
    "version": 3
   },
   "file_extension": ".py",
   "mimetype": "text/x-python",
   "name": "python",
   "nbconvert_exporter": "python",
   "pygments_lexer": "ipython3",
   "version": "3.9.5"
  },
  "toc": {
   "base_numbering": 1,
   "nav_menu": {},
   "number_sections": true,
   "sideBar": true,
   "skip_h1_title": true,
   "title_cell": "Table of Contents",
   "title_sidebar": "Contents",
   "toc_cell": false,
   "toc_position": {},
   "toc_section_display": true,
   "toc_window_display": false
  }
 },
 "nbformat": 4,
 "nbformat_minor": 2
}
