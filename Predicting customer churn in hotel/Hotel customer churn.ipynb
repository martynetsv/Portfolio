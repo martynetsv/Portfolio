{
 "cells": [
  {
   "cell_type": "markdown",
   "metadata": {},
   "source": [
    "# Прогнозирование оттока клиентов в сети отелей"
   ]
  },
  {
   "cell_type": "markdown",
   "metadata": {},
   "source": [
    "Нужно разработать систему, которая предсказывает отказ от брони. Если модель покажет, что бронь будет отменена, то клиенту предлагается внести депозит. Размер депозита — 80% от стоимости номера за одни сутки и затрат на разовую уборку. Деньги будут списаны со счёта клиента, если он всё же отменит бронь.\n",
    "\n",
    "Основная бизнес-метрика для любой сети отелей — её прибыль. Прибыль отеля — это разница между стоимостью номера за все ночи и затраты на обслуживание: как при подготовке номера, так и при проживании постояльца. В отеле есть несколько типов номеров. В зависимости от типа номера назначается стоимость за одну ночь. Есть также затраты на уборку. Если клиент снял номер надолго, то убираются каждые два дня. Стоимость номеров отеля:\n",
    "\n",
    "категория A: за ночь — 1 000, разовое обслуживание — 400;  \n",
    "категория B: за ночь — 800, разовое обслуживание — 350;  \n",
    "категория C: за ночь — 600, разовое обслуживание — 350;  \n",
    "категория D: за ночь — 550, разовое обслуживание — 150;  \n",
    "категория E: за ночь — 500, разовое обслуживание — 150;  \n",
    "категория F: за ночь — 450, разовое обслуживание — 150;  \n",
    "категория G: за ночь — 350, разовое обслуживание — 150.  \n",
    "\n",
    "В ценовой политике отеля используются сезонные коэффициенты: весной и осенью цены повышаются на 20%, летом — на 40%. Убытки отеля в случае отмены брони номера — это стоимость одной уборки и одной ночи с учётом сезонного коэффициента. На разработку системы прогнозирования заложен бюджет — 400 000. При этом необходимо учесть, что внедрение модели должно окупиться за тестовый период. Затраты на разработку должны быть меньше той выручки, которую система принесёт компании.\n"
   ]
  },
  {
   "cell_type": "markdown",
   "metadata": {},
   "source": [
    "### Шаг 1. Откройте файлы с данными"
   ]
  },
  {
   "cell_type": "code",
   "execution_count": 1,
   "metadata": {},
   "outputs": [
    {
     "name": "stdout",
     "output_type": "stream",
     "text": [
      "Requirement already satisfied: scikit-learn in /opt/conda/lib/python3.9/site-packages (0.24.1)\n",
      "Collecting scikit-learn\n",
      "  Downloading scikit_learn-1.4.1.post1-cp39-cp39-manylinux_2_17_x86_64.manylinux2014_x86_64.whl (12.2 MB)\n",
      "\u001b[K     |████████████████████████████████| 12.2 MB 2.6 MB/s eta 0:00:01\n",
      "\u001b[?25hRequirement already satisfied: threadpoolctl>=2.0.0 in /opt/conda/lib/python3.9/site-packages (from scikit-learn) (3.1.0)\n",
      "Requirement already satisfied: numpy<2.0,>=1.19.5 in /opt/conda/lib/python3.9/site-packages (from scikit-learn) (1.21.1)\n",
      "Collecting joblib>=1.2.0\n",
      "  Downloading joblib-1.3.2-py3-none-any.whl (302 kB)\n",
      "\u001b[K     |████████████████████████████████| 302 kB 107.3 MB/s eta 0:00:01\n",
      "\u001b[?25hRequirement already satisfied: scipy>=1.6.0 in /opt/conda/lib/python3.9/site-packages (from scikit-learn) (1.9.1)\n",
      "Installing collected packages: joblib, scikit-learn\n",
      "  Attempting uninstall: joblib\n",
      "    Found existing installation: joblib 1.1.0\n",
      "    Uninstalling joblib-1.1.0:\n",
      "      Successfully uninstalled joblib-1.1.0\n",
      "  Attempting uninstall: scikit-learn\n",
      "    Found existing installation: scikit-learn 0.24.1\n",
      "    Uninstalling scikit-learn-0.24.1:\n",
      "      Successfully uninstalled scikit-learn-0.24.1\n",
      "Successfully installed joblib-1.3.2 scikit-learn-1.4.1.post1\n"
     ]
    }
   ],
   "source": [
    "!pip install scikit-learn --upgrade"
   ]
  },
  {
   "cell_type": "code",
   "execution_count": 2,
   "metadata": {},
   "outputs": [],
   "source": [
    "import pandas as pd\n",
    "import matplotlib.pyplot as plt\n",
    "import seaborn as sns\n",
    "from math import ceil\n",
    "\n",
    "from sklearn.model_selection import train_test_split\n",
    "from sklearn.model_selection import cross_val_score\n",
    "\n",
    "from sklearn.preprocessing import OneHotEncoder\n",
    "from sklearn.preprocessing import StandardScaler\n",
    "\n",
    "from sklearn.linear_model import LogisticRegression\n",
    "from sklearn.tree import DecisionTreeClassifier\n",
    "from sklearn.ensemble import RandomForestClassifier\n",
    "\n",
    "\n",
    "from sklearn.metrics import roc_auc_score\n",
    "from sklearn.metrics import f1_score\n",
    "\n",
    "import warnings\n",
    "warnings.filterwarnings(\"ignore\")\n",
    "\n",
    "RANDOM_STATE = 11111"
   ]
  },
  {
   "cell_type": "code",
   "execution_count": 3,
   "metadata": {},
   "outputs": [],
   "source": [
    "data_train = pd.read_csv('/datasets/hotel_train.csv')\n",
    "data_test = pd.read_csv('/datasets/hotel_test.csv')"
   ]
  },
  {
   "cell_type": "code",
   "execution_count": 4,
   "metadata": {},
   "outputs": [],
   "source": [
    "def get_data_info(data):\n",
    "    display(data.sample(5))\n",
    "    display(data.info())\n",
    "    display(data.describe(include='all'))"
   ]
  },
  {
   "cell_type": "code",
   "execution_count": 5,
   "metadata": {
    "scrolled": false
   },
   "outputs": [
    {
     "data": {
      "text/html": [
       "<div>\n",
       "<style scoped>\n",
       "    .dataframe tbody tr th:only-of-type {\n",
       "        vertical-align: middle;\n",
       "    }\n",
       "\n",
       "    .dataframe tbody tr th {\n",
       "        vertical-align: top;\n",
       "    }\n",
       "\n",
       "    .dataframe thead th {\n",
       "        text-align: right;\n",
       "    }\n",
       "</style>\n",
       "<table border=\"1\" class=\"dataframe\">\n",
       "  <thead>\n",
       "    <tr style=\"text-align: right;\">\n",
       "      <th></th>\n",
       "      <th>id</th>\n",
       "      <th>is_canceled</th>\n",
       "      <th>lead_time</th>\n",
       "      <th>arrival_date_year</th>\n",
       "      <th>arrival_date_month</th>\n",
       "      <th>arrival_date_week_number</th>\n",
       "      <th>arrival_date_day_of_month</th>\n",
       "      <th>stays_in_weekend_nights</th>\n",
       "      <th>stays_in_week_nights</th>\n",
       "      <th>adults</th>\n",
       "      <th>...</th>\n",
       "      <th>is_repeated_guest</th>\n",
       "      <th>previous_cancellations</th>\n",
       "      <th>previous_bookings_not_canceled</th>\n",
       "      <th>reserved_room_type</th>\n",
       "      <th>booking_changes</th>\n",
       "      <th>days_in_waiting_list</th>\n",
       "      <th>customer_type</th>\n",
       "      <th>required_car_parking_spaces</th>\n",
       "      <th>total_of_special_requests</th>\n",
       "      <th>total_nights</th>\n",
       "    </tr>\n",
       "  </thead>\n",
       "  <tbody>\n",
       "    <tr>\n",
       "      <th>3246</th>\n",
       "      <td>3278</td>\n",
       "      <td>1</td>\n",
       "      <td>168.0</td>\n",
       "      <td>2016</td>\n",
       "      <td>April</td>\n",
       "      <td>16</td>\n",
       "      <td>12</td>\n",
       "      <td>0</td>\n",
       "      <td>2</td>\n",
       "      <td>2.0</td>\n",
       "      <td>...</td>\n",
       "      <td>0</td>\n",
       "      <td>0</td>\n",
       "      <td>0</td>\n",
       "      <td>A</td>\n",
       "      <td>0</td>\n",
       "      <td>0</td>\n",
       "      <td>Transient</td>\n",
       "      <td>0</td>\n",
       "      <td>0</td>\n",
       "      <td>2</td>\n",
       "    </tr>\n",
       "    <tr>\n",
       "      <th>32598</th>\n",
       "      <td>40538</td>\n",
       "      <td>1</td>\n",
       "      <td>220.0</td>\n",
       "      <td>2016</td>\n",
       "      <td>September</td>\n",
       "      <td>38</td>\n",
       "      <td>17</td>\n",
       "      <td>2</td>\n",
       "      <td>1</td>\n",
       "      <td>2.0</td>\n",
       "      <td>...</td>\n",
       "      <td>0</td>\n",
       "      <td>0</td>\n",
       "      <td>0</td>\n",
       "      <td>A</td>\n",
       "      <td>0</td>\n",
       "      <td>0</td>\n",
       "      <td>Transient-Party</td>\n",
       "      <td>0</td>\n",
       "      <td>0</td>\n",
       "      <td>3</td>\n",
       "    </tr>\n",
       "    <tr>\n",
       "      <th>2425</th>\n",
       "      <td>2446</td>\n",
       "      <td>1</td>\n",
       "      <td>3.0</td>\n",
       "      <td>2016</td>\n",
       "      <td>January</td>\n",
       "      <td>4</td>\n",
       "      <td>22</td>\n",
       "      <td>0</td>\n",
       "      <td>1</td>\n",
       "      <td>1.0</td>\n",
       "      <td>...</td>\n",
       "      <td>0</td>\n",
       "      <td>0</td>\n",
       "      <td>0</td>\n",
       "      <td>A</td>\n",
       "      <td>0</td>\n",
       "      <td>0</td>\n",
       "      <td>Transient-Party</td>\n",
       "      <td>0</td>\n",
       "      <td>2</td>\n",
       "      <td>1</td>\n",
       "    </tr>\n",
       "    <tr>\n",
       "      <th>62020</th>\n",
       "      <td>80714</td>\n",
       "      <td>0</td>\n",
       "      <td>183.0</td>\n",
       "      <td>2016</td>\n",
       "      <td>October</td>\n",
       "      <td>44</td>\n",
       "      <td>26</td>\n",
       "      <td>0</td>\n",
       "      <td>4</td>\n",
       "      <td>3.0</td>\n",
       "      <td>...</td>\n",
       "      <td>0</td>\n",
       "      <td>0</td>\n",
       "      <td>0</td>\n",
       "      <td>D</td>\n",
       "      <td>0</td>\n",
       "      <td>0</td>\n",
       "      <td>Transient</td>\n",
       "      <td>0</td>\n",
       "      <td>2</td>\n",
       "      <td>4</td>\n",
       "    </tr>\n",
       "    <tr>\n",
       "      <th>32732</th>\n",
       "      <td>40672</td>\n",
       "      <td>1</td>\n",
       "      <td>232.0</td>\n",
       "      <td>2016</td>\n",
       "      <td>September</td>\n",
       "      <td>39</td>\n",
       "      <td>20</td>\n",
       "      <td>0</td>\n",
       "      <td>4</td>\n",
       "      <td>2.0</td>\n",
       "      <td>...</td>\n",
       "      <td>0</td>\n",
       "      <td>0</td>\n",
       "      <td>0</td>\n",
       "      <td>A</td>\n",
       "      <td>0</td>\n",
       "      <td>0</td>\n",
       "      <td>Transient</td>\n",
       "      <td>0</td>\n",
       "      <td>1</td>\n",
       "      <td>4</td>\n",
       "    </tr>\n",
       "  </tbody>\n",
       "</table>\n",
       "<p>5 rows × 25 columns</p>\n",
       "</div>"
      ],
      "text/plain": [
       "          id  is_canceled  lead_time  arrival_date_year arrival_date_month  \\\n",
       "3246    3278            1      168.0               2016              April   \n",
       "32598  40538            1      220.0               2016          September   \n",
       "2425    2446            1        3.0               2016            January   \n",
       "62020  80714            0      183.0               2016            October   \n",
       "32732  40672            1      232.0               2016          September   \n",
       "\n",
       "       arrival_date_week_number  arrival_date_day_of_month  \\\n",
       "3246                         16                         12   \n",
       "32598                        38                         17   \n",
       "2425                          4                         22   \n",
       "62020                        44                         26   \n",
       "32732                        39                         20   \n",
       "\n",
       "       stays_in_weekend_nights  stays_in_week_nights  adults  ...  \\\n",
       "3246                         0                     2     2.0  ...   \n",
       "32598                        2                     1     2.0  ...   \n",
       "2425                         0                     1     1.0  ...   \n",
       "62020                        0                     4     3.0  ...   \n",
       "32732                        0                     4     2.0  ...   \n",
       "\n",
       "       is_repeated_guest  previous_cancellations  \\\n",
       "3246                   0                       0   \n",
       "32598                  0                       0   \n",
       "2425                   0                       0   \n",
       "62020                  0                       0   \n",
       "32732                  0                       0   \n",
       "\n",
       "      previous_bookings_not_canceled reserved_room_type booking_changes  \\\n",
       "3246                               0   A                              0   \n",
       "32598                              0   A                              0   \n",
       "2425                               0   A                              0   \n",
       "62020                              0   D                              0   \n",
       "32732                              0   A                              0   \n",
       "\n",
       "       days_in_waiting_list    customer_type  required_car_parking_spaces  \\\n",
       "3246                      0        Transient                            0   \n",
       "32598                     0  Transient-Party                            0   \n",
       "2425                      0  Transient-Party                            0   \n",
       "62020                     0        Transient                            0   \n",
       "32732                     0        Transient                            0   \n",
       "\n",
       "      total_of_special_requests  total_nights  \n",
       "3246                          0             2  \n",
       "32598                         0             3  \n",
       "2425                          2             1  \n",
       "62020                         2             4  \n",
       "32732                         1             4  \n",
       "\n",
       "[5 rows x 25 columns]"
      ]
     },
     "metadata": {},
     "output_type": "display_data"
    },
    {
     "name": "stdout",
     "output_type": "stream",
     "text": [
      "<class 'pandas.core.frame.DataFrame'>\n",
      "RangeIndex: 65229 entries, 0 to 65228\n",
      "Data columns (total 25 columns):\n",
      " #   Column                          Non-Null Count  Dtype  \n",
      "---  ------                          --------------  -----  \n",
      " 0   id                              65229 non-null  int64  \n",
      " 1   is_canceled                     65229 non-null  int64  \n",
      " 2   lead_time                       65229 non-null  float64\n",
      " 3   arrival_date_year               65229 non-null  int64  \n",
      " 4   arrival_date_month              65229 non-null  object \n",
      " 5   arrival_date_week_number        65229 non-null  int64  \n",
      " 6   arrival_date_day_of_month       65229 non-null  int64  \n",
      " 7   stays_in_weekend_nights         65229 non-null  int64  \n",
      " 8   stays_in_week_nights            65229 non-null  int64  \n",
      " 9   adults                          65229 non-null  float64\n",
      " 10  children                        65229 non-null  float64\n",
      " 11  babies                          65229 non-null  float64\n",
      " 12  meal                            65229 non-null  object \n",
      " 13  country                         65229 non-null  object \n",
      " 14  distribution_channel            65229 non-null  object \n",
      " 15  is_repeated_guest               65229 non-null  int64  \n",
      " 16  previous_cancellations          65229 non-null  int64  \n",
      " 17  previous_bookings_not_canceled  65229 non-null  int64  \n",
      " 18  reserved_room_type              65229 non-null  object \n",
      " 19  booking_changes                 65229 non-null  int64  \n",
      " 20  days_in_waiting_list            65229 non-null  int64  \n",
      " 21  customer_type                   65229 non-null  object \n",
      " 22  required_car_parking_spaces     65229 non-null  int64  \n",
      " 23  total_of_special_requests       65229 non-null  int64  \n",
      " 24  total_nights                    65229 non-null  int64  \n",
      "dtypes: float64(4), int64(15), object(6)\n",
      "memory usage: 12.4+ MB\n"
     ]
    },
    {
     "data": {
      "text/plain": [
       "None"
      ]
     },
     "metadata": {},
     "output_type": "display_data"
    },
    {
     "data": {
      "text/html": [
       "<div>\n",
       "<style scoped>\n",
       "    .dataframe tbody tr th:only-of-type {\n",
       "        vertical-align: middle;\n",
       "    }\n",
       "\n",
       "    .dataframe tbody tr th {\n",
       "        vertical-align: top;\n",
       "    }\n",
       "\n",
       "    .dataframe thead th {\n",
       "        text-align: right;\n",
       "    }\n",
       "</style>\n",
       "<table border=\"1\" class=\"dataframe\">\n",
       "  <thead>\n",
       "    <tr style=\"text-align: right;\">\n",
       "      <th></th>\n",
       "      <th>id</th>\n",
       "      <th>is_canceled</th>\n",
       "      <th>lead_time</th>\n",
       "      <th>arrival_date_year</th>\n",
       "      <th>arrival_date_month</th>\n",
       "      <th>arrival_date_week_number</th>\n",
       "      <th>arrival_date_day_of_month</th>\n",
       "      <th>stays_in_weekend_nights</th>\n",
       "      <th>stays_in_week_nights</th>\n",
       "      <th>adults</th>\n",
       "      <th>...</th>\n",
       "      <th>is_repeated_guest</th>\n",
       "      <th>previous_cancellations</th>\n",
       "      <th>previous_bookings_not_canceled</th>\n",
       "      <th>reserved_room_type</th>\n",
       "      <th>booking_changes</th>\n",
       "      <th>days_in_waiting_list</th>\n",
       "      <th>customer_type</th>\n",
       "      <th>required_car_parking_spaces</th>\n",
       "      <th>total_of_special_requests</th>\n",
       "      <th>total_nights</th>\n",
       "    </tr>\n",
       "  </thead>\n",
       "  <tbody>\n",
       "    <tr>\n",
       "      <th>count</th>\n",
       "      <td>65229.000000</td>\n",
       "      <td>65229.000000</td>\n",
       "      <td>65229.000000</td>\n",
       "      <td>65229.000000</td>\n",
       "      <td>65229</td>\n",
       "      <td>65229.000000</td>\n",
       "      <td>65229.000000</td>\n",
       "      <td>65229.000000</td>\n",
       "      <td>65229.000000</td>\n",
       "      <td>65229.000000</td>\n",
       "      <td>...</td>\n",
       "      <td>65229.000000</td>\n",
       "      <td>65229.000000</td>\n",
       "      <td>65229.000000</td>\n",
       "      <td>65229</td>\n",
       "      <td>65229.000000</td>\n",
       "      <td>65229.000000</td>\n",
       "      <td>65229</td>\n",
       "      <td>65229.000000</td>\n",
       "      <td>65229.000000</td>\n",
       "      <td>65229.000000</td>\n",
       "    </tr>\n",
       "    <tr>\n",
       "      <th>unique</th>\n",
       "      <td>NaN</td>\n",
       "      <td>NaN</td>\n",
       "      <td>NaN</td>\n",
       "      <td>NaN</td>\n",
       "      <td>12</td>\n",
       "      <td>NaN</td>\n",
       "      <td>NaN</td>\n",
       "      <td>NaN</td>\n",
       "      <td>NaN</td>\n",
       "      <td>NaN</td>\n",
       "      <td>...</td>\n",
       "      <td>NaN</td>\n",
       "      <td>NaN</td>\n",
       "      <td>NaN</td>\n",
       "      <td>7</td>\n",
       "      <td>NaN</td>\n",
       "      <td>NaN</td>\n",
       "      <td>4</td>\n",
       "      <td>NaN</td>\n",
       "      <td>NaN</td>\n",
       "      <td>NaN</td>\n",
       "    </tr>\n",
       "    <tr>\n",
       "      <th>top</th>\n",
       "      <td>NaN</td>\n",
       "      <td>NaN</td>\n",
       "      <td>NaN</td>\n",
       "      <td>NaN</td>\n",
       "      <td>October</td>\n",
       "      <td>NaN</td>\n",
       "      <td>NaN</td>\n",
       "      <td>NaN</td>\n",
       "      <td>NaN</td>\n",
       "      <td>NaN</td>\n",
       "      <td>...</td>\n",
       "      <td>NaN</td>\n",
       "      <td>NaN</td>\n",
       "      <td>NaN</td>\n",
       "      <td>A</td>\n",
       "      <td>NaN</td>\n",
       "      <td>NaN</td>\n",
       "      <td>Transient</td>\n",
       "      <td>NaN</td>\n",
       "      <td>NaN</td>\n",
       "      <td>NaN</td>\n",
       "    </tr>\n",
       "    <tr>\n",
       "      <th>freq</th>\n",
       "      <td>NaN</td>\n",
       "      <td>NaN</td>\n",
       "      <td>NaN</td>\n",
       "      <td>NaN</td>\n",
       "      <td>9255</td>\n",
       "      <td>NaN</td>\n",
       "      <td>NaN</td>\n",
       "      <td>NaN</td>\n",
       "      <td>NaN</td>\n",
       "      <td>NaN</td>\n",
       "      <td>...</td>\n",
       "      <td>NaN</td>\n",
       "      <td>NaN</td>\n",
       "      <td>NaN</td>\n",
       "      <td>50501</td>\n",
       "      <td>NaN</td>\n",
       "      <td>NaN</td>\n",
       "      <td>45493</td>\n",
       "      <td>NaN</td>\n",
       "      <td>NaN</td>\n",
       "      <td>NaN</td>\n",
       "    </tr>\n",
       "    <tr>\n",
       "      <th>mean</th>\n",
       "      <td>43544.069172</td>\n",
       "      <td>0.368609</td>\n",
       "      <td>96.337917</td>\n",
       "      <td>2015.719021</td>\n",
       "      <td>NaN</td>\n",
       "      <td>31.339772</td>\n",
       "      <td>15.847813</td>\n",
       "      <td>0.825185</td>\n",
       "      <td>2.224793</td>\n",
       "      <td>1.836576</td>\n",
       "      <td>...</td>\n",
       "      <td>0.027151</td>\n",
       "      <td>0.128915</td>\n",
       "      <td>0.107713</td>\n",
       "      <td>NaN</td>\n",
       "      <td>0.194269</td>\n",
       "      <td>3.334422</td>\n",
       "      <td>NaN</td>\n",
       "      <td>0.056647</td>\n",
       "      <td>0.512763</td>\n",
       "      <td>3.049978</td>\n",
       "    </tr>\n",
       "    <tr>\n",
       "      <th>std</th>\n",
       "      <td>25614.858971</td>\n",
       "      <td>0.482431</td>\n",
       "      <td>96.127545</td>\n",
       "      <td>0.449481</td>\n",
       "      <td>NaN</td>\n",
       "      <td>13.464024</td>\n",
       "      <td>8.748182</td>\n",
       "      <td>0.853477</td>\n",
       "      <td>1.354992</td>\n",
       "      <td>0.480245</td>\n",
       "      <td>...</td>\n",
       "      <td>0.162523</td>\n",
       "      <td>0.965326</td>\n",
       "      <td>1.326638</td>\n",
       "      <td>NaN</td>\n",
       "      <td>0.593838</td>\n",
       "      <td>18.239606</td>\n",
       "      <td>NaN</td>\n",
       "      <td>0.232094</td>\n",
       "      <td>0.752590</td>\n",
       "      <td>1.738108</td>\n",
       "    </tr>\n",
       "    <tr>\n",
       "      <th>min</th>\n",
       "      <td>0.000000</td>\n",
       "      <td>0.000000</td>\n",
       "      <td>0.000000</td>\n",
       "      <td>2015.000000</td>\n",
       "      <td>NaN</td>\n",
       "      <td>1.000000</td>\n",
       "      <td>1.000000</td>\n",
       "      <td>0.000000</td>\n",
       "      <td>0.000000</td>\n",
       "      <td>0.000000</td>\n",
       "      <td>...</td>\n",
       "      <td>0.000000</td>\n",
       "      <td>0.000000</td>\n",
       "      <td>0.000000</td>\n",
       "      <td>NaN</td>\n",
       "      <td>0.000000</td>\n",
       "      <td>0.000000</td>\n",
       "      <td>NaN</td>\n",
       "      <td>0.000000</td>\n",
       "      <td>0.000000</td>\n",
       "      <td>1.000000</td>\n",
       "    </tr>\n",
       "    <tr>\n",
       "      <th>25%</th>\n",
       "      <td>19108.000000</td>\n",
       "      <td>0.000000</td>\n",
       "      <td>17.000000</td>\n",
       "      <td>2015.000000</td>\n",
       "      <td>NaN</td>\n",
       "      <td>21.000000</td>\n",
       "      <td>8.000000</td>\n",
       "      <td>0.000000</td>\n",
       "      <td>1.000000</td>\n",
       "      <td>2.000000</td>\n",
       "      <td>...</td>\n",
       "      <td>0.000000</td>\n",
       "      <td>0.000000</td>\n",
       "      <td>0.000000</td>\n",
       "      <td>NaN</td>\n",
       "      <td>0.000000</td>\n",
       "      <td>0.000000</td>\n",
       "      <td>NaN</td>\n",
       "      <td>0.000000</td>\n",
       "      <td>0.000000</td>\n",
       "      <td>2.000000</td>\n",
       "    </tr>\n",
       "    <tr>\n",
       "      <th>50%</th>\n",
       "      <td>40554.000000</td>\n",
       "      <td>0.000000</td>\n",
       "      <td>64.000000</td>\n",
       "      <td>2016.000000</td>\n",
       "      <td>NaN</td>\n",
       "      <td>34.000000</td>\n",
       "      <td>16.000000</td>\n",
       "      <td>1.000000</td>\n",
       "      <td>2.000000</td>\n",
       "      <td>2.000000</td>\n",
       "      <td>...</td>\n",
       "      <td>0.000000</td>\n",
       "      <td>0.000000</td>\n",
       "      <td>0.000000</td>\n",
       "      <td>NaN</td>\n",
       "      <td>0.000000</td>\n",
       "      <td>0.000000</td>\n",
       "      <td>NaN</td>\n",
       "      <td>0.000000</td>\n",
       "      <td>0.000000</td>\n",
       "      <td>3.000000</td>\n",
       "    </tr>\n",
       "    <tr>\n",
       "      <th>75%</th>\n",
       "      <td>67414.000000</td>\n",
       "      <td>1.000000</td>\n",
       "      <td>151.000000</td>\n",
       "      <td>2016.000000</td>\n",
       "      <td>NaN</td>\n",
       "      <td>42.000000</td>\n",
       "      <td>23.000000</td>\n",
       "      <td>2.000000</td>\n",
       "      <td>3.000000</td>\n",
       "      <td>2.000000</td>\n",
       "      <td>...</td>\n",
       "      <td>0.000000</td>\n",
       "      <td>0.000000</td>\n",
       "      <td>0.000000</td>\n",
       "      <td>NaN</td>\n",
       "      <td>0.000000</td>\n",
       "      <td>0.000000</td>\n",
       "      <td>NaN</td>\n",
       "      <td>0.000000</td>\n",
       "      <td>1.000000</td>\n",
       "      <td>4.000000</td>\n",
       "    </tr>\n",
       "    <tr>\n",
       "      <th>max</th>\n",
       "      <td>84121.000000</td>\n",
       "      <td>1.000000</td>\n",
       "      <td>374.000000</td>\n",
       "      <td>2016.000000</td>\n",
       "      <td>NaN</td>\n",
       "      <td>53.000000</td>\n",
       "      <td>31.000000</td>\n",
       "      <td>4.000000</td>\n",
       "      <td>6.000000</td>\n",
       "      <td>4.000000</td>\n",
       "      <td>...</td>\n",
       "      <td>1.000000</td>\n",
       "      <td>26.000000</td>\n",
       "      <td>58.000000</td>\n",
       "      <td>NaN</td>\n",
       "      <td>17.000000</td>\n",
       "      <td>259.000000</td>\n",
       "      <td>NaN</td>\n",
       "      <td>3.000000</td>\n",
       "      <td>5.000000</td>\n",
       "      <td>10.000000</td>\n",
       "    </tr>\n",
       "  </tbody>\n",
       "</table>\n",
       "<p>11 rows × 25 columns</p>\n",
       "</div>"
      ],
      "text/plain": [
       "                  id   is_canceled     lead_time  arrival_date_year  \\\n",
       "count   65229.000000  65229.000000  65229.000000       65229.000000   \n",
       "unique           NaN           NaN           NaN                NaN   \n",
       "top              NaN           NaN           NaN                NaN   \n",
       "freq             NaN           NaN           NaN                NaN   \n",
       "mean    43544.069172      0.368609     96.337917        2015.719021   \n",
       "std     25614.858971      0.482431     96.127545           0.449481   \n",
       "min         0.000000      0.000000      0.000000        2015.000000   \n",
       "25%     19108.000000      0.000000     17.000000        2015.000000   \n",
       "50%     40554.000000      0.000000     64.000000        2016.000000   \n",
       "75%     67414.000000      1.000000    151.000000        2016.000000   \n",
       "max     84121.000000      1.000000    374.000000        2016.000000   \n",
       "\n",
       "       arrival_date_month  arrival_date_week_number  \\\n",
       "count               65229              65229.000000   \n",
       "unique                 12                       NaN   \n",
       "top               October                       NaN   \n",
       "freq                 9255                       NaN   \n",
       "mean                  NaN                 31.339772   \n",
       "std                   NaN                 13.464024   \n",
       "min                   NaN                  1.000000   \n",
       "25%                   NaN                 21.000000   \n",
       "50%                   NaN                 34.000000   \n",
       "75%                   NaN                 42.000000   \n",
       "max                   NaN                 53.000000   \n",
       "\n",
       "        arrival_date_day_of_month  stays_in_weekend_nights  \\\n",
       "count                65229.000000             65229.000000   \n",
       "unique                        NaN                      NaN   \n",
       "top                           NaN                      NaN   \n",
       "freq                          NaN                      NaN   \n",
       "mean                    15.847813                 0.825185   \n",
       "std                      8.748182                 0.853477   \n",
       "min                      1.000000                 0.000000   \n",
       "25%                      8.000000                 0.000000   \n",
       "50%                     16.000000                 1.000000   \n",
       "75%                     23.000000                 2.000000   \n",
       "max                     31.000000                 4.000000   \n",
       "\n",
       "        stays_in_week_nights        adults  ...  is_repeated_guest  \\\n",
       "count           65229.000000  65229.000000  ...       65229.000000   \n",
       "unique                   NaN           NaN  ...                NaN   \n",
       "top                      NaN           NaN  ...                NaN   \n",
       "freq                     NaN           NaN  ...                NaN   \n",
       "mean                2.224793      1.836576  ...           0.027151   \n",
       "std                 1.354992      0.480245  ...           0.162523   \n",
       "min                 0.000000      0.000000  ...           0.000000   \n",
       "25%                 1.000000      2.000000  ...           0.000000   \n",
       "50%                 2.000000      2.000000  ...           0.000000   \n",
       "75%                 3.000000      2.000000  ...           0.000000   \n",
       "max                 6.000000      4.000000  ...           1.000000   \n",
       "\n",
       "        previous_cancellations previous_bookings_not_canceled  \\\n",
       "count             65229.000000                   65229.000000   \n",
       "unique                     NaN                            NaN   \n",
       "top                        NaN                            NaN   \n",
       "freq                       NaN                            NaN   \n",
       "mean                  0.128915                       0.107713   \n",
       "std                   0.965326                       1.326638   \n",
       "min                   0.000000                       0.000000   \n",
       "25%                   0.000000                       0.000000   \n",
       "50%                   0.000000                       0.000000   \n",
       "75%                   0.000000                       0.000000   \n",
       "max                  26.000000                      58.000000   \n",
       "\n",
       "       reserved_room_type booking_changes  days_in_waiting_list  \\\n",
       "count               65229    65229.000000          65229.000000   \n",
       "unique                  7             NaN                   NaN   \n",
       "top      A                            NaN                   NaN   \n",
       "freq                50501             NaN                   NaN   \n",
       "mean                  NaN        0.194269              3.334422   \n",
       "std                   NaN        0.593838             18.239606   \n",
       "min                   NaN        0.000000              0.000000   \n",
       "25%                   NaN        0.000000              0.000000   \n",
       "50%                   NaN        0.000000              0.000000   \n",
       "75%                   NaN        0.000000              0.000000   \n",
       "max                   NaN       17.000000            259.000000   \n",
       "\n",
       "        customer_type  required_car_parking_spaces total_of_special_requests  \\\n",
       "count           65229                 65229.000000              65229.000000   \n",
       "unique              4                          NaN                       NaN   \n",
       "top         Transient                          NaN                       NaN   \n",
       "freq            45493                          NaN                       NaN   \n",
       "mean              NaN                     0.056647                  0.512763   \n",
       "std               NaN                     0.232094                  0.752590   \n",
       "min               NaN                     0.000000                  0.000000   \n",
       "25%               NaN                     0.000000                  0.000000   \n",
       "50%               NaN                     0.000000                  0.000000   \n",
       "75%               NaN                     0.000000                  1.000000   \n",
       "max               NaN                     3.000000                  5.000000   \n",
       "\n",
       "        total_nights  \n",
       "count   65229.000000  \n",
       "unique           NaN  \n",
       "top              NaN  \n",
       "freq             NaN  \n",
       "mean        3.049978  \n",
       "std         1.738108  \n",
       "min         1.000000  \n",
       "25%         2.000000  \n",
       "50%         3.000000  \n",
       "75%         4.000000  \n",
       "max        10.000000  \n",
       "\n",
       "[11 rows x 25 columns]"
      ]
     },
     "metadata": {},
     "output_type": "display_data"
    }
   ],
   "source": [
    "get_data_info(data_train)"
   ]
  },
  {
   "cell_type": "code",
   "execution_count": 6,
   "metadata": {
    "scrolled": false
   },
   "outputs": [
    {
     "data": {
      "text/html": [
       "<div>\n",
       "<style scoped>\n",
       "    .dataframe tbody tr th:only-of-type {\n",
       "        vertical-align: middle;\n",
       "    }\n",
       "\n",
       "    .dataframe tbody tr th {\n",
       "        vertical-align: top;\n",
       "    }\n",
       "\n",
       "    .dataframe thead th {\n",
       "        text-align: right;\n",
       "    }\n",
       "</style>\n",
       "<table border=\"1\" class=\"dataframe\">\n",
       "  <thead>\n",
       "    <tr style=\"text-align: right;\">\n",
       "      <th></th>\n",
       "      <th>id</th>\n",
       "      <th>is_canceled</th>\n",
       "      <th>lead_time</th>\n",
       "      <th>arrival_date_year</th>\n",
       "      <th>arrival_date_month</th>\n",
       "      <th>arrival_date_week_number</th>\n",
       "      <th>arrival_date_day_of_month</th>\n",
       "      <th>stays_in_weekend_nights</th>\n",
       "      <th>stays_in_week_nights</th>\n",
       "      <th>adults</th>\n",
       "      <th>...</th>\n",
       "      <th>is_repeated_guest</th>\n",
       "      <th>previous_cancellations</th>\n",
       "      <th>previous_bookings_not_canceled</th>\n",
       "      <th>reserved_room_type</th>\n",
       "      <th>booking_changes</th>\n",
       "      <th>days_in_waiting_list</th>\n",
       "      <th>customer_type</th>\n",
       "      <th>required_car_parking_spaces</th>\n",
       "      <th>total_of_special_requests</th>\n",
       "      <th>total_nights</th>\n",
       "    </tr>\n",
       "  </thead>\n",
       "  <tbody>\n",
       "    <tr>\n",
       "      <th>0</th>\n",
       "      <td>6086</td>\n",
       "      <td>1</td>\n",
       "      <td>74.0</td>\n",
       "      <td>2017</td>\n",
       "      <td>January</td>\n",
       "      <td>1</td>\n",
       "      <td>1</td>\n",
       "      <td>1</td>\n",
       "      <td>0</td>\n",
       "      <td>2.0</td>\n",
       "      <td>...</td>\n",
       "      <td>0</td>\n",
       "      <td>0</td>\n",
       "      <td>0</td>\n",
       "      <td>A</td>\n",
       "      <td>0</td>\n",
       "      <td>0</td>\n",
       "      <td>Transient</td>\n",
       "      <td>0</td>\n",
       "      <td>0</td>\n",
       "      <td>1</td>\n",
       "    </tr>\n",
       "    <tr>\n",
       "      <th>1</th>\n",
       "      <td>6087</td>\n",
       "      <td>1</td>\n",
       "      <td>62.0</td>\n",
       "      <td>2017</td>\n",
       "      <td>January</td>\n",
       "      <td>1</td>\n",
       "      <td>1</td>\n",
       "      <td>2</td>\n",
       "      <td>2</td>\n",
       "      <td>2.0</td>\n",
       "      <td>...</td>\n",
       "      <td>0</td>\n",
       "      <td>0</td>\n",
       "      <td>0</td>\n",
       "      <td>A</td>\n",
       "      <td>0</td>\n",
       "      <td>0</td>\n",
       "      <td>Transient</td>\n",
       "      <td>0</td>\n",
       "      <td>1</td>\n",
       "      <td>4</td>\n",
       "    </tr>\n",
       "    <tr>\n",
       "      <th>2</th>\n",
       "      <td>6088</td>\n",
       "      <td>1</td>\n",
       "      <td>62.0</td>\n",
       "      <td>2017</td>\n",
       "      <td>January</td>\n",
       "      <td>1</td>\n",
       "      <td>1</td>\n",
       "      <td>2</td>\n",
       "      <td>2</td>\n",
       "      <td>2.0</td>\n",
       "      <td>...</td>\n",
       "      <td>0</td>\n",
       "      <td>0</td>\n",
       "      <td>0</td>\n",
       "      <td>A</td>\n",
       "      <td>0</td>\n",
       "      <td>0</td>\n",
       "      <td>Transient</td>\n",
       "      <td>0</td>\n",
       "      <td>1</td>\n",
       "      <td>4</td>\n",
       "    </tr>\n",
       "    <tr>\n",
       "      <th>3</th>\n",
       "      <td>6089</td>\n",
       "      <td>1</td>\n",
       "      <td>71.0</td>\n",
       "      <td>2017</td>\n",
       "      <td>January</td>\n",
       "      <td>1</td>\n",
       "      <td>1</td>\n",
       "      <td>2</td>\n",
       "      <td>2</td>\n",
       "      <td>1.0</td>\n",
       "      <td>...</td>\n",
       "      <td>0</td>\n",
       "      <td>0</td>\n",
       "      <td>0</td>\n",
       "      <td>A</td>\n",
       "      <td>0</td>\n",
       "      <td>0</td>\n",
       "      <td>Transient</td>\n",
       "      <td>0</td>\n",
       "      <td>1</td>\n",
       "      <td>4</td>\n",
       "    </tr>\n",
       "    <tr>\n",
       "      <th>4</th>\n",
       "      <td>6090</td>\n",
       "      <td>1</td>\n",
       "      <td>172.0</td>\n",
       "      <td>2017</td>\n",
       "      <td>January</td>\n",
       "      <td>1</td>\n",
       "      <td>1</td>\n",
       "      <td>2</td>\n",
       "      <td>5</td>\n",
       "      <td>2.0</td>\n",
       "      <td>...</td>\n",
       "      <td>0</td>\n",
       "      <td>0</td>\n",
       "      <td>0</td>\n",
       "      <td>A</td>\n",
       "      <td>0</td>\n",
       "      <td>0</td>\n",
       "      <td>Transient</td>\n",
       "      <td>0</td>\n",
       "      <td>0</td>\n",
       "      <td>7</td>\n",
       "    </tr>\n",
       "  </tbody>\n",
       "</table>\n",
       "<p>5 rows × 25 columns</p>\n",
       "</div>"
      ],
      "text/plain": [
       "     id  is_canceled  lead_time  arrival_date_year arrival_date_month  \\\n",
       "0  6086            1       74.0               2017            January   \n",
       "1  6087            1       62.0               2017            January   \n",
       "2  6088            1       62.0               2017            January   \n",
       "3  6089            1       71.0               2017            January   \n",
       "4  6090            1      172.0               2017            January   \n",
       "\n",
       "   arrival_date_week_number  arrival_date_day_of_month  \\\n",
       "0                         1                          1   \n",
       "1                         1                          1   \n",
       "2                         1                          1   \n",
       "3                         1                          1   \n",
       "4                         1                          1   \n",
       "\n",
       "   stays_in_weekend_nights  stays_in_week_nights  adults  ...  \\\n",
       "0                        1                     0     2.0  ...   \n",
       "1                        2                     2     2.0  ...   \n",
       "2                        2                     2     2.0  ...   \n",
       "3                        2                     2     1.0  ...   \n",
       "4                        2                     5     2.0  ...   \n",
       "\n",
       "   is_repeated_guest  previous_cancellations previous_bookings_not_canceled  \\\n",
       "0                  0                       0                              0   \n",
       "1                  0                       0                              0   \n",
       "2                  0                       0                              0   \n",
       "3                  0                       0                              0   \n",
       "4                  0                       0                              0   \n",
       "\n",
       "  reserved_room_type booking_changes  days_in_waiting_list  customer_type  \\\n",
       "0   A                              0                     0      Transient   \n",
       "1   A                              0                     0      Transient   \n",
       "2   A                              0                     0      Transient   \n",
       "3   A                              0                     0      Transient   \n",
       "4   A                              0                     0      Transient   \n",
       "\n",
       "   required_car_parking_spaces total_of_special_requests  total_nights  \n",
       "0                            0                         0             1  \n",
       "1                            0                         1             4  \n",
       "2                            0                         1             4  \n",
       "3                            0                         1             4  \n",
       "4                            0                         0             7  \n",
       "\n",
       "[5 rows x 25 columns]"
      ]
     },
     "execution_count": 6,
     "metadata": {},
     "output_type": "execute_result"
    }
   ],
   "source": [
    "data_test.head()"
   ]
  },
  {
   "cell_type": "code",
   "execution_count": 7,
   "metadata": {},
   "outputs": [
    {
     "data": {
      "text/html": [
       "<div>\n",
       "<style scoped>\n",
       "    .dataframe tbody tr th:only-of-type {\n",
       "        vertical-align: middle;\n",
       "    }\n",
       "\n",
       "    .dataframe tbody tr th {\n",
       "        vertical-align: top;\n",
       "    }\n",
       "\n",
       "    .dataframe thead th {\n",
       "        text-align: right;\n",
       "    }\n",
       "</style>\n",
       "<table border=\"1\" class=\"dataframe\">\n",
       "  <thead>\n",
       "    <tr style=\"text-align: right;\">\n",
       "      <th></th>\n",
       "      <th>id</th>\n",
       "      <th>is_canceled</th>\n",
       "      <th>lead_time</th>\n",
       "      <th>arrival_date_year</th>\n",
       "      <th>arrival_date_month</th>\n",
       "      <th>arrival_date_week_number</th>\n",
       "      <th>arrival_date_day_of_month</th>\n",
       "      <th>stays_in_weekend_nights</th>\n",
       "      <th>stays_in_week_nights</th>\n",
       "      <th>adults</th>\n",
       "      <th>...</th>\n",
       "      <th>is_repeated_guest</th>\n",
       "      <th>previous_cancellations</th>\n",
       "      <th>previous_bookings_not_canceled</th>\n",
       "      <th>reserved_room_type</th>\n",
       "      <th>booking_changes</th>\n",
       "      <th>days_in_waiting_list</th>\n",
       "      <th>customer_type</th>\n",
       "      <th>required_car_parking_spaces</th>\n",
       "      <th>total_of_special_requests</th>\n",
       "      <th>total_nights</th>\n",
       "    </tr>\n",
       "  </thead>\n",
       "  <tbody>\n",
       "    <tr>\n",
       "      <th>1</th>\n",
       "      <td>6087</td>\n",
       "      <td>1</td>\n",
       "      <td>62.0</td>\n",
       "      <td>2017</td>\n",
       "      <td>January</td>\n",
       "      <td>1</td>\n",
       "      <td>1</td>\n",
       "      <td>2</td>\n",
       "      <td>2</td>\n",
       "      <td>2.0</td>\n",
       "      <td>...</td>\n",
       "      <td>0</td>\n",
       "      <td>0</td>\n",
       "      <td>0</td>\n",
       "      <td>A</td>\n",
       "      <td>0</td>\n",
       "      <td>0</td>\n",
       "      <td>Transient</td>\n",
       "      <td>0</td>\n",
       "      <td>1</td>\n",
       "      <td>4</td>\n",
       "    </tr>\n",
       "    <tr>\n",
       "      <th>23593</th>\n",
       "      <td>89085</td>\n",
       "      <td>0</td>\n",
       "      <td>61.0</td>\n",
       "      <td>2017</td>\n",
       "      <td>April</td>\n",
       "      <td>14</td>\n",
       "      <td>6</td>\n",
       "      <td>0</td>\n",
       "      <td>3</td>\n",
       "      <td>2.0</td>\n",
       "      <td>...</td>\n",
       "      <td>0</td>\n",
       "      <td>0</td>\n",
       "      <td>0</td>\n",
       "      <td>A</td>\n",
       "      <td>0</td>\n",
       "      <td>0</td>\n",
       "      <td>Transient</td>\n",
       "      <td>0</td>\n",
       "      <td>1</td>\n",
       "      <td>3</td>\n",
       "    </tr>\n",
       "    <tr>\n",
       "      <th>17605</th>\n",
       "      <td>54794</td>\n",
       "      <td>1</td>\n",
       "      <td>308.0</td>\n",
       "      <td>2017</td>\n",
       "      <td>August</td>\n",
       "      <td>33</td>\n",
       "      <td>15</td>\n",
       "      <td>0</td>\n",
       "      <td>4</td>\n",
       "      <td>0.0</td>\n",
       "      <td>...</td>\n",
       "      <td>0</td>\n",
       "      <td>0</td>\n",
       "      <td>0</td>\n",
       "      <td>B</td>\n",
       "      <td>0</td>\n",
       "      <td>0</td>\n",
       "      <td>Transient</td>\n",
       "      <td>0</td>\n",
       "      <td>0</td>\n",
       "      <td>4</td>\n",
       "    </tr>\n",
       "    <tr>\n",
       "      <th>15541</th>\n",
       "      <td>52730</td>\n",
       "      <td>1</td>\n",
       "      <td>139.0</td>\n",
       "      <td>2017</td>\n",
       "      <td>June</td>\n",
       "      <td>25</td>\n",
       "      <td>21</td>\n",
       "      <td>0</td>\n",
       "      <td>3</td>\n",
       "      <td>3.0</td>\n",
       "      <td>...</td>\n",
       "      <td>0</td>\n",
       "      <td>0</td>\n",
       "      <td>0</td>\n",
       "      <td>E</td>\n",
       "      <td>0</td>\n",
       "      <td>0</td>\n",
       "      <td>Transient</td>\n",
       "      <td>0</td>\n",
       "      <td>2</td>\n",
       "      <td>3</td>\n",
       "    </tr>\n",
       "    <tr>\n",
       "      <th>8186</th>\n",
       "      <td>45375</td>\n",
       "      <td>1</td>\n",
       "      <td>55.0</td>\n",
       "      <td>2017</td>\n",
       "      <td>January</td>\n",
       "      <td>3</td>\n",
       "      <td>18</td>\n",
       "      <td>0</td>\n",
       "      <td>2</td>\n",
       "      <td>1.0</td>\n",
       "      <td>...</td>\n",
       "      <td>0</td>\n",
       "      <td>0</td>\n",
       "      <td>0</td>\n",
       "      <td>A</td>\n",
       "      <td>0</td>\n",
       "      <td>0</td>\n",
       "      <td>Transient</td>\n",
       "      <td>0</td>\n",
       "      <td>0</td>\n",
       "      <td>2</td>\n",
       "    </tr>\n",
       "  </tbody>\n",
       "</table>\n",
       "<p>5 rows × 25 columns</p>\n",
       "</div>"
      ],
      "text/plain": [
       "          id  is_canceled  lead_time  arrival_date_year arrival_date_month  \\\n",
       "1       6087            1       62.0               2017            January   \n",
       "23593  89085            0       61.0               2017              April   \n",
       "17605  54794            1      308.0               2017             August   \n",
       "15541  52730            1      139.0               2017               June   \n",
       "8186   45375            1       55.0               2017            January   \n",
       "\n",
       "       arrival_date_week_number  arrival_date_day_of_month  \\\n",
       "1                             1                          1   \n",
       "23593                        14                          6   \n",
       "17605                        33                         15   \n",
       "15541                        25                         21   \n",
       "8186                          3                         18   \n",
       "\n",
       "       stays_in_weekend_nights  stays_in_week_nights  adults  ...  \\\n",
       "1                            2                     2     2.0  ...   \n",
       "23593                        0                     3     2.0  ...   \n",
       "17605                        0                     4     0.0  ...   \n",
       "15541                        0                     3     3.0  ...   \n",
       "8186                         0                     2     1.0  ...   \n",
       "\n",
       "       is_repeated_guest  previous_cancellations  \\\n",
       "1                      0                       0   \n",
       "23593                  0                       0   \n",
       "17605                  0                       0   \n",
       "15541                  0                       0   \n",
       "8186                   0                       0   \n",
       "\n",
       "      previous_bookings_not_canceled reserved_room_type booking_changes  \\\n",
       "1                                  0   A                              0   \n",
       "23593                              0   A                              0   \n",
       "17605                              0   B                              0   \n",
       "15541                              0   E                              0   \n",
       "8186                               0   A                              0   \n",
       "\n",
       "       days_in_waiting_list  customer_type  required_car_parking_spaces  \\\n",
       "1                         0      Transient                            0   \n",
       "23593                     0      Transient                            0   \n",
       "17605                     0      Transient                            0   \n",
       "15541                     0      Transient                            0   \n",
       "8186                      0      Transient                            0   \n",
       "\n",
       "      total_of_special_requests  total_nights  \n",
       "1                             1             4  \n",
       "23593                         1             3  \n",
       "17605                         0             4  \n",
       "15541                         2             3  \n",
       "8186                          0             2  \n",
       "\n",
       "[5 rows x 25 columns]"
      ]
     },
     "metadata": {},
     "output_type": "display_data"
    },
    {
     "name": "stdout",
     "output_type": "stream",
     "text": [
      "<class 'pandas.core.frame.DataFrame'>\n",
      "RangeIndex: 32412 entries, 0 to 32411\n",
      "Data columns (total 25 columns):\n",
      " #   Column                          Non-Null Count  Dtype  \n",
      "---  ------                          --------------  -----  \n",
      " 0   id                              32412 non-null  int64  \n",
      " 1   is_canceled                     32412 non-null  int64  \n",
      " 2   lead_time                       32412 non-null  float64\n",
      " 3   arrival_date_year               32412 non-null  int64  \n",
      " 4   arrival_date_month              32412 non-null  object \n",
      " 5   arrival_date_week_number        32412 non-null  int64  \n",
      " 6   arrival_date_day_of_month       32412 non-null  int64  \n",
      " 7   stays_in_weekend_nights         32412 non-null  int64  \n",
      " 8   stays_in_week_nights            32412 non-null  int64  \n",
      " 9   adults                          32412 non-null  float64\n",
      " 10  children                        32412 non-null  float64\n",
      " 11  babies                          32412 non-null  float64\n",
      " 12  meal                            32412 non-null  object \n",
      " 13  country                         32412 non-null  object \n",
      " 14  distribution_channel            32412 non-null  object \n",
      " 15  is_repeated_guest               32412 non-null  int64  \n",
      " 16  previous_cancellations          32412 non-null  int64  \n",
      " 17  previous_bookings_not_canceled  32412 non-null  int64  \n",
      " 18  reserved_room_type              32412 non-null  object \n",
      " 19  booking_changes                 32412 non-null  int64  \n",
      " 20  days_in_waiting_list            32412 non-null  int64  \n",
      " 21  customer_type                   32412 non-null  object \n",
      " 22  required_car_parking_spaces     32412 non-null  int64  \n",
      " 23  total_of_special_requests       32412 non-null  int64  \n",
      " 24  total_nights                    32412 non-null  int64  \n",
      "dtypes: float64(4), int64(15), object(6)\n",
      "memory usage: 6.2+ MB\n"
     ]
    },
    {
     "data": {
      "text/plain": [
       "None"
      ]
     },
     "metadata": {},
     "output_type": "display_data"
    },
    {
     "data": {
      "text/html": [
       "<div>\n",
       "<style scoped>\n",
       "    .dataframe tbody tr th:only-of-type {\n",
       "        vertical-align: middle;\n",
       "    }\n",
       "\n",
       "    .dataframe tbody tr th {\n",
       "        vertical-align: top;\n",
       "    }\n",
       "\n",
       "    .dataframe thead th {\n",
       "        text-align: right;\n",
       "    }\n",
       "</style>\n",
       "<table border=\"1\" class=\"dataframe\">\n",
       "  <thead>\n",
       "    <tr style=\"text-align: right;\">\n",
       "      <th></th>\n",
       "      <th>id</th>\n",
       "      <th>is_canceled</th>\n",
       "      <th>lead_time</th>\n",
       "      <th>arrival_date_year</th>\n",
       "      <th>arrival_date_month</th>\n",
       "      <th>arrival_date_week_number</th>\n",
       "      <th>arrival_date_day_of_month</th>\n",
       "      <th>stays_in_weekend_nights</th>\n",
       "      <th>stays_in_week_nights</th>\n",
       "      <th>adults</th>\n",
       "      <th>...</th>\n",
       "      <th>is_repeated_guest</th>\n",
       "      <th>previous_cancellations</th>\n",
       "      <th>previous_bookings_not_canceled</th>\n",
       "      <th>reserved_room_type</th>\n",
       "      <th>booking_changes</th>\n",
       "      <th>days_in_waiting_list</th>\n",
       "      <th>customer_type</th>\n",
       "      <th>required_car_parking_spaces</th>\n",
       "      <th>total_of_special_requests</th>\n",
       "      <th>total_nights</th>\n",
       "    </tr>\n",
       "  </thead>\n",
       "  <tbody>\n",
       "    <tr>\n",
       "      <th>count</th>\n",
       "      <td>32412.000000</td>\n",
       "      <td>32412.000000</td>\n",
       "      <td>32412.000000</td>\n",
       "      <td>32412.0</td>\n",
       "      <td>32412</td>\n",
       "      <td>32412.000000</td>\n",
       "      <td>32412.000000</td>\n",
       "      <td>32412.000000</td>\n",
       "      <td>32412.00000</td>\n",
       "      <td>32412.000000</td>\n",
       "      <td>...</td>\n",
       "      <td>32412.000000</td>\n",
       "      <td>32412.000000</td>\n",
       "      <td>32412.000000</td>\n",
       "      <td>32412</td>\n",
       "      <td>32412.000000</td>\n",
       "      <td>32412.000000</td>\n",
       "      <td>32412</td>\n",
       "      <td>32412.000000</td>\n",
       "      <td>32412.000000</td>\n",
       "      <td>32412.000000</td>\n",
       "    </tr>\n",
       "    <tr>\n",
       "      <th>unique</th>\n",
       "      <td>NaN</td>\n",
       "      <td>NaN</td>\n",
       "      <td>NaN</td>\n",
       "      <td>NaN</td>\n",
       "      <td>8</td>\n",
       "      <td>NaN</td>\n",
       "      <td>NaN</td>\n",
       "      <td>NaN</td>\n",
       "      <td>NaN</td>\n",
       "      <td>NaN</td>\n",
       "      <td>...</td>\n",
       "      <td>NaN</td>\n",
       "      <td>NaN</td>\n",
       "      <td>NaN</td>\n",
       "      <td>7</td>\n",
       "      <td>NaN</td>\n",
       "      <td>NaN</td>\n",
       "      <td>4</td>\n",
       "      <td>NaN</td>\n",
       "      <td>NaN</td>\n",
       "      <td>NaN</td>\n",
       "    </tr>\n",
       "    <tr>\n",
       "      <th>top</th>\n",
       "      <td>NaN</td>\n",
       "      <td>NaN</td>\n",
       "      <td>NaN</td>\n",
       "      <td>NaN</td>\n",
       "      <td>May</td>\n",
       "      <td>NaN</td>\n",
       "      <td>NaN</td>\n",
       "      <td>NaN</td>\n",
       "      <td>NaN</td>\n",
       "      <td>NaN</td>\n",
       "      <td>...</td>\n",
       "      <td>NaN</td>\n",
       "      <td>NaN</td>\n",
       "      <td>NaN</td>\n",
       "      <td>A</td>\n",
       "      <td>NaN</td>\n",
       "      <td>NaN</td>\n",
       "      <td>Transient</td>\n",
       "      <td>NaN</td>\n",
       "      <td>NaN</td>\n",
       "      <td>NaN</td>\n",
       "    </tr>\n",
       "    <tr>\n",
       "      <th>freq</th>\n",
       "      <td>NaN</td>\n",
       "      <td>NaN</td>\n",
       "      <td>NaN</td>\n",
       "      <td>NaN</td>\n",
       "      <td>5262</td>\n",
       "      <td>NaN</td>\n",
       "      <td>NaN</td>\n",
       "      <td>NaN</td>\n",
       "      <td>NaN</td>\n",
       "      <td>NaN</td>\n",
       "      <td>...</td>\n",
       "      <td>NaN</td>\n",
       "      <td>NaN</td>\n",
       "      <td>NaN</td>\n",
       "      <td>23471</td>\n",
       "      <td>NaN</td>\n",
       "      <td>NaN</td>\n",
       "      <td>27461</td>\n",
       "      <td>NaN</td>\n",
       "      <td>NaN</td>\n",
       "      <td>NaN</td>\n",
       "    </tr>\n",
       "    <tr>\n",
       "      <th>mean</th>\n",
       "      <td>60131.505183</td>\n",
       "      <td>0.388467</td>\n",
       "      <td>97.587869</td>\n",
       "      <td>2017.0</td>\n",
       "      <td>NaN</td>\n",
       "      <td>17.804054</td>\n",
       "      <td>15.656948</td>\n",
       "      <td>0.867888</td>\n",
       "      <td>2.34009</td>\n",
       "      <td>1.858602</td>\n",
       "      <td>...</td>\n",
       "      <td>0.031377</td>\n",
       "      <td>0.011601</td>\n",
       "      <td>0.171418</td>\n",
       "      <td>NaN</td>\n",
       "      <td>0.216741</td>\n",
       "      <td>0.262341</td>\n",
       "      <td>NaN</td>\n",
       "      <td>0.046248</td>\n",
       "      <td>0.657781</td>\n",
       "      <td>3.207979</td>\n",
       "    </tr>\n",
       "    <tr>\n",
       "      <th>std</th>\n",
       "      <td>29953.586177</td>\n",
       "      <td>0.487409</td>\n",
       "      <td>86.507146</td>\n",
       "      <td>0.0</td>\n",
       "      <td>NaN</td>\n",
       "      <td>9.177384</td>\n",
       "      <td>8.766429</td>\n",
       "      <td>0.853394</td>\n",
       "      <td>1.37517</td>\n",
       "      <td>0.489341</td>\n",
       "      <td>...</td>\n",
       "      <td>0.174338</td>\n",
       "      <td>0.180473</td>\n",
       "      <td>1.875170</td>\n",
       "      <td>NaN</td>\n",
       "      <td>0.640551</td>\n",
       "      <td>4.733027</td>\n",
       "      <td>NaN</td>\n",
       "      <td>0.219367</td>\n",
       "      <td>0.834341</td>\n",
       "      <td>1.738683</td>\n",
       "    </tr>\n",
       "    <tr>\n",
       "      <th>min</th>\n",
       "      <td>6086.000000</td>\n",
       "      <td>0.000000</td>\n",
       "      <td>0.000000</td>\n",
       "      <td>2017.0</td>\n",
       "      <td>NaN</td>\n",
       "      <td>1.000000</td>\n",
       "      <td>1.000000</td>\n",
       "      <td>0.000000</td>\n",
       "      <td>0.00000</td>\n",
       "      <td>0.000000</td>\n",
       "      <td>...</td>\n",
       "      <td>0.000000</td>\n",
       "      <td>0.000000</td>\n",
       "      <td>0.000000</td>\n",
       "      <td>NaN</td>\n",
       "      <td>0.000000</td>\n",
       "      <td>0.000000</td>\n",
       "      <td>NaN</td>\n",
       "      <td>0.000000</td>\n",
       "      <td>0.000000</td>\n",
       "      <td>1.000000</td>\n",
       "    </tr>\n",
       "    <tr>\n",
       "      <th>25%</th>\n",
       "      <td>45291.750000</td>\n",
       "      <td>0.000000</td>\n",
       "      <td>23.000000</td>\n",
       "      <td>2017.0</td>\n",
       "      <td>NaN</td>\n",
       "      <td>10.000000</td>\n",
       "      <td>8.000000</td>\n",
       "      <td>0.000000</td>\n",
       "      <td>1.00000</td>\n",
       "      <td>2.000000</td>\n",
       "      <td>...</td>\n",
       "      <td>0.000000</td>\n",
       "      <td>0.000000</td>\n",
       "      <td>0.000000</td>\n",
       "      <td>NaN</td>\n",
       "      <td>0.000000</td>\n",
       "      <td>0.000000</td>\n",
       "      <td>NaN</td>\n",
       "      <td>0.000000</td>\n",
       "      <td>0.000000</td>\n",
       "      <td>2.000000</td>\n",
       "    </tr>\n",
       "    <tr>\n",
       "      <th>50%</th>\n",
       "      <td>53394.500000</td>\n",
       "      <td>0.000000</td>\n",
       "      <td>76.000000</td>\n",
       "      <td>2017.0</td>\n",
       "      <td>NaN</td>\n",
       "      <td>18.000000</td>\n",
       "      <td>15.500000</td>\n",
       "      <td>1.000000</td>\n",
       "      <td>2.00000</td>\n",
       "      <td>2.000000</td>\n",
       "      <td>...</td>\n",
       "      <td>0.000000</td>\n",
       "      <td>0.000000</td>\n",
       "      <td>0.000000</td>\n",
       "      <td>NaN</td>\n",
       "      <td>0.000000</td>\n",
       "      <td>0.000000</td>\n",
       "      <td>NaN</td>\n",
       "      <td>0.000000</td>\n",
       "      <td>0.000000</td>\n",
       "      <td>3.000000</td>\n",
       "    </tr>\n",
       "    <tr>\n",
       "      <th>75%</th>\n",
       "      <td>89800.250000</td>\n",
       "      <td>1.000000</td>\n",
       "      <td>155.000000</td>\n",
       "      <td>2017.0</td>\n",
       "      <td>NaN</td>\n",
       "      <td>25.000000</td>\n",
       "      <td>23.000000</td>\n",
       "      <td>2.000000</td>\n",
       "      <td>3.00000</td>\n",
       "      <td>2.000000</td>\n",
       "      <td>...</td>\n",
       "      <td>0.000000</td>\n",
       "      <td>0.000000</td>\n",
       "      <td>0.000000</td>\n",
       "      <td>NaN</td>\n",
       "      <td>0.000000</td>\n",
       "      <td>0.000000</td>\n",
       "      <td>NaN</td>\n",
       "      <td>0.000000</td>\n",
       "      <td>1.000000</td>\n",
       "      <td>4.000000</td>\n",
       "    </tr>\n",
       "    <tr>\n",
       "      <th>max</th>\n",
       "      <td>97903.000000</td>\n",
       "      <td>1.000000</td>\n",
       "      <td>373.000000</td>\n",
       "      <td>2017.0</td>\n",
       "      <td>NaN</td>\n",
       "      <td>35.000000</td>\n",
       "      <td>31.000000</td>\n",
       "      <td>4.000000</td>\n",
       "      <td>6.00000</td>\n",
       "      <td>4.000000</td>\n",
       "      <td>...</td>\n",
       "      <td>1.000000</td>\n",
       "      <td>6.000000</td>\n",
       "      <td>72.000000</td>\n",
       "      <td>NaN</td>\n",
       "      <td>18.000000</td>\n",
       "      <td>223.000000</td>\n",
       "      <td>NaN</td>\n",
       "      <td>8.000000</td>\n",
       "      <td>5.000000</td>\n",
       "      <td>10.000000</td>\n",
       "    </tr>\n",
       "  </tbody>\n",
       "</table>\n",
       "<p>11 rows × 25 columns</p>\n",
       "</div>"
      ],
      "text/plain": [
       "                  id   is_canceled     lead_time  arrival_date_year  \\\n",
       "count   32412.000000  32412.000000  32412.000000            32412.0   \n",
       "unique           NaN           NaN           NaN                NaN   \n",
       "top              NaN           NaN           NaN                NaN   \n",
       "freq             NaN           NaN           NaN                NaN   \n",
       "mean    60131.505183      0.388467     97.587869             2017.0   \n",
       "std     29953.586177      0.487409     86.507146                0.0   \n",
       "min      6086.000000      0.000000      0.000000             2017.0   \n",
       "25%     45291.750000      0.000000     23.000000             2017.0   \n",
       "50%     53394.500000      0.000000     76.000000             2017.0   \n",
       "75%     89800.250000      1.000000    155.000000             2017.0   \n",
       "max     97903.000000      1.000000    373.000000             2017.0   \n",
       "\n",
       "       arrival_date_month  arrival_date_week_number  \\\n",
       "count               32412              32412.000000   \n",
       "unique                  8                       NaN   \n",
       "top                   May                       NaN   \n",
       "freq                 5262                       NaN   \n",
       "mean                  NaN                 17.804054   \n",
       "std                   NaN                  9.177384   \n",
       "min                   NaN                  1.000000   \n",
       "25%                   NaN                 10.000000   \n",
       "50%                   NaN                 18.000000   \n",
       "75%                   NaN                 25.000000   \n",
       "max                   NaN                 35.000000   \n",
       "\n",
       "        arrival_date_day_of_month  stays_in_weekend_nights  \\\n",
       "count                32412.000000             32412.000000   \n",
       "unique                        NaN                      NaN   \n",
       "top                           NaN                      NaN   \n",
       "freq                          NaN                      NaN   \n",
       "mean                    15.656948                 0.867888   \n",
       "std                      8.766429                 0.853394   \n",
       "min                      1.000000                 0.000000   \n",
       "25%                      8.000000                 0.000000   \n",
       "50%                     15.500000                 1.000000   \n",
       "75%                     23.000000                 2.000000   \n",
       "max                     31.000000                 4.000000   \n",
       "\n",
       "        stays_in_week_nights        adults  ...  is_repeated_guest  \\\n",
       "count            32412.00000  32412.000000  ...       32412.000000   \n",
       "unique                   NaN           NaN  ...                NaN   \n",
       "top                      NaN           NaN  ...                NaN   \n",
       "freq                     NaN           NaN  ...                NaN   \n",
       "mean                 2.34009      1.858602  ...           0.031377   \n",
       "std                  1.37517      0.489341  ...           0.174338   \n",
       "min                  0.00000      0.000000  ...           0.000000   \n",
       "25%                  1.00000      2.000000  ...           0.000000   \n",
       "50%                  2.00000      2.000000  ...           0.000000   \n",
       "75%                  3.00000      2.000000  ...           0.000000   \n",
       "max                  6.00000      4.000000  ...           1.000000   \n",
       "\n",
       "        previous_cancellations previous_bookings_not_canceled  \\\n",
       "count             32412.000000                   32412.000000   \n",
       "unique                     NaN                            NaN   \n",
       "top                        NaN                            NaN   \n",
       "freq                       NaN                            NaN   \n",
       "mean                  0.011601                       0.171418   \n",
       "std                   0.180473                       1.875170   \n",
       "min                   0.000000                       0.000000   \n",
       "25%                   0.000000                       0.000000   \n",
       "50%                   0.000000                       0.000000   \n",
       "75%                   0.000000                       0.000000   \n",
       "max                   6.000000                      72.000000   \n",
       "\n",
       "       reserved_room_type booking_changes  days_in_waiting_list  \\\n",
       "count               32412    32412.000000          32412.000000   \n",
       "unique                  7             NaN                   NaN   \n",
       "top      A                            NaN                   NaN   \n",
       "freq                23471             NaN                   NaN   \n",
       "mean                  NaN        0.216741              0.262341   \n",
       "std                   NaN        0.640551              4.733027   \n",
       "min                   NaN        0.000000              0.000000   \n",
       "25%                   NaN        0.000000              0.000000   \n",
       "50%                   NaN        0.000000              0.000000   \n",
       "75%                   NaN        0.000000              0.000000   \n",
       "max                   NaN       18.000000            223.000000   \n",
       "\n",
       "        customer_type  required_car_parking_spaces total_of_special_requests  \\\n",
       "count           32412                 32412.000000              32412.000000   \n",
       "unique              4                          NaN                       NaN   \n",
       "top         Transient                          NaN                       NaN   \n",
       "freq            27461                          NaN                       NaN   \n",
       "mean              NaN                     0.046248                  0.657781   \n",
       "std               NaN                     0.219367                  0.834341   \n",
       "min               NaN                     0.000000                  0.000000   \n",
       "25%               NaN                     0.000000                  0.000000   \n",
       "50%               NaN                     0.000000                  0.000000   \n",
       "75%               NaN                     0.000000                  1.000000   \n",
       "max               NaN                     8.000000                  5.000000   \n",
       "\n",
       "        total_nights  \n",
       "count   32412.000000  \n",
       "unique           NaN  \n",
       "top              NaN  \n",
       "freq             NaN  \n",
       "mean        3.207979  \n",
       "std         1.738683  \n",
       "min         1.000000  \n",
       "25%         2.000000  \n",
       "50%         3.000000  \n",
       "75%         4.000000  \n",
       "max        10.000000  \n",
       "\n",
       "[11 rows x 25 columns]"
      ]
     },
     "metadata": {},
     "output_type": "display_data"
    }
   ],
   "source": [
    "get_data_info(data_test)"
   ]
  },
  {
   "cell_type": "markdown",
   "metadata": {},
   "source": [
    "Данные открыты, пропусков в них нет, но стоит проверить данные с dtype  категории object на предмет дублей\\ ошибок. И проверить категории с числовыми значеними на предмет выборосов и изучить как данные распределены"
   ]
  },
  {
   "cell_type": "markdown",
   "metadata": {},
   "source": [
    "### Шаг 2. Предобработка и исследовательский анализ данных"
   ]
  },
  {
   "cell_type": "code",
   "execution_count": 8,
   "metadata": {},
   "outputs": [
    {
     "data": {
      "text/html": [
       "<div>\n",
       "<style scoped>\n",
       "    .dataframe tbody tr th:only-of-type {\n",
       "        vertical-align: middle;\n",
       "    }\n",
       "\n",
       "    .dataframe tbody tr th {\n",
       "        vertical-align: top;\n",
       "    }\n",
       "\n",
       "    .dataframe thead th {\n",
       "        text-align: right;\n",
       "    }\n",
       "</style>\n",
       "<table border=\"1\" class=\"dataframe\">\n",
       "  <thead>\n",
       "    <tr style=\"text-align: right;\">\n",
       "      <th></th>\n",
       "      <th>id</th>\n",
       "      <th>is_canceled</th>\n",
       "      <th>lead_time</th>\n",
       "      <th>arrival_date_year</th>\n",
       "      <th>arrival_date_month</th>\n",
       "      <th>arrival_date_week_number</th>\n",
       "      <th>arrival_date_day_of_month</th>\n",
       "      <th>stays_in_weekend_nights</th>\n",
       "      <th>stays_in_week_nights</th>\n",
       "      <th>adults</th>\n",
       "      <th>...</th>\n",
       "      <th>is_repeated_guest</th>\n",
       "      <th>previous_cancellations</th>\n",
       "      <th>previous_bookings_not_canceled</th>\n",
       "      <th>reserved_room_type</th>\n",
       "      <th>booking_changes</th>\n",
       "      <th>days_in_waiting_list</th>\n",
       "      <th>customer_type</th>\n",
       "      <th>required_car_parking_spaces</th>\n",
       "      <th>total_of_special_requests</th>\n",
       "      <th>total_nights</th>\n",
       "    </tr>\n",
       "  </thead>\n",
       "  <tbody>\n",
       "    <tr>\n",
       "      <th>0</th>\n",
       "      <td>0</td>\n",
       "      <td>0</td>\n",
       "      <td>7.0</td>\n",
       "      <td>2015</td>\n",
       "      <td>July</td>\n",
       "      <td>27</td>\n",
       "      <td>1</td>\n",
       "      <td>0</td>\n",
       "      <td>1</td>\n",
       "      <td>1.0</td>\n",
       "      <td>...</td>\n",
       "      <td>0</td>\n",
       "      <td>0</td>\n",
       "      <td>0</td>\n",
       "      <td>A</td>\n",
       "      <td>0</td>\n",
       "      <td>0</td>\n",
       "      <td>Transient</td>\n",
       "      <td>0</td>\n",
       "      <td>0</td>\n",
       "      <td>1</td>\n",
       "    </tr>\n",
       "    <tr>\n",
       "      <th>1</th>\n",
       "      <td>1</td>\n",
       "      <td>0</td>\n",
       "      <td>14.0</td>\n",
       "      <td>2015</td>\n",
       "      <td>July</td>\n",
       "      <td>27</td>\n",
       "      <td>1</td>\n",
       "      <td>0</td>\n",
       "      <td>2</td>\n",
       "      <td>2.0</td>\n",
       "      <td>...</td>\n",
       "      <td>0</td>\n",
       "      <td>0</td>\n",
       "      <td>0</td>\n",
       "      <td>A</td>\n",
       "      <td>0</td>\n",
       "      <td>0</td>\n",
       "      <td>Transient</td>\n",
       "      <td>0</td>\n",
       "      <td>1</td>\n",
       "      <td>2</td>\n",
       "    </tr>\n",
       "    <tr>\n",
       "      <th>2</th>\n",
       "      <td>2</td>\n",
       "      <td>0</td>\n",
       "      <td>0.0</td>\n",
       "      <td>2015</td>\n",
       "      <td>July</td>\n",
       "      <td>27</td>\n",
       "      <td>1</td>\n",
       "      <td>0</td>\n",
       "      <td>2</td>\n",
       "      <td>2.0</td>\n",
       "      <td>...</td>\n",
       "      <td>0</td>\n",
       "      <td>0</td>\n",
       "      <td>0</td>\n",
       "      <td>C</td>\n",
       "      <td>0</td>\n",
       "      <td>0</td>\n",
       "      <td>Transient</td>\n",
       "      <td>0</td>\n",
       "      <td>0</td>\n",
       "      <td>2</td>\n",
       "    </tr>\n",
       "    <tr>\n",
       "      <th>3</th>\n",
       "      <td>3</td>\n",
       "      <td>0</td>\n",
       "      <td>9.0</td>\n",
       "      <td>2015</td>\n",
       "      <td>July</td>\n",
       "      <td>27</td>\n",
       "      <td>1</td>\n",
       "      <td>0</td>\n",
       "      <td>2</td>\n",
       "      <td>2.0</td>\n",
       "      <td>...</td>\n",
       "      <td>0</td>\n",
       "      <td>0</td>\n",
       "      <td>0</td>\n",
       "      <td>C</td>\n",
       "      <td>0</td>\n",
       "      <td>0</td>\n",
       "      <td>Transient</td>\n",
       "      <td>0</td>\n",
       "      <td>1</td>\n",
       "      <td>2</td>\n",
       "    </tr>\n",
       "    <tr>\n",
       "      <th>4</th>\n",
       "      <td>4</td>\n",
       "      <td>1</td>\n",
       "      <td>85.0</td>\n",
       "      <td>2015</td>\n",
       "      <td>July</td>\n",
       "      <td>27</td>\n",
       "      <td>1</td>\n",
       "      <td>0</td>\n",
       "      <td>3</td>\n",
       "      <td>2.0</td>\n",
       "      <td>...</td>\n",
       "      <td>0</td>\n",
       "      <td>0</td>\n",
       "      <td>0</td>\n",
       "      <td>A</td>\n",
       "      <td>0</td>\n",
       "      <td>0</td>\n",
       "      <td>Transient</td>\n",
       "      <td>0</td>\n",
       "      <td>1</td>\n",
       "      <td>3</td>\n",
       "    </tr>\n",
       "  </tbody>\n",
       "</table>\n",
       "<p>5 rows × 25 columns</p>\n",
       "</div>"
      ],
      "text/plain": [
       "   id  is_canceled  lead_time  arrival_date_year arrival_date_month  \\\n",
       "0   0            0        7.0               2015               July   \n",
       "1   1            0       14.0               2015               July   \n",
       "2   2            0        0.0               2015               July   \n",
       "3   3            0        9.0               2015               July   \n",
       "4   4            1       85.0               2015               July   \n",
       "\n",
       "   arrival_date_week_number  arrival_date_day_of_month  \\\n",
       "0                        27                          1   \n",
       "1                        27                          1   \n",
       "2                        27                          1   \n",
       "3                        27                          1   \n",
       "4                        27                          1   \n",
       "\n",
       "   stays_in_weekend_nights  stays_in_week_nights  adults  ...  \\\n",
       "0                        0                     1     1.0  ...   \n",
       "1                        0                     2     2.0  ...   \n",
       "2                        0                     2     2.0  ...   \n",
       "3                        0                     2     2.0  ...   \n",
       "4                        0                     3     2.0  ...   \n",
       "\n",
       "   is_repeated_guest  previous_cancellations previous_bookings_not_canceled  \\\n",
       "0                  0                       0                              0   \n",
       "1                  0                       0                              0   \n",
       "2                  0                       0                              0   \n",
       "3                  0                       0                              0   \n",
       "4                  0                       0                              0   \n",
       "\n",
       "  reserved_room_type booking_changes  days_in_waiting_list  customer_type  \\\n",
       "0   A                              0                     0      Transient   \n",
       "1   A                              0                     0      Transient   \n",
       "2   C                              0                     0      Transient   \n",
       "3   C                              0                     0      Transient   \n",
       "4   A                              0                     0      Transient   \n",
       "\n",
       "   required_car_parking_spaces total_of_special_requests  total_nights  \n",
       "0                            0                         0             1  \n",
       "1                            0                         1             2  \n",
       "2                            0                         0             2  \n",
       "3                            0                         1             2  \n",
       "4                            0                         1             3  \n",
       "\n",
       "[5 rows x 25 columns]"
      ]
     },
     "execution_count": 8,
     "metadata": {},
     "output_type": "execute_result"
    }
   ],
   "source": [
    "data_train.head()"
   ]
  },
  {
   "cell_type": "markdown",
   "metadata": {},
   "source": [
    "Выделю катеогрии object-данных в отдельный список для удобства"
   ]
  },
  {
   "cell_type": "code",
   "execution_count": 9,
   "metadata": {},
   "outputs": [],
   "source": [
    "cat_object_data =['arrival_date_month', 'meal', 'country', 'distribution_channel', \n",
    "                  'reserved_room_type', 'customer_type']"
   ]
  },
  {
   "cell_type": "markdown",
   "metadata": {},
   "source": [
    "В столбце meal и reserved_room_type ненужные пробелы после названия, избавимся от них. (Из-за пропусков в meal задвоилась категория)"
   ]
  },
  {
   "cell_type": "code",
   "execution_count": 10,
   "metadata": {},
   "outputs": [
    {
     "name": "stdout",
     "output_type": "stream",
     "text": [
      "['BB' 'FB' 'HB' 'SC']\n",
      "['A' 'C' 'D' 'E' 'G' 'F' 'B']\n"
     ]
    }
   ],
   "source": [
    "data_train['meal'] = data_train['meal'].str.strip()\n",
    "data_train['reserved_room_type'] = data_train['reserved_room_type'].str.strip()\n",
    "\n",
    "print(data_train['meal'].unique())\n",
    "print(data_train['reserved_room_type'].unique())"
   ]
  },
  {
   "cell_type": "markdown",
   "metadata": {},
   "source": [
    "Такая же история и в test данных, и еще обнаружилось, что не все месяцы попали в тестовую выборку. К сожалению, ничего с этим не сделать"
   ]
  },
  {
   "cell_type": "code",
   "execution_count": 11,
   "metadata": {
    "scrolled": false
   },
   "outputs": [
    {
     "name": "stdout",
     "output_type": "stream",
     "text": [
      "['BB' 'FB' 'HB' 'SC']\n",
      "['A' 'C' 'D' 'E' 'G' 'F' 'B']\n"
     ]
    }
   ],
   "source": [
    "data_test['meal'] = data_test['meal'].str.strip()\n",
    "data_test['reserved_room_type'] = data_test['reserved_room_type'].str.strip()\n",
    "\n",
    "print(data_train['meal'].unique())\n",
    "print(data_train['reserved_room_type'].unique())"
   ]
  },
  {
   "cell_type": "markdown",
   "metadata": {},
   "source": [
    "Построим гистаграммы по всем признакам:"
   ]
  },
  {
   "cell_type": "code",
   "execution_count": 12,
   "metadata": {
    "scrolled": false
   },
   "outputs": [
    {
     "data": {
      "image/png": "[encoded data removed]",
      "text/plain": [
       "<Figure size 936x1224 with 20 Axes>"
      ]
     },
     "metadata": {
      "needs_background": "light"
     },
     "output_type": "display_data"
    }
   ],
   "source": [
    "data_train.hist(figsize=(13,17));"
   ]
  },
  {
   "cell_type": "markdown",
   "metadata": {},
   "source": [
    "Таргет для обучения модели - параметр is_canceled\n",
    "\n",
    "В парамете lead_time  (датой можду бронированием заездом) и есть \"хвост\" с количеством дней, превышающих 200 дней. Но большинство заездов после брони в пределах 1-3 дней\n",
    "\n",
    "Чаще всего бронируют 2 взрослых без детей (А возможно потому что такой предустановенный параметр стоит на сайте)\n",
    "В параметре с младенцами есть какой-то выброс (со значением больше 10) просмотрю ниже, возможно удалим\n",
    "\n",
    "Есть хвосты в previous_cancellations и previous_bookings_not_canceled, но ничего аномального там не обнаружил (ниже вывел выборки)\n",
    "И также можно наблюдать хвост в days_in_waiting_list, мода тоже около нуля, но присутствуют и более редкие значения с высокомим значениями ( 50 и более дней)"
   ]
  },
  {
   "cell_type": "code",
   "execution_count": 13,
   "metadata": {},
   "outputs": [
    {
     "data": {
      "text/html": [
       "<div>\n",
       "<style scoped>\n",
       "    .dataframe tbody tr th:only-of-type {\n",
       "        vertical-align: middle;\n",
       "    }\n",
       "\n",
       "    .dataframe tbody tr th {\n",
       "        vertical-align: top;\n",
       "    }\n",
       "\n",
       "    .dataframe thead th {\n",
       "        text-align: right;\n",
       "    }\n",
       "</style>\n",
       "<table border=\"1\" class=\"dataframe\">\n",
       "  <thead>\n",
       "    <tr style=\"text-align: right;\">\n",
       "      <th></th>\n",
       "      <th>id</th>\n",
       "      <th>is_canceled</th>\n",
       "      <th>lead_time</th>\n",
       "      <th>arrival_date_year</th>\n",
       "      <th>arrival_date_month</th>\n",
       "      <th>arrival_date_week_number</th>\n",
       "      <th>arrival_date_day_of_month</th>\n",
       "      <th>stays_in_weekend_nights</th>\n",
       "      <th>stays_in_week_nights</th>\n",
       "      <th>adults</th>\n",
       "      <th>...</th>\n",
       "      <th>is_repeated_guest</th>\n",
       "      <th>previous_cancellations</th>\n",
       "      <th>previous_bookings_not_canceled</th>\n",
       "      <th>reserved_room_type</th>\n",
       "      <th>booking_changes</th>\n",
       "      <th>days_in_waiting_list</th>\n",
       "      <th>customer_type</th>\n",
       "      <th>required_car_parking_spaces</th>\n",
       "      <th>total_of_special_requests</th>\n",
       "      <th>total_nights</th>\n",
       "    </tr>\n",
       "  </thead>\n",
       "  <tbody>\n",
       "    <tr>\n",
       "      <th>22995</th>\n",
       "      <td>30935</td>\n",
       "      <td>0</td>\n",
       "      <td>37.0</td>\n",
       "      <td>2016</td>\n",
       "      <td>January</td>\n",
       "      <td>3</td>\n",
       "      <td>12</td>\n",
       "      <td>0</td>\n",
       "      <td>2</td>\n",
       "      <td>2.0</td>\n",
       "      <td>...</td>\n",
       "      <td>0</td>\n",
       "      <td>0</td>\n",
       "      <td>0</td>\n",
       "      <td>D</td>\n",
       "      <td>1</td>\n",
       "      <td>0</td>\n",
       "      <td>Transient</td>\n",
       "      <td>0</td>\n",
       "      <td>1</td>\n",
       "      <td>2</td>\n",
       "    </tr>\n",
       "    <tr>\n",
       "      <th>41528</th>\n",
       "      <td>59925</td>\n",
       "      <td>0</td>\n",
       "      <td>11.0</td>\n",
       "      <td>2015</td>\n",
       "      <td>October</td>\n",
       "      <td>42</td>\n",
       "      <td>11</td>\n",
       "      <td>2</td>\n",
       "      <td>1</td>\n",
       "      <td>1.0</td>\n",
       "      <td>...</td>\n",
       "      <td>0</td>\n",
       "      <td>0</td>\n",
       "      <td>0</td>\n",
       "      <td>A</td>\n",
       "      <td>1</td>\n",
       "      <td>0</td>\n",
       "      <td>Transient-Party</td>\n",
       "      <td>0</td>\n",
       "      <td>0</td>\n",
       "      <td>3</td>\n",
       "    </tr>\n",
       "  </tbody>\n",
       "</table>\n",
       "<p>2 rows × 25 columns</p>\n",
       "</div>"
      ],
      "text/plain": [
       "          id  is_canceled  lead_time  arrival_date_year arrival_date_month  \\\n",
       "22995  30935            0       37.0               2016            January   \n",
       "41528  59925            0       11.0               2015            October   \n",
       "\n",
       "       arrival_date_week_number  arrival_date_day_of_month  \\\n",
       "22995                         3                         12   \n",
       "41528                        42                         11   \n",
       "\n",
       "       stays_in_weekend_nights  stays_in_week_nights  adults  ...  \\\n",
       "22995                        0                     2     2.0  ...   \n",
       "41528                        2                     1     1.0  ...   \n",
       "\n",
       "       is_repeated_guest  previous_cancellations  \\\n",
       "22995                  0                       0   \n",
       "41528                  0                       0   \n",
       "\n",
       "      previous_bookings_not_canceled reserved_room_type booking_changes  \\\n",
       "22995                              0                  D               1   \n",
       "41528                              0                  A               1   \n",
       "\n",
       "       days_in_waiting_list    customer_type  required_car_parking_spaces  \\\n",
       "22995                     0        Transient                            0   \n",
       "41528                     0  Transient-Party                            0   \n",
       "\n",
       "      total_of_special_requests  total_nights  \n",
       "22995                         1             2  \n",
       "41528                         0             3  \n",
       "\n",
       "[2 rows x 25 columns]"
      ]
     },
     "execution_count": 13,
     "metadata": {},
     "output_type": "execute_result"
    }
   ],
   "source": [
    "data_train.query(\"babies > 2\")"
   ]
  },
  {
   "cell_type": "markdown",
   "metadata": {},
   "source": [
    "2 записи с 9 и 10 младенцами. Не похоже на правду, лучше убрать эти данные. Тем более их 2 и на общую картину они не повлияют"
   ]
  },
  {
   "cell_type": "code",
   "execution_count": 14,
   "metadata": {
    "scrolled": true
   },
   "outputs": [],
   "source": [
    "data_train = data_train.query(\"babies < 2\")"
   ]
  },
  {
   "cell_type": "markdown",
   "metadata": {},
   "source": [
    "Проверим есть ли данные бронями, где есть дети, но нет взрослых:"
   ]
  },
  {
   "cell_type": "code",
   "execution_count": 15,
   "metadata": {
    "scrolled": true
   },
   "outputs": [
    {
     "data": {
      "text/plain": [
       "151"
      ]
     },
     "execution_count": 15,
     "metadata": {},
     "output_type": "execute_result"
    }
   ],
   "source": [
    "data_train.query('(children > 0 | babies > 0) & adults == 0').shape[0]"
   ]
  },
  {
   "cell_type": "markdown",
   "metadata": {},
   "source": [
    "151 запись- избавимся, так как дети без взрослых заселиться в отель точно не могут"
   ]
  },
  {
   "cell_type": "code",
   "execution_count": 16,
   "metadata": {},
   "outputs": [],
   "source": [
    "data_train.drop(data_train.query('(children > 0 | babies > 0) & adults == 0').index, inplace=True)\n",
    "data_test.drop(data_test.query('(children > 0 | babies > 0) & adults == 0').index, inplace=True)"
   ]
  },
  {
   "cell_type": "markdown",
   "metadata": {},
   "source": [
    "Посмотрим на количество дней между датой бронирования и датой прибытия"
   ]
  },
  {
   "cell_type": "code",
   "execution_count": 17,
   "metadata": {
    "scrolled": true
   },
   "outputs": [
    {
     "data": {
      "image/png": "[encoded data removed]",
      "text/plain": [
       "<Figure size 432x288 with 1 Axes>"
      ]
     },
     "metadata": {
      "needs_background": "light"
     },
     "output_type": "display_data"
    }
   ],
   "source": [
    "data_train['lead_time'][data_train['lead_time'] < 30].hist();\n"
   ]
  },
  {
   "cell_type": "markdown",
   "metadata": {},
   "source": [
    "И на данные с подтвержденными и отмененными заказами"
   ]
  },
  {
   "cell_type": "code",
   "execution_count": 18,
   "metadata": {
    "scrolled": false
   },
   "outputs": [
    {
     "data": {
      "text/html": [
       "<div>\n",
       "<style scoped>\n",
       "    .dataframe tbody tr th:only-of-type {\n",
       "        vertical-align: middle;\n",
       "    }\n",
       "\n",
       "    .dataframe tbody tr th {\n",
       "        vertical-align: top;\n",
       "    }\n",
       "\n",
       "    .dataframe thead th {\n",
       "        text-align: right;\n",
       "    }\n",
       "</style>\n",
       "<table border=\"1\" class=\"dataframe\">\n",
       "  <thead>\n",
       "    <tr style=\"text-align: right;\">\n",
       "      <th></th>\n",
       "      <th>id</th>\n",
       "      <th>is_canceled</th>\n",
       "      <th>lead_time</th>\n",
       "      <th>arrival_date_year</th>\n",
       "      <th>arrival_date_month</th>\n",
       "      <th>arrival_date_week_number</th>\n",
       "      <th>arrival_date_day_of_month</th>\n",
       "      <th>stays_in_weekend_nights</th>\n",
       "      <th>stays_in_week_nights</th>\n",
       "      <th>adults</th>\n",
       "      <th>...</th>\n",
       "      <th>is_repeated_guest</th>\n",
       "      <th>previous_cancellations</th>\n",
       "      <th>previous_bookings_not_canceled</th>\n",
       "      <th>reserved_room_type</th>\n",
       "      <th>booking_changes</th>\n",
       "      <th>days_in_waiting_list</th>\n",
       "      <th>customer_type</th>\n",
       "      <th>required_car_parking_spaces</th>\n",
       "      <th>total_of_special_requests</th>\n",
       "      <th>total_nights</th>\n",
       "    </tr>\n",
       "  </thead>\n",
       "  <tbody>\n",
       "    <tr>\n",
       "      <th>18093</th>\n",
       "      <td>58131</td>\n",
       "      <td>0</td>\n",
       "      <td>0.0</td>\n",
       "      <td>2017</td>\n",
       "      <td>January</td>\n",
       "      <td>1</td>\n",
       "      <td>2</td>\n",
       "      <td>1</td>\n",
       "      <td>2</td>\n",
       "      <td>1.0</td>\n",
       "      <td>...</td>\n",
       "      <td>1</td>\n",
       "      <td>6</td>\n",
       "      <td>58</td>\n",
       "      <td>A</td>\n",
       "      <td>0</td>\n",
       "      <td>0</td>\n",
       "      <td>Transient</td>\n",
       "      <td>0</td>\n",
       "      <td>0</td>\n",
       "      <td>3</td>\n",
       "    </tr>\n",
       "    <tr>\n",
       "      <th>18094</th>\n",
       "      <td>58132</td>\n",
       "      <td>0</td>\n",
       "      <td>5.0</td>\n",
       "      <td>2017</td>\n",
       "      <td>January</td>\n",
       "      <td>2</td>\n",
       "      <td>10</td>\n",
       "      <td>0</td>\n",
       "      <td>3</td>\n",
       "      <td>1.0</td>\n",
       "      <td>...</td>\n",
       "      <td>1</td>\n",
       "      <td>6</td>\n",
       "      <td>59</td>\n",
       "      <td>A</td>\n",
       "      <td>0</td>\n",
       "      <td>0</td>\n",
       "      <td>Transient</td>\n",
       "      <td>0</td>\n",
       "      <td>2</td>\n",
       "      <td>3</td>\n",
       "    </tr>\n",
       "    <tr>\n",
       "      <th>18095</th>\n",
       "      <td>58133</td>\n",
       "      <td>0</td>\n",
       "      <td>0.0</td>\n",
       "      <td>2017</td>\n",
       "      <td>January</td>\n",
       "      <td>4</td>\n",
       "      <td>24</td>\n",
       "      <td>0</td>\n",
       "      <td>3</td>\n",
       "      <td>1.0</td>\n",
       "      <td>...</td>\n",
       "      <td>1</td>\n",
       "      <td>6</td>\n",
       "      <td>60</td>\n",
       "      <td>A</td>\n",
       "      <td>1</td>\n",
       "      <td>0</td>\n",
       "      <td>Transient</td>\n",
       "      <td>0</td>\n",
       "      <td>1</td>\n",
       "      <td>3</td>\n",
       "    </tr>\n",
       "    <tr>\n",
       "      <th>18096</th>\n",
       "      <td>58134</td>\n",
       "      <td>0</td>\n",
       "      <td>1.0</td>\n",
       "      <td>2017</td>\n",
       "      <td>January</td>\n",
       "      <td>5</td>\n",
       "      <td>31</td>\n",
       "      <td>0</td>\n",
       "      <td>3</td>\n",
       "      <td>1.0</td>\n",
       "      <td>...</td>\n",
       "      <td>1</td>\n",
       "      <td>6</td>\n",
       "      <td>61</td>\n",
       "      <td>A</td>\n",
       "      <td>0</td>\n",
       "      <td>0</td>\n",
       "      <td>Transient</td>\n",
       "      <td>0</td>\n",
       "      <td>1</td>\n",
       "      <td>3</td>\n",
       "    </tr>\n",
       "    <tr>\n",
       "      <th>18097</th>\n",
       "      <td>58135</td>\n",
       "      <td>0</td>\n",
       "      <td>4.0</td>\n",
       "      <td>2017</td>\n",
       "      <td>May</td>\n",
       "      <td>18</td>\n",
       "      <td>2</td>\n",
       "      <td>0</td>\n",
       "      <td>2</td>\n",
       "      <td>1.0</td>\n",
       "      <td>...</td>\n",
       "      <td>1</td>\n",
       "      <td>6</td>\n",
       "      <td>62</td>\n",
       "      <td>A</td>\n",
       "      <td>1</td>\n",
       "      <td>0</td>\n",
       "      <td>Transient</td>\n",
       "      <td>0</td>\n",
       "      <td>1</td>\n",
       "      <td>2</td>\n",
       "    </tr>\n",
       "    <tr>\n",
       "      <th>18098</th>\n",
       "      <td>58136</td>\n",
       "      <td>0</td>\n",
       "      <td>5.0</td>\n",
       "      <td>2017</td>\n",
       "      <td>May</td>\n",
       "      <td>19</td>\n",
       "      <td>8</td>\n",
       "      <td>1</td>\n",
       "      <td>2</td>\n",
       "      <td>1.0</td>\n",
       "      <td>...</td>\n",
       "      <td>1</td>\n",
       "      <td>6</td>\n",
       "      <td>63</td>\n",
       "      <td>A</td>\n",
       "      <td>0</td>\n",
       "      <td>0</td>\n",
       "      <td>Transient</td>\n",
       "      <td>0</td>\n",
       "      <td>1</td>\n",
       "      <td>3</td>\n",
       "    </tr>\n",
       "    <tr>\n",
       "      <th>18099</th>\n",
       "      <td>58137</td>\n",
       "      <td>0</td>\n",
       "      <td>6.0</td>\n",
       "      <td>2017</td>\n",
       "      <td>May</td>\n",
       "      <td>21</td>\n",
       "      <td>22</td>\n",
       "      <td>1</td>\n",
       "      <td>1</td>\n",
       "      <td>1.0</td>\n",
       "      <td>...</td>\n",
       "      <td>1</td>\n",
       "      <td>6</td>\n",
       "      <td>64</td>\n",
       "      <td>A</td>\n",
       "      <td>1</td>\n",
       "      <td>0</td>\n",
       "      <td>Transient</td>\n",
       "      <td>0</td>\n",
       "      <td>1</td>\n",
       "      <td>2</td>\n",
       "    </tr>\n",
       "    <tr>\n",
       "      <th>18100</th>\n",
       "      <td>58138</td>\n",
       "      <td>0</td>\n",
       "      <td>20.0</td>\n",
       "      <td>2017</td>\n",
       "      <td>June</td>\n",
       "      <td>23</td>\n",
       "      <td>6</td>\n",
       "      <td>0</td>\n",
       "      <td>3</td>\n",
       "      <td>1.0</td>\n",
       "      <td>...</td>\n",
       "      <td>1</td>\n",
       "      <td>6</td>\n",
       "      <td>65</td>\n",
       "      <td>A</td>\n",
       "      <td>1</td>\n",
       "      <td>0</td>\n",
       "      <td>Transient</td>\n",
       "      <td>0</td>\n",
       "      <td>1</td>\n",
       "      <td>3</td>\n",
       "    </tr>\n",
       "    <tr>\n",
       "      <th>18101</th>\n",
       "      <td>58139</td>\n",
       "      <td>0</td>\n",
       "      <td>4.0</td>\n",
       "      <td>2017</td>\n",
       "      <td>June</td>\n",
       "      <td>25</td>\n",
       "      <td>20</td>\n",
       "      <td>0</td>\n",
       "      <td>3</td>\n",
       "      <td>1.0</td>\n",
       "      <td>...</td>\n",
       "      <td>1</td>\n",
       "      <td>6</td>\n",
       "      <td>66</td>\n",
       "      <td>A</td>\n",
       "      <td>0</td>\n",
       "      <td>0</td>\n",
       "      <td>Transient</td>\n",
       "      <td>0</td>\n",
       "      <td>1</td>\n",
       "      <td>3</td>\n",
       "    </tr>\n",
       "    <tr>\n",
       "      <th>18102</th>\n",
       "      <td>58140</td>\n",
       "      <td>0</td>\n",
       "      <td>3.0</td>\n",
       "      <td>2017</td>\n",
       "      <td>June</td>\n",
       "      <td>26</td>\n",
       "      <td>26</td>\n",
       "      <td>1</td>\n",
       "      <td>3</td>\n",
       "      <td>1.0</td>\n",
       "      <td>...</td>\n",
       "      <td>1</td>\n",
       "      <td>6</td>\n",
       "      <td>67</td>\n",
       "      <td>A</td>\n",
       "      <td>1</td>\n",
       "      <td>0</td>\n",
       "      <td>Transient</td>\n",
       "      <td>0</td>\n",
       "      <td>1</td>\n",
       "      <td>4</td>\n",
       "    </tr>\n",
       "    <tr>\n",
       "      <th>18103</th>\n",
       "      <td>58141</td>\n",
       "      <td>0</td>\n",
       "      <td>5.0</td>\n",
       "      <td>2017</td>\n",
       "      <td>July</td>\n",
       "      <td>27</td>\n",
       "      <td>4</td>\n",
       "      <td>0</td>\n",
       "      <td>3</td>\n",
       "      <td>1.0</td>\n",
       "      <td>...</td>\n",
       "      <td>1</td>\n",
       "      <td>6</td>\n",
       "      <td>68</td>\n",
       "      <td>A</td>\n",
       "      <td>1</td>\n",
       "      <td>0</td>\n",
       "      <td>Transient</td>\n",
       "      <td>0</td>\n",
       "      <td>1</td>\n",
       "      <td>3</td>\n",
       "    </tr>\n",
       "    <tr>\n",
       "      <th>18104</th>\n",
       "      <td>58142</td>\n",
       "      <td>0</td>\n",
       "      <td>5.0</td>\n",
       "      <td>2017</td>\n",
       "      <td>July</td>\n",
       "      <td>28</td>\n",
       "      <td>11</td>\n",
       "      <td>0</td>\n",
       "      <td>2</td>\n",
       "      <td>1.0</td>\n",
       "      <td>...</td>\n",
       "      <td>1</td>\n",
       "      <td>6</td>\n",
       "      <td>69</td>\n",
       "      <td>A</td>\n",
       "      <td>0</td>\n",
       "      <td>0</td>\n",
       "      <td>Transient</td>\n",
       "      <td>0</td>\n",
       "      <td>2</td>\n",
       "      <td>2</td>\n",
       "    </tr>\n",
       "    <tr>\n",
       "      <th>18105</th>\n",
       "      <td>58143</td>\n",
       "      <td>0</td>\n",
       "      <td>4.0</td>\n",
       "      <td>2017</td>\n",
       "      <td>July</td>\n",
       "      <td>29</td>\n",
       "      <td>16</td>\n",
       "      <td>1</td>\n",
       "      <td>0</td>\n",
       "      <td>1.0</td>\n",
       "      <td>...</td>\n",
       "      <td>1</td>\n",
       "      <td>6</td>\n",
       "      <td>70</td>\n",
       "      <td>A</td>\n",
       "      <td>0</td>\n",
       "      <td>0</td>\n",
       "      <td>Transient</td>\n",
       "      <td>0</td>\n",
       "      <td>1</td>\n",
       "      <td>1</td>\n",
       "    </tr>\n",
       "    <tr>\n",
       "      <th>18106</th>\n",
       "      <td>58144</td>\n",
       "      <td>0</td>\n",
       "      <td>4.0</td>\n",
       "      <td>2017</td>\n",
       "      <td>July</td>\n",
       "      <td>30</td>\n",
       "      <td>23</td>\n",
       "      <td>2</td>\n",
       "      <td>1</td>\n",
       "      <td>1.0</td>\n",
       "      <td>...</td>\n",
       "      <td>1</td>\n",
       "      <td>6</td>\n",
       "      <td>71</td>\n",
       "      <td>A</td>\n",
       "      <td>1</td>\n",
       "      <td>0</td>\n",
       "      <td>Transient</td>\n",
       "      <td>0</td>\n",
       "      <td>2</td>\n",
       "      <td>3</td>\n",
       "    </tr>\n",
       "    <tr>\n",
       "      <th>18107</th>\n",
       "      <td>58145</td>\n",
       "      <td>0</td>\n",
       "      <td>0.0</td>\n",
       "      <td>2017</td>\n",
       "      <td>August</td>\n",
       "      <td>34</td>\n",
       "      <td>22</td>\n",
       "      <td>0</td>\n",
       "      <td>1</td>\n",
       "      <td>1.0</td>\n",
       "      <td>...</td>\n",
       "      <td>1</td>\n",
       "      <td>6</td>\n",
       "      <td>72</td>\n",
       "      <td>A</td>\n",
       "      <td>0</td>\n",
       "      <td>0</td>\n",
       "      <td>Transient</td>\n",
       "      <td>0</td>\n",
       "      <td>2</td>\n",
       "      <td>1</td>\n",
       "    </tr>\n",
       "  </tbody>\n",
       "</table>\n",
       "<p>15 rows × 25 columns</p>\n",
       "</div>"
      ],
      "text/plain": [
       "          id  is_canceled  lead_time  arrival_date_year arrival_date_month  \\\n",
       "18093  58131            0        0.0               2017            January   \n",
       "18094  58132            0        5.0               2017            January   \n",
       "18095  58133            0        0.0               2017            January   \n",
       "18096  58134            0        1.0               2017            January   \n",
       "18097  58135            0        4.0               2017                May   \n",
       "18098  58136            0        5.0               2017                May   \n",
       "18099  58137            0        6.0               2017                May   \n",
       "18100  58138            0       20.0               2017               June   \n",
       "18101  58139            0        4.0               2017               June   \n",
       "18102  58140            0        3.0               2017               June   \n",
       "18103  58141            0        5.0               2017               July   \n",
       "18104  58142            0        5.0               2017               July   \n",
       "18105  58143            0        4.0               2017               July   \n",
       "18106  58144            0        4.0               2017               July   \n",
       "18107  58145            0        0.0               2017             August   \n",
       "\n",
       "       arrival_date_week_number  arrival_date_day_of_month  \\\n",
       "18093                         1                          2   \n",
       "18094                         2                         10   \n",
       "18095                         4                         24   \n",
       "18096                         5                         31   \n",
       "18097                        18                          2   \n",
       "18098                        19                          8   \n",
       "18099                        21                         22   \n",
       "18100                        23                          6   \n",
       "18101                        25                         20   \n",
       "18102                        26                         26   \n",
       "18103                        27                          4   \n",
       "18104                        28                         11   \n",
       "18105                        29                         16   \n",
       "18106                        30                         23   \n",
       "18107                        34                         22   \n",
       "\n",
       "       stays_in_weekend_nights  stays_in_week_nights  adults  ...  \\\n",
       "18093                        1                     2     1.0  ...   \n",
       "18094                        0                     3     1.0  ...   \n",
       "18095                        0                     3     1.0  ...   \n",
       "18096                        0                     3     1.0  ...   \n",
       "18097                        0                     2     1.0  ...   \n",
       "18098                        1                     2     1.0  ...   \n",
       "18099                        1                     1     1.0  ...   \n",
       "18100                        0                     3     1.0  ...   \n",
       "18101                        0                     3     1.0  ...   \n",
       "18102                        1                     3     1.0  ...   \n",
       "18103                        0                     3     1.0  ...   \n",
       "18104                        0                     2     1.0  ...   \n",
       "18105                        1                     0     1.0  ...   \n",
       "18106                        2                     1     1.0  ...   \n",
       "18107                        0                     1     1.0  ...   \n",
       "\n",
       "       is_repeated_guest  previous_cancellations  \\\n",
       "18093                  1                       6   \n",
       "18094                  1                       6   \n",
       "18095                  1                       6   \n",
       "18096                  1                       6   \n",
       "18097                  1                       6   \n",
       "18098                  1                       6   \n",
       "18099                  1                       6   \n",
       "18100                  1                       6   \n",
       "18101                  1                       6   \n",
       "18102                  1                       6   \n",
       "18103                  1                       6   \n",
       "18104                  1                       6   \n",
       "18105                  1                       6   \n",
       "18106                  1                       6   \n",
       "18107                  1                       6   \n",
       "\n",
       "      previous_bookings_not_canceled reserved_room_type booking_changes  \\\n",
       "18093                             58                  A               0   \n",
       "18094                             59                  A               0   \n",
       "18095                             60                  A               1   \n",
       "18096                             61                  A               0   \n",
       "18097                             62                  A               1   \n",
       "18098                             63                  A               0   \n",
       "18099                             64                  A               1   \n",
       "18100                             65                  A               1   \n",
       "18101                             66                  A               0   \n",
       "18102                             67                  A               1   \n",
       "18103                             68                  A               1   \n",
       "18104                             69                  A               0   \n",
       "18105                             70                  A               0   \n",
       "18106                             71                  A               1   \n",
       "18107                             72                  A               0   \n",
       "\n",
       "       days_in_waiting_list  customer_type  required_car_parking_spaces  \\\n",
       "18093                     0      Transient                            0   \n",
       "18094                     0      Transient                            0   \n",
       "18095                     0      Transient                            0   \n",
       "18096                     0      Transient                            0   \n",
       "18097                     0      Transient                            0   \n",
       "18098                     0      Transient                            0   \n",
       "18099                     0      Transient                            0   \n",
       "18100                     0      Transient                            0   \n",
       "18101                     0      Transient                            0   \n",
       "18102                     0      Transient                            0   \n",
       "18103                     0      Transient                            0   \n",
       "18104                     0      Transient                            0   \n",
       "18105                     0      Transient                            0   \n",
       "18106                     0      Transient                            0   \n",
       "18107                     0      Transient                            0   \n",
       "\n",
       "      total_of_special_requests  total_nights  \n",
       "18093                         0             3  \n",
       "18094                         2             3  \n",
       "18095                         1             3  \n",
       "18096                         1             3  \n",
       "18097                         1             2  \n",
       "18098                         1             3  \n",
       "18099                         1             2  \n",
       "18100                         1             3  \n",
       "18101                         1             3  \n",
       "18102                         1             4  \n",
       "18103                         1             3  \n",
       "18104                         2             2  \n",
       "18105                         1             1  \n",
       "18106                         2             3  \n",
       "18107                         2             1  \n",
       "\n",
       "[15 rows x 25 columns]"
      ]
     },
     "execution_count": 18,
     "metadata": {},
     "output_type": "execute_result"
    }
   ],
   "source": [
    "data_test[data_test['previous_bookings_not_canceled'] > 30]"
   ]
  },
  {
   "cell_type": "code",
   "execution_count": 19,
   "metadata": {
    "scrolled": true
   },
   "outputs": [
    {
     "data": {
      "text/html": [
       "<div>\n",
       "<style scoped>\n",
       "    .dataframe tbody tr th:only-of-type {\n",
       "        vertical-align: middle;\n",
       "    }\n",
       "\n",
       "    .dataframe tbody tr th {\n",
       "        vertical-align: top;\n",
       "    }\n",
       "\n",
       "    .dataframe thead th {\n",
       "        text-align: right;\n",
       "    }\n",
       "</style>\n",
       "<table border=\"1\" class=\"dataframe\">\n",
       "  <thead>\n",
       "    <tr style=\"text-align: right;\">\n",
       "      <th></th>\n",
       "      <th>id</th>\n",
       "      <th>is_canceled</th>\n",
       "      <th>lead_time</th>\n",
       "      <th>arrival_date_year</th>\n",
       "      <th>arrival_date_month</th>\n",
       "      <th>arrival_date_week_number</th>\n",
       "      <th>arrival_date_day_of_month</th>\n",
       "      <th>stays_in_weekend_nights</th>\n",
       "      <th>stays_in_week_nights</th>\n",
       "      <th>adults</th>\n",
       "      <th>...</th>\n",
       "      <th>is_repeated_guest</th>\n",
       "      <th>previous_cancellations</th>\n",
       "      <th>previous_bookings_not_canceled</th>\n",
       "      <th>reserved_room_type</th>\n",
       "      <th>booking_changes</th>\n",
       "      <th>days_in_waiting_list</th>\n",
       "      <th>customer_type</th>\n",
       "      <th>required_car_parking_spaces</th>\n",
       "      <th>total_of_special_requests</th>\n",
       "      <th>total_nights</th>\n",
       "    </tr>\n",
       "  </thead>\n",
       "  <tbody>\n",
       "    <tr>\n",
       "      <th>2231</th>\n",
       "      <td>8697</td>\n",
       "      <td>0</td>\n",
       "      <td>134.0</td>\n",
       "      <td>2017</td>\n",
       "      <td>April</td>\n",
       "      <td>15</td>\n",
       "      <td>13</td>\n",
       "      <td>0</td>\n",
       "      <td>3</td>\n",
       "      <td>1.0</td>\n",
       "      <td>...</td>\n",
       "      <td>1</td>\n",
       "      <td>4</td>\n",
       "      <td>11</td>\n",
       "      <td>A</td>\n",
       "      <td>0</td>\n",
       "      <td>0</td>\n",
       "      <td>Transient</td>\n",
       "      <td>0</td>\n",
       "      <td>5</td>\n",
       "      <td>3</td>\n",
       "    </tr>\n",
       "    <tr>\n",
       "      <th>2232</th>\n",
       "      <td>8698</td>\n",
       "      <td>1</td>\n",
       "      <td>117.0</td>\n",
       "      <td>2017</td>\n",
       "      <td>April</td>\n",
       "      <td>15</td>\n",
       "      <td>13</td>\n",
       "      <td>0</td>\n",
       "      <td>3</td>\n",
       "      <td>1.0</td>\n",
       "      <td>...</td>\n",
       "      <td>1</td>\n",
       "      <td>4</td>\n",
       "      <td>11</td>\n",
       "      <td>A</td>\n",
       "      <td>0</td>\n",
       "      <td>0</td>\n",
       "      <td>Transient</td>\n",
       "      <td>0</td>\n",
       "      <td>4</td>\n",
       "      <td>3</td>\n",
       "    </tr>\n",
       "    <tr>\n",
       "      <th>2233</th>\n",
       "      <td>8699</td>\n",
       "      <td>0</td>\n",
       "      <td>125.0</td>\n",
       "      <td>2017</td>\n",
       "      <td>April</td>\n",
       "      <td>16</td>\n",
       "      <td>21</td>\n",
       "      <td>2</td>\n",
       "      <td>2</td>\n",
       "      <td>1.0</td>\n",
       "      <td>...</td>\n",
       "      <td>1</td>\n",
       "      <td>4</td>\n",
       "      <td>12</td>\n",
       "      <td>A</td>\n",
       "      <td>2</td>\n",
       "      <td>0</td>\n",
       "      <td>Transient</td>\n",
       "      <td>0</td>\n",
       "      <td>4</td>\n",
       "      <td>4</td>\n",
       "    </tr>\n",
       "    <tr>\n",
       "      <th>2234</th>\n",
       "      <td>8700</td>\n",
       "      <td>1</td>\n",
       "      <td>132.0</td>\n",
       "      <td>2017</td>\n",
       "      <td>April</td>\n",
       "      <td>17</td>\n",
       "      <td>28</td>\n",
       "      <td>1</td>\n",
       "      <td>2</td>\n",
       "      <td>1.0</td>\n",
       "      <td>...</td>\n",
       "      <td>1</td>\n",
       "      <td>4</td>\n",
       "      <td>13</td>\n",
       "      <td>A</td>\n",
       "      <td>0</td>\n",
       "      <td>0</td>\n",
       "      <td>Transient</td>\n",
       "      <td>0</td>\n",
       "      <td>4</td>\n",
       "      <td>3</td>\n",
       "    </tr>\n",
       "    <tr>\n",
       "      <th>2512</th>\n",
       "      <td>16061</td>\n",
       "      <td>0</td>\n",
       "      <td>2.0</td>\n",
       "      <td>2017</td>\n",
       "      <td>February</td>\n",
       "      <td>5</td>\n",
       "      <td>1</td>\n",
       "      <td>0</td>\n",
       "      <td>1</td>\n",
       "      <td>1.0</td>\n",
       "      <td>...</td>\n",
       "      <td>1</td>\n",
       "      <td>5</td>\n",
       "      <td>4</td>\n",
       "      <td>A</td>\n",
       "      <td>1</td>\n",
       "      <td>0</td>\n",
       "      <td>Transient</td>\n",
       "      <td>0</td>\n",
       "      <td>0</td>\n",
       "      <td>1</td>\n",
       "    </tr>\n",
       "    <tr>\n",
       "      <th>18093</th>\n",
       "      <td>58131</td>\n",
       "      <td>0</td>\n",
       "      <td>0.0</td>\n",
       "      <td>2017</td>\n",
       "      <td>January</td>\n",
       "      <td>1</td>\n",
       "      <td>2</td>\n",
       "      <td>1</td>\n",
       "      <td>2</td>\n",
       "      <td>1.0</td>\n",
       "      <td>...</td>\n",
       "      <td>1</td>\n",
       "      <td>6</td>\n",
       "      <td>58</td>\n",
       "      <td>A</td>\n",
       "      <td>0</td>\n",
       "      <td>0</td>\n",
       "      <td>Transient</td>\n",
       "      <td>0</td>\n",
       "      <td>0</td>\n",
       "      <td>3</td>\n",
       "    </tr>\n",
       "    <tr>\n",
       "      <th>18094</th>\n",
       "      <td>58132</td>\n",
       "      <td>0</td>\n",
       "      <td>5.0</td>\n",
       "      <td>2017</td>\n",
       "      <td>January</td>\n",
       "      <td>2</td>\n",
       "      <td>10</td>\n",
       "      <td>0</td>\n",
       "      <td>3</td>\n",
       "      <td>1.0</td>\n",
       "      <td>...</td>\n",
       "      <td>1</td>\n",
       "      <td>6</td>\n",
       "      <td>59</td>\n",
       "      <td>A</td>\n",
       "      <td>0</td>\n",
       "      <td>0</td>\n",
       "      <td>Transient</td>\n",
       "      <td>0</td>\n",
       "      <td>2</td>\n",
       "      <td>3</td>\n",
       "    </tr>\n",
       "    <tr>\n",
       "      <th>18095</th>\n",
       "      <td>58133</td>\n",
       "      <td>0</td>\n",
       "      <td>0.0</td>\n",
       "      <td>2017</td>\n",
       "      <td>January</td>\n",
       "      <td>4</td>\n",
       "      <td>24</td>\n",
       "      <td>0</td>\n",
       "      <td>3</td>\n",
       "      <td>1.0</td>\n",
       "      <td>...</td>\n",
       "      <td>1</td>\n",
       "      <td>6</td>\n",
       "      <td>60</td>\n",
       "      <td>A</td>\n",
       "      <td>1</td>\n",
       "      <td>0</td>\n",
       "      <td>Transient</td>\n",
       "      <td>0</td>\n",
       "      <td>1</td>\n",
       "      <td>3</td>\n",
       "    </tr>\n",
       "    <tr>\n",
       "      <th>18096</th>\n",
       "      <td>58134</td>\n",
       "      <td>0</td>\n",
       "      <td>1.0</td>\n",
       "      <td>2017</td>\n",
       "      <td>January</td>\n",
       "      <td>5</td>\n",
       "      <td>31</td>\n",
       "      <td>0</td>\n",
       "      <td>3</td>\n",
       "      <td>1.0</td>\n",
       "      <td>...</td>\n",
       "      <td>1</td>\n",
       "      <td>6</td>\n",
       "      <td>61</td>\n",
       "      <td>A</td>\n",
       "      <td>0</td>\n",
       "      <td>0</td>\n",
       "      <td>Transient</td>\n",
       "      <td>0</td>\n",
       "      <td>1</td>\n",
       "      <td>3</td>\n",
       "    </tr>\n",
       "    <tr>\n",
       "      <th>18097</th>\n",
       "      <td>58135</td>\n",
       "      <td>0</td>\n",
       "      <td>4.0</td>\n",
       "      <td>2017</td>\n",
       "      <td>May</td>\n",
       "      <td>18</td>\n",
       "      <td>2</td>\n",
       "      <td>0</td>\n",
       "      <td>2</td>\n",
       "      <td>1.0</td>\n",
       "      <td>...</td>\n",
       "      <td>1</td>\n",
       "      <td>6</td>\n",
       "      <td>62</td>\n",
       "      <td>A</td>\n",
       "      <td>1</td>\n",
       "      <td>0</td>\n",
       "      <td>Transient</td>\n",
       "      <td>0</td>\n",
       "      <td>1</td>\n",
       "      <td>2</td>\n",
       "    </tr>\n",
       "    <tr>\n",
       "      <th>18098</th>\n",
       "      <td>58136</td>\n",
       "      <td>0</td>\n",
       "      <td>5.0</td>\n",
       "      <td>2017</td>\n",
       "      <td>May</td>\n",
       "      <td>19</td>\n",
       "      <td>8</td>\n",
       "      <td>1</td>\n",
       "      <td>2</td>\n",
       "      <td>1.0</td>\n",
       "      <td>...</td>\n",
       "      <td>1</td>\n",
       "      <td>6</td>\n",
       "      <td>63</td>\n",
       "      <td>A</td>\n",
       "      <td>0</td>\n",
       "      <td>0</td>\n",
       "      <td>Transient</td>\n",
       "      <td>0</td>\n",
       "      <td>1</td>\n",
       "      <td>3</td>\n",
       "    </tr>\n",
       "    <tr>\n",
       "      <th>18099</th>\n",
       "      <td>58137</td>\n",
       "      <td>0</td>\n",
       "      <td>6.0</td>\n",
       "      <td>2017</td>\n",
       "      <td>May</td>\n",
       "      <td>21</td>\n",
       "      <td>22</td>\n",
       "      <td>1</td>\n",
       "      <td>1</td>\n",
       "      <td>1.0</td>\n",
       "      <td>...</td>\n",
       "      <td>1</td>\n",
       "      <td>6</td>\n",
       "      <td>64</td>\n",
       "      <td>A</td>\n",
       "      <td>1</td>\n",
       "      <td>0</td>\n",
       "      <td>Transient</td>\n",
       "      <td>0</td>\n",
       "      <td>1</td>\n",
       "      <td>2</td>\n",
       "    </tr>\n",
       "    <tr>\n",
       "      <th>18100</th>\n",
       "      <td>58138</td>\n",
       "      <td>0</td>\n",
       "      <td>20.0</td>\n",
       "      <td>2017</td>\n",
       "      <td>June</td>\n",
       "      <td>23</td>\n",
       "      <td>6</td>\n",
       "      <td>0</td>\n",
       "      <td>3</td>\n",
       "      <td>1.0</td>\n",
       "      <td>...</td>\n",
       "      <td>1</td>\n",
       "      <td>6</td>\n",
       "      <td>65</td>\n",
       "      <td>A</td>\n",
       "      <td>1</td>\n",
       "      <td>0</td>\n",
       "      <td>Transient</td>\n",
       "      <td>0</td>\n",
       "      <td>1</td>\n",
       "      <td>3</td>\n",
       "    </tr>\n",
       "    <tr>\n",
       "      <th>18101</th>\n",
       "      <td>58139</td>\n",
       "      <td>0</td>\n",
       "      <td>4.0</td>\n",
       "      <td>2017</td>\n",
       "      <td>June</td>\n",
       "      <td>25</td>\n",
       "      <td>20</td>\n",
       "      <td>0</td>\n",
       "      <td>3</td>\n",
       "      <td>1.0</td>\n",
       "      <td>...</td>\n",
       "      <td>1</td>\n",
       "      <td>6</td>\n",
       "      <td>66</td>\n",
       "      <td>A</td>\n",
       "      <td>0</td>\n",
       "      <td>0</td>\n",
       "      <td>Transient</td>\n",
       "      <td>0</td>\n",
       "      <td>1</td>\n",
       "      <td>3</td>\n",
       "    </tr>\n",
       "    <tr>\n",
       "      <th>18102</th>\n",
       "      <td>58140</td>\n",
       "      <td>0</td>\n",
       "      <td>3.0</td>\n",
       "      <td>2017</td>\n",
       "      <td>June</td>\n",
       "      <td>26</td>\n",
       "      <td>26</td>\n",
       "      <td>1</td>\n",
       "      <td>3</td>\n",
       "      <td>1.0</td>\n",
       "      <td>...</td>\n",
       "      <td>1</td>\n",
       "      <td>6</td>\n",
       "      <td>67</td>\n",
       "      <td>A</td>\n",
       "      <td>1</td>\n",
       "      <td>0</td>\n",
       "      <td>Transient</td>\n",
       "      <td>0</td>\n",
       "      <td>1</td>\n",
       "      <td>4</td>\n",
       "    </tr>\n",
       "    <tr>\n",
       "      <th>18103</th>\n",
       "      <td>58141</td>\n",
       "      <td>0</td>\n",
       "      <td>5.0</td>\n",
       "      <td>2017</td>\n",
       "      <td>July</td>\n",
       "      <td>27</td>\n",
       "      <td>4</td>\n",
       "      <td>0</td>\n",
       "      <td>3</td>\n",
       "      <td>1.0</td>\n",
       "      <td>...</td>\n",
       "      <td>1</td>\n",
       "      <td>6</td>\n",
       "      <td>68</td>\n",
       "      <td>A</td>\n",
       "      <td>1</td>\n",
       "      <td>0</td>\n",
       "      <td>Transient</td>\n",
       "      <td>0</td>\n",
       "      <td>1</td>\n",
       "      <td>3</td>\n",
       "    </tr>\n",
       "    <tr>\n",
       "      <th>18104</th>\n",
       "      <td>58142</td>\n",
       "      <td>0</td>\n",
       "      <td>5.0</td>\n",
       "      <td>2017</td>\n",
       "      <td>July</td>\n",
       "      <td>28</td>\n",
       "      <td>11</td>\n",
       "      <td>0</td>\n",
       "      <td>2</td>\n",
       "      <td>1.0</td>\n",
       "      <td>...</td>\n",
       "      <td>1</td>\n",
       "      <td>6</td>\n",
       "      <td>69</td>\n",
       "      <td>A</td>\n",
       "      <td>0</td>\n",
       "      <td>0</td>\n",
       "      <td>Transient</td>\n",
       "      <td>0</td>\n",
       "      <td>2</td>\n",
       "      <td>2</td>\n",
       "    </tr>\n",
       "    <tr>\n",
       "      <th>18105</th>\n",
       "      <td>58143</td>\n",
       "      <td>0</td>\n",
       "      <td>4.0</td>\n",
       "      <td>2017</td>\n",
       "      <td>July</td>\n",
       "      <td>29</td>\n",
       "      <td>16</td>\n",
       "      <td>1</td>\n",
       "      <td>0</td>\n",
       "      <td>1.0</td>\n",
       "      <td>...</td>\n",
       "      <td>1</td>\n",
       "      <td>6</td>\n",
       "      <td>70</td>\n",
       "      <td>A</td>\n",
       "      <td>0</td>\n",
       "      <td>0</td>\n",
       "      <td>Transient</td>\n",
       "      <td>0</td>\n",
       "      <td>1</td>\n",
       "      <td>1</td>\n",
       "    </tr>\n",
       "    <tr>\n",
       "      <th>18106</th>\n",
       "      <td>58144</td>\n",
       "      <td>0</td>\n",
       "      <td>4.0</td>\n",
       "      <td>2017</td>\n",
       "      <td>July</td>\n",
       "      <td>30</td>\n",
       "      <td>23</td>\n",
       "      <td>2</td>\n",
       "      <td>1</td>\n",
       "      <td>1.0</td>\n",
       "      <td>...</td>\n",
       "      <td>1</td>\n",
       "      <td>6</td>\n",
       "      <td>71</td>\n",
       "      <td>A</td>\n",
       "      <td>1</td>\n",
       "      <td>0</td>\n",
       "      <td>Transient</td>\n",
       "      <td>0</td>\n",
       "      <td>2</td>\n",
       "      <td>3</td>\n",
       "    </tr>\n",
       "    <tr>\n",
       "      <th>18107</th>\n",
       "      <td>58145</td>\n",
       "      <td>0</td>\n",
       "      <td>0.0</td>\n",
       "      <td>2017</td>\n",
       "      <td>August</td>\n",
       "      <td>34</td>\n",
       "      <td>22</td>\n",
       "      <td>0</td>\n",
       "      <td>1</td>\n",
       "      <td>1.0</td>\n",
       "      <td>...</td>\n",
       "      <td>1</td>\n",
       "      <td>6</td>\n",
       "      <td>72</td>\n",
       "      <td>A</td>\n",
       "      <td>0</td>\n",
       "      <td>0</td>\n",
       "      <td>Transient</td>\n",
       "      <td>0</td>\n",
       "      <td>2</td>\n",
       "      <td>1</td>\n",
       "    </tr>\n",
       "    <tr>\n",
       "      <th>18121</th>\n",
       "      <td>59614</td>\n",
       "      <td>1</td>\n",
       "      <td>13.0</td>\n",
       "      <td>2017</td>\n",
       "      <td>January</td>\n",
       "      <td>4</td>\n",
       "      <td>25</td>\n",
       "      <td>0</td>\n",
       "      <td>2</td>\n",
       "      <td>1.0</td>\n",
       "      <td>...</td>\n",
       "      <td>1</td>\n",
       "      <td>4</td>\n",
       "      <td>26</td>\n",
       "      <td>A</td>\n",
       "      <td>0</td>\n",
       "      <td>0</td>\n",
       "      <td>Transient</td>\n",
       "      <td>0</td>\n",
       "      <td>0</td>\n",
       "      <td>2</td>\n",
       "    </tr>\n",
       "    <tr>\n",
       "      <th>18122</th>\n",
       "      <td>59615</td>\n",
       "      <td>0</td>\n",
       "      <td>4.0</td>\n",
       "      <td>2017</td>\n",
       "      <td>January</td>\n",
       "      <td>5</td>\n",
       "      <td>31</td>\n",
       "      <td>0</td>\n",
       "      <td>2</td>\n",
       "      <td>1.0</td>\n",
       "      <td>...</td>\n",
       "      <td>1</td>\n",
       "      <td>4</td>\n",
       "      <td>26</td>\n",
       "      <td>A</td>\n",
       "      <td>0</td>\n",
       "      <td>0</td>\n",
       "      <td>Transient</td>\n",
       "      <td>1</td>\n",
       "      <td>0</td>\n",
       "      <td>2</td>\n",
       "    </tr>\n",
       "    <tr>\n",
       "      <th>18123</th>\n",
       "      <td>59616</td>\n",
       "      <td>0</td>\n",
       "      <td>8.0</td>\n",
       "      <td>2017</td>\n",
       "      <td>June</td>\n",
       "      <td>22</td>\n",
       "      <td>1</td>\n",
       "      <td>0</td>\n",
       "      <td>1</td>\n",
       "      <td>1.0</td>\n",
       "      <td>...</td>\n",
       "      <td>1</td>\n",
       "      <td>4</td>\n",
       "      <td>27</td>\n",
       "      <td>A</td>\n",
       "      <td>0</td>\n",
       "      <td>0</td>\n",
       "      <td>Transient</td>\n",
       "      <td>1</td>\n",
       "      <td>0</td>\n",
       "      <td>1</td>\n",
       "    </tr>\n",
       "    <tr>\n",
       "      <th>18124</th>\n",
       "      <td>59617</td>\n",
       "      <td>0</td>\n",
       "      <td>5.0</td>\n",
       "      <td>2017</td>\n",
       "      <td>June</td>\n",
       "      <td>26</td>\n",
       "      <td>28</td>\n",
       "      <td>0</td>\n",
       "      <td>1</td>\n",
       "      <td>1.0</td>\n",
       "      <td>...</td>\n",
       "      <td>1</td>\n",
       "      <td>4</td>\n",
       "      <td>28</td>\n",
       "      <td>A</td>\n",
       "      <td>0</td>\n",
       "      <td>0</td>\n",
       "      <td>Transient</td>\n",
       "      <td>0</td>\n",
       "      <td>0</td>\n",
       "      <td>1</td>\n",
       "    </tr>\n",
       "    <tr>\n",
       "      <th>18125</th>\n",
       "      <td>59618</td>\n",
       "      <td>0</td>\n",
       "      <td>6.0</td>\n",
       "      <td>2017</td>\n",
       "      <td>July</td>\n",
       "      <td>28</td>\n",
       "      <td>13</td>\n",
       "      <td>0</td>\n",
       "      <td>1</td>\n",
       "      <td>1.0</td>\n",
       "      <td>...</td>\n",
       "      <td>1</td>\n",
       "      <td>4</td>\n",
       "      <td>29</td>\n",
       "      <td>A</td>\n",
       "      <td>0</td>\n",
       "      <td>0</td>\n",
       "      <td>Transient</td>\n",
       "      <td>0</td>\n",
       "      <td>0</td>\n",
       "      <td>1</td>\n",
       "    </tr>\n",
       "    <tr>\n",
       "      <th>18126</th>\n",
       "      <td>59619</td>\n",
       "      <td>0</td>\n",
       "      <td>6.0</td>\n",
       "      <td>2017</td>\n",
       "      <td>August</td>\n",
       "      <td>34</td>\n",
       "      <td>23</td>\n",
       "      <td>0</td>\n",
       "      <td>1</td>\n",
       "      <td>1.0</td>\n",
       "      <td>...</td>\n",
       "      <td>1</td>\n",
       "      <td>4</td>\n",
       "      <td>30</td>\n",
       "      <td>A</td>\n",
       "      <td>0</td>\n",
       "      <td>0</td>\n",
       "      <td>Transient</td>\n",
       "      <td>0</td>\n",
       "      <td>1</td>\n",
       "      <td>1</td>\n",
       "    </tr>\n",
       "  </tbody>\n",
       "</table>\n",
       "<p>26 rows × 25 columns</p>\n",
       "</div>"
      ],
      "text/plain": [
       "          id  is_canceled  lead_time  arrival_date_year arrival_date_month  \\\n",
       "2231    8697            0      134.0               2017              April   \n",
       "2232    8698            1      117.0               2017              April   \n",
       "2233    8699            0      125.0               2017              April   \n",
       "2234    8700            1      132.0               2017              April   \n",
       "2512   16061            0        2.0               2017           February   \n",
       "18093  58131            0        0.0               2017            January   \n",
       "18094  58132            0        5.0               2017            January   \n",
       "18095  58133            0        0.0               2017            January   \n",
       "18096  58134            0        1.0               2017            January   \n",
       "18097  58135            0        4.0               2017                May   \n",
       "18098  58136            0        5.0               2017                May   \n",
       "18099  58137            0        6.0               2017                May   \n",
       "18100  58138            0       20.0               2017               June   \n",
       "18101  58139            0        4.0               2017               June   \n",
       "18102  58140            0        3.0               2017               June   \n",
       "18103  58141            0        5.0               2017               July   \n",
       "18104  58142            0        5.0               2017               July   \n",
       "18105  58143            0        4.0               2017               July   \n",
       "18106  58144            0        4.0               2017               July   \n",
       "18107  58145            0        0.0               2017             August   \n",
       "18121  59614            1       13.0               2017            January   \n",
       "18122  59615            0        4.0               2017            January   \n",
       "18123  59616            0        8.0               2017               June   \n",
       "18124  59617            0        5.0               2017               June   \n",
       "18125  59618            0        6.0               2017               July   \n",
       "18126  59619            0        6.0               2017             August   \n",
       "\n",
       "       arrival_date_week_number  arrival_date_day_of_month  \\\n",
       "2231                         15                         13   \n",
       "2232                         15                         13   \n",
       "2233                         16                         21   \n",
       "2234                         17                         28   \n",
       "2512                          5                          1   \n",
       "18093                         1                          2   \n",
       "18094                         2                         10   \n",
       "18095                         4                         24   \n",
       "18096                         5                         31   \n",
       "18097                        18                          2   \n",
       "18098                        19                          8   \n",
       "18099                        21                         22   \n",
       "18100                        23                          6   \n",
       "18101                        25                         20   \n",
       "18102                        26                         26   \n",
       "18103                        27                          4   \n",
       "18104                        28                         11   \n",
       "18105                        29                         16   \n",
       "18106                        30                         23   \n",
       "18107                        34                         22   \n",
       "18121                         4                         25   \n",
       "18122                         5                         31   \n",
       "18123                        22                          1   \n",
       "18124                        26                         28   \n",
       "18125                        28                         13   \n",
       "18126                        34                         23   \n",
       "\n",
       "       stays_in_weekend_nights  stays_in_week_nights  adults  ...  \\\n",
       "2231                         0                     3     1.0  ...   \n",
       "2232                         0                     3     1.0  ...   \n",
       "2233                         2                     2     1.0  ...   \n",
       "2234                         1                     2     1.0  ...   \n",
       "2512                         0                     1     1.0  ...   \n",
       "18093                        1                     2     1.0  ...   \n",
       "18094                        0                     3     1.0  ...   \n",
       "18095                        0                     3     1.0  ...   \n",
       "18096                        0                     3     1.0  ...   \n",
       "18097                        0                     2     1.0  ...   \n",
       "18098                        1                     2     1.0  ...   \n",
       "18099                        1                     1     1.0  ...   \n",
       "18100                        0                     3     1.0  ...   \n",
       "18101                        0                     3     1.0  ...   \n",
       "18102                        1                     3     1.0  ...   \n",
       "18103                        0                     3     1.0  ...   \n",
       "18104                        0                     2     1.0  ...   \n",
       "18105                        1                     0     1.0  ...   \n",
       "18106                        2                     1     1.0  ...   \n",
       "18107                        0                     1     1.0  ...   \n",
       "18121                        0                     2     1.0  ...   \n",
       "18122                        0                     2     1.0  ...   \n",
       "18123                        0                     1     1.0  ...   \n",
       "18124                        0                     1     1.0  ...   \n",
       "18125                        0                     1     1.0  ...   \n",
       "18126                        0                     1     1.0  ...   \n",
       "\n",
       "       is_repeated_guest  previous_cancellations  \\\n",
       "2231                   1                       4   \n",
       "2232                   1                       4   \n",
       "2233                   1                       4   \n",
       "2234                   1                       4   \n",
       "2512                   1                       5   \n",
       "18093                  1                       6   \n",
       "18094                  1                       6   \n",
       "18095                  1                       6   \n",
       "18096                  1                       6   \n",
       "18097                  1                       6   \n",
       "18098                  1                       6   \n",
       "18099                  1                       6   \n",
       "18100                  1                       6   \n",
       "18101                  1                       6   \n",
       "18102                  1                       6   \n",
       "18103                  1                       6   \n",
       "18104                  1                       6   \n",
       "18105                  1                       6   \n",
       "18106                  1                       6   \n",
       "18107                  1                       6   \n",
       "18121                  1                       4   \n",
       "18122                  1                       4   \n",
       "18123                  1                       4   \n",
       "18124                  1                       4   \n",
       "18125                  1                       4   \n",
       "18126                  1                       4   \n",
       "\n",
       "      previous_bookings_not_canceled reserved_room_type booking_changes  \\\n",
       "2231                              11                  A               0   \n",
       "2232                              11                  A               0   \n",
       "2233                              12                  A               2   \n",
       "2234                              13                  A               0   \n",
       "2512                               4                  A               1   \n",
       "18093                             58                  A               0   \n",
       "18094                             59                  A               0   \n",
       "18095                             60                  A               1   \n",
       "18096                             61                  A               0   \n",
       "18097                             62                  A               1   \n",
       "18098                             63                  A               0   \n",
       "18099                             64                  A               1   \n",
       "18100                             65                  A               1   \n",
       "18101                             66                  A               0   \n",
       "18102                             67                  A               1   \n",
       "18103                             68                  A               1   \n",
       "18104                             69                  A               0   \n",
       "18105                             70                  A               0   \n",
       "18106                             71                  A               1   \n",
       "18107                             72                  A               0   \n",
       "18121                             26                  A               0   \n",
       "18122                             26                  A               0   \n",
       "18123                             27                  A               0   \n",
       "18124                             28                  A               0   \n",
       "18125                             29                  A               0   \n",
       "18126                             30                  A               0   \n",
       "\n",
       "       days_in_waiting_list  customer_type  required_car_parking_spaces  \\\n",
       "2231                      0      Transient                            0   \n",
       "2232                      0      Transient                            0   \n",
       "2233                      0      Transient                            0   \n",
       "2234                      0      Transient                            0   \n",
       "2512                      0      Transient                            0   \n",
       "18093                     0      Transient                            0   \n",
       "18094                     0      Transient                            0   \n",
       "18095                     0      Transient                            0   \n",
       "18096                     0      Transient                            0   \n",
       "18097                     0      Transient                            0   \n",
       "18098                     0      Transient                            0   \n",
       "18099                     0      Transient                            0   \n",
       "18100                     0      Transient                            0   \n",
       "18101                     0      Transient                            0   \n",
       "18102                     0      Transient                            0   \n",
       "18103                     0      Transient                            0   \n",
       "18104                     0      Transient                            0   \n",
       "18105                     0      Transient                            0   \n",
       "18106                     0      Transient                            0   \n",
       "18107                     0      Transient                            0   \n",
       "18121                     0      Transient                            0   \n",
       "18122                     0      Transient                            1   \n",
       "18123                     0      Transient                            1   \n",
       "18124                     0      Transient                            0   \n",
       "18125                     0      Transient                            0   \n",
       "18126                     0      Transient                            0   \n",
       "\n",
       "      total_of_special_requests  total_nights  \n",
       "2231                          5             3  \n",
       "2232                          4             3  \n",
       "2233                          4             4  \n",
       "2234                          4             3  \n",
       "2512                          0             1  \n",
       "18093                         0             3  \n",
       "18094                         2             3  \n",
       "18095                         1             3  \n",
       "18096                         1             3  \n",
       "18097                         1             2  \n",
       "18098                         1             3  \n",
       "18099                         1             2  \n",
       "18100                         1             3  \n",
       "18101                         1             3  \n",
       "18102                         1             4  \n",
       "18103                         1             3  \n",
       "18104                         2             2  \n",
       "18105                         1             1  \n",
       "18106                         2             3  \n",
       "18107                         2             1  \n",
       "18121                         0             2  \n",
       "18122                         0             2  \n",
       "18123                         0             1  \n",
       "18124                         0             1  \n",
       "18125                         0             1  \n",
       "18126                         1             1  \n",
       "\n",
       "[26 rows x 25 columns]"
      ]
     },
     "execution_count": 19,
     "metadata": {},
     "output_type": "execute_result"
    }
   ],
   "source": [
    "data_test[data_test['previous_cancellations'] > 3]"
   ]
  },
  {
   "cell_type": "code",
   "execution_count": 20,
   "metadata": {
    "scrolled": true
   },
   "outputs": [
    {
     "data": {
      "text/plain": [
       "<AxesSubplot:>"
      ]
     },
     "execution_count": 20,
     "metadata": {},
     "output_type": "execute_result"
    },
    {
     "data": {
      "image/png": "[encoded data removed]",
      "text/plain": [
       "<Figure size 432x288 with 1 Axes>"
      ]
     },
     "metadata": {
      "needs_background": "light"
     },
     "output_type": "display_data"
    }
   ],
   "source": [
    "(data_train['days_in_waiting_list'][data_train['days_in_waiting_list'] > 10]).hist()"
   ]
  },
  {
   "cell_type": "code",
   "execution_count": 21,
   "metadata": {},
   "outputs": [
    {
     "data": {
      "text/plain": [
       "0    41077\n",
       "1    23996\n",
       "Name: is_canceled, dtype: int64"
      ]
     },
     "execution_count": 21,
     "metadata": {},
     "output_type": "execute_result"
    }
   ],
   "source": [
    "data_train['is_canceled'].value_counts()"
   ]
  },
  {
   "cell_type": "markdown",
   "metadata": {},
   "source": [
    "Заранее посмотрим на таргет- наблюдаем дисбаланс, отмененных больше в 2 раза"
   ]
  },
  {
   "cell_type": "code",
   "execution_count": 22,
   "metadata": {
    "scrolled": true
   },
   "outputs": [
    {
     "data": {
      "text/plain": [
       "PRT    28795\n",
       "FRA     5959\n",
       "GBR     5094\n",
       "ESP     4888\n",
       "DEU     3879\n",
       "       ...  \n",
       "RWA        1\n",
       "STP        1\n",
       "DMA        1\n",
       "ABW        1\n",
       "KNA        1\n",
       "Name: country, Length: 155, dtype: int64"
      ]
     },
     "execution_count": 22,
     "metadata": {},
     "output_type": "execute_result"
    }
   ],
   "source": [
    "data_train.country.value_counts()"
   ]
  },
  {
   "cell_type": "markdown",
   "metadata": {},
   "source": [
    "Есть довольно много стран, которые встречаются по 1 разу. Для удобства дальнейшей категоризации для ML думаю лучше объединить их в одну категорию (перебором количества стран вывел оптимально для себя число в 30), выберем эти данные"
   ]
  },
  {
   "cell_type": "code",
   "execution_count": 23,
   "metadata": {},
   "outputs": [],
   "source": [
    "comb = pd.DataFrame(data_train.country.value_counts()).query('country <= 30').index \n",
    "\n",
    "comb2 = pd.DataFrame(data_test.country.value_counts()).query('country <= 30').index"
   ]
  },
  {
   "cell_type": "markdown",
   "metadata": {},
   "source": [
    "Напишем функцию для объединиения таких стран в категорию Other"
   ]
  },
  {
   "cell_type": "code",
   "execution_count": 24,
   "metadata": {},
   "outputs": [],
   "source": [
    "def change(row): \n",
    "    if row in comb or row in comb2:\n",
    "        return 'OTHER'\n",
    "    return row"
   ]
  },
  {
   "cell_type": "code",
   "execution_count": 25,
   "metadata": {},
   "outputs": [],
   "source": [
    "data_train['country'] = data_train['country'].apply(change)\n",
    "data_test['country'] = data_test['country'].apply(change)"
   ]
  },
  {
   "cell_type": "code",
   "execution_count": 26,
   "metadata": {
    "scrolled": true
   },
   "outputs": [
    {
     "data": {
      "text/plain": [
       "PRT      28795\n",
       "FRA       5959\n",
       "GBR       5094\n",
       "ESP       4888\n",
       "DEU       3879\n",
       "ITA       2319\n",
       "IRL       1442\n",
       "OTHER     1343\n",
       "BEL       1231\n",
       "NLD       1159\n",
       "BRA       1084\n",
       "USA       1005\n",
       "CHE        868\n",
       "AUT        715\n",
       "SWE        542\n",
       "POL        529\n",
       "CHN        525\n",
       "CN         488\n",
       "ISR        375\n",
       "RUS        294\n",
       "NOR        261\n",
       "ROU        247\n",
       "FIN        239\n",
       "DNK        199\n",
       "TUR        168\n",
       "AUS        168\n",
       "AGO        140\n",
       "LUX        134\n",
       "MAR        123\n",
       "HUN        121\n",
       "JPN        117\n",
       "CZE        112\n",
       "ARG        106\n",
       "IND         87\n",
       "GRC         81\n",
       "KOR         67\n",
       "HRV         54\n",
       "MEX         43\n",
       "ZAF         36\n",
       "COL         36\n",
       "Name: country, dtype: int64"
      ]
     },
     "execution_count": 26,
     "metadata": {},
     "output_type": "execute_result"
    }
   ],
   "source": [
    "data_train['country'].value_counts()"
   ]
  },
  {
   "cell_type": "markdown",
   "metadata": {},
   "source": [
    "Столбцов с данными стало намного меньше- при категоризации перед обучением модели не будет огромного количества столбцов"
   ]
  },
  {
   "cell_type": "markdown",
   "metadata": {},
   "source": [
    "Проверим как коррелируют между собой признаки:"
   ]
  },
  {
   "cell_type": "code",
   "execution_count": 27,
   "metadata": {
    "scrolled": false
   },
   "outputs": [
    {
     "data": {
      "image/png": "[encoded data removed]",
      "text/plain": [
       "<Figure size 936x936 with 2 Axes>"
      ]
     },
     "metadata": {
      "needs_background": "light"
     },
     "output_type": "display_data"
    }
   ],
   "source": [
    "plt.rcParams['figure.figsize'] = (13, 13)\n",
    "sns.heatmap(data_train.corr().round(2), annot=True);"
   ]
  },
  {
   "cell_type": "markdown",
   "metadata": {},
   "source": [
    "Есть несколько параметров: stays_in_weekend_nights и stays_in_weekend_nights, которые достаточно сильно коррелируют с total_nights, но с другой стороны эти параметры вполне могут быть связаны друг с другом. "
   ]
  },
  {
   "cell_type": "code",
   "execution_count": 28,
   "metadata": {},
   "outputs": [
    {
     "data": {
      "text/plain": [
       "0"
      ]
     },
     "execution_count": 28,
     "metadata": {},
     "output_type": "execute_result"
    }
   ],
   "source": [
    "data_train.duplicated().sum() #полных дубликатов нет"
   ]
  },
  {
   "cell_type": "markdown",
   "metadata": {},
   "source": [
    "### Шаг 3. Формулировка ML-задачи на основе бизнес-задачи"
   ]
  },
  {
   "cell_type": "code",
   "execution_count": 29,
   "metadata": {
    "scrolled": false
   },
   "outputs": [
    {
     "data": {
      "text/html": [
       "<div>\n",
       "<style scoped>\n",
       "    .dataframe tbody tr th:only-of-type {\n",
       "        vertical-align: middle;\n",
       "    }\n",
       "\n",
       "    .dataframe tbody tr th {\n",
       "        vertical-align: top;\n",
       "    }\n",
       "\n",
       "    .dataframe thead th {\n",
       "        text-align: right;\n",
       "    }\n",
       "</style>\n",
       "<table border=\"1\" class=\"dataframe\">\n",
       "  <thead>\n",
       "    <tr style=\"text-align: right;\">\n",
       "      <th></th>\n",
       "      <th>id</th>\n",
       "      <th>is_canceled</th>\n",
       "      <th>lead_time</th>\n",
       "      <th>arrival_date_year</th>\n",
       "      <th>arrival_date_month</th>\n",
       "      <th>arrival_date_week_number</th>\n",
       "      <th>arrival_date_day_of_month</th>\n",
       "      <th>stays_in_weekend_nights</th>\n",
       "      <th>stays_in_week_nights</th>\n",
       "      <th>adults</th>\n",
       "      <th>...</th>\n",
       "      <th>is_repeated_guest</th>\n",
       "      <th>previous_cancellations</th>\n",
       "      <th>previous_bookings_not_canceled</th>\n",
       "      <th>reserved_room_type</th>\n",
       "      <th>booking_changes</th>\n",
       "      <th>days_in_waiting_list</th>\n",
       "      <th>customer_type</th>\n",
       "      <th>required_car_parking_spaces</th>\n",
       "      <th>total_of_special_requests</th>\n",
       "      <th>total_nights</th>\n",
       "    </tr>\n",
       "  </thead>\n",
       "  <tbody>\n",
       "    <tr>\n",
       "      <th>0</th>\n",
       "      <td>0</td>\n",
       "      <td>0</td>\n",
       "      <td>7.0</td>\n",
       "      <td>2015</td>\n",
       "      <td>July</td>\n",
       "      <td>27</td>\n",
       "      <td>1</td>\n",
       "      <td>0</td>\n",
       "      <td>1</td>\n",
       "      <td>1.0</td>\n",
       "      <td>...</td>\n",
       "      <td>0</td>\n",
       "      <td>0</td>\n",
       "      <td>0</td>\n",
       "      <td>A</td>\n",
       "      <td>0</td>\n",
       "      <td>0</td>\n",
       "      <td>Transient</td>\n",
       "      <td>0</td>\n",
       "      <td>0</td>\n",
       "      <td>1</td>\n",
       "    </tr>\n",
       "    <tr>\n",
       "      <th>1</th>\n",
       "      <td>1</td>\n",
       "      <td>0</td>\n",
       "      <td>14.0</td>\n",
       "      <td>2015</td>\n",
       "      <td>July</td>\n",
       "      <td>27</td>\n",
       "      <td>1</td>\n",
       "      <td>0</td>\n",
       "      <td>2</td>\n",
       "      <td>2.0</td>\n",
       "      <td>...</td>\n",
       "      <td>0</td>\n",
       "      <td>0</td>\n",
       "      <td>0</td>\n",
       "      <td>A</td>\n",
       "      <td>0</td>\n",
       "      <td>0</td>\n",
       "      <td>Transient</td>\n",
       "      <td>0</td>\n",
       "      <td>1</td>\n",
       "      <td>2</td>\n",
       "    </tr>\n",
       "    <tr>\n",
       "      <th>2</th>\n",
       "      <td>2</td>\n",
       "      <td>0</td>\n",
       "      <td>0.0</td>\n",
       "      <td>2015</td>\n",
       "      <td>July</td>\n",
       "      <td>27</td>\n",
       "      <td>1</td>\n",
       "      <td>0</td>\n",
       "      <td>2</td>\n",
       "      <td>2.0</td>\n",
       "      <td>...</td>\n",
       "      <td>0</td>\n",
       "      <td>0</td>\n",
       "      <td>0</td>\n",
       "      <td>C</td>\n",
       "      <td>0</td>\n",
       "      <td>0</td>\n",
       "      <td>Transient</td>\n",
       "      <td>0</td>\n",
       "      <td>0</td>\n",
       "      <td>2</td>\n",
       "    </tr>\n",
       "    <tr>\n",
       "      <th>3</th>\n",
       "      <td>3</td>\n",
       "      <td>0</td>\n",
       "      <td>9.0</td>\n",
       "      <td>2015</td>\n",
       "      <td>July</td>\n",
       "      <td>27</td>\n",
       "      <td>1</td>\n",
       "      <td>0</td>\n",
       "      <td>2</td>\n",
       "      <td>2.0</td>\n",
       "      <td>...</td>\n",
       "      <td>0</td>\n",
       "      <td>0</td>\n",
       "      <td>0</td>\n",
       "      <td>C</td>\n",
       "      <td>0</td>\n",
       "      <td>0</td>\n",
       "      <td>Transient</td>\n",
       "      <td>0</td>\n",
       "      <td>1</td>\n",
       "      <td>2</td>\n",
       "    </tr>\n",
       "    <tr>\n",
       "      <th>4</th>\n",
       "      <td>4</td>\n",
       "      <td>1</td>\n",
       "      <td>85.0</td>\n",
       "      <td>2015</td>\n",
       "      <td>July</td>\n",
       "      <td>27</td>\n",
       "      <td>1</td>\n",
       "      <td>0</td>\n",
       "      <td>3</td>\n",
       "      <td>2.0</td>\n",
       "      <td>...</td>\n",
       "      <td>0</td>\n",
       "      <td>0</td>\n",
       "      <td>0</td>\n",
       "      <td>A</td>\n",
       "      <td>0</td>\n",
       "      <td>0</td>\n",
       "      <td>Transient</td>\n",
       "      <td>0</td>\n",
       "      <td>1</td>\n",
       "      <td>3</td>\n",
       "    </tr>\n",
       "  </tbody>\n",
       "</table>\n",
       "<p>5 rows × 25 columns</p>\n",
       "</div>"
      ],
      "text/plain": [
       "   id  is_canceled  lead_time  arrival_date_year arrival_date_month  \\\n",
       "0   0            0        7.0               2015               July   \n",
       "1   1            0       14.0               2015               July   \n",
       "2   2            0        0.0               2015               July   \n",
       "3   3            0        9.0               2015               July   \n",
       "4   4            1       85.0               2015               July   \n",
       "\n",
       "   arrival_date_week_number  arrival_date_day_of_month  \\\n",
       "0                        27                          1   \n",
       "1                        27                          1   \n",
       "2                        27                          1   \n",
       "3                        27                          1   \n",
       "4                        27                          1   \n",
       "\n",
       "   stays_in_weekend_nights  stays_in_week_nights  adults  ...  \\\n",
       "0                        0                     1     1.0  ...   \n",
       "1                        0                     2     2.0  ...   \n",
       "2                        0                     2     2.0  ...   \n",
       "3                        0                     2     2.0  ...   \n",
       "4                        0                     3     2.0  ...   \n",
       "\n",
       "   is_repeated_guest  previous_cancellations previous_bookings_not_canceled  \\\n",
       "0                  0                       0                              0   \n",
       "1                  0                       0                              0   \n",
       "2                  0                       0                              0   \n",
       "3                  0                       0                              0   \n",
       "4                  0                       0                              0   \n",
       "\n",
       "  reserved_room_type booking_changes  days_in_waiting_list  customer_type  \\\n",
       "0                  A               0                     0      Transient   \n",
       "1                  A               0                     0      Transient   \n",
       "2                  C               0                     0      Transient   \n",
       "3                  C               0                     0      Transient   \n",
       "4                  A               0                     0      Transient   \n",
       "\n",
       "   required_car_parking_spaces total_of_special_requests  total_nights  \n",
       "0                            0                         0             1  \n",
       "1                            0                         1             2  \n",
       "2                            0                         0             2  \n",
       "3                            0                         1             2  \n",
       "4                            0                         1             3  \n",
       "\n",
       "[5 rows x 25 columns]"
      ]
     },
     "execution_count": 29,
     "metadata": {},
     "output_type": "execute_result"
    }
   ],
   "source": [
    "data_train.head()"
   ]
  },
  {
   "cell_type": "code",
   "execution_count": 30,
   "metadata": {},
   "outputs": [],
   "source": [
    "# пропишем константы\n",
    "\n",
    "CATEGORY = {'A': 1000, 'B': 800, 'C': 600, 'D': 550, 'E': 500, 'F':450, 'G': 350}\n",
    "ONE_TIME_A = 400\n",
    "ONE_TIME_B_C = 350\n",
    "ONE_TIME_OTHER = 150\n",
    "COEF_SUMMER = 1.4\n",
    "COEF_SPRING_AUTMN = 1.2\n"
   ]
  },
  {
   "cell_type": "markdown",
   "metadata": {},
   "source": [
    "Создадим для удобства подсчета новый датафрейм с данными "
   ]
  },
  {
   "cell_type": "code",
   "execution_count": 31,
   "metadata": {},
   "outputs": [
    {
     "data": {
      "text/html": [
       "<div>\n",
       "<style scoped>\n",
       "    .dataframe tbody tr th:only-of-type {\n",
       "        vertical-align: middle;\n",
       "    }\n",
       "\n",
       "    .dataframe tbody tr th {\n",
       "        vertical-align: top;\n",
       "    }\n",
       "\n",
       "    .dataframe thead th {\n",
       "        text-align: right;\n",
       "    }\n",
       "</style>\n",
       "<table border=\"1\" class=\"dataframe\">\n",
       "  <thead>\n",
       "    <tr style=\"text-align: right;\">\n",
       "      <th></th>\n",
       "      <th>is_canceled</th>\n",
       "      <th>arrival_date_month</th>\n",
       "      <th>reserved_room_type</th>\n",
       "      <th>total_nights</th>\n",
       "    </tr>\n",
       "  </thead>\n",
       "  <tbody>\n",
       "    <tr>\n",
       "      <th>0</th>\n",
       "      <td>0</td>\n",
       "      <td>July</td>\n",
       "      <td>A</td>\n",
       "      <td>1</td>\n",
       "    </tr>\n",
       "    <tr>\n",
       "      <th>1</th>\n",
       "      <td>0</td>\n",
       "      <td>July</td>\n",
       "      <td>A</td>\n",
       "      <td>2</td>\n",
       "    </tr>\n",
       "    <tr>\n",
       "      <th>2</th>\n",
       "      <td>0</td>\n",
       "      <td>July</td>\n",
       "      <td>C</td>\n",
       "      <td>2</td>\n",
       "    </tr>\n",
       "    <tr>\n",
       "      <th>3</th>\n",
       "      <td>0</td>\n",
       "      <td>July</td>\n",
       "      <td>C</td>\n",
       "      <td>2</td>\n",
       "    </tr>\n",
       "    <tr>\n",
       "      <th>4</th>\n",
       "      <td>1</td>\n",
       "      <td>July</td>\n",
       "      <td>A</td>\n",
       "      <td>3</td>\n",
       "    </tr>\n",
       "  </tbody>\n",
       "</table>\n",
       "</div>"
      ],
      "text/plain": [
       "   is_canceled arrival_date_month reserved_room_type  total_nights\n",
       "0            0               July                  A             1\n",
       "1            0               July                  A             2\n",
       "2            0               July                  C             2\n",
       "3            0               July                  C             2\n",
       "4            1               July                  A             3"
      ]
     },
     "execution_count": 31,
     "metadata": {},
     "output_type": "execute_result"
    }
   ],
   "source": [
    "data_for_income = data_train[['is_canceled', 'arrival_date_month', 'reserved_room_type', 'total_nights']]\n",
    "data_for_income.head()\n"
   ]
  },
  {
   "cell_type": "markdown",
   "metadata": {},
   "source": [
    "Напишем промежуточные функции по определению коэффициентов, стоимости номера по категории, стоимости уборки"
   ]
  },
  {
   "cell_type": "code",
   "execution_count": 32,
   "metadata": {},
   "outputs": [],
   "source": [
    "# Функция определения сезонного коэффициента\n",
    "\n",
    "def coef(row):\n",
    "    \n",
    "    season = row['arrival_date_month']\n",
    "\n",
    "    if season == 'December' or season == 'February' or season == 'January':\n",
    "        return 1\n",
    "    elif season == 'June' or season == 'July' or season == 'August':\n",
    "        return COEF_SUMMER\n",
    "    else:\n",
    "        return COEF_SPRING_AUTMN\n",
    "\n"
   ]
  },
  {
   "cell_type": "code",
   "execution_count": 33,
   "metadata": {},
   "outputs": [],
   "source": [
    "# определение цены комнаты\n",
    "\n",
    "def room_price(row):\n",
    "    \n",
    "    return CATEGORY[row['reserved_room_type']]"
   ]
  },
  {
   "cell_type": "code",
   "execution_count": 34,
   "metadata": {},
   "outputs": [],
   "source": [
    "# определение стоимости клининга\n",
    "\n",
    "def cleaning(row):\n",
    "    \n",
    "    category = row['reserved_room_type']\n",
    "    \n",
    "    if category == 'A': \n",
    "        return ONE_TIME_A\n",
    "    elif category == 'B' or category == 'C':\n",
    "        return ONE_TIME_B_C\n",
    "    else:\n",
    "        return ONE_TIME_OTHER"
   ]
  },
  {
   "cell_type": "markdown",
   "metadata": {},
   "source": [
    "И добавим в него новые столбцы, применяя написанные функции"
   ]
  },
  {
   "cell_type": "code",
   "execution_count": 35,
   "metadata": {
    "scrolled": false
   },
   "outputs": [
    {
     "data": {
      "text/html": [
       "<div>\n",
       "<style scoped>\n",
       "    .dataframe tbody tr th:only-of-type {\n",
       "        vertical-align: middle;\n",
       "    }\n",
       "\n",
       "    .dataframe tbody tr th {\n",
       "        vertical-align: top;\n",
       "    }\n",
       "\n",
       "    .dataframe thead th {\n",
       "        text-align: right;\n",
       "    }\n",
       "</style>\n",
       "<table border=\"1\" class=\"dataframe\">\n",
       "  <thead>\n",
       "    <tr style=\"text-align: right;\">\n",
       "      <th></th>\n",
       "      <th>is_canceled</th>\n",
       "      <th>arrival_date_month</th>\n",
       "      <th>reserved_room_type</th>\n",
       "      <th>total_nights</th>\n",
       "      <th>season_coef</th>\n",
       "      <th>room_price</th>\n",
       "      <th>cleaning_price</th>\n",
       "    </tr>\n",
       "  </thead>\n",
       "  <tbody>\n",
       "    <tr>\n",
       "      <th>6551</th>\n",
       "      <td>0</td>\n",
       "      <td>October</td>\n",
       "      <td>A</td>\n",
       "      <td>1</td>\n",
       "      <td>1.2</td>\n",
       "      <td>1000</td>\n",
       "      <td>400</td>\n",
       "    </tr>\n",
       "    <tr>\n",
       "      <th>16233</th>\n",
       "      <td>0</td>\n",
       "      <td>December</td>\n",
       "      <td>A</td>\n",
       "      <td>3</td>\n",
       "      <td>1.0</td>\n",
       "      <td>1000</td>\n",
       "      <td>400</td>\n",
       "    </tr>\n",
       "    <tr>\n",
       "      <th>32818</th>\n",
       "      <td>1</td>\n",
       "      <td>September</td>\n",
       "      <td>A</td>\n",
       "      <td>2</td>\n",
       "      <td>1.2</td>\n",
       "      <td>1000</td>\n",
       "      <td>400</td>\n",
       "    </tr>\n",
       "    <tr>\n",
       "      <th>1554</th>\n",
       "      <td>0</td>\n",
       "      <td>October</td>\n",
       "      <td>E</td>\n",
       "      <td>7</td>\n",
       "      <td>1.2</td>\n",
       "      <td>500</td>\n",
       "      <td>150</td>\n",
       "    </tr>\n",
       "    <tr>\n",
       "      <th>8579</th>\n",
       "      <td>0</td>\n",
       "      <td>May</td>\n",
       "      <td>A</td>\n",
       "      <td>1</td>\n",
       "      <td>1.2</td>\n",
       "      <td>1000</td>\n",
       "      <td>400</td>\n",
       "    </tr>\n",
       "  </tbody>\n",
       "</table>\n",
       "</div>"
      ],
      "text/plain": [
       "       is_canceled arrival_date_month reserved_room_type  total_nights  \\\n",
       "6551             0            October                  A             1   \n",
       "16233            0           December                  A             3   \n",
       "32818            1          September                  A             2   \n",
       "1554             0            October                  E             7   \n",
       "8579             0                May                  A             1   \n",
       "\n",
       "       season_coef  room_price  cleaning_price  \n",
       "6551           1.2        1000             400  \n",
       "16233          1.0        1000             400  \n",
       "32818          1.2        1000             400  \n",
       "1554           1.2         500             150  \n",
       "8579           1.2        1000             400  "
      ]
     },
     "execution_count": 35,
     "metadata": {},
     "output_type": "execute_result"
    }
   ],
   "source": [
    "data_for_income['season_coef'] = data_for_income.apply(coef, axis=1)\n",
    "data_for_income['room_price'] = data_for_income.apply(room_price, axis=1)\n",
    "data_for_income['cleaning_price'] = data_for_income.apply(cleaning, axis=1)\n",
    "data_for_income.sample(5)"
   ]
  },
  {
   "cell_type": "markdown",
   "metadata": {},
   "source": [
    "Напишем функцию для подсчета прибыли без системы с депозитами :"
   ]
  },
  {
   "cell_type": "code",
   "execution_count": 36,
   "metadata": {},
   "outputs": [],
   "source": [
    "def profit(row):\n",
    "    if row['is_canceled'] == 0:\n",
    "        return (row['room_price'] * \n",
    "                row['season_coef'] * \n",
    "                row['total_nights'] - \n",
    "                (1 + row['total_nights'] // 2) * \n",
    "                row['cleaning_price']\n",
    "               )\n",
    "    else:\n",
    "        return - (row['room_price'] * row['season_coef'] + row['cleaning_price'])"
   ]
  },
  {
   "cell_type": "code",
   "execution_count": 37,
   "metadata": {},
   "outputs": [],
   "source": [
    "data_for_income['profit'] = data_for_income.apply(profit, axis=1)"
   ]
  },
  {
   "cell_type": "code",
   "execution_count": 38,
   "metadata": {},
   "outputs": [
    {
     "name": "stdout",
     "output_type": "stream",
     "text": [
      "Суммарная прибыль отеля: 65984380.0\n"
     ]
    }
   ],
   "source": [
    "print(f'Суммарная прибыль отеля: {data_for_income[\"profit\"].sum()}')"
   ]
  },
  {
   "cell_type": "code",
   "execution_count": 39,
   "metadata": {
    "scrolled": false
   },
   "outputs": [
    {
     "data": {
      "text/html": [
       "<div>\n",
       "<style scoped>\n",
       "    .dataframe tbody tr th:only-of-type {\n",
       "        vertical-align: middle;\n",
       "    }\n",
       "\n",
       "    .dataframe tbody tr th {\n",
       "        vertical-align: top;\n",
       "    }\n",
       "\n",
       "    .dataframe thead th {\n",
       "        text-align: right;\n",
       "    }\n",
       "</style>\n",
       "<table border=\"1\" class=\"dataframe\">\n",
       "  <thead>\n",
       "    <tr style=\"text-align: right;\">\n",
       "      <th></th>\n",
       "      <th>is_canceled</th>\n",
       "      <th>arrival_date_month</th>\n",
       "      <th>reserved_room_type</th>\n",
       "      <th>total_nights</th>\n",
       "      <th>season_coef</th>\n",
       "      <th>room_price</th>\n",
       "      <th>cleaning_price</th>\n",
       "      <th>profit</th>\n",
       "    </tr>\n",
       "  </thead>\n",
       "  <tbody>\n",
       "    <tr>\n",
       "      <th>8059</th>\n",
       "      <td>0</td>\n",
       "      <td>October</td>\n",
       "      <td>E</td>\n",
       "      <td>1</td>\n",
       "      <td>1.2</td>\n",
       "      <td>500</td>\n",
       "      <td>150</td>\n",
       "      <td>450.0</td>\n",
       "    </tr>\n",
       "    <tr>\n",
       "      <th>25228</th>\n",
       "      <td>1</td>\n",
       "      <td>April</td>\n",
       "      <td>D</td>\n",
       "      <td>6</td>\n",
       "      <td>1.2</td>\n",
       "      <td>550</td>\n",
       "      <td>150</td>\n",
       "      <td>-810.0</td>\n",
       "    </tr>\n",
       "    <tr>\n",
       "      <th>46069</th>\n",
       "      <td>0</td>\n",
       "      <td>February</td>\n",
       "      <td>A</td>\n",
       "      <td>1</td>\n",
       "      <td>1.0</td>\n",
       "      <td>1000</td>\n",
       "      <td>400</td>\n",
       "      <td>600.0</td>\n",
       "    </tr>\n",
       "    <tr>\n",
       "      <th>62782</th>\n",
       "      <td>0</td>\n",
       "      <td>November</td>\n",
       "      <td>D</td>\n",
       "      <td>1</td>\n",
       "      <td>1.2</td>\n",
       "      <td>550</td>\n",
       "      <td>150</td>\n",
       "      <td>510.0</td>\n",
       "    </tr>\n",
       "    <tr>\n",
       "      <th>64932</th>\n",
       "      <td>0</td>\n",
       "      <td>December</td>\n",
       "      <td>F</td>\n",
       "      <td>1</td>\n",
       "      <td>1.0</td>\n",
       "      <td>450</td>\n",
       "      <td>150</td>\n",
       "      <td>300.0</td>\n",
       "    </tr>\n",
       "  </tbody>\n",
       "</table>\n",
       "</div>"
      ],
      "text/plain": [
       "       is_canceled arrival_date_month reserved_room_type  total_nights  \\\n",
       "8059             0            October                  E             1   \n",
       "25228            1              April                  D             6   \n",
       "46069            0           February                  A             1   \n",
       "62782            0           November                  D             1   \n",
       "64932            0           December                  F             1   \n",
       "\n",
       "       season_coef  room_price  cleaning_price  profit  \n",
       "8059           1.2         500             150   450.0  \n",
       "25228          1.2         550             150  -810.0  \n",
       "46069          1.0        1000             400   600.0  \n",
       "62782          1.2         550             150   510.0  \n",
       "64932          1.0         450             150   300.0  "
      ]
     },
     "execution_count": 39,
     "metadata": {},
     "output_type": "execute_result"
    }
   ],
   "source": [
    "data_for_income.sample(5)"
   ]
  },
  {
   "cell_type": "markdown",
   "metadata": {},
   "source": [
    "Из выборки видно, что попадаются записи с убытками"
   ]
  },
  {
   "cell_type": "markdown",
   "metadata": {},
   "source": [
    "### Шаг 4. Разработка модели ML"
   ]
  },
  {
   "cell_type": "markdown",
   "metadata": {},
   "source": [
    "Выделим из данных признаки для обучения и целевой признак, не будем выделять данные валидационные, применим кросс-валидацию"
   ]
  },
  {
   "cell_type": "code",
   "execution_count": 40,
   "metadata": {},
   "outputs": [],
   "source": [
    "features_train = data_train.drop(['is_canceled'], axis=1)\n",
    "target_train = data_train['is_canceled']\n",
    "features_test = data_test.drop(['is_canceled'], axis=1)\n",
    "target_test = data_test['is_canceled']"
   ]
  },
  {
   "cell_type": "code",
   "execution_count": 41,
   "metadata": {},
   "outputs": [],
   "source": [
    "#удалю ненужный признак id\n",
    "features_train = features_train.drop(['id'], axis=1)\n",
    "features_test = features_test.drop(['id'], axis=1)"
   ]
  },
  {
   "cell_type": "code",
   "execution_count": 42,
   "metadata": {},
   "outputs": [
    {
     "data": {
      "text/plain": [
       "(65073, 23)"
      ]
     },
     "metadata": {},
     "output_type": "display_data"
    },
    {
     "data": {
      "text/plain": [
       "(32350, 23)"
      ]
     },
     "metadata": {},
     "output_type": "display_data"
    },
    {
     "data": {
      "text/plain": [
       "(65073,)"
      ]
     },
     "metadata": {},
     "output_type": "display_data"
    },
    {
     "data": {
      "text/plain": [
       "(32350,)"
      ]
     },
     "metadata": {},
     "output_type": "display_data"
    }
   ],
   "source": [
    "display(features_train.shape, features_test.shape)\n",
    "display(target_train.shape,  target_test.shape)"
   ]
  },
  {
   "cell_type": "code",
   "execution_count": 43,
   "metadata": {
    "scrolled": false
   },
   "outputs": [
    {
     "data": {
      "text/plain": [
       "<AxesSubplot:ylabel='is_canceled'>"
      ]
     },
     "execution_count": 43,
     "metadata": {},
     "output_type": "execute_result"
    },
    {
     "data": {
      "image/png": "[encoded data removed]",
      "text/plain": [
       "<Figure size 360x360 with 1 Axes>"
      ]
     },
     "metadata": {},
     "output_type": "display_data"
    }
   ],
   "source": [
    "target_train.value_counts(normalize=True).plot(kind='pie', figsize=(5,5))"
   ]
  },
  {
   "cell_type": "markdown",
   "metadata": {},
   "source": [
    "Наблюдаем дисбаланс "
   ]
  },
  {
   "cell_type": "markdown",
   "metadata": {},
   "source": [
    "Просмотрим категориальные признаки для кодирования"
   ]
  },
  {
   "cell_type": "code",
   "execution_count": 44,
   "metadata": {},
   "outputs": [
    {
     "data": {
      "text/html": [
       "<div>\n",
       "<style scoped>\n",
       "    .dataframe tbody tr th:only-of-type {\n",
       "        vertical-align: middle;\n",
       "    }\n",
       "\n",
       "    .dataframe tbody tr th {\n",
       "        vertical-align: top;\n",
       "    }\n",
       "\n",
       "    .dataframe thead th {\n",
       "        text-align: right;\n",
       "    }\n",
       "</style>\n",
       "<table border=\"1\" class=\"dataframe\">\n",
       "  <thead>\n",
       "    <tr style=\"text-align: right;\">\n",
       "      <th></th>\n",
       "      <th>arrival_date_month</th>\n",
       "      <th>meal</th>\n",
       "      <th>country</th>\n",
       "      <th>distribution_channel</th>\n",
       "      <th>reserved_room_type</th>\n",
       "      <th>customer_type</th>\n",
       "    </tr>\n",
       "  </thead>\n",
       "  <tbody>\n",
       "    <tr>\n",
       "      <th>0</th>\n",
       "      <td>July</td>\n",
       "      <td>BB</td>\n",
       "      <td>GBR</td>\n",
       "      <td>Direct</td>\n",
       "      <td>A</td>\n",
       "      <td>Transient</td>\n",
       "    </tr>\n",
       "    <tr>\n",
       "      <th>1</th>\n",
       "      <td>July</td>\n",
       "      <td>BB</td>\n",
       "      <td>GBR</td>\n",
       "      <td>TA/TO</td>\n",
       "      <td>A</td>\n",
       "      <td>Transient</td>\n",
       "    </tr>\n",
       "  </tbody>\n",
       "</table>\n",
       "</div>"
      ],
      "text/plain": [
       "  arrival_date_month meal country distribution_channel reserved_room_type  \\\n",
       "0               July   BB     GBR               Direct                  A   \n",
       "1               July   BB     GBR                TA/TO                  A   \n",
       "\n",
       "  customer_type  \n",
       "0     Transient  \n",
       "1     Transient  "
      ]
     },
     "execution_count": 44,
     "metadata": {},
     "output_type": "execute_result"
    }
   ],
   "source": [
    "features_train.select_dtypes(include='object').head(2)"
   ]
  },
  {
   "cell_type": "markdown",
   "metadata": {},
   "source": [
    "И кодируем катерогральные признаки"
   ]
  },
  {
   "cell_type": "code",
   "execution_count": 46,
   "metadata": {},
   "outputs": [
    {
     "ename": "ValueError",
     "evalue": "Shape of passed values is (65073, 1), indices imply (65073, 71)",
     "output_type": "error",
     "traceback": [
      "\u001b[0;31m---------------------------------------------------------------------------\u001b[0m",
      "\u001b[0;31mValueError\u001b[0m                                Traceback (most recent call last)",
      "\u001b[0;32m/opt/conda/lib/python3.9/site-packages/pandas/core/internals/managers.py\u001b[0m in \u001b[0;36mcreate_block_manager_from_blocks\u001b[0;34m(blocks, axes)\u001b[0m\n\u001b[1;32m   1674\u001b[0m                 blocks = [\n\u001b[0;32m-> 1675\u001b[0;31m                     make_block(\n\u001b[0m\u001b[1;32m   1676\u001b[0m                         \u001b[0mvalues\u001b[0m\u001b[0;34m=\u001b[0m\u001b[0mblocks\u001b[0m\u001b[0;34m[\u001b[0m\u001b[0;36m0\u001b[0m\u001b[0;34m]\u001b[0m\u001b[0;34m,\u001b[0m \u001b[0mplacement\u001b[0m\u001b[0;34m=\u001b[0m\u001b[0mslice\u001b[0m\u001b[0;34m(\u001b[0m\u001b[0;36m0\u001b[0m\u001b[0;34m,\u001b[0m \u001b[0mlen\u001b[0m\u001b[0;34m(\u001b[0m\u001b[0maxes\u001b[0m\u001b[0;34m[\u001b[0m\u001b[0;36m0\u001b[0m\u001b[0;34m]\u001b[0m\u001b[0;34m)\u001b[0m\u001b[0;34m)\u001b[0m\u001b[0;34m,\u001b[0m \u001b[0mndim\u001b[0m\u001b[0;34m=\u001b[0m\u001b[0;36m2\u001b[0m\u001b[0;34m\u001b[0m\u001b[0;34m\u001b[0m\u001b[0m\n",
      "\u001b[0;32m/opt/conda/lib/python3.9/site-packages/pandas/core/internals/blocks.py\u001b[0m in \u001b[0;36mmake_block\u001b[0;34m(values, placement, klass, ndim, dtype)\u001b[0m\n\u001b[1;32m   2741\u001b[0m \u001b[0;34m\u001b[0m\u001b[0m\n\u001b[0;32m-> 2742\u001b[0;31m     \u001b[0;32mreturn\u001b[0m \u001b[0mklass\u001b[0m\u001b[0;34m(\u001b[0m\u001b[0mvalues\u001b[0m\u001b[0;34m,\u001b[0m \u001b[0mndim\u001b[0m\u001b[0;34m=\u001b[0m\u001b[0mndim\u001b[0m\u001b[0;34m,\u001b[0m \u001b[0mplacement\u001b[0m\u001b[0;34m=\u001b[0m\u001b[0mplacement\u001b[0m\u001b[0;34m)\u001b[0m\u001b[0;34m\u001b[0m\u001b[0;34m\u001b[0m\u001b[0m\n\u001b[0m\u001b[1;32m   2743\u001b[0m \u001b[0;34m\u001b[0m\u001b[0m\n",
      "\u001b[0;32m/opt/conda/lib/python3.9/site-packages/pandas/core/internals/blocks.py\u001b[0m in \u001b[0;36m__init__\u001b[0;34m(self, values, placement, ndim)\u001b[0m\n\u001b[1;32m    141\u001b[0m         \u001b[0;32mif\u001b[0m \u001b[0mself\u001b[0m\u001b[0;34m.\u001b[0m\u001b[0m_validate_ndim\u001b[0m \u001b[0;32mand\u001b[0m \u001b[0mself\u001b[0m\u001b[0;34m.\u001b[0m\u001b[0mndim\u001b[0m \u001b[0;32mand\u001b[0m \u001b[0mlen\u001b[0m\u001b[0;34m(\u001b[0m\u001b[0mself\u001b[0m\u001b[0;34m.\u001b[0m\u001b[0mmgr_locs\u001b[0m\u001b[0;34m)\u001b[0m \u001b[0;34m!=\u001b[0m \u001b[0mlen\u001b[0m\u001b[0;34m(\u001b[0m\u001b[0mself\u001b[0m\u001b[0;34m.\u001b[0m\u001b[0mvalues\u001b[0m\u001b[0;34m)\u001b[0m\u001b[0;34m:\u001b[0m\u001b[0;34m\u001b[0m\u001b[0;34m\u001b[0m\u001b[0m\n\u001b[0;32m--> 142\u001b[0;31m             raise ValueError(\n\u001b[0m\u001b[1;32m    143\u001b[0m                 \u001b[0;34mf\"Wrong number of items passed {len(self.values)}, \"\u001b[0m\u001b[0;34m\u001b[0m\u001b[0;34m\u001b[0m\u001b[0m\n",
      "\u001b[0;31mValueError\u001b[0m: Wrong number of items passed 1, placement implies 71",
      "\nDuring handling of the above exception, another exception occurred:\n",
      "\u001b[0;31mValueError\u001b[0m                                Traceback (most recent call last)",
      "\u001b[0;32m/tmp/ipykernel_133/605990974.py\u001b[0m in \u001b[0;36m<module>\u001b[0;34m\u001b[0m\n\u001b[1;32m      2\u001b[0m \u001b[0mencoder\u001b[0m \u001b[0;34m=\u001b[0m \u001b[0mOneHotEncoder\u001b[0m\u001b[0;34m(\u001b[0m\u001b[0mhandle_unknown\u001b[0m\u001b[0;34m=\u001b[0m\u001b[0;34m'ignore'\u001b[0m\u001b[0;34m)\u001b[0m\u001b[0;34m\u001b[0m\u001b[0;34m\u001b[0m\u001b[0m\n\u001b[1;32m      3\u001b[0m \u001b[0mencoder\u001b[0m\u001b[0;34m.\u001b[0m\u001b[0mfit\u001b[0m\u001b[0;34m(\u001b[0m\u001b[0mfeatures_train\u001b[0m\u001b[0;34m[\u001b[0m\u001b[0mohe\u001b[0m\u001b[0;34m]\u001b[0m\u001b[0;34m)\u001b[0m\u001b[0;34m\u001b[0m\u001b[0;34m\u001b[0m\u001b[0m\n\u001b[0;32m----> 4\u001b[0;31m \u001b[0mfeatures_train_ohe\u001b[0m \u001b[0;34m=\u001b[0m \u001b[0mpd\u001b[0m\u001b[0;34m.\u001b[0m\u001b[0mDataFrame\u001b[0m\u001b[0;34m(\u001b[0m\u001b[0mencoder\u001b[0m\u001b[0;34m.\u001b[0m\u001b[0mtransform\u001b[0m\u001b[0;34m(\u001b[0m\u001b[0mfeatures_train\u001b[0m\u001b[0;34m[\u001b[0m\u001b[0mohe\u001b[0m\u001b[0;34m]\u001b[0m\u001b[0;34m)\u001b[0m\u001b[0;34m,\u001b[0m \u001b[0mcolumns\u001b[0m \u001b[0;34m=\u001b[0m \u001b[0mencoder\u001b[0m\u001b[0;34m.\u001b[0m\u001b[0mget_feature_names_out\u001b[0m\u001b[0;34m(\u001b[0m\u001b[0mohe\u001b[0m\u001b[0;34m)\u001b[0m\u001b[0;34m)\u001b[0m\u001b[0;34m\u001b[0m\u001b[0;34m\u001b[0m\u001b[0m\n\u001b[0m\u001b[1;32m      5\u001b[0m \u001b[0mfeatures_test_ohe\u001b[0m \u001b[0;34m=\u001b[0m \u001b[0mpd\u001b[0m\u001b[0;34m.\u001b[0m\u001b[0mDataFrame\u001b[0m\u001b[0;34m(\u001b[0m\u001b[0mencoder\u001b[0m\u001b[0;34m.\u001b[0m\u001b[0mtransform\u001b[0m\u001b[0;34m(\u001b[0m\u001b[0mfeatures_test\u001b[0m\u001b[0;34m[\u001b[0m\u001b[0mohe\u001b[0m\u001b[0;34m]\u001b[0m\u001b[0;34m)\u001b[0m\u001b[0;34m,\u001b[0m \u001b[0mcolumns\u001b[0m \u001b[0;34m=\u001b[0m \u001b[0mencoder\u001b[0m\u001b[0;34m.\u001b[0m\u001b[0mget_feature_names_out\u001b[0m\u001b[0;34m(\u001b[0m\u001b[0mohe\u001b[0m\u001b[0;34m)\u001b[0m\u001b[0;34m)\u001b[0m\u001b[0;34m\u001b[0m\u001b[0;34m\u001b[0m\u001b[0m\n",
      "\u001b[0;32m/opt/conda/lib/python3.9/site-packages/pandas/core/frame.py\u001b[0m in \u001b[0;36m__init__\u001b[0;34m(self, data, index, columns, dtype, copy)\u001b[0m\n\u001b[1;32m    582\u001b[0m                     \u001b[0mmgr\u001b[0m \u001b[0;34m=\u001b[0m \u001b[0marrays_to_mgr\u001b[0m\u001b[0;34m(\u001b[0m\u001b[0marrays\u001b[0m\u001b[0;34m,\u001b[0m \u001b[0mcolumns\u001b[0m\u001b[0;34m,\u001b[0m \u001b[0mindex\u001b[0m\u001b[0;34m,\u001b[0m \u001b[0mcolumns\u001b[0m\u001b[0;34m,\u001b[0m \u001b[0mdtype\u001b[0m\u001b[0;34m=\u001b[0m\u001b[0mdtype\u001b[0m\u001b[0;34m)\u001b[0m\u001b[0;34m\u001b[0m\u001b[0;34m\u001b[0m\u001b[0m\n\u001b[1;32m    583\u001b[0m                 \u001b[0;32melse\u001b[0m\u001b[0;34m:\u001b[0m\u001b[0;34m\u001b[0m\u001b[0;34m\u001b[0m\u001b[0m\n\u001b[0;32m--> 584\u001b[0;31m                     \u001b[0mmgr\u001b[0m \u001b[0;34m=\u001b[0m \u001b[0minit_ndarray\u001b[0m\u001b[0;34m(\u001b[0m\u001b[0mdata\u001b[0m\u001b[0;34m,\u001b[0m \u001b[0mindex\u001b[0m\u001b[0;34m,\u001b[0m \u001b[0mcolumns\u001b[0m\u001b[0;34m,\u001b[0m \u001b[0mdtype\u001b[0m\u001b[0;34m=\u001b[0m\u001b[0mdtype\u001b[0m\u001b[0;34m,\u001b[0m \u001b[0mcopy\u001b[0m\u001b[0;34m=\u001b[0m\u001b[0mcopy\u001b[0m\u001b[0;34m)\u001b[0m\u001b[0;34m\u001b[0m\u001b[0;34m\u001b[0m\u001b[0m\n\u001b[0m\u001b[1;32m    585\u001b[0m             \u001b[0;32melse\u001b[0m\u001b[0;34m:\u001b[0m\u001b[0;34m\u001b[0m\u001b[0;34m\u001b[0m\u001b[0m\n\u001b[1;32m    586\u001b[0m                 \u001b[0mmgr\u001b[0m \u001b[0;34m=\u001b[0m \u001b[0minit_dict\u001b[0m\u001b[0;34m(\u001b[0m\u001b[0;34m{\u001b[0m\u001b[0;34m}\u001b[0m\u001b[0;34m,\u001b[0m \u001b[0mindex\u001b[0m\u001b[0;34m,\u001b[0m \u001b[0mcolumns\u001b[0m\u001b[0;34m,\u001b[0m \u001b[0mdtype\u001b[0m\u001b[0;34m=\u001b[0m\u001b[0mdtype\u001b[0m\u001b[0;34m)\u001b[0m\u001b[0;34m\u001b[0m\u001b[0;34m\u001b[0m\u001b[0m\n",
      "\u001b[0;32m/opt/conda/lib/python3.9/site-packages/pandas/core/internals/construction.py\u001b[0m in \u001b[0;36minit_ndarray\u001b[0;34m(values, index, columns, dtype, copy)\u001b[0m\n\u001b[1;32m    236\u001b[0m         \u001b[0mblock_values\u001b[0m \u001b[0;34m=\u001b[0m \u001b[0;34m[\u001b[0m\u001b[0mvalues\u001b[0m\u001b[0;34m]\u001b[0m\u001b[0;34m\u001b[0m\u001b[0;34m\u001b[0m\u001b[0m\n\u001b[1;32m    237\u001b[0m \u001b[0;34m\u001b[0m\u001b[0m\n\u001b[0;32m--> 238\u001b[0;31m     \u001b[0;32mreturn\u001b[0m \u001b[0mcreate_block_manager_from_blocks\u001b[0m\u001b[0;34m(\u001b[0m\u001b[0mblock_values\u001b[0m\u001b[0;34m,\u001b[0m \u001b[0;34m[\u001b[0m\u001b[0mcolumns\u001b[0m\u001b[0;34m,\u001b[0m \u001b[0mindex\u001b[0m\u001b[0;34m]\u001b[0m\u001b[0;34m)\u001b[0m\u001b[0;34m\u001b[0m\u001b[0;34m\u001b[0m\u001b[0m\n\u001b[0m\u001b[1;32m    239\u001b[0m \u001b[0;34m\u001b[0m\u001b[0m\n\u001b[1;32m    240\u001b[0m \u001b[0;34m\u001b[0m\u001b[0m\n",
      "\u001b[0;32m/opt/conda/lib/python3.9/site-packages/pandas/core/internals/managers.py\u001b[0m in \u001b[0;36mcreate_block_manager_from_blocks\u001b[0;34m(blocks, axes)\u001b[0m\n\u001b[1;32m   1685\u001b[0m         \u001b[0mblocks\u001b[0m \u001b[0;34m=\u001b[0m \u001b[0;34m[\u001b[0m\u001b[0mgetattr\u001b[0m\u001b[0;34m(\u001b[0m\u001b[0mb\u001b[0m\u001b[0;34m,\u001b[0m \u001b[0;34m\"values\"\u001b[0m\u001b[0;34m,\u001b[0m \u001b[0mb\u001b[0m\u001b[0;34m)\u001b[0m \u001b[0;32mfor\u001b[0m \u001b[0mb\u001b[0m \u001b[0;32min\u001b[0m \u001b[0mblocks\u001b[0m\u001b[0;34m]\u001b[0m\u001b[0;34m\u001b[0m\u001b[0;34m\u001b[0m\u001b[0m\n\u001b[1;32m   1686\u001b[0m         \u001b[0mtot_items\u001b[0m \u001b[0;34m=\u001b[0m \u001b[0msum\u001b[0m\u001b[0;34m(\u001b[0m\u001b[0mb\u001b[0m\u001b[0;34m.\u001b[0m\u001b[0mshape\u001b[0m\u001b[0;34m[\u001b[0m\u001b[0;36m0\u001b[0m\u001b[0;34m]\u001b[0m \u001b[0;32mfor\u001b[0m \u001b[0mb\u001b[0m \u001b[0;32min\u001b[0m \u001b[0mblocks\u001b[0m\u001b[0;34m)\u001b[0m\u001b[0;34m\u001b[0m\u001b[0;34m\u001b[0m\u001b[0m\n\u001b[0;32m-> 1687\u001b[0;31m         \u001b[0;32mraise\u001b[0m \u001b[0mconstruction_error\u001b[0m\u001b[0;34m(\u001b[0m\u001b[0mtot_items\u001b[0m\u001b[0;34m,\u001b[0m \u001b[0mblocks\u001b[0m\u001b[0;34m[\u001b[0m\u001b[0;36m0\u001b[0m\u001b[0;34m]\u001b[0m\u001b[0;34m.\u001b[0m\u001b[0mshape\u001b[0m\u001b[0;34m[\u001b[0m\u001b[0;36m1\u001b[0m\u001b[0;34m:\u001b[0m\u001b[0;34m]\u001b[0m\u001b[0;34m,\u001b[0m \u001b[0maxes\u001b[0m\u001b[0;34m,\u001b[0m \u001b[0me\u001b[0m\u001b[0;34m)\u001b[0m\u001b[0;34m\u001b[0m\u001b[0;34m\u001b[0m\u001b[0m\n\u001b[0m\u001b[1;32m   1688\u001b[0m \u001b[0;34m\u001b[0m\u001b[0m\n\u001b[1;32m   1689\u001b[0m \u001b[0;34m\u001b[0m\u001b[0m\n",
      "\u001b[0;31mValueError\u001b[0m: Shape of passed values is (65073, 1), indices imply (65073, 71)"
     ]
    }
   ],
   "source": [
    "ohe = features_train.select_dtypes(include='object').columns.tolist()\n",
    "encoder = OneHotEncoder(handle_unknown='ignore', sprase=False)\n",
    "encoder.fit(features_train[ohe])\n",
    "features_train_ohe = pd.DataFrame(encoder.transform(features_train[ohe]), columns = encoder.get_feature_names_out(ohe))\n",
    "features_test_ohe = pd.DataFrame(encoder.transform(features_test[ohe]), columns = encoder.get_feature_names_out(ohe))"
   ]
  },
  {
   "cell_type": "markdown",
   "metadata": {},
   "source": [
    "Масштабируем численные признаки"
   ]
  },
  {
   "cell_type": "code",
   "execution_count": null,
   "metadata": {},
   "outputs": [],
   "source": [
    "features_train.info()"
   ]
  },
  {
   "cell_type": "code",
   "execution_count": null,
   "metadata": {},
   "outputs": [],
   "source": [
    "numeric = features_train.select_dtypes(include=['int64', 'float64']).head(2).columns.tolist()"
   ]
  },
  {
   "cell_type": "code",
   "execution_count": null,
   "metadata": {},
   "outputs": [],
   "source": [
    "scaler = StandardScaler()\n",
    "scaler.fit(features_train[numeric])\n",
    "\n",
    "features_train[numeric] = scaler.transform(features_train[numeric])\n",
    "features_test[numeric] = scaler.transform(features_test[numeric])"
   ]
  },
  {
   "cell_type": "code",
   "execution_count": null,
   "metadata": {
    "scrolled": false
   },
   "outputs": [],
   "source": [
    "features_train.head()"
   ]
  },
  {
   "cell_type": "markdown",
   "metadata": {},
   "source": [
    "Объединим оба получившихся датафрейма"
   ]
  },
  {
   "cell_type": "code",
   "execution_count": null,
   "metadata": {},
   "outputs": [],
   "source": [
    "features_train = features_train.drop(ohe, axis=1)\n",
    "features_test = features_test.drop(ohe, axis=1)\n",
    "\n",
    "features_train = pd.concat(\n",
    "    [features_train_ohe.reset_index(drop=True), features_train.reset_index(drop=True)], \n",
    "    axis=1, \n",
    "    ignore_index=False\n",
    ")\n",
    "\n",
    "features_test = pd.concat(\n",
    "    [features_test_ohe.reset_index(drop=True), features_test.reset_index(drop=True)], \n",
    "    axis=1, \n",
    "    ignore_index=False\n",
    ")"
   ]
  },
  {
   "cell_type": "code",
   "execution_count": null,
   "metadata": {
    "scrolled": true
   },
   "outputs": [],
   "source": [
    "features_train.head(2)"
   ]
  },
  {
   "cell_type": "markdown",
   "metadata": {},
   "source": [
    "Данные подготовлены для обучения, начнем проверку моделей, для удобства будем использовать кросс-валидацию"
   ]
  },
  {
   "cell_type": "code",
   "execution_count": null,
   "metadata": {},
   "outputs": [],
   "source": [
    "final_score_best = 0\n",
    "depth_best = 0\n",
    "\n",
    "for depth in range(1, 5):\n",
    "    tree = DecisionTreeClassifier(random_state=RANDOM_STATE, max_depth=depth, class_weight='balanced')\n",
    "    scores = cross_val_score(tree, features_train, target_train)\n",
    "    scores_acc_f1 = cross_val_score(tree, features_train, target_train, scoring='f1')\n",
    "    scores_acc_roc_auc = cross_val_score(tree, features_train, target_train,scoring='roc_auc')\n",
    "    final_score = sum(scores) / len(scores)\n",
    "    if final_score > final_score_best:\n",
    "        final_score_best = final_score\n",
    "        depth_best = depth\n",
    "print('Оценка модели решающего дерева кросс-валидацией:', final_score_best, 'при max_depth =', depth_best)"
   ]
  },
  {
   "cell_type": "code",
   "execution_count": null,
   "metadata": {},
   "outputs": [],
   "source": [
    "scores_acc_f1.mean(), scores_acc_roc_auc.mean()"
   ]
  },
  {
   "cell_type": "markdown",
   "metadata": {},
   "source": [
    "Оценка модели решающего дерева кросс-валидацией: 0.7692299796412989 при max_depth = 2\n"
   ]
  },
  {
   "cell_type": "raw",
   "metadata": {},
   "source": [
    "final_score_best = 0\n",
    "depth_best = 0\n",
    "est_best = 0\n",
    "\n",
    "for est in range(1, 101, 10):\n",
    "    for depth in range(2, 5):\n",
    "        forest = RandomForestClassifier(random_state=RANDOM_STATE, n_estimators=est, max_depth=depth, class_weight='balanced')\n",
    "        scores = cross_val_score(forest, features_train, target_train)\n",
    "        final_score = sum(scores) / len(scores)\n",
    "        if final_score > final_score_best:\n",
    "            final_score_best = final_score\n",
    "            depth_best = depth\n",
    "            est_best = est\n",
    "print('Оценка кросс-валидацией:', final_score_best, 'при n_estimators =', est_best, 'при max_depth =', depth_best)"
   ]
  },
  {
   "cell_type": "markdown",
   "metadata": {},
   "source": [
    "Оценка кросс-валидацией: 0.7095271908186467 при n_estimators = 31 при max_depth = 2"
   ]
  },
  {
   "cell_type": "raw",
   "metadata": {},
   "source": [
    "logreg = LogisticRegression(random_state=RANDOM_STATE)\n",
    "scores = cross_val_score(logreg, features_train, target_train)\n",
    "print('Оценка кросс-валидацией:', scores.mean())"
   ]
  },
  {
   "cell_type": "markdown",
   "metadata": {},
   "source": [
    "Оценка кросс-валидацией: 0.6590281478836498"
   ]
  },
  {
   "cell_type": "code",
   "execution_count": null,
   "metadata": {
    "scrolled": false
   },
   "outputs": [],
   "source": [
    "tree = DecisionTreeClassifier(random_state=RANDOM_STATE, max_depth=depth, class_weight='balanced')\n",
    "tree.fit(features_train, target_train)\n",
    "prediction_test_tree = tree.predict(features_test)\n",
    "probabilities_test = tree.predict_proba(features_test)[:, 1]\n",
    "f1 = f1_score(target_test, prediction_test_tree)\n",
    "auc_roc = roc_auc_score(target_test, probabilities_test)\n",
    "       \n",
    "print('f1-score DecisionTree на тестовой выборке:', f1)\n",
    "print('roc-auc DecisionTree на тестовой выборке:', auc_roc)"
   ]
  },
  {
   "cell_type": "code",
   "execution_count": null,
   "metadata": {
    "scrolled": true
   },
   "outputs": [],
   "source": [
    "pd.Series(prediction_test_tree).value_counts()"
   ]
  },
  {
   "cell_type": "code",
   "execution_count": null,
   "metadata": {},
   "outputs": [],
   "source": [
    "data_test['arrival_date_year'].value_counts()"
   ]
  },
  {
   "cell_type": "markdown",
   "metadata": {},
   "source": [
    "В тестовых данных только данные за 2017 год- удобно будет оценить показатели до ввода модели и после"
   ]
  },
  {
   "cell_type": "markdown",
   "metadata": {},
   "source": [
    "Подготовим данные из тестовой выборки для расчета прибыли"
   ]
  },
  {
   "cell_type": "code",
   "execution_count": null,
   "metadata": {
    "scrolled": true
   },
   "outputs": [],
   "source": [
    "data_test['predictions'] = prediction_test_tree\n",
    "data_test['season_coef'] = data_test.apply(coef, axis=1)\n",
    "data_test['room_price'] = data_test.apply(room_price, axis=1)\n",
    "data_test['cleaning_price'] = data_test.apply(cleaning, axis=1)\n",
    "data_test['profit_without_deposite'] = data_test.apply(profit, axis=1)\n",
    "data_test.sample(5)\n"
   ]
  },
  {
   "cell_type": "markdown",
   "metadata": {},
   "source": [
    "Напишем функцию для подсчета прибыли"
   ]
  },
  {
   "cell_type": "code",
   "execution_count": null,
   "metadata": {},
   "outputs": [],
   "source": [
    "def profit_model(row):\n",
    "    \n",
    "    if ((row['is_canceled'] == 0 and row['predictions'] == 1) or \n",
    "        (row['is_canceled'] == 0 and row['predictions'] == 0)\n",
    "       ): # Клиент заселился, модель предсказала, что не заселится либо клиент заселился и модель предсказала, что заселится\n",
    "        return (row['room_price'] * \n",
    "                row['season_coef'] * \n",
    "                row['total_nights'] - \n",
    "                (1 + row['total_nights'] // 2) * \n",
    "                row['cleaning_price']\n",
    "               )\n",
    "        \n",
    "    elif row['is_canceled'] == 1 and row['predictions'] == 0: # Клиент не заселился, но модель предсказала, что заселится \n",
    "        return - (row['room_price'] * row['season_coef'] + row['cleaning_price'])\n",
    "    \n",
    "    elif row['is_canceled'] == 1 and row['predictions'] == 1: #Клиент не заселился и модель предсказала, что не заселится\n",
    "        return row['room_price'] * row['season_coef'] * 0.8 + row['cleaning_price']\n"
   ]
  },
  {
   "cell_type": "code",
   "execution_count": null,
   "metadata": {
    "scrolled": true
   },
   "outputs": [],
   "source": [
    "data_test['profit_with_deposite'] = data_test.apply(profit_model, axis=1)"
   ]
  },
  {
   "cell_type": "code",
   "execution_count": null,
   "metadata": {},
   "outputs": [],
   "source": [
    "with_deposit = data_test['profit_with_deposite'].sum()\n",
    "\n",
    "without_deposit = data_test['profit_without_deposite'].sum()"
   ]
  },
  {
   "cell_type": "code",
   "execution_count": null,
   "metadata": {},
   "outputs": [],
   "source": [
    "print(f'Прибыль с применением депозитов: {with_deposit}')\n",
    "print(f'Прибыль без применения депозитов: {without_deposit}')"
   ]
  },
  {
   "cell_type": "code",
   "execution_count": null,
   "metadata": {},
   "outputs": [],
   "source": [
    "print('Разница в прибыли отеля до и после внедрения депозитов:', \n",
    "      with_deposit - without_deposit)"
   ]
  },
  {
   "cell_type": "markdown",
   "metadata": {},
   "source": [
    "Модель с прогнозом и примененем депозитов приносит больше прибыли. За год окупится с избытком, так как бюджет на разработку 400000.0"
   ]
  },
  {
   "cell_type": "markdown",
   "metadata": {},
   "source": [
    "### Шаг 5. Опишите портрет «ненадёжного» клиента"
   ]
  },
  {
   "cell_type": "code",
   "execution_count": null,
   "metadata": {},
   "outputs": [],
   "source": [
    "hotel_test_previous_cancel = data_test.groupby('previous_cancellations')['is_canceled']\\\n",
    ".agg(['mean', 'count']).sort_values('mean', ascending=False)\n",
    "display('Доля отказов от брони в зависимости от количества подтверждённых заказов у клиента ', hotel_test_previous_cancel)"
   ]
  },
  {
   "cell_type": "markdown",
   "metadata": {},
   "source": [
    "Клиенты, которые бронируют номер впервые, имеют самый высокий процент отказов от брони - 39%\n"
   ]
  },
  {
   "cell_type": "code",
   "execution_count": null,
   "metadata": {
    "scrolled": true
   },
   "outputs": [],
   "source": [
    "hotel_test_lead_time = data_test.groupby('lead_time')['is_canceled'].agg(['mean', 'count'])\\\n",
    ".reset_index().sort_values('lead_time', ascending=True)\n",
    "display('Увеличение вероятности отказа от брони с увеличением времени между бронированием из заездом:',\n",
    "        hotel_test_lead_time.head(10))\n",
    "print('')\n",
    "display('Значение lead_time при вероятности от отказа от брони больше 50%:', hotel_test_lead_time.query('mean > 0.5'))"
   ]
  },
  {
   "cell_type": "markdown",
   "metadata": {},
   "source": [
    "Чем меньше срок между датой бронирования и датой заезда, тем выше вероятность того, что клиент не отменит бронь;"
   ]
  },
  {
   "cell_type": "markdown",
   "metadata": {},
   "source": [
    "Вывод:\n",
    "\n",
    "\n",
    "Самый ненадежный клиент:\n",
    "Бронирует номер впервые;\n",
    "Бронирует за срок более 28 дней до даты заезда - вероятность отказа от брони составляет более 50%;\n",
    "Бронирует за срок более 365 дней до даты заезда - вероятность отказа от брони составляет 100%.\n"
   ]
  },
  {
   "cell_type": "markdown",
   "metadata": {},
   "source": [
    "### Шаг 6. Напишите общий вывод"
   ]
  },
  {
   "cell_type": "markdown",
   "metadata": {},
   "source": [
    "Во время работы над проекто были изучены 2 датафрейма. После чего была произведена предобработка и подготовка данных к машинному обучения. Далее был разработан алгоритм подсчета прибыли или убытка, который приносит клиент, после чего данные были исследованы с использованием кросс-валидации, Дерево решений показало наилучший результат и впоследствии было взято для проверки на тестовой выборке. После чего был получен доход с внесением депозита и получено сравнение с предыдущим результатом, которое показало, что новый подход приносит гораздо больше прибыли и, так как в тестовой выборке данные только за 1 год вложение 400к является выгодной инвестицией. В конце были проанализированы какие критерии наиболее сильно влияют на отмену бронирования и оказалось, что самыми ненадежными клиентами данного отеля являются бронирующие номер впервые, и со сроком более 28 дней\n"
   ]
  }
 ],
 "metadata": {
  "ExecuteTimeLog": [
   {
    "duration": 409,
    "start_time": "2023-10-16T06:34:45.646Z"
   },
   {
    "duration": 845,
    "start_time": "2023-10-16T06:35:49.852Z"
   },
   {
    "duration": 64,
    "start_time": "2023-10-16T06:36:00.258Z"
   },
   {
    "duration": 35,
    "start_time": "2023-10-16T06:36:36.470Z"
   },
   {
    "duration": 23,
    "start_time": "2023-10-16T06:36:58.319Z"
   },
   {
    "duration": 19,
    "start_time": "2023-10-16T06:37:05.298Z"
   },
   {
    "duration": 61,
    "start_time": "2023-10-16T06:38:09.794Z"
   },
   {
    "duration": 3,
    "start_time": "2023-10-16T06:38:15.679Z"
   },
   {
    "duration": 16,
    "start_time": "2023-10-16T06:38:15.756Z"
   },
   {
    "duration": 16,
    "start_time": "2023-10-16T06:38:20.687Z"
   },
   {
    "duration": 26,
    "start_time": "2023-10-16T06:38:28.738Z"
   },
   {
    "duration": 3,
    "start_time": "2023-10-16T06:38:42.492Z"
   },
   {
    "duration": 222,
    "start_time": "2023-10-16T06:38:43.474Z"
   },
   {
    "duration": 17,
    "start_time": "2023-10-16T06:38:45.715Z"
   },
   {
    "duration": 17,
    "start_time": "2023-10-16T06:38:48.273Z"
   },
   {
    "duration": 81,
    "start_time": "2023-10-16T06:39:09.756Z"
   },
   {
    "duration": 27,
    "start_time": "2023-10-16T06:40:17.476Z"
   },
   {
    "duration": 19,
    "start_time": "2023-10-16T06:40:38.549Z"
   },
   {
    "duration": 50,
    "start_time": "2023-10-16T08:42:28.133Z"
   },
   {
    "duration": 473,
    "start_time": "2023-10-16T08:42:31.699Z"
   },
   {
    "duration": 518,
    "start_time": "2023-10-16T08:42:32.174Z"
   },
   {
    "duration": 32,
    "start_time": "2023-10-16T08:42:32.694Z"
   },
   {
    "duration": 5,
    "start_time": "2023-10-16T08:45:07.320Z"
   },
   {
    "duration": 36,
    "start_time": "2023-10-16T08:45:16.241Z"
   },
   {
    "duration": 15,
    "start_time": "2023-10-16T08:45:19.041Z"
   },
   {
    "duration": 11,
    "start_time": "2023-10-16T08:45:37.364Z"
   },
   {
    "duration": 8,
    "start_time": "2023-10-16T08:46:48.371Z"
   },
   {
    "duration": 7,
    "start_time": "2023-10-16T08:46:52.600Z"
   },
   {
    "duration": 26,
    "start_time": "2023-10-16T08:47:16.395Z"
   },
   {
    "duration": 18,
    "start_time": "2023-10-16T08:51:53.990Z"
   },
   {
    "duration": 6,
    "start_time": "2023-10-16T08:55:11.087Z"
   },
   {
    "duration": 7,
    "start_time": "2023-10-16T08:55:28.861Z"
   },
   {
    "duration": 11,
    "start_time": "2023-10-16T08:55:59.168Z"
   },
   {
    "duration": 21,
    "start_time": "2023-10-16T08:56:32.840Z"
   },
   {
    "duration": 16,
    "start_time": "2023-10-16T08:56:47.035Z"
   },
   {
    "duration": 10,
    "start_time": "2023-10-16T08:57:06.894Z"
   },
   {
    "duration": 9,
    "start_time": "2023-10-16T08:57:15.033Z"
   },
   {
    "duration": 12,
    "start_time": "2023-10-16T08:57:19.845Z"
   },
   {
    "duration": 11,
    "start_time": "2023-10-16T08:57:42.768Z"
   },
   {
    "duration": 20,
    "start_time": "2023-10-16T08:58:09.040Z"
   },
   {
    "duration": 10,
    "start_time": "2023-10-16T08:59:17.983Z"
   },
   {
    "duration": 6,
    "start_time": "2023-10-16T09:06:27.635Z"
   },
   {
    "duration": 9,
    "start_time": "2023-10-16T09:06:30.946Z"
   },
   {
    "duration": 7,
    "start_time": "2023-10-16T09:06:39.392Z"
   },
   {
    "duration": 28,
    "start_time": "2023-10-16T09:08:14.556Z"
   },
   {
    "duration": 34,
    "start_time": "2023-10-16T09:08:22.520Z"
   },
   {
    "duration": 32,
    "start_time": "2023-10-16T09:08:40.223Z"
   },
   {
    "duration": 25,
    "start_time": "2023-10-16T09:08:44.879Z"
   },
   {
    "duration": 25,
    "start_time": "2023-10-16T09:08:52.459Z"
   },
   {
    "duration": 52,
    "start_time": "2023-10-16T09:10:01.811Z"
   },
   {
    "duration": 10,
    "start_time": "2023-10-16T09:12:23.080Z"
   },
   {
    "duration": 21,
    "start_time": "2023-10-16T09:12:27.117Z"
   },
   {
    "duration": 10,
    "start_time": "2023-10-16T09:12:33.976Z"
   },
   {
    "duration": 39,
    "start_time": "2023-10-16T09:12:42.128Z"
   },
   {
    "duration": 16,
    "start_time": "2023-10-16T09:13:03.219Z"
   },
   {
    "duration": 3,
    "start_time": "2023-10-16T09:13:33.467Z"
   },
   {
    "duration": 3,
    "start_time": "2023-10-16T09:13:35.721Z"
   },
   {
    "duration": 43,
    "start_time": "2023-10-16T09:14:41.982Z"
   },
   {
    "duration": 42,
    "start_time": "2023-10-16T09:14:49.680Z"
   },
   {
    "duration": 58,
    "start_time": "2023-10-16T09:15:29.080Z"
   },
   {
    "duration": 66,
    "start_time": "2023-10-16T09:15:45.613Z"
   },
   {
    "duration": 373,
    "start_time": "2023-10-16T09:17:09.985Z"
   },
   {
    "duration": 295,
    "start_time": "2023-10-16T09:17:10.360Z"
   },
   {
    "duration": 23,
    "start_time": "2023-10-16T09:17:10.656Z"
   },
   {
    "duration": 61,
    "start_time": "2023-10-16T09:17:10.680Z"
   },
   {
    "duration": 21,
    "start_time": "2023-10-16T09:17:10.745Z"
   },
   {
    "duration": 26,
    "start_time": "2023-10-16T09:17:10.768Z"
   },
   {
    "duration": 16,
    "start_time": "2023-10-16T09:17:10.796Z"
   },
   {
    "duration": 18,
    "start_time": "2023-10-16T09:17:10.814Z"
   },
   {
    "duration": 80,
    "start_time": "2023-10-16T09:17:10.834Z"
   },
   {
    "duration": 31,
    "start_time": "2023-10-16T09:17:10.916Z"
   },
   {
    "duration": 26,
    "start_time": "2023-10-16T09:19:14.785Z"
   },
   {
    "duration": 26,
    "start_time": "2023-10-16T09:19:31.241Z"
   },
   {
    "duration": 33,
    "start_time": "2023-10-16T09:19:34.139Z"
   },
   {
    "duration": 62,
    "start_time": "2023-10-16T09:20:23.160Z"
   },
   {
    "duration": 70,
    "start_time": "2023-10-16T09:21:17.928Z"
   },
   {
    "duration": 8,
    "start_time": "2023-10-16T09:21:25.598Z"
   },
   {
    "duration": 9,
    "start_time": "2023-10-16T09:22:24.054Z"
   },
   {
    "duration": 43,
    "start_time": "2023-10-16T09:23:17.627Z"
   },
   {
    "duration": 29,
    "start_time": "2023-10-16T09:24:41.570Z"
   },
   {
    "duration": 2156,
    "start_time": "2023-10-16T09:29:55.700Z"
   },
   {
    "duration": 1476,
    "start_time": "2023-10-16T09:30:10.634Z"
   },
   {
    "duration": 1566,
    "start_time": "2023-10-16T09:31:24.116Z"
   },
   {
    "duration": 1807,
    "start_time": "2023-10-16T09:31:29.431Z"
   },
   {
    "duration": 1846,
    "start_time": "2023-10-16T09:31:38.658Z"
   },
   {
    "duration": 1735,
    "start_time": "2023-10-16T09:38:15.438Z"
   },
   {
    "duration": 1777,
    "start_time": "2023-10-16T09:38:22.519Z"
   },
   {
    "duration": 44,
    "start_time": "2023-10-16T15:05:05.864Z"
   },
   {
    "duration": 418,
    "start_time": "2023-10-16T15:05:10.019Z"
   },
   {
    "duration": 412,
    "start_time": "2023-10-16T15:05:10.439Z"
   },
   {
    "duration": 2,
    "start_time": "2023-10-16T15:05:10.928Z"
   },
   {
    "duration": 3,
    "start_time": "2023-10-16T15:05:15.717Z"
   },
   {
    "duration": 217,
    "start_time": "2023-10-16T15:05:15.946Z"
   },
   {
    "duration": 3,
    "start_time": "2023-10-16T15:05:16.183Z"
   },
   {
    "duration": 199,
    "start_time": "2023-10-16T15:05:17.115Z"
   },
   {
    "duration": 134,
    "start_time": "2023-10-16T15:06:07.057Z"
   },
   {
    "duration": 3,
    "start_time": "2023-10-16T18:45:10.150Z"
   },
   {
    "duration": 2,
    "start_time": "2023-10-16T18:46:26.503Z"
   },
   {
    "duration": 47,
    "start_time": "2023-10-16T18:47:39.734Z"
   },
   {
    "duration": 7,
    "start_time": "2023-10-16T18:50:33.200Z"
   },
   {
    "duration": 41,
    "start_time": "2023-10-16T18:51:13.130Z"
   },
   {
    "duration": 6,
    "start_time": "2023-10-16T18:51:18.082Z"
   },
   {
    "duration": 5,
    "start_time": "2023-10-16T18:51:31.470Z"
   },
   {
    "duration": 8,
    "start_time": "2023-10-16T18:52:13.533Z"
   },
   {
    "duration": 3,
    "start_time": "2023-10-16T18:55:28.726Z"
   },
   {
    "duration": 92,
    "start_time": "2023-10-16T18:57:40.995Z"
   },
   {
    "duration": 27,
    "start_time": "2023-10-16T18:57:46.573Z"
   },
   {
    "duration": 3,
    "start_time": "2023-10-16T18:58:00.901Z"
   },
   {
    "duration": 4,
    "start_time": "2023-10-16T18:58:12.029Z"
   },
   {
    "duration": 4,
    "start_time": "2023-10-16T18:59:01.301Z"
   },
   {
    "duration": 4,
    "start_time": "2023-10-16T19:00:35.766Z"
   },
   {
    "duration": 12,
    "start_time": "2023-10-16T19:02:32.143Z"
   },
   {
    "duration": 3,
    "start_time": "2023-10-16T19:02:41.294Z"
   },
   {
    "duration": 4,
    "start_time": "2023-10-16T19:02:44.219Z"
   },
   {
    "duration": 5,
    "start_time": "2023-10-16T19:02:46.604Z"
   },
   {
    "duration": 4,
    "start_time": "2023-10-16T19:03:31.216Z"
   },
   {
    "duration": 4,
    "start_time": "2023-10-16T19:03:38.030Z"
   },
   {
    "duration": 4,
    "start_time": "2023-10-16T19:03:41.809Z"
   },
   {
    "duration": 4,
    "start_time": "2023-10-16T19:03:45.085Z"
   },
   {
    "duration": 5,
    "start_time": "2023-10-16T19:03:51.847Z"
   },
   {
    "duration": 4,
    "start_time": "2023-10-16T19:03:55.664Z"
   },
   {
    "duration": 5,
    "start_time": "2023-10-16T19:04:02.345Z"
   },
   {
    "duration": 5,
    "start_time": "2023-10-16T19:04:10.064Z"
   },
   {
    "duration": 5,
    "start_time": "2023-10-16T19:04:12.661Z"
   },
   {
    "duration": 4,
    "start_time": "2023-10-16T19:04:16.150Z"
   },
   {
    "duration": 7,
    "start_time": "2023-10-16T19:04:19.742Z"
   },
   {
    "duration": 3,
    "start_time": "2023-10-16T19:04:22.781Z"
   },
   {
    "duration": 3,
    "start_time": "2023-10-16T19:04:25.474Z"
   },
   {
    "duration": 4,
    "start_time": "2023-10-16T19:07:45.093Z"
   },
   {
    "duration": 3,
    "start_time": "2023-10-16T19:07:53.415Z"
   },
   {
    "duration": 4,
    "start_time": "2023-10-16T19:08:06.379Z"
   },
   {
    "duration": 3,
    "start_time": "2023-10-16T19:08:11.928Z"
   },
   {
    "duration": 4,
    "start_time": "2023-10-16T19:11:14.108Z"
   },
   {
    "duration": 47,
    "start_time": "2023-10-18T08:10:23.916Z"
   },
   {
    "duration": 416,
    "start_time": "2023-10-18T08:10:27.700Z"
   },
   {
    "duration": 445,
    "start_time": "2023-10-18T08:10:28.117Z"
   },
   {
    "duration": 3,
    "start_time": "2023-10-18T08:10:28.563Z"
   },
   {
    "duration": 214,
    "start_time": "2023-10-18T08:10:28.567Z"
   },
   {
    "duration": 27,
    "start_time": "2023-10-18T08:10:28.783Z"
   },
   {
    "duration": 143,
    "start_time": "2023-10-18T08:10:28.812Z"
   },
   {
    "duration": 18,
    "start_time": "2023-10-18T08:10:28.956Z"
   },
   {
    "duration": 6,
    "start_time": "2023-10-18T08:10:28.975Z"
   },
   {
    "duration": 72,
    "start_time": "2023-10-18T08:10:28.983Z"
   },
   {
    "duration": 30,
    "start_time": "2023-10-18T08:10:29.056Z"
   },
   {
    "duration": 2347,
    "start_time": "2023-10-18T08:10:29.087Z"
   },
   {
    "duration": 132,
    "start_time": "2023-10-18T08:10:31.436Z"
   },
   {
    "duration": 74,
    "start_time": "2023-10-18T08:10:31.569Z"
   },
   {
    "duration": 56,
    "start_time": "2023-10-18T08:10:31.646Z"
   },
   {
    "duration": 146,
    "start_time": "2023-10-18T08:11:14.219Z"
   },
   {
    "duration": 178,
    "start_time": "2023-10-18T08:11:20.895Z"
   },
   {
    "duration": 423,
    "start_time": "2023-10-18T08:11:36.664Z"
   },
   {
    "duration": 456,
    "start_time": "2023-10-18T08:11:45.117Z"
   },
   {
    "duration": 309,
    "start_time": "2023-10-18T08:11:51.059Z"
   },
   {
    "duration": 258,
    "start_time": "2023-10-18T08:11:54.466Z"
   },
   {
    "duration": 236,
    "start_time": "2023-10-18T08:12:00.767Z"
   },
   {
    "duration": 190,
    "start_time": "2023-10-18T08:12:06.337Z"
   },
   {
    "duration": 506,
    "start_time": "2023-10-18T08:12:11.379Z"
   },
   {
    "duration": 189,
    "start_time": "2023-10-18T08:12:13.168Z"
   },
   {
    "duration": 185,
    "start_time": "2023-10-18T08:12:40.617Z"
   },
   {
    "duration": 1370,
    "start_time": "2023-10-18T08:13:22.460Z"
   },
   {
    "duration": 121,
    "start_time": "2023-10-18T08:13:48.733Z"
   },
   {
    "duration": 119,
    "start_time": "2023-10-18T08:17:03.713Z"
   },
   {
    "duration": 125,
    "start_time": "2023-10-18T08:20:14.292Z"
   },
   {
    "duration": 118,
    "start_time": "2023-10-18T08:20:26.572Z"
   },
   {
    "duration": 124,
    "start_time": "2023-10-18T08:20:29.020Z"
   },
   {
    "duration": 138,
    "start_time": "2023-10-18T08:20:38.814Z"
   },
   {
    "duration": 239,
    "start_time": "2023-10-18T08:25:24.289Z"
   },
   {
    "duration": 141,
    "start_time": "2023-10-18T08:25:33.327Z"
   },
   {
    "duration": 120,
    "start_time": "2023-10-18T08:25:52.967Z"
   },
   {
    "duration": 7,
    "start_time": "2023-10-18T08:26:05.874Z"
   },
   {
    "duration": 7,
    "start_time": "2023-10-18T08:27:30.463Z"
   },
   {
    "duration": 75,
    "start_time": "2023-10-18T08:28:12.816Z"
   },
   {
    "duration": 29,
    "start_time": "2023-10-18T08:28:16.925Z"
   },
   {
    "duration": 12,
    "start_time": "2023-10-18T08:29:05.104Z"
   },
   {
    "duration": 75,
    "start_time": "2023-10-18T08:29:28.390Z"
   },
   {
    "duration": 4,
    "start_time": "2023-10-18T08:30:26.699Z"
   },
   {
    "duration": 25,
    "start_time": "2023-10-18T08:30:35.992Z"
   },
   {
    "duration": 16,
    "start_time": "2023-10-18T08:32:18.801Z"
   },
   {
    "duration": 49,
    "start_time": "2023-10-18T08:32:29.063Z"
   },
   {
    "duration": 29,
    "start_time": "2023-10-18T08:32:39.213Z"
   },
   {
    "duration": 28,
    "start_time": "2023-10-18T08:33:36.498Z"
   },
   {
    "duration": 25,
    "start_time": "2023-10-18T08:36:47.100Z"
   },
   {
    "duration": 18,
    "start_time": "2023-10-18T08:36:51.358Z"
   },
   {
    "duration": 18,
    "start_time": "2023-10-18T08:36:59.813Z"
   },
   {
    "duration": 30,
    "start_time": "2023-10-18T08:38:11.402Z"
   },
   {
    "duration": 53,
    "start_time": "2023-10-18T08:38:14.905Z"
   },
   {
    "duration": 15,
    "start_time": "2023-10-18T08:38:32.638Z"
   },
   {
    "duration": 130,
    "start_time": "2023-10-18T08:38:38.410Z"
   },
   {
    "duration": 19,
    "start_time": "2023-10-18T08:38:42.740Z"
   },
   {
    "duration": 13,
    "start_time": "2023-10-18T08:38:46.939Z"
   },
   {
    "duration": 12,
    "start_time": "2023-10-18T09:33:40.083Z"
   },
   {
    "duration": 35,
    "start_time": "2023-10-18T09:33:51.233Z"
   },
   {
    "duration": 31,
    "start_time": "2023-10-18T09:34:22.963Z"
   },
   {
    "duration": 54,
    "start_time": "2023-10-18T09:36:00.272Z"
   },
   {
    "duration": 55,
    "start_time": "2023-10-18T09:36:12.433Z"
   },
   {
    "duration": 29,
    "start_time": "2023-10-18T09:36:20.251Z"
   },
   {
    "duration": 34,
    "start_time": "2023-10-18T09:36:28.032Z"
   },
   {
    "duration": 32,
    "start_time": "2023-10-18T09:36:33.673Z"
   },
   {
    "duration": 18,
    "start_time": "2023-10-18T09:36:40.552Z"
   },
   {
    "duration": 25,
    "start_time": "2023-10-18T09:37:16.672Z"
   },
   {
    "duration": 45,
    "start_time": "2023-10-18T09:38:21.403Z"
   },
   {
    "duration": 31,
    "start_time": "2023-10-18T09:40:15.259Z"
   },
   {
    "duration": 1562,
    "start_time": "2023-10-18T09:40:22.190Z"
   },
   {
    "duration": 1921,
    "start_time": "2023-10-18T09:40:43.271Z"
   },
   {
    "duration": 174,
    "start_time": "2023-10-18T09:40:48.671Z"
   },
   {
    "duration": 5,
    "start_time": "2023-10-18T10:33:02.841Z"
   },
   {
    "duration": 3,
    "start_time": "2023-10-18T10:33:40.332Z"
   },
   {
    "duration": 67,
    "start_time": "2023-10-18T13:26:04.920Z"
   },
   {
    "duration": 447,
    "start_time": "2023-10-18T13:26:09.098Z"
   },
   {
    "duration": 1479,
    "start_time": "2023-10-18T13:26:09.547Z"
   },
   {
    "duration": 4,
    "start_time": "2023-10-18T13:26:11.028Z"
   },
   {
    "duration": 268,
    "start_time": "2023-10-18T13:26:11.034Z"
   },
   {
    "duration": 21,
    "start_time": "2023-10-18T13:26:11.306Z"
   },
   {
    "duration": 198,
    "start_time": "2023-10-18T13:26:11.329Z"
   },
   {
    "duration": 41,
    "start_time": "2023-10-18T13:26:11.529Z"
   },
   {
    "duration": 9,
    "start_time": "2023-10-18T13:26:11.576Z"
   },
   {
    "duration": 56,
    "start_time": "2023-10-18T13:26:11.589Z"
   },
   {
    "duration": 51,
    "start_time": "2023-10-18T13:26:11.647Z"
   },
   {
    "duration": 2921,
    "start_time": "2023-10-18T13:26:11.700Z"
   },
   {
    "duration": 19,
    "start_time": "2023-10-18T13:26:14.623Z"
   },
   {
    "duration": 195,
    "start_time": "2023-10-18T13:26:14.644Z"
   },
   {
    "duration": 44,
    "start_time": "2023-10-18T13:26:14.843Z"
   },
   {
    "duration": 30,
    "start_time": "2023-10-18T13:26:14.889Z"
   },
   {
    "duration": 176,
    "start_time": "2023-10-18T13:26:14.922Z"
   },
   {
    "duration": 6,
    "start_time": "2023-10-18T13:26:15.099Z"
   },
   {
    "duration": 93,
    "start_time": "2023-10-18T13:26:15.107Z"
   },
   {
    "duration": 4,
    "start_time": "2023-10-18T13:26:15.201Z"
   },
   {
    "duration": 12,
    "start_time": "2023-10-18T13:26:15.207Z"
   },
   {
    "duration": 455,
    "start_time": "2023-10-20T15:35:33.584Z"
   },
   {
    "duration": 553,
    "start_time": "2023-10-20T15:35:34.042Z"
   },
   {
    "duration": 4,
    "start_time": "2023-10-20T15:35:34.597Z"
   },
   {
    "duration": 331,
    "start_time": "2023-10-20T15:35:34.604Z"
   },
   {
    "duration": 22,
    "start_time": "2023-10-20T15:35:34.937Z"
   },
   {
    "duration": 200,
    "start_time": "2023-10-20T15:35:34.962Z"
   },
   {
    "duration": 22,
    "start_time": "2023-10-20T15:35:35.163Z"
   },
   {
    "duration": 47,
    "start_time": "2023-10-20T15:35:35.201Z"
   },
   {
    "duration": 163,
    "start_time": "2023-10-20T15:35:35.250Z"
   },
   {
    "duration": 47,
    "start_time": "2023-10-20T15:35:35.416Z"
   },
   {
    "duration": 2946,
    "start_time": "2023-10-20T15:35:35.465Z"
   },
   {
    "duration": 22,
    "start_time": "2023-10-20T15:35:38.413Z"
   },
   {
    "duration": 272,
    "start_time": "2023-10-20T15:35:38.438Z"
   },
   {
    "duration": 36,
    "start_time": "2023-10-20T15:35:38.712Z"
   },
   {
    "duration": 84,
    "start_time": "2023-10-20T15:35:38.750Z"
   },
   {
    "duration": 209,
    "start_time": "2023-10-20T15:35:38.837Z"
   },
   {
    "duration": 7,
    "start_time": "2023-10-20T15:35:39.047Z"
   },
   {
    "duration": 90,
    "start_time": "2023-10-20T15:35:39.057Z"
   },
   {
    "duration": 5,
    "start_time": "2023-10-20T15:35:39.149Z"
   },
   {
    "duration": 43,
    "start_time": "2023-10-20T15:35:39.156Z"
   },
   {
    "duration": 83,
    "start_time": "2023-10-20T15:48:00.472Z"
   },
   {
    "duration": 100,
    "start_time": "2023-10-20T15:48:15.279Z"
   },
   {
    "duration": 4,
    "start_time": "2023-10-20T15:48:19.949Z"
   },
   {
    "duration": 132,
    "start_time": "2023-10-20T15:51:40.958Z"
   },
   {
    "duration": 4,
    "start_time": "2023-10-20T15:51:48.155Z"
   },
   {
    "duration": 118,
    "start_time": "2023-10-20T15:52:11.600Z"
   },
   {
    "duration": 2,
    "start_time": "2023-10-20T15:52:17.394Z"
   },
   {
    "duration": 4,
    "start_time": "2023-10-20T15:52:19.825Z"
   },
   {
    "duration": 4,
    "start_time": "2023-10-20T15:52:32.103Z"
   },
   {
    "duration": 4,
    "start_time": "2023-10-20T15:52:35.333Z"
   },
   {
    "duration": 75,
    "start_time": "2023-10-20T15:52:51.889Z"
   },
   {
    "duration": 4,
    "start_time": "2023-10-20T15:52:56.608Z"
   },
   {
    "duration": 4,
    "start_time": "2023-10-20T15:53:00.099Z"
   },
   {
    "duration": 4,
    "start_time": "2023-10-20T15:53:24.247Z"
   },
   {
    "duration": 4,
    "start_time": "2023-10-20T15:53:39.553Z"
   },
   {
    "duration": 7,
    "start_time": "2023-10-20T15:54:06.014Z"
   },
   {
    "duration": 3,
    "start_time": "2023-10-20T15:54:10.182Z"
   },
   {
    "duration": 5,
    "start_time": "2023-10-20T15:54:15.508Z"
   },
   {
    "duration": 4,
    "start_time": "2023-10-20T15:54:18.239Z"
   },
   {
    "duration": 5,
    "start_time": "2023-10-20T15:54:20.032Z"
   },
   {
    "duration": 4,
    "start_time": "2023-10-20T15:54:22.126Z"
   },
   {
    "duration": 5,
    "start_time": "2023-10-20T15:56:16.669Z"
   },
   {
    "duration": 4,
    "start_time": "2023-10-20T15:56:27.120Z"
   },
   {
    "duration": 4,
    "start_time": "2023-10-20T15:59:17.343Z"
   },
   {
    "duration": 93,
    "start_time": "2023-10-20T16:00:09.389Z"
   },
   {
    "duration": 120,
    "start_time": "2023-10-20T16:00:13.604Z"
   },
   {
    "duration": 183,
    "start_time": "2023-10-20T16:00:30.099Z"
   },
   {
    "duration": 4,
    "start_time": "2023-10-20T16:00:39.063Z"
   },
   {
    "duration": 4,
    "start_time": "2023-10-20T16:01:56.587Z"
   },
   {
    "duration": 4,
    "start_time": "2023-10-20T16:02:13.310Z"
   },
   {
    "duration": 79,
    "start_time": "2023-10-20T17:52:39.405Z"
   },
   {
    "duration": 5,
    "start_time": "2023-10-20T17:52:45.095Z"
   },
   {
    "duration": 5,
    "start_time": "2023-10-20T17:53:24.406Z"
   },
   {
    "duration": 8,
    "start_time": "2023-10-20T17:54:01.642Z"
   },
   {
    "duration": 11,
    "start_time": "2023-10-20T17:54:27.597Z"
   },
   {
    "duration": 6,
    "start_time": "2023-10-20T17:54:48.355Z"
   },
   {
    "duration": 12,
    "start_time": "2023-10-20T17:54:50.786Z"
   },
   {
    "duration": 5,
    "start_time": "2023-10-20T17:56:04.020Z"
   },
   {
    "duration": 11,
    "start_time": "2023-10-20T17:56:04.810Z"
   },
   {
    "duration": 5,
    "start_time": "2023-10-20T17:56:13.856Z"
   },
   {
    "duration": 4,
    "start_time": "2023-10-20T17:56:14.277Z"
   },
   {
    "duration": 14,
    "start_time": "2023-10-20T17:56:22.022Z"
   },
   {
    "duration": 6,
    "start_time": "2023-10-20T17:56:27.422Z"
   },
   {
    "duration": 11,
    "start_time": "2023-10-20T17:56:27.615Z"
   },
   {
    "duration": 5,
    "start_time": "2023-10-20T17:58:05.974Z"
   },
   {
    "duration": 5,
    "start_time": "2023-10-20T17:58:31.622Z"
   },
   {
    "duration": 5,
    "start_time": "2023-10-20T17:59:05.726Z"
   },
   {
    "duration": 5,
    "start_time": "2023-10-20T17:59:05.974Z"
   },
   {
    "duration": 5,
    "start_time": "2023-10-20T18:02:11.949Z"
   },
   {
    "duration": 4,
    "start_time": "2023-10-20T18:02:12.361Z"
   },
   {
    "duration": 11,
    "start_time": "2023-10-20T18:02:27.975Z"
   },
   {
    "duration": 4,
    "start_time": "2023-10-20T18:08:54.368Z"
   },
   {
    "duration": 87,
    "start_time": "2023-10-20T18:09:18.987Z"
   },
   {
    "duration": 4,
    "start_time": "2023-10-20T18:09:30.238Z"
   },
   {
    "duration": 5,
    "start_time": "2023-10-20T18:09:33.230Z"
   },
   {
    "duration": 5,
    "start_time": "2023-10-20T18:09:33.414Z"
   },
   {
    "duration": 6,
    "start_time": "2023-10-20T18:10:19.097Z"
   },
   {
    "duration": 11,
    "start_time": "2023-10-20T18:10:19.447Z"
   },
   {
    "duration": 5,
    "start_time": "2023-10-20T18:16:06.064Z"
   },
   {
    "duration": 11,
    "start_time": "2023-10-20T18:16:07.181Z"
   },
   {
    "duration": 10,
    "start_time": "2023-10-20T18:16:15.843Z"
   },
   {
    "duration": 2,
    "start_time": "2023-10-20T18:18:07.220Z"
   },
   {
    "duration": 5,
    "start_time": "2023-10-20T18:18:16.378Z"
   },
   {
    "duration": 11,
    "start_time": "2023-10-20T18:18:17.403Z"
   },
   {
    "duration": 6,
    "start_time": "2023-10-20T18:18:31.222Z"
   },
   {
    "duration": 11,
    "start_time": "2023-10-20T18:18:31.683Z"
   },
   {
    "duration": 4,
    "start_time": "2023-10-20T18:19:32.745Z"
   },
   {
    "duration": 3,
    "start_time": "2023-10-20T18:19:33.123Z"
   },
   {
    "duration": 3,
    "start_time": "2023-10-20T18:19:35.975Z"
   },
   {
    "duration": 6,
    "start_time": "2023-10-20T18:19:49.472Z"
   },
   {
    "duration": 10,
    "start_time": "2023-10-20T18:19:49.691Z"
   },
   {
    "duration": 10,
    "start_time": "2023-10-20T18:20:40.792Z"
   },
   {
    "duration": 11,
    "start_time": "2023-10-20T18:20:50.438Z"
   },
   {
    "duration": 10,
    "start_time": "2023-10-20T18:20:52.605Z"
   },
   {
    "duration": 11,
    "start_time": "2023-10-20T18:21:12.839Z"
   },
   {
    "duration": 5,
    "start_time": "2023-10-20T18:21:55.983Z"
   },
   {
    "duration": 10,
    "start_time": "2023-10-20T18:21:56.306Z"
   },
   {
    "duration": 4,
    "start_time": "2023-10-20T18:22:07.748Z"
   },
   {
    "duration": 82,
    "start_time": "2023-10-20T18:23:02.984Z"
   },
   {
    "duration": 5,
    "start_time": "2023-10-20T18:23:12.484Z"
   },
   {
    "duration": 3,
    "start_time": "2023-10-20T18:23:13.687Z"
   },
   {
    "duration": 3,
    "start_time": "2023-10-20T18:23:15.815Z"
   },
   {
    "duration": 5,
    "start_time": "2023-10-20T18:23:28.978Z"
   },
   {
    "duration": 5,
    "start_time": "2023-10-20T18:23:29.571Z"
   },
   {
    "duration": 5,
    "start_time": "2023-10-20T18:23:32.550Z"
   },
   {
    "duration": 5,
    "start_time": "2023-10-20T18:24:54.621Z"
   },
   {
    "duration": 6,
    "start_time": "2023-10-20T18:25:33.735Z"
   },
   {
    "duration": 3,
    "start_time": "2023-10-20T18:25:33.915Z"
   },
   {
    "duration": 3,
    "start_time": "2023-10-20T18:25:36.295Z"
   },
   {
    "duration": 4,
    "start_time": "2023-10-20T18:25:48.166Z"
   },
   {
    "duration": 4,
    "start_time": "2023-10-20T18:25:57.537Z"
   },
   {
    "duration": 4,
    "start_time": "2023-10-20T18:26:27.976Z"
   },
   {
    "duration": 4,
    "start_time": "2023-10-20T18:26:32.422Z"
   },
   {
    "duration": 5,
    "start_time": "2023-10-20T18:28:12.054Z"
   },
   {
    "duration": 6,
    "start_time": "2023-10-20T18:28:12.397Z"
   },
   {
    "duration": 5,
    "start_time": "2023-10-20T18:28:46.330Z"
   },
   {
    "duration": 4,
    "start_time": "2023-10-20T18:28:46.699Z"
   },
   {
    "duration": 5,
    "start_time": "2023-10-20T18:28:58.943Z"
   },
   {
    "duration": 6,
    "start_time": "2023-10-20T18:29:06.713Z"
   },
   {
    "duration": 5,
    "start_time": "2023-10-20T18:29:49.543Z"
   },
   {
    "duration": 4,
    "start_time": "2023-10-20T18:30:05.027Z"
   },
   {
    "duration": 5,
    "start_time": "2023-10-20T18:30:05.369Z"
   },
   {
    "duration": 6,
    "start_time": "2023-10-20T18:30:06.191Z"
   },
   {
    "duration": 5,
    "start_time": "2023-10-20T18:30:20.268Z"
   },
   {
    "duration": 5,
    "start_time": "2023-10-20T18:30:31.429Z"
   },
   {
    "duration": 5,
    "start_time": "2023-10-20T18:31:20.578Z"
   },
   {
    "duration": 3,
    "start_time": "2023-10-20T18:31:20.844Z"
   },
   {
    "duration": 2,
    "start_time": "2023-10-20T18:31:25.346Z"
   },
   {
    "duration": 5,
    "start_time": "2023-10-20T18:31:46.154Z"
   },
   {
    "duration": 3,
    "start_time": "2023-10-20T18:31:46.371Z"
   },
   {
    "duration": 5,
    "start_time": "2023-10-20T18:32:15.483Z"
   },
   {
    "duration": 5,
    "start_time": "2023-10-20T18:32:15.803Z"
   },
   {
    "duration": 5,
    "start_time": "2023-10-20T18:32:23.111Z"
   },
   {
    "duration": 4,
    "start_time": "2023-10-20T18:32:26.863Z"
   },
   {
    "duration": 5,
    "start_time": "2023-10-20T18:32:43.282Z"
   },
   {
    "duration": 5,
    "start_time": "2023-10-20T18:32:47.209Z"
   },
   {
    "duration": 5,
    "start_time": "2023-10-20T18:32:51.793Z"
   },
   {
    "duration": 5,
    "start_time": "2023-10-20T18:34:05.502Z"
   },
   {
    "duration": 4,
    "start_time": "2023-10-20T18:34:05.889Z"
   },
   {
    "duration": 4,
    "start_time": "2023-10-20T18:34:15.148Z"
   },
   {
    "duration": 4,
    "start_time": "2023-10-20T18:34:15.347Z"
   },
   {
    "duration": 5,
    "start_time": "2023-10-20T18:34:36.250Z"
   },
   {
    "duration": 5,
    "start_time": "2023-10-20T18:34:36.716Z"
   },
   {
    "duration": 5,
    "start_time": "2023-10-20T18:35:46.987Z"
   },
   {
    "duration": 4,
    "start_time": "2023-10-20T18:35:47.301Z"
   },
   {
    "duration": 6,
    "start_time": "2023-10-20T18:35:51.697Z"
   },
   {
    "duration": 3,
    "start_time": "2023-10-20T18:35:54.212Z"
   },
   {
    "duration": 5,
    "start_time": "2023-10-20T18:36:20.771Z"
   },
   {
    "duration": 5,
    "start_time": "2023-10-20T18:36:21.191Z"
   },
   {
    "duration": 4,
    "start_time": "2023-10-20T18:36:47.459Z"
   },
   {
    "duration": 5,
    "start_time": "2023-10-20T18:36:52.513Z"
   },
   {
    "duration": 7,
    "start_time": "2023-10-20T18:38:12.780Z"
   },
   {
    "duration": 5,
    "start_time": "2023-10-20T18:38:15.127Z"
   },
   {
    "duration": 5,
    "start_time": "2023-10-20T18:39:58.497Z"
   },
   {
    "duration": 4,
    "start_time": "2023-10-20T18:39:59.496Z"
   },
   {
    "duration": 7,
    "start_time": "2023-10-20T18:40:08.709Z"
   },
   {
    "duration": 4,
    "start_time": "2023-10-20T18:40:09.199Z"
   },
   {
    "duration": 5,
    "start_time": "2023-10-20T18:40:22.549Z"
   },
   {
    "duration": 4,
    "start_time": "2023-10-20T18:40:22.812Z"
   },
   {
    "duration": 5,
    "start_time": "2023-10-20T18:41:22.257Z"
   },
   {
    "duration": 4,
    "start_time": "2023-10-20T18:41:22.808Z"
   },
   {
    "duration": 5,
    "start_time": "2023-10-20T18:41:25.968Z"
   },
   {
    "duration": 4,
    "start_time": "2023-10-20T18:41:26.244Z"
   },
   {
    "duration": 133,
    "start_time": "2023-10-20T18:41:51.884Z"
   },
   {
    "duration": 9,
    "start_time": "2023-10-20T18:41:52.304Z"
   },
   {
    "duration": 5,
    "start_time": "2023-10-20T18:41:58.294Z"
   },
   {
    "duration": 5,
    "start_time": "2023-10-20T18:42:00.516Z"
   },
   {
    "duration": 6,
    "start_time": "2023-10-20T18:42:38.274Z"
   },
   {
    "duration": 5,
    "start_time": "2023-10-20T18:42:38.631Z"
   },
   {
    "duration": 5,
    "start_time": "2023-10-20T18:42:57.249Z"
   },
   {
    "duration": 4,
    "start_time": "2023-10-20T18:42:58.409Z"
   },
   {
    "duration": 5,
    "start_time": "2023-10-20T18:43:04.652Z"
   },
   {
    "duration": 4,
    "start_time": "2023-10-20T18:43:05.037Z"
   },
   {
    "duration": 5,
    "start_time": "2023-10-20T18:43:32.762Z"
   },
   {
    "duration": 5,
    "start_time": "2023-10-20T18:43:33.253Z"
   },
   {
    "duration": 3,
    "start_time": "2023-10-20T18:43:36.927Z"
   },
   {
    "duration": 5,
    "start_time": "2023-10-20T18:43:52.219Z"
   },
   {
    "duration": 5,
    "start_time": "2023-10-20T18:43:52.669Z"
   },
   {
    "duration": 5,
    "start_time": "2023-10-20T18:43:55.874Z"
   },
   {
    "duration": 3,
    "start_time": "2023-10-20T18:43:58.874Z"
   },
   {
    "duration": 4,
    "start_time": "2023-10-20T18:44:03.656Z"
   },
   {
    "duration": 4,
    "start_time": "2023-10-20T18:44:11.663Z"
   },
   {
    "duration": 5,
    "start_time": "2023-10-20T18:44:31.032Z"
   },
   {
    "duration": 4,
    "start_time": "2023-10-20T18:44:31.385Z"
   },
   {
    "duration": 5,
    "start_time": "2023-10-20T18:44:44.218Z"
   },
   {
    "duration": 4,
    "start_time": "2023-10-20T18:45:21.631Z"
   },
   {
    "duration": 15,
    "start_time": "2023-10-20T18:48:04.136Z"
   },
   {
    "duration": 1263,
    "start_time": "2023-10-20T18:50:16.091Z"
   },
   {
    "duration": 14,
    "start_time": "2023-10-20T18:51:39.737Z"
   },
   {
    "duration": 1290,
    "start_time": "2023-10-20T18:53:35.168Z"
   },
   {
    "duration": 15,
    "start_time": "2023-10-20T18:54:07.034Z"
   },
   {
    "duration": 426,
    "start_time": "2023-10-25T18:04:06.987Z"
   },
   {
    "duration": 1142,
    "start_time": "2023-10-25T18:04:07.415Z"
   },
   {
    "duration": 3,
    "start_time": "2023-10-25T18:04:08.559Z"
   },
   {
    "duration": 235,
    "start_time": "2023-10-25T18:04:08.564Z"
   },
   {
    "duration": 21,
    "start_time": "2023-10-25T18:04:08.802Z"
   },
   {
    "duration": 183,
    "start_time": "2023-10-25T18:04:08.825Z"
   },
   {
    "duration": 20,
    "start_time": "2023-10-25T18:04:09.010Z"
   },
   {
    "duration": 2,
    "start_time": "2023-10-25T18:04:09.032Z"
   },
   {
    "duration": 73,
    "start_time": "2023-10-25T18:04:09.036Z"
   },
   {
    "duration": 33,
    "start_time": "2023-10-25T18:04:09.111Z"
   },
   {
    "duration": 2548,
    "start_time": "2023-10-25T18:04:09.146Z"
   },
   {
    "duration": 19,
    "start_time": "2023-10-25T18:04:11.696Z"
   },
   {
    "duration": 145,
    "start_time": "2023-10-25T18:04:11.716Z"
   },
   {
    "duration": 26,
    "start_time": "2023-10-25T18:04:11.867Z"
   },
   {
    "duration": 31,
    "start_time": "2023-10-25T18:04:11.894Z"
   },
   {
    "duration": 157,
    "start_time": "2023-10-25T18:04:11.927Z"
   },
   {
    "duration": 6,
    "start_time": "2023-10-25T18:04:12.085Z"
   },
   {
    "duration": 90,
    "start_time": "2023-10-25T18:04:12.093Z"
   },
   {
    "duration": 4,
    "start_time": "2023-10-25T18:04:12.185Z"
   },
   {
    "duration": 15,
    "start_time": "2023-10-25T18:04:12.190Z"
   },
   {
    "duration": 92,
    "start_time": "2023-10-25T18:04:12.206Z"
   },
   {
    "duration": 19,
    "start_time": "2023-10-25T18:05:20.714Z"
   },
   {
    "duration": 4,
    "start_time": "2023-10-25T18:05:50.589Z"
   },
   {
    "duration": 17,
    "start_time": "2023-10-25T18:05:51.295Z"
   },
   {
    "duration": 5,
    "start_time": "2023-10-25T18:05:57.204Z"
   },
   {
    "duration": 13,
    "start_time": "2023-10-25T18:05:57.413Z"
   },
   {
    "duration": 4,
    "start_time": "2023-10-25T18:06:20.453Z"
   },
   {
    "duration": 19,
    "start_time": "2023-10-25T18:06:20.684Z"
   },
   {
    "duration": 6,
    "start_time": "2023-10-25T18:06:55.905Z"
   },
   {
    "duration": 6,
    "start_time": "2023-10-25T18:07:05.782Z"
   },
   {
    "duration": 4,
    "start_time": "2023-10-25T18:07:26.108Z"
   },
   {
    "duration": 5,
    "start_time": "2023-10-25T18:08:01.003Z"
   },
   {
    "duration": 5,
    "start_time": "2023-10-25T18:08:05.480Z"
   },
   {
    "duration": 85,
    "start_time": "2023-10-25T18:08:08.913Z"
   },
   {
    "duration": 4,
    "start_time": "2023-10-25T18:08:12.491Z"
   },
   {
    "duration": 5,
    "start_time": "2023-10-25T18:08:27.087Z"
   },
   {
    "duration": 5,
    "start_time": "2023-10-25T18:08:43.591Z"
   },
   {
    "duration": 5,
    "start_time": "2023-10-25T18:10:02.235Z"
   },
   {
    "duration": 19,
    "start_time": "2023-10-25T18:10:13.021Z"
   },
   {
    "duration": 17,
    "start_time": "2023-10-25T18:10:32.310Z"
   },
   {
    "duration": 5,
    "start_time": "2023-10-25T18:11:22.732Z"
   },
   {
    "duration": 5,
    "start_time": "2023-10-25T18:11:23.212Z"
   },
   {
    "duration": 13,
    "start_time": "2023-10-25T18:11:24.254Z"
   },
   {
    "duration": 5,
    "start_time": "2023-10-25T18:11:37.743Z"
   },
   {
    "duration": 5,
    "start_time": "2023-10-25T18:11:38.396Z"
   },
   {
    "duration": 13,
    "start_time": "2023-10-25T18:11:39.134Z"
   },
   {
    "duration": 6,
    "start_time": "2023-10-25T18:11:43.451Z"
   },
   {
    "duration": 5,
    "start_time": "2023-10-25T18:11:44.054Z"
   },
   {
    "duration": 15,
    "start_time": "2023-10-25T18:11:44.897Z"
   },
   {
    "duration": 9,
    "start_time": "2023-10-25T18:20:31.536Z"
   },
   {
    "duration": 4,
    "start_time": "2023-10-25T18:20:49.736Z"
   },
   {
    "duration": 1977,
    "start_time": "2023-10-25T18:20:59.129Z"
   },
   {
    "duration": 1215,
    "start_time": "2023-10-25T18:21:46.296Z"
   },
   {
    "duration": 1337,
    "start_time": "2023-10-25T18:22:10.804Z"
   },
   {
    "duration": 287,
    "start_time": "2023-10-25T18:22:37.999Z"
   },
   {
    "duration": 341,
    "start_time": "2023-10-25T18:23:54.418Z"
   },
   {
    "duration": 414,
    "start_time": "2023-10-30T07:54:02.069Z"
   },
   {
    "duration": 419,
    "start_time": "2023-10-30T07:54:02.485Z"
   },
   {
    "duration": 2,
    "start_time": "2023-10-30T07:54:02.906Z"
   },
   {
    "duration": 163,
    "start_time": "2023-10-30T07:54:02.910Z"
   },
   {
    "duration": 17,
    "start_time": "2023-10-30T07:54:03.075Z"
   },
   {
    "duration": 185,
    "start_time": "2023-10-30T07:54:03.094Z"
   },
   {
    "duration": 19,
    "start_time": "2023-10-30T07:54:03.281Z"
   },
   {
    "duration": 9,
    "start_time": "2023-10-30T07:54:03.301Z"
   },
   {
    "duration": 53,
    "start_time": "2023-10-30T07:54:03.312Z"
   },
   {
    "duration": 27,
    "start_time": "2023-10-30T07:54:03.366Z"
   },
   {
    "duration": 2131,
    "start_time": "2023-10-30T07:54:03.394Z"
   },
   {
    "duration": 14,
    "start_time": "2023-10-30T07:54:05.527Z"
   },
   {
    "duration": 128,
    "start_time": "2023-10-30T07:54:05.543Z"
   },
   {
    "duration": 22,
    "start_time": "2023-10-30T07:54:05.674Z"
   },
   {
    "duration": 42,
    "start_time": "2023-10-30T07:54:05.698Z"
   },
   {
    "duration": 124,
    "start_time": "2023-10-30T07:54:05.742Z"
   },
   {
    "duration": 6,
    "start_time": "2023-10-30T07:54:05.868Z"
   },
   {
    "duration": 72,
    "start_time": "2023-10-30T07:54:05.876Z"
   },
   {
    "duration": 4,
    "start_time": "2023-10-30T07:54:05.949Z"
   },
   {
    "duration": 6,
    "start_time": "2023-10-30T07:54:05.954Z"
   },
   {
    "duration": 14,
    "start_time": "2023-10-30T07:54:05.961Z"
   },
   {
    "duration": 94,
    "start_time": "2023-10-30T07:54:05.977Z"
   },
   {
    "duration": 96,
    "start_time": "2023-10-30T07:54:27.475Z"
   },
   {
    "duration": 2,
    "start_time": "2023-10-30T07:54:53.711Z"
   },
   {
    "duration": 104,
    "start_time": "2023-10-30T07:55:01.939Z"
   },
   {
    "duration": 510,
    "start_time": "2023-10-30T07:55:19.931Z"
   },
   {
    "duration": 122,
    "start_time": "2023-10-30T07:55:33.624Z"
   },
   {
    "duration": 2059,
    "start_time": "2023-10-30T07:55:43.684Z"
   },
   {
    "duration": 675,
    "start_time": "2023-10-30T07:56:16.613Z"
   },
   {
    "duration": 74,
    "start_time": "2023-10-30T07:56:26.053Z"
   },
   {
    "duration": 2184,
    "start_time": "2023-10-30T07:56:30.638Z"
   },
   {
    "duration": 1975,
    "start_time": "2023-10-30T07:56:44.159Z"
   },
   {
    "duration": 2055,
    "start_time": "2023-10-30T07:56:55.476Z"
   },
   {
    "duration": 1959,
    "start_time": "2023-10-30T07:57:08.398Z"
   },
   {
    "duration": 2088,
    "start_time": "2023-10-30T07:57:21.573Z"
   },
   {
    "duration": 2090,
    "start_time": "2023-10-30T07:57:29.270Z"
   },
   {
    "duration": 2006,
    "start_time": "2023-10-30T08:01:32.767Z"
   },
   {
    "duration": 2073,
    "start_time": "2023-10-30T08:01:43.426Z"
   },
   {
    "duration": 1976,
    "start_time": "2023-10-30T08:02:26.472Z"
   },
   {
    "duration": 5,
    "start_time": "2023-10-30T08:17:00.272Z"
   },
   {
    "duration": 5,
    "start_time": "2023-10-30T08:17:19.946Z"
   },
   {
    "duration": 4,
    "start_time": "2023-10-30T08:40:23.533Z"
   },
   {
    "duration": 5,
    "start_time": "2023-10-30T08:40:24.437Z"
   },
   {
    "duration": 27,
    "start_time": "2023-10-30T08:40:29.959Z"
   },
   {
    "duration": 3,
    "start_time": "2023-10-30T08:55:45.356Z"
   },
   {
    "duration": 4,
    "start_time": "2023-10-30T08:55:45.537Z"
   },
   {
    "duration": 4,
    "start_time": "2023-10-30T08:56:07.207Z"
   },
   {
    "duration": 17,
    "start_time": "2023-10-30T08:56:07.731Z"
   },
   {
    "duration": 11,
    "start_time": "2023-10-30T08:56:39.276Z"
   },
   {
    "duration": 3,
    "start_time": "2023-10-30T13:33:35.402Z"
   },
   {
    "duration": 3,
    "start_time": "2023-10-30T13:33:35.693Z"
   },
   {
    "duration": 1611,
    "start_time": "2023-10-30T13:34:18.981Z"
   },
   {
    "duration": 3,
    "start_time": "2023-10-30T13:35:04.126Z"
   },
   {
    "duration": 2236,
    "start_time": "2023-10-30T13:35:06.863Z"
   },
   {
    "duration": 2,
    "start_time": "2023-10-30T13:36:00.044Z"
   },
   {
    "duration": 420,
    "start_time": "2023-10-30T13:36:02.420Z"
   },
   {
    "duration": 4,
    "start_time": "2023-10-30T13:36:15.485Z"
   },
   {
    "duration": 8,
    "start_time": "2023-10-30T13:37:03.804Z"
   },
   {
    "duration": 7,
    "start_time": "2023-10-30T13:42:27.682Z"
   },
   {
    "duration": 3,
    "start_time": "2023-10-30T13:42:37.169Z"
   },
   {
    "duration": 9,
    "start_time": "2023-10-30T13:42:51.129Z"
   },
   {
    "duration": 3,
    "start_time": "2023-10-30T13:42:55.848Z"
   },
   {
    "duration": 2,
    "start_time": "2023-10-30T13:42:56.113Z"
   },
   {
    "duration": 8,
    "start_time": "2023-10-30T13:42:58.384Z"
   },
   {
    "duration": 3,
    "start_time": "2023-10-30T13:43:01.695Z"
   },
   {
    "duration": 405,
    "start_time": "2023-10-30T13:43:03.793Z"
   },
   {
    "duration": 16,
    "start_time": "2023-10-30T13:44:13.304Z"
   },
   {
    "duration": 387,
    "start_time": "2023-10-30T13:44:17.983Z"
   },
   {
    "duration": 3,
    "start_time": "2023-10-30T13:44:58.297Z"
   },
   {
    "duration": 389,
    "start_time": "2023-10-30T13:45:04.278Z"
   },
   {
    "duration": 9,
    "start_time": "2023-10-30T13:46:35.073Z"
   },
   {
    "duration": 3,
    "start_time": "2023-10-30T13:47:09.091Z"
   },
   {
    "duration": 16,
    "start_time": "2023-10-30T13:48:09.384Z"
   },
   {
    "duration": 3,
    "start_time": "2023-10-30T13:48:38.004Z"
   },
   {
    "duration": 2,
    "start_time": "2023-10-30T13:48:43.588Z"
   },
   {
    "duration": 1187,
    "start_time": "2023-10-30T13:48:44.712Z"
   },
   {
    "duration": 1192,
    "start_time": "2023-10-30T13:49:28.200Z"
   },
   {
    "duration": 1216,
    "start_time": "2023-10-30T13:49:33.706Z"
   },
   {
    "duration": 1212,
    "start_time": "2023-10-30T13:49:54.585Z"
   },
   {
    "duration": 1205,
    "start_time": "2023-10-30T13:49:59.029Z"
   },
   {
    "duration": 1275,
    "start_time": "2023-10-30T13:50:01.617Z"
   },
   {
    "duration": 1215,
    "start_time": "2023-10-30T13:50:16.745Z"
   },
   {
    "duration": 17,
    "start_time": "2023-10-30T13:50:41.797Z"
   },
   {
    "duration": 3,
    "start_time": "2023-10-30T13:50:44.297Z"
   },
   {
    "duration": 10,
    "start_time": "2023-10-30T13:50:44.775Z"
   },
   {
    "duration": 3,
    "start_time": "2023-10-30T13:50:46.903Z"
   },
   {
    "duration": 2,
    "start_time": "2023-10-30T13:50:47.102Z"
   },
   {
    "duration": 3,
    "start_time": "2023-10-30T13:50:47.384Z"
   },
   {
    "duration": 1209,
    "start_time": "2023-10-30T13:50:48.553Z"
   },
   {
    "duration": 1210,
    "start_time": "2023-10-30T13:51:25.800Z"
   },
   {
    "duration": 94,
    "start_time": "2023-10-30T13:51:27.012Z"
   },
   {
    "duration": 9,
    "start_time": "2023-10-30T13:51:31.353Z"
   },
   {
    "duration": 1178,
    "start_time": "2023-10-30T13:51:33.680Z"
   },
   {
    "duration": 1228,
    "start_time": "2023-10-30T13:51:42.839Z"
   },
   {
    "duration": 7,
    "start_time": "2023-10-30T13:52:43.994Z"
   },
   {
    "duration": 6,
    "start_time": "2023-10-30T13:52:55.564Z"
   },
   {
    "duration": 8,
    "start_time": "2023-10-30T13:53:02.458Z"
   },
   {
    "duration": 3,
    "start_time": "2023-10-30T13:53:41.114Z"
   },
   {
    "duration": 1337,
    "start_time": "2023-10-30T13:53:41.470Z"
   },
   {
    "duration": 8,
    "start_time": "2023-10-30T13:53:46.049Z"
   },
   {
    "duration": 1207,
    "start_time": "2023-10-30T13:53:48.273Z"
   },
   {
    "duration": 7,
    "start_time": "2023-10-30T13:53:52.255Z"
   },
   {
    "duration": 1224,
    "start_time": "2023-10-30T13:54:45.662Z"
   },
   {
    "duration": 1222,
    "start_time": "2023-10-30T13:54:51.012Z"
   },
   {
    "duration": 1215,
    "start_time": "2023-10-30T13:54:57.865Z"
   },
   {
    "duration": 3,
    "start_time": "2023-10-30T13:56:03.314Z"
   },
   {
    "duration": 20,
    "start_time": "2023-10-30T13:56:26.638Z"
   },
   {
    "duration": 4,
    "start_time": "2023-10-30T13:58:09.399Z"
   },
   {
    "duration": 1016,
    "start_time": "2023-10-30T13:58:10.603Z"
   },
   {
    "duration": 12,
    "start_time": "2023-10-30T13:58:23.052Z"
   },
   {
    "duration": 10,
    "start_time": "2023-10-30T14:00:14.518Z"
   },
   {
    "duration": 4,
    "start_time": "2023-10-30T14:00:21.763Z"
   },
   {
    "duration": 4,
    "start_time": "2023-10-30T14:01:54.789Z"
   },
   {
    "duration": 305,
    "start_time": "2023-10-30T14:29:07.490Z"
   },
   {
    "duration": 1312,
    "start_time": "2023-10-30T14:29:13.229Z"
   },
   {
    "duration": 191,
    "start_time": "2023-10-30T14:29:14.543Z"
   },
   {
    "duration": 3,
    "start_time": "2023-10-30T14:29:14.735Z"
   },
   {
    "duration": 166,
    "start_time": "2023-10-30T14:29:14.739Z"
   },
   {
    "duration": 17,
    "start_time": "2023-10-30T14:29:14.906Z"
   },
   {
    "duration": 137,
    "start_time": "2023-10-30T14:29:14.924Z"
   },
   {
    "duration": 18,
    "start_time": "2023-10-30T14:29:15.062Z"
   },
   {
    "duration": 14,
    "start_time": "2023-10-30T14:29:15.081Z"
   },
   {
    "duration": 50,
    "start_time": "2023-10-30T14:29:15.096Z"
   },
   {
    "duration": 28,
    "start_time": "2023-10-30T14:29:15.148Z"
   },
   {
    "duration": 1707,
    "start_time": "2023-10-30T14:29:15.178Z"
   },
   {
    "duration": 14,
    "start_time": "2023-10-30T14:29:16.887Z"
   },
   {
    "duration": 134,
    "start_time": "2023-10-30T14:29:16.903Z"
   },
   {
    "duration": 21,
    "start_time": "2023-10-30T14:29:17.040Z"
   },
   {
    "duration": 24,
    "start_time": "2023-10-30T14:29:17.063Z"
   },
   {
    "duration": 122,
    "start_time": "2023-10-30T14:29:17.089Z"
   },
   {
    "duration": 5,
    "start_time": "2023-10-30T14:29:17.213Z"
   },
   {
    "duration": 2059,
    "start_time": "2023-10-30T14:29:17.219Z"
   },
   {
    "duration": 18,
    "start_time": "2023-10-30T14:29:19.279Z"
   },
   {
    "duration": 29,
    "start_time": "2023-10-30T14:29:19.298Z"
   },
   {
    "duration": 26,
    "start_time": "2023-10-30T14:29:19.328Z"
   },
   {
    "duration": 13,
    "start_time": "2023-10-30T14:29:19.356Z"
   },
   {
    "duration": 26,
    "start_time": "2023-10-30T14:29:19.370Z"
   },
   {
    "duration": 42,
    "start_time": "2023-10-30T14:29:19.398Z"
   },
   {
    "duration": 1246,
    "start_time": "2023-10-30T14:29:19.441Z"
   },
   {
    "duration": 3,
    "start_time": "2023-10-30T14:29:20.689Z"
   },
   {
    "duration": 1010,
    "start_time": "2023-10-30T14:29:20.693Z"
   },
   {
    "duration": 11,
    "start_time": "2023-10-30T14:29:21.705Z"
   },
   {
    "duration": 56,
    "start_time": "2023-10-30T14:29:21.717Z"
   },
   {
    "duration": 3,
    "start_time": "2023-10-30T14:34:51.819Z"
   },
   {
    "duration": 1160,
    "start_time": "2023-10-30T14:34:52.197Z"
   },
   {
    "duration": 10,
    "start_time": "2023-10-30T14:34:53.359Z"
   },
   {
    "duration": 4,
    "start_time": "2023-10-30T14:34:55.797Z"
   },
   {
    "duration": 10,
    "start_time": "2023-10-30T14:43:54.019Z"
   },
   {
    "duration": 12,
    "start_time": "2023-10-30T14:44:17.225Z"
   },
   {
    "duration": 12,
    "start_time": "2023-10-30T14:44:52.187Z"
   },
   {
    "duration": 12,
    "start_time": "2023-10-30T14:45:03.118Z"
   },
   {
    "duration": 104,
    "start_time": "2023-10-30T14:45:18.197Z"
   },
   {
    "duration": 11,
    "start_time": "2023-10-30T14:45:42.252Z"
   },
   {
    "duration": 6,
    "start_time": "2023-10-30T14:45:42.841Z"
   },
   {
    "duration": 6,
    "start_time": "2023-10-30T14:46:00.612Z"
   },
   {
    "duration": 7,
    "start_time": "2023-10-30T14:46:59.304Z"
   },
   {
    "duration": 7,
    "start_time": "2023-10-30T14:47:02.189Z"
   },
   {
    "duration": 124,
    "start_time": "2023-10-30T14:47:14.576Z"
   },
   {
    "duration": 72,
    "start_time": "2023-10-30T14:47:32.810Z"
   },
   {
    "duration": 60,
    "start_time": "2023-10-30T14:47:36.855Z"
   },
   {
    "duration": 120,
    "start_time": "2023-10-30T14:48:05.548Z"
   },
   {
    "duration": 61,
    "start_time": "2023-10-30T14:48:08.896Z"
   },
   {
    "duration": 45,
    "start_time": "2023-10-30T16:02:40.957Z"
   },
   {
    "duration": 7,
    "start_time": "2023-10-30T16:03:49.768Z"
   },
   {
    "duration": 8,
    "start_time": "2023-10-30T16:03:54.585Z"
   },
   {
    "duration": 115,
    "start_time": "2023-10-30T16:04:05.993Z"
   },
   {
    "duration": 9,
    "start_time": "2023-10-30T16:04:17.323Z"
   },
   {
    "duration": 68,
    "start_time": "2023-10-30T16:04:20.856Z"
   },
   {
    "duration": 18,
    "start_time": "2023-10-30T16:04:24.054Z"
   },
   {
    "duration": 14,
    "start_time": "2023-10-30T16:04:39.344Z"
   },
   {
    "duration": 16,
    "start_time": "2023-10-30T16:05:13.246Z"
   },
   {
    "duration": 8,
    "start_time": "2023-10-30T16:13:58.422Z"
   },
   {
    "duration": 8,
    "start_time": "2023-10-30T16:15:34.599Z"
   },
   {
    "duration": 21,
    "start_time": "2023-10-30T16:15:50.559Z"
   },
   {
    "duration": 4,
    "start_time": "2023-10-30T17:21:34.589Z"
   },
   {
    "duration": 4,
    "start_time": "2023-10-30T17:31:15.148Z"
   },
   {
    "duration": 197,
    "start_time": "2023-10-30T17:31:16.389Z"
   },
   {
    "duration": 1368,
    "start_time": "2023-10-30T17:31:22.086Z"
   },
   {
    "duration": 199,
    "start_time": "2023-10-30T17:31:23.456Z"
   },
   {
    "duration": 4,
    "start_time": "2023-10-30T17:31:23.657Z"
   },
   {
    "duration": 172,
    "start_time": "2023-10-30T17:31:23.662Z"
   },
   {
    "duration": 17,
    "start_time": "2023-10-30T17:31:23.836Z"
   },
   {
    "duration": 128,
    "start_time": "2023-10-30T17:31:23.854Z"
   },
   {
    "duration": 16,
    "start_time": "2023-10-30T17:31:23.983Z"
   },
   {
    "duration": 74,
    "start_time": "2023-10-30T17:31:24.000Z"
   },
   {
    "duration": 46,
    "start_time": "2023-10-30T17:31:24.075Z"
   },
   {
    "duration": 28,
    "start_time": "2023-10-30T17:31:24.123Z"
   },
   {
    "duration": 1693,
    "start_time": "2023-10-30T17:31:24.152Z"
   },
   {
    "duration": 13,
    "start_time": "2023-10-30T17:31:25.847Z"
   },
   {
    "duration": 11,
    "start_time": "2023-10-30T17:31:25.861Z"
   },
   {
    "duration": 25,
    "start_time": "2023-10-30T17:31:25.873Z"
   },
   {
    "duration": 126,
    "start_time": "2023-10-30T17:31:25.899Z"
   },
   {
    "duration": 31,
    "start_time": "2023-10-30T17:31:26.027Z"
   },
   {
    "duration": 25,
    "start_time": "2023-10-30T17:31:26.060Z"
   },
   {
    "duration": 120,
    "start_time": "2023-10-30T17:31:26.087Z"
   },
   {
    "duration": 4,
    "start_time": "2023-10-30T17:31:26.208Z"
   },
   {
    "duration": 2086,
    "start_time": "2023-10-30T17:31:26.214Z"
   },
   {
    "duration": 20,
    "start_time": "2023-10-30T17:31:28.302Z"
   },
   {
    "duration": 10,
    "start_time": "2023-10-30T17:31:28.340Z"
   },
   {
    "duration": 28,
    "start_time": "2023-10-30T17:31:28.352Z"
   },
   {
    "duration": 20,
    "start_time": "2023-10-30T17:31:28.382Z"
   },
   {
    "duration": 32,
    "start_time": "2023-10-30T17:31:28.404Z"
   },
   {
    "duration": 12,
    "start_time": "2023-10-30T17:31:28.437Z"
   },
   {
    "duration": 1243,
    "start_time": "2023-10-30T17:31:28.450Z"
   },
   {
    "duration": 3,
    "start_time": "2023-10-30T17:31:29.695Z"
   },
   {
    "duration": 451,
    "start_time": "2023-10-30T17:31:29.699Z"
   },
   {
    "duration": 0,
    "start_time": "2023-10-30T17:31:30.151Z"
   },
   {
    "duration": 0,
    "start_time": "2023-10-30T17:31:30.152Z"
   },
   {
    "duration": 0,
    "start_time": "2023-10-30T17:31:30.153Z"
   },
   {
    "duration": 0,
    "start_time": "2023-10-30T17:31:30.154Z"
   },
   {
    "duration": 0,
    "start_time": "2023-10-30T17:31:30.155Z"
   },
   {
    "duration": 0,
    "start_time": "2023-10-30T17:31:30.156Z"
   },
   {
    "duration": 0,
    "start_time": "2023-10-30T17:31:30.157Z"
   },
   {
    "duration": 0,
    "start_time": "2023-10-30T17:31:30.158Z"
   },
   {
    "duration": 1118,
    "start_time": "2023-10-30T17:31:43.016Z"
   },
   {
    "duration": 11,
    "start_time": "2023-10-30T17:31:45.883Z"
   },
   {
    "duration": 4,
    "start_time": "2023-10-30T17:31:51.239Z"
   },
   {
    "duration": 19,
    "start_time": "2023-10-30T17:31:52.381Z"
   },
   {
    "duration": 6,
    "start_time": "2023-10-30T17:31:52.798Z"
   },
   {
    "duration": 63,
    "start_time": "2023-10-30T17:31:53.374Z"
   },
   {
    "duration": 14,
    "start_time": "2023-10-30T17:31:55.209Z"
   },
   {
    "duration": 9,
    "start_time": "2023-10-30T17:31:58.491Z"
   },
   {
    "duration": 11,
    "start_time": "2023-10-30T17:32:37.757Z"
   },
   {
    "duration": 18,
    "start_time": "2023-10-30T17:33:02.789Z"
   },
   {
    "duration": 17,
    "start_time": "2023-10-30T17:35:00.883Z"
   },
   {
    "duration": 52,
    "start_time": "2023-10-31T16:03:45.264Z"
   },
   {
    "duration": 1730,
    "start_time": "2023-10-31T16:03:51.114Z"
   },
   {
    "duration": 477,
    "start_time": "2023-10-31T16:03:52.846Z"
   },
   {
    "duration": 4,
    "start_time": "2023-10-31T16:03:53.325Z"
   },
   {
    "duration": 235,
    "start_time": "2023-10-31T16:03:53.330Z"
   },
   {
    "duration": 19,
    "start_time": "2023-10-31T16:03:53.568Z"
   },
   {
    "duration": 177,
    "start_time": "2023-10-31T16:03:53.589Z"
   },
   {
    "duration": 18,
    "start_time": "2023-10-31T16:03:53.768Z"
   },
   {
    "duration": 28,
    "start_time": "2023-10-31T16:03:53.788Z"
   },
   {
    "duration": 87,
    "start_time": "2023-10-31T16:03:53.818Z"
   },
   {
    "duration": 39,
    "start_time": "2023-10-31T16:03:53.907Z"
   },
   {
    "duration": 2070,
    "start_time": "2023-10-31T16:03:53.948Z"
   },
   {
    "duration": 15,
    "start_time": "2023-10-31T16:03:56.020Z"
   },
   {
    "duration": 23,
    "start_time": "2023-10-31T16:03:56.037Z"
   },
   {
    "duration": 32,
    "start_time": "2023-10-31T16:03:56.064Z"
   },
   {
    "duration": 155,
    "start_time": "2023-10-31T16:03:56.097Z"
   },
   {
    "duration": 26,
    "start_time": "2023-10-31T16:03:56.255Z"
   },
   {
    "duration": 41,
    "start_time": "2023-10-31T16:03:56.283Z"
   },
   {
    "duration": 144,
    "start_time": "2023-10-31T16:03:56.327Z"
   },
   {
    "duration": 5,
    "start_time": "2023-10-31T16:03:56.473Z"
   },
   {
    "duration": 2694,
    "start_time": "2023-10-31T16:03:56.480Z"
   },
   {
    "duration": 34,
    "start_time": "2023-10-31T16:03:59.176Z"
   },
   {
    "duration": 17,
    "start_time": "2023-10-31T16:03:59.212Z"
   },
   {
    "duration": 47,
    "start_time": "2023-10-31T16:03:59.230Z"
   },
   {
    "duration": 30,
    "start_time": "2023-10-31T16:03:59.279Z"
   },
   {
    "duration": 23,
    "start_time": "2023-10-31T16:03:59.310Z"
   },
   {
    "duration": 32,
    "start_time": "2023-10-31T16:03:59.334Z"
   },
   {
    "duration": 1267,
    "start_time": "2023-10-31T16:03:59.367Z"
   },
   {
    "duration": 4,
    "start_time": "2023-10-31T16:04:00.636Z"
   },
   {
    "duration": 1335,
    "start_time": "2023-10-31T16:04:00.642Z"
   },
   {
    "duration": 23,
    "start_time": "2023-10-31T16:04:01.979Z"
   },
   {
    "duration": 345,
    "start_time": "2023-10-31T16:04:02.004Z"
   },
   {
    "duration": 157,
    "start_time": "2023-10-31T16:04:02.351Z"
   },
   {
    "duration": 161,
    "start_time": "2023-10-31T16:04:02.510Z"
   },
   {
    "duration": 169,
    "start_time": "2023-10-31T16:04:02.673Z"
   },
   {
    "duration": 25,
    "start_time": "2023-10-31T16:04:02.844Z"
   },
   {
    "duration": 403,
    "start_time": "2023-10-31T16:04:02.871Z"
   },
   {
    "duration": 6930,
    "start_time": "2023-10-31T16:04:37.454Z"
   },
   {
    "duration": 250,
    "start_time": "2023-10-31T16:04:54.837Z"
   },
   {
    "duration": 2767,
    "start_time": "2023-10-31T16:05:11.450Z"
   },
   {
    "duration": 1440,
    "start_time": "2023-10-31T16:05:14.221Z"
   },
   {
    "duration": 264,
    "start_time": "2023-10-31T16:05:15.663Z"
   },
   {
    "duration": 2,
    "start_time": "2023-10-31T16:05:15.929Z"
   },
   {
    "duration": 213,
    "start_time": "2023-10-31T16:05:15.933Z"
   },
   {
    "duration": 21,
    "start_time": "2023-10-31T16:05:16.148Z"
   },
   {
    "duration": 169,
    "start_time": "2023-10-31T16:05:16.171Z"
   },
   {
    "duration": 19,
    "start_time": "2023-10-31T16:05:16.342Z"
   },
   {
    "duration": 14,
    "start_time": "2023-10-31T16:05:16.362Z"
   },
   {
    "duration": 59,
    "start_time": "2023-10-31T16:05:16.378Z"
   },
   {
    "duration": 34,
    "start_time": "2023-10-31T16:05:16.438Z"
   },
   {
    "duration": 2140,
    "start_time": "2023-10-31T16:05:16.474Z"
   },
   {
    "duration": 18,
    "start_time": "2023-10-31T16:05:18.616Z"
   },
   {
    "duration": 33,
    "start_time": "2023-10-31T16:05:18.637Z"
   },
   {
    "duration": 60,
    "start_time": "2023-10-31T16:05:18.671Z"
   },
   {
    "duration": 148,
    "start_time": "2023-10-31T16:05:18.733Z"
   },
   {
    "duration": 35,
    "start_time": "2023-10-31T16:05:18.883Z"
   },
   {
    "duration": 66,
    "start_time": "2023-10-31T16:05:18.920Z"
   },
   {
    "duration": 171,
    "start_time": "2023-10-31T16:05:18.988Z"
   },
   {
    "duration": 5,
    "start_time": "2023-10-31T16:05:19.160Z"
   },
   {
    "duration": 2595,
    "start_time": "2023-10-31T16:05:19.167Z"
   },
   {
    "duration": 20,
    "start_time": "2023-10-31T16:05:21.763Z"
   },
   {
    "duration": 97,
    "start_time": "2023-10-31T16:05:21.784Z"
   },
   {
    "duration": 67,
    "start_time": "2023-10-31T16:05:21.882Z"
   },
   {
    "duration": 47,
    "start_time": "2023-10-31T16:05:21.951Z"
   },
   {
    "duration": 46,
    "start_time": "2023-10-31T16:05:22.000Z"
   },
   {
    "duration": 52,
    "start_time": "2023-10-31T16:05:22.048Z"
   },
   {
    "duration": 1243,
    "start_time": "2023-10-31T16:05:22.102Z"
   },
   {
    "duration": 4,
    "start_time": "2023-10-31T16:05:23.347Z"
   },
   {
    "duration": 1162,
    "start_time": "2023-10-31T16:05:23.353Z"
   },
   {
    "duration": 14,
    "start_time": "2023-10-31T16:05:24.517Z"
   },
   {
    "duration": 66,
    "start_time": "2023-10-31T16:05:24.533Z"
   },
   {
    "duration": 55,
    "start_time": "2023-10-31T16:05:24.602Z"
   },
   {
    "duration": 59,
    "start_time": "2023-10-31T16:05:24.659Z"
   },
   {
    "duration": 116,
    "start_time": "2023-10-31T16:05:24.720Z"
   },
   {
    "duration": 18,
    "start_time": "2023-10-31T16:05:24.838Z"
   },
   {
    "duration": 12057,
    "start_time": "2023-10-31T16:05:24.857Z"
   },
   {
    "duration": 13,
    "start_time": "2023-10-31T16:06:52.905Z"
   },
   {
    "duration": 16,
    "start_time": "2023-10-31T16:07:12.287Z"
   },
   {
    "duration": 15,
    "start_time": "2023-10-31T16:07:39.617Z"
   },
   {
    "duration": 8,
    "start_time": "2023-10-31T16:08:00.796Z"
   },
   {
    "duration": 2721,
    "start_time": "2023-10-31T16:08:08.068Z"
   },
   {
    "duration": 1379,
    "start_time": "2023-10-31T16:08:10.791Z"
   },
   {
    "duration": 256,
    "start_time": "2023-10-31T16:08:12.172Z"
   },
   {
    "duration": 4,
    "start_time": "2023-10-31T16:08:12.431Z"
   },
   {
    "duration": 230,
    "start_time": "2023-10-31T16:08:12.437Z"
   },
   {
    "duration": 18,
    "start_time": "2023-10-31T16:08:12.669Z"
   },
   {
    "duration": 156,
    "start_time": "2023-10-31T16:08:12.689Z"
   },
   {
    "duration": 61,
    "start_time": "2023-10-31T16:08:12.847Z"
   },
   {
    "duration": 22,
    "start_time": "2023-10-31T16:08:12.909Z"
   },
   {
    "duration": 68,
    "start_time": "2023-10-31T16:08:12.934Z"
   },
   {
    "duration": 37,
    "start_time": "2023-10-31T16:08:13.004Z"
   },
   {
    "duration": 2143,
    "start_time": "2023-10-31T16:08:13.043Z"
   },
   {
    "duration": 15,
    "start_time": "2023-10-31T16:08:15.189Z"
   },
   {
    "duration": 9,
    "start_time": "2023-10-31T16:08:15.206Z"
   },
   {
    "duration": 30,
    "start_time": "2023-10-31T16:08:15.217Z"
   },
   {
    "duration": 156,
    "start_time": "2023-10-31T16:08:15.248Z"
   },
   {
    "duration": 26,
    "start_time": "2023-10-31T16:08:15.405Z"
   },
   {
    "duration": 29,
    "start_time": "2023-10-31T16:08:15.432Z"
   },
   {
    "duration": 160,
    "start_time": "2023-10-31T16:08:15.463Z"
   },
   {
    "duration": 6,
    "start_time": "2023-10-31T16:08:15.624Z"
   },
   {
    "duration": 2542,
    "start_time": "2023-10-31T16:08:15.631Z"
   },
   {
    "duration": 32,
    "start_time": "2023-10-31T16:08:18.175Z"
   },
   {
    "duration": 9,
    "start_time": "2023-10-31T16:08:18.209Z"
   },
   {
    "duration": 18,
    "start_time": "2023-10-31T16:08:18.220Z"
   },
   {
    "duration": 13,
    "start_time": "2023-10-31T16:08:18.239Z"
   },
   {
    "duration": 26,
    "start_time": "2023-10-31T16:08:18.254Z"
   },
   {
    "duration": 12,
    "start_time": "2023-10-31T16:08:18.281Z"
   },
   {
    "duration": 1280,
    "start_time": "2023-10-31T16:08:18.296Z"
   },
   {
    "duration": 3,
    "start_time": "2023-10-31T16:08:19.579Z"
   },
   {
    "duration": 1101,
    "start_time": "2023-10-31T16:08:19.584Z"
   },
   {
    "duration": 20,
    "start_time": "2023-10-31T16:08:20.687Z"
   },
   {
    "duration": 7,
    "start_time": "2023-10-31T16:08:20.708Z"
   },
   {
    "duration": 42,
    "start_time": "2023-10-31T16:08:20.716Z"
   },
   {
    "duration": 24,
    "start_time": "2023-10-31T16:08:20.760Z"
   },
   {
    "duration": 121,
    "start_time": "2023-10-31T16:08:20.786Z"
   },
   {
    "duration": 17,
    "start_time": "2023-10-31T16:08:20.909Z"
   },
   {
    "duration": 398,
    "start_time": "2023-10-31T16:08:20.927Z"
   },
   {
    "duration": 328,
    "start_time": "2023-10-31T16:08:55.474Z"
   },
   {
    "duration": 24,
    "start_time": "2023-10-31T16:09:15.319Z"
   },
   {
    "duration": 334,
    "start_time": "2023-10-31T16:11:05.677Z"
   },
   {
    "duration": 17,
    "start_time": "2023-10-31T16:11:22.125Z"
   },
   {
    "duration": 9,
    "start_time": "2023-10-31T16:11:36.654Z"
   },
   {
    "duration": 15,
    "start_time": "2023-10-31T16:11:50.208Z"
   },
   {
    "duration": 12,
    "start_time": "2023-10-31T16:11:57.442Z"
   },
   {
    "duration": 341,
    "start_time": "2023-10-31T16:12:03.466Z"
   },
   {
    "duration": 58,
    "start_time": "2023-10-31T16:27:56.366Z"
   },
   {
    "duration": 28,
    "start_time": "2023-10-31T16:28:03.406Z"
   },
   {
    "duration": 22,
    "start_time": "2023-10-31T16:28:42.136Z"
   },
   {
    "duration": 23,
    "start_time": "2023-10-31T16:28:52.526Z"
   },
   {
    "duration": 78,
    "start_time": "2023-10-31T16:29:01.267Z"
   },
   {
    "duration": 13,
    "start_time": "2023-10-31T16:29:06.817Z"
   },
   {
    "duration": 31,
    "start_time": "2023-10-31T16:29:17.580Z"
   },
   {
    "duration": 18,
    "start_time": "2023-10-31T16:30:11.360Z"
   },
   {
    "duration": 21,
    "start_time": "2023-10-31T16:30:30.749Z"
   },
   {
    "duration": 9,
    "start_time": "2023-10-31T16:31:03.313Z"
   },
   {
    "duration": 8,
    "start_time": "2023-10-31T16:31:07.878Z"
   },
   {
    "duration": 7,
    "start_time": "2023-10-31T16:31:49.318Z"
   },
   {
    "duration": 283,
    "start_time": "2023-10-31T16:31:53.607Z"
   },
   {
    "duration": 30,
    "start_time": "2023-10-31T16:32:56.497Z"
   },
   {
    "duration": 27,
    "start_time": "2023-10-31T16:33:03.639Z"
   },
   {
    "duration": 10,
    "start_time": "2023-10-31T16:34:43.220Z"
   },
   {
    "duration": 277,
    "start_time": "2023-10-31T16:34:44.338Z"
   },
   {
    "duration": 33,
    "start_time": "2023-10-31T16:34:44.617Z"
   },
   {
    "duration": 82,
    "start_time": "2023-10-31T16:35:45.646Z"
   },
   {
    "duration": 18,
    "start_time": "2023-10-31T16:35:52.530Z"
   },
   {
    "duration": 361,
    "start_time": "2023-10-31T16:36:10.746Z"
   },
   {
    "duration": 19,
    "start_time": "2023-10-31T16:37:38.695Z"
   },
   {
    "duration": 2676,
    "start_time": "2023-10-31T16:37:57.322Z"
   },
   {
    "duration": 1350,
    "start_time": "2023-10-31T16:38:00.001Z"
   },
   {
    "duration": 267,
    "start_time": "2023-10-31T16:38:01.353Z"
   },
   {
    "duration": 3,
    "start_time": "2023-10-31T16:38:01.622Z"
   },
   {
    "duration": 254,
    "start_time": "2023-10-31T16:38:01.627Z"
   },
   {
    "duration": 26,
    "start_time": "2023-10-31T16:38:01.882Z"
   },
   {
    "duration": 211,
    "start_time": "2023-10-31T16:38:01.910Z"
   },
   {
    "duration": 19,
    "start_time": "2023-10-31T16:38:02.123Z"
   },
   {
    "duration": 246,
    "start_time": "2023-10-31T16:38:02.143Z"
   },
   {
    "duration": 188,
    "start_time": "2023-10-31T16:38:02.391Z"
   },
   {
    "duration": 489,
    "start_time": "2023-10-31T16:38:02.581Z"
   },
   {
    "duration": 2459,
    "start_time": "2023-10-31T16:38:03.071Z"
   },
   {
    "duration": 18,
    "start_time": "2023-10-31T16:38:05.532Z"
   },
   {
    "duration": 10,
    "start_time": "2023-10-31T16:38:05.554Z"
   },
   {
    "duration": 34,
    "start_time": "2023-10-31T16:38:05.566Z"
   },
   {
    "duration": 138,
    "start_time": "2023-10-31T16:38:05.602Z"
   },
   {
    "duration": 23,
    "start_time": "2023-10-31T16:38:05.742Z"
   },
   {
    "duration": 44,
    "start_time": "2023-10-31T16:38:05.767Z"
   },
   {
    "duration": 157,
    "start_time": "2023-10-31T16:38:05.813Z"
   },
   {
    "duration": 6,
    "start_time": "2023-10-31T16:38:05.971Z"
   },
   {
    "duration": 2553,
    "start_time": "2023-10-31T16:38:05.979Z"
   },
   {
    "duration": 25,
    "start_time": "2023-10-31T16:38:08.535Z"
   },
   {
    "duration": 35,
    "start_time": "2023-10-31T16:38:08.563Z"
   },
   {
    "duration": 37,
    "start_time": "2023-10-31T16:38:08.599Z"
   },
   {
    "duration": 12,
    "start_time": "2023-10-31T16:38:08.640Z"
   },
   {
    "duration": 13,
    "start_time": "2023-10-31T16:38:08.654Z"
   },
   {
    "duration": 16,
    "start_time": "2023-10-31T16:38:08.670Z"
   },
   {
    "duration": 1174,
    "start_time": "2023-10-31T16:38:08.688Z"
   },
   {
    "duration": 4,
    "start_time": "2023-10-31T16:38:09.863Z"
   },
   {
    "duration": 1108,
    "start_time": "2023-10-31T16:38:09.869Z"
   },
   {
    "duration": 13,
    "start_time": "2023-10-31T16:38:10.979Z"
   },
   {
    "duration": 437,
    "start_time": "2023-10-31T16:38:11.001Z"
   },
   {
    "duration": 41,
    "start_time": "2023-10-31T16:38:11.440Z"
   },
   {
    "duration": 32,
    "start_time": "2023-10-31T16:38:11.483Z"
   },
   {
    "duration": 94,
    "start_time": "2023-10-31T16:38:11.517Z"
   },
   {
    "duration": 16,
    "start_time": "2023-10-31T16:38:11.614Z"
   },
   {
    "duration": 33,
    "start_time": "2023-10-31T16:38:11.632Z"
   },
   {
    "duration": 339,
    "start_time": "2023-10-31T16:38:11.667Z"
   },
   {
    "duration": 10,
    "start_time": "2023-10-31T16:38:12.007Z"
   },
   {
    "duration": 32,
    "start_time": "2023-10-31T16:38:12.018Z"
   },
   {
    "duration": 7,
    "start_time": "2023-10-31T16:38:12.053Z"
   },
   {
    "duration": 305,
    "start_time": "2023-10-31T16:38:12.062Z"
   },
   {
    "duration": 32,
    "start_time": "2023-10-31T16:38:12.369Z"
   },
   {
    "duration": 372,
    "start_time": "2023-10-31T16:38:12.402Z"
   },
   {
    "duration": 23,
    "start_time": "2023-10-31T16:38:36.583Z"
   },
   {
    "duration": 21,
    "start_time": "2023-10-31T16:38:42.850Z"
   },
   {
    "duration": 7258,
    "start_time": "2023-11-01T06:13:08.127Z"
   },
   {
    "duration": 1556,
    "start_time": "2023-11-01T06:13:15.388Z"
   },
   {
    "duration": 463,
    "start_time": "2023-11-01T06:13:16.947Z"
   },
   {
    "duration": 3,
    "start_time": "2023-11-01T06:13:17.412Z"
   },
   {
    "duration": 205,
    "start_time": "2023-11-01T06:13:17.417Z"
   },
   {
    "duration": 25,
    "start_time": "2023-11-01T06:13:17.623Z"
   },
   {
    "duration": 165,
    "start_time": "2023-11-01T06:13:17.650Z"
   },
   {
    "duration": 30,
    "start_time": "2023-11-01T06:13:17.817Z"
   },
   {
    "duration": 11,
    "start_time": "2023-11-01T06:13:17.849Z"
   },
   {
    "duration": 76,
    "start_time": "2023-11-01T06:13:17.864Z"
   },
   {
    "duration": 53,
    "start_time": "2023-11-01T06:13:17.942Z"
   },
   {
    "duration": 2097,
    "start_time": "2023-11-01T06:13:17.997Z"
   },
   {
    "duration": 18,
    "start_time": "2023-11-01T06:13:20.096Z"
   },
   {
    "duration": 10,
    "start_time": "2023-11-01T06:13:20.116Z"
   },
   {
    "duration": 38,
    "start_time": "2023-11-01T06:13:20.128Z"
   },
   {
    "duration": 153,
    "start_time": "2023-11-01T06:13:20.168Z"
   },
   {
    "duration": 36,
    "start_time": "2023-11-01T06:13:20.324Z"
   },
   {
    "duration": 100,
    "start_time": "2023-11-01T06:13:20.362Z"
   },
   {
    "duration": 174,
    "start_time": "2023-11-01T06:13:20.464Z"
   },
   {
    "duration": 10,
    "start_time": "2023-11-01T06:13:20.641Z"
   },
   {
    "duration": 2732,
    "start_time": "2023-11-01T06:13:20.652Z"
   },
   {
    "duration": 20,
    "start_time": "2023-11-01T06:13:23.386Z"
   },
   {
    "duration": 16,
    "start_time": "2023-11-01T06:13:23.408Z"
   },
   {
    "duration": 29,
    "start_time": "2023-11-01T06:13:23.426Z"
   },
   {
    "duration": 26,
    "start_time": "2023-11-01T06:13:23.457Z"
   },
   {
    "duration": 21,
    "start_time": "2023-11-01T06:13:23.485Z"
   },
   {
    "duration": 16,
    "start_time": "2023-11-01T06:13:23.507Z"
   },
   {
    "duration": 1230,
    "start_time": "2023-11-01T06:13:23.526Z"
   },
   {
    "duration": 4,
    "start_time": "2023-11-01T06:13:24.757Z"
   },
   {
    "duration": 1244,
    "start_time": "2023-11-01T06:13:24.763Z"
   },
   {
    "duration": 14,
    "start_time": "2023-11-01T06:13:26.010Z"
   },
   {
    "duration": 21,
    "start_time": "2023-11-01T06:13:26.026Z"
   },
   {
    "duration": 16,
    "start_time": "2023-11-01T06:13:26.049Z"
   },
   {
    "duration": 16,
    "start_time": "2023-11-01T06:13:26.067Z"
   },
   {
    "duration": 101,
    "start_time": "2023-11-01T06:13:26.085Z"
   },
   {
    "duration": 18,
    "start_time": "2023-11-01T06:13:26.187Z"
   },
   {
    "duration": 20,
    "start_time": "2023-11-01T06:13:26.207Z"
   },
   {
    "duration": 363,
    "start_time": "2023-11-01T06:13:26.229Z"
   },
   {
    "duration": 8,
    "start_time": "2023-11-01T06:13:26.594Z"
   },
   {
    "duration": 43,
    "start_time": "2023-11-01T06:13:26.604Z"
   },
   {
    "duration": 7,
    "start_time": "2023-11-01T06:13:26.648Z"
   },
   {
    "duration": 298,
    "start_time": "2023-11-01T06:13:26.656Z"
   },
   {
    "duration": 25,
    "start_time": "2023-11-01T06:13:26.956Z"
   },
   {
    "duration": 362,
    "start_time": "2023-11-01T06:13:26.982Z"
   },
   {
    "duration": 20,
    "start_time": "2023-11-01T06:13:27.346Z"
   },
   {
    "duration": 4364,
    "start_time": "2023-11-01T06:14:18.404Z"
   },
   {
    "duration": 42583,
    "start_time": "2023-11-01T06:14:52.900Z"
   },
   {
    "duration": 123,
    "start_time": "2023-11-01T06:15:45.522Z"
   },
   {
    "duration": 28912,
    "start_time": "2023-11-01T06:18:35.103Z"
   },
   {
    "duration": 0,
    "start_time": "2023-11-01T06:19:04.017Z"
   },
   {
    "duration": 107141,
    "start_time": "2023-11-01T06:19:06.194Z"
   },
   {
    "duration": 0,
    "start_time": "2023-11-01T06:33:16.272Z"
   },
   {
    "duration": 48090,
    "start_time": "2023-11-01T06:33:16.557Z"
   },
   {
    "duration": 58101,
    "start_time": "2023-11-01T06:34:16.654Z"
   },
   {
    "duration": 4,
    "start_time": "2023-11-01T06:35:42.283Z"
   },
   {
    "duration": 12,
    "start_time": "2023-11-01T06:39:06.062Z"
   },
   {
    "duration": 4127,
    "start_time": "2023-11-01T06:39:11.047Z"
   },
   {
    "duration": 296,
    "start_time": "2023-11-01T06:39:21.458Z"
   },
   {
    "duration": 315,
    "start_time": "2023-11-01T06:39:51.046Z"
   },
   {
    "duration": 17,
    "start_time": "2023-11-01T06:40:23.177Z"
   },
   {
    "duration": 95,
    "start_time": "2023-11-01T06:40:31.675Z"
   },
   {
    "duration": 36,
    "start_time": "2023-11-01T06:40:35.602Z"
   },
   {
    "duration": 2882,
    "start_time": "2023-11-01T06:40:47.212Z"
   },
   {
    "duration": 1320,
    "start_time": "2023-11-01T06:40:50.098Z"
   },
   {
    "duration": 254,
    "start_time": "2023-11-01T06:40:51.419Z"
   },
   {
    "duration": 3,
    "start_time": "2023-11-01T06:40:51.675Z"
   },
   {
    "duration": 227,
    "start_time": "2023-11-01T06:40:51.680Z"
   },
   {
    "duration": 21,
    "start_time": "2023-11-01T06:40:51.909Z"
   },
   {
    "duration": 166,
    "start_time": "2023-11-01T06:40:51.932Z"
   },
   {
    "duration": 21,
    "start_time": "2023-11-01T06:40:52.100Z"
   },
   {
    "duration": 37,
    "start_time": "2023-11-01T06:40:52.123Z"
   },
   {
    "duration": 60,
    "start_time": "2023-11-01T06:40:52.161Z"
   },
   {
    "duration": 33,
    "start_time": "2023-11-01T06:40:52.223Z"
   },
   {
    "duration": 2039,
    "start_time": "2023-11-01T06:40:52.258Z"
   },
   {
    "duration": 18,
    "start_time": "2023-11-01T06:40:54.299Z"
   },
   {
    "duration": 10,
    "start_time": "2023-11-01T06:40:54.320Z"
   },
   {
    "duration": 33,
    "start_time": "2023-11-01T06:40:54.332Z"
   },
   {
    "duration": 161,
    "start_time": "2023-11-01T06:40:54.367Z"
   },
   {
    "duration": 32,
    "start_time": "2023-11-01T06:40:54.530Z"
   },
   {
    "duration": 31,
    "start_time": "2023-11-01T06:40:54.564Z"
   },
   {
    "duration": 157,
    "start_time": "2023-11-01T06:40:54.597Z"
   },
   {
    "duration": 5,
    "start_time": "2023-11-01T06:40:54.756Z"
   },
   {
    "duration": 2714,
    "start_time": "2023-11-01T06:40:54.763Z"
   },
   {
    "duration": 19,
    "start_time": "2023-11-01T06:40:57.479Z"
   },
   {
    "duration": 21,
    "start_time": "2023-11-01T06:40:57.500Z"
   },
   {
    "duration": 12,
    "start_time": "2023-11-01T06:40:57.523Z"
   },
   {
    "duration": 3,
    "start_time": "2023-11-01T06:40:57.547Z"
   },
   {
    "duration": 7,
    "start_time": "2023-11-01T06:40:57.552Z"
   },
   {
    "duration": 14,
    "start_time": "2023-11-01T06:40:57.560Z"
   },
   {
    "duration": 1235,
    "start_time": "2023-11-01T06:40:57.575Z"
   },
   {
    "duration": 4,
    "start_time": "2023-11-01T06:40:58.811Z"
   },
   {
    "duration": 1317,
    "start_time": "2023-11-01T06:40:58.817Z"
   },
   {
    "duration": 15,
    "start_time": "2023-11-01T06:41:00.136Z"
   },
   {
    "duration": 34,
    "start_time": "2023-11-01T06:41:00.152Z"
   },
   {
    "duration": 46,
    "start_time": "2023-11-01T06:41:00.187Z"
   },
   {
    "duration": 45,
    "start_time": "2023-11-01T06:41:00.235Z"
   },
   {
    "duration": 98,
    "start_time": "2023-11-01T06:41:00.282Z"
   },
   {
    "duration": 19,
    "start_time": "2023-11-01T06:41:00.382Z"
   },
   {
    "duration": 45,
    "start_time": "2023-11-01T06:41:00.403Z"
   },
   {
    "duration": 366,
    "start_time": "2023-11-01T06:41:00.450Z"
   },
   {
    "duration": 13,
    "start_time": "2023-11-01T06:41:00.817Z"
   },
   {
    "duration": 71,
    "start_time": "2023-11-01T06:41:00.832Z"
   },
   {
    "duration": 7,
    "start_time": "2023-11-01T06:41:00.908Z"
   },
   {
    "duration": 316,
    "start_time": "2023-11-01T06:41:00.916Z"
   },
   {
    "duration": 28,
    "start_time": "2023-11-01T06:41:01.234Z"
   },
   {
    "duration": 359,
    "start_time": "2023-11-01T06:41:01.264Z"
   },
   {
    "duration": 28,
    "start_time": "2023-11-01T06:41:01.625Z"
   },
   {
    "duration": 4345,
    "start_time": "2023-11-01T06:41:01.655Z"
   },
   {
    "duration": 48995,
    "start_time": "2023-11-01T06:41:06.002Z"
   },
   {
    "duration": 0,
    "start_time": "2023-11-01T06:41:55.000Z"
   },
   {
    "duration": 0,
    "start_time": "2023-11-01T06:41:55.002Z"
   },
   {
    "duration": 349,
    "start_time": "2023-11-01T06:42:01.106Z"
   },
   {
    "duration": 285,
    "start_time": "2023-11-01T06:42:22.227Z"
   },
   {
    "duration": 285,
    "start_time": "2023-11-01T06:45:15.851Z"
   },
   {
    "duration": 280,
    "start_time": "2023-11-01T06:45:57.355Z"
   },
   {
    "duration": 282,
    "start_time": "2023-11-01T06:46:09.750Z"
   },
   {
    "duration": 282,
    "start_time": "2023-11-01T06:46:15.885Z"
   },
   {
    "duration": 5,
    "start_time": "2023-11-01T06:56:26.946Z"
   },
   {
    "duration": 13,
    "start_time": "2023-11-01T06:56:36.127Z"
   },
   {
    "duration": 6,
    "start_time": "2023-11-01T06:56:57.621Z"
   },
   {
    "duration": 15,
    "start_time": "2023-11-01T12:19:16.459Z"
   },
   {
    "duration": 13,
    "start_time": "2023-11-01T12:19:54.171Z"
   },
   {
    "duration": 10,
    "start_time": "2023-11-01T12:21:50.437Z"
   },
   {
    "duration": 14,
    "start_time": "2023-11-01T12:22:11.052Z"
   },
   {
    "duration": 19,
    "start_time": "2023-11-01T12:22:28.122Z"
   },
   {
    "duration": 5,
    "start_time": "2023-11-01T12:22:41.064Z"
   },
   {
    "duration": 16,
    "start_time": "2023-11-01T12:22:52.785Z"
   },
   {
    "duration": 4,
    "start_time": "2023-11-01T12:23:05.445Z"
   },
   {
    "duration": 9,
    "start_time": "2023-11-01T12:23:15.603Z"
   },
   {
    "duration": 5,
    "start_time": "2023-11-01T12:23:25.086Z"
   },
   {
    "duration": 108853,
    "start_time": "2023-11-01T12:32:57.131Z"
   },
   {
    "duration": 2816,
    "start_time": "2023-11-01T12:35:39.237Z"
   },
   {
    "duration": 1366,
    "start_time": "2023-11-01T12:35:42.055Z"
   },
   {
    "duration": 259,
    "start_time": "2023-11-01T12:35:43.423Z"
   },
   {
    "duration": 3,
    "start_time": "2023-11-01T12:35:43.684Z"
   },
   {
    "duration": 217,
    "start_time": "2023-11-01T12:35:43.689Z"
   },
   {
    "duration": 20,
    "start_time": "2023-11-01T12:35:43.908Z"
   },
   {
    "duration": 173,
    "start_time": "2023-11-01T12:35:43.929Z"
   },
   {
    "duration": 24,
    "start_time": "2023-11-01T12:35:44.104Z"
   },
   {
    "duration": 28,
    "start_time": "2023-11-01T12:35:44.130Z"
   },
   {
    "duration": 79,
    "start_time": "2023-11-01T12:35:44.160Z"
   },
   {
    "duration": 33,
    "start_time": "2023-11-01T12:35:44.241Z"
   },
   {
    "duration": 2197,
    "start_time": "2023-11-01T12:35:44.276Z"
   },
   {
    "duration": 16,
    "start_time": "2023-11-01T12:35:46.475Z"
   },
   {
    "duration": 27,
    "start_time": "2023-11-01T12:35:46.494Z"
   },
   {
    "duration": 31,
    "start_time": "2023-11-01T12:35:46.523Z"
   },
   {
    "duration": 146,
    "start_time": "2023-11-01T12:35:46.555Z"
   },
   {
    "duration": 44,
    "start_time": "2023-11-01T12:35:46.703Z"
   },
   {
    "duration": 44,
    "start_time": "2023-11-01T12:35:46.748Z"
   },
   {
    "duration": 161,
    "start_time": "2023-11-01T12:35:46.794Z"
   },
   {
    "duration": 7,
    "start_time": "2023-11-01T12:35:46.958Z"
   },
   {
    "duration": 2722,
    "start_time": "2023-11-01T12:35:46.967Z"
   },
   {
    "duration": 20,
    "start_time": "2023-11-01T12:35:49.691Z"
   },
   {
    "duration": 37,
    "start_time": "2023-11-01T12:35:49.713Z"
   },
   {
    "duration": 34,
    "start_time": "2023-11-01T12:35:49.752Z"
   },
   {
    "duration": 32,
    "start_time": "2023-11-01T12:35:49.788Z"
   },
   {
    "duration": 21,
    "start_time": "2023-11-01T12:35:49.821Z"
   },
   {
    "duration": 34,
    "start_time": "2023-11-01T12:35:49.844Z"
   },
   {
    "duration": 1310,
    "start_time": "2023-11-01T12:35:49.880Z"
   },
   {
    "duration": 3,
    "start_time": "2023-11-01T12:35:51.192Z"
   },
   {
    "duration": 1240,
    "start_time": "2023-11-01T12:35:51.197Z"
   },
   {
    "duration": 16,
    "start_time": "2023-11-01T12:35:52.439Z"
   },
   {
    "duration": 10,
    "start_time": "2023-11-01T12:35:52.457Z"
   },
   {
    "duration": 29,
    "start_time": "2023-11-01T12:35:52.469Z"
   },
   {
    "duration": 10,
    "start_time": "2023-11-01T12:35:52.500Z"
   },
   {
    "duration": 96,
    "start_time": "2023-11-01T12:35:52.512Z"
   },
   {
    "duration": 18,
    "start_time": "2023-11-01T12:35:52.610Z"
   },
   {
    "duration": 35,
    "start_time": "2023-11-01T12:35:52.630Z"
   },
   {
    "duration": 365,
    "start_time": "2023-11-01T12:35:52.667Z"
   },
   {
    "duration": 16,
    "start_time": "2023-11-01T12:35:53.034Z"
   },
   {
    "duration": 53,
    "start_time": "2023-11-01T12:35:53.052Z"
   },
   {
    "duration": 6,
    "start_time": "2023-11-01T12:35:53.109Z"
   },
   {
    "duration": 313,
    "start_time": "2023-11-01T12:35:53.117Z"
   },
   {
    "duration": 33,
    "start_time": "2023-11-01T12:35:53.432Z"
   },
   {
    "duration": 422,
    "start_time": "2023-11-01T12:35:53.467Z"
   },
   {
    "duration": 21,
    "start_time": "2023-11-01T12:35:53.891Z"
   },
   {
    "duration": 111577,
    "start_time": "2023-11-01T12:35:53.914Z"
   },
   {
    "duration": 404,
    "start_time": "2023-11-01T12:37:45.493Z"
   },
   {
    "duration": 7,
    "start_time": "2023-11-01T12:37:45.899Z"
   },
   {
    "duration": 144,
    "start_time": "2023-11-01T12:37:45.907Z"
   },
   {
    "duration": 0,
    "start_time": "2023-11-01T12:37:46.052Z"
   },
   {
    "duration": 2857,
    "start_time": "2023-11-01T12:41:21.002Z"
   },
   {
    "duration": 1404,
    "start_time": "2023-11-01T12:41:23.861Z"
   },
   {
    "duration": 322,
    "start_time": "2023-11-01T12:41:25.267Z"
   },
   {
    "duration": 3,
    "start_time": "2023-11-01T12:41:25.591Z"
   },
   {
    "duration": 215,
    "start_time": "2023-11-01T12:41:25.596Z"
   },
   {
    "duration": 35,
    "start_time": "2023-11-01T12:41:25.813Z"
   },
   {
    "duration": 188,
    "start_time": "2023-11-01T12:41:25.850Z"
   },
   {
    "duration": 22,
    "start_time": "2023-11-01T12:41:26.039Z"
   },
   {
    "duration": 3,
    "start_time": "2023-11-01T12:41:26.063Z"
   },
   {
    "duration": 81,
    "start_time": "2023-11-01T12:41:26.068Z"
   },
   {
    "duration": 34,
    "start_time": "2023-11-01T12:41:26.150Z"
   },
   {
    "duration": 2149,
    "start_time": "2023-11-01T12:41:26.185Z"
   },
   {
    "duration": 18,
    "start_time": "2023-11-01T12:41:28.336Z"
   },
   {
    "duration": 19,
    "start_time": "2023-11-01T12:41:28.356Z"
   },
   {
    "duration": 32,
    "start_time": "2023-11-01T12:41:28.377Z"
   },
   {
    "duration": 158,
    "start_time": "2023-11-01T12:41:28.411Z"
   },
   {
    "duration": 26,
    "start_time": "2023-11-01T12:41:28.571Z"
   },
   {
    "duration": 48,
    "start_time": "2023-11-01T12:41:28.598Z"
   },
   {
    "duration": 143,
    "start_time": "2023-11-01T12:41:28.648Z"
   },
   {
    "duration": 6,
    "start_time": "2023-11-01T12:41:28.793Z"
   },
   {
    "duration": 2783,
    "start_time": "2023-11-01T12:41:28.801Z"
   },
   {
    "duration": 21,
    "start_time": "2023-11-01T12:41:31.586Z"
   },
   {
    "duration": 25,
    "start_time": "2023-11-01T12:41:31.609Z"
   },
   {
    "duration": 39,
    "start_time": "2023-11-01T12:41:31.635Z"
   },
   {
    "duration": 47,
    "start_time": "2023-11-01T12:41:31.675Z"
   },
   {
    "duration": 34,
    "start_time": "2023-11-01T12:41:31.724Z"
   },
   {
    "duration": 51,
    "start_time": "2023-11-01T12:41:31.760Z"
   },
   {
    "duration": 1343,
    "start_time": "2023-11-01T12:41:31.815Z"
   },
   {
    "duration": 3,
    "start_time": "2023-11-01T12:41:33.160Z"
   },
   {
    "duration": 1291,
    "start_time": "2023-11-01T12:41:33.165Z"
   },
   {
    "duration": 14,
    "start_time": "2023-11-01T12:41:34.458Z"
   },
   {
    "duration": 6,
    "start_time": "2023-11-01T12:41:34.474Z"
   },
   {
    "duration": 28,
    "start_time": "2023-11-01T12:41:34.481Z"
   },
   {
    "duration": 35,
    "start_time": "2023-11-01T12:41:34.511Z"
   },
   {
    "duration": 80,
    "start_time": "2023-11-01T12:41:34.548Z"
   },
   {
    "duration": 34,
    "start_time": "2023-11-01T12:41:34.630Z"
   },
   {
    "duration": 24,
    "start_time": "2023-11-01T12:41:34.666Z"
   },
   {
    "duration": 371,
    "start_time": "2023-11-01T12:41:34.692Z"
   },
   {
    "duration": 13,
    "start_time": "2023-11-01T12:41:35.065Z"
   },
   {
    "duration": 68,
    "start_time": "2023-11-01T12:41:35.080Z"
   },
   {
    "duration": 7,
    "start_time": "2023-11-01T12:41:35.149Z"
   },
   {
    "duration": 372,
    "start_time": "2023-11-01T12:41:35.157Z"
   },
   {
    "duration": 31,
    "start_time": "2023-11-01T12:41:35.531Z"
   },
   {
    "duration": 393,
    "start_time": "2023-11-01T12:41:35.565Z"
   },
   {
    "duration": 23,
    "start_time": "2023-11-01T12:41:35.961Z"
   },
   {
    "duration": 4324,
    "start_time": "2023-11-01T12:41:35.986Z"
   },
   {
    "duration": 408,
    "start_time": "2023-11-01T12:41:40.312Z"
   },
   {
    "duration": 5,
    "start_time": "2023-11-01T12:41:40.721Z"
   },
   {
    "duration": 144,
    "start_time": "2023-11-01T12:41:40.728Z"
   },
   {
    "duration": 0,
    "start_time": "2023-11-01T12:41:40.874Z"
   },
   {
    "duration": 27,
    "start_time": "2023-11-01T13:05:55.023Z"
   },
   {
    "duration": 10,
    "start_time": "2023-11-01T13:06:11.685Z"
   },
   {
    "duration": 14,
    "start_time": "2023-11-01T13:06:18.442Z"
   },
   {
    "duration": 5,
    "start_time": "2023-11-01T13:07:28.429Z"
   },
   {
    "duration": 24,
    "start_time": "2023-11-01T13:07:37.329Z"
   },
   {
    "duration": 20,
    "start_time": "2023-11-01T13:07:40.074Z"
   },
   {
    "duration": 19,
    "start_time": "2023-11-01T13:07:41.841Z"
   },
   {
    "duration": 5,
    "start_time": "2023-11-01T13:07:43.338Z"
   },
   {
    "duration": 20,
    "start_time": "2023-11-01T13:07:47.636Z"
   },
   {
    "duration": 5,
    "start_time": "2023-11-01T13:07:49.681Z"
   },
   {
    "duration": 18,
    "start_time": "2023-11-01T13:08:03.042Z"
   },
   {
    "duration": 4,
    "start_time": "2023-11-01T13:08:03.412Z"
   },
   {
    "duration": 19,
    "start_time": "2023-11-01T13:08:06.774Z"
   },
   {
    "duration": 19,
    "start_time": "2023-11-01T13:08:09.319Z"
   },
   {
    "duration": 5,
    "start_time": "2023-11-01T13:08:10.294Z"
   },
   {
    "duration": 21,
    "start_time": "2023-11-01T13:08:19.060Z"
   },
   {
    "duration": 5,
    "start_time": "2023-11-01T13:08:19.478Z"
   },
   {
    "duration": 20,
    "start_time": "2023-11-01T13:08:30.058Z"
   },
   {
    "duration": 5,
    "start_time": "2023-11-01T13:08:30.423Z"
   },
   {
    "duration": 74,
    "start_time": "2023-11-01T13:09:24.835Z"
   },
   {
    "duration": 71,
    "start_time": "2023-11-01T13:09:47.388Z"
   },
   {
    "duration": 47,
    "start_time": "2023-11-01T13:09:55.606Z"
   },
   {
    "duration": 20,
    "start_time": "2023-11-01T13:10:10.274Z"
   },
   {
    "duration": 70,
    "start_time": "2023-11-01T13:10:27.602Z"
   },
   {
    "duration": 13,
    "start_time": "2023-11-01T13:10:29.131Z"
   },
   {
    "duration": 4,
    "start_time": "2023-11-01T13:11:13.626Z"
   },
   {
    "duration": 72,
    "start_time": "2023-11-01T13:11:13.923Z"
   },
   {
    "duration": 12,
    "start_time": "2023-11-01T13:11:14.332Z"
   },
   {
    "duration": 47,
    "start_time": "2023-11-02T09:13:54.984Z"
   },
   {
    "duration": 7001,
    "start_time": "2023-11-02T09:14:25.222Z"
   },
   {
    "duration": 1506,
    "start_time": "2023-11-02T09:14:32.226Z"
   },
   {
    "duration": 438,
    "start_time": "2023-11-02T09:14:33.734Z"
   },
   {
    "duration": 3,
    "start_time": "2023-11-02T09:14:34.173Z"
   },
   {
    "duration": 194,
    "start_time": "2023-11-02T09:14:34.178Z"
   },
   {
    "duration": 17,
    "start_time": "2023-11-02T09:14:34.373Z"
   },
   {
    "duration": 148,
    "start_time": "2023-11-02T09:14:34.392Z"
   },
   {
    "duration": 18,
    "start_time": "2023-11-02T09:14:34.542Z"
   },
   {
    "duration": 13,
    "start_time": "2023-11-02T09:14:34.561Z"
   },
   {
    "duration": 79,
    "start_time": "2023-11-02T09:14:34.575Z"
   },
   {
    "duration": 30,
    "start_time": "2023-11-02T09:14:34.656Z"
   },
   {
    "duration": 1954,
    "start_time": "2023-11-02T09:14:34.688Z"
   },
   {
    "duration": 16,
    "start_time": "2023-11-02T09:14:36.644Z"
   },
   {
    "duration": 31,
    "start_time": "2023-11-02T09:14:36.663Z"
   },
   {
    "duration": 50,
    "start_time": "2023-11-02T09:14:36.696Z"
   },
   {
    "duration": 143,
    "start_time": "2023-11-02T09:14:36.747Z"
   },
   {
    "duration": 32,
    "start_time": "2023-11-02T09:14:36.892Z"
   },
   {
    "duration": 55,
    "start_time": "2023-11-02T09:14:36.926Z"
   },
   {
    "duration": 149,
    "start_time": "2023-11-02T09:14:36.983Z"
   },
   {
    "duration": 5,
    "start_time": "2023-11-02T09:14:37.134Z"
   },
   {
    "duration": 39,
    "start_time": "2023-11-02T09:14:37.140Z"
   },
   {
    "duration": 41,
    "start_time": "2023-11-02T09:14:37.181Z"
   },
   {
    "duration": 46,
    "start_time": "2023-11-02T09:14:37.223Z"
   },
   {
    "duration": 110,
    "start_time": "2023-11-02T09:14:37.271Z"
   },
   {
    "duration": 12,
    "start_time": "2023-11-02T09:14:37.382Z"
   },
   {
    "duration": 2550,
    "start_time": "2023-11-02T09:14:37.396Z"
   },
   {
    "duration": 20,
    "start_time": "2023-11-02T09:14:39.947Z"
   },
   {
    "duration": 21,
    "start_time": "2023-11-02T09:14:39.969Z"
   },
   {
    "duration": 41,
    "start_time": "2023-11-02T09:14:39.991Z"
   },
   {
    "duration": 29,
    "start_time": "2023-11-02T09:14:40.034Z"
   },
   {
    "duration": 21,
    "start_time": "2023-11-02T09:14:40.065Z"
   },
   {
    "duration": 16,
    "start_time": "2023-11-02T09:14:40.088Z"
   },
   {
    "duration": 1089,
    "start_time": "2023-11-02T09:14:40.106Z"
   },
   {
    "duration": 3,
    "start_time": "2023-11-02T09:14:41.197Z"
   },
   {
    "duration": 1044,
    "start_time": "2023-11-02T09:14:41.206Z"
   },
   {
    "duration": 11,
    "start_time": "2023-11-02T09:14:42.251Z"
   },
   {
    "duration": 4,
    "start_time": "2023-11-02T09:14:42.264Z"
   },
   {
    "duration": 21,
    "start_time": "2023-11-02T09:14:42.269Z"
   },
   {
    "duration": 20,
    "start_time": "2023-11-02T09:14:42.291Z"
   },
   {
    "duration": 69,
    "start_time": "2023-11-02T09:14:42.312Z"
   },
   {
    "duration": 35,
    "start_time": "2023-11-02T09:14:42.385Z"
   },
   {
    "duration": 14,
    "start_time": "2023-11-02T09:14:42.421Z"
   },
   {
    "duration": 237,
    "start_time": "2023-11-02T09:14:42.437Z"
   },
   {
    "duration": 12,
    "start_time": "2023-11-02T09:14:42.676Z"
   },
   {
    "duration": 41,
    "start_time": "2023-11-02T09:14:42.689Z"
   },
   {
    "duration": 6,
    "start_time": "2023-11-02T09:14:42.731Z"
   },
   {
    "duration": 270,
    "start_time": "2023-11-02T09:14:42.739Z"
   },
   {
    "duration": 26,
    "start_time": "2023-11-02T09:14:43.011Z"
   },
   {
    "duration": 127,
    "start_time": "2023-11-02T09:14:43.038Z"
   },
   {
    "duration": 20,
    "start_time": "2023-11-02T09:14:43.167Z"
   },
   {
    "duration": 2397,
    "start_time": "2023-11-02T09:14:43.189Z"
   },
   {
    "duration": 232,
    "start_time": "2023-11-02T09:14:45.588Z"
   },
   {
    "duration": 7,
    "start_time": "2023-11-02T09:14:45.822Z"
   },
   {
    "duration": 166,
    "start_time": "2023-11-02T09:14:45.830Z"
   },
   {
    "duration": 0,
    "start_time": "2023-11-02T09:14:45.998Z"
   },
   {
    "duration": 1394,
    "start_time": "2023-11-02T11:18:31.040Z"
   },
   {
    "duration": 32,
    "start_time": "2023-11-02T11:18:59.321Z"
   },
   {
    "duration": 46,
    "start_time": "2023-11-02T14:47:42.208Z"
   },
   {
    "duration": 6793,
    "start_time": "2023-11-02T14:47:46.934Z"
   },
   {
    "duration": 1420,
    "start_time": "2023-11-02T14:47:53.730Z"
   },
   {
    "duration": 454,
    "start_time": "2023-11-02T14:47:55.152Z"
   },
   {
    "duration": 3,
    "start_time": "2023-11-02T14:47:55.608Z"
   },
   {
    "duration": 197,
    "start_time": "2023-11-02T14:47:55.613Z"
   },
   {
    "duration": 19,
    "start_time": "2023-11-02T14:47:55.812Z"
   },
   {
    "duration": 164,
    "start_time": "2023-11-02T14:47:55.833Z"
   },
   {
    "duration": 32,
    "start_time": "2023-11-02T14:47:56.001Z"
   },
   {
    "duration": 3,
    "start_time": "2023-11-02T14:47:56.036Z"
   },
   {
    "duration": 85,
    "start_time": "2023-11-02T14:47:56.042Z"
   },
   {
    "duration": 44,
    "start_time": "2023-11-02T14:47:56.130Z"
   },
   {
    "duration": 1893,
    "start_time": "2023-11-02T14:47:56.177Z"
   },
   {
    "duration": 14,
    "start_time": "2023-11-02T14:47:58.071Z"
   },
   {
    "duration": 60,
    "start_time": "2023-11-02T14:47:58.086Z"
   },
   {
    "duration": 46,
    "start_time": "2023-11-02T14:47:58.148Z"
   },
   {
    "duration": 131,
    "start_time": "2023-11-02T14:47:58.196Z"
   },
   {
    "duration": 23,
    "start_time": "2023-11-02T14:47:58.329Z"
   },
   {
    "duration": 34,
    "start_time": "2023-11-02T14:47:58.354Z"
   },
   {
    "duration": 127,
    "start_time": "2023-11-02T14:47:58.390Z"
   },
   {
    "duration": 6,
    "start_time": "2023-11-02T14:47:58.519Z"
   },
   {
    "duration": 29,
    "start_time": "2023-11-02T14:47:58.526Z"
   },
   {
    "duration": 31,
    "start_time": "2023-11-02T14:47:58.557Z"
   },
   {
    "duration": 20,
    "start_time": "2023-11-02T14:47:58.589Z"
   },
   {
    "duration": 74,
    "start_time": "2023-11-02T14:47:58.610Z"
   },
   {
    "duration": 10,
    "start_time": "2023-11-02T14:47:58.686Z"
   },
   {
    "duration": 2437,
    "start_time": "2023-11-02T14:47:58.698Z"
   },
   {
    "duration": 20,
    "start_time": "2023-11-02T14:48:01.137Z"
   },
   {
    "duration": 62,
    "start_time": "2023-11-02T14:48:01.161Z"
   },
   {
    "duration": 68,
    "start_time": "2023-11-02T14:48:01.225Z"
   },
   {
    "duration": 50,
    "start_time": "2023-11-02T14:48:01.295Z"
   },
   {
    "duration": 359,
    "start_time": "2023-11-02T14:48:01.346Z"
   },
   {
    "duration": 232,
    "start_time": "2023-11-02T14:48:01.707Z"
   },
   {
    "duration": 1193,
    "start_time": "2023-11-02T14:48:01.941Z"
   },
   {
    "duration": 3,
    "start_time": "2023-11-02T14:48:03.135Z"
   },
   {
    "duration": 1057,
    "start_time": "2023-11-02T14:48:03.140Z"
   },
   {
    "duration": 13,
    "start_time": "2023-11-02T14:48:04.198Z"
   },
   {
    "duration": 11,
    "start_time": "2023-11-02T14:48:04.213Z"
   },
   {
    "duration": 22,
    "start_time": "2023-11-02T14:48:04.225Z"
   },
   {
    "duration": 30,
    "start_time": "2023-11-02T14:48:04.249Z"
   },
   {
    "duration": 69,
    "start_time": "2023-11-02T14:48:04.281Z"
   },
   {
    "duration": 16,
    "start_time": "2023-11-02T14:48:04.352Z"
   },
   {
    "duration": 32,
    "start_time": "2023-11-02T14:48:04.370Z"
   },
   {
    "duration": 216,
    "start_time": "2023-11-02T14:48:04.404Z"
   },
   {
    "duration": 10,
    "start_time": "2023-11-02T14:48:04.622Z"
   },
   {
    "duration": 33,
    "start_time": "2023-11-02T14:48:04.634Z"
   },
   {
    "duration": 5,
    "start_time": "2023-11-02T14:48:04.669Z"
   },
   {
    "duration": 270,
    "start_time": "2023-11-02T14:48:04.676Z"
   },
   {
    "duration": 23,
    "start_time": "2023-11-02T14:48:04.948Z"
   },
   {
    "duration": 136,
    "start_time": "2023-11-02T14:48:04.973Z"
   },
   {
    "duration": 21,
    "start_time": "2023-11-02T14:48:05.111Z"
   },
   {
    "duration": 2398,
    "start_time": "2023-11-02T14:48:05.133Z"
   },
   {
    "duration": 226,
    "start_time": "2023-11-02T14:48:07.533Z"
   },
   {
    "duration": 5,
    "start_time": "2023-11-02T14:48:07.761Z"
   },
   {
    "duration": 1159,
    "start_time": "2023-11-02T14:48:07.768Z"
   },
   {
    "duration": 1953,
    "start_time": "2023-11-02T14:48:08.928Z"
   },
   {
    "duration": 0,
    "start_time": "2023-11-02T14:48:10.883Z"
   },
   {
    "duration": 317,
    "start_time": "2023-11-02T14:50:55.902Z"
   },
   {
    "duration": 329,
    "start_time": "2023-11-02T14:51:39.994Z"
   },
   {
    "duration": 2656,
    "start_time": "2023-11-02T14:51:53.242Z"
   },
   {
    "duration": 1335,
    "start_time": "2023-11-02T14:51:55.901Z"
   },
   {
    "duration": 253,
    "start_time": "2023-11-02T14:51:57.237Z"
   },
   {
    "duration": 3,
    "start_time": "2023-11-02T14:51:57.492Z"
   },
   {
    "duration": 208,
    "start_time": "2023-11-02T14:51:57.496Z"
   },
   {
    "duration": 17,
    "start_time": "2023-11-02T14:51:57.707Z"
   },
   {
    "duration": 152,
    "start_time": "2023-11-02T14:51:57.725Z"
   },
   {
    "duration": 18,
    "start_time": "2023-11-02T14:51:57.879Z"
   },
   {
    "duration": 3,
    "start_time": "2023-11-02T14:51:57.910Z"
   },
   {
    "duration": 68,
    "start_time": "2023-11-02T14:51:57.916Z"
   },
   {
    "duration": 30,
    "start_time": "2023-11-02T14:51:57.986Z"
   },
   {
    "duration": 1861,
    "start_time": "2023-11-02T14:51:58.018Z"
   },
   {
    "duration": 16,
    "start_time": "2023-11-02T14:51:59.881Z"
   },
   {
    "duration": 14,
    "start_time": "2023-11-02T14:51:59.899Z"
   },
   {
    "duration": 58,
    "start_time": "2023-11-02T14:51:59.914Z"
   },
   {
    "duration": 143,
    "start_time": "2023-11-02T14:51:59.973Z"
   },
   {
    "duration": 24,
    "start_time": "2023-11-02T14:52:00.117Z"
   },
   {
    "duration": 64,
    "start_time": "2023-11-02T14:52:00.143Z"
   },
   {
    "duration": 158,
    "start_time": "2023-11-02T14:52:00.208Z"
   },
   {
    "duration": 5,
    "start_time": "2023-11-02T14:52:00.368Z"
   },
   {
    "duration": 33,
    "start_time": "2023-11-02T14:52:00.374Z"
   },
   {
    "duration": 37,
    "start_time": "2023-11-02T14:52:00.408Z"
   },
   {
    "duration": 26,
    "start_time": "2023-11-02T14:52:00.446Z"
   },
   {
    "duration": 91,
    "start_time": "2023-11-02T14:52:00.474Z"
   },
   {
    "duration": 114,
    "start_time": "2023-11-02T14:52:00.567Z"
   },
   {
    "duration": 2392,
    "start_time": "2023-11-02T14:52:00.683Z"
   },
   {
    "duration": 18,
    "start_time": "2023-11-02T14:52:03.076Z"
   },
   {
    "duration": 22,
    "start_time": "2023-11-02T14:52:03.109Z"
   },
   {
    "duration": 29,
    "start_time": "2023-11-02T14:52:03.132Z"
   },
   {
    "duration": 50,
    "start_time": "2023-11-02T14:52:03.163Z"
   },
   {
    "duration": 179,
    "start_time": "2023-11-02T14:52:03.214Z"
   },
   {
    "duration": 215,
    "start_time": "2023-11-02T14:52:03.395Z"
   },
   {
    "duration": 1074,
    "start_time": "2023-11-02T14:52:03.611Z"
   },
   {
    "duration": 3,
    "start_time": "2023-11-02T14:52:04.686Z"
   },
   {
    "duration": 1060,
    "start_time": "2023-11-02T14:52:04.691Z"
   },
   {
    "duration": 11,
    "start_time": "2023-11-02T14:52:05.753Z"
   },
   {
    "duration": 9,
    "start_time": "2023-11-02T14:52:05.766Z"
   },
   {
    "duration": 40,
    "start_time": "2023-11-02T14:52:05.777Z"
   },
   {
    "duration": 13,
    "start_time": "2023-11-02T14:52:05.819Z"
   },
   {
    "duration": 84,
    "start_time": "2023-11-02T14:52:05.834Z"
   },
   {
    "duration": 21,
    "start_time": "2023-11-02T14:52:05.920Z"
   },
   {
    "duration": 29,
    "start_time": "2023-11-02T14:52:05.943Z"
   },
   {
    "duration": 259,
    "start_time": "2023-11-02T14:52:05.975Z"
   },
   {
    "duration": 13,
    "start_time": "2023-11-02T14:52:06.236Z"
   },
   {
    "duration": 48,
    "start_time": "2023-11-02T14:52:06.250Z"
   },
   {
    "duration": 6,
    "start_time": "2023-11-02T14:52:06.300Z"
   },
   {
    "duration": 287,
    "start_time": "2023-11-02T14:52:06.308Z"
   },
   {
    "duration": 28,
    "start_time": "2023-11-02T14:52:06.597Z"
   },
   {
    "duration": 148,
    "start_time": "2023-11-02T14:52:06.627Z"
   },
   {
    "duration": 20,
    "start_time": "2023-11-02T14:52:06.777Z"
   },
   {
    "duration": 2354,
    "start_time": "2023-11-02T14:52:06.799Z"
   },
   {
    "duration": 228,
    "start_time": "2023-11-02T14:52:09.155Z"
   },
   {
    "duration": 6,
    "start_time": "2023-11-02T14:52:09.385Z"
   },
   {
    "duration": 1198,
    "start_time": "2023-11-02T14:52:09.393Z"
   },
   {
    "duration": 4,
    "start_time": "2023-11-02T14:52:10.592Z"
   },
   {
    "duration": 1552,
    "start_time": "2023-11-02T14:52:10.607Z"
   },
   {
    "duration": 9,
    "start_time": "2023-11-02T14:53:18.786Z"
   },
   {
    "duration": 4,
    "start_time": "2023-11-02T14:53:21.638Z"
   },
   {
    "duration": 302,
    "start_time": "2023-11-02T14:53:21.833Z"
   },
   {
    "duration": 9,
    "start_time": "2023-11-02T14:54:43.362Z"
   },
   {
    "duration": 963,
    "start_time": "2023-11-02T14:54:47.890Z"
   },
   {
    "duration": 983,
    "start_time": "2023-11-02T14:55:52.181Z"
   },
   {
    "duration": 3,
    "start_time": "2023-11-02T14:56:23.584Z"
   },
   {
    "duration": 299,
    "start_time": "2023-11-02T14:56:23.789Z"
   },
   {
    "duration": 331,
    "start_time": "2023-11-02T14:56:30.819Z"
   },
   {
    "duration": 440,
    "start_time": "2023-11-02T14:56:40.033Z"
   },
   {
    "duration": 2658,
    "start_time": "2023-11-02T14:56:46.113Z"
   },
   {
    "duration": 1265,
    "start_time": "2023-11-02T14:56:48.773Z"
   },
   {
    "duration": 258,
    "start_time": "2023-11-02T14:56:50.039Z"
   },
   {
    "duration": 3,
    "start_time": "2023-11-02T14:56:50.299Z"
   },
   {
    "duration": 226,
    "start_time": "2023-11-02T14:56:50.304Z"
   },
   {
    "duration": 17,
    "start_time": "2023-11-02T14:56:50.532Z"
   },
   {
    "duration": 173,
    "start_time": "2023-11-02T14:56:50.551Z"
   },
   {
    "duration": 18,
    "start_time": "2023-11-02T14:56:50.726Z"
   },
   {
    "duration": 24,
    "start_time": "2023-11-02T14:56:50.745Z"
   },
   {
    "duration": 74,
    "start_time": "2023-11-02T14:56:50.771Z"
   },
   {
    "duration": 30,
    "start_time": "2023-11-02T14:56:50.847Z"
   },
   {
    "duration": 1855,
    "start_time": "2023-11-02T14:56:50.879Z"
   },
   {
    "duration": 16,
    "start_time": "2023-11-02T14:56:52.736Z"
   },
   {
    "duration": 32,
    "start_time": "2023-11-02T14:56:52.756Z"
   },
   {
    "duration": 48,
    "start_time": "2023-11-02T14:56:52.790Z"
   },
   {
    "duration": 158,
    "start_time": "2023-11-02T14:56:52.840Z"
   },
   {
    "duration": 29,
    "start_time": "2023-11-02T14:56:53.000Z"
   },
   {
    "duration": 38,
    "start_time": "2023-11-02T14:56:53.031Z"
   },
   {
    "duration": 137,
    "start_time": "2023-11-02T14:56:53.071Z"
   },
   {
    "duration": 5,
    "start_time": "2023-11-02T14:56:53.210Z"
   },
   {
    "duration": 19,
    "start_time": "2023-11-02T14:56:53.216Z"
   },
   {
    "duration": 25,
    "start_time": "2023-11-02T14:56:53.236Z"
   },
   {
    "duration": 28,
    "start_time": "2023-11-02T14:56:53.262Z"
   },
   {
    "duration": 93,
    "start_time": "2023-11-02T14:56:53.291Z"
   },
   {
    "duration": 11,
    "start_time": "2023-11-02T14:56:53.386Z"
   },
   {
    "duration": 2365,
    "start_time": "2023-11-02T14:56:53.399Z"
   },
   {
    "duration": 18,
    "start_time": "2023-11-02T14:56:55.766Z"
   },
   {
    "duration": 21,
    "start_time": "2023-11-02T14:56:55.786Z"
   },
   {
    "duration": 20,
    "start_time": "2023-11-02T14:56:55.809Z"
   },
   {
    "duration": 20,
    "start_time": "2023-11-02T14:56:55.830Z"
   },
   {
    "duration": 26,
    "start_time": "2023-11-02T14:56:55.852Z"
   },
   {
    "duration": 13,
    "start_time": "2023-11-02T14:56:55.880Z"
   },
   {
    "duration": 1131,
    "start_time": "2023-11-02T14:56:55.895Z"
   },
   {
    "duration": 4,
    "start_time": "2023-11-02T14:56:57.027Z"
   },
   {
    "duration": 1063,
    "start_time": "2023-11-02T14:56:57.033Z"
   },
   {
    "duration": 17,
    "start_time": "2023-11-02T14:56:58.098Z"
   },
   {
    "duration": 13,
    "start_time": "2023-11-02T14:56:58.117Z"
   },
   {
    "duration": 30,
    "start_time": "2023-11-02T14:56:58.132Z"
   },
   {
    "duration": 40,
    "start_time": "2023-11-02T14:56:58.163Z"
   },
   {
    "duration": 83,
    "start_time": "2023-11-02T14:56:58.204Z"
   },
   {
    "duration": 17,
    "start_time": "2023-11-02T14:56:58.290Z"
   },
   {
    "duration": 22,
    "start_time": "2023-11-02T14:56:58.309Z"
   },
   {
    "duration": 226,
    "start_time": "2023-11-02T14:56:58.333Z"
   },
   {
    "duration": 13,
    "start_time": "2023-11-02T14:56:58.561Z"
   },
   {
    "duration": 37,
    "start_time": "2023-11-02T14:56:58.575Z"
   },
   {
    "duration": 6,
    "start_time": "2023-11-02T14:56:58.613Z"
   },
   {
    "duration": 284,
    "start_time": "2023-11-02T14:56:58.621Z"
   },
   {
    "duration": 23,
    "start_time": "2023-11-02T14:56:58.906Z"
   },
   {
    "duration": 142,
    "start_time": "2023-11-02T14:56:58.930Z"
   },
   {
    "duration": 17,
    "start_time": "2023-11-02T14:56:59.074Z"
   },
   {
    "duration": 2297,
    "start_time": "2023-11-02T14:56:59.092Z"
   },
   {
    "duration": 236,
    "start_time": "2023-11-02T14:57:01.391Z"
   },
   {
    "duration": 5,
    "start_time": "2023-11-02T14:57:01.629Z"
   },
   {
    "duration": 1169,
    "start_time": "2023-11-02T14:57:01.635Z"
   },
   {
    "duration": 4,
    "start_time": "2023-11-02T14:57:02.807Z"
   },
   {
    "duration": 2290,
    "start_time": "2023-11-02T14:57:02.813Z"
   },
   {
    "duration": 534,
    "start_time": "2023-11-02T14:57:53.555Z"
   },
   {
    "duration": 3,
    "start_time": "2023-11-02T14:57:55.846Z"
   },
   {
    "duration": 3,
    "start_time": "2023-11-02T14:57:58.979Z"
   },
   {
    "duration": 3,
    "start_time": "2023-11-02T14:58:42.449Z"
   },
   {
    "duration": 506,
    "start_time": "2023-11-02T14:58:43.016Z"
   },
   {
    "duration": 3,
    "start_time": "2023-11-02T14:58:43.524Z"
   },
   {
    "duration": 4,
    "start_time": "2023-11-02T14:58:43.916Z"
   },
   {
    "duration": 2502,
    "start_time": "2023-11-02T14:58:52.339Z"
   },
   {
    "duration": 1299,
    "start_time": "2023-11-02T14:58:54.843Z"
   },
   {
    "duration": 236,
    "start_time": "2023-11-02T14:58:56.144Z"
   },
   {
    "duration": 2,
    "start_time": "2023-11-02T14:58:56.382Z"
   },
   {
    "duration": 187,
    "start_time": "2023-11-02T14:58:56.386Z"
   },
   {
    "duration": 18,
    "start_time": "2023-11-02T14:58:56.574Z"
   },
   {
    "duration": 158,
    "start_time": "2023-11-02T14:58:56.594Z"
   },
   {
    "duration": 19,
    "start_time": "2023-11-02T14:58:56.753Z"
   },
   {
    "duration": 11,
    "start_time": "2023-11-02T14:58:56.773Z"
   },
   {
    "duration": 60,
    "start_time": "2023-11-02T14:58:56.786Z"
   },
   {
    "duration": 32,
    "start_time": "2023-11-02T14:58:56.848Z"
   },
   {
    "duration": 1932,
    "start_time": "2023-11-02T14:58:56.882Z"
   },
   {
    "duration": 16,
    "start_time": "2023-11-02T14:58:58.815Z"
   },
   {
    "duration": 26,
    "start_time": "2023-11-02T14:58:58.834Z"
   },
   {
    "duration": 52,
    "start_time": "2023-11-02T14:58:58.861Z"
   },
   {
    "duration": 138,
    "start_time": "2023-11-02T14:58:58.915Z"
   },
   {
    "duration": 22,
    "start_time": "2023-11-02T14:58:59.055Z"
   },
   {
    "duration": 66,
    "start_time": "2023-11-02T14:58:59.079Z"
   },
   {
    "duration": 122,
    "start_time": "2023-11-02T14:58:59.147Z"
   },
   {
    "duration": 5,
    "start_time": "2023-11-02T14:58:59.271Z"
   },
   {
    "duration": 40,
    "start_time": "2023-11-02T14:58:59.277Z"
   },
   {
    "duration": 58,
    "start_time": "2023-11-02T14:58:59.319Z"
   },
   {
    "duration": 20,
    "start_time": "2023-11-02T14:58:59.379Z"
   },
   {
    "duration": 87,
    "start_time": "2023-11-02T14:58:59.401Z"
   },
   {
    "duration": 11,
    "start_time": "2023-11-02T14:58:59.490Z"
   },
   {
    "duration": 2478,
    "start_time": "2023-11-02T14:58:59.502Z"
   },
   {
    "duration": 32,
    "start_time": "2023-11-02T14:59:01.982Z"
   },
   {
    "duration": 133,
    "start_time": "2023-11-02T14:59:02.016Z"
   },
   {
    "duration": 97,
    "start_time": "2023-11-02T14:59:02.151Z"
   },
   {
    "duration": 47,
    "start_time": "2023-11-02T14:59:02.250Z"
   },
   {
    "duration": 51,
    "start_time": "2023-11-02T14:59:02.299Z"
   },
   {
    "duration": 63,
    "start_time": "2023-11-02T14:59:02.351Z"
   },
   {
    "duration": 1113,
    "start_time": "2023-11-02T14:59:02.415Z"
   },
   {
    "duration": 3,
    "start_time": "2023-11-02T14:59:03.530Z"
   },
   {
    "duration": 1057,
    "start_time": "2023-11-02T14:59:03.534Z"
   },
   {
    "duration": 17,
    "start_time": "2023-11-02T14:59:04.593Z"
   },
   {
    "duration": 20,
    "start_time": "2023-11-02T14:59:04.611Z"
   },
   {
    "duration": 32,
    "start_time": "2023-11-02T14:59:04.632Z"
   },
   {
    "duration": 26,
    "start_time": "2023-11-02T14:59:04.666Z"
   },
   {
    "duration": 88,
    "start_time": "2023-11-02T14:59:04.694Z"
   },
   {
    "duration": 15,
    "start_time": "2023-11-02T14:59:04.787Z"
   },
   {
    "duration": 29,
    "start_time": "2023-11-02T14:59:04.804Z"
   },
   {
    "duration": 241,
    "start_time": "2023-11-02T14:59:04.835Z"
   },
   {
    "duration": 13,
    "start_time": "2023-11-02T14:59:05.077Z"
   },
   {
    "duration": 66,
    "start_time": "2023-11-02T14:59:05.091Z"
   },
   {
    "duration": 7,
    "start_time": "2023-11-02T14:59:05.158Z"
   },
   {
    "duration": 285,
    "start_time": "2023-11-02T14:59:05.167Z"
   },
   {
    "duration": 24,
    "start_time": "2023-11-02T14:59:05.454Z"
   },
   {
    "duration": 150,
    "start_time": "2023-11-02T14:59:05.479Z"
   },
   {
    "duration": 21,
    "start_time": "2023-11-02T14:59:05.631Z"
   },
   {
    "duration": 2406,
    "start_time": "2023-11-02T14:59:05.653Z"
   },
   {
    "duration": 227,
    "start_time": "2023-11-02T14:59:08.060Z"
   },
   {
    "duration": 5,
    "start_time": "2023-11-02T14:59:08.289Z"
   },
   {
    "duration": 1166,
    "start_time": "2023-11-02T14:59:08.295Z"
   },
   {
    "duration": 3,
    "start_time": "2023-11-02T14:59:09.463Z"
   },
   {
    "duration": 513,
    "start_time": "2023-11-02T14:59:09.467Z"
   },
   {
    "duration": 3,
    "start_time": "2023-11-02T14:59:09.982Z"
   },
   {
    "duration": 5,
    "start_time": "2023-11-02T14:59:09.986Z"
   },
   {
    "duration": 3,
    "start_time": "2023-11-02T15:00:15.689Z"
   },
   {
    "duration": 4,
    "start_time": "2023-11-02T15:00:16.096Z"
   },
   {
    "duration": 127,
    "start_time": "2023-11-02T15:00:46.343Z"
   },
   {
    "duration": 3,
    "start_time": "2023-11-02T15:00:46.685Z"
   },
   {
    "duration": 5,
    "start_time": "2023-11-02T15:00:50.801Z"
   },
   {
    "duration": 3,
    "start_time": "2023-11-02T15:00:52.194Z"
   },
   {
    "duration": 4,
    "start_time": "2023-11-02T15:01:03.794Z"
   },
   {
    "duration": 37,
    "start_time": "2023-11-02T15:03:32.618Z"
   },
   {
    "duration": 5,
    "start_time": "2023-11-02T16:15:24.481Z"
   },
   {
    "duration": 1380,
    "start_time": "2023-11-02T16:15:25.137Z"
   },
   {
    "duration": 3,
    "start_time": "2023-11-02T16:16:20.476Z"
   },
   {
    "duration": 1094,
    "start_time": "2023-11-02T16:16:21.209Z"
   },
   {
    "duration": 5,
    "start_time": "2023-11-02T16:16:37.362Z"
   },
   {
    "duration": 2644,
    "start_time": "2023-11-02T16:17:12.337Z"
   },
   {
    "duration": 1417,
    "start_time": "2023-11-02T16:17:14.983Z"
   },
   {
    "duration": 258,
    "start_time": "2023-11-02T16:17:16.402Z"
   },
   {
    "duration": 3,
    "start_time": "2023-11-02T16:17:16.662Z"
   },
   {
    "duration": 246,
    "start_time": "2023-11-02T16:17:16.666Z"
   },
   {
    "duration": 19,
    "start_time": "2023-11-02T16:17:16.914Z"
   },
   {
    "duration": 176,
    "start_time": "2023-11-02T16:17:16.935Z"
   },
   {
    "duration": 18,
    "start_time": "2023-11-02T16:17:17.113Z"
   },
   {
    "duration": 13,
    "start_time": "2023-11-02T16:17:17.133Z"
   },
   {
    "duration": 66,
    "start_time": "2023-11-02T16:17:17.149Z"
   },
   {
    "duration": 34,
    "start_time": "2023-11-02T16:17:17.216Z"
   },
   {
    "duration": 1922,
    "start_time": "2023-11-02T16:17:17.252Z"
   },
   {
    "duration": 16,
    "start_time": "2023-11-02T16:17:19.175Z"
   },
   {
    "duration": 8,
    "start_time": "2023-11-02T16:17:19.192Z"
   },
   {
    "duration": 35,
    "start_time": "2023-11-02T16:17:19.202Z"
   },
   {
    "duration": 137,
    "start_time": "2023-11-02T16:17:19.238Z"
   },
   {
    "duration": 37,
    "start_time": "2023-11-02T16:17:19.377Z"
   },
   {
    "duration": 30,
    "start_time": "2023-11-02T16:17:19.416Z"
   },
   {
    "duration": 135,
    "start_time": "2023-11-02T16:17:19.448Z"
   },
   {
    "duration": 4,
    "start_time": "2023-11-02T16:17:19.585Z"
   },
   {
    "duration": 31,
    "start_time": "2023-11-02T16:17:19.591Z"
   },
   {
    "duration": 38,
    "start_time": "2023-11-02T16:17:19.624Z"
   },
   {
    "duration": 8,
    "start_time": "2023-11-02T16:17:19.664Z"
   },
   {
    "duration": 70,
    "start_time": "2023-11-02T16:17:19.674Z"
   },
   {
    "duration": 11,
    "start_time": "2023-11-02T16:17:19.745Z"
   },
   {
    "duration": 2379,
    "start_time": "2023-11-02T16:17:19.758Z"
   },
   {
    "duration": 19,
    "start_time": "2023-11-02T16:17:22.139Z"
   },
   {
    "duration": 68,
    "start_time": "2023-11-02T16:17:22.161Z"
   },
   {
    "duration": 26,
    "start_time": "2023-11-02T16:17:22.230Z"
   },
   {
    "duration": 31,
    "start_time": "2023-11-02T16:17:22.257Z"
   },
   {
    "duration": 15,
    "start_time": "2023-11-02T16:17:22.290Z"
   },
   {
    "duration": 28,
    "start_time": "2023-11-02T16:17:22.306Z"
   },
   {
    "duration": 1128,
    "start_time": "2023-11-02T16:17:22.335Z"
   },
   {
    "duration": 4,
    "start_time": "2023-11-02T16:17:23.464Z"
   },
   {
    "duration": 1075,
    "start_time": "2023-11-02T16:17:23.469Z"
   },
   {
    "duration": 11,
    "start_time": "2023-11-02T16:17:24.546Z"
   },
   {
    "duration": 22,
    "start_time": "2023-11-02T16:17:24.558Z"
   },
   {
    "duration": 53,
    "start_time": "2023-11-02T16:17:24.581Z"
   },
   {
    "duration": 20,
    "start_time": "2023-11-02T16:17:24.636Z"
   },
   {
    "duration": 86,
    "start_time": "2023-11-02T16:17:24.657Z"
   },
   {
    "duration": 15,
    "start_time": "2023-11-02T16:17:24.744Z"
   },
   {
    "duration": 40,
    "start_time": "2023-11-02T16:17:24.760Z"
   },
   {
    "duration": 230,
    "start_time": "2023-11-02T16:17:24.802Z"
   },
   {
    "duration": 12,
    "start_time": "2023-11-02T16:17:25.033Z"
   },
   {
    "duration": 59,
    "start_time": "2023-11-02T16:17:25.046Z"
   },
   {
    "duration": 6,
    "start_time": "2023-11-02T16:17:25.106Z"
   },
   {
    "duration": 308,
    "start_time": "2023-11-02T16:17:25.113Z"
   },
   {
    "duration": 29,
    "start_time": "2023-11-02T16:17:25.422Z"
   },
   {
    "duration": 126,
    "start_time": "2023-11-02T16:17:25.462Z"
   },
   {
    "duration": 25,
    "start_time": "2023-11-02T16:17:25.590Z"
   },
   {
    "duration": 2303,
    "start_time": "2023-11-02T16:17:25.617Z"
   },
   {
    "duration": 226,
    "start_time": "2023-11-02T16:17:27.921Z"
   },
   {
    "duration": 5,
    "start_time": "2023-11-02T16:17:28.149Z"
   },
   {
    "duration": 1143,
    "start_time": "2023-11-02T16:17:28.155Z"
   },
   {
    "duration": 7,
    "start_time": "2023-11-02T16:17:29.300Z"
   },
   {
    "duration": 501,
    "start_time": "2023-11-02T16:17:29.308Z"
   },
   {
    "duration": 4,
    "start_time": "2023-11-02T16:17:29.810Z"
   },
   {
    "duration": 40,
    "start_time": "2023-11-02T16:17:29.815Z"
   },
   {
    "duration": 3,
    "start_time": "2023-11-02T16:17:29.857Z"
   },
   {
    "duration": 14,
    "start_time": "2023-11-02T16:17:29.861Z"
   },
   {
    "duration": 39,
    "start_time": "2023-11-02T16:17:29.877Z"
   },
   {
    "duration": 138,
    "start_time": "2023-11-02T16:18:42.405Z"
   },
   {
    "duration": 38324,
    "start_time": "2023-11-02T16:18:53.788Z"
   },
   {
    "duration": 189,
    "start_time": "2023-11-02T16:20:04.423Z"
   },
   {
    "duration": 191,
    "start_time": "2023-11-02T16:20:15.759Z"
   },
   {
    "duration": 4,
    "start_time": "2023-11-02T16:20:58.421Z"
   },
   {
    "duration": 488,
    "start_time": "2023-11-02T16:20:58.854Z"
   },
   {
    "duration": 4,
    "start_time": "2023-11-02T16:21:01.557Z"
   },
   {
    "duration": 34,
    "start_time": "2023-11-02T16:21:01.812Z"
   },
   {
    "duration": 3,
    "start_time": "2023-11-02T16:21:04.042Z"
   },
   {
    "duration": 3,
    "start_time": "2023-11-02T16:21:04.830Z"
   },
   {
    "duration": 6,
    "start_time": "2023-11-02T16:22:07.498Z"
   },
   {
    "duration": 2732,
    "start_time": "2023-11-02T16:22:07.819Z"
   },
   {
    "duration": 7,
    "start_time": "2023-11-02T16:23:46.523Z"
   },
   {
    "duration": 781,
    "start_time": "2023-11-02T16:23:47.394Z"
   },
   {
    "duration": 4,
    "start_time": "2023-11-02T16:23:49.982Z"
   },
   {
    "duration": 42,
    "start_time": "2023-11-02T16:23:52.432Z"
   },
   {
    "duration": 4,
    "start_time": "2023-11-02T16:23:54.441Z"
   },
   {
    "duration": 4,
    "start_time": "2023-11-02T16:23:55.241Z"
   },
   {
    "duration": 62,
    "start_time": "2023-11-02T16:30:33.822Z"
   },
   {
    "duration": 62,
    "start_time": "2023-11-02T16:30:53.731Z"
   },
   {
    "duration": 13,
    "start_time": "2023-11-02T16:31:28.683Z"
   },
   {
    "duration": 5,
    "start_time": "2023-11-02T16:32:42.985Z"
   },
   {
    "duration": 11,
    "start_time": "2023-11-02T16:33:15.609Z"
   },
   {
    "duration": 32,
    "start_time": "2023-11-02T16:33:26.903Z"
   },
   {
    "duration": 6,
    "start_time": "2023-11-02T16:39:42.591Z"
   },
   {
    "duration": 2712,
    "start_time": "2023-11-02T16:39:54.184Z"
   },
   {
    "duration": 1326,
    "start_time": "2023-11-02T16:39:56.898Z"
   },
   {
    "duration": 240,
    "start_time": "2023-11-02T16:39:58.226Z"
   },
   {
    "duration": 3,
    "start_time": "2023-11-02T16:39:58.468Z"
   },
   {
    "duration": 191,
    "start_time": "2023-11-02T16:39:58.473Z"
   },
   {
    "duration": 19,
    "start_time": "2023-11-02T16:39:58.666Z"
   },
   {
    "duration": 155,
    "start_time": "2023-11-02T16:39:58.687Z"
   },
   {
    "duration": 20,
    "start_time": "2023-11-02T16:39:58.844Z"
   },
   {
    "duration": 8,
    "start_time": "2023-11-02T16:39:58.866Z"
   },
   {
    "duration": 70,
    "start_time": "2023-11-02T16:39:58.876Z"
   },
   {
    "duration": 31,
    "start_time": "2023-11-02T16:39:58.948Z"
   },
   {
    "duration": 2057,
    "start_time": "2023-11-02T16:39:58.981Z"
   },
   {
    "duration": 16,
    "start_time": "2023-11-02T16:40:01.040Z"
   },
   {
    "duration": 22,
    "start_time": "2023-11-02T16:40:01.057Z"
   },
   {
    "duration": 122,
    "start_time": "2023-11-02T16:40:01.081Z"
   },
   {
    "duration": 196,
    "start_time": "2023-11-02T16:40:01.205Z"
   },
   {
    "duration": 28,
    "start_time": "2023-11-02T16:40:01.402Z"
   },
   {
    "duration": 56,
    "start_time": "2023-11-02T16:40:01.432Z"
   },
   {
    "duration": 154,
    "start_time": "2023-11-02T16:40:01.490Z"
   },
   {
    "duration": 6,
    "start_time": "2023-11-02T16:40:01.646Z"
   },
   {
    "duration": 70,
    "start_time": "2023-11-02T16:40:01.654Z"
   },
   {
    "duration": 38,
    "start_time": "2023-11-02T16:40:01.726Z"
   },
   {
    "duration": 34,
    "start_time": "2023-11-02T16:40:01.766Z"
   },
   {
    "duration": 104,
    "start_time": "2023-11-02T16:40:01.802Z"
   },
   {
    "duration": 96,
    "start_time": "2023-11-02T16:40:01.907Z"
   },
   {
    "duration": 2482,
    "start_time": "2023-11-02T16:40:02.005Z"
   },
   {
    "duration": 28,
    "start_time": "2023-11-02T16:40:04.489Z"
   },
   {
    "duration": 18,
    "start_time": "2023-11-02T16:40:04.521Z"
   },
   {
    "duration": 34,
    "start_time": "2023-11-02T16:40:04.541Z"
   },
   {
    "duration": 21,
    "start_time": "2023-11-02T16:40:04.577Z"
   },
   {
    "duration": 19,
    "start_time": "2023-11-02T16:40:04.600Z"
   },
   {
    "duration": 18,
    "start_time": "2023-11-02T16:40:04.621Z"
   },
   {
    "duration": 1178,
    "start_time": "2023-11-02T16:40:04.641Z"
   },
   {
    "duration": 4,
    "start_time": "2023-11-02T16:40:05.822Z"
   },
   {
    "duration": 1194,
    "start_time": "2023-11-02T16:40:05.828Z"
   },
   {
    "duration": 12,
    "start_time": "2023-11-02T16:40:07.024Z"
   },
   {
    "duration": 6,
    "start_time": "2023-11-02T16:40:07.037Z"
   },
   {
    "duration": 27,
    "start_time": "2023-11-02T16:40:07.045Z"
   },
   {
    "duration": 28,
    "start_time": "2023-11-02T16:40:07.073Z"
   },
   {
    "duration": 87,
    "start_time": "2023-11-02T16:40:07.103Z"
   },
   {
    "duration": 17,
    "start_time": "2023-11-02T16:40:07.192Z"
   },
   {
    "duration": 54,
    "start_time": "2023-11-02T16:40:07.210Z"
   },
   {
    "duration": 250,
    "start_time": "2023-11-02T16:40:07.266Z"
   },
   {
    "duration": 11,
    "start_time": "2023-11-02T16:40:07.518Z"
   },
   {
    "duration": 48,
    "start_time": "2023-11-02T16:40:07.531Z"
   },
   {
    "duration": 6,
    "start_time": "2023-11-02T16:40:07.581Z"
   },
   {
    "duration": 291,
    "start_time": "2023-11-02T16:40:07.589Z"
   },
   {
    "duration": 32,
    "start_time": "2023-11-02T16:40:07.882Z"
   },
   {
    "duration": 152,
    "start_time": "2023-11-02T16:40:07.916Z"
   },
   {
    "duration": 20,
    "start_time": "2023-11-02T16:40:08.070Z"
   },
   {
    "duration": 2293,
    "start_time": "2023-11-02T16:40:08.091Z"
   },
   {
    "duration": 228,
    "start_time": "2023-11-02T16:40:10.386Z"
   },
   {
    "duration": 5,
    "start_time": "2023-11-02T16:40:10.615Z"
   },
   {
    "duration": 10,
    "start_time": "2023-11-02T16:40:10.622Z"
   },
   {
    "duration": 1215,
    "start_time": "2023-11-02T16:40:10.634Z"
   },
   {
    "duration": 5,
    "start_time": "2023-11-02T16:40:11.851Z"
   },
   {
    "duration": 866,
    "start_time": "2023-11-02T16:40:11.858Z"
   },
   {
    "duration": 4,
    "start_time": "2023-11-02T16:40:12.726Z"
   },
   {
    "duration": 64,
    "start_time": "2023-11-02T16:40:12.731Z"
   },
   {
    "duration": 4,
    "start_time": "2023-11-02T16:40:12.796Z"
   },
   {
    "duration": 24,
    "start_time": "2023-11-02T16:40:12.801Z"
   },
   {
    "duration": 40,
    "start_time": "2023-11-02T16:40:12.827Z"
   },
   {
    "duration": 37,
    "start_time": "2023-11-02T16:40:12.868Z"
   },
   {
    "duration": 50,
    "start_time": "2023-11-02T17:04:34.539Z"
   },
   {
    "duration": 18,
    "start_time": "2023-11-02T17:04:45.988Z"
   },
   {
    "duration": 3,
    "start_time": "2023-11-02T17:13:22.357Z"
   },
   {
    "duration": 5,
    "start_time": "2023-11-02T17:16:41.512Z"
   },
   {
    "duration": 7,
    "start_time": "2023-11-02T17:20:33.233Z"
   },
   {
    "duration": 8,
    "start_time": "2023-11-02T17:20:39.064Z"
   },
   {
    "duration": 119,
    "start_time": "2023-11-02T17:22:20.980Z"
   },
   {
    "duration": 4,
    "start_time": "2023-11-02T17:26:48.901Z"
   },
   {
    "duration": 4,
    "start_time": "2023-11-02T17:29:18.266Z"
   },
   {
    "duration": 4,
    "start_time": "2023-11-02T17:29:26.124Z"
   },
   {
    "duration": 7,
    "start_time": "2023-11-02T17:33:23.962Z"
   },
   {
    "duration": 2643,
    "start_time": "2023-11-02T17:42:22.354Z"
   },
   {
    "duration": 1392,
    "start_time": "2023-11-02T17:42:24.999Z"
   },
   {
    "duration": 254,
    "start_time": "2023-11-02T17:42:26.392Z"
   },
   {
    "duration": 4,
    "start_time": "2023-11-02T17:42:26.647Z"
   },
   {
    "duration": 197,
    "start_time": "2023-11-02T17:42:26.653Z"
   },
   {
    "duration": 17,
    "start_time": "2023-11-02T17:42:26.851Z"
   },
   {
    "duration": 151,
    "start_time": "2023-11-02T17:42:26.870Z"
   },
   {
    "duration": 18,
    "start_time": "2023-11-02T17:42:27.023Z"
   },
   {
    "duration": 8,
    "start_time": "2023-11-02T17:42:27.043Z"
   },
   {
    "duration": 85,
    "start_time": "2023-11-02T17:42:27.053Z"
   },
   {
    "duration": 34,
    "start_time": "2023-11-02T17:42:27.140Z"
   },
   {
    "duration": 1869,
    "start_time": "2023-11-02T17:42:27.176Z"
   },
   {
    "duration": 22,
    "start_time": "2023-11-02T17:42:29.047Z"
   },
   {
    "duration": 28,
    "start_time": "2023-11-02T17:42:29.071Z"
   },
   {
    "duration": 12,
    "start_time": "2023-11-02T17:42:29.100Z"
   },
   {
    "duration": 45,
    "start_time": "2023-11-02T17:42:29.113Z"
   },
   {
    "duration": 123,
    "start_time": "2023-11-02T17:42:29.160Z"
   },
   {
    "duration": 24,
    "start_time": "2023-11-02T17:42:29.284Z"
   },
   {
    "duration": 47,
    "start_time": "2023-11-02T17:42:29.309Z"
   },
   {
    "duration": 141,
    "start_time": "2023-11-02T17:42:29.357Z"
   },
   {
    "duration": 7,
    "start_time": "2023-11-02T17:42:29.499Z"
   },
   {
    "duration": 22,
    "start_time": "2023-11-02T17:42:29.508Z"
   },
   {
    "duration": 31,
    "start_time": "2023-11-02T17:42:29.531Z"
   },
   {
    "duration": 17,
    "start_time": "2023-11-02T17:42:29.563Z"
   },
   {
    "duration": 68,
    "start_time": "2023-11-02T17:42:29.581Z"
   },
   {
    "duration": 11,
    "start_time": "2023-11-02T17:42:29.650Z"
   },
   {
    "duration": 2439,
    "start_time": "2023-11-02T17:42:29.662Z"
   },
   {
    "duration": 21,
    "start_time": "2023-11-02T17:42:32.103Z"
   },
   {
    "duration": 21,
    "start_time": "2023-11-02T17:42:32.125Z"
   },
   {
    "duration": 42,
    "start_time": "2023-11-02T17:42:32.147Z"
   },
   {
    "duration": 75,
    "start_time": "2023-11-02T17:42:32.191Z"
   },
   {
    "duration": 46,
    "start_time": "2023-11-02T17:42:32.268Z"
   },
   {
    "duration": 50,
    "start_time": "2023-11-02T17:42:32.316Z"
   },
   {
    "duration": 1112,
    "start_time": "2023-11-02T17:42:32.368Z"
   },
   {
    "duration": 3,
    "start_time": "2023-11-02T17:42:33.482Z"
   },
   {
    "duration": 1065,
    "start_time": "2023-11-02T17:42:33.487Z"
   },
   {
    "duration": 12,
    "start_time": "2023-11-02T17:42:34.554Z"
   },
   {
    "duration": 22,
    "start_time": "2023-11-02T17:42:34.567Z"
   },
   {
    "duration": 31,
    "start_time": "2023-11-02T17:42:34.591Z"
   },
   {
    "duration": 31,
    "start_time": "2023-11-02T17:42:34.624Z"
   },
   {
    "duration": 30,
    "start_time": "2023-11-02T17:42:34.659Z"
   },
   {
    "duration": 77,
    "start_time": "2023-11-02T17:42:34.690Z"
   },
   {
    "duration": 11,
    "start_time": "2023-11-02T17:42:34.769Z"
   },
   {
    "duration": 231,
    "start_time": "2023-11-02T17:42:34.782Z"
   },
   {
    "duration": 28,
    "start_time": "2023-11-02T17:42:35.015Z"
   },
   {
    "duration": 11,
    "start_time": "2023-11-02T17:42:35.044Z"
   },
   {
    "duration": 293,
    "start_time": "2023-11-02T17:42:35.057Z"
   },
   {
    "duration": 23,
    "start_time": "2023-11-02T17:42:35.352Z"
   },
   {
    "duration": 168,
    "start_time": "2023-11-02T17:42:35.377Z"
   },
   {
    "duration": 20,
    "start_time": "2023-11-02T17:42:35.547Z"
   },
   {
    "duration": 2352,
    "start_time": "2023-11-02T17:42:35.569Z"
   },
   {
    "duration": 229,
    "start_time": "2023-11-02T17:42:37.922Z"
   },
   {
    "duration": 6,
    "start_time": "2023-11-02T17:42:38.153Z"
   },
   {
    "duration": 13,
    "start_time": "2023-11-02T17:42:38.161Z"
   },
   {
    "duration": 1188,
    "start_time": "2023-11-02T17:42:38.175Z"
   },
   {
    "duration": 5,
    "start_time": "2023-11-02T17:42:39.366Z"
   },
   {
    "duration": 806,
    "start_time": "2023-11-02T17:42:39.373Z"
   },
   {
    "duration": 3,
    "start_time": "2023-11-02T17:42:40.181Z"
   },
   {
    "duration": 14,
    "start_time": "2023-11-02T17:42:40.186Z"
   },
   {
    "duration": 15,
    "start_time": "2023-11-02T17:42:40.202Z"
   },
   {
    "duration": 15,
    "start_time": "2023-11-02T17:42:40.219Z"
   },
   {
    "duration": 24,
    "start_time": "2023-11-02T17:42:40.236Z"
   },
   {
    "duration": 6633,
    "start_time": "2023-11-03T06:27:25.433Z"
   },
   {
    "duration": 1415,
    "start_time": "2023-11-03T06:27:32.068Z"
   },
   {
    "duration": 461,
    "start_time": "2023-11-03T06:27:33.485Z"
   },
   {
    "duration": 3,
    "start_time": "2023-11-03T06:27:33.948Z"
   },
   {
    "duration": 181,
    "start_time": "2023-11-03T06:27:33.953Z"
   },
   {
    "duration": 17,
    "start_time": "2023-11-03T06:27:34.135Z"
   },
   {
    "duration": 154,
    "start_time": "2023-11-03T06:27:34.154Z"
   },
   {
    "duration": 17,
    "start_time": "2023-11-03T06:27:34.310Z"
   },
   {
    "duration": 7,
    "start_time": "2023-11-03T06:27:34.328Z"
   },
   {
    "duration": 57,
    "start_time": "2023-11-03T06:27:34.336Z"
   },
   {
    "duration": 36,
    "start_time": "2023-11-03T06:27:34.394Z"
   },
   {
    "duration": 1882,
    "start_time": "2023-11-03T06:27:34.432Z"
   },
   {
    "duration": 20,
    "start_time": "2023-11-03T06:27:36.315Z"
   },
   {
    "duration": 13,
    "start_time": "2023-11-03T06:27:36.338Z"
   },
   {
    "duration": 14,
    "start_time": "2023-11-03T06:27:36.352Z"
   },
   {
    "duration": 55,
    "start_time": "2023-11-03T06:27:36.368Z"
   },
   {
    "duration": 130,
    "start_time": "2023-11-03T06:27:36.424Z"
   },
   {
    "duration": 24,
    "start_time": "2023-11-03T06:27:36.555Z"
   },
   {
    "duration": 37,
    "start_time": "2023-11-03T06:27:36.581Z"
   },
   {
    "duration": 127,
    "start_time": "2023-11-03T06:27:36.621Z"
   },
   {
    "duration": 6,
    "start_time": "2023-11-03T06:27:36.750Z"
   },
   {
    "duration": 38,
    "start_time": "2023-11-03T06:27:36.758Z"
   },
   {
    "duration": 32,
    "start_time": "2023-11-03T06:27:36.798Z"
   },
   {
    "duration": 7,
    "start_time": "2023-11-03T06:27:36.832Z"
   },
   {
    "duration": 63,
    "start_time": "2023-11-03T06:27:36.841Z"
   },
   {
    "duration": 11,
    "start_time": "2023-11-03T06:27:36.906Z"
   },
   {
    "duration": 2453,
    "start_time": "2023-11-03T06:27:36.918Z"
   },
   {
    "duration": 18,
    "start_time": "2023-11-03T06:27:39.373Z"
   },
   {
    "duration": 29,
    "start_time": "2023-11-03T06:27:39.392Z"
   },
   {
    "duration": 16,
    "start_time": "2023-11-03T06:27:39.423Z"
   },
   {
    "duration": 10,
    "start_time": "2023-11-03T06:27:39.441Z"
   },
   {
    "duration": 23,
    "start_time": "2023-11-03T06:27:39.452Z"
   },
   {
    "duration": 29,
    "start_time": "2023-11-03T06:27:39.476Z"
   },
   {
    "duration": 1125,
    "start_time": "2023-11-03T06:27:39.506Z"
   },
   {
    "duration": 4,
    "start_time": "2023-11-03T06:27:40.632Z"
   },
   {
    "duration": 1108,
    "start_time": "2023-11-03T06:27:40.637Z"
   },
   {
    "duration": 11,
    "start_time": "2023-11-03T06:27:41.747Z"
   },
   {
    "duration": 20,
    "start_time": "2023-11-03T06:27:41.759Z"
   },
   {
    "duration": 24,
    "start_time": "2023-11-03T06:27:41.780Z"
   },
   {
    "duration": 22,
    "start_time": "2023-11-03T06:27:41.806Z"
   },
   {
    "duration": 13,
    "start_time": "2023-11-03T06:27:41.831Z"
   },
   {
    "duration": 96,
    "start_time": "2023-11-03T06:27:41.845Z"
   },
   {
    "duration": 12,
    "start_time": "2023-11-03T06:27:41.943Z"
   },
   {
    "duration": 214,
    "start_time": "2023-11-03T06:27:41.957Z"
   },
   {
    "duration": 34,
    "start_time": "2023-11-03T06:27:42.173Z"
   },
   {
    "duration": 6,
    "start_time": "2023-11-03T06:27:42.209Z"
   },
   {
    "duration": 271,
    "start_time": "2023-11-03T06:27:42.217Z"
   },
   {
    "duration": 26,
    "start_time": "2023-11-03T06:27:42.490Z"
   },
   {
    "duration": 133,
    "start_time": "2023-11-03T06:27:42.518Z"
   },
   {
    "duration": 18,
    "start_time": "2023-11-03T06:27:42.652Z"
   },
   {
    "duration": 2229,
    "start_time": "2023-11-03T06:27:42.671Z"
   },
   {
    "duration": 221,
    "start_time": "2023-11-03T06:27:44.902Z"
   },
   {
    "duration": 5,
    "start_time": "2023-11-03T06:27:45.124Z"
   },
   {
    "duration": 28,
    "start_time": "2023-11-03T06:27:45.130Z"
   },
   {
    "duration": 1249,
    "start_time": "2023-11-03T06:27:45.159Z"
   },
   {
    "duration": 6,
    "start_time": "2023-11-03T06:27:46.410Z"
   },
   {
    "duration": 853,
    "start_time": "2023-11-03T06:27:46.418Z"
   },
   {
    "duration": 4,
    "start_time": "2023-11-03T06:27:47.273Z"
   },
   {
    "duration": 116,
    "start_time": "2023-11-03T06:27:47.278Z"
   },
   {
    "duration": 32,
    "start_time": "2023-11-03T06:27:47.396Z"
   },
   {
    "duration": 32,
    "start_time": "2023-11-03T06:27:47.430Z"
   },
   {
    "duration": 44,
    "start_time": "2023-11-03T06:27:47.464Z"
   },
   {
    "duration": 2287,
    "start_time": "2023-11-03T06:29:09.654Z"
   },
   {
    "duration": 4,
    "start_time": "2023-11-03T06:31:56.386Z"
   },
   {
    "duration": 4,
    "start_time": "2023-11-03T06:44:06.623Z"
   },
   {
    "duration": 2195,
    "start_time": "2023-11-03T06:44:09.577Z"
   },
   {
    "duration": 6,
    "start_time": "2023-11-03T06:44:32.486Z"
   },
   {
    "duration": 3,
    "start_time": "2023-11-03T06:46:57.555Z"
   },
   {
    "duration": 2199,
    "start_time": "2023-11-03T06:47:00.191Z"
   },
   {
    "duration": 6,
    "start_time": "2023-11-03T06:47:03.481Z"
   },
   {
    "duration": 3,
    "start_time": "2023-11-03T06:47:18.149Z"
   },
   {
    "duration": 3,
    "start_time": "2023-11-03T06:47:18.599Z"
   },
   {
    "duration": 2206,
    "start_time": "2023-11-03T06:47:19.162Z"
   },
   {
    "duration": 5,
    "start_time": "2023-11-03T06:47:21.370Z"
   },
   {
    "duration": 4,
    "start_time": "2023-11-03T06:47:42.840Z"
   },
   {
    "duration": 3,
    "start_time": "2023-11-03T06:47:43.061Z"
   },
   {
    "duration": 2188,
    "start_time": "2023-11-03T06:47:43.591Z"
   },
   {
    "duration": 6,
    "start_time": "2023-11-03T06:47:45.781Z"
   },
   {
    "duration": 4,
    "start_time": "2023-11-03T06:48:36.676Z"
   },
   {
    "duration": 1095,
    "start_time": "2023-11-03T06:48:36.862Z"
   },
   {
    "duration": 4,
    "start_time": "2023-11-03T06:48:37.959Z"
   },
   {
    "duration": 89,
    "start_time": "2023-11-03T06:52:55.864Z"
   },
   {
    "duration": 4,
    "start_time": "2023-11-03T06:53:20.013Z"
   },
   {
    "duration": 4,
    "start_time": "2023-11-03T06:53:24.443Z"
   },
   {
    "duration": 2971,
    "start_time": "2023-11-03T07:22:58.864Z"
   },
   {
    "duration": 1449,
    "start_time": "2023-11-03T07:23:01.838Z"
   },
   {
    "duration": 265,
    "start_time": "2023-11-03T07:23:03.289Z"
   },
   {
    "duration": 3,
    "start_time": "2023-11-03T07:23:03.556Z"
   },
   {
    "duration": 196,
    "start_time": "2023-11-03T07:23:03.561Z"
   },
   {
    "duration": 17,
    "start_time": "2023-11-03T07:23:03.759Z"
   },
   {
    "duration": 150,
    "start_time": "2023-11-03T07:23:03.778Z"
   },
   {
    "duration": 18,
    "start_time": "2023-11-03T07:23:03.930Z"
   },
   {
    "duration": 16,
    "start_time": "2023-11-03T07:23:03.950Z"
   },
   {
    "duration": 68,
    "start_time": "2023-11-03T07:23:03.968Z"
   },
   {
    "duration": 32,
    "start_time": "2023-11-03T07:23:04.037Z"
   },
   {
    "duration": 1967,
    "start_time": "2023-11-03T07:23:04.071Z"
   },
   {
    "duration": 26,
    "start_time": "2023-11-03T07:23:06.039Z"
   },
   {
    "duration": 29,
    "start_time": "2023-11-03T07:23:06.066Z"
   },
   {
    "duration": 33,
    "start_time": "2023-11-03T07:23:06.097Z"
   },
   {
    "duration": 45,
    "start_time": "2023-11-03T07:23:06.132Z"
   },
   {
    "duration": 140,
    "start_time": "2023-11-03T07:23:06.179Z"
   },
   {
    "duration": 24,
    "start_time": "2023-11-03T07:23:06.321Z"
   },
   {
    "duration": 227,
    "start_time": "2023-11-03T07:23:06.346Z"
   },
   {
    "duration": 133,
    "start_time": "2023-11-03T07:23:06.575Z"
   },
   {
    "duration": 5,
    "start_time": "2023-11-03T07:23:06.710Z"
   },
   {
    "duration": 15,
    "start_time": "2023-11-03T07:23:06.716Z"
   },
   {
    "duration": 19,
    "start_time": "2023-11-03T07:23:06.732Z"
   },
   {
    "duration": 20,
    "start_time": "2023-11-03T07:23:06.752Z"
   },
   {
    "duration": 70,
    "start_time": "2023-11-03T07:23:06.774Z"
   },
   {
    "duration": 11,
    "start_time": "2023-11-03T07:23:06.846Z"
   },
   {
    "duration": 2366,
    "start_time": "2023-11-03T07:23:06.858Z"
   },
   {
    "duration": 19,
    "start_time": "2023-11-03T07:23:09.228Z"
   },
   {
    "duration": 41,
    "start_time": "2023-11-03T07:23:09.248Z"
   },
   {
    "duration": 26,
    "start_time": "2023-11-03T07:23:09.290Z"
   },
   {
    "duration": 34,
    "start_time": "2023-11-03T07:23:09.317Z"
   },
   {
    "duration": 25,
    "start_time": "2023-11-03T07:23:09.353Z"
   },
   {
    "duration": 25,
    "start_time": "2023-11-03T07:23:09.380Z"
   },
   {
    "duration": 1124,
    "start_time": "2023-11-03T07:23:09.406Z"
   },
   {
    "duration": 4,
    "start_time": "2023-11-03T07:23:10.532Z"
   },
   {
    "duration": 1065,
    "start_time": "2023-11-03T07:23:10.537Z"
   },
   {
    "duration": 4,
    "start_time": "2023-11-03T07:23:11.604Z"
   },
   {
    "duration": 31,
    "start_time": "2023-11-03T07:23:11.609Z"
   },
   {
    "duration": 36,
    "start_time": "2023-11-03T07:23:11.642Z"
   },
   {
    "duration": 49,
    "start_time": "2023-11-03T07:23:11.680Z"
   },
   {
    "duration": 91,
    "start_time": "2023-11-03T07:23:11.731Z"
   },
   {
    "duration": 125,
    "start_time": "2023-11-03T07:23:11.824Z"
   },
   {
    "duration": 12,
    "start_time": "2023-11-03T07:23:11.951Z"
   },
   {
    "duration": 217,
    "start_time": "2023-11-03T07:23:11.964Z"
   },
   {
    "duration": 28,
    "start_time": "2023-11-03T07:23:12.183Z"
   },
   {
    "duration": 6,
    "start_time": "2023-11-03T07:23:12.213Z"
   },
   {
    "duration": 286,
    "start_time": "2023-11-03T07:23:12.220Z"
   },
   {
    "duration": 23,
    "start_time": "2023-11-03T07:23:12.508Z"
   },
   {
    "duration": 137,
    "start_time": "2023-11-03T07:23:12.533Z"
   },
   {
    "duration": 17,
    "start_time": "2023-11-03T07:23:12.672Z"
   },
   {
    "duration": 2539,
    "start_time": "2023-11-03T07:23:12.690Z"
   },
   {
    "duration": 222,
    "start_time": "2023-11-03T07:23:15.231Z"
   },
   {
    "duration": 5,
    "start_time": "2023-11-03T07:23:15.455Z"
   },
   {
    "duration": 22,
    "start_time": "2023-11-03T07:23:15.461Z"
   },
   {
    "duration": 1197,
    "start_time": "2023-11-03T07:23:15.485Z"
   },
   {
    "duration": 5,
    "start_time": "2023-11-03T07:23:16.684Z"
   },
   {
    "duration": 816,
    "start_time": "2023-11-03T07:23:16.691Z"
   },
   {
    "duration": 4,
    "start_time": "2023-11-03T07:23:17.508Z"
   },
   {
    "duration": 30,
    "start_time": "2023-11-03T07:23:17.513Z"
   },
   {
    "duration": 6,
    "start_time": "2023-11-03T07:23:17.544Z"
   },
   {
    "duration": 20,
    "start_time": "2023-11-03T07:23:17.552Z"
   },
   {
    "duration": 34,
    "start_time": "2023-11-03T07:23:17.573Z"
   },
   {
    "duration": 116,
    "start_time": "2023-11-03T08:09:39.731Z"
   },
   {
    "duration": 6892,
    "start_time": "2023-11-03T08:10:17.191Z"
   },
   {
    "duration": 5,
    "start_time": "2023-11-03T08:10:34.919Z"
   },
   {
    "duration": 4,
    "start_time": "2023-11-03T08:10:44.079Z"
   },
   {
    "duration": 6835,
    "start_time": "2023-11-03T08:11:16.674Z"
   },
   {
    "duration": 3,
    "start_time": "2023-11-03T08:11:23.511Z"
   },
   {
    "duration": 2691,
    "start_time": "2023-11-03T08:15:19.491Z"
   },
   {
    "duration": 1331,
    "start_time": "2023-11-03T08:15:22.184Z"
   },
   {
    "duration": 233,
    "start_time": "2023-11-03T08:15:23.517Z"
   },
   {
    "duration": 3,
    "start_time": "2023-11-03T08:15:23.751Z"
   },
   {
    "duration": 201,
    "start_time": "2023-11-03T08:15:23.756Z"
   },
   {
    "duration": 18,
    "start_time": "2023-11-03T08:15:23.958Z"
   },
   {
    "duration": 155,
    "start_time": "2023-11-03T08:15:23.977Z"
   },
   {
    "duration": 17,
    "start_time": "2023-11-03T08:15:24.133Z"
   },
   {
    "duration": 14,
    "start_time": "2023-11-03T08:15:24.152Z"
   },
   {
    "duration": 72,
    "start_time": "2023-11-03T08:15:24.167Z"
   },
   {
    "duration": 30,
    "start_time": "2023-11-03T08:15:24.241Z"
   },
   {
    "duration": 1976,
    "start_time": "2023-11-03T08:15:24.274Z"
   },
   {
    "duration": 22,
    "start_time": "2023-11-03T08:15:26.252Z"
   },
   {
    "duration": 26,
    "start_time": "2023-11-03T08:15:26.277Z"
   },
   {
    "duration": 11,
    "start_time": "2023-11-03T08:15:26.305Z"
   },
   {
    "duration": 40,
    "start_time": "2023-11-03T08:15:26.317Z"
   },
   {
    "duration": 127,
    "start_time": "2023-11-03T08:15:26.359Z"
   },
   {
    "duration": 33,
    "start_time": "2023-11-03T08:15:26.487Z"
   },
   {
    "duration": 62,
    "start_time": "2023-11-03T08:15:26.521Z"
   },
   {
    "duration": 149,
    "start_time": "2023-11-03T08:15:26.585Z"
   },
   {
    "duration": 6,
    "start_time": "2023-11-03T08:15:26.736Z"
   },
   {
    "duration": 23,
    "start_time": "2023-11-03T08:15:26.744Z"
   },
   {
    "duration": 39,
    "start_time": "2023-11-03T08:15:26.769Z"
   },
   {
    "duration": 23,
    "start_time": "2023-11-03T08:15:26.810Z"
   },
   {
    "duration": 101,
    "start_time": "2023-11-03T08:15:26.835Z"
   },
   {
    "duration": 11,
    "start_time": "2023-11-03T08:15:26.937Z"
   },
   {
    "duration": 2313,
    "start_time": "2023-11-03T08:15:26.949Z"
   },
   {
    "duration": 21,
    "start_time": "2023-11-03T08:15:29.264Z"
   },
   {
    "duration": 21,
    "start_time": "2023-11-03T08:15:29.287Z"
   },
   {
    "duration": 14,
    "start_time": "2023-11-03T08:15:29.310Z"
   },
   {
    "duration": 15,
    "start_time": "2023-11-03T08:15:29.326Z"
   },
   {
    "duration": 14,
    "start_time": "2023-11-03T08:15:29.342Z"
   },
   {
    "duration": 7,
    "start_time": "2023-11-03T08:15:29.357Z"
   },
   {
    "duration": 1164,
    "start_time": "2023-11-03T08:15:29.366Z"
   },
   {
    "duration": 4,
    "start_time": "2023-11-03T08:15:30.531Z"
   },
   {
    "duration": 1131,
    "start_time": "2023-11-03T08:15:30.536Z"
   },
   {
    "duration": 4,
    "start_time": "2023-11-03T08:15:31.669Z"
   },
   {
    "duration": 52,
    "start_time": "2023-11-03T08:15:31.674Z"
   },
   {
    "duration": 52,
    "start_time": "2023-11-03T08:15:31.728Z"
   },
   {
    "duration": 159,
    "start_time": "2023-11-03T08:15:31.782Z"
   },
   {
    "duration": 57,
    "start_time": "2023-11-03T08:15:31.948Z"
   },
   {
    "duration": 128,
    "start_time": "2023-11-03T08:15:32.007Z"
   },
   {
    "duration": 12,
    "start_time": "2023-11-03T08:15:32.137Z"
   },
   {
    "duration": 380,
    "start_time": "2023-11-03T08:15:32.151Z"
   },
   {
    "duration": 28,
    "start_time": "2023-11-03T08:15:32.533Z"
   },
   {
    "duration": 52,
    "start_time": "2023-11-03T08:15:32.562Z"
   },
   {
    "duration": 539,
    "start_time": "2023-11-03T08:15:32.615Z"
   },
   {
    "duration": 22,
    "start_time": "2023-11-03T08:15:33.156Z"
   },
   {
    "duration": 145,
    "start_time": "2023-11-03T08:15:33.179Z"
   },
   {
    "duration": 19,
    "start_time": "2023-11-03T08:15:33.326Z"
   },
   {
    "duration": 1253,
    "start_time": "2023-11-03T08:15:33.346Z"
   },
   {
    "duration": 0,
    "start_time": "2023-11-03T08:15:34.600Z"
   },
   {
    "duration": 0,
    "start_time": "2023-11-03T08:15:34.601Z"
   },
   {
    "duration": 0,
    "start_time": "2023-11-03T08:15:34.602Z"
   },
   {
    "duration": 0,
    "start_time": "2023-11-03T08:15:34.606Z"
   },
   {
    "duration": 0,
    "start_time": "2023-11-03T08:15:34.607Z"
   },
   {
    "duration": 0,
    "start_time": "2023-11-03T08:15:34.608Z"
   },
   {
    "duration": 0,
    "start_time": "2023-11-03T08:15:34.609Z"
   },
   {
    "duration": 0,
    "start_time": "2023-11-03T08:15:34.610Z"
   },
   {
    "duration": 0,
    "start_time": "2023-11-03T08:15:34.611Z"
   },
   {
    "duration": 0,
    "start_time": "2023-11-03T08:15:34.612Z"
   },
   {
    "duration": 0,
    "start_time": "2023-11-03T08:15:34.613Z"
   },
   {
    "duration": 0,
    "start_time": "2023-11-03T08:15:34.614Z"
   },
   {
    "duration": 6950,
    "start_time": "2023-11-03T08:15:50.232Z"
   },
   {
    "duration": 4,
    "start_time": "2023-11-03T08:16:00.698Z"
   },
   {
    "duration": 209,
    "start_time": "2023-11-03T08:16:20.921Z"
   },
   {
    "duration": 6,
    "start_time": "2023-11-03T08:16:29.026Z"
   },
   {
    "duration": 5,
    "start_time": "2023-11-03T08:16:29.909Z"
   },
   {
    "duration": 1162,
    "start_time": "2023-11-03T08:16:31.609Z"
   },
   {
    "duration": 7,
    "start_time": "2023-11-03T10:06:16.662Z"
   },
   {
    "duration": 103,
    "start_time": "2023-11-03T10:06:22.221Z"
   },
   {
    "duration": 93,
    "start_time": "2023-11-03T10:06:33.807Z"
   },
   {
    "duration": 6,
    "start_time": "2023-11-03T10:07:10.087Z"
   },
   {
    "duration": 20,
    "start_time": "2023-11-03T10:07:26.522Z"
   },
   {
    "duration": 814,
    "start_time": "2023-11-03T10:07:31.310Z"
   },
   {
    "duration": 4,
    "start_time": "2023-11-03T10:07:32.126Z"
   },
   {
    "duration": 3,
    "start_time": "2023-11-03T10:07:32.611Z"
   },
   {
    "duration": 3,
    "start_time": "2023-11-03T10:07:37.075Z"
   },
   {
    "duration": 1414,
    "start_time": "2024-02-19T13:35:18.401Z"
   },
   {
    "duration": 410,
    "start_time": "2024-02-19T13:35:19.817Z"
   },
   {
    "duration": 2,
    "start_time": "2024-02-19T13:35:20.229Z"
   },
   {
    "duration": 180,
    "start_time": "2024-02-19T13:35:20.233Z"
   },
   {
    "duration": 18,
    "start_time": "2024-02-19T13:35:20.879Z"
   },
   {
    "duration": 123,
    "start_time": "2024-02-19T13:35:21.161Z"
   },
   {
    "duration": 17,
    "start_time": "2024-02-19T13:35:22.114Z"
   },
   {
    "duration": 2,
    "start_time": "2024-02-19T13:35:22.595Z"
   },
   {
    "duration": 4,
    "start_time": "2024-02-19T13:35:56.362Z"
   },
   {
    "duration": 217,
    "start_time": "2024-02-19T13:35:56.816Z"
   },
   {
    "duration": 3,
    "start_time": "2024-02-19T13:35:57.107Z"
   },
   {
    "duration": 165,
    "start_time": "2024-02-19T13:35:57.324Z"
   },
   {
    "duration": 17,
    "start_time": "2024-02-19T13:35:57.804Z"
   },
   {
    "duration": 133,
    "start_time": "2024-02-19T13:35:58.317Z"
   },
   {
    "duration": 18,
    "start_time": "2024-02-19T13:35:59.832Z"
   },
   {
    "duration": 2,
    "start_time": "2024-02-19T13:36:00.910Z"
   },
   {
    "duration": 51,
    "start_time": "2024-02-19T13:36:01.523Z"
   },
   {
    "duration": 29,
    "start_time": "2024-02-19T13:36:02.306Z"
   },
   {
    "duration": 1795,
    "start_time": "2024-02-19T13:36:02.960Z"
   },
   {
    "duration": 19,
    "start_time": "2024-02-19T13:36:04.756Z"
   },
   {
    "duration": 12,
    "start_time": "2024-02-19T13:36:05.672Z"
   },
   {
    "duration": 11,
    "start_time": "2024-02-19T13:36:06.289Z"
   },
   {
    "duration": 27,
    "start_time": "2024-02-19T13:36:06.818Z"
   },
   {
    "duration": 115,
    "start_time": "2024-02-19T13:36:07.428Z"
   },
   {
    "duration": 21,
    "start_time": "2024-02-19T13:36:08.365Z"
   },
   {
    "duration": 24,
    "start_time": "2024-02-19T13:36:09.020Z"
   },
   {
    "duration": 116,
    "start_time": "2024-02-19T13:36:09.795Z"
   },
   {
    "duration": 5,
    "start_time": "2024-02-19T13:36:10.603Z"
   },
   {
    "duration": 11,
    "start_time": "2024-02-19T13:36:12.051Z"
   },
   {
    "duration": 17,
    "start_time": "2024-02-19T13:36:12.959Z"
   },
   {
    "duration": 3,
    "start_time": "2024-02-19T13:36:13.492Z"
   },
   {
    "duration": 68,
    "start_time": "2024-02-19T13:36:13.843Z"
   },
   {
    "duration": 11,
    "start_time": "2024-02-19T13:36:14.203Z"
   },
   {
    "duration": 53,
    "start_time": "2024-02-19T13:36:28.725Z"
   },
   {
    "duration": 45,
    "start_time": "2024-02-19T13:36:33.515Z"
   },
   {
    "duration": 48,
    "start_time": "2024-02-19T13:36:45.267Z"
   },
   {
    "duration": 6078,
    "start_time": "2024-02-19T13:39:59.064Z"
   },
   {
    "duration": 1301,
    "start_time": "2024-02-19T13:40:05.145Z"
   },
   {
    "duration": 240,
    "start_time": "2024-02-19T13:40:06.448Z"
   },
   {
    "duration": 3,
    "start_time": "2024-02-19T13:40:06.690Z"
   },
   {
    "duration": 184,
    "start_time": "2024-02-19T13:40:06.694Z"
   },
   {
    "duration": 18,
    "start_time": "2024-02-19T13:40:06.879Z"
   },
   {
    "duration": 142,
    "start_time": "2024-02-19T13:40:06.898Z"
   },
   {
    "duration": 18,
    "start_time": "2024-02-19T13:40:07.042Z"
   },
   {
    "duration": 3,
    "start_time": "2024-02-19T13:40:07.061Z"
   },
   {
    "duration": 68,
    "start_time": "2024-02-19T13:40:07.066Z"
   },
   {
    "duration": 30,
    "start_time": "2024-02-19T13:40:07.136Z"
   },
   {
    "duration": 1835,
    "start_time": "2024-02-19T13:40:07.168Z"
   },
   {
    "duration": 20,
    "start_time": "2024-02-19T13:40:09.004Z"
   },
   {
    "duration": 12,
    "start_time": "2024-02-19T13:40:09.026Z"
   },
   {
    "duration": 21,
    "start_time": "2024-02-19T13:40:09.039Z"
   },
   {
    "duration": 26,
    "start_time": "2024-02-19T13:40:09.062Z"
   },
   {
    "duration": 138,
    "start_time": "2024-02-19T13:40:09.089Z"
   },
   {
    "duration": 21,
    "start_time": "2024-02-19T13:40:09.229Z"
   },
   {
    "duration": 28,
    "start_time": "2024-02-19T13:40:09.252Z"
   },
   {
    "duration": 138,
    "start_time": "2024-02-19T13:40:09.281Z"
   },
   {
    "duration": 5,
    "start_time": "2024-02-19T13:40:09.421Z"
   },
   {
    "duration": 12,
    "start_time": "2024-02-19T13:40:09.427Z"
   },
   {
    "duration": 17,
    "start_time": "2024-02-19T13:40:09.441Z"
   },
   {
    "duration": 4,
    "start_time": "2024-02-19T13:40:09.459Z"
   },
   {
    "duration": 92,
    "start_time": "2024-02-19T13:40:09.465Z"
   },
   {
    "duration": 12,
    "start_time": "2024-02-19T13:40:09.559Z"
   },
   {
    "duration": 2270,
    "start_time": "2024-02-19T13:40:09.573Z"
   },
   {
    "duration": 86,
    "start_time": "2024-02-19T13:40:11.848Z"
   },
   {
    "duration": 26,
    "start_time": "2024-02-19T13:40:11.935Z"
   },
   {
    "duration": 4,
    "start_time": "2024-02-19T13:40:11.963Z"
   },
   {
    "duration": 10,
    "start_time": "2024-02-19T13:40:11.969Z"
   },
   {
    "duration": 4,
    "start_time": "2024-02-19T13:40:11.981Z"
   },
   {
    "duration": 32,
    "start_time": "2024-02-19T13:40:11.986Z"
   },
   {
    "duration": 5,
    "start_time": "2024-02-19T13:40:12.019Z"
   },
   {
    "duration": 1072,
    "start_time": "2024-02-19T13:40:12.025Z"
   },
   {
    "duration": 3,
    "start_time": "2024-02-19T13:40:13.098Z"
   },
   {
    "duration": 1009,
    "start_time": "2024-02-19T13:40:13.102Z"
   },
   {
    "duration": 7,
    "start_time": "2024-02-19T13:40:14.112Z"
   },
   {
    "duration": 11,
    "start_time": "2024-02-19T13:40:14.121Z"
   },
   {
    "duration": 13,
    "start_time": "2024-02-19T13:40:14.133Z"
   },
   {
    "duration": 16,
    "start_time": "2024-02-19T13:40:14.147Z"
   },
   {
    "duration": 7,
    "start_time": "2024-02-19T13:40:14.165Z"
   },
   {
    "duration": 94,
    "start_time": "2024-02-19T13:40:14.173Z"
   },
   {
    "duration": 13,
    "start_time": "2024-02-19T13:40:14.268Z"
   },
   {
    "duration": 137,
    "start_time": "2024-02-19T13:40:14.282Z"
   },
   {
    "duration": 0,
    "start_time": "2024-02-19T13:40:14.420Z"
   },
   {
    "duration": 0,
    "start_time": "2024-02-19T13:40:14.422Z"
   },
   {
    "duration": 0,
    "start_time": "2024-02-19T13:40:14.423Z"
   },
   {
    "duration": 0,
    "start_time": "2024-02-19T13:40:14.424Z"
   },
   {
    "duration": 0,
    "start_time": "2024-02-19T13:40:14.425Z"
   },
   {
    "duration": 0,
    "start_time": "2024-02-19T13:40:14.427Z"
   },
   {
    "duration": 0,
    "start_time": "2024-02-19T13:40:14.428Z"
   },
   {
    "duration": 0,
    "start_time": "2024-02-19T13:40:14.429Z"
   },
   {
    "duration": 0,
    "start_time": "2024-02-19T13:40:14.431Z"
   },
   {
    "duration": 0,
    "start_time": "2024-02-19T13:40:14.432Z"
   },
   {
    "duration": 0,
    "start_time": "2024-02-19T13:40:14.433Z"
   },
   {
    "duration": 0,
    "start_time": "2024-02-19T13:40:14.435Z"
   },
   {
    "duration": 0,
    "start_time": "2024-02-19T13:40:14.436Z"
   },
   {
    "duration": 0,
    "start_time": "2024-02-19T13:40:14.437Z"
   },
   {
    "duration": 0,
    "start_time": "2024-02-19T13:40:14.439Z"
   },
   {
    "duration": 0,
    "start_time": "2024-02-19T13:40:14.440Z"
   },
   {
    "duration": 0,
    "start_time": "2024-02-19T13:40:14.442Z"
   },
   {
    "duration": 0,
    "start_time": "2024-02-19T13:40:14.443Z"
   },
   {
    "duration": 0,
    "start_time": "2024-02-19T13:40:14.444Z"
   },
   {
    "duration": 2388,
    "start_time": "2024-02-19T13:42:02.621Z"
   }
  ],
  "kernelspec": {
   "display_name": "Python 3 (ipykernel)",
   "language": "python",
   "name": "python3"
  },
  "language_info": {
   "codemirror_mode": {
    "name": "ipython",
    "version": 3
   },
   "file_extension": ".py",
   "mimetype": "text/x-python",
   "name": "python",
   "nbconvert_exporter": "python",
   "pygments_lexer": "ipython3",
   "version": "3.9.5"
  },
  "toc": {
   "base_numbering": 1,
   "nav_menu": {},
   "number_sections": true,
   "sideBar": true,
   "skip_h1_title": true,
   "title_cell": "Table of Contents",
   "title_sidebar": "Contents",
   "toc_cell": false,
   "toc_position": {},
   "toc_section_display": true,
   "toc_window_display": false
  }
 },
 "nbformat": 4,
 "nbformat_minor": 2
}
