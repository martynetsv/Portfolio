{
 "cells": [
  {
   "cell_type": "markdown",
   "metadata": {},
   "source": [
    "# Определение стоимости автомобилей"
   ]
  },
  {
   "cell_type": "markdown",
   "metadata": {},
   "source": [
    "Сервис по продаже автомобилей с пробегом разрабатывает приложение для привлечения новых клиентов. В нём можно быстро узнать рыночную стоимость своего автомобиля. На вход подаются исторические данные: технические характеристики, комплектации и цены автомобилей. Нужно построить модель для определения стоимости. \n",
    "\n",
    "Заказчику важны:\n",
    "\n",
    "- качество предсказания;\n",
    "- скорость предсказания;\n",
    "- время обучения."
   ]
  },
  {
   "cell_type": "markdown",
   "metadata": {},
   "source": [
    "Признаки\n",
    "\n",
    "    DateCrawled — дата скачивания анкеты из базы\n",
    "    VehicleType — тип автомобильного кузова\n",
    "    RegistrationYear — год регистрации автомобиля\n",
    "    Gearbox — тип коробки передач\n",
    "    Power — мощность (л. с.)\n",
    "    Model — модель автомобиля\n",
    "    Kilometer — пробег (км)\n",
    "    RegistrationMonth — месяц регистрации автомобиля\n",
    "    FuelType — тип топлива\n",
    "    Brand — марка автомобиля\n",
    "    Repaired — была машина в ремонте или нет\n",
    "    DateCreated — дата создания анкеты\n",
    "    NumberOfPictures — количество фотографий автомобиля\n",
    "    PostalCode — почтовый индекс владельца анкеты (пользователя)\n",
    "    LastSeen — дата последней активности пользователя\n",
    "\n",
    "Целевой признак\n",
    "Price — цена (евро)"
   ]
  },
  {
   "cell_type": "markdown",
   "metadata": {},
   "source": [
    "## Подготовка данных"
   ]
  },
  {
   "cell_type": "code",
   "execution_count": 1,
   "metadata": {},
   "outputs": [
    {
     "name": "stdout",
     "output_type": "stream",
     "text": [
      "Requirement already satisfied: phik in /opt/conda/lib/python3.9/site-packages (0.12.4)\r\n",
      "Requirement already satisfied: numpy>=1.18.0 in /opt/conda/lib/python3.9/site-packages (from phik) (1.21.1)\r\n",
      "Requirement already satisfied: pandas>=0.25.1 in /opt/conda/lib/python3.9/site-packages (from phik) (1.2.4)\r\n",
      "Requirement already satisfied: scipy>=1.5.2 in /opt/conda/lib/python3.9/site-packages (from phik) (1.9.1)\r\n",
      "Requirement already satisfied: joblib>=0.14.1 in /opt/conda/lib/python3.9/site-packages (from phik) (1.1.0)\r\n",
      "Requirement already satisfied: matplotlib>=2.2.3 in /opt/conda/lib/python3.9/site-packages (from phik) (3.3.4)\r\n",
      "Requirement already satisfied: kiwisolver>=1.0.1 in /opt/conda/lib/python3.9/site-packages (from matplotlib>=2.2.3->phik) (1.4.4)\r\n",
      "Requirement already satisfied: python-dateutil>=2.1 in /opt/conda/lib/python3.9/site-packages (from matplotlib>=2.2.3->phik) (2.8.1)\r\n",
      "Requirement already satisfied: pyparsing!=2.0.4,!=2.1.2,!=2.1.6,>=2.0.3 in /opt/conda/lib/python3.9/site-packages (from matplotlib>=2.2.3->phik) (2.4.7)\r\n",
      "Requirement already satisfied: cycler>=0.10 in /opt/conda/lib/python3.9/site-packages (from matplotlib>=2.2.3->phik) (0.11.0)\r\n",
      "Requirement already satisfied: pillow>=6.2.0 in /opt/conda/lib/python3.9/site-packages (from matplotlib>=2.2.3->phik) (8.4.0)\r\n",
      "Requirement already satisfied: pytz>=2017.3 in /opt/conda/lib/python3.9/site-packages (from pandas>=0.25.1->phik) (2021.1)\r\n",
      "Requirement already satisfied: six>=1.5 in /opt/conda/lib/python3.9/site-packages (from python-dateutil>=2.1->matplotlib>=2.2.3->phik) (1.16.0)\r\n"
     ]
    }
   ],
   "source": [
    "!pip install phik"
   ]
  },
  {
   "cell_type": "code",
   "execution_count": 2,
   "metadata": {},
   "outputs": [],
   "source": [
    "import pandas as pd\n",
    "import numpy as np\n",
    "import matplotlib as plt\n",
    "\n",
    "from sklearn.model_selection import train_test_split\n",
    "from sklearn.model_selection import cross_val_score\n",
    "from sklearn.model_selection import GridSearchCV\n",
    "from sklearn.preprocessing import OrdinalEncoder\n",
    "from sklearn.preprocessing import OneHotEncoder\n",
    "from sklearn.preprocessing import StandardScaler\n",
    "from sklearn.metrics import mean_squared_error\n",
    "\n",
    "from sklearn.dummy import DummyRegressor\n",
    "\n",
    "import seaborn as sns\n",
    "import matplotlib.pyplot as plt\n",
    "\n",
    "import phik\n",
    "from phik.report import plot_correlation_matrix\n",
    "from phik import report\n",
    "\n",
    "from lightgbm import LGBMRegressor\n",
    "from catboost import CatBoostRegressor\n",
    "from sklearn.linear_model import LinearRegression\n",
    "from sklearn.ensemble import RandomForestRegressor\n",
    "\n",
    "from sklearn.compose import make_column_transformer\n",
    "from sklearn.compose import make_column_selector\n",
    "from sklearn.pipeline import make_pipeline\n",
    "\n",
    "STATE = 12345"
   ]
  },
  {
   "cell_type": "code",
   "execution_count": 3,
   "metadata": {},
   "outputs": [],
   "source": [
    "data = pd.read_csv('/datasets/autos.csv')"
   ]
  },
  {
   "cell_type": "code",
   "execution_count": 4,
   "metadata": {},
   "outputs": [
    {
     "data": {
      "text/plain": [
       "(354369, 16)"
      ]
     },
     "execution_count": 4,
     "metadata": {},
     "output_type": "execute_result"
    }
   ],
   "source": [
    "data.shape"
   ]
  },
  {
   "cell_type": "code",
   "execution_count": 5,
   "metadata": {},
   "outputs": [
    {
     "data": {
      "text/html": [
       "<div>\n",
       "<style scoped>\n",
       "    .dataframe tbody tr th:only-of-type {\n",
       "        vertical-align: middle;\n",
       "    }\n",
       "\n",
       "    .dataframe tbody tr th {\n",
       "        vertical-align: top;\n",
       "    }\n",
       "\n",
       "    .dataframe thead th {\n",
       "        text-align: right;\n",
       "    }\n",
       "</style>\n",
       "<table border=\"1\" class=\"dataframe\">\n",
       "  <thead>\n",
       "    <tr style=\"text-align: right;\">\n",
       "      <th></th>\n",
       "      <th>DateCrawled</th>\n",
       "      <th>Price</th>\n",
       "      <th>VehicleType</th>\n",
       "      <th>RegistrationYear</th>\n",
       "      <th>Gearbox</th>\n",
       "      <th>Power</th>\n",
       "      <th>Model</th>\n",
       "      <th>Kilometer</th>\n",
       "      <th>RegistrationMonth</th>\n",
       "      <th>FuelType</th>\n",
       "      <th>Brand</th>\n",
       "      <th>Repaired</th>\n",
       "      <th>DateCreated</th>\n",
       "      <th>NumberOfPictures</th>\n",
       "      <th>PostalCode</th>\n",
       "      <th>LastSeen</th>\n",
       "    </tr>\n",
       "  </thead>\n",
       "  <tbody>\n",
       "    <tr>\n",
       "      <th>0</th>\n",
       "      <td>2016-03-24 11:52:17</td>\n",
       "      <td>480</td>\n",
       "      <td>NaN</td>\n",
       "      <td>1993</td>\n",
       "      <td>manual</td>\n",
       "      <td>0</td>\n",
       "      <td>golf</td>\n",
       "      <td>150000</td>\n",
       "      <td>0</td>\n",
       "      <td>petrol</td>\n",
       "      <td>volkswagen</td>\n",
       "      <td>NaN</td>\n",
       "      <td>2016-03-24 00:00:00</td>\n",
       "      <td>0</td>\n",
       "      <td>70435</td>\n",
       "      <td>2016-04-07 03:16:57</td>\n",
       "    </tr>\n",
       "    <tr>\n",
       "      <th>1</th>\n",
       "      <td>2016-03-24 10:58:45</td>\n",
       "      <td>18300</td>\n",
       "      <td>coupe</td>\n",
       "      <td>2011</td>\n",
       "      <td>manual</td>\n",
       "      <td>190</td>\n",
       "      <td>NaN</td>\n",
       "      <td>125000</td>\n",
       "      <td>5</td>\n",
       "      <td>gasoline</td>\n",
       "      <td>audi</td>\n",
       "      <td>yes</td>\n",
       "      <td>2016-03-24 00:00:00</td>\n",
       "      <td>0</td>\n",
       "      <td>66954</td>\n",
       "      <td>2016-04-07 01:46:50</td>\n",
       "    </tr>\n",
       "    <tr>\n",
       "      <th>2</th>\n",
       "      <td>2016-03-14 12:52:21</td>\n",
       "      <td>9800</td>\n",
       "      <td>suv</td>\n",
       "      <td>2004</td>\n",
       "      <td>auto</td>\n",
       "      <td>163</td>\n",
       "      <td>grand</td>\n",
       "      <td>125000</td>\n",
       "      <td>8</td>\n",
       "      <td>gasoline</td>\n",
       "      <td>jeep</td>\n",
       "      <td>NaN</td>\n",
       "      <td>2016-03-14 00:00:00</td>\n",
       "      <td>0</td>\n",
       "      <td>90480</td>\n",
       "      <td>2016-04-05 12:47:46</td>\n",
       "    </tr>\n",
       "    <tr>\n",
       "      <th>3</th>\n",
       "      <td>2016-03-17 16:54:04</td>\n",
       "      <td>1500</td>\n",
       "      <td>small</td>\n",
       "      <td>2001</td>\n",
       "      <td>manual</td>\n",
       "      <td>75</td>\n",
       "      <td>golf</td>\n",
       "      <td>150000</td>\n",
       "      <td>6</td>\n",
       "      <td>petrol</td>\n",
       "      <td>volkswagen</td>\n",
       "      <td>no</td>\n",
       "      <td>2016-03-17 00:00:00</td>\n",
       "      <td>0</td>\n",
       "      <td>91074</td>\n",
       "      <td>2016-03-17 17:40:17</td>\n",
       "    </tr>\n",
       "    <tr>\n",
       "      <th>4</th>\n",
       "      <td>2016-03-31 17:25:20</td>\n",
       "      <td>3600</td>\n",
       "      <td>small</td>\n",
       "      <td>2008</td>\n",
       "      <td>manual</td>\n",
       "      <td>69</td>\n",
       "      <td>fabia</td>\n",
       "      <td>90000</td>\n",
       "      <td>7</td>\n",
       "      <td>gasoline</td>\n",
       "      <td>skoda</td>\n",
       "      <td>no</td>\n",
       "      <td>2016-03-31 00:00:00</td>\n",
       "      <td>0</td>\n",
       "      <td>60437</td>\n",
       "      <td>2016-04-06 10:17:21</td>\n",
       "    </tr>\n",
       "  </tbody>\n",
       "</table>\n",
       "</div>"
      ],
      "text/plain": [
       "           DateCrawled  Price VehicleType  RegistrationYear Gearbox  Power  \\\n",
       "0  2016-03-24 11:52:17    480         NaN              1993  manual      0   \n",
       "1  2016-03-24 10:58:45  18300       coupe              2011  manual    190   \n",
       "2  2016-03-14 12:52:21   9800         suv              2004    auto    163   \n",
       "3  2016-03-17 16:54:04   1500       small              2001  manual     75   \n",
       "4  2016-03-31 17:25:20   3600       small              2008  manual     69   \n",
       "\n",
       "   Model  Kilometer  RegistrationMonth  FuelType       Brand Repaired  \\\n",
       "0   golf     150000                  0    petrol  volkswagen      NaN   \n",
       "1    NaN     125000                  5  gasoline        audi      yes   \n",
       "2  grand     125000                  8  gasoline        jeep      NaN   \n",
       "3   golf     150000                  6    petrol  volkswagen       no   \n",
       "4  fabia      90000                  7  gasoline       skoda       no   \n",
       "\n",
       "           DateCreated  NumberOfPictures  PostalCode             LastSeen  \n",
       "0  2016-03-24 00:00:00                 0       70435  2016-04-07 03:16:57  \n",
       "1  2016-03-24 00:00:00                 0       66954  2016-04-07 01:46:50  \n",
       "2  2016-03-14 00:00:00                 0       90480  2016-04-05 12:47:46  \n",
       "3  2016-03-17 00:00:00                 0       91074  2016-03-17 17:40:17  \n",
       "4  2016-03-31 00:00:00                 0       60437  2016-04-06 10:17:21  "
      ]
     },
     "execution_count": 5,
     "metadata": {},
     "output_type": "execute_result"
    }
   ],
   "source": [
    "data.head()"
   ]
  },
  {
   "cell_type": "code",
   "execution_count": 6,
   "metadata": {
    "scrolled": true
   },
   "outputs": [
    {
     "data": {
      "text/html": [
       "<div>\n",
       "<style scoped>\n",
       "    .dataframe tbody tr th:only-of-type {\n",
       "        vertical-align: middle;\n",
       "    }\n",
       "\n",
       "    .dataframe tbody tr th {\n",
       "        vertical-align: top;\n",
       "    }\n",
       "\n",
       "    .dataframe thead th {\n",
       "        text-align: right;\n",
       "    }\n",
       "</style>\n",
       "<table border=\"1\" class=\"dataframe\">\n",
       "  <thead>\n",
       "    <tr style=\"text-align: right;\">\n",
       "      <th></th>\n",
       "      <th>Price</th>\n",
       "      <th>RegistrationYear</th>\n",
       "      <th>Power</th>\n",
       "      <th>Kilometer</th>\n",
       "      <th>RegistrationMonth</th>\n",
       "      <th>NumberOfPictures</th>\n",
       "      <th>PostalCode</th>\n",
       "    </tr>\n",
       "  </thead>\n",
       "  <tbody>\n",
       "    <tr>\n",
       "      <th>count</th>\n",
       "      <td>354369.000000</td>\n",
       "      <td>354369.000000</td>\n",
       "      <td>354369.000000</td>\n",
       "      <td>354369.000000</td>\n",
       "      <td>354369.000000</td>\n",
       "      <td>354369.0</td>\n",
       "      <td>354369.000000</td>\n",
       "    </tr>\n",
       "    <tr>\n",
       "      <th>mean</th>\n",
       "      <td>4416.656776</td>\n",
       "      <td>2004.234448</td>\n",
       "      <td>110.094337</td>\n",
       "      <td>128211.172535</td>\n",
       "      <td>5.714645</td>\n",
       "      <td>0.0</td>\n",
       "      <td>50508.689087</td>\n",
       "    </tr>\n",
       "    <tr>\n",
       "      <th>std</th>\n",
       "      <td>4514.158514</td>\n",
       "      <td>90.227958</td>\n",
       "      <td>189.850405</td>\n",
       "      <td>37905.341530</td>\n",
       "      <td>3.726421</td>\n",
       "      <td>0.0</td>\n",
       "      <td>25783.096248</td>\n",
       "    </tr>\n",
       "    <tr>\n",
       "      <th>min</th>\n",
       "      <td>0.000000</td>\n",
       "      <td>1000.000000</td>\n",
       "      <td>0.000000</td>\n",
       "      <td>5000.000000</td>\n",
       "      <td>0.000000</td>\n",
       "      <td>0.0</td>\n",
       "      <td>1067.000000</td>\n",
       "    </tr>\n",
       "    <tr>\n",
       "      <th>25%</th>\n",
       "      <td>1050.000000</td>\n",
       "      <td>1999.000000</td>\n",
       "      <td>69.000000</td>\n",
       "      <td>125000.000000</td>\n",
       "      <td>3.000000</td>\n",
       "      <td>0.0</td>\n",
       "      <td>30165.000000</td>\n",
       "    </tr>\n",
       "    <tr>\n",
       "      <th>50%</th>\n",
       "      <td>2700.000000</td>\n",
       "      <td>2003.000000</td>\n",
       "      <td>105.000000</td>\n",
       "      <td>150000.000000</td>\n",
       "      <td>6.000000</td>\n",
       "      <td>0.0</td>\n",
       "      <td>49413.000000</td>\n",
       "    </tr>\n",
       "    <tr>\n",
       "      <th>75%</th>\n",
       "      <td>6400.000000</td>\n",
       "      <td>2008.000000</td>\n",
       "      <td>143.000000</td>\n",
       "      <td>150000.000000</td>\n",
       "      <td>9.000000</td>\n",
       "      <td>0.0</td>\n",
       "      <td>71083.000000</td>\n",
       "    </tr>\n",
       "    <tr>\n",
       "      <th>max</th>\n",
       "      <td>20000.000000</td>\n",
       "      <td>9999.000000</td>\n",
       "      <td>20000.000000</td>\n",
       "      <td>150000.000000</td>\n",
       "      <td>12.000000</td>\n",
       "      <td>0.0</td>\n",
       "      <td>99998.000000</td>\n",
       "    </tr>\n",
       "  </tbody>\n",
       "</table>\n",
       "</div>"
      ],
      "text/plain": [
       "               Price  RegistrationYear          Power      Kilometer  \\\n",
       "count  354369.000000     354369.000000  354369.000000  354369.000000   \n",
       "mean     4416.656776       2004.234448     110.094337  128211.172535   \n",
       "std      4514.158514         90.227958     189.850405   37905.341530   \n",
       "min         0.000000       1000.000000       0.000000    5000.000000   \n",
       "25%      1050.000000       1999.000000      69.000000  125000.000000   \n",
       "50%      2700.000000       2003.000000     105.000000  150000.000000   \n",
       "75%      6400.000000       2008.000000     143.000000  150000.000000   \n",
       "max     20000.000000       9999.000000   20000.000000  150000.000000   \n",
       "\n",
       "       RegistrationMonth  NumberOfPictures     PostalCode  \n",
       "count      354369.000000          354369.0  354369.000000  \n",
       "mean            5.714645               0.0   50508.689087  \n",
       "std             3.726421               0.0   25783.096248  \n",
       "min             0.000000               0.0    1067.000000  \n",
       "25%             3.000000               0.0   30165.000000  \n",
       "50%             6.000000               0.0   49413.000000  \n",
       "75%             9.000000               0.0   71083.000000  \n",
       "max            12.000000               0.0   99998.000000  "
      ]
     },
     "execution_count": 6,
     "metadata": {},
     "output_type": "execute_result"
    }
   ],
   "source": [
    "data.describe()"
   ]
  },
  {
   "cell_type": "markdown",
   "metadata": {},
   "source": [
    "На что стоит обратить внимание при дальнейшей предобработке: \n",
    "\n",
    "В признаке цены есть нулевые значения\n",
    "\n",
    "В годе регистрации есть минимальное значение в 1000, а максимальное 9999 - явные выбросы\n",
    "\n",
    "50, 75 и максимальное значение в пробеге- 150000. Почти вся выборка из одинаковых пробегах. Возможно было при вводе данных ограничение в это значение\n",
    "\n",
    "NumberOfPictures пустой\n",
    "\n",
    "Индекс скорее всего признак не влияющий на цену"
   ]
  },
  {
   "cell_type": "code",
   "execution_count": 7,
   "metadata": {},
   "outputs": [
    {
     "name": "stdout",
     "output_type": "stream",
     "text": [
      "<class 'pandas.core.frame.DataFrame'>\n",
      "RangeIndex: 354369 entries, 0 to 354368\n",
      "Data columns (total 16 columns):\n",
      " #   Column             Non-Null Count   Dtype \n",
      "---  ------             --------------   ----- \n",
      " 0   DateCrawled        354369 non-null  object\n",
      " 1   Price              354369 non-null  int64 \n",
      " 2   VehicleType        316879 non-null  object\n",
      " 3   RegistrationYear   354369 non-null  int64 \n",
      " 4   Gearbox            334536 non-null  object\n",
      " 5   Power              354369 non-null  int64 \n",
      " 6   Model              334664 non-null  object\n",
      " 7   Kilometer          354369 non-null  int64 \n",
      " 8   RegistrationMonth  354369 non-null  int64 \n",
      " 9   FuelType           321474 non-null  object\n",
      " 10  Brand              354369 non-null  object\n",
      " 11  Repaired           283215 non-null  object\n",
      " 12  DateCreated        354369 non-null  object\n",
      " 13  NumberOfPictures   354369 non-null  int64 \n",
      " 14  PostalCode         354369 non-null  int64 \n",
      " 15  LastSeen           354369 non-null  object\n",
      "dtypes: int64(7), object(9)\n",
      "memory usage: 43.3+ MB\n"
     ]
    }
   ],
   "source": [
    "data.info()"
   ]
  },
  {
   "cell_type": "code",
   "execution_count": 8,
   "metadata": {},
   "outputs": [
    {
     "data": {
      "image/png": "[encoded data removed]",
      "text/plain": [
       "<Figure size 720x720 with 9 Axes>"
      ]
     },
     "metadata": {
      "needs_background": "light"
     },
     "output_type": "display_data"
    }
   ],
   "source": [
    "data.hist(figsize=(10,10)); # посмотрим есть ли аномальные значения числовых признаках"
   ]
  },
  {
   "cell_type": "markdown",
   "metadata": {},
   "source": [
    "В RegistrationYear, Power явно наблюдаются выбросы\n",
    "\n",
    "Признак Kilometer - достигает максимальных значений около 150'000 - вполне правдоподобно. Но таких значений больше всего\n",
    "\n",
    "В остальных признаках все в порядке"
   ]
  },
  {
   "cell_type": "code",
   "execution_count": 9,
   "metadata": {},
   "outputs": [
    {
     "data": {
      "text/plain": [
       "354369"
      ]
     },
     "execution_count": 9,
     "metadata": {},
     "output_type": "execute_result"
    }
   ],
   "source": [
    "(data['NumberOfPictures'] == 0).sum()"
   ]
  },
  {
   "cell_type": "markdown",
   "metadata": {},
   "source": [
    "Подтвердили, что признак заполнен нулями"
   ]
  },
  {
   "cell_type": "code",
   "execution_count": 10,
   "metadata": {},
   "outputs": [],
   "source": [
    "correlation_matrix= data.corr()"
   ]
  },
  {
   "cell_type": "code",
   "execution_count": 11,
   "metadata": {
    "scrolled": true
   },
   "outputs": [
    {
     "data": {
      "image/png": "[encoded data removed]",
      "text/plain": [
       "<Figure size 432x288 with 2 Axes>"
      ]
     },
     "metadata": {
      "needs_background": "light"
     },
     "output_type": "display_data"
    }
   ],
   "source": [
    "sns.heatmap(correlation_matrix, annot=True, fmt=\".2f\");"
   ]
  },
  {
   "cell_type": "code",
   "execution_count": 12,
   "metadata": {},
   "outputs": [],
   "source": [
    "data_phik = data.drop(['RegistrationYear', 'Power', 'Kilometer', 'RegistrationMonth', 'PostalCode', 'NumberOfPictures'], axis=1)"
   ]
  },
  {
   "cell_type": "code",
   "execution_count": 13,
   "metadata": {},
   "outputs": [
    {
     "name": "stdout",
     "output_type": "stream",
     "text": [
      "interval columns not set, guessing: ['Price']\n"
     ]
    },
    {
     "data": {
      "image/png": "[encoded data removed]",
      "text/plain": [
       "<Figure size 720x432 with 2 Axes>"
      ]
     },
     "metadata": {
      "needs_background": "light"
     },
     "output_type": "display_data"
    }
   ],
   "source": [
    "data_phik = data_phik.sample(1000).phik_matrix()\n",
    "\n",
    "plot_correlation_matrix(data_phik.values, x_labels=data_phik.columns,y_labels=data_phik.index, figsize=(10, 6))"
   ]
  },
  {
   "cell_type": "markdown",
   "metadata": {},
   "source": [
    "Из числовых признаков практически не коррелирует с целевым Postal Code и RegistrationMonth. Для облегчения задачи обучения модели можно эти признаки не брать. И признак NumberOfPictures не берем.\n",
    "\n",
    "Остальные признаки и коррелируют и по логике влияют на цену (Пробег, мощность авто, дата регистрации авто)\n",
    "\n",
    "Посмотрим на категориальные данные"
   ]
  },
  {
   "cell_type": "code",
   "execution_count": 14,
   "metadata": {
    "scrolled": true
   },
   "outputs": [
    {
     "data": {
      "text/html": [
       "<div>\n",
       "<style scoped>\n",
       "    .dataframe tbody tr th:only-of-type {\n",
       "        vertical-align: middle;\n",
       "    }\n",
       "\n",
       "    .dataframe tbody tr th {\n",
       "        vertical-align: top;\n",
       "    }\n",
       "\n",
       "    .dataframe thead th {\n",
       "        text-align: right;\n",
       "    }\n",
       "</style>\n",
       "<table border=\"1\" class=\"dataframe\">\n",
       "  <thead>\n",
       "    <tr style=\"text-align: right;\">\n",
       "      <th></th>\n",
       "      <th>DateCrawled</th>\n",
       "      <th>Price</th>\n",
       "      <th>VehicleType</th>\n",
       "      <th>RegistrationYear</th>\n",
       "      <th>Gearbox</th>\n",
       "      <th>Power</th>\n",
       "      <th>Model</th>\n",
       "      <th>Kilometer</th>\n",
       "      <th>RegistrationMonth</th>\n",
       "      <th>FuelType</th>\n",
       "      <th>Brand</th>\n",
       "      <th>Repaired</th>\n",
       "      <th>DateCreated</th>\n",
       "      <th>NumberOfPictures</th>\n",
       "      <th>PostalCode</th>\n",
       "      <th>LastSeen</th>\n",
       "    </tr>\n",
       "  </thead>\n",
       "  <tbody>\n",
       "    <tr>\n",
       "      <th>0</th>\n",
       "      <td>2016-03-24 11:52:17</td>\n",
       "      <td>480</td>\n",
       "      <td>NaN</td>\n",
       "      <td>1993</td>\n",
       "      <td>manual</td>\n",
       "      <td>0</td>\n",
       "      <td>golf</td>\n",
       "      <td>150000</td>\n",
       "      <td>0</td>\n",
       "      <td>petrol</td>\n",
       "      <td>volkswagen</td>\n",
       "      <td>NaN</td>\n",
       "      <td>2016-03-24 00:00:00</td>\n",
       "      <td>0</td>\n",
       "      <td>70435</td>\n",
       "      <td>2016-04-07 03:16:57</td>\n",
       "    </tr>\n",
       "    <tr>\n",
       "      <th>1</th>\n",
       "      <td>2016-03-24 10:58:45</td>\n",
       "      <td>18300</td>\n",
       "      <td>coupe</td>\n",
       "      <td>2011</td>\n",
       "      <td>manual</td>\n",
       "      <td>190</td>\n",
       "      <td>NaN</td>\n",
       "      <td>125000</td>\n",
       "      <td>5</td>\n",
       "      <td>gasoline</td>\n",
       "      <td>audi</td>\n",
       "      <td>yes</td>\n",
       "      <td>2016-03-24 00:00:00</td>\n",
       "      <td>0</td>\n",
       "      <td>66954</td>\n",
       "      <td>2016-04-07 01:46:50</td>\n",
       "    </tr>\n",
       "    <tr>\n",
       "      <th>2</th>\n",
       "      <td>2016-03-14 12:52:21</td>\n",
       "      <td>9800</td>\n",
       "      <td>suv</td>\n",
       "      <td>2004</td>\n",
       "      <td>auto</td>\n",
       "      <td>163</td>\n",
       "      <td>grand</td>\n",
       "      <td>125000</td>\n",
       "      <td>8</td>\n",
       "      <td>gasoline</td>\n",
       "      <td>jeep</td>\n",
       "      <td>NaN</td>\n",
       "      <td>2016-03-14 00:00:00</td>\n",
       "      <td>0</td>\n",
       "      <td>90480</td>\n",
       "      <td>2016-04-05 12:47:46</td>\n",
       "    </tr>\n",
       "    <tr>\n",
       "      <th>3</th>\n",
       "      <td>2016-03-17 16:54:04</td>\n",
       "      <td>1500</td>\n",
       "      <td>small</td>\n",
       "      <td>2001</td>\n",
       "      <td>manual</td>\n",
       "      <td>75</td>\n",
       "      <td>golf</td>\n",
       "      <td>150000</td>\n",
       "      <td>6</td>\n",
       "      <td>petrol</td>\n",
       "      <td>volkswagen</td>\n",
       "      <td>no</td>\n",
       "      <td>2016-03-17 00:00:00</td>\n",
       "      <td>0</td>\n",
       "      <td>91074</td>\n",
       "      <td>2016-03-17 17:40:17</td>\n",
       "    </tr>\n",
       "    <tr>\n",
       "      <th>4</th>\n",
       "      <td>2016-03-31 17:25:20</td>\n",
       "      <td>3600</td>\n",
       "      <td>small</td>\n",
       "      <td>2008</td>\n",
       "      <td>manual</td>\n",
       "      <td>69</td>\n",
       "      <td>fabia</td>\n",
       "      <td>90000</td>\n",
       "      <td>7</td>\n",
       "      <td>gasoline</td>\n",
       "      <td>skoda</td>\n",
       "      <td>no</td>\n",
       "      <td>2016-03-31 00:00:00</td>\n",
       "      <td>0</td>\n",
       "      <td>60437</td>\n",
       "      <td>2016-04-06 10:17:21</td>\n",
       "    </tr>\n",
       "  </tbody>\n",
       "</table>\n",
       "</div>"
      ],
      "text/plain": [
       "           DateCrawled  Price VehicleType  RegistrationYear Gearbox  Power  \\\n",
       "0  2016-03-24 11:52:17    480         NaN              1993  manual      0   \n",
       "1  2016-03-24 10:58:45  18300       coupe              2011  manual    190   \n",
       "2  2016-03-14 12:52:21   9800         suv              2004    auto    163   \n",
       "3  2016-03-17 16:54:04   1500       small              2001  manual     75   \n",
       "4  2016-03-31 17:25:20   3600       small              2008  manual     69   \n",
       "\n",
       "   Model  Kilometer  RegistrationMonth  FuelType       Brand Repaired  \\\n",
       "0   golf     150000                  0    petrol  volkswagen      NaN   \n",
       "1    NaN     125000                  5  gasoline        audi      yes   \n",
       "2  grand     125000                  8  gasoline        jeep      NaN   \n",
       "3   golf     150000                  6    petrol  volkswagen       no   \n",
       "4  fabia      90000                  7  gasoline       skoda       no   \n",
       "\n",
       "           DateCreated  NumberOfPictures  PostalCode             LastSeen  \n",
       "0  2016-03-24 00:00:00                 0       70435  2016-04-07 03:16:57  \n",
       "1  2016-03-24 00:00:00                 0       66954  2016-04-07 01:46:50  \n",
       "2  2016-03-14 00:00:00                 0       90480  2016-04-05 12:47:46  \n",
       "3  2016-03-17 00:00:00                 0       91074  2016-03-17 17:40:17  \n",
       "4  2016-03-31 00:00:00                 0       60437  2016-04-06 10:17:21  "
      ]
     },
     "execution_count": 14,
     "metadata": {},
     "output_type": "execute_result"
    }
   ],
   "source": [
    "data.head()"
   ]
  },
  {
   "cell_type": "markdown",
   "metadata": {},
   "source": [
    "    DateCrawled — дата скачивания анкеты из базы - никак не влияет на цену\n",
    "    VehicleType — тип автомобильного кузова - значимый признак\n",
    "    Gearbox — тип коробки передач. Наличие или механической или автоматической коробки влияет на цену\n",
    "    Model — модель автомобиля,\n",
    "    Brand — марка автомобиля - оба признака значительно влияют на цену\n",
    "    FuelType — тип топлива. Дизельный или безиновый двигатель по практике имеет значение на цену авто\n",
    "    Repaired — была машина в ремонте или нет. Значимый признак. Наличие ремонта снижает цену \n",
    "    DateCreated — дата создания анкеты - не влияет на цену\n",
    "    LastSeen — дата последней активности пользователя не влияет на цену"
   ]
  },
  {
   "cell_type": "markdown",
   "metadata": {},
   "source": [
    "Оставим в датафрейме только нужные признаки:"
   ]
  },
  {
   "cell_type": "code",
   "execution_count": 15,
   "metadata": {},
   "outputs": [],
   "source": [
    "data = data[['Price',\n",
    "            'VehicleType', \n",
    "            'RegistrationYear',\n",
    "            'Gearbox', \n",
    "            'Power',\n",
    "            'Model',\n",
    "            'Kilometer',\n",
    "            'FuelType',\n",
    "            'Brand',\n",
    "            'Repaired',\n",
    "            ]]"
   ]
  },
  {
   "cell_type": "markdown",
   "metadata": {},
   "source": [
    "Посмотрим наличие дубликатов:"
   ]
  },
  {
   "cell_type": "code",
   "execution_count": 16,
   "metadata": {},
   "outputs": [
    {
     "data": {
      "text/plain": [
       "45040"
      ]
     },
     "execution_count": 16,
     "metadata": {},
     "output_type": "execute_result"
    }
   ],
   "source": [
    "data.duplicated().sum()"
   ]
  },
  {
   "cell_type": "code",
   "execution_count": 17,
   "metadata": {},
   "outputs": [],
   "source": [
    "data = data.drop_duplicates()"
   ]
  },
  {
   "cell_type": "markdown",
   "metadata": {},
   "source": [
    "Посмотрю на гистограмму с годом с максимальным текущим годом, для определения объективной нижней границы ( и без учета явно аномальных значений, например до 1940 года)"
   ]
  },
  {
   "cell_type": "code",
   "execution_count": 18,
   "metadata": {},
   "outputs": [
    {
     "data": {
      "image/png": "[encoded data removed]",
      "text/plain": [
       "<Figure size 432x288 with 1 Axes>"
      ]
     },
     "metadata": {
      "needs_background": "light"
     },
     "output_type": "display_data"
    }
   ],
   "source": [
    "data[(data['RegistrationYear'] < 2024) & (data['RegistrationYear'] > 1940)]['RegistrationYear'].plot(kind='hist');\n",
    "\n",
    "plt.xlabel('Год регистрации')\n",
    "plt.ylabel('Количество значений')\n",
    "plt.show()"
   ]
  },
  {
   "cell_type": "code",
   "execution_count": 19,
   "metadata": {
    "scrolled": true
   },
   "outputs": [
    {
     "data": {
      "text/html": [
       "<div>\n",
       "<style scoped>\n",
       "    .dataframe tbody tr th:only-of-type {\n",
       "        vertical-align: middle;\n",
       "    }\n",
       "\n",
       "    .dataframe tbody tr th {\n",
       "        vertical-align: top;\n",
       "    }\n",
       "\n",
       "    .dataframe thead th {\n",
       "        text-align: right;\n",
       "    }\n",
       "</style>\n",
       "<table border=\"1\" class=\"dataframe\">\n",
       "  <thead>\n",
       "    <tr style=\"text-align: right;\">\n",
       "      <th></th>\n",
       "      <th>Price</th>\n",
       "      <th>VehicleType</th>\n",
       "      <th>RegistrationYear</th>\n",
       "      <th>Gearbox</th>\n",
       "      <th>Power</th>\n",
       "      <th>Model</th>\n",
       "      <th>Kilometer</th>\n",
       "      <th>FuelType</th>\n",
       "      <th>Brand</th>\n",
       "      <th>Repaired</th>\n",
       "    </tr>\n",
       "  </thead>\n",
       "  <tbody>\n",
       "    <tr>\n",
       "      <th>15</th>\n",
       "      <td>450</td>\n",
       "      <td>small</td>\n",
       "      <td>1910</td>\n",
       "      <td>NaN</td>\n",
       "      <td>0</td>\n",
       "      <td>ka</td>\n",
       "      <td>5000</td>\n",
       "      <td>petrol</td>\n",
       "      <td>ford</td>\n",
       "      <td>NaN</td>\n",
       "    </tr>\n",
       "    <tr>\n",
       "      <th>622</th>\n",
       "      <td>0</td>\n",
       "      <td>NaN</td>\n",
       "      <td>1111</td>\n",
       "      <td>NaN</td>\n",
       "      <td>0</td>\n",
       "      <td>NaN</td>\n",
       "      <td>5000</td>\n",
       "      <td>NaN</td>\n",
       "      <td>opel</td>\n",
       "      <td>NaN</td>\n",
       "    </tr>\n",
       "    <tr>\n",
       "      <th>630</th>\n",
       "      <td>12000</td>\n",
       "      <td>sedan</td>\n",
       "      <td>1969</td>\n",
       "      <td>manual</td>\n",
       "      <td>140</td>\n",
       "      <td>s_klasse</td>\n",
       "      <td>80000</td>\n",
       "      <td>petrol</td>\n",
       "      <td>mercedes_benz</td>\n",
       "      <td>no</td>\n",
       "    </tr>\n",
       "    <tr>\n",
       "      <th>1794</th>\n",
       "      <td>12800</td>\n",
       "      <td>coupe</td>\n",
       "      <td>1965</td>\n",
       "      <td>manual</td>\n",
       "      <td>90</td>\n",
       "      <td>other</td>\n",
       "      <td>100000</td>\n",
       "      <td>petrol</td>\n",
       "      <td>ford</td>\n",
       "      <td>no</td>\n",
       "    </tr>\n",
       "    <tr>\n",
       "      <th>1928</th>\n",
       "      <td>7000</td>\n",
       "      <td>suv</td>\n",
       "      <td>1945</td>\n",
       "      <td>manual</td>\n",
       "      <td>48</td>\n",
       "      <td>other</td>\n",
       "      <td>150000</td>\n",
       "      <td>petrol</td>\n",
       "      <td>volkswagen</td>\n",
       "      <td>no</td>\n",
       "    </tr>\n",
       "  </tbody>\n",
       "</table>\n",
       "</div>"
      ],
      "text/plain": [
       "      Price VehicleType  RegistrationYear Gearbox  Power     Model  Kilometer  \\\n",
       "15      450       small              1910     NaN      0        ka       5000   \n",
       "622       0         NaN              1111     NaN      0       NaN       5000   \n",
       "630   12000       sedan              1969  manual    140  s_klasse      80000   \n",
       "1794  12800       coupe              1965  manual     90     other     100000   \n",
       "1928   7000         suv              1945  manual     48     other     150000   \n",
       "\n",
       "     FuelType          Brand Repaired  \n",
       "15     petrol           ford      NaN  \n",
       "622       NaN           opel      NaN  \n",
       "630    petrol  mercedes_benz       no  \n",
       "1794   petrol           ford       no  \n",
       "1928   petrol     volkswagen       no  "
      ]
     },
     "execution_count": 19,
     "metadata": {},
     "output_type": "execute_result"
    }
   ],
   "source": [
    "data[(data['RegistrationYear'] > 2024) | (data['RegistrationYear'] < 1970)].head()\n",
    "\n",
    "# год регистрации не может быть больше текущего, а меньше 1970 - аномалии"
   ]
  },
  {
   "cell_type": "code",
   "execution_count": 20,
   "metadata": {
    "scrolled": true
   },
   "outputs": [
    {
     "data": {
      "text/plain": [
       "0.4428941353704309"
      ]
     },
     "execution_count": 20,
     "metadata": {},
     "output_type": "execute_result"
    }
   ],
   "source": [
    "((data['RegistrationYear'] > 2024) | (data['RegistrationYear'] < 1970)).sum() / data.shape[0] * 100"
   ]
  },
  {
   "cell_type": "markdown",
   "metadata": {},
   "source": [
    "Данных меньше пяти сотых процента, удалим"
   ]
  },
  {
   "cell_type": "code",
   "execution_count": 21,
   "metadata": {},
   "outputs": [],
   "source": [
    "data = data[(data['RegistrationYear'] <= 2024) & (data['RegistrationYear'] >= 1970)]"
   ]
  },
  {
   "cell_type": "code",
   "execution_count": 22,
   "metadata": {
    "scrolled": true
   },
   "outputs": [
    {
     "data": {
      "text/plain": [
       "0"
      ]
     },
     "execution_count": 22,
     "metadata": {},
     "output_type": "execute_result"
    }
   ],
   "source": [
    "(data['RegistrationYear'] > 2024).sum()"
   ]
  },
  {
   "cell_type": "code",
   "execution_count": 23,
   "metadata": {},
   "outputs": [
    {
     "data": {
      "text/html": [
       "<div>\n",
       "<style scoped>\n",
       "    .dataframe tbody tr th:only-of-type {\n",
       "        vertical-align: middle;\n",
       "    }\n",
       "\n",
       "    .dataframe tbody tr th {\n",
       "        vertical-align: top;\n",
       "    }\n",
       "\n",
       "    .dataframe thead th {\n",
       "        text-align: right;\n",
       "    }\n",
       "</style>\n",
       "<table border=\"1\" class=\"dataframe\">\n",
       "  <thead>\n",
       "    <tr style=\"text-align: right;\">\n",
       "      <th></th>\n",
       "      <th>Price</th>\n",
       "      <th>VehicleType</th>\n",
       "      <th>RegistrationYear</th>\n",
       "      <th>Gearbox</th>\n",
       "      <th>Power</th>\n",
       "      <th>Model</th>\n",
       "      <th>Kilometer</th>\n",
       "      <th>FuelType</th>\n",
       "      <th>Brand</th>\n",
       "      <th>Repaired</th>\n",
       "    </tr>\n",
       "  </thead>\n",
       "  <tbody>\n",
       "    <tr>\n",
       "      <th>1816</th>\n",
       "      <td>3200</td>\n",
       "      <td>small</td>\n",
       "      <td>2004</td>\n",
       "      <td>manual</td>\n",
       "      <td>1398</td>\n",
       "      <td>corolla</td>\n",
       "      <td>5000</td>\n",
       "      <td>petrol</td>\n",
       "      <td>toyota</td>\n",
       "      <td>no</td>\n",
       "    </tr>\n",
       "    <tr>\n",
       "      <th>2102</th>\n",
       "      <td>0</td>\n",
       "      <td>sedan</td>\n",
       "      <td>1999</td>\n",
       "      <td>NaN</td>\n",
       "      <td>1799</td>\n",
       "      <td>vectra</td>\n",
       "      <td>150000</td>\n",
       "      <td>petrol</td>\n",
       "      <td>opel</td>\n",
       "      <td>yes</td>\n",
       "    </tr>\n",
       "    <tr>\n",
       "      <th>2781</th>\n",
       "      <td>19500</td>\n",
       "      <td>suv</td>\n",
       "      <td>2004</td>\n",
       "      <td>auto</td>\n",
       "      <td>450</td>\n",
       "      <td>cayenne</td>\n",
       "      <td>125000</td>\n",
       "      <td>petrol</td>\n",
       "      <td>porsche</td>\n",
       "      <td>no</td>\n",
       "    </tr>\n",
       "    <tr>\n",
       "      <th>3289</th>\n",
       "      <td>16899</td>\n",
       "      <td>wagon</td>\n",
       "      <td>2003</td>\n",
       "      <td>auto</td>\n",
       "      <td>476</td>\n",
       "      <td>e_klasse</td>\n",
       "      <td>150000</td>\n",
       "      <td>petrol</td>\n",
       "      <td>mercedes_benz</td>\n",
       "      <td>no</td>\n",
       "    </tr>\n",
       "    <tr>\n",
       "      <th>3746</th>\n",
       "      <td>0</td>\n",
       "      <td>NaN</td>\n",
       "      <td>2017</td>\n",
       "      <td>manual</td>\n",
       "      <td>750</td>\n",
       "      <td>NaN</td>\n",
       "      <td>150000</td>\n",
       "      <td>petrol</td>\n",
       "      <td>smart</td>\n",
       "      <td>no</td>\n",
       "    </tr>\n",
       "    <tr>\n",
       "      <th>...</th>\n",
       "      <td>...</td>\n",
       "      <td>...</td>\n",
       "      <td>...</td>\n",
       "      <td>...</td>\n",
       "      <td>...</td>\n",
       "      <td>...</td>\n",
       "      <td>...</td>\n",
       "      <td>...</td>\n",
       "      <td>...</td>\n",
       "      <td>...</td>\n",
       "    </tr>\n",
       "    <tr>\n",
       "      <th>351947</th>\n",
       "      <td>1500</td>\n",
       "      <td>bus</td>\n",
       "      <td>2001</td>\n",
       "      <td>manual</td>\n",
       "      <td>1001</td>\n",
       "      <td>zafira</td>\n",
       "      <td>5000</td>\n",
       "      <td>gasoline</td>\n",
       "      <td>opel</td>\n",
       "      <td>no</td>\n",
       "    </tr>\n",
       "    <tr>\n",
       "      <th>352322</th>\n",
       "      <td>15999</td>\n",
       "      <td>wagon</td>\n",
       "      <td>2007</td>\n",
       "      <td>auto</td>\n",
       "      <td>435</td>\n",
       "      <td>other</td>\n",
       "      <td>150000</td>\n",
       "      <td>petrol</td>\n",
       "      <td>audi</td>\n",
       "      <td>no</td>\n",
       "    </tr>\n",
       "    <tr>\n",
       "      <th>353493</th>\n",
       "      <td>12500</td>\n",
       "      <td>NaN</td>\n",
       "      <td>2017</td>\n",
       "      <td>manual</td>\n",
       "      <td>2000</td>\n",
       "      <td>other</td>\n",
       "      <td>60000</td>\n",
       "      <td>gasoline</td>\n",
       "      <td>chrysler</td>\n",
       "      <td>no</td>\n",
       "    </tr>\n",
       "    <tr>\n",
       "      <th>353633</th>\n",
       "      <td>2400</td>\n",
       "      <td>sedan</td>\n",
       "      <td>2007</td>\n",
       "      <td>manual</td>\n",
       "      <td>650</td>\n",
       "      <td>c2</td>\n",
       "      <td>150000</td>\n",
       "      <td>petrol</td>\n",
       "      <td>citroen</td>\n",
       "      <td>NaN</td>\n",
       "    </tr>\n",
       "    <tr>\n",
       "      <th>354045</th>\n",
       "      <td>20000</td>\n",
       "      <td>coupe</td>\n",
       "      <td>2006</td>\n",
       "      <td>auto</td>\n",
       "      <td>476</td>\n",
       "      <td>other</td>\n",
       "      <td>125000</td>\n",
       "      <td>petrol</td>\n",
       "      <td>mercedes_benz</td>\n",
       "      <td>no</td>\n",
       "    </tr>\n",
       "  </tbody>\n",
       "</table>\n",
       "<p>689 rows × 10 columns</p>\n",
       "</div>"
      ],
      "text/plain": [
       "        Price VehicleType  RegistrationYear Gearbox  Power     Model  \\\n",
       "1816     3200       small              2004  manual   1398   corolla   \n",
       "2102        0       sedan              1999     NaN   1799    vectra   \n",
       "2781    19500         suv              2004    auto    450   cayenne   \n",
       "3289    16899       wagon              2003    auto    476  e_klasse   \n",
       "3746        0         NaN              2017  manual    750       NaN   \n",
       "...       ...         ...               ...     ...    ...       ...   \n",
       "351947   1500         bus              2001  manual   1001    zafira   \n",
       "352322  15999       wagon              2007    auto    435     other   \n",
       "353493  12500         NaN              2017  manual   2000     other   \n",
       "353633   2400       sedan              2007  manual    650        c2   \n",
       "354045  20000       coupe              2006    auto    476     other   \n",
       "\n",
       "        Kilometer  FuelType          Brand Repaired  \n",
       "1816         5000    petrol         toyota       no  \n",
       "2102       150000    petrol           opel      yes  \n",
       "2781       125000    petrol        porsche       no  \n",
       "3289       150000    petrol  mercedes_benz       no  \n",
       "3746       150000    petrol          smart       no  \n",
       "...           ...       ...            ...      ...  \n",
       "351947       5000  gasoline           opel       no  \n",
       "352322     150000    petrol           audi       no  \n",
       "353493      60000  gasoline       chrysler       no  \n",
       "353633     150000    petrol        citroen      NaN  \n",
       "354045     125000    petrol  mercedes_benz       no  \n",
       "\n",
       "[689 rows x 10 columns]"
      ]
     },
     "execution_count": 23,
     "metadata": {},
     "output_type": "execute_result"
    }
   ],
   "source": [
    "data[data['Power'] > 400] # мощность авто выше 300 лс аномальное значение, что подтверждает беглый просмотр данных"
   ]
  },
  {
   "cell_type": "code",
   "execution_count": 24,
   "metadata": {
    "scrolled": true
   },
   "outputs": [
    {
     "data": {
      "text/plain": [
       "0.22373108108546919"
      ]
     },
     "execution_count": 24,
     "metadata": {},
     "output_type": "execute_result"
    }
   ],
   "source": [
    "(data['Power'] > 400).sum() / data.shape[0] * 100"
   ]
  },
  {
   "cell_type": "markdown",
   "metadata": {},
   "source": [
    "Таких данных около двух десятых процента- удалим"
   ]
  },
  {
   "cell_type": "code",
   "execution_count": 25,
   "metadata": {},
   "outputs": [
    {
     "data": {
      "text/html": [
       "<div>\n",
       "<style scoped>\n",
       "    .dataframe tbody tr th:only-of-type {\n",
       "        vertical-align: middle;\n",
       "    }\n",
       "\n",
       "    .dataframe tbody tr th {\n",
       "        vertical-align: top;\n",
       "    }\n",
       "\n",
       "    .dataframe thead th {\n",
       "        text-align: right;\n",
       "    }\n",
       "</style>\n",
       "<table border=\"1\" class=\"dataframe\">\n",
       "  <thead>\n",
       "    <tr style=\"text-align: right;\">\n",
       "      <th></th>\n",
       "      <th>Price</th>\n",
       "      <th>VehicleType</th>\n",
       "      <th>RegistrationYear</th>\n",
       "      <th>Gearbox</th>\n",
       "      <th>Power</th>\n",
       "      <th>Model</th>\n",
       "      <th>Kilometer</th>\n",
       "      <th>FuelType</th>\n",
       "      <th>Brand</th>\n",
       "      <th>Repaired</th>\n",
       "    </tr>\n",
       "  </thead>\n",
       "  <tbody>\n",
       "    <tr>\n",
       "      <th>0</th>\n",
       "      <td>480</td>\n",
       "      <td>NaN</td>\n",
       "      <td>1993</td>\n",
       "      <td>manual</td>\n",
       "      <td>0</td>\n",
       "      <td>golf</td>\n",
       "      <td>150000</td>\n",
       "      <td>petrol</td>\n",
       "      <td>volkswagen</td>\n",
       "      <td>NaN</td>\n",
       "    </tr>\n",
       "    <tr>\n",
       "      <th>32</th>\n",
       "      <td>245</td>\n",
       "      <td>sedan</td>\n",
       "      <td>1994</td>\n",
       "      <td>NaN</td>\n",
       "      <td>0</td>\n",
       "      <td>golf</td>\n",
       "      <td>150000</td>\n",
       "      <td>petrol</td>\n",
       "      <td>volkswagen</td>\n",
       "      <td>no</td>\n",
       "    </tr>\n",
       "    <tr>\n",
       "      <th>37</th>\n",
       "      <td>1500</td>\n",
       "      <td>NaN</td>\n",
       "      <td>2016</td>\n",
       "      <td>NaN</td>\n",
       "      <td>0</td>\n",
       "      <td>kangoo</td>\n",
       "      <td>150000</td>\n",
       "      <td>gasoline</td>\n",
       "      <td>renault</td>\n",
       "      <td>no</td>\n",
       "    </tr>\n",
       "    <tr>\n",
       "      <th>40</th>\n",
       "      <td>0</td>\n",
       "      <td>NaN</td>\n",
       "      <td>1990</td>\n",
       "      <td>NaN</td>\n",
       "      <td>0</td>\n",
       "      <td>corsa</td>\n",
       "      <td>150000</td>\n",
       "      <td>petrol</td>\n",
       "      <td>opel</td>\n",
       "      <td>NaN</td>\n",
       "    </tr>\n",
       "    <tr>\n",
       "      <th>54</th>\n",
       "      <td>4700</td>\n",
       "      <td>wagon</td>\n",
       "      <td>2005</td>\n",
       "      <td>manual</td>\n",
       "      <td>0</td>\n",
       "      <td>signum</td>\n",
       "      <td>150000</td>\n",
       "      <td>NaN</td>\n",
       "      <td>opel</td>\n",
       "      <td>no</td>\n",
       "    </tr>\n",
       "    <tr>\n",
       "      <th>...</th>\n",
       "      <td>...</td>\n",
       "      <td>...</td>\n",
       "      <td>...</td>\n",
       "      <td>...</td>\n",
       "      <td>...</td>\n",
       "      <td>...</td>\n",
       "      <td>...</td>\n",
       "      <td>...</td>\n",
       "      <td>...</td>\n",
       "      <td>...</td>\n",
       "    </tr>\n",
       "    <tr>\n",
       "      <th>354338</th>\n",
       "      <td>180</td>\n",
       "      <td>NaN</td>\n",
       "      <td>1995</td>\n",
       "      <td>NaN</td>\n",
       "      <td>0</td>\n",
       "      <td>NaN</td>\n",
       "      <td>125000</td>\n",
       "      <td>petrol</td>\n",
       "      <td>opel</td>\n",
       "      <td>NaN</td>\n",
       "    </tr>\n",
       "    <tr>\n",
       "      <th>354346</th>\n",
       "      <td>2600</td>\n",
       "      <td>NaN</td>\n",
       "      <td>2005</td>\n",
       "      <td>auto</td>\n",
       "      <td>0</td>\n",
       "      <td>c_klasse</td>\n",
       "      <td>150000</td>\n",
       "      <td>NaN</td>\n",
       "      <td>mercedes_benz</td>\n",
       "      <td>NaN</td>\n",
       "    </tr>\n",
       "    <tr>\n",
       "      <th>354360</th>\n",
       "      <td>3999</td>\n",
       "      <td>wagon</td>\n",
       "      <td>2005</td>\n",
       "      <td>manual</td>\n",
       "      <td>3</td>\n",
       "      <td>3er</td>\n",
       "      <td>150000</td>\n",
       "      <td>gasoline</td>\n",
       "      <td>bmw</td>\n",
       "      <td>no</td>\n",
       "    </tr>\n",
       "    <tr>\n",
       "      <th>354364</th>\n",
       "      <td>0</td>\n",
       "      <td>NaN</td>\n",
       "      <td>2005</td>\n",
       "      <td>manual</td>\n",
       "      <td>0</td>\n",
       "      <td>colt</td>\n",
       "      <td>150000</td>\n",
       "      <td>petrol</td>\n",
       "      <td>mitsubishi</td>\n",
       "      <td>yes</td>\n",
       "    </tr>\n",
       "    <tr>\n",
       "      <th>354365</th>\n",
       "      <td>2200</td>\n",
       "      <td>NaN</td>\n",
       "      <td>2005</td>\n",
       "      <td>NaN</td>\n",
       "      <td>0</td>\n",
       "      <td>NaN</td>\n",
       "      <td>20000</td>\n",
       "      <td>NaN</td>\n",
       "      <td>sonstige_autos</td>\n",
       "      <td>NaN</td>\n",
       "    </tr>\n",
       "  </tbody>\n",
       "</table>\n",
       "<p>35729 rows × 10 columns</p>\n",
       "</div>"
      ],
      "text/plain": [
       "        Price VehicleType  RegistrationYear Gearbox  Power     Model  \\\n",
       "0         480         NaN              1993  manual      0      golf   \n",
       "32        245       sedan              1994     NaN      0      golf   \n",
       "37       1500         NaN              2016     NaN      0    kangoo   \n",
       "40          0         NaN              1990     NaN      0     corsa   \n",
       "54       4700       wagon              2005  manual      0    signum   \n",
       "...       ...         ...               ...     ...    ...       ...   \n",
       "354338    180         NaN              1995     NaN      0       NaN   \n",
       "354346   2600         NaN              2005    auto      0  c_klasse   \n",
       "354360   3999       wagon              2005  manual      3       3er   \n",
       "354364      0         NaN              2005  manual      0      colt   \n",
       "354365   2200         NaN              2005     NaN      0       NaN   \n",
       "\n",
       "        Kilometer  FuelType           Brand Repaired  \n",
       "0          150000    petrol      volkswagen      NaN  \n",
       "32         150000    petrol      volkswagen       no  \n",
       "37         150000  gasoline         renault       no  \n",
       "40         150000    petrol            opel      NaN  \n",
       "54         150000       NaN            opel       no  \n",
       "...           ...       ...             ...      ...  \n",
       "354338     125000    petrol            opel      NaN  \n",
       "354346     150000       NaN   mercedes_benz      NaN  \n",
       "354360     150000  gasoline             bmw       no  \n",
       "354364     150000    petrol      mitsubishi      yes  \n",
       "354365      20000       NaN  sonstige_autos      NaN  \n",
       "\n",
       "[35729 rows x 10 columns]"
      ]
     },
     "execution_count": 25,
     "metadata": {},
     "output_type": "execute_result"
    }
   ],
   "source": [
    "data[data['Power'] < 20]"
   ]
  },
  {
   "cell_type": "code",
   "execution_count": 26,
   "metadata": {},
   "outputs": [],
   "source": [
    "data = data[(data['Power'] < 400) & (data['Power'] > 20)]"
   ]
  },
  {
   "cell_type": "code",
   "execution_count": 27,
   "metadata": {
    "scrolled": true
   },
   "outputs": [
    {
     "data": {
      "text/plain": [
       "0"
      ]
     },
     "execution_count": 27,
     "metadata": {},
     "output_type": "execute_result"
    }
   ],
   "source": [
    "(data['Power'] > 400).sum()"
   ]
  },
  {
   "cell_type": "code",
   "execution_count": 28,
   "metadata": {},
   "outputs": [
    {
     "data": {
      "image/png": "[encoded data removed]",
      "text/plain": [
       "<Figure size 720x720 with 4 Axes>"
      ]
     },
     "metadata": {
      "needs_background": "light"
     },
     "output_type": "display_data"
    }
   ],
   "source": [
    "data.hist(figsize=(10,10));"
   ]
  },
  {
   "cell_type": "code",
   "execution_count": 29,
   "metadata": {
    "scrolled": true
   },
   "outputs": [
    {
     "data": {
      "text/html": [
       "<div>\n",
       "<style scoped>\n",
       "    .dataframe tbody tr th:only-of-type {\n",
       "        vertical-align: middle;\n",
       "    }\n",
       "\n",
       "    .dataframe tbody tr th {\n",
       "        vertical-align: top;\n",
       "    }\n",
       "\n",
       "    .dataframe thead th {\n",
       "        text-align: right;\n",
       "    }\n",
       "</style>\n",
       "<table border=\"1\" class=\"dataframe\">\n",
       "  <thead>\n",
       "    <tr style=\"text-align: right;\">\n",
       "      <th></th>\n",
       "      <th>Price</th>\n",
       "      <th>VehicleType</th>\n",
       "      <th>RegistrationYear</th>\n",
       "      <th>Gearbox</th>\n",
       "      <th>Power</th>\n",
       "      <th>Model</th>\n",
       "      <th>Kilometer</th>\n",
       "      <th>FuelType</th>\n",
       "      <th>Brand</th>\n",
       "      <th>Repaired</th>\n",
       "    </tr>\n",
       "  </thead>\n",
       "  <tbody>\n",
       "    <tr>\n",
       "      <th>1</th>\n",
       "      <td>18300</td>\n",
       "      <td>coupe</td>\n",
       "      <td>2011</td>\n",
       "      <td>manual</td>\n",
       "      <td>190</td>\n",
       "      <td>NaN</td>\n",
       "      <td>125000</td>\n",
       "      <td>gasoline</td>\n",
       "      <td>audi</td>\n",
       "      <td>yes</td>\n",
       "    </tr>\n",
       "    <tr>\n",
       "      <th>2</th>\n",
       "      <td>9800</td>\n",
       "      <td>suv</td>\n",
       "      <td>2004</td>\n",
       "      <td>auto</td>\n",
       "      <td>163</td>\n",
       "      <td>grand</td>\n",
       "      <td>125000</td>\n",
       "      <td>gasoline</td>\n",
       "      <td>jeep</td>\n",
       "      <td>NaN</td>\n",
       "    </tr>\n",
       "    <tr>\n",
       "      <th>3</th>\n",
       "      <td>1500</td>\n",
       "      <td>small</td>\n",
       "      <td>2001</td>\n",
       "      <td>manual</td>\n",
       "      <td>75</td>\n",
       "      <td>golf</td>\n",
       "      <td>150000</td>\n",
       "      <td>petrol</td>\n",
       "      <td>volkswagen</td>\n",
       "      <td>no</td>\n",
       "    </tr>\n",
       "  </tbody>\n",
       "</table>\n",
       "</div>"
      ],
      "text/plain": [
       "   Price VehicleType  RegistrationYear Gearbox  Power  Model  Kilometer  \\\n",
       "1  18300       coupe              2011  manual    190    NaN     125000   \n",
       "2   9800         suv              2004    auto    163  grand     125000   \n",
       "3   1500       small              2001  manual     75   golf     150000   \n",
       "\n",
       "   FuelType       Brand Repaired  \n",
       "1  gasoline        audi      yes  \n",
       "2  gasoline        jeep      NaN  \n",
       "3    petrol  volkswagen       no  "
      ]
     },
     "execution_count": 29,
     "metadata": {},
     "output_type": "execute_result"
    }
   ],
   "source": [
    "data.head(3)"
   ]
  },
  {
   "cell_type": "markdown",
   "metadata": {},
   "source": [
    "Посмотрим на целевой признак"
   ]
  },
  {
   "cell_type": "code",
   "execution_count": 30,
   "metadata": {
    "scrolled": true
   },
   "outputs": [
    {
     "data": {
      "text/plain": [
       "count    271482.000000\n",
       "mean       4766.149737\n",
       "std        4621.881107\n",
       "min           0.000000\n",
       "25%        1250.000000\n",
       "50%        3000.000000\n",
       "75%        6900.000000\n",
       "max       20000.000000\n",
       "Name: Price, dtype: float64"
      ]
     },
     "execution_count": 30,
     "metadata": {},
     "output_type": "execute_result"
    }
   ],
   "source": [
    "data['Price'].describe()"
   ]
  },
  {
   "cell_type": "markdown",
   "metadata": {},
   "source": [
    "Есть и нулевые значения и значения (около 25%, которые ниже 1010 евро). Я бы оставил порог в 500 евро- по цене ниже купить авто вряд ли получится. И стоит посмотреть и на верхнюю границу- авто с ценой от 6350 до 20000"
   ]
  },
  {
   "cell_type": "code",
   "execution_count": 31,
   "metadata": {},
   "outputs": [
    {
     "data": {
      "text/html": [
       "<div>\n",
       "<style scoped>\n",
       "    .dataframe tbody tr th:only-of-type {\n",
       "        vertical-align: middle;\n",
       "    }\n",
       "\n",
       "    .dataframe tbody tr th {\n",
       "        vertical-align: top;\n",
       "    }\n",
       "\n",
       "    .dataframe thead th {\n",
       "        text-align: right;\n",
       "    }\n",
       "</style>\n",
       "<table border=\"1\" class=\"dataframe\">\n",
       "  <thead>\n",
       "    <tr style=\"text-align: right;\">\n",
       "      <th></th>\n",
       "      <th>Price</th>\n",
       "      <th>VehicleType</th>\n",
       "      <th>RegistrationYear</th>\n",
       "      <th>Gearbox</th>\n",
       "      <th>Power</th>\n",
       "      <th>Model</th>\n",
       "      <th>Kilometer</th>\n",
       "      <th>FuelType</th>\n",
       "      <th>Brand</th>\n",
       "      <th>Repaired</th>\n",
       "    </tr>\n",
       "  </thead>\n",
       "  <tbody>\n",
       "    <tr>\n",
       "      <th>7</th>\n",
       "      <td>0</td>\n",
       "      <td>sedan</td>\n",
       "      <td>1980</td>\n",
       "      <td>manual</td>\n",
       "      <td>50</td>\n",
       "      <td>other</td>\n",
       "      <td>40000</td>\n",
       "      <td>petrol</td>\n",
       "      <td>volkswagen</td>\n",
       "      <td>no</td>\n",
       "    </tr>\n",
       "    <tr>\n",
       "      <th>16</th>\n",
       "      <td>300</td>\n",
       "      <td>NaN</td>\n",
       "      <td>2016</td>\n",
       "      <td>NaN</td>\n",
       "      <td>60</td>\n",
       "      <td>polo</td>\n",
       "      <td>150000</td>\n",
       "      <td>petrol</td>\n",
       "      <td>volkswagen</td>\n",
       "      <td>NaN</td>\n",
       "    </tr>\n",
       "    <tr>\n",
       "      <th>23</th>\n",
       "      <td>450</td>\n",
       "      <td>small</td>\n",
       "      <td>1997</td>\n",
       "      <td>manual</td>\n",
       "      <td>50</td>\n",
       "      <td>arosa</td>\n",
       "      <td>150000</td>\n",
       "      <td>petrol</td>\n",
       "      <td>seat</td>\n",
       "      <td>no</td>\n",
       "    </tr>\n",
       "    <tr>\n",
       "      <th>35</th>\n",
       "      <td>350</td>\n",
       "      <td>NaN</td>\n",
       "      <td>2016</td>\n",
       "      <td>manual</td>\n",
       "      <td>75</td>\n",
       "      <td>golf</td>\n",
       "      <td>150000</td>\n",
       "      <td>petrol</td>\n",
       "      <td>volkswagen</td>\n",
       "      <td>no</td>\n",
       "    </tr>\n",
       "    <tr>\n",
       "      <th>59</th>\n",
       "      <td>1</td>\n",
       "      <td>suv</td>\n",
       "      <td>1994</td>\n",
       "      <td>manual</td>\n",
       "      <td>286</td>\n",
       "      <td>NaN</td>\n",
       "      <td>150000</td>\n",
       "      <td>NaN</td>\n",
       "      <td>sonstige_autos</td>\n",
       "      <td>NaN</td>\n",
       "    </tr>\n",
       "    <tr>\n",
       "      <th>...</th>\n",
       "      <td>...</td>\n",
       "      <td>...</td>\n",
       "      <td>...</td>\n",
       "      <td>...</td>\n",
       "      <td>...</td>\n",
       "      <td>...</td>\n",
       "      <td>...</td>\n",
       "      <td>...</td>\n",
       "      <td>...</td>\n",
       "      <td>...</td>\n",
       "    </tr>\n",
       "    <tr>\n",
       "      <th>354277</th>\n",
       "      <td>0</td>\n",
       "      <td>small</td>\n",
       "      <td>1999</td>\n",
       "      <td>manual</td>\n",
       "      <td>37</td>\n",
       "      <td>arosa</td>\n",
       "      <td>150000</td>\n",
       "      <td>petrol</td>\n",
       "      <td>seat</td>\n",
       "      <td>yes</td>\n",
       "    </tr>\n",
       "    <tr>\n",
       "      <th>354293</th>\n",
       "      <td>480</td>\n",
       "      <td>sedan</td>\n",
       "      <td>1996</td>\n",
       "      <td>manual</td>\n",
       "      <td>136</td>\n",
       "      <td>c_klasse</td>\n",
       "      <td>150000</td>\n",
       "      <td>petrol</td>\n",
       "      <td>mercedes_benz</td>\n",
       "      <td>NaN</td>\n",
       "    </tr>\n",
       "    <tr>\n",
       "      <th>354297</th>\n",
       "      <td>400</td>\n",
       "      <td>wagon</td>\n",
       "      <td>1996</td>\n",
       "      <td>manual</td>\n",
       "      <td>150</td>\n",
       "      <td>a4</td>\n",
       "      <td>150000</td>\n",
       "      <td>petrol</td>\n",
       "      <td>audi</td>\n",
       "      <td>NaN</td>\n",
       "    </tr>\n",
       "    <tr>\n",
       "      <th>354309</th>\n",
       "      <td>99</td>\n",
       "      <td>small</td>\n",
       "      <td>1999</td>\n",
       "      <td>manual</td>\n",
       "      <td>60</td>\n",
       "      <td>arosa</td>\n",
       "      <td>150000</td>\n",
       "      <td>petrol</td>\n",
       "      <td>seat</td>\n",
       "      <td>yes</td>\n",
       "    </tr>\n",
       "    <tr>\n",
       "      <th>354329</th>\n",
       "      <td>350</td>\n",
       "      <td>small</td>\n",
       "      <td>1996</td>\n",
       "      <td>NaN</td>\n",
       "      <td>65</td>\n",
       "      <td>punto</td>\n",
       "      <td>150000</td>\n",
       "      <td>NaN</td>\n",
       "      <td>fiat</td>\n",
       "      <td>NaN</td>\n",
       "    </tr>\n",
       "  </tbody>\n",
       "</table>\n",
       "<p>21786 rows × 10 columns</p>\n",
       "</div>"
      ],
      "text/plain": [
       "        Price VehicleType  RegistrationYear Gearbox  Power     Model  \\\n",
       "7           0       sedan              1980  manual     50     other   \n",
       "16        300         NaN              2016     NaN     60      polo   \n",
       "23        450       small              1997  manual     50     arosa   \n",
       "35        350         NaN              2016  manual     75      golf   \n",
       "59          1         suv              1994  manual    286       NaN   \n",
       "...       ...         ...               ...     ...    ...       ...   \n",
       "354277      0       small              1999  manual     37     arosa   \n",
       "354293    480       sedan              1996  manual    136  c_klasse   \n",
       "354297    400       wagon              1996  manual    150        a4   \n",
       "354309     99       small              1999  manual     60     arosa   \n",
       "354329    350       small              1996     NaN     65     punto   \n",
       "\n",
       "        Kilometer FuelType           Brand Repaired  \n",
       "7           40000   petrol      volkswagen       no  \n",
       "16         150000   petrol      volkswagen      NaN  \n",
       "23         150000   petrol            seat       no  \n",
       "35         150000   petrol      volkswagen       no  \n",
       "59         150000      NaN  sonstige_autos      NaN  \n",
       "...           ...      ...             ...      ...  \n",
       "354277     150000   petrol            seat      yes  \n",
       "354293     150000   petrol   mercedes_benz      NaN  \n",
       "354297     150000   petrol            audi      NaN  \n",
       "354309     150000   petrol            seat      yes  \n",
       "354329     150000      NaN            fiat      NaN  \n",
       "\n",
       "[21786 rows x 10 columns]"
      ]
     },
     "execution_count": 31,
     "metadata": {},
     "output_type": "execute_result"
    }
   ],
   "source": [
    "data.query('Price < 500')\n"
   ]
  },
  {
   "cell_type": "markdown",
   "metadata": {},
   "source": [
    "Таких данных около 10%. Но в связи с их неинформотивностью по целевому признаку, считаю лучше не брать их в рассчет"
   ]
  },
  {
   "cell_type": "code",
   "execution_count": 32,
   "metadata": {},
   "outputs": [],
   "source": [
    "data = data.query('Price > 500')"
   ]
  },
  {
   "cell_type": "code",
   "execution_count": 33,
   "metadata": {},
   "outputs": [
    {
     "data": {
      "text/html": [
       "<div>\n",
       "<style scoped>\n",
       "    .dataframe tbody tr th:only-of-type {\n",
       "        vertical-align: middle;\n",
       "    }\n",
       "\n",
       "    .dataframe tbody tr th {\n",
       "        vertical-align: top;\n",
       "    }\n",
       "\n",
       "    .dataframe thead th {\n",
       "        text-align: right;\n",
       "    }\n",
       "</style>\n",
       "<table border=\"1\" class=\"dataframe\">\n",
       "  <thead>\n",
       "    <tr style=\"text-align: right;\">\n",
       "      <th></th>\n",
       "      <th>Price</th>\n",
       "      <th>VehicleType</th>\n",
       "      <th>RegistrationYear</th>\n",
       "      <th>Gearbox</th>\n",
       "      <th>Power</th>\n",
       "      <th>Model</th>\n",
       "      <th>Kilometer</th>\n",
       "      <th>FuelType</th>\n",
       "      <th>Brand</th>\n",
       "      <th>Repaired</th>\n",
       "    </tr>\n",
       "  </thead>\n",
       "  <tbody>\n",
       "  </tbody>\n",
       "</table>\n",
       "</div>"
      ],
      "text/plain": [
       "Empty DataFrame\n",
       "Columns: [Price, VehicleType, RegistrationYear, Gearbox, Power, Model, Kilometer, FuelType, Brand, Repaired]\n",
       "Index: []"
      ]
     },
     "execution_count": 33,
     "metadata": {},
     "output_type": "execute_result"
    }
   ],
   "source": [
    "data.query('Price < 500').head()"
   ]
  },
  {
   "cell_type": "code",
   "execution_count": 34,
   "metadata": {},
   "outputs": [
    {
     "data": {
      "text/html": [
       "<div>\n",
       "<style scoped>\n",
       "    .dataframe tbody tr th:only-of-type {\n",
       "        vertical-align: middle;\n",
       "    }\n",
       "\n",
       "    .dataframe tbody tr th {\n",
       "        vertical-align: top;\n",
       "    }\n",
       "\n",
       "    .dataframe thead th {\n",
       "        text-align: right;\n",
       "    }\n",
       "</style>\n",
       "<table border=\"1\" class=\"dataframe\">\n",
       "  <thead>\n",
       "    <tr style=\"text-align: right;\">\n",
       "      <th></th>\n",
       "      <th>Price</th>\n",
       "      <th>VehicleType</th>\n",
       "      <th>RegistrationYear</th>\n",
       "      <th>Gearbox</th>\n",
       "      <th>Power</th>\n",
       "      <th>Model</th>\n",
       "      <th>Kilometer</th>\n",
       "      <th>FuelType</th>\n",
       "      <th>Brand</th>\n",
       "      <th>Repaired</th>\n",
       "    </tr>\n",
       "  </thead>\n",
       "  <tbody>\n",
       "    <tr>\n",
       "      <th>172</th>\n",
       "      <td>19750</td>\n",
       "      <td>convertible</td>\n",
       "      <td>2006</td>\n",
       "      <td>manual</td>\n",
       "      <td>305</td>\n",
       "      <td>mustang</td>\n",
       "      <td>50000</td>\n",
       "      <td>petrol</td>\n",
       "      <td>ford</td>\n",
       "      <td>no</td>\n",
       "    </tr>\n",
       "    <tr>\n",
       "      <th>484</th>\n",
       "      <td>19900</td>\n",
       "      <td>bus</td>\n",
       "      <td>2009</td>\n",
       "      <td>manual</td>\n",
       "      <td>150</td>\n",
       "      <td>viano</td>\n",
       "      <td>90000</td>\n",
       "      <td>gasoline</td>\n",
       "      <td>mercedes_benz</td>\n",
       "      <td>no</td>\n",
       "    </tr>\n",
       "    <tr>\n",
       "      <th>1360</th>\n",
       "      <td>19850</td>\n",
       "      <td>sedan</td>\n",
       "      <td>2013</td>\n",
       "      <td>auto</td>\n",
       "      <td>150</td>\n",
       "      <td>golf</td>\n",
       "      <td>60000</td>\n",
       "      <td>gasoline</td>\n",
       "      <td>volkswagen</td>\n",
       "      <td>no</td>\n",
       "    </tr>\n",
       "    <tr>\n",
       "      <th>1515</th>\n",
       "      <td>20000</td>\n",
       "      <td>sedan</td>\n",
       "      <td>2010</td>\n",
       "      <td>auto</td>\n",
       "      <td>239</td>\n",
       "      <td>a6</td>\n",
       "      <td>150000</td>\n",
       "      <td>gasoline</td>\n",
       "      <td>audi</td>\n",
       "      <td>no</td>\n",
       "    </tr>\n",
       "    <tr>\n",
       "      <th>1586</th>\n",
       "      <td>20000</td>\n",
       "      <td>sedan</td>\n",
       "      <td>2014</td>\n",
       "      <td>auto</td>\n",
       "      <td>184</td>\n",
       "      <td>leon</td>\n",
       "      <td>40000</td>\n",
       "      <td>gasoline</td>\n",
       "      <td>seat</td>\n",
       "      <td>no</td>\n",
       "    </tr>\n",
       "    <tr>\n",
       "      <th>...</th>\n",
       "      <td>...</td>\n",
       "      <td>...</td>\n",
       "      <td>...</td>\n",
       "      <td>...</td>\n",
       "      <td>...</td>\n",
       "      <td>...</td>\n",
       "      <td>...</td>\n",
       "      <td>...</td>\n",
       "      <td>...</td>\n",
       "      <td>...</td>\n",
       "    </tr>\n",
       "    <tr>\n",
       "      <th>353096</th>\n",
       "      <td>19900</td>\n",
       "      <td>sedan</td>\n",
       "      <td>2010</td>\n",
       "      <td>auto</td>\n",
       "      <td>204</td>\n",
       "      <td>e_klasse</td>\n",
       "      <td>80000</td>\n",
       "      <td>gasoline</td>\n",
       "      <td>mercedes_benz</td>\n",
       "      <td>no</td>\n",
       "    </tr>\n",
       "    <tr>\n",
       "      <th>353193</th>\n",
       "      <td>19500</td>\n",
       "      <td>bus</td>\n",
       "      <td>1970</td>\n",
       "      <td>auto</td>\n",
       "      <td>69</td>\n",
       "      <td>transporter</td>\n",
       "      <td>30000</td>\n",
       "      <td>petrol</td>\n",
       "      <td>volkswagen</td>\n",
       "      <td>NaN</td>\n",
       "    </tr>\n",
       "    <tr>\n",
       "      <th>353590</th>\n",
       "      <td>19950</td>\n",
       "      <td>wagon</td>\n",
       "      <td>2009</td>\n",
       "      <td>manual</td>\n",
       "      <td>265</td>\n",
       "      <td>other</td>\n",
       "      <td>125000</td>\n",
       "      <td>petrol</td>\n",
       "      <td>audi</td>\n",
       "      <td>no</td>\n",
       "    </tr>\n",
       "    <tr>\n",
       "      <th>354178</th>\n",
       "      <td>19990</td>\n",
       "      <td>small</td>\n",
       "      <td>2014</td>\n",
       "      <td>auto</td>\n",
       "      <td>185</td>\n",
       "      <td>a1</td>\n",
       "      <td>10000</td>\n",
       "      <td>petrol</td>\n",
       "      <td>audi</td>\n",
       "      <td>no</td>\n",
       "    </tr>\n",
       "    <tr>\n",
       "      <th>354319</th>\n",
       "      <td>19800</td>\n",
       "      <td>sedan</td>\n",
       "      <td>2011</td>\n",
       "      <td>manual</td>\n",
       "      <td>170</td>\n",
       "      <td>1er</td>\n",
       "      <td>80000</td>\n",
       "      <td>petrol</td>\n",
       "      <td>bmw</td>\n",
       "      <td>no</td>\n",
       "    </tr>\n",
       "  </tbody>\n",
       "</table>\n",
       "<p>2085 rows × 10 columns</p>\n",
       "</div>"
      ],
      "text/plain": [
       "        Price  VehicleType  RegistrationYear Gearbox  Power        Model  \\\n",
       "172     19750  convertible              2006  manual    305      mustang   \n",
       "484     19900          bus              2009  manual    150        viano   \n",
       "1360    19850        sedan              2013    auto    150         golf   \n",
       "1515    20000        sedan              2010    auto    239           a6   \n",
       "1586    20000        sedan              2014    auto    184         leon   \n",
       "...       ...          ...               ...     ...    ...          ...   \n",
       "353096  19900        sedan              2010    auto    204     e_klasse   \n",
       "353193  19500          bus              1970    auto     69  transporter   \n",
       "353590  19950        wagon              2009  manual    265        other   \n",
       "354178  19990        small              2014    auto    185           a1   \n",
       "354319  19800        sedan              2011  manual    170          1er   \n",
       "\n",
       "        Kilometer  FuelType          Brand Repaired  \n",
       "172         50000    petrol           ford       no  \n",
       "484         90000  gasoline  mercedes_benz       no  \n",
       "1360        60000  gasoline     volkswagen       no  \n",
       "1515       150000  gasoline           audi       no  \n",
       "1586        40000  gasoline           seat       no  \n",
       "...           ...       ...            ...      ...  \n",
       "353096      80000  gasoline  mercedes_benz       no  \n",
       "353193      30000    petrol     volkswagen      NaN  \n",
       "353590     125000    petrol           audi       no  \n",
       "354178      10000    petrol           audi       no  \n",
       "354319      80000    petrol            bmw       no  \n",
       "\n",
       "[2085 rows x 10 columns]"
      ]
     },
     "execution_count": 34,
     "metadata": {},
     "output_type": "execute_result"
    }
   ],
   "source": [
    "data.query('Price > 19000')"
   ]
  },
  {
   "cell_type": "markdown",
   "metadata": {},
   "source": [
    "Цена в 20000 евро в датасете максимальная. Но на рынке явно есть авто и с большей стоимостью, вероятно при вводе данных было какое то ограничение. Верхнюю границу считаю трогать не стоит"
   ]
  },
  {
   "cell_type": "code",
   "execution_count": 35,
   "metadata": {
    "scrolled": true
   },
   "outputs": [
    {
     "data": {
      "text/plain": [
       "array(['audi', 'jeep', 'volkswagen', 'skoda', 'bmw', 'peugeot', 'ford',\n",
       "       'mazda', 'nissan', 'renault', 'mercedes_benz', 'opel', 'citroen',\n",
       "       'honda', 'fiat', 'mini', 'smart', 'hyundai', 'seat', 'subaru',\n",
       "       'volvo', 'mitsubishi', 'alfa_romeo', 'kia', 'suzuki', 'lancia',\n",
       "       'toyota', 'chevrolet', 'dacia', 'daihatsu', 'chrysler',\n",
       "       'sonstige_autos', 'jaguar', 'daewoo', 'rover', 'porsche', 'saab',\n",
       "       'trabant', 'land_rover', 'lada'], dtype=object)"
      ]
     },
     "execution_count": 35,
     "metadata": {},
     "output_type": "execute_result"
    }
   ],
   "source": [
    "data['Brand'].unique()"
   ]
  },
  {
   "cell_type": "code",
   "execution_count": 36,
   "metadata": {},
   "outputs": [
    {
     "data": {
      "text/html": [
       "<div>\n",
       "<style scoped>\n",
       "    .dataframe tbody tr th:only-of-type {\n",
       "        vertical-align: middle;\n",
       "    }\n",
       "\n",
       "    .dataframe tbody tr th {\n",
       "        vertical-align: top;\n",
       "    }\n",
       "\n",
       "    .dataframe thead th {\n",
       "        text-align: right;\n",
       "    }\n",
       "</style>\n",
       "<table border=\"1\" class=\"dataframe\">\n",
       "  <thead>\n",
       "    <tr style=\"text-align: right;\">\n",
       "      <th></th>\n",
       "      <th>Price</th>\n",
       "      <th>VehicleType</th>\n",
       "      <th>RegistrationYear</th>\n",
       "      <th>Gearbox</th>\n",
       "      <th>Power</th>\n",
       "      <th>Model</th>\n",
       "      <th>Kilometer</th>\n",
       "      <th>FuelType</th>\n",
       "      <th>Brand</th>\n",
       "      <th>Repaired</th>\n",
       "    </tr>\n",
       "  </thead>\n",
       "  <tbody>\n",
       "    <tr>\n",
       "      <th>661</th>\n",
       "      <td>9900</td>\n",
       "      <td>suv</td>\n",
       "      <td>2000</td>\n",
       "      <td>auto</td>\n",
       "      <td>250</td>\n",
       "      <td>NaN</td>\n",
       "      <td>150000</td>\n",
       "      <td>lpg</td>\n",
       "      <td>sonstige_autos</td>\n",
       "      <td>no</td>\n",
       "    </tr>\n",
       "    <tr>\n",
       "      <th>700</th>\n",
       "      <td>6999</td>\n",
       "      <td>sedan</td>\n",
       "      <td>2010</td>\n",
       "      <td>auto</td>\n",
       "      <td>186</td>\n",
       "      <td>NaN</td>\n",
       "      <td>125000</td>\n",
       "      <td>petrol</td>\n",
       "      <td>sonstige_autos</td>\n",
       "      <td>no</td>\n",
       "    </tr>\n",
       "    <tr>\n",
       "      <th>1098</th>\n",
       "      <td>11500</td>\n",
       "      <td>bus</td>\n",
       "      <td>1985</td>\n",
       "      <td>auto</td>\n",
       "      <td>160</td>\n",
       "      <td>NaN</td>\n",
       "      <td>125000</td>\n",
       "      <td>petrol</td>\n",
       "      <td>sonstige_autos</td>\n",
       "      <td>NaN</td>\n",
       "    </tr>\n",
       "    <tr>\n",
       "      <th>1106</th>\n",
       "      <td>9200</td>\n",
       "      <td>sedan</td>\n",
       "      <td>2005</td>\n",
       "      <td>auto</td>\n",
       "      <td>249</td>\n",
       "      <td>NaN</td>\n",
       "      <td>150000</td>\n",
       "      <td>petrol</td>\n",
       "      <td>sonstige_autos</td>\n",
       "      <td>no</td>\n",
       "    </tr>\n",
       "    <tr>\n",
       "      <th>1274</th>\n",
       "      <td>16990</td>\n",
       "      <td>small</td>\n",
       "      <td>2015</td>\n",
       "      <td>manual</td>\n",
       "      <td>135</td>\n",
       "      <td>NaN</td>\n",
       "      <td>20000</td>\n",
       "      <td>petrol</td>\n",
       "      <td>sonstige_autos</td>\n",
       "      <td>no</td>\n",
       "    </tr>\n",
       "  </tbody>\n",
       "</table>\n",
       "</div>"
      ],
      "text/plain": [
       "      Price VehicleType  RegistrationYear Gearbox  Power Model  Kilometer  \\\n",
       "661    9900         suv              2000    auto    250   NaN     150000   \n",
       "700    6999       sedan              2010    auto    186   NaN     125000   \n",
       "1098  11500         bus              1985    auto    160   NaN     125000   \n",
       "1106   9200       sedan              2005    auto    249   NaN     150000   \n",
       "1274  16990       small              2015  manual    135   NaN      20000   \n",
       "\n",
       "     FuelType           Brand Repaired  \n",
       "661       lpg  sonstige_autos       no  \n",
       "700    petrol  sonstige_autos       no  \n",
       "1098   petrol  sonstige_autos      NaN  \n",
       "1106   petrol  sonstige_autos       no  \n",
       "1274   petrol  sonstige_autos       no  "
      ]
     },
     "execution_count": 36,
     "metadata": {},
     "output_type": "execute_result"
    }
   ],
   "source": [
    "data[data['Brand'] == 'sonstige_autos'].head()"
   ]
  },
  {
   "cell_type": "markdown",
   "metadata": {},
   "source": [
    "Объединенные бренды авто, c немецкого sonstige = другой"
   ]
  },
  {
   "cell_type": "markdown",
   "metadata": {},
   "source": [
    "Проверим пропуски в данных"
   ]
  },
  {
   "cell_type": "code",
   "execution_count": 37,
   "metadata": {
    "scrolled": true
   },
   "outputs": [
    {
     "data": {
      "text/plain": [
       "Price                   0\n",
       "VehicleType         16771\n",
       "RegistrationYear        0\n",
       "Gearbox              4754\n",
       "Power                   0\n",
       "Model                9854\n",
       "Kilometer               0\n",
       "FuelType            15548\n",
       "Brand                   0\n",
       "Repaired            36491\n",
       "dtype: int64"
      ]
     },
     "execution_count": 37,
     "metadata": {},
     "output_type": "execute_result"
    }
   ],
   "source": [
    "data.isna().sum()"
   ]
  },
  {
   "cell_type": "markdown",
   "metadata": {},
   "source": [
    "Есть пропуски в признаках VehicleType, Gearbox, Model, FuelType, Repaired. Изучим и попробуем по возможности их заполнить"
   ]
  },
  {
   "cell_type": "markdown",
   "metadata": {},
   "source": [
    "Все эти признаки категориальные и заполнить средним(медианой) тут не получится\n",
    "\n",
    "Долго думал, чем можно заполнить пропуски в признках с типом кузова и в итоге понял, что даже если написать функцию по самым распространенным типам кузова по бренду- это будет не совсем корректно. Надо учитывать и модель и бренд и все равно это будет угадыванием (у одной и той же модели и бренда авто могут быть 2 и 3 вариации)\n",
    "Модель авто по косвенным признакам тоже не угадать\n",
    "\n",
    "Так же угадать какая коробка и был ли автомобиль в ремонте невозможно. \n",
    "\n",
    "Варинт либо использовать какие-то модели ML, которые по имеющимся признакам смогут подставить значения (Но в данном исследовании стоит другая задача, а разаработь такие модели - это достаточно затратные по времеи операции)\n",
    "\n",
    "Думаю самый правильный и оптимальный вариант в данном случае- проверить, если, например, в строке пропусков более 2 (или 3) - удалить эти строки из-за небольшой информативности"
   ]
  },
  {
   "cell_type": "code",
   "execution_count": 38,
   "metadata": {},
   "outputs": [
    {
     "data": {
      "text/plain": [
       "(246027, 10)"
      ]
     },
     "execution_count": 38,
     "metadata": {},
     "output_type": "execute_result"
    }
   ],
   "source": [
    "data.shape"
   ]
  },
  {
   "cell_type": "markdown",
   "metadata": {},
   "source": [
    "Посмотрим на признаки, которые сильно коррелируют с целевым, и если в них будут пропуски- думаю их можно удалить. Остальные признаки заполним каким-нибудь средним значением"
   ]
  },
  {
   "cell_type": "markdown",
   "metadata": {},
   "source": [
    "Построю еще одну матрицу корреляций, только по признакам с пропусками"
   ]
  },
  {
   "cell_type": "code",
   "execution_count": 39,
   "metadata": {},
   "outputs": [
    {
     "name": "stdout",
     "output_type": "stream",
     "text": [
      "interval columns not set, guessing: ['Price']\n"
     ]
    },
    {
     "data": {
      "image/png": "[encoded data removed]",
      "text/plain": [
       "<Figure size 720x432 with 2 Axes>"
      ]
     },
     "metadata": {
      "needs_background": "light"
     },
     "output_type": "display_data"
    }
   ],
   "source": [
    "data_phik2 = (data[['Price','VehicleType', 'Gearbox', 'Model', 'FuelType', 'Repaired']]\n",
    "              .phik_matrix())\n",
    "\n",
    "(plot_correlation_matrix(data_phik2.values, \n",
    "                         x_labels=data_phik2.columns, \n",
    "                         y_labels=data_phik2.index, \n",
    "                         figsize=(10, 6)))"
   ]
  },
  {
   "cell_type": "markdown",
   "metadata": {},
   "source": [
    "По проведенному анализу корреляции значимый признак: Model"
   ]
  },
  {
   "cell_type": "markdown",
   "metadata": {},
   "source": [
    "Удалю из выборки строки, в которых в признаке Model пропуски и еще более чем в 2 признаках имеются пропуски"
   ]
  },
  {
   "cell_type": "code",
   "execution_count": 40,
   "metadata": {
    "scrolled": true
   },
   "outputs": [
    {
     "data": {
      "text/html": [
       "<div>\n",
       "<style scoped>\n",
       "    .dataframe tbody tr th:only-of-type {\n",
       "        vertical-align: middle;\n",
       "    }\n",
       "\n",
       "    .dataframe tbody tr th {\n",
       "        vertical-align: top;\n",
       "    }\n",
       "\n",
       "    .dataframe thead th {\n",
       "        text-align: right;\n",
       "    }\n",
       "</style>\n",
       "<table border=\"1\" class=\"dataframe\">\n",
       "  <thead>\n",
       "    <tr style=\"text-align: right;\">\n",
       "      <th></th>\n",
       "      <th>Price</th>\n",
       "      <th>VehicleType</th>\n",
       "      <th>RegistrationYear</th>\n",
       "      <th>Gearbox</th>\n",
       "      <th>Power</th>\n",
       "      <th>Model</th>\n",
       "      <th>Kilometer</th>\n",
       "      <th>FuelType</th>\n",
       "      <th>Brand</th>\n",
       "      <th>Repaired</th>\n",
       "    </tr>\n",
       "  </thead>\n",
       "  <tbody>\n",
       "    <tr>\n",
       "      <th>161</th>\n",
       "      <td>1495</td>\n",
       "      <td>wagon</td>\n",
       "      <td>2001</td>\n",
       "      <td>NaN</td>\n",
       "      <td>64</td>\n",
       "      <td>NaN</td>\n",
       "      <td>150000</td>\n",
       "      <td>gasoline</td>\n",
       "      <td>volkswagen</td>\n",
       "      <td>NaN</td>\n",
       "    </tr>\n",
       "    <tr>\n",
       "      <th>186</th>\n",
       "      <td>14000</td>\n",
       "      <td>sedan</td>\n",
       "      <td>2008</td>\n",
       "      <td>NaN</td>\n",
       "      <td>235</td>\n",
       "      <td>NaN</td>\n",
       "      <td>150000</td>\n",
       "      <td>NaN</td>\n",
       "      <td>bmw</td>\n",
       "      <td>no</td>\n",
       "    </tr>\n",
       "    <tr>\n",
       "      <th>435</th>\n",
       "      <td>1300</td>\n",
       "      <td>NaN</td>\n",
       "      <td>2017</td>\n",
       "      <td>manual</td>\n",
       "      <td>150</td>\n",
       "      <td>NaN</td>\n",
       "      <td>150000</td>\n",
       "      <td>NaN</td>\n",
       "      <td>volkswagen</td>\n",
       "      <td>no</td>\n",
       "    </tr>\n",
       "    <tr>\n",
       "      <th>1060</th>\n",
       "      <td>1800</td>\n",
       "      <td>NaN</td>\n",
       "      <td>2018</td>\n",
       "      <td>manual</td>\n",
       "      <td>136</td>\n",
       "      <td>NaN</td>\n",
       "      <td>150000</td>\n",
       "      <td>NaN</td>\n",
       "      <td>fiat</td>\n",
       "      <td>no</td>\n",
       "    </tr>\n",
       "    <tr>\n",
       "      <th>1172</th>\n",
       "      <td>4600</td>\n",
       "      <td>NaN</td>\n",
       "      <td>2017</td>\n",
       "      <td>manual</td>\n",
       "      <td>131</td>\n",
       "      <td>NaN</td>\n",
       "      <td>150000</td>\n",
       "      <td>NaN</td>\n",
       "      <td>audi</td>\n",
       "      <td>NaN</td>\n",
       "    </tr>\n",
       "    <tr>\n",
       "      <th>...</th>\n",
       "      <td>...</td>\n",
       "      <td>...</td>\n",
       "      <td>...</td>\n",
       "      <td>...</td>\n",
       "      <td>...</td>\n",
       "      <td>...</td>\n",
       "      <td>...</td>\n",
       "      <td>...</td>\n",
       "      <td>...</td>\n",
       "      <td>...</td>\n",
       "    </tr>\n",
       "    <tr>\n",
       "      <th>353769</th>\n",
       "      <td>650</td>\n",
       "      <td>NaN</td>\n",
       "      <td>2000</td>\n",
       "      <td>manual</td>\n",
       "      <td>150</td>\n",
       "      <td>NaN</td>\n",
       "      <td>150000</td>\n",
       "      <td>NaN</td>\n",
       "      <td>audi</td>\n",
       "      <td>no</td>\n",
       "    </tr>\n",
       "    <tr>\n",
       "      <th>353816</th>\n",
       "      <td>9800</td>\n",
       "      <td>small</td>\n",
       "      <td>2013</td>\n",
       "      <td>manual</td>\n",
       "      <td>90</td>\n",
       "      <td>NaN</td>\n",
       "      <td>50000</td>\n",
       "      <td>NaN</td>\n",
       "      <td>renault</td>\n",
       "      <td>NaN</td>\n",
       "    </tr>\n",
       "    <tr>\n",
       "      <th>354007</th>\n",
       "      <td>10980</td>\n",
       "      <td>NaN</td>\n",
       "      <td>2018</td>\n",
       "      <td>manual</td>\n",
       "      <td>75</td>\n",
       "      <td>NaN</td>\n",
       "      <td>20000</td>\n",
       "      <td>NaN</td>\n",
       "      <td>volkswagen</td>\n",
       "      <td>no</td>\n",
       "    </tr>\n",
       "    <tr>\n",
       "      <th>354011</th>\n",
       "      <td>1000</td>\n",
       "      <td>NaN</td>\n",
       "      <td>2017</td>\n",
       "      <td>manual</td>\n",
       "      <td>54</td>\n",
       "      <td>NaN</td>\n",
       "      <td>125000</td>\n",
       "      <td>NaN</td>\n",
       "      <td>hyundai</td>\n",
       "      <td>no</td>\n",
       "    </tr>\n",
       "    <tr>\n",
       "      <th>354351</th>\n",
       "      <td>1900</td>\n",
       "      <td>NaN</td>\n",
       "      <td>2000</td>\n",
       "      <td>manual</td>\n",
       "      <td>110</td>\n",
       "      <td>NaN</td>\n",
       "      <td>150000</td>\n",
       "      <td>NaN</td>\n",
       "      <td>volkswagen</td>\n",
       "      <td>no</td>\n",
       "    </tr>\n",
       "  </tbody>\n",
       "</table>\n",
       "<p>2481 rows × 10 columns</p>\n",
       "</div>"
      ],
      "text/plain": [
       "        Price VehicleType  RegistrationYear Gearbox  Power Model  Kilometer  \\\n",
       "161      1495       wagon              2001     NaN     64   NaN     150000   \n",
       "186     14000       sedan              2008     NaN    235   NaN     150000   \n",
       "435      1300         NaN              2017  manual    150   NaN     150000   \n",
       "1060     1800         NaN              2018  manual    136   NaN     150000   \n",
       "1172     4600         NaN              2017  manual    131   NaN     150000   \n",
       "...       ...         ...               ...     ...    ...   ...        ...   \n",
       "353769    650         NaN              2000  manual    150   NaN     150000   \n",
       "353816   9800       small              2013  manual     90   NaN      50000   \n",
       "354007  10980         NaN              2018  manual     75   NaN      20000   \n",
       "354011   1000         NaN              2017  manual     54   NaN     125000   \n",
       "354351   1900         NaN              2000  manual    110   NaN     150000   \n",
       "\n",
       "        FuelType       Brand Repaired  \n",
       "161     gasoline  volkswagen      NaN  \n",
       "186          NaN         bmw       no  \n",
       "435          NaN  volkswagen       no  \n",
       "1060         NaN        fiat       no  \n",
       "1172         NaN        audi      NaN  \n",
       "...          ...         ...      ...  \n",
       "353769       NaN        audi       no  \n",
       "353816       NaN     renault      NaN  \n",
       "354007       NaN  volkswagen       no  \n",
       "354011       NaN     hyundai       no  \n",
       "354351       NaN  volkswagen       no  \n",
       "\n",
       "[2481 rows x 10 columns]"
      ]
     },
     "execution_count": 40,
     "metadata": {},
     "output_type": "execute_result"
    }
   ],
   "source": [
    "data[(data.isna().sum(axis=1) > 2) & data['Model'].isna()]"
   ]
  },
  {
   "cell_type": "code",
   "execution_count": 41,
   "metadata": {},
   "outputs": [],
   "source": [
    "data = data[(data.isna().sum(axis=1) <= 2) & (data['Model'] != 'NaN')]"
   ]
  },
  {
   "cell_type": "code",
   "execution_count": 42,
   "metadata": {},
   "outputs": [
    {
     "data": {
      "text/plain": [
       "Price                   0\n",
       "VehicleType         12236\n",
       "RegistrationYear        0\n",
       "Gearbox              3179\n",
       "Power                   0\n",
       "Model                7373\n",
       "Kilometer               0\n",
       "FuelType            11228\n",
       "Brand                   0\n",
       "Repaired            31951\n",
       "dtype: int64"
      ]
     },
     "execution_count": 42,
     "metadata": {},
     "output_type": "execute_result"
    }
   ],
   "source": [
    "data.isna().sum()"
   ]
  },
  {
   "cell_type": "code",
   "execution_count": 43,
   "metadata": {
    "scrolled": true
   },
   "outputs": [
    {
     "data": {
      "text/plain": [
       "petrol      148588\n",
       "gasoline     75838\n",
       "NaN          11228\n",
       "lpg           4223\n",
       "cng            441\n",
       "hybrid         191\n",
       "other           65\n",
       "electric        37\n",
       "Name: FuelType, dtype: int64"
      ]
     },
     "execution_count": 43,
     "metadata": {},
     "output_type": "execute_result"
    }
   ],
   "source": [
    "data['FuelType'].value_counts(dropna=False)"
   ]
  },
  {
   "cell_type": "markdown",
   "metadata": {},
   "source": [
    "Так как в petrol  больше всего значений, предположу, что в тех данных, где не заполнены данные, тоже бензиновый тип топлива"
   ]
  },
  {
   "cell_type": "code",
   "execution_count": 44,
   "metadata": {},
   "outputs": [],
   "source": [
    "data['FuelType'].fillna('petrol', inplace=True)"
   ]
  },
  {
   "cell_type": "code",
   "execution_count": 45,
   "metadata": {
    "scrolled": true
   },
   "outputs": [
    {
     "data": {
      "text/plain": [
       "no     188303\n",
       "NaN     31951\n",
       "yes     20357\n",
       "Name: Repaired, dtype: int64"
      ]
     },
     "execution_count": 45,
     "metadata": {},
     "output_type": "execute_result"
    }
   ],
   "source": [
    "data['Repaired'].value_counts(dropna=False)"
   ]
  },
  {
   "cell_type": "markdown",
   "metadata": {},
   "source": [
    "Так же предположу, что там, где данные не заполнены- авто не было в ремонте"
   ]
  },
  {
   "cell_type": "code",
   "execution_count": 46,
   "metadata": {},
   "outputs": [],
   "source": [
    "data['Repaired'].fillna('no', inplace=True)"
   ]
  },
  {
   "cell_type": "code",
   "execution_count": 47,
   "metadata": {},
   "outputs": [
    {
     "data": {
      "text/plain": [
       "manual    186301\n",
       "auto       51131\n",
       "NaN         3179\n",
       "Name: Gearbox, dtype: int64"
      ]
     },
     "execution_count": 47,
     "metadata": {},
     "output_type": "execute_result"
    }
   ],
   "source": [
    "data['Gearbox'].value_counts(dropna=False)"
   ]
  },
  {
   "cell_type": "markdown",
   "metadata": {},
   "source": [
    "Заполню пропуски значениями с механической коробкой"
   ]
  },
  {
   "cell_type": "code",
   "execution_count": 48,
   "metadata": {},
   "outputs": [],
   "source": [
    "data['Gearbox'].fillna('manual', inplace=True)"
   ]
  },
  {
   "cell_type": "code",
   "execution_count": 49,
   "metadata": {},
   "outputs": [
    {
     "data": {
      "text/plain": [
       "golf                  18910\n",
       "other                 17408\n",
       "3er                   14187\n",
       "NaN                    7373\n",
       "polo                   7269\n",
       "                      ...  \n",
       "kalina                    4\n",
       "rangerover                3\n",
       "samara                    3\n",
       "serie_3                   3\n",
       "range_rover_evoque        1\n",
       "Name: Model, Length: 250, dtype: int64"
      ]
     },
     "execution_count": 49,
     "metadata": {},
     "output_type": "execute_result"
    }
   ],
   "source": [
    "data['Model'].value_counts(dropna=False)"
   ]
  },
  {
   "cell_type": "markdown",
   "metadata": {},
   "source": [
    "С моделью не угадать, заполню значеним unknown."
   ]
  },
  {
   "cell_type": "code",
   "execution_count": 50,
   "metadata": {},
   "outputs": [],
   "source": [
    "data['Model'].fillna('unknown', inplace=True)"
   ]
  },
  {
   "cell_type": "code",
   "execution_count": 51,
   "metadata": {},
   "outputs": [
    {
     "data": {
      "text/plain": [
       "sedan          66516\n",
       "small          50610\n",
       "wagon          48013\n",
       "bus            22892\n",
       "convertible    16374\n",
       "coupe          12303\n",
       "NaN            12236\n",
       "suv             9626\n",
       "other           2041\n",
       "Name: VehicleType, dtype: int64"
      ]
     },
     "execution_count": 51,
     "metadata": {},
     "output_type": "execute_result"
    }
   ],
   "source": [
    "data['VehicleType'].value_counts(dropna=False)"
   ]
  },
  {
   "cell_type": "markdown",
   "metadata": {},
   "source": [
    "sedan, small, wagon - наиболее встречающиеся значения, заполнить пропуски каким-то из этих значений не очень корректно, так же заполню пропуски unknown"
   ]
  },
  {
   "cell_type": "code",
   "execution_count": 52,
   "metadata": {},
   "outputs": [],
   "source": [
    "data['VehicleType'].fillna('unknown', inplace=True)"
   ]
  },
  {
   "cell_type": "code",
   "execution_count": 53,
   "metadata": {},
   "outputs": [
    {
     "data": {
      "text/plain": [
       "Price               0\n",
       "VehicleType         0\n",
       "RegistrationYear    0\n",
       "Gearbox             0\n",
       "Power               0\n",
       "Model               0\n",
       "Kilometer           0\n",
       "FuelType            0\n",
       "Brand               0\n",
       "Repaired            0\n",
       "dtype: int64"
      ]
     },
     "execution_count": 53,
     "metadata": {},
     "output_type": "execute_result"
    }
   ],
   "source": [
    "data.isna().sum()"
   ]
  },
  {
   "cell_type": "markdown",
   "metadata": {},
   "source": [
    "Подготовка данных завершена, следующий этап- кодировка признаков\n"
   ]
  },
  {
   "cell_type": "markdown",
   "metadata": {},
   "source": [
    "## Обучение моделей"
   ]
  },
  {
   "cell_type": "markdown",
   "metadata": {},
   "source": [
    "Для обучения я буду использовать DummyRegressor, LinearRegressor, RandomForestRegressor, LightGBM, Catboost"
   ]
  },
  {
   "cell_type": "code",
   "execution_count": 54,
   "metadata": {},
   "outputs": [],
   "source": [
    "X = data.drop(['Price'], axis=1)\n",
    "y = data['Price']"
   ]
  },
  {
   "cell_type": "markdown",
   "metadata": {},
   "source": [
    "Так как по условию нужно 1 итоговую модель проверить на тестовой выборке разделим датасет на 3 части:"
   ]
  },
  {
   "cell_type": "code",
   "execution_count": 55,
   "metadata": {},
   "outputs": [],
   "source": [
    "x_train, x_valid, y_train, y_valid = train_test_split(X,y, test_size=0.20, random_state=STATE)\n",
    "x_train, x_test, y_train, y_test = train_test_split(x_train, y_train, test_size=0.20, random_state=STATE)"
   ]
  },
  {
   "cell_type": "code",
   "execution_count": 56,
   "metadata": {},
   "outputs": [
    {
     "name": "stdout",
     "output_type": "stream",
     "text": [
      "Количество тренировочных признаков: 153990, доля 0.64\n",
      "Количество тренировочных целей: 153990, доля 0.64\n",
      "Количество валидационных признаков: 48123, доля 0.20\n",
      "Количество валидационных целей: 48123, доля 0.20\n",
      "Количество тестовых признаков: 38498, доля 0.16\n",
      "Количество тестовых целей: 38498, доля 0.16\n"
     ]
    }
   ],
   "source": [
    "print(f'Количество тренировочных признаков: {x_train.shape[0]}, доля {x_train.shape[0]/X.shape[0]:.2f}')\n",
    "print(f'Количество тренировочных целей: {y_train.shape[0]}, доля {y_train.shape[0]/X.shape[0]:.2f}')\n",
    "print(f'Количество валидационных признаков: {x_valid.shape[0]}, доля {x_valid.shape[0]/X.shape[0]:.2f}')\n",
    "print(f'Количество валидационных целей: {y_valid.shape[0]}, доля {y_valid.shape[0]/X.shape[0]:.2f}')\n",
    "print(f'Количество тестовых признаков: {x_test.shape[0]}, доля {x_test.shape[0]/X.shape[0]:.2f}')\n",
    "print(f'Количество тестовых целей: {y_test.shape[0]}, доля {y_test.shape[0]/X.shape[0]:.2f}')\n"
   ]
  },
  {
   "cell_type": "markdown",
   "metadata": {},
   "source": [
    "Для начала определим Baseline с помощью Дамми"
   ]
  },
  {
   "cell_type": "code",
   "execution_count": 57,
   "metadata": {},
   "outputs": [],
   "source": [
    "dummy = DummyRegressor()"
   ]
  },
  {
   "cell_type": "code",
   "execution_count": 58,
   "metadata": {},
   "outputs": [
    {
     "name": "stdout",
     "output_type": "stream",
     "text": [
      "CPU times: user 831 µs, sys: 51 µs, total: 882 µs\n",
      "Wall time: 634 µs\n"
     ]
    },
    {
     "data": {
      "text/plain": [
       "DummyRegressor()"
      ]
     },
     "execution_count": 58,
     "metadata": {},
     "output_type": "execute_result"
    }
   ],
   "source": [
    "%time dummy.fit(x_train, y_train)"
   ]
  },
  {
   "cell_type": "code",
   "execution_count": 59,
   "metadata": {},
   "outputs": [
    {
     "name": "stdout",
     "output_type": "stream",
     "text": [
      "CPU times: user 578 µs, sys: 0 ns, total: 578 µs\n",
      "Wall time: 363 µs\n"
     ]
    }
   ],
   "source": [
    "%time dummy_predict = dummy.predict(x_valid)"
   ]
  },
  {
   "cell_type": "code",
   "execution_count": 60,
   "metadata": {},
   "outputs": [
    {
     "name": "stdout",
     "output_type": "stream",
     "text": [
      "Метрика RMSE на dummy-модели составила 4619 евро.\n"
     ]
    }
   ],
   "source": [
    "rmse_dummy = int(mean_squared_error(y_valid, dummy_predict, squared=False))\n",
    "print(f'Метрика RMSE на dummy-модели составила {rmse_dummy} евро.')"
   ]
  },
  {
   "cell_type": "markdown",
   "metadata": {},
   "source": [
    "Так как для проверки у нас будет еще несколько моделей буду добавлять результаты в итоговую табличку:"
   ]
  },
  {
   "cell_type": "code",
   "execution_count": 61,
   "metadata": {},
   "outputs": [
    {
     "data": {
      "text/html": [
       "<div>\n",
       "<style scoped>\n",
       "    .dataframe tbody tr th:only-of-type {\n",
       "        vertical-align: middle;\n",
       "    }\n",
       "\n",
       "    .dataframe tbody tr th {\n",
       "        vertical-align: top;\n",
       "    }\n",
       "\n",
       "    .dataframe thead th {\n",
       "        text-align: right;\n",
       "    }\n",
       "</style>\n",
       "<table border=\"1\" class=\"dataframe\">\n",
       "  <thead>\n",
       "    <tr style=\"text-align: right;\">\n",
       "      <th></th>\n",
       "      <th>DummyRegressor</th>\n",
       "    </tr>\n",
       "  </thead>\n",
       "  <tbody>\n",
       "    <tr>\n",
       "      <th>time_fit</th>\n",
       "      <td>524 µs</td>\n",
       "    </tr>\n",
       "    <tr>\n",
       "      <th>time_predict</th>\n",
       "      <td>794 µs</td>\n",
       "    </tr>\n",
       "    <tr>\n",
       "      <th>RMSE</th>\n",
       "      <td>4619</td>\n",
       "    </tr>\n",
       "  </tbody>\n",
       "</table>\n",
       "</div>"
      ],
      "text/plain": [
       "             DummyRegressor\n",
       "time_fit             524 µs\n",
       "time_predict         794 µs\n",
       "RMSE                   4619"
      ]
     },
     "execution_count": 61,
     "metadata": {},
     "output_type": "execute_result"
    }
   ],
   "source": [
    "results = pd.DataFrame({'DummyRegressor':['524 µs', '794 µs', '4619']}, index = [['time_fit', 'time_predict', 'RMSE']])\n",
    "results"
   ]
  },
  {
   "cell_type": "code",
   "execution_count": 62,
   "metadata": {},
   "outputs": [],
   "source": [
    "linear_transformer = make_column_transformer(\n",
    "    (OneHotEncoder(dtype='uint16', handle_unknown='ignore'), \n",
    "     make_column_selector(dtype_include='object')\n",
    "    ),\n",
    "    (StandardScaler(), \n",
    "     make_column_selector(dtype_include='int')\n",
    "    ),\n",
    "    remainder='passthrough'\n",
    ")"
   ]
  },
  {
   "cell_type": "code",
   "execution_count": 63,
   "metadata": {},
   "outputs": [],
   "source": [
    "linear_pipe = make_pipeline(linear_transformer, LinearRegression())"
   ]
  },
  {
   "cell_type": "code",
   "execution_count": 64,
   "metadata": {
    "scrolled": true
   },
   "outputs": [
    {
     "name": "stdout",
     "output_type": "stream",
     "text": [
      "CPU times: user 10.1 s, sys: 10.8 s, total: 20.9 s\n",
      "Wall time: 20.9 s\n"
     ]
    },
    {
     "data": {
      "text/plain": [
       "Pipeline(steps=[('columntransformer',\n",
       "                 ColumnTransformer(remainder='passthrough',\n",
       "                                   transformers=[('onehotencoder',\n",
       "                                                  OneHotEncoder(dtype='uint16',\n",
       "                                                                handle_unknown='ignore'),\n",
       "                                                  <sklearn.compose._column_transformer.make_column_selector object at 0x7ff7700a8d60>),\n",
       "                                                 ('standardscaler',\n",
       "                                                  StandardScaler(),\n",
       "                                                  <sklearn.compose._column_transformer.make_column_selector object at 0x7ff7700a8a30>)])),\n",
       "                ('linearregression', LinearRegression())])"
      ]
     },
     "execution_count": 64,
     "metadata": {},
     "output_type": "execute_result"
    }
   ],
   "source": [
    "%time linear_pipe.fit(x_train, y_train)"
   ]
  },
  {
   "cell_type": "code",
   "execution_count": 65,
   "metadata": {
    "scrolled": true
   },
   "outputs": [
    {
     "name": "stdout",
     "output_type": "stream",
     "text": [
      "CPU times: user 83.3 ms, sys: 9.38 ms, total: 92.6 ms\n",
      "Wall time: 214 ms\n"
     ]
    }
   ],
   "source": [
    "%time linear_predict = linear_pipe.predict(x_valid)"
   ]
  },
  {
   "cell_type": "code",
   "execution_count": 66,
   "metadata": {
    "scrolled": true
   },
   "outputs": [
    {
     "name": "stdout",
     "output_type": "stream",
     "text": [
      "Метрика RMSE на LinearRegression составила 2537 евро.\n"
     ]
    }
   ],
   "source": [
    "rmse_linear = int(mean_squared_error(y_valid, linear_predict, squared=False))\n",
    "print(f'Метрика RMSE на LinearRegression составила {rmse_linear} евро.')"
   ]
  },
  {
   "cell_type": "code",
   "execution_count": 67,
   "metadata": {},
   "outputs": [],
   "source": [
    "results['LinearRegression'] = ['16.9 s', '119 ms', '2537']"
   ]
  },
  {
   "cell_type": "code",
   "execution_count": 68,
   "metadata": {
    "scrolled": true
   },
   "outputs": [
    {
     "data": {
      "text/html": [
       "<div>\n",
       "<style scoped>\n",
       "    .dataframe tbody tr th:only-of-type {\n",
       "        vertical-align: middle;\n",
       "    }\n",
       "\n",
       "    .dataframe tbody tr th {\n",
       "        vertical-align: top;\n",
       "    }\n",
       "\n",
       "    .dataframe thead th {\n",
       "        text-align: right;\n",
       "    }\n",
       "</style>\n",
       "<table border=\"1\" class=\"dataframe\">\n",
       "  <thead>\n",
       "    <tr style=\"text-align: right;\">\n",
       "      <th></th>\n",
       "      <th>DummyRegressor</th>\n",
       "      <th>LinearRegression</th>\n",
       "    </tr>\n",
       "  </thead>\n",
       "  <tbody>\n",
       "    <tr>\n",
       "      <th>time_fit</th>\n",
       "      <td>524 µs</td>\n",
       "      <td>16.9 s</td>\n",
       "    </tr>\n",
       "    <tr>\n",
       "      <th>time_predict</th>\n",
       "      <td>794 µs</td>\n",
       "      <td>119 ms</td>\n",
       "    </tr>\n",
       "    <tr>\n",
       "      <th>RMSE</th>\n",
       "      <td>4619</td>\n",
       "      <td>2537</td>\n",
       "    </tr>\n",
       "  </tbody>\n",
       "</table>\n",
       "</div>"
      ],
      "text/plain": [
       "             DummyRegressor LinearRegression\n",
       "time_fit             524 µs           16.9 s\n",
       "time_predict         794 µs           119 ms\n",
       "RMSE                   4619             2537"
      ]
     },
     "execution_count": 68,
     "metadata": {},
     "output_type": "execute_result"
    }
   ],
   "source": [
    "results"
   ]
  },
  {
   "cell_type": "code",
   "execution_count": 69,
   "metadata": {},
   "outputs": [],
   "source": [
    "ensemble_transformer = make_column_transformer(\n",
    "    (OrdinalEncoder(dtype='uint16', handle_unknown='ignore'), \n",
    "     make_column_selector(dtype_include='object')\n",
    "    ),\n",
    "    (StandardScaler(), \n",
    "     make_column_selector(dtype_include='number')\n",
    "    ),\n",
    "        remainder='passthrough'\n",
    ")"
   ]
  },
  {
   "cell_type": "code",
   "execution_count": 70,
   "metadata": {},
   "outputs": [],
   "source": [
    "forest_pipe = make_pipeline(\n",
    "    ensemble_transformer,\n",
    "    RandomForestRegressor(random_state=STATE)\n",
    ")"
   ]
  },
  {
   "cell_type": "code",
   "execution_count": 71,
   "metadata": {},
   "outputs": [],
   "source": [
    "param_forest = {\n",
    "    'randomforestregressor__max_depth':np.arange(5, 16, 5)\n",
    "}\n",
    "\n",
    "grid_forest = GridSearchCV(\n",
    "    forest_pipe,\n",
    "    param_forest,\n",
    "    scoring='neg_root_mean_squared_error',\n",
    "    n_jobs=-1,\n",
    "    verbose=1\n",
    ")"
   ]
  },
  {
   "cell_type": "code",
   "execution_count": 72,
   "metadata": {},
   "outputs": [
    {
     "name": "stdout",
     "output_type": "stream",
     "text": [
      "Fitting 5 folds for each of 3 candidates, totalling 15 fits\n",
      "CPU times: user 3min 47s, sys: 852 ms, total: 3min 48s\n",
      "Wall time: 3min 48s\n"
     ]
    },
    {
     "data": {
      "text/plain": [
       "GridSearchCV(estimator=Pipeline(steps=[('columntransformer',\n",
       "                                        ColumnTransformer(remainder='passthrough',\n",
       "                                                          transformers=[('ordinalencoder',\n",
       "                                                                         OrdinalEncoder(dtype='uint16',\n",
       "                                                                                        handle_unknown='ignore'),\n",
       "                                                                         <sklearn.compose._column_transformer.make_column_selector object at 0x7ff770611790>),\n",
       "                                                                        ('standardscaler',\n",
       "                                                                         StandardScaler(),\n",
       "                                                                         <sklearn.compose._column_transformer.make_column_selector object at 0x7ff770611d60>)])),\n",
       "                                       ('randomforestregressor',\n",
       "                                        RandomForestRegressor(random_state=12345))]),\n",
       "             n_jobs=-1,\n",
       "             param_grid={'randomforestregressor__max_depth': array([ 5, 10, 15])},\n",
       "             scoring='neg_root_mean_squared_error', verbose=1)"
      ]
     },
     "execution_count": 72,
     "metadata": {},
     "output_type": "execute_result"
    }
   ],
   "source": [
    "%time grid_forest.fit(x_train, y_train)"
   ]
  },
  {
   "cell_type": "code",
   "execution_count": null,
   "metadata": {
    "scrolled": true
   },
   "outputs": [],
   "source": [
    "grid_forest.best_params_"
   ]
  },
  {
   "cell_type": "code",
   "execution_count": null,
   "metadata": {},
   "outputs": [],
   "source": [
    "forest_best_pipe = make_pipeline(\n",
    "    ensemble_transformer,\n",
    "    RandomForestRegressor(random_state=STATE, max_depth=15)\n",
    ")"
   ]
  },
  {
   "cell_type": "code",
   "execution_count": null,
   "metadata": {
    "scrolled": true
   },
   "outputs": [],
   "source": [
    "%time forest_best_pipe.fit(x_train,y_train)"
   ]
  },
  {
   "cell_type": "code",
   "execution_count": null,
   "metadata": {},
   "outputs": [],
   "source": [
    "%time forest_best_predict = forest_best_pipe.predict(x_valid)"
   ]
  },
  {
   "cell_type": "code",
   "execution_count": null,
   "metadata": {
    "scrolled": true
   },
   "outputs": [],
   "source": [
    "rmse_forest_best = int(mean_squared_error(y_valid, forest_best_predict, squared=False))\n",
    "print(f'Метрика RMSE на RandomForestRegressor составила {rmse_forest_best} евро.')"
   ]
  },
  {
   "cell_type": "code",
   "execution_count": null,
   "metadata": {},
   "outputs": [],
   "source": [
    "results['RandomForestRegressor'] = ['22.6 s', '774 ms', '1677']"
   ]
  },
  {
   "cell_type": "code",
   "execution_count": null,
   "metadata": {
    "scrolled": true
   },
   "outputs": [],
   "source": [
    "results"
   ]
  },
  {
   "cell_type": "code",
   "execution_count": null,
   "metadata": {},
   "outputs": [],
   "source": [
    "cat_columns = X.select_dtypes(include='object').columns.tolist()\n",
    "num_columns = X.select_dtypes(include='int').columns.tolist()"
   ]
  },
  {
   "cell_type": "markdown",
   "metadata": {},
   "source": [
    "Для LGBM не нужен скалер для числовых признаков, поэтому кодируем только категориальные"
   ]
  },
  {
   "cell_type": "code",
   "execution_count": null,
   "metadata": {},
   "outputs": [],
   "source": [
    "lgbm_transformer = make_column_transformer(\n",
    "    (\n",
    "        OrdinalEncoder(\n",
    "            dtype='int16',\n",
    "            handle_unknown='use_encoded_value',\n",
    "            unknown_value=-1\n",
    "        ), make_column_selector(dtype_include='object')\n",
    "    ),\n",
    "    remainder='passthrough'\n",
    ")\n",
    "\n"
   ]
  },
  {
   "cell_type": "code",
   "execution_count": null,
   "metadata": {},
   "outputs": [],
   "source": [
    "df_lgbm = pd.DataFrame(lgbm_transformer.fit_transform(data), \n",
    "                       columns=cat_columns+data.select_dtypes(include='int').columns.tolist())"
   ]
  },
  {
   "cell_type": "code",
   "execution_count": null,
   "metadata": {},
   "outputs": [],
   "source": [
    "X_lgbm = df_lgbm.drop(['Price'], axis=1)\n",
    "y_lgbm = df_lgbm['Price']\n",
    "\n",
    "X_lgbm, X_lgbm_valid, y_lgbm, y_lgbm_valid = train_test_split(X_lgbm, y_lgbm, test_size= 0.2, random_state=STATE)\n",
    "X_lgbm, x_lgbm_test, y_lgbm, y_lgbm_test = train_test_split(X_lgbm, y_lgbm, test_size=0.20, random_state=STATE)"
   ]
  },
  {
   "cell_type": "code",
   "execution_count": null,
   "metadata": {},
   "outputs": [],
   "source": [
    "LGBM = LGBMRegressor(\n",
    "    objective='regression',\n",
    "    metrics='rmse',\n",
    "    verbosity=-1,\n",
    "    random_state=STATE\n",
    ")"
   ]
  },
  {
   "cell_type": "code",
   "execution_count": null,
   "metadata": {},
   "outputs": [],
   "source": [
    "param_LGBM = {\n",
    "    'max_depth':[-1, 10, 20],\n",
    "    'learning_rate':[.1, .5]\n",
    "}\n",
    "              \n",
    "gs_lgbm = GridSearchCV(\n",
    "    LGBM,\n",
    "    param_LGBM,\n",
    "    scoring='neg_root_mean_squared_error',\n",
    "    n_jobs=-1,\n",
    "    verbose=1\n",
    ")"
   ]
  },
  {
   "cell_type": "code",
   "execution_count": null,
   "metadata": {
    "scrolled": true
   },
   "outputs": [],
   "source": [
    "%time gs_lgbm.fit(X_lgbm, y_lgbm)"
   ]
  },
  {
   "cell_type": "code",
   "execution_count": null,
   "metadata": {
    "scrolled": true
   },
   "outputs": [],
   "source": [
    "gs_lgbm.best_params_"
   ]
  },
  {
   "cell_type": "code",
   "execution_count": null,
   "metadata": {},
   "outputs": [],
   "source": [
    "LGBM_best = LGBMRegressor(\n",
    "    objective='regression',\n",
    "    metrics='rmse',\n",
    "    verbosity=-1,\n",
    "    random_state=STATE,\n",
    "    learning_rate=0.5, \n",
    "    max_depth=(-1)\n",
    ")"
   ]
  },
  {
   "cell_type": "code",
   "execution_count": null,
   "metadata": {},
   "outputs": [],
   "source": [
    "%time LGBM_best.fit(X_lgbm, y_lgbm)"
   ]
  },
  {
   "cell_type": "code",
   "execution_count": null,
   "metadata": {
    "scrolled": true
   },
   "outputs": [],
   "source": [
    "%time LGBM_predict_best = LGBM_best.predict(X_lgbm_valid)"
   ]
  },
  {
   "cell_type": "code",
   "execution_count": null,
   "metadata": {},
   "outputs": [],
   "source": [
    "rmse_lgbm_best = int(mean_squared_error(y_lgbm_valid, LGBM_predict_best, squared=False))\n",
    "print(f'Метрика RMSE на LightGBM составила {rmse_lgbm_best} евро.')"
   ]
  },
  {
   "cell_type": "code",
   "execution_count": null,
   "metadata": {},
   "outputs": [],
   "source": [
    "results['LightGBM'] = ['3.03 s', '261 ms', '1653']"
   ]
  },
  {
   "cell_type": "code",
   "execution_count": null,
   "metadata": {},
   "outputs": [],
   "source": [
    "CatBoost = CatBoostRegressor(\n",
    "    random_seed=STATE,\n",
    "    early_stopping_rounds=5,\n",
    "    cat_features=cat_columns,\n",
    "    logging_level='Silent'\n",
    ")"
   ]
  },
  {
   "cell_type": "code",
   "execution_count": null,
   "metadata": {},
   "outputs": [],
   "source": [
    "param_grid = {\n",
    "    'iterations':[200, 250, 300],\n",
    "    'learning_rate': [.2, .3],\n",
    "}\n",
    "              \n",
    "cat_grid = GridSearchCV(\n",
    "    CatBoost,\n",
    "    param_grid,\n",
    "    scoring='neg_root_mean_squared_error',\n",
    "    n_jobs=-1,\n",
    "    cv=3,\n",
    "    verbose=4\n",
    ")"
   ]
  },
  {
   "cell_type": "code",
   "execution_count": null,
   "metadata": {},
   "outputs": [],
   "source": [
    "%time cat_grid.fit(x_train, y_train)"
   ]
  },
  {
   "cell_type": "code",
   "execution_count": null,
   "metadata": {},
   "outputs": [],
   "source": [
    "CatBoost_best = CatBoostRegressor(\n",
    "    random_seed=STATE,\n",
    "    early_stopping_rounds=5,\n",
    "    cat_features=cat_columns,\n",
    "    logging_level='Silent',\n",
    "    iterations=300, \n",
    "    learning_rate=0.3\n",
    ")"
   ]
  },
  {
   "cell_type": "code",
   "execution_count": null,
   "metadata": {},
   "outputs": [],
   "source": [
    "%time CatBoost_best.fit(x_train, y_train)"
   ]
  },
  {
   "cell_type": "code",
   "execution_count": null,
   "metadata": {
    "scrolled": true
   },
   "outputs": [],
   "source": [
    "%time cat_predict_best = CatBoost_best.predict(x_valid)"
   ]
  },
  {
   "cell_type": "code",
   "execution_count": null,
   "metadata": {},
   "outputs": [],
   "source": [
    "rmse_cat_best = int(mean_squared_error(y_valid, cat_predict_best, squared=False))\n",
    "print(f'Метрика RMSE на CatBoost составила {rmse_cat_best} евро.')"
   ]
  },
  {
   "cell_type": "code",
   "execution_count": null,
   "metadata": {},
   "outputs": [],
   "source": [
    "results['CatBoost'] = ['30.4 s', '151 ms', '1631']"
   ]
  },
  {
   "cell_type": "code",
   "execution_count": null,
   "metadata": {
    "scrolled": true
   },
   "outputs": [],
   "source": [
    "results"
   ]
  },
  {
   "cell_type": "markdown",
   "metadata": {},
   "source": [
    "## Анализ моделей"
   ]
  },
  {
   "cell_type": "markdown",
   "metadata": {},
   "source": [
    "Итак, обучив 5 моделей получили результаты: \n",
    "\n",
    "При Baseline в 4619 и необходимом максимальном значении RMSE в 2500, 3 модели першли минимальный порог и перешли в финал: RandomForestRegressor, LightGBM, CatBoost. (LinearRegression чуть-чуть не дотянула до порога)\n",
    "\n",
    "RandomForest показал чуть лучшую скорость по сравнению с Catboost по времени обучения, но выдал большее значение ошибки. И дольше всех давал предсказания\n",
    "\n",
    "LGBM показал самый лучший результат по скорости обучения и по метрике и скорости предсказания- 2 место\n",
    "\n",
    "Catboost дольше всех обучался, но при этом выдал лучший показатель по метрике. По времени предсказаний- 1 место\n",
    "\n",
    "Технически все 3 модели прошли по условиям выбор наилучшей модели зависит от того, насколько больше важен параметр скорости обучения или качество предсказания\n",
    "\n",
    "Если делать выбор в пользу скорости - то однозначно LGBM\n",
    "\n",
    "Если все-таки важны доли процента в разнице метрики- то Catboost.\n",
    "\n",
    "Я остановлю свой выбор на LGBM, я считаю что разница в показателях метрики не так критичны, а скорость обучения выше на порядок.\n",
    "\n",
    "Финальным шагом проверим LGBM на тестовой выборке"
   ]
  },
  {
   "cell_type": "code",
   "execution_count": null,
   "metadata": {},
   "outputs": [],
   "source": [
    "LGBM_predict_test = gs_lgbm.predict(x_lgbm_test)"
   ]
  },
  {
   "cell_type": "code",
   "execution_count": null,
   "metadata": {},
   "outputs": [],
   "source": [
    "rmse_lgbm_test = int(mean_squared_error(y_lgbm_test, LGBM_predict_test, squared=False))\n",
    "print(f'Метрика RMSE на LightGBM на тестовой выборке составила {rmse_lgbm_test} евро.')"
   ]
  },
  {
   "cell_type": "markdown",
   "metadata": {},
   "source": [
    "Поставьте 'x' в выполненных пунктах. Далее нажмите Shift+Enter."
   ]
  },
  {
   "cell_type": "markdown",
   "metadata": {},
   "source": [
    "- [x]  Jupyter Notebook открыт\n",
    "- [x]  Весь код выполняется без ошибок\n",
    "- [x]  Ячейки с кодом расположены в порядке исполнения\n",
    "- [x]  Выполнена загрузка и подготовка данных\n",
    "- [x]  Выполнено обучение моделей\n",
    "- [x]  Есть анализ скорости работы и качества моделей"
   ]
  }
 ],
 "metadata": {
  "ExecuteTimeLog": [
   {
    "duration": 397,
    "start_time": "2024-02-11T15:19:18.042Z"
   },
   {
    "duration": 2923,
    "start_time": "2024-02-11T15:19:57.135Z"
   },
   {
    "duration": 162,
    "start_time": "2024-02-11T15:20:06.389Z"
   },
   {
    "duration": 65,
    "start_time": "2024-02-11T15:20:41.194Z"
   },
   {
    "duration": 4,
    "start_time": "2024-02-11T15:20:43.903Z"
   },
   {
    "duration": 157,
    "start_time": "2024-02-11T15:21:05.036Z"
   },
   {
    "duration": 169,
    "start_time": "2024-02-11T15:21:19.740Z"
   },
   {
    "duration": 164,
    "start_time": "2024-02-11T15:21:24.711Z"
   },
   {
    "duration": 557,
    "start_time": "2024-02-11T16:08:20.362Z"
   },
   {
    "duration": 468,
    "start_time": "2024-02-11T16:08:28.891Z"
   },
   {
    "duration": 31,
    "start_time": "2024-02-11T16:32:13.278Z"
   },
   {
    "duration": 19,
    "start_time": "2024-02-11T16:33:26.889Z"
   },
   {
    "duration": 100,
    "start_time": "2024-02-11T16:33:31.348Z"
   },
   {
    "duration": 472,
    "start_time": "2024-02-11T16:34:06.461Z"
   },
   {
    "duration": 1116,
    "start_time": "2024-02-11T16:34:06.935Z"
   },
   {
    "duration": 8,
    "start_time": "2024-02-11T16:34:08.056Z"
   },
   {
    "duration": 48,
    "start_time": "2024-02-11T16:34:08.066Z"
   },
   {
    "duration": 142,
    "start_time": "2024-02-11T16:34:08.116Z"
   },
   {
    "duration": 208,
    "start_time": "2024-02-11T16:34:08.259Z"
   },
   {
    "duration": 217,
    "start_time": "2024-02-11T16:34:08.469Z"
   },
   {
    "duration": 275,
    "start_time": "2024-02-11T16:34:08.687Z"
   },
   {
    "duration": 553,
    "start_time": "2024-02-11T16:34:08.965Z"
   },
   {
    "duration": 61,
    "start_time": "2024-02-11T16:34:21.513Z"
   },
   {
    "duration": 6,
    "start_time": "2024-02-11T16:34:27.146Z"
   },
   {
    "duration": 12,
    "start_time": "2024-02-11T16:34:35.183Z"
   },
   {
    "duration": 115,
    "start_time": "2024-02-11T16:36:03.252Z"
   },
   {
    "duration": 55,
    "start_time": "2024-02-11T16:36:13.657Z"
   },
   {
    "duration": 33,
    "start_time": "2024-02-11T16:36:31.173Z"
   },
   {
    "duration": 19,
    "start_time": "2024-02-11T16:37:06.497Z"
   },
   {
    "duration": 13,
    "start_time": "2024-02-11T16:37:08.956Z"
   },
   {
    "duration": 3,
    "start_time": "2024-02-11T16:41:49.548Z"
   },
   {
    "duration": 483,
    "start_time": "2024-02-11T16:42:03.663Z"
   },
   {
    "duration": 452,
    "start_time": "2024-02-11T17:35:22.420Z"
   },
   {
    "duration": 1095,
    "start_time": "2024-02-11T17:35:22.875Z"
   },
   {
    "duration": 20,
    "start_time": "2024-02-11T17:35:23.971Z"
   },
   {
    "duration": 23,
    "start_time": "2024-02-11T17:35:23.994Z"
   },
   {
    "duration": 129,
    "start_time": "2024-02-11T17:35:24.020Z"
   },
   {
    "duration": 194,
    "start_time": "2024-02-11T17:35:24.151Z"
   },
   {
    "duration": 198,
    "start_time": "2024-02-11T17:35:24.347Z"
   },
   {
    "duration": 10,
    "start_time": "2024-02-11T17:35:24.548Z"
   },
   {
    "duration": 71,
    "start_time": "2024-02-11T17:35:24.561Z"
   },
   {
    "duration": 20,
    "start_time": "2024-02-11T17:35:24.643Z"
   },
   {
    "duration": 685,
    "start_time": "2024-02-11T17:35:24.665Z"
   },
   {
    "duration": 54,
    "start_time": "2024-02-11T17:35:25.352Z"
   },
   {
    "duration": 6,
    "start_time": "2024-02-11T17:35:44.720Z"
   },
   {
    "duration": 40,
    "start_time": "2024-02-11T17:35:51.508Z"
   },
   {
    "duration": 28,
    "start_time": "2024-02-11T17:37:00.813Z"
   },
   {
    "duration": 73,
    "start_time": "2024-02-11T17:37:13.652Z"
   },
   {
    "duration": 66,
    "start_time": "2024-02-11T17:38:29.798Z"
   },
   {
    "duration": 25,
    "start_time": "2024-02-11T17:50:15.397Z"
   },
   {
    "duration": 6,
    "start_time": "2024-02-11T17:50:37.615Z"
   },
   {
    "duration": 10,
    "start_time": "2024-02-11T17:50:41.501Z"
   },
   {
    "duration": 32,
    "start_time": "2024-02-11T17:50:44.261Z"
   },
   {
    "duration": 50,
    "start_time": "2024-02-11T17:50:50.038Z"
   },
   {
    "duration": 56,
    "start_time": "2024-02-11T17:51:50.656Z"
   },
   {
    "duration": 102,
    "start_time": "2024-02-11T17:52:37.025Z"
   },
   {
    "duration": 51,
    "start_time": "2024-02-11T17:53:02.433Z"
   },
   {
    "duration": 77,
    "start_time": "2024-02-11T17:53:17.709Z"
   },
   {
    "duration": 42,
    "start_time": "2024-02-11T17:54:30.492Z"
   },
   {
    "duration": 226,
    "start_time": "2024-02-11T17:55:03.249Z"
   },
   {
    "duration": 88,
    "start_time": "2024-02-11T17:55:08.944Z"
   },
   {
    "duration": 117,
    "start_time": "2024-02-11T17:56:02.876Z"
   },
   {
    "duration": 87,
    "start_time": "2024-02-11T17:57:25.967Z"
   },
   {
    "duration": 70,
    "start_time": "2024-02-11T17:57:39.866Z"
   },
   {
    "duration": 12,
    "start_time": "2024-02-11T17:58:02.613Z"
   },
   {
    "duration": 19,
    "start_time": "2024-02-11T17:59:08.875Z"
   },
   {
    "duration": 38,
    "start_time": "2024-02-11T18:01:32.570Z"
   },
   {
    "duration": 29,
    "start_time": "2024-02-11T18:01:52.474Z"
   },
   {
    "duration": 1309,
    "start_time": "2024-02-11T18:03:25.841Z"
   },
   {
    "duration": 868,
    "start_time": "2024-02-11T18:04:28.452Z"
   },
   {
    "duration": 800,
    "start_time": "2024-02-11T18:04:31.346Z"
   },
   {
    "duration": 978,
    "start_time": "2024-02-11T18:06:17.992Z"
   },
   {
    "duration": 150,
    "start_time": "2024-02-11T18:06:58.914Z"
   },
   {
    "duration": 166,
    "start_time": "2024-02-11T18:08:11.607Z"
   },
   {
    "duration": 172,
    "start_time": "2024-02-11T18:08:17.565Z"
   },
   {
    "duration": 10,
    "start_time": "2024-02-11T18:08:34.901Z"
   },
   {
    "duration": 23,
    "start_time": "2024-02-11T18:08:40.910Z"
   },
   {
    "duration": 21,
    "start_time": "2024-02-11T18:09:39.155Z"
   },
   {
    "duration": 75,
    "start_time": "2024-02-11T18:10:05.564Z"
   },
   {
    "duration": 7,
    "start_time": "2024-02-11T18:10:19.812Z"
   },
   {
    "duration": 5,
    "start_time": "2024-02-11T18:10:27.574Z"
   },
   {
    "duration": 12,
    "start_time": "2024-02-11T18:10:38.649Z"
   },
   {
    "duration": 39,
    "start_time": "2024-02-11T18:11:58.898Z"
   },
   {
    "duration": 33,
    "start_time": "2024-02-11T18:12:35.807Z"
   },
   {
    "duration": 615,
    "start_time": "2024-02-11T18:12:54.730Z"
   },
   {
    "duration": 421,
    "start_time": "2024-02-11T18:13:21.924Z"
   },
   {
    "duration": 93,
    "start_time": "2024-02-11T18:13:37.877Z"
   },
   {
    "duration": 39,
    "start_time": "2024-02-11T18:13:40.999Z"
   },
   {
    "duration": 42,
    "start_time": "2024-02-11T18:13:52.291Z"
   },
   {
    "duration": 9,
    "start_time": "2024-02-11T18:14:54.451Z"
   },
   {
    "duration": 513,
    "start_time": "2024-02-11T18:15:04.064Z"
   },
   {
    "duration": 1262,
    "start_time": "2024-02-11T18:15:04.579Z"
   },
   {
    "duration": 10,
    "start_time": "2024-02-11T18:15:05.847Z"
   },
   {
    "duration": 17,
    "start_time": "2024-02-11T18:15:05.859Z"
   },
   {
    "duration": 183,
    "start_time": "2024-02-11T18:15:05.884Z"
   },
   {
    "duration": 238,
    "start_time": "2024-02-11T18:15:06.068Z"
   },
   {
    "duration": 1515,
    "start_time": "2024-02-11T18:15:06.311Z"
   },
   {
    "duration": 133,
    "start_time": "2024-02-11T18:15:07.831Z"
   },
   {
    "duration": 0,
    "start_time": "2024-02-11T18:15:07.966Z"
   },
   {
    "duration": 0,
    "start_time": "2024-02-11T18:15:08.041Z"
   },
   {
    "duration": 0,
    "start_time": "2024-02-11T18:15:08.043Z"
   },
   {
    "duration": 0,
    "start_time": "2024-02-11T18:15:08.045Z"
   },
   {
    "duration": 0,
    "start_time": "2024-02-11T18:15:08.046Z"
   },
   {
    "duration": 0,
    "start_time": "2024-02-11T18:15:08.047Z"
   },
   {
    "duration": 0,
    "start_time": "2024-02-11T18:15:08.049Z"
   },
   {
    "duration": 0,
    "start_time": "2024-02-11T18:15:08.051Z"
   },
   {
    "duration": 1,
    "start_time": "2024-02-11T18:15:08.052Z"
   },
   {
    "duration": 0,
    "start_time": "2024-02-11T18:15:08.054Z"
   },
   {
    "duration": 0,
    "start_time": "2024-02-11T18:15:08.056Z"
   },
   {
    "duration": 0,
    "start_time": "2024-02-11T18:15:08.089Z"
   },
   {
    "duration": 0,
    "start_time": "2024-02-11T18:15:08.090Z"
   },
   {
    "duration": 0,
    "start_time": "2024-02-11T18:15:08.091Z"
   },
   {
    "duration": 0,
    "start_time": "2024-02-11T18:15:08.092Z"
   },
   {
    "duration": 0,
    "start_time": "2024-02-11T18:15:08.093Z"
   },
   {
    "duration": 0,
    "start_time": "2024-02-11T18:15:08.094Z"
   },
   {
    "duration": 91,
    "start_time": "2024-02-11T18:15:45.580Z"
   },
   {
    "duration": 55,
    "start_time": "2024-02-11T18:15:59.290Z"
   },
   {
    "duration": 46,
    "start_time": "2024-02-11T18:16:04.661Z"
   },
   {
    "duration": 43,
    "start_time": "2024-02-11T18:16:18.618Z"
   },
   {
    "duration": 72,
    "start_time": "2024-02-11T18:16:26.877Z"
   },
   {
    "duration": 73,
    "start_time": "2024-02-11T18:16:58.698Z"
   },
   {
    "duration": 50,
    "start_time": "2024-02-11T18:17:07.901Z"
   },
   {
    "duration": 37,
    "start_time": "2024-02-11T18:17:18.440Z"
   },
   {
    "duration": 69,
    "start_time": "2024-02-11T18:17:24.179Z"
   },
   {
    "duration": 71,
    "start_time": "2024-02-11T18:17:30.472Z"
   },
   {
    "duration": 76,
    "start_time": "2024-02-11T18:17:41.778Z"
   },
   {
    "duration": 39,
    "start_time": "2024-02-11T18:18:03.589Z"
   },
   {
    "duration": 5,
    "start_time": "2024-02-11T18:18:16.666Z"
   },
   {
    "duration": 5,
    "start_time": "2024-02-11T18:18:26.852Z"
   },
   {
    "duration": 7,
    "start_time": "2024-02-11T18:18:36.031Z"
   },
   {
    "duration": 70,
    "start_time": "2024-02-11T18:19:59.293Z"
   },
   {
    "duration": 6,
    "start_time": "2024-02-11T18:19:59.967Z"
   },
   {
    "duration": 48,
    "start_time": "2024-02-11T18:20:01.587Z"
   },
   {
    "duration": 6,
    "start_time": "2024-02-11T18:20:13.350Z"
   },
   {
    "duration": 12,
    "start_time": "2024-02-11T18:20:19.824Z"
   },
   {
    "duration": 23,
    "start_time": "2024-02-11T18:20:36.237Z"
   },
   {
    "duration": 230,
    "start_time": "2024-02-11T18:20:52.533Z"
   },
   {
    "duration": 221,
    "start_time": "2024-02-11T18:21:13.220Z"
   },
   {
    "duration": 304,
    "start_time": "2024-02-11T18:21:17.917Z"
   },
   {
    "duration": 283,
    "start_time": "2024-02-11T18:21:33.976Z"
   },
   {
    "duration": 7,
    "start_time": "2024-02-11T18:22:17.271Z"
   },
   {
    "duration": 283,
    "start_time": "2024-02-11T18:22:17.730Z"
   },
   {
    "duration": 30,
    "start_time": "2024-02-11T18:22:34.240Z"
   },
   {
    "duration": 7,
    "start_time": "2024-02-11T18:22:48.655Z"
   },
   {
    "duration": 22,
    "start_time": "2024-02-11T18:22:50.248Z"
   },
   {
    "duration": 8,
    "start_time": "2024-02-11T18:24:00.312Z"
   },
   {
    "duration": 38,
    "start_time": "2024-02-11T18:24:05.688Z"
   },
   {
    "duration": 4,
    "start_time": "2024-02-11T18:27:03.612Z"
   },
   {
    "duration": 13,
    "start_time": "2024-02-11T18:27:08.211Z"
   },
   {
    "duration": 10,
    "start_time": "2024-02-11T18:27:18.737Z"
   },
   {
    "duration": 8,
    "start_time": "2024-02-11T18:27:23.741Z"
   },
   {
    "duration": 81,
    "start_time": "2024-02-11T18:27:47.340Z"
   },
   {
    "duration": 94,
    "start_time": "2024-02-11T18:28:01.234Z"
   },
   {
    "duration": 199,
    "start_time": "2024-02-11T18:28:05.157Z"
   },
   {
    "duration": 55,
    "start_time": "2024-02-11T18:28:32.155Z"
   },
   {
    "duration": 13,
    "start_time": "2024-02-11T18:29:50.342Z"
   },
   {
    "duration": 47,
    "start_time": "2024-02-11T18:29:53.593Z"
   },
   {
    "duration": 46,
    "start_time": "2024-02-11T18:29:59.873Z"
   },
   {
    "duration": 15,
    "start_time": "2024-02-11T18:30:21.228Z"
   },
   {
    "duration": 15,
    "start_time": "2024-02-11T18:30:29.957Z"
   },
   {
    "duration": 24,
    "start_time": "2024-02-11T18:30:47.542Z"
   },
   {
    "duration": 16,
    "start_time": "2024-02-11T18:35:19.390Z"
   },
   {
    "duration": 196,
    "start_time": "2024-02-11T18:36:15.474Z"
   },
   {
    "duration": 52,
    "start_time": "2024-02-11T18:40:56.026Z"
   },
   {
    "duration": 13,
    "start_time": "2024-02-11T18:41:54.454Z"
   },
   {
    "duration": 25,
    "start_time": "2024-02-11T18:42:07.641Z"
   },
   {
    "duration": 6,
    "start_time": "2024-02-11T18:42:20.528Z"
   },
   {
    "duration": 1139,
    "start_time": "2024-02-11T18:43:14.852Z"
   },
   {
    "duration": 17,
    "start_time": "2024-02-11T18:45:12.013Z"
   },
   {
    "duration": 11,
    "start_time": "2024-02-11T18:45:34.543Z"
   },
   {
    "duration": 10,
    "start_time": "2024-02-11T18:45:43.407Z"
   },
   {
    "duration": 43,
    "start_time": "2024-02-11T18:45:55.497Z"
   },
   {
    "duration": 28,
    "start_time": "2024-02-11T18:46:09.697Z"
   },
   {
    "duration": 28,
    "start_time": "2024-02-11T18:46:28.298Z"
   },
   {
    "duration": 37,
    "start_time": "2024-02-11T18:46:41.174Z"
   },
   {
    "duration": 34,
    "start_time": "2024-02-11T18:46:48.157Z"
   },
   {
    "duration": 466,
    "start_time": "2024-02-11T18:49:42.861Z"
   },
   {
    "duration": 1091,
    "start_time": "2024-02-11T18:49:43.329Z"
   },
   {
    "duration": 9,
    "start_time": "2024-02-11T18:49:44.422Z"
   },
   {
    "duration": 25,
    "start_time": "2024-02-11T18:49:44.432Z"
   },
   {
    "duration": 146,
    "start_time": "2024-02-11T18:49:44.459Z"
   },
   {
    "duration": 175,
    "start_time": "2024-02-11T18:49:44.606Z"
   },
   {
    "duration": 1252,
    "start_time": "2024-02-11T18:49:44.787Z"
   },
   {
    "duration": 14,
    "start_time": "2024-02-11T18:49:46.041Z"
   },
   {
    "duration": 484,
    "start_time": "2024-02-11T18:49:46.056Z"
   },
   {
    "duration": 0,
    "start_time": "2024-02-11T18:49:46.542Z"
   },
   {
    "duration": 0,
    "start_time": "2024-02-11T18:49:46.613Z"
   },
   {
    "duration": 0,
    "start_time": "2024-02-11T18:49:46.614Z"
   },
   {
    "duration": 0,
    "start_time": "2024-02-11T18:49:46.615Z"
   },
   {
    "duration": 0,
    "start_time": "2024-02-11T18:49:46.621Z"
   },
   {
    "duration": 0,
    "start_time": "2024-02-11T18:49:46.622Z"
   },
   {
    "duration": 1,
    "start_time": "2024-02-11T18:49:46.623Z"
   },
   {
    "duration": 0,
    "start_time": "2024-02-11T18:49:46.625Z"
   },
   {
    "duration": 0,
    "start_time": "2024-02-11T18:49:46.627Z"
   },
   {
    "duration": 0,
    "start_time": "2024-02-11T18:49:46.628Z"
   },
   {
    "duration": 0,
    "start_time": "2024-02-11T18:49:46.629Z"
   },
   {
    "duration": 0,
    "start_time": "2024-02-11T18:49:46.631Z"
   },
   {
    "duration": 0,
    "start_time": "2024-02-11T18:49:46.632Z"
   },
   {
    "duration": 0,
    "start_time": "2024-02-11T18:49:46.633Z"
   },
   {
    "duration": 0,
    "start_time": "2024-02-11T18:49:46.634Z"
   },
   {
    "duration": 0,
    "start_time": "2024-02-11T18:49:46.636Z"
   },
   {
    "duration": 0,
    "start_time": "2024-02-11T18:49:46.637Z"
   },
   {
    "duration": 0,
    "start_time": "2024-02-11T18:49:46.639Z"
   },
   {
    "duration": 0,
    "start_time": "2024-02-11T18:49:46.640Z"
   },
   {
    "duration": 12,
    "start_time": "2024-02-11T18:50:19.212Z"
   },
   {
    "duration": 11,
    "start_time": "2024-02-11T18:50:30.533Z"
   },
   {
    "duration": 6,
    "start_time": "2024-02-11T18:50:46.724Z"
   },
   {
    "duration": 16,
    "start_time": "2024-02-11T18:50:57.693Z"
   },
   {
    "duration": 10,
    "start_time": "2024-02-11T18:51:00.657Z"
   },
   {
    "duration": 448,
    "start_time": "2024-02-11T18:51:09.698Z"
   },
   {
    "duration": 1072,
    "start_time": "2024-02-11T18:51:10.148Z"
   },
   {
    "duration": 9,
    "start_time": "2024-02-11T18:51:11.221Z"
   },
   {
    "duration": 30,
    "start_time": "2024-02-11T18:51:11.232Z"
   },
   {
    "duration": 163,
    "start_time": "2024-02-11T18:51:11.265Z"
   },
   {
    "duration": 210,
    "start_time": "2024-02-11T18:51:11.430Z"
   },
   {
    "duration": 1282,
    "start_time": "2024-02-11T18:51:11.642Z"
   },
   {
    "duration": 13,
    "start_time": "2024-02-11T18:51:12.926Z"
   },
   {
    "duration": 7,
    "start_time": "2024-02-11T18:51:12.941Z"
   },
   {
    "duration": 81,
    "start_time": "2024-02-11T18:51:12.950Z"
   },
   {
    "duration": 6,
    "start_time": "2024-02-11T18:51:13.033Z"
   },
   {
    "duration": 44,
    "start_time": "2024-02-11T18:51:13.041Z"
   },
   {
    "duration": 7,
    "start_time": "2024-02-11T18:51:13.087Z"
   },
   {
    "duration": 75,
    "start_time": "2024-02-11T18:51:13.103Z"
   },
   {
    "duration": 13,
    "start_time": "2024-02-11T18:51:13.180Z"
   },
   {
    "duration": 194,
    "start_time": "2024-02-11T18:51:13.195Z"
   },
   {
    "duration": 6,
    "start_time": "2024-02-11T18:51:13.391Z"
   },
   {
    "duration": 58,
    "start_time": "2024-02-11T18:51:13.399Z"
   },
   {
    "duration": 78,
    "start_time": "2024-02-11T18:51:13.459Z"
   },
   {
    "duration": 605,
    "start_time": "2024-02-11T18:51:13.539Z"
   },
   {
    "duration": 43,
    "start_time": "2024-02-11T18:51:14.145Z"
   },
   {
    "duration": 31,
    "start_time": "2024-02-11T18:51:14.196Z"
   },
   {
    "duration": 38,
    "start_time": "2024-02-11T18:51:14.230Z"
   },
   {
    "duration": 76,
    "start_time": "2024-02-11T18:51:14.270Z"
   },
   {
    "duration": 92,
    "start_time": "2024-02-11T18:51:14.349Z"
   },
   {
    "duration": 10,
    "start_time": "2024-02-11T18:51:14.443Z"
   },
   {
    "duration": 58,
    "start_time": "2024-02-11T18:51:14.454Z"
   },
   {
    "duration": 15,
    "start_time": "2024-02-11T18:51:14.514Z"
   },
   {
    "duration": 100,
    "start_time": "2024-02-11T18:52:11.620Z"
   },
   {
    "duration": 454,
    "start_time": "2024-02-11T18:52:20.147Z"
   },
   {
    "duration": 1147,
    "start_time": "2024-02-11T18:52:20.603Z"
   },
   {
    "duration": 10,
    "start_time": "2024-02-11T18:52:21.751Z"
   },
   {
    "duration": 56,
    "start_time": "2024-02-11T18:52:21.762Z"
   },
   {
    "duration": 147,
    "start_time": "2024-02-11T18:52:21.821Z"
   },
   {
    "duration": 288,
    "start_time": "2024-02-11T18:52:21.971Z"
   },
   {
    "duration": 1281,
    "start_time": "2024-02-11T18:52:22.261Z"
   },
   {
    "duration": 7,
    "start_time": "2024-02-11T18:52:23.544Z"
   },
   {
    "duration": 104,
    "start_time": "2024-02-11T18:52:23.553Z"
   },
   {
    "duration": 0,
    "start_time": "2024-02-11T18:52:23.660Z"
   },
   {
    "duration": 0,
    "start_time": "2024-02-11T18:52:23.661Z"
   },
   {
    "duration": 0,
    "start_time": "2024-02-11T18:52:23.663Z"
   },
   {
    "duration": 0,
    "start_time": "2024-02-11T18:52:23.664Z"
   },
   {
    "duration": 0,
    "start_time": "2024-02-11T18:52:23.683Z"
   },
   {
    "duration": 0,
    "start_time": "2024-02-11T18:52:23.684Z"
   },
   {
    "duration": 0,
    "start_time": "2024-02-11T18:52:23.759Z"
   },
   {
    "duration": 0,
    "start_time": "2024-02-11T18:52:23.761Z"
   },
   {
    "duration": 0,
    "start_time": "2024-02-11T18:52:23.762Z"
   },
   {
    "duration": 0,
    "start_time": "2024-02-11T18:52:23.782Z"
   },
   {
    "duration": 0,
    "start_time": "2024-02-11T18:52:23.783Z"
   },
   {
    "duration": 0,
    "start_time": "2024-02-11T18:52:23.784Z"
   },
   {
    "duration": 0,
    "start_time": "2024-02-11T18:52:23.784Z"
   },
   {
    "duration": 0,
    "start_time": "2024-02-11T18:52:23.785Z"
   },
   {
    "duration": 0,
    "start_time": "2024-02-11T18:52:23.786Z"
   },
   {
    "duration": 0,
    "start_time": "2024-02-11T18:52:23.786Z"
   },
   {
    "duration": 0,
    "start_time": "2024-02-11T18:52:23.787Z"
   },
   {
    "duration": 0,
    "start_time": "2024-02-11T18:52:23.788Z"
   },
   {
    "duration": 0,
    "start_time": "2024-02-11T18:52:23.789Z"
   },
   {
    "duration": 0,
    "start_time": "2024-02-11T18:52:23.790Z"
   },
   {
    "duration": 0,
    "start_time": "2024-02-11T18:52:23.791Z"
   },
   {
    "duration": 9,
    "start_time": "2024-02-11T18:52:43.394Z"
   },
   {
    "duration": 12,
    "start_time": "2024-02-11T18:52:50.260Z"
   },
   {
    "duration": 17,
    "start_time": "2024-02-11T18:52:59.445Z"
   },
   {
    "duration": 34,
    "start_time": "2024-02-11T18:53:13.823Z"
   },
   {
    "duration": 7,
    "start_time": "2024-02-11T18:53:19.318Z"
   },
   {
    "duration": 16,
    "start_time": "2024-02-11T18:53:24.655Z"
   },
   {
    "duration": 50,
    "start_time": "2024-02-11T18:53:47.205Z"
   },
   {
    "duration": 5,
    "start_time": "2024-02-11T18:53:47.653Z"
   },
   {
    "duration": 76,
    "start_time": "2024-02-11T18:54:12.529Z"
   },
   {
    "duration": 9,
    "start_time": "2024-02-11T18:54:12.895Z"
   },
   {
    "duration": 23,
    "start_time": "2024-02-11T18:54:14.021Z"
   },
   {
    "duration": 13,
    "start_time": "2024-02-11T18:54:22.487Z"
   },
   {
    "duration": 59,
    "start_time": "2024-02-11T18:54:30.111Z"
   },
   {
    "duration": 83,
    "start_time": "2024-02-11T18:54:39.273Z"
   },
   {
    "duration": 8,
    "start_time": "2024-02-11T18:54:39.706Z"
   },
   {
    "duration": 206,
    "start_time": "2024-02-11T18:54:40.112Z"
   },
   {
    "duration": 5,
    "start_time": "2024-02-11T18:54:40.557Z"
   },
   {
    "duration": 40,
    "start_time": "2024-02-11T18:54:47.200Z"
   },
   {
    "duration": 836,
    "start_time": "2024-02-11T18:55:02.316Z"
   },
   {
    "duration": 417,
    "start_time": "2024-02-11T18:56:31.440Z"
   },
   {
    "duration": 1135,
    "start_time": "2024-02-11T18:56:31.859Z"
   },
   {
    "duration": 27,
    "start_time": "2024-02-11T18:56:33.006Z"
   },
   {
    "duration": 16,
    "start_time": "2024-02-11T18:56:33.037Z"
   },
   {
    "duration": 124,
    "start_time": "2024-02-11T18:56:33.055Z"
   },
   {
    "duration": 244,
    "start_time": "2024-02-11T18:56:33.181Z"
   },
   {
    "duration": 1324,
    "start_time": "2024-02-11T18:56:33.432Z"
   },
   {
    "duration": 32,
    "start_time": "2024-02-11T18:56:34.759Z"
   },
   {
    "duration": 24,
    "start_time": "2024-02-11T18:56:34.795Z"
   },
   {
    "duration": 56,
    "start_time": "2024-02-11T18:56:34.831Z"
   },
   {
    "duration": 9,
    "start_time": "2024-02-11T18:56:34.891Z"
   },
   {
    "duration": 39,
    "start_time": "2024-02-11T18:56:34.903Z"
   },
   {
    "duration": 5,
    "start_time": "2024-02-11T18:56:34.944Z"
   },
   {
    "duration": 85,
    "start_time": "2024-02-11T18:56:34.952Z"
   },
   {
    "duration": 5,
    "start_time": "2024-02-11T18:56:35.038Z"
   },
   {
    "duration": 214,
    "start_time": "2024-02-11T18:56:35.044Z"
   },
   {
    "duration": 5,
    "start_time": "2024-02-11T18:56:35.260Z"
   },
   {
    "duration": 152,
    "start_time": "2024-02-11T18:56:35.267Z"
   },
   {
    "duration": 864,
    "start_time": "2024-02-11T18:56:35.423Z"
   },
   {
    "duration": 40,
    "start_time": "2024-02-11T18:56:36.296Z"
   },
   {
    "duration": 599,
    "start_time": "2024-02-11T18:56:36.338Z"
   },
   {
    "duration": 25,
    "start_time": "2024-02-11T18:56:36.939Z"
   },
   {
    "duration": 60,
    "start_time": "2024-02-11T18:56:36.966Z"
   },
   {
    "duration": 41,
    "start_time": "2024-02-11T18:56:37.029Z"
   },
   {
    "duration": 60,
    "start_time": "2024-02-11T18:56:37.089Z"
   },
   {
    "duration": 80,
    "start_time": "2024-02-11T18:56:37.151Z"
   },
   {
    "duration": 11,
    "start_time": "2024-02-11T18:56:37.233Z"
   },
   {
    "duration": 54,
    "start_time": "2024-02-11T18:56:37.246Z"
   },
   {
    "duration": 30,
    "start_time": "2024-02-11T18:56:37.302Z"
   },
   {
    "duration": 82,
    "start_time": "2024-02-11T18:56:42.103Z"
   },
   {
    "duration": 13,
    "start_time": "2024-02-11T18:56:42.497Z"
   },
   {
    "duration": 9,
    "start_time": "2024-02-11T18:56:44.560Z"
   },
   {
    "duration": 7,
    "start_time": "2024-02-11T18:56:45.618Z"
   },
   {
    "duration": 504,
    "start_time": "2024-02-11T18:56:49.769Z"
   },
   {
    "duration": 1146,
    "start_time": "2024-02-11T18:56:50.276Z"
   },
   {
    "duration": 10,
    "start_time": "2024-02-11T18:56:51.427Z"
   },
   {
    "duration": 23,
    "start_time": "2024-02-11T18:56:51.439Z"
   },
   {
    "duration": 182,
    "start_time": "2024-02-11T18:56:51.464Z"
   },
   {
    "duration": 220,
    "start_time": "2024-02-11T18:56:51.647Z"
   },
   {
    "duration": 1340,
    "start_time": "2024-02-11T18:56:51.868Z"
   },
   {
    "duration": 26,
    "start_time": "2024-02-11T18:56:53.210Z"
   },
   {
    "duration": 6,
    "start_time": "2024-02-11T18:56:53.238Z"
   },
   {
    "duration": 63,
    "start_time": "2024-02-11T18:56:53.245Z"
   },
   {
    "duration": 9,
    "start_time": "2024-02-11T18:56:53.319Z"
   },
   {
    "duration": 26,
    "start_time": "2024-02-11T18:56:53.331Z"
   },
   {
    "duration": 5,
    "start_time": "2024-02-11T18:56:53.359Z"
   },
   {
    "duration": 79,
    "start_time": "2024-02-11T18:56:53.370Z"
   },
   {
    "duration": 6,
    "start_time": "2024-02-11T18:56:53.450Z"
   },
   {
    "duration": 218,
    "start_time": "2024-02-11T18:56:53.458Z"
   },
   {
    "duration": 14,
    "start_time": "2024-02-11T18:56:53.677Z"
   },
   {
    "duration": 144,
    "start_time": "2024-02-11T18:56:53.692Z"
   },
   {
    "duration": 937,
    "start_time": "2024-02-11T18:56:53.838Z"
   },
   {
    "duration": 25,
    "start_time": "2024-02-11T18:56:54.782Z"
   },
   {
    "duration": 551,
    "start_time": "2024-02-11T18:56:54.808Z"
   },
   {
    "duration": 52,
    "start_time": "2024-02-11T18:56:55.360Z"
   },
   {
    "duration": 28,
    "start_time": "2024-02-11T18:56:55.419Z"
   },
   {
    "duration": 54,
    "start_time": "2024-02-11T18:56:55.448Z"
   },
   {
    "duration": 52,
    "start_time": "2024-02-11T18:56:55.506Z"
   },
   {
    "duration": 82,
    "start_time": "2024-02-11T18:56:55.560Z"
   },
   {
    "duration": 9,
    "start_time": "2024-02-11T18:56:55.643Z"
   },
   {
    "duration": 52,
    "start_time": "2024-02-11T18:56:55.654Z"
   },
   {
    "duration": 16,
    "start_time": "2024-02-11T18:56:55.708Z"
   },
   {
    "duration": 452,
    "start_time": "2024-02-11T18:59:23.789Z"
   },
   {
    "duration": 1106,
    "start_time": "2024-02-11T18:59:24.243Z"
   },
   {
    "duration": 9,
    "start_time": "2024-02-11T18:59:25.350Z"
   },
   {
    "duration": 46,
    "start_time": "2024-02-11T18:59:25.360Z"
   },
   {
    "duration": 119,
    "start_time": "2024-02-11T18:59:25.409Z"
   },
   {
    "duration": 198,
    "start_time": "2024-02-11T18:59:25.530Z"
   },
   {
    "duration": 1304,
    "start_time": "2024-02-11T18:59:25.729Z"
   },
   {
    "duration": 19,
    "start_time": "2024-02-11T18:59:27.035Z"
   },
   {
    "duration": 6,
    "start_time": "2024-02-11T18:59:27.056Z"
   },
   {
    "duration": 56,
    "start_time": "2024-02-11T18:59:27.090Z"
   },
   {
    "duration": 5,
    "start_time": "2024-02-11T18:59:27.148Z"
   },
   {
    "duration": 50,
    "start_time": "2024-02-11T18:59:27.154Z"
   },
   {
    "duration": 15,
    "start_time": "2024-02-11T18:59:27.214Z"
   },
   {
    "duration": 72,
    "start_time": "2024-02-11T18:59:27.231Z"
   },
   {
    "duration": 24,
    "start_time": "2024-02-11T18:59:27.309Z"
   },
   {
    "duration": 204,
    "start_time": "2024-02-11T18:59:27.335Z"
   },
   {
    "duration": 4,
    "start_time": "2024-02-11T18:59:27.541Z"
   },
   {
    "duration": 135,
    "start_time": "2024-02-11T18:59:27.547Z"
   },
   {
    "duration": 872,
    "start_time": "2024-02-11T18:59:27.689Z"
   },
   {
    "duration": 34,
    "start_time": "2024-02-11T18:59:28.562Z"
   },
   {
    "duration": 577,
    "start_time": "2024-02-11T18:59:28.601Z"
   },
   {
    "duration": 42,
    "start_time": "2024-02-11T18:59:29.179Z"
   },
   {
    "duration": 33,
    "start_time": "2024-02-11T18:59:29.225Z"
   },
   {
    "duration": 81,
    "start_time": "2024-02-11T18:59:29.260Z"
   },
   {
    "duration": 48,
    "start_time": "2024-02-11T18:59:29.344Z"
   },
   {
    "duration": 78,
    "start_time": "2024-02-11T18:59:29.395Z"
   },
   {
    "duration": 43,
    "start_time": "2024-02-11T18:59:29.475Z"
   },
   {
    "duration": 45,
    "start_time": "2024-02-11T18:59:29.520Z"
   },
   {
    "duration": 13,
    "start_time": "2024-02-11T18:59:29.568Z"
   },
   {
    "duration": 51,
    "start_time": "2024-02-12T12:42:34.104Z"
   },
   {
    "duration": 1187,
    "start_time": "2024-02-12T12:42:38.771Z"
   },
   {
    "duration": 1245,
    "start_time": "2024-02-12T12:42:39.959Z"
   },
   {
    "duration": 11,
    "start_time": "2024-02-12T12:42:41.206Z"
   },
   {
    "duration": 17,
    "start_time": "2024-02-12T12:42:41.219Z"
   },
   {
    "duration": 135,
    "start_time": "2024-02-12T12:42:41.238Z"
   },
   {
    "duration": 172,
    "start_time": "2024-02-12T12:42:41.375Z"
   },
   {
    "duration": 1334,
    "start_time": "2024-02-12T12:42:41.549Z"
   },
   {
    "duration": 24,
    "start_time": "2024-02-12T12:42:42.885Z"
   },
   {
    "duration": 17,
    "start_time": "2024-02-12T12:42:42.910Z"
   },
   {
    "duration": 70,
    "start_time": "2024-02-12T12:42:42.930Z"
   },
   {
    "duration": 7,
    "start_time": "2024-02-12T12:42:43.002Z"
   },
   {
    "duration": 24,
    "start_time": "2024-02-12T12:42:43.024Z"
   },
   {
    "duration": 5,
    "start_time": "2024-02-12T12:42:43.049Z"
   },
   {
    "duration": 80,
    "start_time": "2024-02-12T12:42:43.056Z"
   },
   {
    "duration": 5,
    "start_time": "2024-02-12T12:42:43.137Z"
   },
   {
    "duration": 156,
    "start_time": "2024-02-12T12:42:43.144Z"
   },
   {
    "duration": 5,
    "start_time": "2024-02-12T12:42:43.302Z"
   },
   {
    "duration": 58,
    "start_time": "2024-02-12T12:42:43.308Z"
   },
   {
    "duration": 820,
    "start_time": "2024-02-12T12:42:43.368Z"
   },
   {
    "duration": 13,
    "start_time": "2024-02-12T12:42:44.190Z"
   },
   {
    "duration": 486,
    "start_time": "2024-02-12T12:42:44.204Z"
   },
   {
    "duration": 32,
    "start_time": "2024-02-12T12:42:44.692Z"
   },
   {
    "duration": 32,
    "start_time": "2024-02-12T12:42:44.725Z"
   },
   {
    "duration": 80,
    "start_time": "2024-02-12T12:42:44.759Z"
   },
   {
    "duration": 46,
    "start_time": "2024-02-12T12:42:44.841Z"
   },
   {
    "duration": 63,
    "start_time": "2024-02-12T12:42:44.889Z"
   },
   {
    "duration": 19,
    "start_time": "2024-02-12T12:42:44.954Z"
   },
   {
    "duration": 90,
    "start_time": "2024-02-12T12:42:44.976Z"
   },
   {
    "duration": 88,
    "start_time": "2024-02-12T12:42:45.067Z"
   },
   {
    "duration": 73,
    "start_time": "2024-02-12T12:42:45.157Z"
   },
   {
    "duration": 72,
    "start_time": "2024-02-12T12:44:18.802Z"
   },
   {
    "duration": 64,
    "start_time": "2024-02-12T12:44:49.079Z"
   },
   {
    "duration": 68,
    "start_time": "2024-02-12T12:45:05.010Z"
   },
   {
    "duration": 161,
    "start_time": "2024-02-12T12:48:32.267Z"
   },
   {
    "duration": 43,
    "start_time": "2024-02-12T12:48:50.229Z"
   },
   {
    "duration": 4,
    "start_time": "2024-02-12T12:48:59.470Z"
   },
   {
    "duration": 9,
    "start_time": "2024-02-12T12:49:10.309Z"
   },
   {
    "duration": 56,
    "start_time": "2024-02-12T12:49:20.743Z"
   },
   {
    "duration": 3,
    "start_time": "2024-02-12T12:49:21.130Z"
   },
   {
    "duration": 9,
    "start_time": "2024-02-12T12:49:21.519Z"
   },
   {
    "duration": 35,
    "start_time": "2024-02-12T12:49:26.117Z"
   },
   {
    "duration": 4,
    "start_time": "2024-02-12T12:49:26.341Z"
   },
   {
    "duration": 5,
    "start_time": "2024-02-12T12:49:26.865Z"
   },
   {
    "duration": 3,
    "start_time": "2024-02-12T12:50:50.598Z"
   },
   {
    "duration": 191,
    "start_time": "2024-02-12T12:50:57.447Z"
   },
   {
    "duration": 3,
    "start_time": "2024-02-12T12:51:11.119Z"
   },
   {
    "duration": 3,
    "start_time": "2024-02-12T12:51:19.280Z"
   },
   {
    "duration": 4,
    "start_time": "2024-02-12T12:51:25.168Z"
   },
   {
    "duration": 3,
    "start_time": "2024-02-12T12:51:33.194Z"
   },
   {
    "duration": 27,
    "start_time": "2024-02-12T12:55:43.168Z"
   },
   {
    "duration": 3,
    "start_time": "2024-02-12T13:02:17.355Z"
   },
   {
    "duration": 4,
    "start_time": "2024-02-12T13:02:32.384Z"
   },
   {
    "duration": 3,
    "start_time": "2024-02-12T13:02:54.991Z"
   },
   {
    "duration": 13,
    "start_time": "2024-02-12T13:09:02.519Z"
   },
   {
    "duration": 132,
    "start_time": "2024-02-12T13:10:31.062Z"
   },
   {
    "duration": 3,
    "start_time": "2024-02-12T14:30:44.207Z"
   },
   {
    "duration": 13,
    "start_time": "2024-02-12T14:30:47.134Z"
   },
   {
    "duration": 4,
    "start_time": "2024-02-12T14:30:52.604Z"
   },
   {
    "duration": 85,
    "start_time": "2024-02-12T14:31:04.681Z"
   },
   {
    "duration": 36,
    "start_time": "2024-02-12T14:31:58.474Z"
   },
   {
    "duration": 4,
    "start_time": "2024-02-12T14:32:58.060Z"
   },
   {
    "duration": 4,
    "start_time": "2024-02-12T14:33:05.060Z"
   },
   {
    "duration": 1105,
    "start_time": "2024-02-13T16:45:28.637Z"
   },
   {
    "duration": 1172,
    "start_time": "2024-02-13T16:45:34.674Z"
   },
   {
    "duration": 0,
    "start_time": "2024-02-13T16:45:35.848Z"
   },
   {
    "duration": 0,
    "start_time": "2024-02-13T16:45:35.849Z"
   },
   {
    "duration": 0,
    "start_time": "2024-02-13T16:45:35.851Z"
   },
   {
    "duration": 0,
    "start_time": "2024-02-13T16:45:35.852Z"
   },
   {
    "duration": 0,
    "start_time": "2024-02-13T16:45:35.853Z"
   },
   {
    "duration": 0,
    "start_time": "2024-02-13T16:45:35.854Z"
   },
   {
    "duration": 0,
    "start_time": "2024-02-13T16:45:35.855Z"
   },
   {
    "duration": 0,
    "start_time": "2024-02-13T16:45:35.855Z"
   },
   {
    "duration": 0,
    "start_time": "2024-02-13T16:45:35.856Z"
   },
   {
    "duration": 0,
    "start_time": "2024-02-13T16:45:35.857Z"
   },
   {
    "duration": 0,
    "start_time": "2024-02-13T16:45:35.858Z"
   },
   {
    "duration": 0,
    "start_time": "2024-02-13T16:45:35.859Z"
   },
   {
    "duration": 0,
    "start_time": "2024-02-13T16:45:35.860Z"
   },
   {
    "duration": 0,
    "start_time": "2024-02-13T16:45:35.861Z"
   },
   {
    "duration": 0,
    "start_time": "2024-02-13T16:45:35.862Z"
   },
   {
    "duration": 0,
    "start_time": "2024-02-13T16:45:35.886Z"
   },
   {
    "duration": 0,
    "start_time": "2024-02-13T16:45:35.888Z"
   },
   {
    "duration": 0,
    "start_time": "2024-02-13T16:45:35.889Z"
   },
   {
    "duration": 0,
    "start_time": "2024-02-13T16:45:35.889Z"
   },
   {
    "duration": 0,
    "start_time": "2024-02-13T16:45:35.890Z"
   },
   {
    "duration": 0,
    "start_time": "2024-02-13T16:45:35.891Z"
   },
   {
    "duration": 0,
    "start_time": "2024-02-13T16:45:35.892Z"
   },
   {
    "duration": 0,
    "start_time": "2024-02-13T16:45:35.893Z"
   },
   {
    "duration": 0,
    "start_time": "2024-02-13T16:45:35.894Z"
   },
   {
    "duration": 0,
    "start_time": "2024-02-13T16:45:35.895Z"
   },
   {
    "duration": 0,
    "start_time": "2024-02-13T16:45:35.896Z"
   },
   {
    "duration": 0,
    "start_time": "2024-02-13T16:45:35.897Z"
   },
   {
    "duration": 0,
    "start_time": "2024-02-13T16:45:35.898Z"
   },
   {
    "duration": 0,
    "start_time": "2024-02-13T16:45:35.899Z"
   },
   {
    "duration": 0,
    "start_time": "2024-02-13T16:45:35.900Z"
   },
   {
    "duration": 0,
    "start_time": "2024-02-13T16:45:35.901Z"
   },
   {
    "duration": 0,
    "start_time": "2024-02-13T16:45:35.902Z"
   },
   {
    "duration": 0,
    "start_time": "2024-02-13T16:45:35.903Z"
   },
   {
    "duration": 0,
    "start_time": "2024-02-13T16:45:35.904Z"
   },
   {
    "duration": 0,
    "start_time": "2024-02-13T16:45:35.905Z"
   },
   {
    "duration": 0,
    "start_time": "2024-02-13T16:45:35.906Z"
   },
   {
    "duration": 0,
    "start_time": "2024-02-13T16:45:35.907Z"
   },
   {
    "duration": 0,
    "start_time": "2024-02-13T16:45:35.907Z"
   },
   {
    "duration": 0,
    "start_time": "2024-02-13T16:45:35.908Z"
   },
   {
    "duration": 8,
    "start_time": "2024-02-13T16:46:18.313Z"
   },
   {
    "duration": 3419,
    "start_time": "2024-02-13T16:46:59.269Z"
   },
   {
    "duration": 467,
    "start_time": "2024-02-13T16:47:06.109Z"
   },
   {
    "duration": 1336,
    "start_time": "2024-02-13T16:47:14.129Z"
   },
   {
    "duration": 2813,
    "start_time": "2024-02-13T16:47:15.467Z"
   },
   {
    "duration": 6,
    "start_time": "2024-02-13T16:47:18.281Z"
   },
   {
    "duration": 29,
    "start_time": "2024-02-13T16:47:18.288Z"
   },
   {
    "duration": 130,
    "start_time": "2024-02-13T16:47:18.319Z"
   },
   {
    "duration": 149,
    "start_time": "2024-02-13T16:47:18.451Z"
   },
   {
    "duration": 757,
    "start_time": "2024-02-13T16:47:18.602Z"
   },
   {
    "duration": 17,
    "start_time": "2024-02-13T16:47:19.361Z"
   },
   {
    "duration": 10,
    "start_time": "2024-02-13T16:47:19.380Z"
   },
   {
    "duration": 53,
    "start_time": "2024-02-13T16:47:19.391Z"
   },
   {
    "duration": 4,
    "start_time": "2024-02-13T16:47:19.446Z"
   },
   {
    "duration": 20,
    "start_time": "2024-02-13T16:47:19.452Z"
   },
   {
    "duration": 5,
    "start_time": "2024-02-13T16:47:19.486Z"
   },
   {
    "duration": 84,
    "start_time": "2024-02-13T16:47:19.494Z"
   },
   {
    "duration": 4,
    "start_time": "2024-02-13T16:47:19.580Z"
   },
   {
    "duration": 146,
    "start_time": "2024-02-13T16:47:19.586Z"
   },
   {
    "duration": 4,
    "start_time": "2024-02-13T16:47:19.734Z"
   },
   {
    "duration": 56,
    "start_time": "2024-02-13T16:47:19.740Z"
   },
   {
    "duration": 727,
    "start_time": "2024-02-13T16:47:19.798Z"
   },
   {
    "duration": 11,
    "start_time": "2024-02-13T16:47:20.527Z"
   },
   {
    "duration": 392,
    "start_time": "2024-02-13T16:47:20.539Z"
   },
   {
    "duration": 23,
    "start_time": "2024-02-13T16:47:20.933Z"
   },
   {
    "duration": 44,
    "start_time": "2024-02-13T16:47:20.957Z"
   },
   {
    "duration": 48,
    "start_time": "2024-02-13T16:47:21.002Z"
   },
   {
    "duration": 34,
    "start_time": "2024-02-13T16:47:21.051Z"
   },
   {
    "duration": 49,
    "start_time": "2024-02-13T16:47:21.086Z"
   },
   {
    "duration": 8,
    "start_time": "2024-02-13T16:47:21.136Z"
   },
   {
    "duration": 32,
    "start_time": "2024-02-13T16:47:21.145Z"
   },
   {
    "duration": 57,
    "start_time": "2024-02-13T16:47:21.179Z"
   },
   {
    "duration": 82,
    "start_time": "2024-02-13T16:47:21.238Z"
   },
   {
    "duration": 7,
    "start_time": "2024-02-13T16:47:21.322Z"
   },
   {
    "duration": 4,
    "start_time": "2024-02-13T16:47:21.330Z"
   },
   {
    "duration": 0,
    "start_time": "2024-02-13T16:47:21.336Z"
   },
   {
    "duration": 0,
    "start_time": "2024-02-13T16:47:21.337Z"
   },
   {
    "duration": 0,
    "start_time": "2024-02-13T16:47:21.338Z"
   },
   {
    "duration": 0,
    "start_time": "2024-02-13T16:47:21.340Z"
   },
   {
    "duration": 0,
    "start_time": "2024-02-13T16:47:21.341Z"
   },
   {
    "duration": 0,
    "start_time": "2024-02-13T16:47:21.343Z"
   },
   {
    "duration": 0,
    "start_time": "2024-02-13T16:47:21.344Z"
   },
   {
    "duration": 0,
    "start_time": "2024-02-13T16:47:21.346Z"
   },
   {
    "duration": 1385,
    "start_time": "2024-02-13T16:51:41.805Z"
   },
   {
    "duration": 2820,
    "start_time": "2024-02-13T16:51:43.192Z"
   },
   {
    "duration": 4,
    "start_time": "2024-02-13T16:51:46.014Z"
   },
   {
    "duration": 27,
    "start_time": "2024-02-13T16:51:46.020Z"
   },
   {
    "duration": 144,
    "start_time": "2024-02-13T16:51:46.048Z"
   },
   {
    "duration": 160,
    "start_time": "2024-02-13T16:51:46.193Z"
   },
   {
    "duration": 763,
    "start_time": "2024-02-13T16:51:46.355Z"
   },
   {
    "duration": 19,
    "start_time": "2024-02-13T16:51:47.120Z"
   },
   {
    "duration": 7,
    "start_time": "2024-02-13T16:51:47.141Z"
   },
   {
    "duration": 64,
    "start_time": "2024-02-13T16:51:47.151Z"
   },
   {
    "duration": 5,
    "start_time": "2024-02-13T16:51:47.217Z"
   },
   {
    "duration": 61,
    "start_time": "2024-02-13T16:51:47.224Z"
   },
   {
    "duration": 5,
    "start_time": "2024-02-13T16:51:47.286Z"
   },
   {
    "duration": 59,
    "start_time": "2024-02-13T16:51:47.292Z"
   },
   {
    "duration": 4,
    "start_time": "2024-02-13T16:51:47.353Z"
   },
   {
    "duration": 143,
    "start_time": "2024-02-13T16:51:47.358Z"
   },
   {
    "duration": 4,
    "start_time": "2024-02-13T16:51:47.502Z"
   },
   {
    "duration": 46,
    "start_time": "2024-02-13T16:51:47.508Z"
   },
   {
    "duration": 755,
    "start_time": "2024-02-13T16:51:47.556Z"
   },
   {
    "duration": 13,
    "start_time": "2024-02-13T16:51:48.313Z"
   },
   {
    "duration": 395,
    "start_time": "2024-02-13T16:51:48.328Z"
   },
   {
    "duration": 23,
    "start_time": "2024-02-13T16:51:48.724Z"
   },
   {
    "duration": 21,
    "start_time": "2024-02-13T16:51:48.748Z"
   },
   {
    "duration": 49,
    "start_time": "2024-02-13T16:51:48.770Z"
   },
   {
    "duration": 34,
    "start_time": "2024-02-13T16:51:48.821Z"
   },
   {
    "duration": 65,
    "start_time": "2024-02-13T16:51:48.856Z"
   },
   {
    "duration": 8,
    "start_time": "2024-02-13T16:51:48.922Z"
   },
   {
    "duration": 47,
    "start_time": "2024-02-13T16:51:48.933Z"
   },
   {
    "duration": 61,
    "start_time": "2024-02-13T16:51:48.981Z"
   },
   {
    "duration": 75,
    "start_time": "2024-02-13T16:51:49.044Z"
   },
   {
    "duration": 9,
    "start_time": "2024-02-13T16:51:49.121Z"
   },
   {
    "duration": 79,
    "start_time": "2024-02-13T16:51:49.132Z"
   },
   {
    "duration": 30,
    "start_time": "2024-02-13T16:51:49.213Z"
   },
   {
    "duration": 4,
    "start_time": "2024-02-13T16:51:49.245Z"
   },
   {
    "duration": 5,
    "start_time": "2024-02-13T16:51:49.251Z"
   },
   {
    "duration": 160,
    "start_time": "2024-02-13T16:51:49.257Z"
   },
   {
    "duration": 3,
    "start_time": "2024-02-13T16:51:49.419Z"
   },
   {
    "duration": 6,
    "start_time": "2024-02-13T16:51:49.424Z"
   },
   {
    "duration": 5,
    "start_time": "2024-02-13T16:51:49.431Z"
   },
   {
    "duration": 11,
    "start_time": "2024-02-13T16:51:49.437Z"
   },
   {
    "duration": 168,
    "start_time": "2024-02-13T16:53:22.570Z"
   },
   {
    "duration": 54,
    "start_time": "2024-02-13T16:53:29.501Z"
   },
   {
    "duration": 476,
    "start_time": "2024-02-13T16:53:31.186Z"
   },
   {
    "duration": 476,
    "start_time": "2024-02-13T16:55:28.128Z"
   },
   {
    "duration": 468,
    "start_time": "2024-02-13T16:55:36.542Z"
   },
   {
    "duration": 11,
    "start_time": "2024-02-13T17:03:38.917Z"
   },
   {
    "duration": 457,
    "start_time": "2024-02-13T17:03:50.502Z"
   },
   {
    "duration": 475,
    "start_time": "2024-02-13T17:03:55.779Z"
   },
   {
    "duration": 18,
    "start_time": "2024-02-13T17:04:11.348Z"
   },
   {
    "duration": 84,
    "start_time": "2024-02-13T17:04:32.937Z"
   },
   {
    "duration": 34,
    "start_time": "2024-02-13T17:08:29.693Z"
   },
   {
    "duration": 41,
    "start_time": "2024-02-13T17:09:26.676Z"
   },
   {
    "duration": 39,
    "start_time": "2024-02-13T17:09:39.217Z"
   },
   {
    "duration": 30,
    "start_time": "2024-02-13T17:09:53.455Z"
   },
   {
    "duration": 3,
    "start_time": "2024-02-13T17:10:07.734Z"
   },
   {
    "duration": 10,
    "start_time": "2024-02-13T17:10:25.263Z"
   },
   {
    "duration": 20,
    "start_time": "2024-02-13T17:10:43.410Z"
   },
   {
    "duration": 32,
    "start_time": "2024-02-13T17:10:47.635Z"
   },
   {
    "duration": 59,
    "start_time": "2024-02-13T17:11:45.069Z"
   },
   {
    "duration": 36,
    "start_time": "2024-02-13T17:11:54.343Z"
   },
   {
    "duration": 33,
    "start_time": "2024-02-13T17:12:09.957Z"
   },
   {
    "duration": 123,
    "start_time": "2024-02-13T17:13:12.912Z"
   },
   {
    "duration": 44,
    "start_time": "2024-02-13T17:13:32.690Z"
   },
   {
    "duration": 38,
    "start_time": "2024-02-13T17:13:58.833Z"
   },
   {
    "duration": 31,
    "start_time": "2024-02-13T17:14:20.556Z"
   },
   {
    "duration": 26,
    "start_time": "2024-02-13T17:14:36.449Z"
   },
   {
    "duration": 8,
    "start_time": "2024-02-13T17:17:47.317Z"
   },
   {
    "duration": 58,
    "start_time": "2024-02-13T17:18:04.005Z"
   },
   {
    "duration": 12,
    "start_time": "2024-02-13T17:18:08.689Z"
   },
   {
    "duration": 14,
    "start_time": "2024-02-13T17:18:13.868Z"
   },
   {
    "duration": 1378,
    "start_time": "2024-02-13T17:18:19.439Z"
   },
   {
    "duration": 826,
    "start_time": "2024-02-13T17:18:20.820Z"
   },
   {
    "duration": 6,
    "start_time": "2024-02-13T17:18:21.648Z"
   },
   {
    "duration": 31,
    "start_time": "2024-02-13T17:18:21.656Z"
   },
   {
    "duration": 99,
    "start_time": "2024-02-13T17:18:21.690Z"
   },
   {
    "duration": 151,
    "start_time": "2024-02-13T17:18:21.790Z"
   },
   {
    "duration": 788,
    "start_time": "2024-02-13T17:18:21.943Z"
   },
   {
    "duration": 19,
    "start_time": "2024-02-13T17:18:22.733Z"
   },
   {
    "duration": 6,
    "start_time": "2024-02-13T17:18:22.754Z"
   },
   {
    "duration": 63,
    "start_time": "2024-02-13T17:18:22.761Z"
   },
   {
    "duration": 4,
    "start_time": "2024-02-13T17:18:22.826Z"
   },
   {
    "duration": 22,
    "start_time": "2024-02-13T17:18:22.832Z"
   },
   {
    "duration": 4,
    "start_time": "2024-02-13T17:18:22.856Z"
   },
   {
    "duration": 78,
    "start_time": "2024-02-13T17:18:22.862Z"
   },
   {
    "duration": 5,
    "start_time": "2024-02-13T17:18:22.941Z"
   },
   {
    "duration": 219,
    "start_time": "2024-02-13T17:18:22.947Z"
   },
   {
    "duration": 4,
    "start_time": "2024-02-13T17:18:23.168Z"
   },
   {
    "duration": 55,
    "start_time": "2024-02-13T17:18:23.173Z"
   },
   {
    "duration": 715,
    "start_time": "2024-02-13T17:18:23.230Z"
   },
   {
    "duration": 12,
    "start_time": "2024-02-13T17:18:23.947Z"
   },
   {
    "duration": 428,
    "start_time": "2024-02-13T17:18:23.960Z"
   },
   {
    "duration": 477,
    "start_time": "2024-02-13T17:18:24.389Z"
   },
   {
    "duration": 21,
    "start_time": "2024-02-13T17:18:24.868Z"
   },
   {
    "duration": 31,
    "start_time": "2024-02-13T17:18:24.891Z"
   },
   {
    "duration": 65,
    "start_time": "2024-02-13T17:18:24.923Z"
   },
   {
    "duration": 11,
    "start_time": "2024-02-13T17:18:24.989Z"
   },
   {
    "duration": 25,
    "start_time": "2024-02-13T17:18:25.002Z"
   },
   {
    "duration": 21,
    "start_time": "2024-02-13T17:18:25.029Z"
   },
   {
    "duration": 47,
    "start_time": "2024-02-13T17:18:25.052Z"
   },
   {
    "duration": 32,
    "start_time": "2024-02-13T17:18:25.101Z"
   },
   {
    "duration": 33,
    "start_time": "2024-02-13T17:18:25.135Z"
   },
   {
    "duration": 57,
    "start_time": "2024-02-13T17:18:25.169Z"
   },
   {
    "duration": 8,
    "start_time": "2024-02-13T17:18:25.228Z"
   },
   {
    "duration": 49,
    "start_time": "2024-02-13T17:18:25.238Z"
   },
   {
    "duration": 51,
    "start_time": "2024-02-13T17:18:25.289Z"
   },
   {
    "duration": 75,
    "start_time": "2024-02-13T17:18:25.342Z"
   },
   {
    "duration": 8,
    "start_time": "2024-02-13T17:18:25.419Z"
   },
   {
    "duration": 59,
    "start_time": "2024-02-13T17:18:25.428Z"
   },
   {
    "duration": 489,
    "start_time": "2024-02-13T17:18:25.489Z"
   },
   {
    "duration": 26,
    "start_time": "2024-02-13T17:18:25.980Z"
   },
   {
    "duration": 5,
    "start_time": "2024-02-13T17:18:26.010Z"
   },
   {
    "duration": 8,
    "start_time": "2024-02-13T17:18:26.017Z"
   },
   {
    "duration": 127,
    "start_time": "2024-02-13T17:18:26.026Z"
   },
   {
    "duration": 4,
    "start_time": "2024-02-13T17:18:26.155Z"
   },
   {
    "duration": 4,
    "start_time": "2024-02-13T17:18:26.160Z"
   },
   {
    "duration": 23,
    "start_time": "2024-02-13T17:18:26.166Z"
   },
   {
    "duration": 17,
    "start_time": "2024-02-13T17:18:26.190Z"
   },
   {
    "duration": 1369,
    "start_time": "2024-02-13T17:27:51.347Z"
   },
   {
    "duration": 850,
    "start_time": "2024-02-13T17:27:52.718Z"
   },
   {
    "duration": 7,
    "start_time": "2024-02-13T17:27:53.570Z"
   },
   {
    "duration": 16,
    "start_time": "2024-02-13T17:27:53.586Z"
   },
   {
    "duration": 103,
    "start_time": "2024-02-13T17:27:53.604Z"
   },
   {
    "duration": 156,
    "start_time": "2024-02-13T17:27:53.709Z"
   },
   {
    "duration": 816,
    "start_time": "2024-02-13T17:27:53.868Z"
   },
   {
    "duration": 7,
    "start_time": "2024-02-13T17:27:54.686Z"
   },
   {
    "duration": 36,
    "start_time": "2024-02-13T17:27:54.694Z"
   },
   {
    "duration": 30,
    "start_time": "2024-02-13T17:27:54.733Z"
   },
   {
    "duration": 5,
    "start_time": "2024-02-13T17:27:54.764Z"
   },
   {
    "duration": 64,
    "start_time": "2024-02-13T17:27:54.771Z"
   },
   {
    "duration": 4,
    "start_time": "2024-02-13T17:27:54.837Z"
   },
   {
    "duration": 99,
    "start_time": "2024-02-13T17:27:54.842Z"
   },
   {
    "duration": 4,
    "start_time": "2024-02-13T17:27:54.943Z"
   },
   {
    "duration": 61,
    "start_time": "2024-02-13T17:27:54.948Z"
   },
   {
    "duration": 5,
    "start_time": "2024-02-13T17:27:55.011Z"
   },
   {
    "duration": 149,
    "start_time": "2024-02-13T17:27:55.017Z"
   },
   {
    "duration": 654,
    "start_time": "2024-02-13T17:27:55.167Z"
   },
   {
    "duration": 12,
    "start_time": "2024-02-13T17:27:55.823Z"
   },
   {
    "duration": 424,
    "start_time": "2024-02-13T17:27:55.836Z"
   },
   {
    "duration": 434,
    "start_time": "2024-02-13T17:27:56.261Z"
   },
   {
    "duration": 15,
    "start_time": "2024-02-13T17:27:56.697Z"
   },
   {
    "duration": 28,
    "start_time": "2024-02-13T17:27:56.713Z"
   },
   {
    "duration": 66,
    "start_time": "2024-02-13T17:27:56.742Z"
   },
   {
    "duration": 10,
    "start_time": "2024-02-13T17:27:56.809Z"
   },
   {
    "duration": 23,
    "start_time": "2024-02-13T17:27:56.820Z"
   },
   {
    "duration": 41,
    "start_time": "2024-02-13T17:27:56.846Z"
   },
   {
    "duration": 18,
    "start_time": "2024-02-13T17:27:56.889Z"
   },
   {
    "duration": 31,
    "start_time": "2024-02-13T17:27:56.909Z"
   },
   {
    "duration": 47,
    "start_time": "2024-02-13T17:27:56.942Z"
   },
   {
    "duration": 42,
    "start_time": "2024-02-13T17:27:56.990Z"
   },
   {
    "duration": 8,
    "start_time": "2024-02-13T17:27:57.033Z"
   },
   {
    "duration": 22,
    "start_time": "2024-02-13T17:27:57.042Z"
   },
   {
    "duration": 64,
    "start_time": "2024-02-13T17:27:57.066Z"
   },
   {
    "duration": 65,
    "start_time": "2024-02-13T17:27:57.131Z"
   },
   {
    "duration": 7,
    "start_time": "2024-02-13T17:27:57.198Z"
   },
   {
    "duration": 45,
    "start_time": "2024-02-13T17:27:57.206Z"
   },
   {
    "duration": 492,
    "start_time": "2024-02-13T17:27:57.253Z"
   },
   {
    "duration": 23,
    "start_time": "2024-02-13T17:27:57.747Z"
   },
   {
    "duration": 3,
    "start_time": "2024-02-13T17:27:57.772Z"
   },
   {
    "duration": 13,
    "start_time": "2024-02-13T17:27:57.776Z"
   },
   {
    "duration": 123,
    "start_time": "2024-02-13T17:27:57.790Z"
   },
   {
    "duration": 4,
    "start_time": "2024-02-13T17:27:57.914Z"
   },
   {
    "duration": 5,
    "start_time": "2024-02-13T17:27:57.919Z"
   },
   {
    "duration": 4,
    "start_time": "2024-02-13T17:27:57.925Z"
   },
   {
    "duration": 6,
    "start_time": "2024-02-13T17:27:57.930Z"
   },
   {
    "duration": 13,
    "start_time": "2024-02-13T17:34:24.761Z"
   },
   {
    "duration": 25,
    "start_time": "2024-02-13T17:52:15.912Z"
   },
   {
    "duration": 88,
    "start_time": "2024-02-13T17:52:19.589Z"
   },
   {
    "duration": 1390,
    "start_time": "2024-02-13T17:52:39.333Z"
   },
   {
    "duration": 858,
    "start_time": "2024-02-13T17:52:40.725Z"
   },
   {
    "duration": 7,
    "start_time": "2024-02-13T17:52:41.584Z"
   },
   {
    "duration": 14,
    "start_time": "2024-02-13T17:52:41.593Z"
   },
   {
    "duration": 99,
    "start_time": "2024-02-13T17:52:41.609Z"
   },
   {
    "duration": 144,
    "start_time": "2024-02-13T17:52:41.709Z"
   },
   {
    "duration": 776,
    "start_time": "2024-02-13T17:52:41.855Z"
   },
   {
    "duration": 7,
    "start_time": "2024-02-13T17:52:42.633Z"
   },
   {
    "duration": 79,
    "start_time": "2024-02-13T17:52:42.641Z"
   },
   {
    "duration": 566,
    "start_time": "2024-02-13T17:52:42.723Z"
   },
   {
    "duration": 13,
    "start_time": "2024-02-13T17:52:43.290Z"
   },
   {
    "duration": 23,
    "start_time": "2024-02-13T17:52:43.304Z"
   },
   {
    "duration": 101,
    "start_time": "2024-02-13T17:52:43.329Z"
   },
   {
    "duration": 14,
    "start_time": "2024-02-13T17:52:43.431Z"
   },
   {
    "duration": 5,
    "start_time": "2024-02-13T17:52:43.446Z"
   },
   {
    "duration": 52,
    "start_time": "2024-02-13T17:52:43.452Z"
   },
   {
    "duration": 5,
    "start_time": "2024-02-13T17:52:43.505Z"
   },
   {
    "duration": 17,
    "start_time": "2024-02-13T17:52:43.511Z"
   },
   {
    "duration": 5,
    "start_time": "2024-02-13T17:52:43.529Z"
   },
   {
    "duration": 22,
    "start_time": "2024-02-13T17:52:43.535Z"
   },
   {
    "duration": 32,
    "start_time": "2024-02-13T17:52:43.558Z"
   },
   {
    "duration": 493,
    "start_time": "2024-02-13T17:52:43.592Z"
   },
   {
    "duration": 11,
    "start_time": "2024-02-13T17:52:44.087Z"
   },
   {
    "duration": 195,
    "start_time": "2024-02-13T17:52:44.100Z"
   },
   {
    "duration": 215,
    "start_time": "2024-02-13T17:52:44.297Z"
   },
   {
    "duration": 16,
    "start_time": "2024-02-13T17:52:44.515Z"
   },
   {
    "duration": 24,
    "start_time": "2024-02-13T17:52:44.533Z"
   },
   {
    "duration": 44,
    "start_time": "2024-02-13T17:52:44.560Z"
   },
   {
    "duration": 11,
    "start_time": "2024-02-13T17:52:44.606Z"
   },
   {
    "duration": 19,
    "start_time": "2024-02-13T17:52:44.618Z"
   },
   {
    "duration": 19,
    "start_time": "2024-02-13T17:52:44.639Z"
   },
   {
    "duration": 17,
    "start_time": "2024-02-13T17:52:44.687Z"
   },
   {
    "duration": 26,
    "start_time": "2024-02-13T17:52:44.706Z"
   },
   {
    "duration": 24,
    "start_time": "2024-02-13T17:52:44.734Z"
   },
   {
    "duration": 53,
    "start_time": "2024-02-13T17:52:44.760Z"
   },
   {
    "duration": 14,
    "start_time": "2024-02-13T17:52:44.814Z"
   },
   {
    "duration": 19,
    "start_time": "2024-02-13T17:52:44.829Z"
   },
   {
    "duration": 54,
    "start_time": "2024-02-13T17:52:44.849Z"
   },
   {
    "duration": 54,
    "start_time": "2024-02-13T17:52:44.905Z"
   },
   {
    "duration": 7,
    "start_time": "2024-02-13T17:52:44.960Z"
   },
   {
    "duration": 25,
    "start_time": "2024-02-13T17:52:44.968Z"
   },
   {
    "duration": 4,
    "start_time": "2024-02-13T17:52:44.994Z"
   },
   {
    "duration": 49,
    "start_time": "2024-02-13T17:52:44.999Z"
   },
   {
    "duration": 80,
    "start_time": "2024-02-13T17:52:45.050Z"
   },
   {
    "duration": 4,
    "start_time": "2024-02-13T17:52:45.132Z"
   },
   {
    "duration": 12,
    "start_time": "2024-02-13T17:52:45.137Z"
   },
   {
    "duration": 30,
    "start_time": "2024-02-13T17:52:45.150Z"
   },
   {
    "duration": 26,
    "start_time": "2024-02-13T17:52:45.182Z"
   },
   {
    "duration": 159,
    "start_time": "2024-02-13T17:55:25.628Z"
   },
   {
    "duration": 1454,
    "start_time": "2024-02-13T17:55:31.058Z"
   },
   {
    "duration": 824,
    "start_time": "2024-02-13T17:55:32.513Z"
   },
   {
    "duration": 6,
    "start_time": "2024-02-13T17:55:33.339Z"
   },
   {
    "duration": 18,
    "start_time": "2024-02-13T17:55:33.346Z"
   },
   {
    "duration": 90,
    "start_time": "2024-02-13T17:55:33.366Z"
   },
   {
    "duration": 149,
    "start_time": "2024-02-13T17:55:33.457Z"
   },
   {
    "duration": 776,
    "start_time": "2024-02-13T17:55:33.607Z"
   },
   {
    "duration": 7,
    "start_time": "2024-02-13T17:55:34.384Z"
   },
   {
    "duration": 95,
    "start_time": "2024-02-13T17:55:34.392Z"
   },
   {
    "duration": 586,
    "start_time": "2024-02-13T17:55:34.489Z"
   },
   {
    "duration": 21,
    "start_time": "2024-02-13T17:55:35.077Z"
   },
   {
    "duration": 57,
    "start_time": "2024-02-13T17:55:35.100Z"
   },
   {
    "duration": 107,
    "start_time": "2024-02-13T17:55:35.158Z"
   },
   {
    "duration": 26,
    "start_time": "2024-02-13T17:55:35.268Z"
   },
   {
    "duration": 6,
    "start_time": "2024-02-13T17:55:35.296Z"
   },
   {
    "duration": 38,
    "start_time": "2024-02-13T17:55:35.303Z"
   },
   {
    "duration": 5,
    "start_time": "2024-02-13T17:55:35.343Z"
   },
   {
    "duration": 54,
    "start_time": "2024-02-13T17:55:35.350Z"
   },
   {
    "duration": 7,
    "start_time": "2024-02-13T17:55:35.406Z"
   },
   {
    "duration": 39,
    "start_time": "2024-02-13T17:55:35.414Z"
   },
   {
    "duration": 5,
    "start_time": "2024-02-13T17:55:35.455Z"
   },
   {
    "duration": 536,
    "start_time": "2024-02-13T17:55:35.462Z"
   },
   {
    "duration": 10,
    "start_time": "2024-02-13T17:55:35.999Z"
   },
   {
    "duration": 233,
    "start_time": "2024-02-13T17:55:36.011Z"
   },
   {
    "duration": 215,
    "start_time": "2024-02-13T17:55:36.245Z"
   },
   {
    "duration": 226,
    "start_time": "2024-02-13T17:55:36.461Z"
   },
   {
    "duration": 16,
    "start_time": "2024-02-13T17:55:36.689Z"
   },
   {
    "duration": 23,
    "start_time": "2024-02-13T17:55:36.706Z"
   },
   {
    "duration": 26,
    "start_time": "2024-02-13T17:55:36.730Z"
   },
   {
    "duration": 34,
    "start_time": "2024-02-13T17:55:36.758Z"
   },
   {
    "duration": 17,
    "start_time": "2024-02-13T17:55:36.793Z"
   },
   {
    "duration": 19,
    "start_time": "2024-02-13T17:55:36.812Z"
   },
   {
    "duration": 30,
    "start_time": "2024-02-13T17:55:36.833Z"
   },
   {
    "duration": 41,
    "start_time": "2024-02-13T17:55:36.865Z"
   },
   {
    "duration": 38,
    "start_time": "2024-02-13T17:55:36.908Z"
   },
   {
    "duration": 41,
    "start_time": "2024-02-13T17:55:36.947Z"
   },
   {
    "duration": 9,
    "start_time": "2024-02-13T17:55:36.990Z"
   },
   {
    "duration": 32,
    "start_time": "2024-02-13T17:55:37.000Z"
   },
   {
    "duration": 44,
    "start_time": "2024-02-13T17:55:37.034Z"
   },
   {
    "duration": 73,
    "start_time": "2024-02-13T17:55:37.080Z"
   },
   {
    "duration": 10,
    "start_time": "2024-02-13T17:55:37.157Z"
   },
   {
    "duration": 38,
    "start_time": "2024-02-13T17:55:37.168Z"
   },
   {
    "duration": 4,
    "start_time": "2024-02-13T17:55:37.208Z"
   },
   {
    "duration": 24,
    "start_time": "2024-02-13T17:55:37.213Z"
   },
   {
    "duration": 71,
    "start_time": "2024-02-13T17:55:37.238Z"
   },
   {
    "duration": 4,
    "start_time": "2024-02-13T17:55:37.310Z"
   },
   {
    "duration": 14,
    "start_time": "2024-02-13T17:55:37.316Z"
   },
   {
    "duration": 21,
    "start_time": "2024-02-13T17:55:37.331Z"
   },
   {
    "duration": 10,
    "start_time": "2024-02-13T17:55:37.353Z"
   },
   {
    "duration": 152,
    "start_time": "2024-02-13T17:56:58.485Z"
   },
   {
    "duration": 1423,
    "start_time": "2024-02-13T17:57:02.714Z"
   },
   {
    "duration": 930,
    "start_time": "2024-02-13T17:57:04.139Z"
   },
   {
    "duration": 7,
    "start_time": "2024-02-13T17:57:05.070Z"
   },
   {
    "duration": 25,
    "start_time": "2024-02-13T17:57:05.079Z"
   },
   {
    "duration": 98,
    "start_time": "2024-02-13T17:57:05.106Z"
   },
   {
    "duration": 162,
    "start_time": "2024-02-13T17:57:05.206Z"
   },
   {
    "duration": 833,
    "start_time": "2024-02-13T17:57:05.369Z"
   },
   {
    "duration": 7,
    "start_time": "2024-02-13T17:57:06.205Z"
   },
   {
    "duration": 81,
    "start_time": "2024-02-13T17:57:06.214Z"
   },
   {
    "duration": 618,
    "start_time": "2024-02-13T17:57:06.297Z"
   },
   {
    "duration": 14,
    "start_time": "2024-02-13T17:57:06.916Z"
   },
   {
    "duration": 24,
    "start_time": "2024-02-13T17:57:06.931Z"
   },
   {
    "duration": 215,
    "start_time": "2024-02-13T17:57:06.957Z"
   },
   {
    "duration": 233,
    "start_time": "2024-02-13T17:57:07.175Z"
   },
   {
    "duration": 245,
    "start_time": "2024-02-13T17:57:07.410Z"
   },
   {
    "duration": 83,
    "start_time": "2024-02-13T17:57:07.656Z"
   },
   {
    "duration": 23,
    "start_time": "2024-02-13T17:57:07.741Z"
   },
   {
    "duration": 6,
    "start_time": "2024-02-13T17:57:07.765Z"
   },
   {
    "duration": 30,
    "start_time": "2024-02-13T17:57:07.772Z"
   },
   {
    "duration": 5,
    "start_time": "2024-02-13T17:57:07.803Z"
   },
   {
    "duration": 18,
    "start_time": "2024-02-13T17:57:07.810Z"
   },
   {
    "duration": 5,
    "start_time": "2024-02-13T17:57:07.829Z"
   },
   {
    "duration": 53,
    "start_time": "2024-02-13T17:57:07.836Z"
   },
   {
    "duration": 5,
    "start_time": "2024-02-13T17:57:07.891Z"
   },
   {
    "duration": 529,
    "start_time": "2024-02-13T17:57:07.897Z"
   },
   {
    "duration": 11,
    "start_time": "2024-02-13T17:57:08.428Z"
   },
   {
    "duration": 20,
    "start_time": "2024-02-13T17:57:08.441Z"
   },
   {
    "duration": 41,
    "start_time": "2024-02-13T17:57:08.463Z"
   },
   {
    "duration": 23,
    "start_time": "2024-02-13T17:57:08.505Z"
   },
   {
    "duration": 10,
    "start_time": "2024-02-13T17:57:08.529Z"
   },
   {
    "duration": 19,
    "start_time": "2024-02-13T17:57:08.541Z"
   },
   {
    "duration": 40,
    "start_time": "2024-02-13T17:57:08.562Z"
   },
   {
    "duration": 21,
    "start_time": "2024-02-13T17:57:08.603Z"
   },
   {
    "duration": 43,
    "start_time": "2024-02-13T17:57:08.625Z"
   },
   {
    "duration": 27,
    "start_time": "2024-02-13T17:57:08.670Z"
   },
   {
    "duration": 38,
    "start_time": "2024-02-13T17:57:08.698Z"
   },
   {
    "duration": 60,
    "start_time": "2024-02-13T17:57:08.738Z"
   },
   {
    "duration": 29,
    "start_time": "2024-02-13T17:57:08.799Z"
   },
   {
    "duration": 49,
    "start_time": "2024-02-13T17:57:08.830Z"
   },
   {
    "duration": 51,
    "start_time": "2024-02-13T17:57:08.881Z"
   },
   {
    "duration": 7,
    "start_time": "2024-02-13T17:57:08.936Z"
   },
   {
    "duration": 17,
    "start_time": "2024-02-13T17:57:08.945Z"
   },
   {
    "duration": 24,
    "start_time": "2024-02-13T17:57:08.964Z"
   },
   {
    "duration": 4,
    "start_time": "2024-02-13T17:57:08.990Z"
   },
   {
    "duration": 74,
    "start_time": "2024-02-13T17:57:08.995Z"
   },
   {
    "duration": 4,
    "start_time": "2024-02-13T17:57:09.070Z"
   },
   {
    "duration": 4,
    "start_time": "2024-02-13T17:57:09.088Z"
   },
   {
    "duration": 9,
    "start_time": "2024-02-13T17:57:09.094Z"
   },
   {
    "duration": 8,
    "start_time": "2024-02-13T17:57:09.104Z"
   },
   {
    "duration": 149,
    "start_time": "2024-02-13T17:57:51.042Z"
   },
   {
    "duration": 150,
    "start_time": "2024-02-13T17:57:51.428Z"
   },
   {
    "duration": 331,
    "start_time": "2024-02-13T17:59:34.764Z"
   },
   {
    "duration": 137,
    "start_time": "2024-02-13T17:59:43.462Z"
   },
   {
    "duration": 1410,
    "start_time": "2024-02-13T17:59:52.699Z"
   },
   {
    "duration": 843,
    "start_time": "2024-02-13T17:59:54.110Z"
   },
   {
    "duration": 7,
    "start_time": "2024-02-13T17:59:54.955Z"
   },
   {
    "duration": 28,
    "start_time": "2024-02-13T17:59:54.964Z"
   },
   {
    "duration": 94,
    "start_time": "2024-02-13T17:59:54.994Z"
   },
   {
    "duration": 174,
    "start_time": "2024-02-13T17:59:55.090Z"
   },
   {
    "duration": 779,
    "start_time": "2024-02-13T17:59:55.265Z"
   },
   {
    "duration": 7,
    "start_time": "2024-02-13T17:59:56.046Z"
   },
   {
    "duration": 83,
    "start_time": "2024-02-13T17:59:56.055Z"
   },
   {
    "duration": 565,
    "start_time": "2024-02-13T17:59:56.140Z"
   },
   {
    "duration": 14,
    "start_time": "2024-02-13T17:59:56.706Z"
   },
   {
    "duration": 58,
    "start_time": "2024-02-13T17:59:56.721Z"
   },
   {
    "duration": 215,
    "start_time": "2024-02-13T17:59:56.780Z"
   },
   {
    "duration": 244,
    "start_time": "2024-02-13T17:59:56.996Z"
   },
   {
    "duration": 142,
    "start_time": "2024-02-13T17:59:57.242Z"
   },
   {
    "duration": 12,
    "start_time": "2024-02-13T17:59:57.387Z"
   },
   {
    "duration": 10,
    "start_time": "2024-02-13T17:59:57.401Z"
   },
   {
    "duration": 42,
    "start_time": "2024-02-13T17:59:57.412Z"
   },
   {
    "duration": 5,
    "start_time": "2024-02-13T17:59:57.456Z"
   },
   {
    "duration": 28,
    "start_time": "2024-02-13T17:59:57.462Z"
   },
   {
    "duration": 9,
    "start_time": "2024-02-13T17:59:57.491Z"
   },
   {
    "duration": 26,
    "start_time": "2024-02-13T17:59:57.501Z"
   },
   {
    "duration": 5,
    "start_time": "2024-02-13T17:59:57.529Z"
   },
   {
    "duration": 506,
    "start_time": "2024-02-13T17:59:57.535Z"
   },
   {
    "duration": 10,
    "start_time": "2024-02-13T17:59:58.042Z"
   },
   {
    "duration": 33,
    "start_time": "2024-02-13T17:59:58.054Z"
   },
   {
    "duration": 22,
    "start_time": "2024-02-13T17:59:58.089Z"
   },
   {
    "duration": 17,
    "start_time": "2024-02-13T17:59:58.114Z"
   },
   {
    "duration": 10,
    "start_time": "2024-02-13T17:59:58.132Z"
   },
   {
    "duration": 18,
    "start_time": "2024-02-13T17:59:58.143Z"
   },
   {
    "duration": 94,
    "start_time": "2024-02-13T17:59:58.162Z"
   },
   {
    "duration": 32,
    "start_time": "2024-02-13T17:59:58.257Z"
   },
   {
    "duration": 18,
    "start_time": "2024-02-13T17:59:58.290Z"
   },
   {
    "duration": 39,
    "start_time": "2024-02-13T17:59:58.309Z"
   },
   {
    "duration": 25,
    "start_time": "2024-02-13T17:59:58.349Z"
   },
   {
    "duration": 37,
    "start_time": "2024-02-13T17:59:58.387Z"
   },
   {
    "duration": 8,
    "start_time": "2024-02-13T17:59:58.425Z"
   },
   {
    "duration": 28,
    "start_time": "2024-02-13T17:59:58.434Z"
   },
   {
    "duration": 51,
    "start_time": "2024-02-13T17:59:58.463Z"
   },
   {
    "duration": 48,
    "start_time": "2024-02-13T17:59:58.515Z"
   },
   {
    "duration": 7,
    "start_time": "2024-02-13T17:59:58.565Z"
   },
   {
    "duration": 14,
    "start_time": "2024-02-13T17:59:58.587Z"
   },
   {
    "duration": 4,
    "start_time": "2024-02-13T17:59:58.603Z"
   },
   {
    "duration": 5,
    "start_time": "2024-02-13T17:59:58.608Z"
   },
   {
    "duration": 80,
    "start_time": "2024-02-13T17:59:58.615Z"
   },
   {
    "duration": 4,
    "start_time": "2024-02-13T17:59:58.697Z"
   },
   {
    "duration": 4,
    "start_time": "2024-02-13T17:59:58.702Z"
   },
   {
    "duration": 5,
    "start_time": "2024-02-13T17:59:58.707Z"
   },
   {
    "duration": 3,
    "start_time": "2024-02-13T17:59:58.714Z"
   },
   {
    "duration": 374,
    "start_time": "2024-02-13T18:00:45.778Z"
   },
   {
    "duration": 120,
    "start_time": "2024-02-13T18:01:00.977Z"
   },
   {
    "duration": 378,
    "start_time": "2024-02-13T18:01:15.690Z"
   },
   {
    "duration": 443,
    "start_time": "2024-02-13T18:03:17.216Z"
   },
   {
    "duration": 149,
    "start_time": "2024-02-13T18:03:30.683Z"
   },
   {
    "duration": 1382,
    "start_time": "2024-02-13T18:04:52.334Z"
   },
   {
    "duration": 885,
    "start_time": "2024-02-13T18:04:53.717Z"
   },
   {
    "duration": 7,
    "start_time": "2024-02-13T18:04:54.603Z"
   },
   {
    "duration": 20,
    "start_time": "2024-02-13T18:04:54.612Z"
   },
   {
    "duration": 105,
    "start_time": "2024-02-13T18:04:54.635Z"
   },
   {
    "duration": 146,
    "start_time": "2024-02-13T18:04:54.741Z"
   },
   {
    "duration": 747,
    "start_time": "2024-02-13T18:04:54.889Z"
   },
   {
    "duration": 5,
    "start_time": "2024-02-13T18:04:55.638Z"
   },
   {
    "duration": 73,
    "start_time": "2024-02-13T18:04:55.644Z"
   },
   {
    "duration": 574,
    "start_time": "2024-02-13T18:04:55.719Z"
   },
   {
    "duration": 13,
    "start_time": "2024-02-13T18:04:56.295Z"
   },
   {
    "duration": 46,
    "start_time": "2024-02-13T18:04:56.309Z"
   },
   {
    "duration": 202,
    "start_time": "2024-02-13T18:04:56.357Z"
   },
   {
    "duration": 183,
    "start_time": "2024-02-13T18:04:56.562Z"
   },
   {
    "duration": 147,
    "start_time": "2024-02-13T18:04:56.747Z"
   },
   {
    "duration": 13,
    "start_time": "2024-02-13T18:04:56.896Z"
   },
   {
    "duration": 7,
    "start_time": "2024-02-13T18:04:56.911Z"
   },
   {
    "duration": 21,
    "start_time": "2024-02-13T18:04:56.919Z"
   },
   {
    "duration": 6,
    "start_time": "2024-02-13T18:04:56.942Z"
   },
   {
    "duration": 47,
    "start_time": "2024-02-13T18:04:56.949Z"
   },
   {
    "duration": 6,
    "start_time": "2024-02-13T18:04:56.998Z"
   },
   {
    "duration": 20,
    "start_time": "2024-02-13T18:04:57.005Z"
   },
   {
    "duration": 9,
    "start_time": "2024-02-13T18:04:57.026Z"
   },
   {
    "duration": 489,
    "start_time": "2024-02-13T18:04:57.036Z"
   },
   {
    "duration": 10,
    "start_time": "2024-02-13T18:04:57.527Z"
   },
   {
    "duration": 16,
    "start_time": "2024-02-13T18:04:57.538Z"
   },
   {
    "duration": 42,
    "start_time": "2024-02-13T18:04:57.556Z"
   },
   {
    "duration": 18,
    "start_time": "2024-02-13T18:04:57.600Z"
   },
   {
    "duration": 10,
    "start_time": "2024-02-13T18:04:57.620Z"
   },
   {
    "duration": 19,
    "start_time": "2024-02-13T18:04:57.632Z"
   },
   {
    "duration": 97,
    "start_time": "2024-02-13T18:04:57.653Z"
   },
   {
    "duration": 19,
    "start_time": "2024-02-13T18:04:57.752Z"
   },
   {
    "duration": 17,
    "start_time": "2024-02-13T18:04:57.787Z"
   },
   {
    "duration": 52,
    "start_time": "2024-02-13T18:04:57.805Z"
   },
   {
    "duration": 35,
    "start_time": "2024-02-13T18:04:57.859Z"
   },
   {
    "duration": 37,
    "start_time": "2024-02-13T18:04:57.895Z"
   },
   {
    "duration": 8,
    "start_time": "2024-02-13T18:04:57.933Z"
   },
   {
    "duration": 28,
    "start_time": "2024-02-13T18:04:57.942Z"
   },
   {
    "duration": 54,
    "start_time": "2024-02-13T18:04:57.971Z"
   },
   {
    "duration": 60,
    "start_time": "2024-02-13T18:04:58.027Z"
   },
   {
    "duration": 7,
    "start_time": "2024-02-13T18:04:58.091Z"
   },
   {
    "duration": 18,
    "start_time": "2024-02-13T18:04:58.099Z"
   },
   {
    "duration": 3,
    "start_time": "2024-02-13T18:04:58.118Z"
   },
   {
    "duration": 5,
    "start_time": "2024-02-13T18:04:58.123Z"
   },
   {
    "duration": 82,
    "start_time": "2024-02-13T18:04:58.129Z"
   },
   {
    "duration": 4,
    "start_time": "2024-02-13T18:04:58.212Z"
   },
   {
    "duration": 7,
    "start_time": "2024-02-13T18:04:58.217Z"
   },
   {
    "duration": 12,
    "start_time": "2024-02-13T18:04:58.225Z"
   },
   {
    "duration": 5,
    "start_time": "2024-02-13T18:04:58.239Z"
   },
   {
    "duration": 234,
    "start_time": "2024-02-13T18:05:17.792Z"
   },
   {
    "duration": 1482,
    "start_time": "2024-02-13T18:05:34.369Z"
   },
   {
    "duration": 842,
    "start_time": "2024-02-13T18:05:35.853Z"
   },
   {
    "duration": 6,
    "start_time": "2024-02-13T18:05:36.697Z"
   },
   {
    "duration": 32,
    "start_time": "2024-02-13T18:05:36.704Z"
   },
   {
    "duration": 85,
    "start_time": "2024-02-13T18:05:36.738Z"
   },
   {
    "duration": 144,
    "start_time": "2024-02-13T18:05:36.824Z"
   },
   {
    "duration": 757,
    "start_time": "2024-02-13T18:05:36.969Z"
   },
   {
    "duration": 6,
    "start_time": "2024-02-13T18:05:37.728Z"
   },
   {
    "duration": 78,
    "start_time": "2024-02-13T18:05:37.735Z"
   },
   {
    "duration": 593,
    "start_time": "2024-02-13T18:05:37.814Z"
   },
   {
    "duration": 12,
    "start_time": "2024-02-13T18:05:38.409Z"
   },
   {
    "duration": 37,
    "start_time": "2024-02-13T18:05:38.423Z"
   },
   {
    "duration": 193,
    "start_time": "2024-02-13T18:05:38.462Z"
   },
   {
    "duration": 188,
    "start_time": "2024-02-13T18:05:38.658Z"
   },
   {
    "duration": 254,
    "start_time": "2024-02-13T18:05:38.848Z"
   },
   {
    "duration": 116,
    "start_time": "2024-02-13T18:05:39.104Z"
   },
   {
    "duration": 0,
    "start_time": "2024-02-13T18:05:39.223Z"
   },
   {
    "duration": 0,
    "start_time": "2024-02-13T18:05:39.224Z"
   },
   {
    "duration": 0,
    "start_time": "2024-02-13T18:05:39.226Z"
   },
   {
    "duration": 0,
    "start_time": "2024-02-13T18:05:39.227Z"
   },
   {
    "duration": 0,
    "start_time": "2024-02-13T18:05:39.228Z"
   },
   {
    "duration": 0,
    "start_time": "2024-02-13T18:05:39.229Z"
   },
   {
    "duration": 0,
    "start_time": "2024-02-13T18:05:39.230Z"
   },
   {
    "duration": 0,
    "start_time": "2024-02-13T18:05:39.231Z"
   },
   {
    "duration": 1,
    "start_time": "2024-02-13T18:05:39.232Z"
   },
   {
    "duration": 0,
    "start_time": "2024-02-13T18:05:39.233Z"
   },
   {
    "duration": 0,
    "start_time": "2024-02-13T18:05:39.235Z"
   },
   {
    "duration": 0,
    "start_time": "2024-02-13T18:05:39.236Z"
   },
   {
    "duration": 0,
    "start_time": "2024-02-13T18:05:39.237Z"
   },
   {
    "duration": 0,
    "start_time": "2024-02-13T18:05:39.239Z"
   },
   {
    "duration": 0,
    "start_time": "2024-02-13T18:05:39.240Z"
   },
   {
    "duration": 0,
    "start_time": "2024-02-13T18:05:39.241Z"
   },
   {
    "duration": 0,
    "start_time": "2024-02-13T18:05:39.243Z"
   },
   {
    "duration": 0,
    "start_time": "2024-02-13T18:05:39.244Z"
   },
   {
    "duration": 0,
    "start_time": "2024-02-13T18:05:39.245Z"
   },
   {
    "duration": 0,
    "start_time": "2024-02-13T18:05:39.288Z"
   },
   {
    "duration": 0,
    "start_time": "2024-02-13T18:05:39.289Z"
   },
   {
    "duration": 0,
    "start_time": "2024-02-13T18:05:39.290Z"
   },
   {
    "duration": 0,
    "start_time": "2024-02-13T18:05:39.291Z"
   },
   {
    "duration": 0,
    "start_time": "2024-02-13T18:05:39.292Z"
   },
   {
    "duration": 0,
    "start_time": "2024-02-13T18:05:39.293Z"
   },
   {
    "duration": 0,
    "start_time": "2024-02-13T18:05:39.294Z"
   },
   {
    "duration": 0,
    "start_time": "2024-02-13T18:05:39.295Z"
   },
   {
    "duration": 0,
    "start_time": "2024-02-13T18:05:39.296Z"
   },
   {
    "duration": 0,
    "start_time": "2024-02-13T18:05:39.297Z"
   },
   {
    "duration": 0,
    "start_time": "2024-02-13T18:05:39.298Z"
   },
   {
    "duration": 0,
    "start_time": "2024-02-13T18:05:39.299Z"
   },
   {
    "duration": 0,
    "start_time": "2024-02-13T18:05:39.300Z"
   },
   {
    "duration": 0,
    "start_time": "2024-02-13T18:05:39.301Z"
   },
   {
    "duration": 0,
    "start_time": "2024-02-13T18:05:39.303Z"
   },
   {
    "duration": 229,
    "start_time": "2024-02-13T18:06:53.473Z"
   },
   {
    "duration": 215,
    "start_time": "2024-02-13T18:06:57.521Z"
   },
   {
    "duration": 135,
    "start_time": "2024-02-13T18:07:10.406Z"
   },
   {
    "duration": 159,
    "start_time": "2024-02-13T18:07:25.420Z"
   },
   {
    "duration": 1414,
    "start_time": "2024-02-13T18:10:01.128Z"
   },
   {
    "duration": 875,
    "start_time": "2024-02-13T18:10:02.544Z"
   },
   {
    "duration": 8,
    "start_time": "2024-02-13T18:10:03.420Z"
   },
   {
    "duration": 46,
    "start_time": "2024-02-13T18:10:03.429Z"
   },
   {
    "duration": 128,
    "start_time": "2024-02-13T18:10:03.477Z"
   },
   {
    "duration": 146,
    "start_time": "2024-02-13T18:10:03.607Z"
   },
   {
    "duration": 831,
    "start_time": "2024-02-13T18:10:03.755Z"
   },
   {
    "duration": 6,
    "start_time": "2024-02-13T18:10:04.588Z"
   },
   {
    "duration": 70,
    "start_time": "2024-02-13T18:10:04.595Z"
   },
   {
    "duration": 632,
    "start_time": "2024-02-13T18:10:04.667Z"
   },
   {
    "duration": 13,
    "start_time": "2024-02-13T18:10:05.300Z"
   },
   {
    "duration": 19,
    "start_time": "2024-02-13T18:10:05.314Z"
   },
   {
    "duration": 232,
    "start_time": "2024-02-13T18:10:05.335Z"
   },
   {
    "duration": 254,
    "start_time": "2024-02-13T18:10:05.570Z"
   },
   {
    "duration": 165,
    "start_time": "2024-02-13T18:10:05.825Z"
   },
   {
    "duration": 13,
    "start_time": "2024-02-13T18:10:05.991Z"
   },
   {
    "duration": 5,
    "start_time": "2024-02-13T18:10:06.005Z"
   },
   {
    "duration": 19,
    "start_time": "2024-02-13T18:10:06.012Z"
   },
   {
    "duration": 4,
    "start_time": "2024-02-13T18:10:06.033Z"
   },
   {
    "duration": 17,
    "start_time": "2024-02-13T18:10:06.038Z"
   },
   {
    "duration": 34,
    "start_time": "2024-02-13T18:10:06.056Z"
   },
   {
    "duration": 19,
    "start_time": "2024-02-13T18:10:06.091Z"
   },
   {
    "duration": 4,
    "start_time": "2024-02-13T18:10:06.112Z"
   },
   {
    "duration": 539,
    "start_time": "2024-02-13T18:10:06.118Z"
   },
   {
    "duration": 11,
    "start_time": "2024-02-13T18:10:06.658Z"
   },
   {
    "duration": 33,
    "start_time": "2024-02-13T18:10:06.671Z"
   },
   {
    "duration": 22,
    "start_time": "2024-02-13T18:10:06.705Z"
   },
   {
    "duration": 17,
    "start_time": "2024-02-13T18:10:06.728Z"
   },
   {
    "duration": 9,
    "start_time": "2024-02-13T18:10:06.747Z"
   },
   {
    "duration": 45,
    "start_time": "2024-02-13T18:10:06.757Z"
   },
   {
    "duration": 98,
    "start_time": "2024-02-13T18:10:06.804Z"
   },
   {
    "duration": 21,
    "start_time": "2024-02-13T18:10:06.904Z"
   },
   {
    "duration": 19,
    "start_time": "2024-02-13T18:10:06.926Z"
   },
   {
    "duration": 47,
    "start_time": "2024-02-13T18:10:06.946Z"
   },
   {
    "duration": 24,
    "start_time": "2024-02-13T18:10:06.995Z"
   },
   {
    "duration": 35,
    "start_time": "2024-02-13T18:10:07.021Z"
   },
   {
    "duration": 7,
    "start_time": "2024-02-13T18:10:07.058Z"
   },
   {
    "duration": 18,
    "start_time": "2024-02-13T18:10:07.087Z"
   },
   {
    "duration": 40,
    "start_time": "2024-02-13T18:10:07.106Z"
   },
   {
    "duration": 64,
    "start_time": "2024-02-13T18:10:07.148Z"
   },
   {
    "duration": 7,
    "start_time": "2024-02-13T18:10:07.215Z"
   },
   {
    "duration": 18,
    "start_time": "2024-02-13T18:10:07.224Z"
   },
   {
    "duration": 3,
    "start_time": "2024-02-13T18:10:07.244Z"
   },
   {
    "duration": 5,
    "start_time": "2024-02-13T18:10:07.249Z"
   },
   {
    "duration": 89,
    "start_time": "2024-02-13T18:10:07.255Z"
   },
   {
    "duration": 3,
    "start_time": "2024-02-13T18:10:07.346Z"
   },
   {
    "duration": 9,
    "start_time": "2024-02-13T18:10:07.350Z"
   },
   {
    "duration": 4,
    "start_time": "2024-02-13T18:10:07.360Z"
   },
   {
    "duration": 5,
    "start_time": "2024-02-13T18:10:07.365Z"
   },
   {
    "duration": 29,
    "start_time": "2024-02-13T18:22:23.074Z"
   },
   {
    "duration": 29,
    "start_time": "2024-02-13T18:22:35.128Z"
   },
   {
    "duration": 19,
    "start_time": "2024-02-13T18:23:12.398Z"
   },
   {
    "duration": 48,
    "start_time": "2024-02-13T18:23:17.525Z"
   },
   {
    "duration": 47,
    "start_time": "2024-02-13T18:23:45.869Z"
   },
   {
    "duration": 37,
    "start_time": "2024-02-13T18:23:48.648Z"
   },
   {
    "duration": 1630,
    "start_time": "2024-02-13T18:25:38.946Z"
   },
   {
    "duration": 18,
    "start_time": "2024-02-13T18:25:48.838Z"
   },
   {
    "duration": 16,
    "start_time": "2024-02-13T18:26:10.367Z"
   },
   {
    "duration": 8,
    "start_time": "2024-02-13T18:26:26.141Z"
   },
   {
    "duration": 16,
    "start_time": "2024-02-13T18:26:30.040Z"
   },
   {
    "duration": 31,
    "start_time": "2024-02-13T18:26:55.822Z"
   },
   {
    "duration": 30,
    "start_time": "2024-02-13T18:27:11.421Z"
   },
   {
    "duration": 33,
    "start_time": "2024-02-13T18:32:04.185Z"
   },
   {
    "duration": 30,
    "start_time": "2024-02-13T18:34:51.996Z"
   },
   {
    "duration": 14,
    "start_time": "2024-02-13T18:36:28.946Z"
   },
   {
    "duration": 31,
    "start_time": "2024-02-13T18:36:42.035Z"
   },
   {
    "duration": 15,
    "start_time": "2024-02-13T18:36:42.068Z"
   },
   {
    "duration": 69,
    "start_time": "2024-02-13T18:36:53.603Z"
   },
   {
    "duration": 1081,
    "start_time": "2024-02-15T15:17:14.672Z"
   },
   {
    "duration": 0,
    "start_time": "2024-02-15T15:17:15.756Z"
   },
   {
    "duration": 0,
    "start_time": "2024-02-15T15:17:15.757Z"
   },
   {
    "duration": 0,
    "start_time": "2024-02-15T15:17:15.758Z"
   },
   {
    "duration": 0,
    "start_time": "2024-02-15T15:17:15.759Z"
   },
   {
    "duration": 0,
    "start_time": "2024-02-15T15:17:15.760Z"
   },
   {
    "duration": 0,
    "start_time": "2024-02-15T15:17:15.761Z"
   },
   {
    "duration": 0,
    "start_time": "2024-02-15T15:17:15.762Z"
   },
   {
    "duration": 0,
    "start_time": "2024-02-15T15:17:15.763Z"
   },
   {
    "duration": 0,
    "start_time": "2024-02-15T15:17:15.764Z"
   },
   {
    "duration": 0,
    "start_time": "2024-02-15T15:17:15.766Z"
   },
   {
    "duration": 0,
    "start_time": "2024-02-15T15:17:15.767Z"
   },
   {
    "duration": 0,
    "start_time": "2024-02-15T15:17:15.768Z"
   },
   {
    "duration": 0,
    "start_time": "2024-02-15T15:17:15.769Z"
   },
   {
    "duration": 0,
    "start_time": "2024-02-15T15:17:15.770Z"
   },
   {
    "duration": 0,
    "start_time": "2024-02-15T15:17:15.771Z"
   },
   {
    "duration": 0,
    "start_time": "2024-02-15T15:17:15.772Z"
   },
   {
    "duration": 0,
    "start_time": "2024-02-15T15:17:15.773Z"
   },
   {
    "duration": 0,
    "start_time": "2024-02-15T15:17:15.775Z"
   },
   {
    "duration": 0,
    "start_time": "2024-02-15T15:17:15.776Z"
   },
   {
    "duration": 0,
    "start_time": "2024-02-15T15:17:15.777Z"
   },
   {
    "duration": 0,
    "start_time": "2024-02-15T15:17:15.778Z"
   },
   {
    "duration": 0,
    "start_time": "2024-02-15T15:17:15.818Z"
   },
   {
    "duration": 0,
    "start_time": "2024-02-15T15:17:15.819Z"
   },
   {
    "duration": 0,
    "start_time": "2024-02-15T15:17:15.820Z"
   },
   {
    "duration": 0,
    "start_time": "2024-02-15T15:17:15.821Z"
   },
   {
    "duration": 0,
    "start_time": "2024-02-15T15:17:15.822Z"
   },
   {
    "duration": 0,
    "start_time": "2024-02-15T15:17:15.823Z"
   },
   {
    "duration": 0,
    "start_time": "2024-02-15T15:17:15.824Z"
   },
   {
    "duration": 0,
    "start_time": "2024-02-15T15:17:15.825Z"
   },
   {
    "duration": 0,
    "start_time": "2024-02-15T15:17:15.826Z"
   },
   {
    "duration": 0,
    "start_time": "2024-02-15T15:17:15.827Z"
   },
   {
    "duration": 0,
    "start_time": "2024-02-15T15:17:15.828Z"
   },
   {
    "duration": 0,
    "start_time": "2024-02-15T15:17:15.829Z"
   },
   {
    "duration": 0,
    "start_time": "2024-02-15T15:17:15.830Z"
   },
   {
    "duration": 0,
    "start_time": "2024-02-15T15:17:15.831Z"
   },
   {
    "duration": 0,
    "start_time": "2024-02-15T15:17:15.832Z"
   },
   {
    "duration": 0,
    "start_time": "2024-02-15T15:17:15.833Z"
   },
   {
    "duration": 0,
    "start_time": "2024-02-15T15:17:15.834Z"
   },
   {
    "duration": 0,
    "start_time": "2024-02-15T15:17:15.835Z"
   },
   {
    "duration": 0,
    "start_time": "2024-02-15T15:17:15.836Z"
   },
   {
    "duration": 0,
    "start_time": "2024-02-15T15:17:15.837Z"
   },
   {
    "duration": 0,
    "start_time": "2024-02-15T15:17:15.837Z"
   },
   {
    "duration": 0,
    "start_time": "2024-02-15T15:17:15.838Z"
   },
   {
    "duration": 0,
    "start_time": "2024-02-15T15:17:15.840Z"
   },
   {
    "duration": 0,
    "start_time": "2024-02-15T15:17:15.840Z"
   },
   {
    "duration": 0,
    "start_time": "2024-02-15T15:17:15.841Z"
   },
   {
    "duration": 0,
    "start_time": "2024-02-15T15:17:15.842Z"
   },
   {
    "duration": 0,
    "start_time": "2024-02-15T15:17:15.843Z"
   },
   {
    "duration": 0,
    "start_time": "2024-02-15T15:17:15.844Z"
   },
   {
    "duration": 0,
    "start_time": "2024-02-15T15:17:15.845Z"
   },
   {
    "duration": 0,
    "start_time": "2024-02-15T15:17:15.846Z"
   },
   {
    "duration": 3298,
    "start_time": "2024-02-15T15:19:54.388Z"
   },
   {
    "duration": 481,
    "start_time": "2024-02-15T15:20:25.951Z"
   },
   {
    "duration": 1350,
    "start_time": "2024-02-15T15:20:30.219Z"
   },
   {
    "duration": 1071,
    "start_time": "2024-02-15T15:20:31.571Z"
   },
   {
    "duration": 5,
    "start_time": "2024-02-15T15:20:32.644Z"
   },
   {
    "duration": 15,
    "start_time": "2024-02-15T15:20:32.650Z"
   },
   {
    "duration": 135,
    "start_time": "2024-02-15T15:20:32.667Z"
   },
   {
    "duration": 144,
    "start_time": "2024-02-15T15:20:32.803Z"
   },
   {
    "duration": 745,
    "start_time": "2024-02-15T15:20:32.948Z"
   },
   {
    "duration": 6,
    "start_time": "2024-02-15T15:20:33.694Z"
   },
   {
    "duration": 84,
    "start_time": "2024-02-15T15:20:33.701Z"
   },
   {
    "duration": 520,
    "start_time": "2024-02-15T15:20:33.786Z"
   },
   {
    "duration": 15,
    "start_time": "2024-02-15T15:20:34.308Z"
   },
   {
    "duration": 27,
    "start_time": "2024-02-15T15:20:34.325Z"
   },
   {
    "duration": 210,
    "start_time": "2024-02-15T15:20:34.354Z"
   },
   {
    "duration": 230,
    "start_time": "2024-02-15T15:20:34.567Z"
   },
   {
    "duration": 148,
    "start_time": "2024-02-15T15:20:34.799Z"
   },
   {
    "duration": 12,
    "start_time": "2024-02-15T15:20:34.949Z"
   },
   {
    "duration": 5,
    "start_time": "2024-02-15T15:20:34.962Z"
   },
   {
    "duration": 19,
    "start_time": "2024-02-15T15:20:34.968Z"
   },
   {
    "duration": 30,
    "start_time": "2024-02-15T15:20:34.988Z"
   },
   {
    "duration": 16,
    "start_time": "2024-02-15T15:20:35.019Z"
   },
   {
    "duration": 4,
    "start_time": "2024-02-15T15:20:35.037Z"
   },
   {
    "duration": 19,
    "start_time": "2024-02-15T15:20:35.054Z"
   },
   {
    "duration": 5,
    "start_time": "2024-02-15T15:20:35.074Z"
   },
   {
    "duration": 480,
    "start_time": "2024-02-15T15:20:35.081Z"
   },
   {
    "duration": 10,
    "start_time": "2024-02-15T15:20:35.563Z"
   },
   {
    "duration": 16,
    "start_time": "2024-02-15T15:20:35.575Z"
   },
   {
    "duration": 37,
    "start_time": "2024-02-15T15:20:35.593Z"
   },
   {
    "duration": 16,
    "start_time": "2024-02-15T15:20:35.632Z"
   },
   {
    "duration": 8,
    "start_time": "2024-02-15T15:20:35.650Z"
   },
   {
    "duration": 23,
    "start_time": "2024-02-15T15:20:35.660Z"
   },
   {
    "duration": 51,
    "start_time": "2024-02-15T15:20:35.685Z"
   },
   {
    "duration": 25,
    "start_time": "2024-02-15T15:20:35.737Z"
   },
   {
    "duration": 82,
    "start_time": "2024-02-15T15:20:35.763Z"
   },
   {
    "duration": 28,
    "start_time": "2024-02-15T15:20:35.847Z"
   },
   {
    "duration": 65,
    "start_time": "2024-02-15T15:20:35.876Z"
   },
   {
    "duration": 15,
    "start_time": "2024-02-15T15:20:35.943Z"
   },
   {
    "duration": 18,
    "start_time": "2024-02-15T15:20:35.959Z"
   },
   {
    "duration": 47,
    "start_time": "2024-02-15T15:20:35.979Z"
   },
   {
    "duration": 14,
    "start_time": "2024-02-15T15:20:36.028Z"
   },
   {
    "duration": 39,
    "start_time": "2024-02-15T15:20:36.044Z"
   },
   {
    "duration": 31,
    "start_time": "2024-02-15T15:20:36.087Z"
   },
   {
    "duration": 66,
    "start_time": "2024-02-15T15:20:36.119Z"
   },
   {
    "duration": 16,
    "start_time": "2024-02-15T15:20:36.186Z"
   },
   {
    "duration": 32,
    "start_time": "2024-02-15T15:20:36.203Z"
   },
   {
    "duration": 13,
    "start_time": "2024-02-15T15:20:36.237Z"
   },
   {
    "duration": 4,
    "start_time": "2024-02-15T15:20:36.252Z"
   },
   {
    "duration": 5,
    "start_time": "2024-02-15T15:20:36.257Z"
   },
   {
    "duration": 96,
    "start_time": "2024-02-15T15:20:36.263Z"
   },
   {
    "duration": 4,
    "start_time": "2024-02-15T15:20:36.360Z"
   },
   {
    "duration": 7,
    "start_time": "2024-02-15T15:20:36.365Z"
   },
   {
    "duration": 5,
    "start_time": "2024-02-15T15:20:36.374Z"
   },
   {
    "duration": 5,
    "start_time": "2024-02-15T15:20:36.380Z"
   },
   {
    "duration": 250,
    "start_time": "2024-02-15T15:23:07.203Z"
   },
   {
    "duration": 156,
    "start_time": "2024-02-15T15:23:30.708Z"
   },
   {
    "duration": 3,
    "start_time": "2024-02-15T15:23:44.489Z"
   },
   {
    "duration": 151,
    "start_time": "2024-02-15T15:23:52.449Z"
   },
   {
    "duration": 145,
    "start_time": "2024-02-15T15:24:48.053Z"
   },
   {
    "duration": 8,
    "start_time": "2024-02-15T15:25:19.687Z"
   },
   {
    "duration": 351,
    "start_time": "2024-02-15T15:25:28.060Z"
   },
   {
    "duration": 267,
    "start_time": "2024-02-15T15:25:36.611Z"
   },
   {
    "duration": 158,
    "start_time": "2024-02-15T15:27:52.053Z"
   },
   {
    "duration": 157,
    "start_time": "2024-02-15T15:28:08.209Z"
   },
   {
    "duration": 164,
    "start_time": "2024-02-15T15:28:11.947Z"
   },
   {
    "duration": 192,
    "start_time": "2024-02-15T15:28:21.847Z"
   },
   {
    "duration": 166,
    "start_time": "2024-02-15T15:29:40.407Z"
   },
   {
    "duration": 170,
    "start_time": "2024-02-15T15:29:53.248Z"
   },
   {
    "duration": 167,
    "start_time": "2024-02-15T15:30:56.070Z"
   },
   {
    "duration": 154,
    "start_time": "2024-02-15T15:31:21.234Z"
   },
   {
    "duration": 73,
    "start_time": "2024-02-15T15:31:25.429Z"
   },
   {
    "duration": 76,
    "start_time": "2024-02-15T15:31:28.448Z"
   },
   {
    "duration": 159,
    "start_time": "2024-02-15T15:31:31.748Z"
   },
   {
    "duration": 61,
    "start_time": "2024-02-15T15:34:15.883Z"
   },
   {
    "duration": 55,
    "start_time": "2024-02-15T15:34:21.717Z"
   },
   {
    "duration": 51,
    "start_time": "2024-02-15T15:34:54.620Z"
   },
   {
    "duration": 53,
    "start_time": "2024-02-15T15:34:56.043Z"
   },
   {
    "duration": 50,
    "start_time": "2024-02-15T15:35:16.334Z"
   },
   {
    "duration": 25,
    "start_time": "2024-02-15T15:35:16.458Z"
   },
   {
    "duration": 10,
    "start_time": "2024-02-15T15:40:06.977Z"
   },
   {
    "duration": 9,
    "start_time": "2024-02-15T15:40:12.785Z"
   },
   {
    "duration": 1181,
    "start_time": "2024-02-15T15:42:42.816Z"
   },
   {
    "duration": 55,
    "start_time": "2024-02-15T15:42:50.694Z"
   },
   {
    "duration": 1174,
    "start_time": "2024-02-15T15:42:51.161Z"
   },
   {
    "duration": 26,
    "start_time": "2024-02-15T15:43:16.286Z"
   },
   {
    "duration": 10,
    "start_time": "2024-02-15T15:44:10.681Z"
   },
   {
    "duration": 61,
    "start_time": "2024-02-15T15:44:30.682Z"
   },
   {
    "duration": 3341,
    "start_time": "2024-02-15T15:45:17.084Z"
   },
   {
    "duration": 3396,
    "start_time": "2024-02-15T15:45:40.050Z"
   },
   {
    "duration": 3345,
    "start_time": "2024-02-15T15:46:13.034Z"
   },
   {
    "duration": 2135,
    "start_time": "2024-02-15T15:46:34.894Z"
   },
   {
    "duration": 5,
    "start_time": "2024-02-15T15:46:46.930Z"
   },
   {
    "duration": 8,
    "start_time": "2024-02-15T15:46:53.344Z"
   },
   {
    "duration": 14,
    "start_time": "2024-02-15T15:47:16.175Z"
   },
   {
    "duration": 2158,
    "start_time": "2024-02-15T15:48:22.032Z"
   },
   {
    "duration": 2153,
    "start_time": "2024-02-15T15:49:26.594Z"
   },
   {
    "duration": 8,
    "start_time": "2024-02-15T15:49:30.190Z"
   },
   {
    "duration": 1395,
    "start_time": "2024-02-15T15:49:38.047Z"
   },
   {
    "duration": 845,
    "start_time": "2024-02-15T15:49:39.444Z"
   },
   {
    "duration": 5,
    "start_time": "2024-02-15T15:49:40.290Z"
   },
   {
    "duration": 23,
    "start_time": "2024-02-15T15:49:40.297Z"
   },
   {
    "duration": 132,
    "start_time": "2024-02-15T15:49:40.322Z"
   },
   {
    "duration": 147,
    "start_time": "2024-02-15T15:49:40.455Z"
   },
   {
    "duration": 767,
    "start_time": "2024-02-15T15:49:40.604Z"
   },
   {
    "duration": 6,
    "start_time": "2024-02-15T15:49:41.372Z"
   },
   {
    "duration": 79,
    "start_time": "2024-02-15T15:49:41.380Z"
   },
   {
    "duration": 578,
    "start_time": "2024-02-15T15:49:41.461Z"
   },
   {
    "duration": 14,
    "start_time": "2024-02-15T15:49:42.041Z"
   },
   {
    "duration": 22,
    "start_time": "2024-02-15T15:49:42.057Z"
   },
   {
    "duration": 243,
    "start_time": "2024-02-15T15:49:42.080Z"
   },
   {
    "duration": 223,
    "start_time": "2024-02-15T15:49:42.325Z"
   },
   {
    "duration": 172,
    "start_time": "2024-02-15T15:49:42.550Z"
   },
   {
    "duration": 12,
    "start_time": "2024-02-15T15:49:42.724Z"
   },
   {
    "duration": 10,
    "start_time": "2024-02-15T15:49:42.737Z"
   },
   {
    "duration": 27,
    "start_time": "2024-02-15T15:49:42.748Z"
   },
   {
    "duration": 4,
    "start_time": "2024-02-15T15:49:42.777Z"
   },
   {
    "duration": 32,
    "start_time": "2024-02-15T15:49:42.783Z"
   },
   {
    "duration": 7,
    "start_time": "2024-02-15T15:49:42.817Z"
   },
   {
    "duration": 34,
    "start_time": "2024-02-15T15:49:42.825Z"
   },
   {
    "duration": 4,
    "start_time": "2024-02-15T15:49:42.861Z"
   },
   {
    "duration": 460,
    "start_time": "2024-02-15T15:49:42.866Z"
   },
   {
    "duration": 9,
    "start_time": "2024-02-15T15:49:43.327Z"
   },
   {
    "duration": 36,
    "start_time": "2024-02-15T15:49:43.338Z"
   },
   {
    "duration": 23,
    "start_time": "2024-02-15T15:49:43.376Z"
   },
   {
    "duration": 21,
    "start_time": "2024-02-15T15:49:43.401Z"
   },
   {
    "duration": 11,
    "start_time": "2024-02-15T15:49:43.424Z"
   },
   {
    "duration": 34,
    "start_time": "2024-02-15T15:49:43.437Z"
   },
   {
    "duration": 24,
    "start_time": "2024-02-15T15:49:43.473Z"
   },
   {
    "duration": 41,
    "start_time": "2024-02-15T15:49:43.498Z"
   },
   {
    "duration": 81,
    "start_time": "2024-02-15T15:49:43.541Z"
   },
   {
    "duration": 31,
    "start_time": "2024-02-15T15:49:43.623Z"
   },
   {
    "duration": 54,
    "start_time": "2024-02-15T15:49:43.656Z"
   },
   {
    "duration": 16,
    "start_time": "2024-02-15T15:49:43.717Z"
   },
   {
    "duration": 31,
    "start_time": "2024-02-15T15:49:43.734Z"
   },
   {
    "duration": 63,
    "start_time": "2024-02-15T15:49:43.766Z"
   },
   {
    "duration": 28,
    "start_time": "2024-02-15T15:49:43.830Z"
   },
   {
    "duration": 43,
    "start_time": "2024-02-15T15:49:43.860Z"
   },
   {
    "duration": 16,
    "start_time": "2024-02-15T15:49:43.907Z"
   },
   {
    "duration": 83,
    "start_time": "2024-02-15T15:49:43.924Z"
   },
   {
    "duration": 26,
    "start_time": "2024-02-15T15:49:44.008Z"
   },
   {
    "duration": 44,
    "start_time": "2024-02-15T15:49:44.035Z"
   },
   {
    "duration": 57,
    "start_time": "2024-02-15T15:49:44.081Z"
   },
   {
    "duration": 25,
    "start_time": "2024-02-15T15:49:44.139Z"
   },
   {
    "duration": 2137,
    "start_time": "2024-02-15T15:49:44.165Z"
   },
   {
    "duration": 19,
    "start_time": "2024-02-15T15:49:46.303Z"
   },
   {
    "duration": 15,
    "start_time": "2024-02-15T15:49:46.323Z"
   },
   {
    "duration": 17,
    "start_time": "2024-02-15T15:49:46.339Z"
   },
   {
    "duration": 4,
    "start_time": "2024-02-15T15:49:46.357Z"
   },
   {
    "duration": 6,
    "start_time": "2024-02-15T15:49:46.362Z"
   },
   {
    "duration": 81,
    "start_time": "2024-02-15T15:49:46.369Z"
   },
   {
    "duration": 3,
    "start_time": "2024-02-15T15:49:46.452Z"
   },
   {
    "duration": 10,
    "start_time": "2024-02-15T15:49:46.456Z"
   },
   {
    "duration": 4,
    "start_time": "2024-02-15T15:49:46.468Z"
   },
   {
    "duration": 7,
    "start_time": "2024-02-15T15:49:46.473Z"
   },
   {
    "duration": 1218,
    "start_time": "2024-02-15T15:50:37.370Z"
   },
   {
    "duration": 6,
    "start_time": "2024-02-15T15:50:46.422Z"
   },
   {
    "duration": 10,
    "start_time": "2024-02-15T15:53:16.604Z"
   },
   {
    "duration": 1323,
    "start_time": "2024-02-15T15:56:03.840Z"
   },
   {
    "duration": 855,
    "start_time": "2024-02-15T15:56:05.165Z"
   },
   {
    "duration": 5,
    "start_time": "2024-02-15T15:56:06.022Z"
   },
   {
    "duration": 15,
    "start_time": "2024-02-15T15:56:06.028Z"
   },
   {
    "duration": 135,
    "start_time": "2024-02-15T15:56:06.044Z"
   },
   {
    "duration": 140,
    "start_time": "2024-02-15T15:56:06.180Z"
   },
   {
    "duration": 720,
    "start_time": "2024-02-15T15:56:06.322Z"
   },
   {
    "duration": 6,
    "start_time": "2024-02-15T15:56:07.044Z"
   },
   {
    "duration": 77,
    "start_time": "2024-02-15T15:56:07.051Z"
   },
   {
    "duration": 557,
    "start_time": "2024-02-15T15:56:07.130Z"
   },
   {
    "duration": 11,
    "start_time": "2024-02-15T15:56:07.688Z"
   },
   {
    "duration": 28,
    "start_time": "2024-02-15T15:56:07.701Z"
   },
   {
    "duration": 204,
    "start_time": "2024-02-15T15:56:07.730Z"
   },
   {
    "duration": 220,
    "start_time": "2024-02-15T15:56:07.935Z"
   },
   {
    "duration": 181,
    "start_time": "2024-02-15T15:56:08.157Z"
   },
   {
    "duration": 12,
    "start_time": "2024-02-15T15:56:08.340Z"
   },
   {
    "duration": 6,
    "start_time": "2024-02-15T15:56:08.353Z"
   },
   {
    "duration": 19,
    "start_time": "2024-02-15T15:56:08.360Z"
   },
   {
    "duration": 5,
    "start_time": "2024-02-15T15:56:08.380Z"
   },
   {
    "duration": 43,
    "start_time": "2024-02-15T15:56:08.386Z"
   },
   {
    "duration": 4,
    "start_time": "2024-02-15T15:56:08.431Z"
   },
   {
    "duration": 19,
    "start_time": "2024-02-15T15:56:08.436Z"
   },
   {
    "duration": 4,
    "start_time": "2024-02-15T15:56:08.457Z"
   },
   {
    "duration": 479,
    "start_time": "2024-02-15T15:56:08.462Z"
   },
   {
    "duration": 11,
    "start_time": "2024-02-15T15:56:08.942Z"
   },
   {
    "duration": 15,
    "start_time": "2024-02-15T15:56:08.955Z"
   },
   {
    "duration": 48,
    "start_time": "2024-02-15T15:56:08.971Z"
   },
   {
    "duration": 21,
    "start_time": "2024-02-15T15:56:09.023Z"
   },
   {
    "duration": 17,
    "start_time": "2024-02-15T15:56:09.045Z"
   },
   {
    "duration": 18,
    "start_time": "2024-02-15T15:56:09.064Z"
   },
   {
    "duration": 41,
    "start_time": "2024-02-15T15:56:09.083Z"
   },
   {
    "duration": 25,
    "start_time": "2024-02-15T15:56:09.126Z"
   },
   {
    "duration": 79,
    "start_time": "2024-02-15T15:56:09.152Z"
   },
   {
    "duration": 27,
    "start_time": "2024-02-15T15:56:09.232Z"
   },
   {
    "duration": 42,
    "start_time": "2024-02-15T15:56:09.260Z"
   },
   {
    "duration": 19,
    "start_time": "2024-02-15T15:56:09.318Z"
   },
   {
    "duration": 17,
    "start_time": "2024-02-15T15:56:09.339Z"
   },
   {
    "duration": 40,
    "start_time": "2024-02-15T15:56:09.358Z"
   },
   {
    "duration": 28,
    "start_time": "2024-02-15T15:56:09.399Z"
   },
   {
    "duration": 40,
    "start_time": "2024-02-15T15:56:09.428Z"
   },
   {
    "duration": 20,
    "start_time": "2024-02-15T15:56:09.469Z"
   },
   {
    "duration": 69,
    "start_time": "2024-02-15T15:56:09.491Z"
   },
   {
    "duration": 19,
    "start_time": "2024-02-15T15:56:09.562Z"
   },
   {
    "duration": 51,
    "start_time": "2024-02-15T15:56:09.583Z"
   },
   {
    "duration": 55,
    "start_time": "2024-02-15T15:56:09.636Z"
   },
   {
    "duration": 32,
    "start_time": "2024-02-15T15:56:09.692Z"
   },
   {
    "duration": 27,
    "start_time": "2024-02-15T15:56:09.725Z"
   },
   {
    "duration": 2082,
    "start_time": "2024-02-15T15:56:09.754Z"
   },
   {
    "duration": 8,
    "start_time": "2024-02-15T15:56:11.838Z"
   },
   {
    "duration": 14,
    "start_time": "2024-02-15T15:56:11.847Z"
   },
   {
    "duration": 22,
    "start_time": "2024-02-15T15:56:11.862Z"
   },
   {
    "duration": 4,
    "start_time": "2024-02-15T15:56:11.885Z"
   },
   {
    "duration": 30,
    "start_time": "2024-02-15T15:56:11.890Z"
   },
   {
    "duration": 75,
    "start_time": "2024-02-15T15:56:11.921Z"
   },
   {
    "duration": 4,
    "start_time": "2024-02-15T15:56:11.998Z"
   },
   {
    "duration": 3,
    "start_time": "2024-02-15T15:56:12.018Z"
   },
   {
    "duration": 4,
    "start_time": "2024-02-15T15:56:12.023Z"
   },
   {
    "duration": 4,
    "start_time": "2024-02-15T15:56:12.031Z"
   },
   {
    "duration": 67,
    "start_time": "2024-02-15T15:58:11.103Z"
   },
   {
    "duration": 2132,
    "start_time": "2024-02-15T15:58:17.820Z"
   },
   {
    "duration": 1296,
    "start_time": "2024-02-15T15:58:21.466Z"
   },
   {
    "duration": 794,
    "start_time": "2024-02-15T15:58:22.763Z"
   },
   {
    "duration": 5,
    "start_time": "2024-02-15T15:58:23.559Z"
   },
   {
    "duration": 17,
    "start_time": "2024-02-15T15:58:23.565Z"
   },
   {
    "duration": 97,
    "start_time": "2024-02-15T15:58:23.584Z"
   },
   {
    "duration": 146,
    "start_time": "2024-02-15T15:58:23.683Z"
   },
   {
    "duration": 699,
    "start_time": "2024-02-15T15:58:23.831Z"
   },
   {
    "duration": 5,
    "start_time": "2024-02-15T15:58:24.532Z"
   },
   {
    "duration": 65,
    "start_time": "2024-02-15T15:58:24.539Z"
   },
   {
    "duration": 551,
    "start_time": "2024-02-15T15:58:24.606Z"
   },
   {
    "duration": 12,
    "start_time": "2024-02-15T15:58:25.158Z"
   },
   {
    "duration": 25,
    "start_time": "2024-02-15T15:58:25.172Z"
   },
   {
    "duration": 209,
    "start_time": "2024-02-15T15:58:25.199Z"
   },
   {
    "duration": 223,
    "start_time": "2024-02-15T15:58:25.411Z"
   },
   {
    "duration": 166,
    "start_time": "2024-02-15T15:58:25.635Z"
   },
   {
    "duration": 21,
    "start_time": "2024-02-15T15:58:25.803Z"
   },
   {
    "duration": 5,
    "start_time": "2024-02-15T15:58:25.825Z"
   },
   {
    "duration": 28,
    "start_time": "2024-02-15T15:58:25.832Z"
   },
   {
    "duration": 5,
    "start_time": "2024-02-15T15:58:25.861Z"
   },
   {
    "duration": 17,
    "start_time": "2024-02-15T15:58:25.867Z"
   },
   {
    "duration": 4,
    "start_time": "2024-02-15T15:58:25.886Z"
   },
   {
    "duration": 40,
    "start_time": "2024-02-15T15:58:25.891Z"
   },
   {
    "duration": 4,
    "start_time": "2024-02-15T15:58:25.933Z"
   },
   {
    "duration": 450,
    "start_time": "2024-02-15T15:58:25.938Z"
   },
   {
    "duration": 9,
    "start_time": "2024-02-15T15:58:26.390Z"
   },
   {
    "duration": 28,
    "start_time": "2024-02-15T15:58:26.400Z"
   },
   {
    "duration": 20,
    "start_time": "2024-02-15T15:58:26.429Z"
   },
   {
    "duration": 23,
    "start_time": "2024-02-15T15:58:26.451Z"
   },
   {
    "duration": 13,
    "start_time": "2024-02-15T15:58:26.476Z"
   },
   {
    "duration": 50,
    "start_time": "2024-02-15T15:58:26.490Z"
   },
   {
    "duration": 19,
    "start_time": "2024-02-15T15:58:26.542Z"
   },
   {
    "duration": 30,
    "start_time": "2024-02-15T15:58:26.563Z"
   },
   {
    "duration": 88,
    "start_time": "2024-02-15T15:58:26.595Z"
   },
   {
    "duration": 40,
    "start_time": "2024-02-15T15:58:26.685Z"
   },
   {
    "duration": 48,
    "start_time": "2024-02-15T15:58:26.726Z"
   },
   {
    "duration": 15,
    "start_time": "2024-02-15T15:58:26.776Z"
   },
   {
    "duration": 34,
    "start_time": "2024-02-15T15:58:26.792Z"
   },
   {
    "duration": 38,
    "start_time": "2024-02-15T15:58:26.827Z"
   },
   {
    "duration": 19,
    "start_time": "2024-02-15T15:58:26.867Z"
   },
   {
    "duration": 39,
    "start_time": "2024-02-15T15:58:26.887Z"
   },
   {
    "duration": 14,
    "start_time": "2024-02-15T15:58:26.930Z"
   },
   {
    "duration": 78,
    "start_time": "2024-02-15T15:58:26.946Z"
   },
   {
    "duration": 17,
    "start_time": "2024-02-15T15:58:27.025Z"
   },
   {
    "duration": 31,
    "start_time": "2024-02-15T15:58:27.043Z"
   },
   {
    "duration": 65,
    "start_time": "2024-02-15T15:58:27.076Z"
   },
   {
    "duration": 24,
    "start_time": "2024-02-15T15:58:27.143Z"
   },
   {
    "duration": 13,
    "start_time": "2024-02-15T15:58:27.169Z"
   },
   {
    "duration": 2188,
    "start_time": "2024-02-15T15:58:27.183Z"
   },
   {
    "duration": 8,
    "start_time": "2024-02-15T15:58:29.373Z"
   },
   {
    "duration": 14,
    "start_time": "2024-02-15T15:58:29.383Z"
   },
   {
    "duration": 37,
    "start_time": "2024-02-15T15:58:29.399Z"
   },
   {
    "duration": 3,
    "start_time": "2024-02-15T15:58:29.438Z"
   },
   {
    "duration": 10,
    "start_time": "2024-02-15T15:58:29.442Z"
   },
   {
    "duration": 51,
    "start_time": "2024-02-15T15:58:29.453Z"
   },
   {
    "duration": 13,
    "start_time": "2024-02-15T15:58:29.506Z"
   },
   {
    "duration": 9,
    "start_time": "2024-02-15T15:58:29.520Z"
   },
   {
    "duration": 4,
    "start_time": "2024-02-15T15:58:29.531Z"
   },
   {
    "duration": 13,
    "start_time": "2024-02-15T15:58:29.537Z"
   },
   {
    "duration": 1428,
    "start_time": "2024-02-15T16:05:01.090Z"
   },
   {
    "duration": 827,
    "start_time": "2024-02-15T16:05:02.519Z"
   },
   {
    "duration": 5,
    "start_time": "2024-02-15T16:05:03.347Z"
   },
   {
    "duration": 14,
    "start_time": "2024-02-15T16:05:03.354Z"
   },
   {
    "duration": 139,
    "start_time": "2024-02-15T16:05:03.370Z"
   },
   {
    "duration": 147,
    "start_time": "2024-02-15T16:05:03.511Z"
   },
   {
    "duration": 738,
    "start_time": "2024-02-15T16:05:03.660Z"
   },
   {
    "duration": 6,
    "start_time": "2024-02-15T16:05:04.400Z"
   },
   {
    "duration": 86,
    "start_time": "2024-02-15T16:05:04.407Z"
   },
   {
    "duration": 572,
    "start_time": "2024-02-15T16:05:04.495Z"
   },
   {
    "duration": 13,
    "start_time": "2024-02-15T16:05:05.068Z"
   },
   {
    "duration": 30,
    "start_time": "2024-02-15T16:05:05.082Z"
   },
   {
    "duration": 195,
    "start_time": "2024-02-15T16:05:05.113Z"
   },
   {
    "duration": 219,
    "start_time": "2024-02-15T16:05:05.311Z"
   },
   {
    "duration": 175,
    "start_time": "2024-02-15T16:05:05.531Z"
   },
   {
    "duration": 19,
    "start_time": "2024-02-15T16:05:05.708Z"
   },
   {
    "duration": 5,
    "start_time": "2024-02-15T16:05:05.728Z"
   },
   {
    "duration": 26,
    "start_time": "2024-02-15T16:05:05.734Z"
   },
   {
    "duration": 6,
    "start_time": "2024-02-15T16:05:05.762Z"
   },
   {
    "duration": 18,
    "start_time": "2024-02-15T16:05:05.770Z"
   },
   {
    "duration": 30,
    "start_time": "2024-02-15T16:05:05.789Z"
   },
   {
    "duration": 18,
    "start_time": "2024-02-15T16:05:05.821Z"
   },
   {
    "duration": 4,
    "start_time": "2024-02-15T16:05:05.841Z"
   },
   {
    "duration": 472,
    "start_time": "2024-02-15T16:05:05.846Z"
   },
   {
    "duration": 9,
    "start_time": "2024-02-15T16:05:06.319Z"
   },
   {
    "duration": 17,
    "start_time": "2024-02-15T16:05:06.329Z"
   },
   {
    "duration": 21,
    "start_time": "2024-02-15T16:05:06.347Z"
   },
   {
    "duration": 20,
    "start_time": "2024-02-15T16:05:06.369Z"
   },
   {
    "duration": 34,
    "start_time": "2024-02-15T16:05:06.390Z"
   },
   {
    "duration": 18,
    "start_time": "2024-02-15T16:05:06.425Z"
   },
   {
    "duration": 18,
    "start_time": "2024-02-15T16:05:06.444Z"
   },
   {
    "duration": 25,
    "start_time": "2024-02-15T16:05:06.463Z"
   },
   {
    "duration": 90,
    "start_time": "2024-02-15T16:05:06.489Z"
   },
   {
    "duration": 40,
    "start_time": "2024-02-15T16:05:06.580Z"
   },
   {
    "duration": 43,
    "start_time": "2024-02-15T16:05:06.622Z"
   },
   {
    "duration": 15,
    "start_time": "2024-02-15T16:05:06.666Z"
   },
   {
    "duration": 15,
    "start_time": "2024-02-15T16:05:06.682Z"
   },
   {
    "duration": 41,
    "start_time": "2024-02-15T16:05:06.698Z"
   },
   {
    "duration": 14,
    "start_time": "2024-02-15T16:05:06.740Z"
   },
   {
    "duration": 27,
    "start_time": "2024-02-15T16:05:06.755Z"
   },
   {
    "duration": 32,
    "start_time": "2024-02-15T16:05:06.786Z"
   },
   {
    "duration": 66,
    "start_time": "2024-02-15T16:05:06.819Z"
   },
   {
    "duration": 32,
    "start_time": "2024-02-15T16:05:06.886Z"
   },
   {
    "duration": 25,
    "start_time": "2024-02-15T16:05:06.920Z"
   },
   {
    "duration": 13,
    "start_time": "2024-02-15T16:05:06.946Z"
   },
   {
    "duration": 5,
    "start_time": "2024-02-15T16:05:06.960Z"
   },
   {
    "duration": 3,
    "start_time": "2024-02-15T16:05:06.966Z"
   },
   {
    "duration": 82,
    "start_time": "2024-02-15T16:05:06.970Z"
   },
   {
    "duration": 4,
    "start_time": "2024-02-15T16:05:07.054Z"
   },
   {
    "duration": 5,
    "start_time": "2024-02-15T16:05:07.059Z"
   },
   {
    "duration": 4,
    "start_time": "2024-02-15T16:05:07.066Z"
   },
   {
    "duration": 4,
    "start_time": "2024-02-15T16:05:07.072Z"
   },
   {
    "duration": 1367,
    "start_time": "2024-02-15T16:14:56.804Z"
   },
   {
    "duration": 839,
    "start_time": "2024-02-15T16:14:58.172Z"
   },
   {
    "duration": 7,
    "start_time": "2024-02-15T16:14:59.012Z"
   },
   {
    "duration": 24,
    "start_time": "2024-02-15T16:14:59.021Z"
   },
   {
    "duration": 138,
    "start_time": "2024-02-15T16:14:59.047Z"
   },
   {
    "duration": 152,
    "start_time": "2024-02-15T16:14:59.186Z"
   },
   {
    "duration": 781,
    "start_time": "2024-02-15T16:14:59.340Z"
   },
   {
    "duration": 6,
    "start_time": "2024-02-15T16:15:00.122Z"
   },
   {
    "duration": 82,
    "start_time": "2024-02-15T16:15:00.130Z"
   },
   {
    "duration": 597,
    "start_time": "2024-02-15T16:15:00.214Z"
   },
   {
    "duration": 17,
    "start_time": "2024-02-15T16:15:00.813Z"
   },
   {
    "duration": 37,
    "start_time": "2024-02-15T16:15:00.831Z"
   },
   {
    "duration": 257,
    "start_time": "2024-02-15T16:15:00.869Z"
   },
   {
    "duration": 240,
    "start_time": "2024-02-15T16:15:01.127Z"
   },
   {
    "duration": 176,
    "start_time": "2024-02-15T16:15:01.368Z"
   },
   {
    "duration": 13,
    "start_time": "2024-02-15T16:15:01.546Z"
   },
   {
    "duration": 26,
    "start_time": "2024-02-15T16:15:01.560Z"
   },
   {
    "duration": 59,
    "start_time": "2024-02-15T16:15:01.587Z"
   },
   {
    "duration": 12,
    "start_time": "2024-02-15T16:15:01.648Z"
   },
   {
    "duration": 40,
    "start_time": "2024-02-15T16:15:01.661Z"
   },
   {
    "duration": 35,
    "start_time": "2024-02-15T16:15:01.702Z"
   },
   {
    "duration": 38,
    "start_time": "2024-02-15T16:15:01.739Z"
   },
   {
    "duration": 48,
    "start_time": "2024-02-15T16:15:01.779Z"
   },
   {
    "duration": 497,
    "start_time": "2024-02-15T16:15:01.828Z"
   },
   {
    "duration": 11,
    "start_time": "2024-02-15T16:15:02.327Z"
   },
   {
    "duration": 31,
    "start_time": "2024-02-15T16:15:02.340Z"
   },
   {
    "duration": 22,
    "start_time": "2024-02-15T16:15:02.372Z"
   },
   {
    "duration": 25,
    "start_time": "2024-02-15T16:15:02.397Z"
   },
   {
    "duration": 9,
    "start_time": "2024-02-15T16:15:02.424Z"
   },
   {
    "duration": 34,
    "start_time": "2024-02-15T16:15:02.434Z"
   },
   {
    "duration": 30,
    "start_time": "2024-02-15T16:15:02.469Z"
   },
   {
    "duration": 25,
    "start_time": "2024-02-15T16:15:02.501Z"
   },
   {
    "duration": 66,
    "start_time": "2024-02-15T16:15:02.527Z"
   },
   {
    "duration": 108,
    "start_time": "2024-02-15T16:15:02.594Z"
   },
   {
    "duration": 0,
    "start_time": "2024-02-15T16:15:02.704Z"
   },
   {
    "duration": 0,
    "start_time": "2024-02-15T16:15:02.705Z"
   },
   {
    "duration": 0,
    "start_time": "2024-02-15T16:15:02.706Z"
   },
   {
    "duration": 0,
    "start_time": "2024-02-15T16:15:02.707Z"
   },
   {
    "duration": 0,
    "start_time": "2024-02-15T16:15:02.708Z"
   },
   {
    "duration": 0,
    "start_time": "2024-02-15T16:15:02.709Z"
   },
   {
    "duration": 0,
    "start_time": "2024-02-15T16:15:02.717Z"
   },
   {
    "duration": 0,
    "start_time": "2024-02-15T16:15:02.719Z"
   },
   {
    "duration": 0,
    "start_time": "2024-02-15T16:15:02.720Z"
   },
   {
    "duration": 0,
    "start_time": "2024-02-15T16:15:02.721Z"
   },
   {
    "duration": 0,
    "start_time": "2024-02-15T16:15:02.722Z"
   },
   {
    "duration": 0,
    "start_time": "2024-02-15T16:15:02.723Z"
   },
   {
    "duration": 0,
    "start_time": "2024-02-15T16:15:02.724Z"
   },
   {
    "duration": 0,
    "start_time": "2024-02-15T16:15:02.725Z"
   },
   {
    "duration": 0,
    "start_time": "2024-02-15T16:15:02.726Z"
   },
   {
    "duration": 0,
    "start_time": "2024-02-15T16:15:02.727Z"
   },
   {
    "duration": 0,
    "start_time": "2024-02-15T16:15:02.728Z"
   },
   {
    "duration": 0,
    "start_time": "2024-02-15T16:15:02.729Z"
   },
   {
    "duration": 0,
    "start_time": "2024-02-15T16:15:02.730Z"
   },
   {
    "duration": 0,
    "start_time": "2024-02-15T16:15:02.731Z"
   },
   {
    "duration": 118,
    "start_time": "2024-02-15T16:22:27.616Z"
   },
   {
    "duration": 85,
    "start_time": "2024-02-15T16:22:37.399Z"
   },
   {
    "duration": 87,
    "start_time": "2024-02-15T16:22:45.859Z"
   },
   {
    "duration": 112,
    "start_time": "2024-02-15T16:23:03.253Z"
   },
   {
    "duration": 84,
    "start_time": "2024-02-15T16:23:19.332Z"
   },
   {
    "duration": 78,
    "start_time": "2024-02-15T16:23:23.998Z"
   },
   {
    "duration": 85,
    "start_time": "2024-02-15T16:23:40.869Z"
   },
   {
    "duration": 81,
    "start_time": "2024-02-15T16:23:43.483Z"
   },
   {
    "duration": 82,
    "start_time": "2024-02-15T16:23:46.780Z"
   },
   {
    "duration": 8,
    "start_time": "2024-02-15T16:24:37.396Z"
   },
   {
    "duration": 4,
    "start_time": "2024-02-15T16:24:39.969Z"
   },
   {
    "duration": 87,
    "start_time": "2024-02-15T16:24:57.054Z"
   },
   {
    "duration": 83,
    "start_time": "2024-02-15T16:26:15.497Z"
   },
   {
    "duration": 91,
    "start_time": "2024-02-15T16:26:20.132Z"
   },
   {
    "duration": 83,
    "start_time": "2024-02-15T16:26:51.863Z"
   },
   {
    "duration": 88,
    "start_time": "2024-02-15T16:27:00.032Z"
   },
   {
    "duration": 90,
    "start_time": "2024-02-15T16:27:41.547Z"
   },
   {
    "duration": 90,
    "start_time": "2024-02-15T16:29:57.590Z"
   },
   {
    "duration": 11,
    "start_time": "2024-02-15T16:30:04.128Z"
   },
   {
    "duration": 4,
    "start_time": "2024-02-15T16:30:05.956Z"
   },
   {
    "duration": 68,
    "start_time": "2024-02-15T16:30:28.068Z"
   },
   {
    "duration": 61,
    "start_time": "2024-02-15T16:30:36.518Z"
   },
   {
    "duration": 1347,
    "start_time": "2024-02-15T16:30:57.831Z"
   },
   {
    "duration": 845,
    "start_time": "2024-02-15T16:30:59.180Z"
   },
   {
    "duration": 6,
    "start_time": "2024-02-15T16:31:00.026Z"
   },
   {
    "duration": 18,
    "start_time": "2024-02-15T16:31:00.034Z"
   },
   {
    "duration": 150,
    "start_time": "2024-02-15T16:31:00.054Z"
   },
   {
    "duration": 163,
    "start_time": "2024-02-15T16:31:00.206Z"
   },
   {
    "duration": 770,
    "start_time": "2024-02-15T16:31:00.370Z"
   },
   {
    "duration": 6,
    "start_time": "2024-02-15T16:31:01.141Z"
   },
   {
    "duration": 87,
    "start_time": "2024-02-15T16:31:01.149Z"
   },
   {
    "duration": 581,
    "start_time": "2024-02-15T16:31:01.238Z"
   },
   {
    "duration": 12,
    "start_time": "2024-02-15T16:31:01.821Z"
   },
   {
    "duration": 52,
    "start_time": "2024-02-15T16:31:01.835Z"
   },
   {
    "duration": 224,
    "start_time": "2024-02-15T16:31:01.889Z"
   },
   {
    "duration": 231,
    "start_time": "2024-02-15T16:31:02.120Z"
   },
   {
    "duration": 174,
    "start_time": "2024-02-15T16:31:02.352Z"
   },
   {
    "duration": 12,
    "start_time": "2024-02-15T16:31:02.528Z"
   },
   {
    "duration": 22,
    "start_time": "2024-02-15T16:31:02.541Z"
   },
   {
    "duration": 42,
    "start_time": "2024-02-15T16:31:02.565Z"
   },
   {
    "duration": 10,
    "start_time": "2024-02-15T16:31:02.608Z"
   },
   {
    "duration": 16,
    "start_time": "2024-02-15T16:31:02.619Z"
   },
   {
    "duration": 4,
    "start_time": "2024-02-15T16:31:02.637Z"
   },
   {
    "duration": 25,
    "start_time": "2024-02-15T16:31:02.643Z"
   },
   {
    "duration": 5,
    "start_time": "2024-02-15T16:31:02.669Z"
   },
   {
    "duration": 506,
    "start_time": "2024-02-15T16:31:02.675Z"
   },
   {
    "duration": 10,
    "start_time": "2024-02-15T16:31:03.182Z"
   },
   {
    "duration": 28,
    "start_time": "2024-02-15T16:31:03.193Z"
   },
   {
    "duration": 21,
    "start_time": "2024-02-15T16:31:03.223Z"
   },
   {
    "duration": 17,
    "start_time": "2024-02-15T16:31:03.245Z"
   },
   {
    "duration": 9,
    "start_time": "2024-02-15T16:31:03.264Z"
   },
   {
    "duration": 45,
    "start_time": "2024-02-15T16:31:03.274Z"
   },
   {
    "duration": 19,
    "start_time": "2024-02-15T16:31:03.320Z"
   },
   {
    "duration": 24,
    "start_time": "2024-02-15T16:31:03.341Z"
   },
   {
    "duration": 82,
    "start_time": "2024-02-15T16:31:03.366Z"
   },
   {
    "duration": 106,
    "start_time": "2024-02-15T16:31:03.449Z"
   },
   {
    "duration": 0,
    "start_time": "2024-02-15T16:31:03.557Z"
   },
   {
    "duration": 0,
    "start_time": "2024-02-15T16:31:03.558Z"
   },
   {
    "duration": 0,
    "start_time": "2024-02-15T16:31:03.559Z"
   },
   {
    "duration": 0,
    "start_time": "2024-02-15T16:31:03.560Z"
   },
   {
    "duration": 0,
    "start_time": "2024-02-15T16:31:03.561Z"
   },
   {
    "duration": 0,
    "start_time": "2024-02-15T16:31:03.562Z"
   },
   {
    "duration": 0,
    "start_time": "2024-02-15T16:31:03.563Z"
   },
   {
    "duration": 0,
    "start_time": "2024-02-15T16:31:03.564Z"
   },
   {
    "duration": 0,
    "start_time": "2024-02-15T16:31:03.565Z"
   },
   {
    "duration": 0,
    "start_time": "2024-02-15T16:31:03.566Z"
   },
   {
    "duration": 0,
    "start_time": "2024-02-15T16:31:03.567Z"
   },
   {
    "duration": 0,
    "start_time": "2024-02-15T16:31:03.568Z"
   },
   {
    "duration": 0,
    "start_time": "2024-02-15T16:31:03.569Z"
   },
   {
    "duration": 0,
    "start_time": "2024-02-15T16:31:03.570Z"
   },
   {
    "duration": 0,
    "start_time": "2024-02-15T16:31:03.570Z"
   },
   {
    "duration": 90,
    "start_time": "2024-02-15T16:31:09.534Z"
   },
   {
    "duration": 4,
    "start_time": "2024-02-15T16:31:13.509Z"
   },
   {
    "duration": 81,
    "start_time": "2024-02-15T16:31:13.793Z"
   },
   {
    "duration": 77,
    "start_time": "2024-02-15T16:31:16.778Z"
   },
   {
    "duration": 87,
    "start_time": "2024-02-15T16:31:18.882Z"
   },
   {
    "duration": 96,
    "start_time": "2024-02-15T16:31:22.006Z"
   },
   {
    "duration": 87,
    "start_time": "2024-02-15T16:31:23.438Z"
   },
   {
    "duration": 4,
    "start_time": "2024-02-15T16:31:23.915Z"
   },
   {
    "duration": 75,
    "start_time": "2024-02-15T16:31:25.058Z"
   },
   {
    "duration": 76,
    "start_time": "2024-02-15T16:31:38.218Z"
   },
   {
    "duration": 92,
    "start_time": "2024-02-15T16:31:41.833Z"
   },
   {
    "duration": 64,
    "start_time": "2024-02-15T16:31:55.935Z"
   },
   {
    "duration": 11,
    "start_time": "2024-02-15T16:33:31.316Z"
   },
   {
    "duration": 11,
    "start_time": "2024-02-15T16:33:36.229Z"
   },
   {
    "duration": 9,
    "start_time": "2024-02-15T16:33:39.174Z"
   },
   {
    "duration": 10,
    "start_time": "2024-02-15T16:33:41.417Z"
   },
   {
    "duration": 71,
    "start_time": "2024-02-15T16:35:13.383Z"
   },
   {
    "duration": 1379,
    "start_time": "2024-02-15T16:40:27.487Z"
   },
   {
    "duration": 852,
    "start_time": "2024-02-15T16:40:28.868Z"
   },
   {
    "duration": 6,
    "start_time": "2024-02-15T16:40:29.721Z"
   },
   {
    "duration": 14,
    "start_time": "2024-02-15T16:40:29.728Z"
   },
   {
    "duration": 145,
    "start_time": "2024-02-15T16:40:29.744Z"
   },
   {
    "duration": 138,
    "start_time": "2024-02-15T16:40:29.891Z"
   },
   {
    "duration": 752,
    "start_time": "2024-02-15T16:40:30.031Z"
   },
   {
    "duration": 6,
    "start_time": "2024-02-15T16:40:30.785Z"
   },
   {
    "duration": 89,
    "start_time": "2024-02-15T16:40:30.793Z"
   },
   {
    "duration": 571,
    "start_time": "2024-02-15T16:40:30.885Z"
   },
   {
    "duration": 13,
    "start_time": "2024-02-15T16:40:31.458Z"
   },
   {
    "duration": 43,
    "start_time": "2024-02-15T16:40:31.472Z"
   },
   {
    "duration": 208,
    "start_time": "2024-02-15T16:40:31.516Z"
   },
   {
    "duration": 238,
    "start_time": "2024-02-15T16:40:31.726Z"
   },
   {
    "duration": 185,
    "start_time": "2024-02-15T16:40:31.966Z"
   },
   {
    "duration": 13,
    "start_time": "2024-02-15T16:40:32.152Z"
   },
   {
    "duration": 6,
    "start_time": "2024-02-15T16:40:32.167Z"
   },
   {
    "duration": 43,
    "start_time": "2024-02-15T16:40:32.175Z"
   },
   {
    "duration": 6,
    "start_time": "2024-02-15T16:40:32.219Z"
   },
   {
    "duration": 18,
    "start_time": "2024-02-15T16:40:32.227Z"
   },
   {
    "duration": 5,
    "start_time": "2024-02-15T16:40:32.247Z"
   },
   {
    "duration": 19,
    "start_time": "2024-02-15T16:40:32.253Z"
   },
   {
    "duration": 4,
    "start_time": "2024-02-15T16:40:32.273Z"
   },
   {
    "duration": 479,
    "start_time": "2024-02-15T16:40:32.279Z"
   },
   {
    "duration": 9,
    "start_time": "2024-02-15T16:40:32.760Z"
   },
   {
    "duration": 15,
    "start_time": "2024-02-15T16:40:32.771Z"
   },
   {
    "duration": 36,
    "start_time": "2024-02-15T16:40:32.787Z"
   },
   {
    "duration": 19,
    "start_time": "2024-02-15T16:40:32.827Z"
   },
   {
    "duration": 10,
    "start_time": "2024-02-15T16:40:32.847Z"
   },
   {
    "duration": 17,
    "start_time": "2024-02-15T16:40:32.858Z"
   },
   {
    "duration": 41,
    "start_time": "2024-02-15T16:40:32.877Z"
   },
   {
    "duration": 39,
    "start_time": "2024-02-15T16:40:32.920Z"
   },
   {
    "duration": 81,
    "start_time": "2024-02-15T16:40:32.961Z"
   },
   {
    "duration": 106,
    "start_time": "2024-02-15T16:40:33.044Z"
   },
   {
    "duration": 0,
    "start_time": "2024-02-15T16:40:33.152Z"
   },
   {
    "duration": 0,
    "start_time": "2024-02-15T16:40:33.154Z"
   },
   {
    "duration": 0,
    "start_time": "2024-02-15T16:40:33.155Z"
   },
   {
    "duration": 0,
    "start_time": "2024-02-15T16:40:33.156Z"
   },
   {
    "duration": 0,
    "start_time": "2024-02-15T16:40:33.157Z"
   },
   {
    "duration": 0,
    "start_time": "2024-02-15T16:40:33.159Z"
   },
   {
    "duration": 0,
    "start_time": "2024-02-15T16:40:33.160Z"
   },
   {
    "duration": 0,
    "start_time": "2024-02-15T16:40:33.162Z"
   },
   {
    "duration": 0,
    "start_time": "2024-02-15T16:40:33.163Z"
   },
   {
    "duration": 0,
    "start_time": "2024-02-15T16:40:33.164Z"
   },
   {
    "duration": 0,
    "start_time": "2024-02-15T16:40:33.165Z"
   },
   {
    "duration": 0,
    "start_time": "2024-02-15T16:40:33.166Z"
   },
   {
    "duration": 0,
    "start_time": "2024-02-15T16:40:33.167Z"
   },
   {
    "duration": 0,
    "start_time": "2024-02-15T16:40:33.168Z"
   },
   {
    "duration": 0,
    "start_time": "2024-02-15T16:40:33.169Z"
   },
   {
    "duration": 0,
    "start_time": "2024-02-15T16:40:33.170Z"
   },
   {
    "duration": 0,
    "start_time": "2024-02-15T16:40:33.171Z"
   },
   {
    "duration": 0,
    "start_time": "2024-02-15T16:40:33.173Z"
   },
   {
    "duration": 92,
    "start_time": "2024-02-15T16:41:08.824Z"
   },
   {
    "duration": 95,
    "start_time": "2024-02-15T16:44:25.483Z"
   },
   {
    "duration": 3,
    "start_time": "2024-02-15T16:44:25.802Z"
   },
   {
    "duration": 50,
    "start_time": "2024-02-15T16:44:26.756Z"
   },
   {
    "duration": 58,
    "start_time": "2024-02-15T16:44:26.903Z"
   },
   {
    "duration": 53,
    "start_time": "2024-02-15T16:44:28.460Z"
   },
   {
    "duration": 11,
    "start_time": "2024-02-15T17:18:23.808Z"
   },
   {
    "duration": 3,
    "start_time": "2024-02-15T17:19:47.394Z"
   },
   {
    "duration": 3,
    "start_time": "2024-02-15T17:20:11.734Z"
   },
   {
    "duration": 30,
    "start_time": "2024-02-15T17:24:16.056Z"
   },
   {
    "duration": 2,
    "start_time": "2024-02-15T17:24:31.569Z"
   },
   {
    "duration": 341,
    "start_time": "2024-02-15T17:24:54.495Z"
   },
   {
    "duration": 10,
    "start_time": "2024-02-15T17:31:37.830Z"
   },
   {
    "duration": 10,
    "start_time": "2024-02-15T17:31:42.102Z"
   },
   {
    "duration": 14,
    "start_time": "2024-02-15T17:32:03.119Z"
   },
   {
    "duration": 4,
    "start_time": "2024-02-15T17:32:03.400Z"
   },
   {
    "duration": 2,
    "start_time": "2024-02-15T17:32:20.330Z"
   },
   {
    "duration": 273,
    "start_time": "2024-02-15T17:32:20.534Z"
   },
   {
    "duration": 15,
    "start_time": "2024-02-15T17:32:41.023Z"
   },
   {
    "duration": 10,
    "start_time": "2024-02-15T17:41:56.406Z"
   },
   {
    "duration": 13,
    "start_time": "2024-02-15T17:42:00.616Z"
   },
   {
    "duration": 3,
    "start_time": "2024-02-15T17:42:05.898Z"
   },
   {
    "duration": 5,
    "start_time": "2024-02-15T17:42:08.317Z"
   },
   {
    "duration": 4,
    "start_time": "2024-02-15T17:42:09.920Z"
   },
   {
    "duration": 4,
    "start_time": "2024-02-15T17:42:14.313Z"
   },
   {
    "duration": 735,
    "start_time": "2024-02-16T11:22:44.483Z"
   },
   {
    "duration": 110,
    "start_time": "2024-02-16T15:58:24.990Z"
   },
   {
    "duration": 3,
    "start_time": "2024-02-16T15:58:35.599Z"
   },
   {
    "duration": 4,
    "start_time": "2024-02-16T16:00:08.040Z"
   },
   {
    "duration": 4,
    "start_time": "2024-02-16T16:02:08.819Z"
   },
   {
    "duration": 10,
    "start_time": "2024-02-16T16:02:28.803Z"
   },
   {
    "duration": 1426,
    "start_time": "2024-02-16T16:02:33.916Z"
   },
   {
    "duration": 1069,
    "start_time": "2024-02-16T16:02:35.346Z"
   },
   {
    "duration": 5,
    "start_time": "2024-02-16T16:02:36.416Z"
   },
   {
    "duration": 15,
    "start_time": "2024-02-16T16:02:36.423Z"
   },
   {
    "duration": 107,
    "start_time": "2024-02-16T16:02:36.440Z"
   },
   {
    "duration": 153,
    "start_time": "2024-02-16T16:02:36.549Z"
   },
   {
    "duration": 804,
    "start_time": "2024-02-16T16:02:36.704Z"
   },
   {
    "duration": 9,
    "start_time": "2024-02-16T16:02:37.510Z"
   },
   {
    "duration": 76,
    "start_time": "2024-02-16T16:02:37.520Z"
   },
   {
    "duration": 508,
    "start_time": "2024-02-16T16:02:37.599Z"
   },
   {
    "duration": 16,
    "start_time": "2024-02-16T16:02:38.109Z"
   },
   {
    "duration": 31,
    "start_time": "2024-02-16T16:02:38.126Z"
   },
   {
    "duration": 221,
    "start_time": "2024-02-16T16:02:38.158Z"
   },
   {
    "duration": 243,
    "start_time": "2024-02-16T16:02:38.380Z"
   },
   {
    "duration": 183,
    "start_time": "2024-02-16T16:02:38.624Z"
   },
   {
    "duration": 16,
    "start_time": "2024-02-16T16:02:38.809Z"
   },
   {
    "duration": 8,
    "start_time": "2024-02-16T16:02:38.827Z"
   },
   {
    "duration": 26,
    "start_time": "2024-02-16T16:02:38.836Z"
   },
   {
    "duration": 20,
    "start_time": "2024-02-16T16:02:38.864Z"
   },
   {
    "duration": 24,
    "start_time": "2024-02-16T16:02:38.886Z"
   },
   {
    "duration": 5,
    "start_time": "2024-02-16T16:02:38.912Z"
   },
   {
    "duration": 41,
    "start_time": "2024-02-16T16:02:38.918Z"
   },
   {
    "duration": 5,
    "start_time": "2024-02-16T16:02:38.960Z"
   },
   {
    "duration": 514,
    "start_time": "2024-02-16T16:02:38.967Z"
   },
   {
    "duration": 11,
    "start_time": "2024-02-16T16:02:39.482Z"
   },
   {
    "duration": 33,
    "start_time": "2024-02-16T16:02:39.494Z"
   },
   {
    "duration": 39,
    "start_time": "2024-02-16T16:02:39.529Z"
   },
   {
    "duration": 23,
    "start_time": "2024-02-16T16:02:39.572Z"
   },
   {
    "duration": 10,
    "start_time": "2024-02-16T16:02:39.596Z"
   },
   {
    "duration": 27,
    "start_time": "2024-02-16T16:02:39.608Z"
   },
   {
    "duration": 19,
    "start_time": "2024-02-16T16:02:39.636Z"
   },
   {
    "duration": 38,
    "start_time": "2024-02-16T16:02:39.657Z"
   },
   {
    "duration": 75,
    "start_time": "2024-02-16T16:02:39.697Z"
   },
   {
    "duration": 16,
    "start_time": "2024-02-16T16:02:39.773Z"
   },
   {
    "duration": 90,
    "start_time": "2024-02-16T16:02:39.790Z"
   },
   {
    "duration": 92,
    "start_time": "2024-02-16T16:02:39.882Z"
   },
   {
    "duration": 98,
    "start_time": "2024-02-16T16:02:39.976Z"
   },
   {
    "duration": 3,
    "start_time": "2024-02-16T16:02:40.076Z"
   },
   {
    "duration": 59,
    "start_time": "2024-02-16T16:02:40.081Z"
   },
   {
    "duration": 65,
    "start_time": "2024-02-16T16:02:40.141Z"
   },
   {
    "duration": 51,
    "start_time": "2024-02-16T16:02:40.207Z"
   },
   {
    "duration": 63,
    "start_time": "2024-02-16T16:02:40.260Z"
   },
   {
    "duration": 22,
    "start_time": "2024-02-16T16:02:40.324Z"
   },
   {
    "duration": 13,
    "start_time": "2024-02-16T16:02:40.348Z"
   },
   {
    "duration": 4,
    "start_time": "2024-02-16T16:02:40.362Z"
   },
   {
    "duration": 11,
    "start_time": "2024-02-16T16:02:40.368Z"
   },
   {
    "duration": 37,
    "start_time": "2024-02-16T16:02:40.381Z"
   },
   {
    "duration": 4,
    "start_time": "2024-02-16T16:02:40.419Z"
   },
   {
    "duration": 4,
    "start_time": "2024-02-16T16:02:40.424Z"
   },
   {
    "duration": 337,
    "start_time": "2024-02-16T16:02:40.429Z"
   },
   {
    "duration": 16,
    "start_time": "2024-02-16T16:02:40.767Z"
   },
   {
    "duration": 8,
    "start_time": "2024-02-16T16:02:40.784Z"
   },
   {
    "duration": 5,
    "start_time": "2024-02-16T16:02:40.793Z"
   },
   {
    "duration": 48,
    "start_time": "2024-02-16T16:02:40.799Z"
   },
   {
    "duration": 4,
    "start_time": "2024-02-16T16:02:40.848Z"
   },
   {
    "duration": 7,
    "start_time": "2024-02-16T16:02:40.853Z"
   },
   {
    "duration": 4,
    "start_time": "2024-02-16T16:02:40.862Z"
   },
   {
    "duration": 8,
    "start_time": "2024-02-16T16:02:40.867Z"
   },
   {
    "duration": 4,
    "start_time": "2024-02-16T16:03:00.871Z"
   },
   {
    "duration": 104,
    "start_time": "2024-02-16T16:06:15.778Z"
   },
   {
    "duration": 5,
    "start_time": "2024-02-16T16:06:35.092Z"
   },
   {
    "duration": 41,
    "start_time": "2024-02-16T16:06:41.947Z"
   },
   {
    "duration": 45,
    "start_time": "2024-02-16T16:06:53.698Z"
   },
   {
    "duration": 276,
    "start_time": "2024-02-16T16:08:00.085Z"
   },
   {
    "duration": 11,
    "start_time": "2024-02-16T16:08:21.919Z"
   },
   {
    "duration": 4,
    "start_time": "2024-02-16T16:08:22.225Z"
   },
   {
    "duration": 2,
    "start_time": "2024-02-16T16:08:22.712Z"
   },
   {
    "duration": 260,
    "start_time": "2024-02-16T16:08:23.235Z"
   },
   {
    "duration": 5,
    "start_time": "2024-02-16T16:09:39.206Z"
   },
   {
    "duration": 4,
    "start_time": "2024-02-16T16:09:46.036Z"
   },
   {
    "duration": 3,
    "start_time": "2024-02-16T16:10:40.568Z"
   },
   {
    "duration": 16,
    "start_time": "2024-02-16T16:10:41.371Z"
   },
   {
    "duration": 2,
    "start_time": "2024-02-16T16:11:19.272Z"
   },
   {
    "duration": 272,
    "start_time": "2024-02-16T16:11:19.441Z"
   },
   {
    "duration": 4,
    "start_time": "2024-02-16T16:11:48.324Z"
   },
   {
    "duration": 2,
    "start_time": "2024-02-16T16:12:41.052Z"
   },
   {
    "duration": 271,
    "start_time": "2024-02-16T16:12:41.206Z"
   },
   {
    "duration": 4,
    "start_time": "2024-02-16T16:13:17.438Z"
   },
   {
    "duration": 8,
    "start_time": "2024-02-16T16:13:41.319Z"
   },
   {
    "duration": 4,
    "start_time": "2024-02-16T16:13:41.600Z"
   },
   {
    "duration": 5,
    "start_time": "2024-02-16T16:13:41.762Z"
   },
   {
    "duration": 4,
    "start_time": "2024-02-16T16:13:42.065Z"
   },
   {
    "duration": 3,
    "start_time": "2024-02-16T16:13:42.229Z"
   },
   {
    "duration": 243,
    "start_time": "2024-02-16T16:13:42.597Z"
   },
   {
    "duration": 1346,
    "start_time": "2024-02-16T16:13:54.368Z"
   },
   {
    "duration": 867,
    "start_time": "2024-02-16T16:13:55.718Z"
   },
   {
    "duration": 5,
    "start_time": "2024-02-16T16:13:56.587Z"
   },
   {
    "duration": 25,
    "start_time": "2024-02-16T16:13:56.593Z"
   },
   {
    "duration": 88,
    "start_time": "2024-02-16T16:13:56.620Z"
   },
   {
    "duration": 151,
    "start_time": "2024-02-16T16:13:56.709Z"
   },
   {
    "duration": 814,
    "start_time": "2024-02-16T16:13:56.862Z"
   },
   {
    "duration": 7,
    "start_time": "2024-02-16T16:13:57.677Z"
   },
   {
    "duration": 78,
    "start_time": "2024-02-16T16:13:57.686Z"
   },
   {
    "duration": 500,
    "start_time": "2024-02-16T16:13:57.766Z"
   },
   {
    "duration": 13,
    "start_time": "2024-02-16T16:13:58.267Z"
   },
   {
    "duration": 21,
    "start_time": "2024-02-16T16:13:58.281Z"
   },
   {
    "duration": 225,
    "start_time": "2024-02-16T16:13:58.303Z"
   },
   {
    "duration": 236,
    "start_time": "2024-02-16T16:13:58.532Z"
   },
   {
    "duration": 170,
    "start_time": "2024-02-16T16:13:58.770Z"
   },
   {
    "duration": 12,
    "start_time": "2024-02-16T16:13:58.942Z"
   },
   {
    "duration": 5,
    "start_time": "2024-02-16T16:13:58.956Z"
   },
   {
    "duration": 25,
    "start_time": "2024-02-16T16:13:58.962Z"
   },
   {
    "duration": 4,
    "start_time": "2024-02-16T16:13:58.988Z"
   },
   {
    "duration": 16,
    "start_time": "2024-02-16T16:13:59.018Z"
   },
   {
    "duration": 4,
    "start_time": "2024-02-16T16:13:59.035Z"
   },
   {
    "duration": 19,
    "start_time": "2024-02-16T16:13:59.041Z"
   },
   {
    "duration": 4,
    "start_time": "2024-02-16T16:13:59.062Z"
   },
   {
    "duration": 498,
    "start_time": "2024-02-16T16:13:59.068Z"
   },
   {
    "duration": 10,
    "start_time": "2024-02-16T16:13:59.567Z"
   },
   {
    "duration": 14,
    "start_time": "2024-02-16T16:13:59.578Z"
   },
   {
    "duration": 36,
    "start_time": "2024-02-16T16:13:59.594Z"
   },
   {
    "duration": 16,
    "start_time": "2024-02-16T16:13:59.632Z"
   },
   {
    "duration": 9,
    "start_time": "2024-02-16T16:13:59.650Z"
   },
   {
    "duration": 18,
    "start_time": "2024-02-16T16:13:59.660Z"
   },
   {
    "duration": 42,
    "start_time": "2024-02-16T16:13:59.679Z"
   },
   {
    "duration": 25,
    "start_time": "2024-02-16T16:13:59.723Z"
   },
   {
    "duration": 82,
    "start_time": "2024-02-16T16:13:59.749Z"
   },
   {
    "duration": 3,
    "start_time": "2024-02-16T16:13:59.832Z"
   },
   {
    "duration": 87,
    "start_time": "2024-02-16T16:13:59.837Z"
   },
   {
    "duration": 100,
    "start_time": "2024-02-16T16:13:59.925Z"
   },
   {
    "duration": 93,
    "start_time": "2024-02-16T16:14:00.027Z"
   },
   {
    "duration": 4,
    "start_time": "2024-02-16T16:14:00.121Z"
   },
   {
    "duration": 64,
    "start_time": "2024-02-16T16:14:00.126Z"
   },
   {
    "duration": 72,
    "start_time": "2024-02-16T16:14:00.192Z"
   },
   {
    "duration": 60,
    "start_time": "2024-02-16T16:14:00.268Z"
   },
   {
    "duration": 83,
    "start_time": "2024-02-16T16:14:00.329Z"
   },
   {
    "duration": 20,
    "start_time": "2024-02-16T16:14:00.413Z"
   },
   {
    "duration": 36,
    "start_time": "2024-02-16T16:14:00.435Z"
   },
   {
    "duration": 17,
    "start_time": "2024-02-16T16:14:00.473Z"
   },
   {
    "duration": 28,
    "start_time": "2024-02-16T16:14:00.491Z"
   },
   {
    "duration": 24,
    "start_time": "2024-02-16T16:14:00.520Z"
   },
   {
    "duration": 32,
    "start_time": "2024-02-16T16:14:00.545Z"
   },
   {
    "duration": 14,
    "start_time": "2024-02-16T16:14:00.578Z"
   },
   {
    "duration": 39,
    "start_time": "2024-02-16T16:14:00.594Z"
   },
   {
    "duration": 28,
    "start_time": "2024-02-16T16:14:00.634Z"
   },
   {
    "duration": 25,
    "start_time": "2024-02-16T16:14:00.663Z"
   },
   {
    "duration": 361,
    "start_time": "2024-02-16T16:14:00.690Z"
   },
   {
    "duration": 0,
    "start_time": "2024-02-16T16:14:01.052Z"
   },
   {
    "duration": 0,
    "start_time": "2024-02-16T16:14:01.053Z"
   },
   {
    "duration": 0,
    "start_time": "2024-02-16T16:14:01.054Z"
   },
   {
    "duration": 0,
    "start_time": "2024-02-16T16:14:01.055Z"
   },
   {
    "duration": 0,
    "start_time": "2024-02-16T16:14:01.056Z"
   },
   {
    "duration": 0,
    "start_time": "2024-02-16T16:14:01.057Z"
   },
   {
    "duration": 0,
    "start_time": "2024-02-16T16:14:01.058Z"
   },
   {
    "duration": 0,
    "start_time": "2024-02-16T16:14:01.059Z"
   },
   {
    "duration": 0,
    "start_time": "2024-02-16T16:14:01.060Z"
   },
   {
    "duration": 265,
    "start_time": "2024-02-16T16:14:15.195Z"
   },
   {
    "duration": 3,
    "start_time": "2024-02-16T16:14:16.989Z"
   },
   {
    "duration": 15,
    "start_time": "2024-02-16T16:14:17.172Z"
   },
   {
    "duration": 4,
    "start_time": "2024-02-16T16:14:18.316Z"
   },
   {
    "duration": 4,
    "start_time": "2024-02-16T16:14:18.472Z"
   },
   {
    "duration": 42,
    "start_time": "2024-02-16T16:14:18.752Z"
   },
   {
    "duration": 3,
    "start_time": "2024-02-16T16:14:18.917Z"
   },
   {
    "duration": 4,
    "start_time": "2024-02-16T16:14:19.075Z"
   },
   {
    "duration": 4,
    "start_time": "2024-02-16T16:14:19.552Z"
   },
   {
    "duration": 4,
    "start_time": "2024-02-16T16:14:20.132Z"
   },
   {
    "duration": 8,
    "start_time": "2024-02-16T16:14:49.774Z"
   },
   {
    "duration": 3,
    "start_time": "2024-02-16T16:14:52.311Z"
   },
   {
    "duration": 267,
    "start_time": "2024-02-16T16:20:04.053Z"
   },
   {
    "duration": 3,
    "start_time": "2024-02-16T16:22:40.063Z"
   },
   {
    "duration": 342,
    "start_time": "2024-02-16T16:22:40.228Z"
   },
   {
    "duration": 2,
    "start_time": "2024-02-16T16:22:42.573Z"
   },
   {
    "duration": 16,
    "start_time": "2024-02-16T16:22:43.124Z"
   },
   {
    "duration": 192,
    "start_time": "2024-02-16T16:22:45.694Z"
   },
   {
    "duration": 3,
    "start_time": "2024-02-16T16:28:17.180Z"
   },
   {
    "duration": 308,
    "start_time": "2024-02-16T16:28:19.444Z"
   },
   {
    "duration": 2,
    "start_time": "2024-02-16T16:32:51.739Z"
   },
   {
    "duration": 2,
    "start_time": "2024-02-16T16:33:15.100Z"
   },
   {
    "duration": 3,
    "start_time": "2024-02-16T16:34:05.340Z"
   },
   {
    "duration": 9,
    "start_time": "2024-02-16T16:35:34.694Z"
   },
   {
    "duration": 3,
    "start_time": "2024-02-16T16:36:13.566Z"
   },
   {
    "duration": 77,
    "start_time": "2024-02-16T16:36:17.808Z"
   },
   {
    "duration": 9,
    "start_time": "2024-02-16T16:36:23.114Z"
   },
   {
    "duration": 5,
    "start_time": "2024-02-16T16:36:56.098Z"
   },
   {
    "duration": 4,
    "start_time": "2024-02-16T16:38:14.210Z"
   },
   {
    "duration": 6,
    "start_time": "2024-02-16T16:38:20.474Z"
   },
   {
    "duration": 4,
    "start_time": "2024-02-16T16:38:26.640Z"
   },
   {
    "duration": 3,
    "start_time": "2024-02-16T16:39:16.480Z"
   },
   {
    "duration": 4,
    "start_time": "2024-02-16T16:39:28.248Z"
   },
   {
    "duration": 3,
    "start_time": "2024-02-16T16:40:03.637Z"
   },
   {
    "duration": 6,
    "start_time": "2024-02-16T16:40:09.064Z"
   },
   {
    "duration": 3,
    "start_time": "2024-02-16T16:40:50.986Z"
   },
   {
    "duration": 9,
    "start_time": "2024-02-16T16:40:54.289Z"
   },
   {
    "duration": 11,
    "start_time": "2024-02-16T16:47:53.244Z"
   },
   {
    "duration": 4,
    "start_time": "2024-02-16T16:48:00.659Z"
   },
   {
    "duration": 5,
    "start_time": "2024-02-16T16:48:18.897Z"
   },
   {
    "duration": 5,
    "start_time": "2024-02-16T16:48:19.112Z"
   },
   {
    "duration": 5,
    "start_time": "2024-02-16T16:48:19.505Z"
   },
   {
    "duration": 9,
    "start_time": "2024-02-16T16:50:05.686Z"
   },
   {
    "duration": 6,
    "start_time": "2024-02-16T16:50:37.023Z"
   },
   {
    "duration": 10,
    "start_time": "2024-02-16T16:50:45.424Z"
   },
   {
    "duration": 4,
    "start_time": "2024-02-16T16:51:47.037Z"
   },
   {
    "duration": 3,
    "start_time": "2024-02-16T16:54:28.692Z"
   },
   {
    "duration": 3,
    "start_time": "2024-02-16T16:54:44.719Z"
   },
   {
    "duration": 6,
    "start_time": "2024-02-16T16:56:15.613Z"
   },
   {
    "duration": 8,
    "start_time": "2024-02-16T16:57:33.832Z"
   },
   {
    "duration": 4,
    "start_time": "2024-02-16T16:57:58.673Z"
   },
   {
    "duration": 10,
    "start_time": "2024-02-16T16:58:02.556Z"
   },
   {
    "duration": 2,
    "start_time": "2024-02-16T16:58:06.465Z"
   },
   {
    "duration": 267,
    "start_time": "2024-02-16T16:59:21.911Z"
   },
   {
    "duration": 88,
    "start_time": "2024-02-16T17:01:34.933Z"
   },
   {
    "duration": 5,
    "start_time": "2024-02-16T17:01:50.423Z"
   },
   {
    "duration": 4,
    "start_time": "2024-02-16T17:01:57.766Z"
   },
   {
    "duration": 5,
    "start_time": "2024-02-16T17:02:02.036Z"
   },
   {
    "duration": 3,
    "start_time": "2024-02-16T17:02:08.237Z"
   },
   {
    "duration": 10,
    "start_time": "2024-02-16T17:02:46.351Z"
   },
   {
    "duration": 9,
    "start_time": "2024-02-16T17:02:53.258Z"
   },
   {
    "duration": 91,
    "start_time": "2024-02-16T17:02:59.033Z"
   },
   {
    "duration": 5,
    "start_time": "2024-02-16T17:02:59.764Z"
   },
   {
    "duration": 14,
    "start_time": "2024-02-16T17:04:17.996Z"
   },
   {
    "duration": 4,
    "start_time": "2024-02-16T17:04:34.373Z"
   },
   {
    "duration": 8,
    "start_time": "2024-02-16T17:04:45.424Z"
   },
   {
    "duration": 1422,
    "start_time": "2024-02-16T17:05:47.554Z"
   },
   {
    "duration": 864,
    "start_time": "2024-02-16T17:05:48.978Z"
   },
   {
    "duration": 5,
    "start_time": "2024-02-16T17:05:49.844Z"
   },
   {
    "duration": 23,
    "start_time": "2024-02-16T17:05:49.851Z"
   },
   {
    "duration": 132,
    "start_time": "2024-02-16T17:05:49.876Z"
   },
   {
    "duration": 149,
    "start_time": "2024-02-16T17:05:50.009Z"
   },
   {
    "duration": 806,
    "start_time": "2024-02-16T17:05:50.159Z"
   },
   {
    "duration": 6,
    "start_time": "2024-02-16T17:05:50.966Z"
   },
   {
    "duration": 79,
    "start_time": "2024-02-16T17:05:50.974Z"
   },
   {
    "duration": 475,
    "start_time": "2024-02-16T17:05:51.055Z"
   },
   {
    "duration": 12,
    "start_time": "2024-02-16T17:05:51.532Z"
   },
   {
    "duration": 26,
    "start_time": "2024-02-16T17:05:51.546Z"
   },
   {
    "duration": 223,
    "start_time": "2024-02-16T17:05:51.574Z"
   },
   {
    "duration": 232,
    "start_time": "2024-02-16T17:05:51.799Z"
   },
   {
    "duration": 174,
    "start_time": "2024-02-16T17:05:52.033Z"
   },
   {
    "duration": 19,
    "start_time": "2024-02-16T17:05:52.209Z"
   },
   {
    "duration": 6,
    "start_time": "2024-02-16T17:05:52.229Z"
   },
   {
    "duration": 21,
    "start_time": "2024-02-16T17:05:52.236Z"
   },
   {
    "duration": 6,
    "start_time": "2024-02-16T17:05:52.258Z"
   },
   {
    "duration": 16,
    "start_time": "2024-02-16T17:05:52.266Z"
   },
   {
    "duration": 36,
    "start_time": "2024-02-16T17:05:52.284Z"
   },
   {
    "duration": 21,
    "start_time": "2024-02-16T17:05:52.322Z"
   },
   {
    "duration": 5,
    "start_time": "2024-02-16T17:05:52.345Z"
   },
   {
    "duration": 483,
    "start_time": "2024-02-16T17:05:52.351Z"
   },
   {
    "duration": 9,
    "start_time": "2024-02-16T17:05:52.836Z"
   },
   {
    "duration": 16,
    "start_time": "2024-02-16T17:05:52.847Z"
   },
   {
    "duration": 22,
    "start_time": "2024-02-16T17:05:52.865Z"
   },
   {
    "duration": 46,
    "start_time": "2024-02-16T17:05:52.892Z"
   },
   {
    "duration": 10,
    "start_time": "2024-02-16T17:05:52.940Z"
   },
   {
    "duration": 23,
    "start_time": "2024-02-16T17:05:52.951Z"
   },
   {
    "duration": 18,
    "start_time": "2024-02-16T17:05:52.975Z"
   },
   {
    "duration": 46,
    "start_time": "2024-02-16T17:05:52.994Z"
   },
   {
    "duration": 64,
    "start_time": "2024-02-16T17:05:53.042Z"
   },
   {
    "duration": 4,
    "start_time": "2024-02-16T17:05:53.118Z"
   },
   {
    "duration": 79,
    "start_time": "2024-02-16T17:05:53.123Z"
   },
   {
    "duration": 101,
    "start_time": "2024-02-16T17:05:53.218Z"
   },
   {
    "duration": 85,
    "start_time": "2024-02-16T17:05:53.320Z"
   },
   {
    "duration": 12,
    "start_time": "2024-02-16T17:05:53.406Z"
   },
   {
    "duration": 50,
    "start_time": "2024-02-16T17:05:53.420Z"
   },
   {
    "duration": 65,
    "start_time": "2024-02-16T17:05:53.472Z"
   },
   {
    "duration": 53,
    "start_time": "2024-02-16T17:05:53.538Z"
   },
   {
    "duration": 77,
    "start_time": "2024-02-16T17:05:53.592Z"
   },
   {
    "duration": 21,
    "start_time": "2024-02-16T17:05:53.671Z"
   },
   {
    "duration": 55,
    "start_time": "2024-02-16T17:05:53.693Z"
   },
   {
    "duration": 4,
    "start_time": "2024-02-16T17:05:53.750Z"
   },
   {
    "duration": 19,
    "start_time": "2024-02-16T17:05:53.755Z"
   },
   {
    "duration": 24,
    "start_time": "2024-02-16T17:05:53.775Z"
   },
   {
    "duration": 9,
    "start_time": "2024-02-16T17:05:53.800Z"
   },
   {
    "duration": 5,
    "start_time": "2024-02-16T17:05:53.811Z"
   },
   {
    "duration": 18,
    "start_time": "2024-02-16T17:05:53.817Z"
   },
   {
    "duration": 3,
    "start_time": "2024-02-16T17:05:53.837Z"
   },
   {
    "duration": 13,
    "start_time": "2024-02-16T17:05:53.842Z"
   },
   {
    "duration": 9,
    "start_time": "2024-02-16T17:05:53.856Z"
   },
   {
    "duration": 3,
    "start_time": "2024-02-16T17:05:53.866Z"
   },
   {
    "duration": 4,
    "start_time": "2024-02-16T17:05:53.871Z"
   },
   {
    "duration": 292,
    "start_time": "2024-02-16T17:05:53.876Z"
   },
   {
    "duration": 171,
    "start_time": "2024-02-16T17:05:54.169Z"
   },
   {
    "duration": 83,
    "start_time": "2024-02-16T17:05:54.341Z"
   },
   {
    "duration": 94,
    "start_time": "2024-02-16T17:05:54.426Z"
   },
   {
    "duration": 19,
    "start_time": "2024-02-16T17:05:54.521Z"
   },
   {
    "duration": 7,
    "start_time": "2024-02-16T17:06:55.751Z"
   },
   {
    "duration": 7,
    "start_time": "2024-02-16T17:06:58.659Z"
   },
   {
    "duration": 4,
    "start_time": "2024-02-16T17:07:18.545Z"
   },
   {
    "duration": 7,
    "start_time": "2024-02-16T17:14:49.129Z"
   },
   {
    "duration": 4,
    "start_time": "2024-02-16T17:33:48.873Z"
   },
   {
    "duration": 70,
    "start_time": "2024-02-16T17:34:48.247Z"
   },
   {
    "duration": 3,
    "start_time": "2024-02-16T17:35:28.626Z"
   },
   {
    "duration": 2,
    "start_time": "2024-02-16T17:35:29.427Z"
   },
   {
    "duration": 280,
    "start_time": "2024-02-16T17:35:29.739Z"
   },
   {
    "duration": 3,
    "start_time": "2024-02-16T17:35:34.887Z"
   },
   {
    "duration": 3,
    "start_time": "2024-02-16T17:35:35.275Z"
   },
   {
    "duration": 274,
    "start_time": "2024-02-16T17:35:35.619Z"
   },
   {
    "duration": 3,
    "start_time": "2024-02-16T17:35:40.145Z"
   },
   {
    "duration": 3,
    "start_time": "2024-02-16T17:36:16.778Z"
   },
   {
    "duration": 110,
    "start_time": "2024-02-16T17:37:05.872Z"
   },
   {
    "duration": 12,
    "start_time": "2024-02-16T17:38:23.791Z"
   },
   {
    "duration": 73,
    "start_time": "2024-02-16T17:38:44.482Z"
   },
   {
    "duration": 77,
    "start_time": "2024-02-16T17:38:53.050Z"
   },
   {
    "duration": 71,
    "start_time": "2024-02-16T17:39:50.460Z"
   },
   {
    "duration": 83,
    "start_time": "2024-02-16T17:40:02.338Z"
   },
   {
    "duration": 3,
    "start_time": "2024-02-16T17:40:24.566Z"
   },
   {
    "duration": 3,
    "start_time": "2024-02-16T17:40:52.889Z"
   },
   {
    "duration": 3,
    "start_time": "2024-02-16T17:41:00.840Z"
   },
   {
    "duration": 3,
    "start_time": "2024-02-16T17:41:03.527Z"
   },
   {
    "duration": 29340,
    "start_time": "2024-02-16T17:41:28.472Z"
   },
   {
    "duration": 57,
    "start_time": "2024-02-16T17:42:18.655Z"
   },
   {
    "duration": 52,
    "start_time": "2024-02-16T17:43:06.834Z"
   },
   {
    "duration": 3,
    "start_time": "2024-02-16T17:43:38.681Z"
   },
   {
    "duration": 2,
    "start_time": "2024-02-16T17:43:39.929Z"
   },
   {
    "duration": 16,
    "start_time": "2024-02-16T17:43:40.305Z"
   },
   {
    "duration": 129,
    "start_time": "2024-02-16T17:44:05.311Z"
   },
   {
    "duration": 3,
    "start_time": "2024-02-16T17:44:05.672Z"
   },
   {
    "duration": 97,
    "start_time": "2024-02-16T17:44:11.444Z"
   },
   {
    "duration": 87,
    "start_time": "2024-02-16T17:44:19.540Z"
   },
   {
    "duration": 70,
    "start_time": "2024-02-16T17:44:21.419Z"
   },
   {
    "duration": 3,
    "start_time": "2024-02-16T17:45:11.822Z"
   },
   {
    "duration": 3,
    "start_time": "2024-02-16T17:45:20.711Z"
   },
   {
    "duration": 8,
    "start_time": "2024-02-16T17:45:45.213Z"
   },
   {
    "duration": 4,
    "start_time": "2024-02-16T17:46:19.690Z"
   },
   {
    "duration": 29405,
    "start_time": "2024-02-16T17:46:26.705Z"
   },
   {
    "duration": 12,
    "start_time": "2024-02-16T17:46:56.112Z"
   },
   {
    "duration": 3,
    "start_time": "2024-02-16T17:47:00.714Z"
   },
   {
    "duration": 55,
    "start_time": "2024-02-16T17:47:35.317Z"
   },
   {
    "duration": 0,
    "start_time": "2024-02-16T17:47:35.374Z"
   },
   {
    "duration": 0,
    "start_time": "2024-02-16T17:47:35.375Z"
   },
   {
    "duration": 5,
    "start_time": "2024-02-16T17:47:48.320Z"
   },
   {
    "duration": 5,
    "start_time": "2024-02-16T17:47:51.938Z"
   },
   {
    "duration": 122,
    "start_time": "2024-02-16T17:47:58.430Z"
   },
   {
    "duration": 1396,
    "start_time": "2024-02-16T17:48:08.630Z"
   },
   {
    "duration": 828,
    "start_time": "2024-02-16T17:48:10.027Z"
   },
   {
    "duration": 5,
    "start_time": "2024-02-16T17:48:10.856Z"
   },
   {
    "duration": 14,
    "start_time": "2024-02-16T17:48:10.863Z"
   },
   {
    "duration": 94,
    "start_time": "2024-02-16T17:48:10.878Z"
   },
   {
    "duration": 144,
    "start_time": "2024-02-16T17:48:10.974Z"
   },
   {
    "duration": 803,
    "start_time": "2024-02-16T17:48:11.119Z"
   },
   {
    "duration": 6,
    "start_time": "2024-02-16T17:48:11.923Z"
   },
   {
    "duration": 64,
    "start_time": "2024-02-16T17:48:11.930Z"
   },
   {
    "duration": 510,
    "start_time": "2024-02-16T17:48:11.997Z"
   },
   {
    "duration": 18,
    "start_time": "2024-02-16T17:48:12.508Z"
   },
   {
    "duration": 26,
    "start_time": "2024-02-16T17:48:12.528Z"
   },
   {
    "duration": 224,
    "start_time": "2024-02-16T17:48:12.556Z"
   },
   {
    "duration": 218,
    "start_time": "2024-02-16T17:48:12.782Z"
   },
   {
    "duration": 169,
    "start_time": "2024-02-16T17:48:13.002Z"
   },
   {
    "duration": 13,
    "start_time": "2024-02-16T17:48:13.173Z"
   },
   {
    "duration": 6,
    "start_time": "2024-02-16T17:48:13.187Z"
   },
   {
    "duration": 39,
    "start_time": "2024-02-16T17:48:13.194Z"
   },
   {
    "duration": 6,
    "start_time": "2024-02-16T17:48:13.235Z"
   },
   {
    "duration": 17,
    "start_time": "2024-02-16T17:48:13.242Z"
   },
   {
    "duration": 5,
    "start_time": "2024-02-16T17:48:13.260Z"
   },
   {
    "duration": 18,
    "start_time": "2024-02-16T17:48:13.266Z"
   },
   {
    "duration": 34,
    "start_time": "2024-02-16T17:48:13.286Z"
   },
   {
    "duration": 479,
    "start_time": "2024-02-16T17:48:13.321Z"
   },
   {
    "duration": 22,
    "start_time": "2024-02-16T17:48:13.802Z"
   },
   {
    "duration": 16,
    "start_time": "2024-02-16T17:48:13.826Z"
   },
   {
    "duration": 22,
    "start_time": "2024-02-16T17:48:13.844Z"
   },
   {
    "duration": 21,
    "start_time": "2024-02-16T17:48:13.871Z"
   },
   {
    "duration": 31,
    "start_time": "2024-02-16T17:48:13.894Z"
   },
   {
    "duration": 19,
    "start_time": "2024-02-16T17:48:13.927Z"
   },
   {
    "duration": 26,
    "start_time": "2024-02-16T17:48:13.948Z"
   },
   {
    "duration": 52,
    "start_time": "2024-02-16T17:48:13.975Z"
   },
   {
    "duration": 69,
    "start_time": "2024-02-16T17:48:14.029Z"
   },
   {
    "duration": 4,
    "start_time": "2024-02-16T17:48:14.099Z"
   },
   {
    "duration": 76,
    "start_time": "2024-02-16T17:48:14.117Z"
   },
   {
    "duration": 103,
    "start_time": "2024-02-16T17:48:14.195Z"
   },
   {
    "duration": 90,
    "start_time": "2024-02-16T17:48:14.300Z"
   },
   {
    "duration": 3,
    "start_time": "2024-02-16T17:48:14.392Z"
   },
   {
    "duration": 62,
    "start_time": "2024-02-16T17:48:14.397Z"
   },
   {
    "duration": 59,
    "start_time": "2024-02-16T17:48:14.461Z"
   },
   {
    "duration": 51,
    "start_time": "2024-02-16T17:48:14.522Z"
   },
   {
    "duration": 72,
    "start_time": "2024-02-16T17:48:14.575Z"
   },
   {
    "duration": 22,
    "start_time": "2024-02-16T17:48:14.648Z"
   },
   {
    "duration": 47,
    "start_time": "2024-02-16T17:48:14.671Z"
   },
   {
    "duration": 5,
    "start_time": "2024-02-16T17:48:14.719Z"
   },
   {
    "duration": 17,
    "start_time": "2024-02-16T17:48:14.726Z"
   },
   {
    "duration": 7,
    "start_time": "2024-02-16T17:48:14.744Z"
   },
   {
    "duration": 4,
    "start_time": "2024-02-16T17:48:14.752Z"
   },
   {
    "duration": 5,
    "start_time": "2024-02-16T17:48:14.757Z"
   },
   {
    "duration": 8,
    "start_time": "2024-02-16T17:48:14.763Z"
   },
   {
    "duration": 4,
    "start_time": "2024-02-16T17:48:14.773Z"
   },
   {
    "duration": 136,
    "start_time": "2024-02-16T17:48:14.778Z"
   },
   {
    "duration": 0,
    "start_time": "2024-02-16T17:48:14.918Z"
   },
   {
    "duration": 0,
    "start_time": "2024-02-16T17:48:14.919Z"
   },
   {
    "duration": 0,
    "start_time": "2024-02-16T17:48:14.920Z"
   },
   {
    "duration": 0,
    "start_time": "2024-02-16T17:48:14.921Z"
   },
   {
    "duration": 0,
    "start_time": "2024-02-16T17:48:14.922Z"
   },
   {
    "duration": 0,
    "start_time": "2024-02-16T17:48:14.923Z"
   },
   {
    "duration": 0,
    "start_time": "2024-02-16T17:48:14.923Z"
   },
   {
    "duration": 0,
    "start_time": "2024-02-16T17:48:14.924Z"
   },
   {
    "duration": 1,
    "start_time": "2024-02-16T17:48:14.925Z"
   },
   {
    "duration": 0,
    "start_time": "2024-02-16T17:48:14.927Z"
   },
   {
    "duration": 1,
    "start_time": "2024-02-16T17:48:14.927Z"
   },
   {
    "duration": 0,
    "start_time": "2024-02-16T17:48:14.928Z"
   },
   {
    "duration": 0,
    "start_time": "2024-02-16T17:48:14.929Z"
   },
   {
    "duration": 4,
    "start_time": "2024-02-16T17:48:22.953Z"
   },
   {
    "duration": 10,
    "start_time": "2024-02-16T17:48:31.944Z"
   },
   {
    "duration": 3,
    "start_time": "2024-02-16T17:48:37.516Z"
   },
   {
    "duration": 2,
    "start_time": "2024-02-16T17:48:38.231Z"
   },
   {
    "duration": 330,
    "start_time": "2024-02-16T17:48:38.391Z"
   },
   {
    "duration": 121,
    "start_time": "2024-02-16T17:48:38.722Z"
   },
   {
    "duration": 9,
    "start_time": "2024-02-16T17:48:44.775Z"
   },
   {
    "duration": 3,
    "start_time": "2024-02-16T17:49:13.169Z"
   },
   {
    "duration": 3,
    "start_time": "2024-02-16T17:49:13.416Z"
   },
   {
    "duration": 276,
    "start_time": "2024-02-16T17:49:13.748Z"
   },
   {
    "duration": 124,
    "start_time": "2024-02-16T17:49:20.224Z"
   },
   {
    "duration": 3,
    "start_time": "2024-02-16T17:49:45.362Z"
   },
   {
    "duration": 2,
    "start_time": "2024-02-16T17:49:48.423Z"
   },
   {
    "duration": 259,
    "start_time": "2024-02-16T17:49:48.870Z"
   },
   {
    "duration": 2,
    "start_time": "2024-02-16T17:50:26.695Z"
   },
   {
    "duration": 3,
    "start_time": "2024-02-16T17:50:27.103Z"
   },
   {
    "duration": 293,
    "start_time": "2024-02-16T17:50:27.496Z"
   },
   {
    "duration": 154,
    "start_time": "2024-02-16T17:50:28.319Z"
   },
   {
    "duration": 3,
    "start_time": "2024-02-16T17:51:51.930Z"
   },
   {
    "duration": 4,
    "start_time": "2024-02-16T17:51:52.160Z"
   },
   {
    "duration": 274,
    "start_time": "2024-02-16T17:51:52.448Z"
   },
   {
    "duration": 76,
    "start_time": "2024-02-16T17:51:55.252Z"
   },
   {
    "duration": 4,
    "start_time": "2024-02-16T17:51:59.774Z"
   },
   {
    "duration": 3,
    "start_time": "2024-02-16T17:52:02.360Z"
   },
   {
    "duration": 6,
    "start_time": "2024-02-16T17:52:02.550Z"
   },
   {
    "duration": 3,
    "start_time": "2024-02-16T17:52:02.719Z"
   },
   {
    "duration": 3,
    "start_time": "2024-02-16T17:52:03.554Z"
   },
   {
    "duration": 3,
    "start_time": "2024-02-16T17:52:08.702Z"
   },
   {
    "duration": 3,
    "start_time": "2024-02-16T17:52:09.114Z"
   },
   {
    "duration": 3,
    "start_time": "2024-02-16T17:52:09.512Z"
   },
   {
    "duration": 29175,
    "start_time": "2024-02-16T17:52:10.983Z"
   },
   {
    "duration": 1709,
    "start_time": "2024-02-16T17:52:40.160Z"
   },
   {
    "duration": 1694,
    "start_time": "2024-02-16T17:52:56.383Z"
   },
   {
    "duration": 3,
    "start_time": "2024-02-16T17:54:16.839Z"
   },
   {
    "duration": 2,
    "start_time": "2024-02-16T17:54:24.698Z"
   },
   {
    "duration": 3,
    "start_time": "2024-02-16T17:54:25.234Z"
   },
   {
    "duration": 29175,
    "start_time": "2024-02-16T17:54:25.911Z"
   },
   {
    "duration": 1683,
    "start_time": "2024-02-16T17:54:55.088Z"
   },
   {
    "duration": 7,
    "start_time": "2024-02-16T17:55:11.703Z"
   },
   {
    "duration": 4,
    "start_time": "2024-02-16T17:55:32.878Z"
   },
   {
    "duration": 6,
    "start_time": "2024-02-16T17:55:34.752Z"
   },
   {
    "duration": 1415,
    "start_time": "2024-02-16T17:55:55.724Z"
   },
   {
    "duration": 847,
    "start_time": "2024-02-16T17:55:57.140Z"
   },
   {
    "duration": 4,
    "start_time": "2024-02-16T17:55:57.989Z"
   },
   {
    "duration": 23,
    "start_time": "2024-02-16T17:55:57.995Z"
   },
   {
    "duration": 128,
    "start_time": "2024-02-16T17:55:58.020Z"
   },
   {
    "duration": 135,
    "start_time": "2024-02-16T17:55:58.149Z"
   },
   {
    "duration": 835,
    "start_time": "2024-02-16T17:55:58.286Z"
   },
   {
    "duration": 5,
    "start_time": "2024-02-16T17:55:59.123Z"
   },
   {
    "duration": 66,
    "start_time": "2024-02-16T17:55:59.130Z"
   },
   {
    "duration": 523,
    "start_time": "2024-02-16T17:55:59.198Z"
   },
   {
    "duration": 11,
    "start_time": "2024-02-16T17:55:59.723Z"
   },
   {
    "duration": 19,
    "start_time": "2024-02-16T17:55:59.736Z"
   },
   {
    "duration": 208,
    "start_time": "2024-02-16T17:55:59.756Z"
   },
   {
    "duration": 230,
    "start_time": "2024-02-16T17:55:59.966Z"
   },
   {
    "duration": 192,
    "start_time": "2024-02-16T17:56:00.197Z"
   },
   {
    "duration": 13,
    "start_time": "2024-02-16T17:56:00.390Z"
   },
   {
    "duration": 18,
    "start_time": "2024-02-16T17:56:00.404Z"
   },
   {
    "duration": 38,
    "start_time": "2024-02-16T17:56:00.424Z"
   },
   {
    "duration": 14,
    "start_time": "2024-02-16T17:56:00.463Z"
   },
   {
    "duration": 44,
    "start_time": "2024-02-16T17:56:00.478Z"
   },
   {
    "duration": 6,
    "start_time": "2024-02-16T17:56:00.524Z"
   },
   {
    "duration": 51,
    "start_time": "2024-02-16T17:56:00.531Z"
   },
   {
    "duration": 7,
    "start_time": "2024-02-16T17:56:00.583Z"
   },
   {
    "duration": 514,
    "start_time": "2024-02-16T17:56:00.592Z"
   },
   {
    "duration": 15,
    "start_time": "2024-02-16T17:56:01.108Z"
   },
   {
    "duration": 45,
    "start_time": "2024-02-16T17:56:01.125Z"
   },
   {
    "duration": 72,
    "start_time": "2024-02-16T17:56:01.172Z"
   },
   {
    "duration": 30,
    "start_time": "2024-02-16T17:56:01.249Z"
   },
   {
    "duration": 12,
    "start_time": "2024-02-16T17:56:01.281Z"
   },
   {
    "duration": 33,
    "start_time": "2024-02-16T17:56:01.295Z"
   },
   {
    "duration": 32,
    "start_time": "2024-02-16T17:56:01.329Z"
   },
   {
    "duration": 45,
    "start_time": "2024-02-16T17:56:01.363Z"
   },
   {
    "duration": 84,
    "start_time": "2024-02-16T17:56:01.410Z"
   },
   {
    "duration": 24,
    "start_time": "2024-02-16T17:56:01.495Z"
   },
   {
    "duration": 102,
    "start_time": "2024-02-16T17:56:01.520Z"
   },
   {
    "duration": 101,
    "start_time": "2024-02-16T17:56:01.624Z"
   },
   {
    "duration": 98,
    "start_time": "2024-02-16T17:56:01.727Z"
   },
   {
    "duration": 4,
    "start_time": "2024-02-16T17:56:01.827Z"
   },
   {
    "duration": 60,
    "start_time": "2024-02-16T17:56:01.833Z"
   },
   {
    "duration": 70,
    "start_time": "2024-02-16T17:56:01.895Z"
   },
   {
    "duration": 67,
    "start_time": "2024-02-16T17:56:01.967Z"
   },
   {
    "duration": 57,
    "start_time": "2024-02-16T17:56:02.035Z"
   },
   {
    "duration": 32,
    "start_time": "2024-02-16T17:56:02.093Z"
   },
   {
    "duration": 36,
    "start_time": "2024-02-16T17:56:02.126Z"
   },
   {
    "duration": 4,
    "start_time": "2024-02-16T17:56:02.163Z"
   },
   {
    "duration": 20,
    "start_time": "2024-02-16T17:56:02.168Z"
   },
   {
    "duration": 19,
    "start_time": "2024-02-16T17:56:02.189Z"
   },
   {
    "duration": 8,
    "start_time": "2024-02-16T17:56:02.210Z"
   },
   {
    "duration": 9,
    "start_time": "2024-02-16T17:56:02.219Z"
   },
   {
    "duration": 16,
    "start_time": "2024-02-16T17:56:02.230Z"
   },
   {
    "duration": 5,
    "start_time": "2024-02-16T17:56:02.247Z"
   },
   {
    "duration": 6,
    "start_time": "2024-02-16T17:56:02.253Z"
   },
   {
    "duration": 20,
    "start_time": "2024-02-16T17:56:02.260Z"
   },
   {
    "duration": 3,
    "start_time": "2024-02-16T17:56:02.281Z"
   },
   {
    "duration": 106,
    "start_time": "2024-02-16T17:56:02.286Z"
   },
   {
    "duration": 0,
    "start_time": "2024-02-16T17:56:02.393Z"
   },
   {
    "duration": 0,
    "start_time": "2024-02-16T17:56:02.394Z"
   },
   {
    "duration": 0,
    "start_time": "2024-02-16T17:56:02.396Z"
   },
   {
    "duration": 0,
    "start_time": "2024-02-16T17:56:02.397Z"
   },
   {
    "duration": 0,
    "start_time": "2024-02-16T17:56:02.398Z"
   },
   {
    "duration": 0,
    "start_time": "2024-02-16T17:56:02.399Z"
   },
   {
    "duration": 0,
    "start_time": "2024-02-16T17:56:02.400Z"
   },
   {
    "duration": 0,
    "start_time": "2024-02-16T17:56:02.418Z"
   },
   {
    "duration": 0,
    "start_time": "2024-02-16T17:56:02.419Z"
   },
   {
    "duration": 0,
    "start_time": "2024-02-16T17:56:02.420Z"
   },
   {
    "duration": 3,
    "start_time": "2024-02-16T17:56:53.357Z"
   },
   {
    "duration": 274,
    "start_time": "2024-02-16T17:56:54.651Z"
   },
   {
    "duration": 133,
    "start_time": "2024-02-16T17:56:54.927Z"
   },
   {
    "duration": 60,
    "start_time": "2024-02-16T17:56:55.062Z"
   },
   {
    "duration": 96,
    "start_time": "2024-02-16T17:56:55.124Z"
   },
   {
    "duration": 8,
    "start_time": "2024-02-16T17:56:55.222Z"
   },
   {
    "duration": 3,
    "start_time": "2024-02-16T17:56:55.346Z"
   },
   {
    "duration": 2,
    "start_time": "2024-02-16T17:56:55.506Z"
   },
   {
    "duration": 3,
    "start_time": "2024-02-16T17:56:55.646Z"
   },
   {
    "duration": 30609,
    "start_time": "2024-02-16T17:56:55.793Z"
   },
   {
    "duration": 1823,
    "start_time": "2024-02-16T17:57:26.404Z"
   },
   {
    "duration": 4,
    "start_time": "2024-02-16T17:59:08.687Z"
   },
   {
    "duration": 4,
    "start_time": "2024-02-16T17:59:38.907Z"
   },
   {
    "duration": 4,
    "start_time": "2024-02-16T17:59:52.834Z"
   },
   {
    "duration": 3,
    "start_time": "2024-02-16T18:00:02.183Z"
   },
   {
    "duration": 3,
    "start_time": "2024-02-16T18:00:25.876Z"
   },
   {
    "duration": 7,
    "start_time": "2024-02-16T18:00:39.166Z"
   },
   {
    "duration": 4,
    "start_time": "2024-02-16T18:07:55.207Z"
   },
   {
    "duration": 3,
    "start_time": "2024-02-16T18:08:19.525Z"
   },
   {
    "duration": 13,
    "start_time": "2024-02-16T18:09:59.293Z"
   },
   {
    "duration": 8,
    "start_time": "2024-02-16T18:11:45.182Z"
   },
   {
    "duration": 3,
    "start_time": "2024-02-16T18:12:26.214Z"
   },
   {
    "duration": 3,
    "start_time": "2024-02-16T18:12:32.272Z"
   },
   {
    "duration": 332,
    "start_time": "2024-02-16T18:13:07.615Z"
   },
   {
    "duration": 343,
    "start_time": "2024-02-16T18:13:51.827Z"
   },
   {
    "duration": 415,
    "start_time": "2024-02-16T18:17:25.345Z"
   },
   {
    "duration": 2,
    "start_time": "2024-02-16T18:18:36.830Z"
   },
   {
    "duration": 3,
    "start_time": "2024-02-16T18:18:39.080Z"
   },
   {
    "duration": 374,
    "start_time": "2024-02-16T18:18:40.120Z"
   },
   {
    "duration": 93,
    "start_time": "2024-02-16T18:18:45.106Z"
   },
   {
    "duration": 10,
    "start_time": "2024-02-16T18:20:58.857Z"
   },
   {
    "duration": 342,
    "start_time": "2024-02-16T18:21:01.572Z"
   },
   {
    "duration": 309,
    "start_time": "2024-02-16T18:21:14.482Z"
   },
   {
    "duration": 325,
    "start_time": "2024-02-16T18:21:31.384Z"
   },
   {
    "duration": 310,
    "start_time": "2024-02-16T18:21:57.271Z"
   },
   {
    "duration": 2,
    "start_time": "2024-02-16T18:21:58.943Z"
   },
   {
    "duration": 3,
    "start_time": "2024-02-16T18:21:59.426Z"
   },
   {
    "duration": 117,
    "start_time": "2024-02-16T18:22:01.252Z"
   },
   {
    "duration": 5,
    "start_time": "2024-02-16T18:22:19.474Z"
   },
   {
    "duration": 15,
    "start_time": "2024-02-16T18:23:01.993Z"
   },
   {
    "duration": 12,
    "start_time": "2024-02-16T18:27:09.490Z"
   },
   {
    "duration": 3,
    "start_time": "2024-02-16T18:27:17.077Z"
   },
   {
    "duration": 9,
    "start_time": "2024-02-16T18:27:47.183Z"
   },
   {
    "duration": 3,
    "start_time": "2024-02-16T18:27:49.122Z"
   },
   {
    "duration": 3,
    "start_time": "2024-02-16T18:28:01.339Z"
   },
   {
    "duration": 3,
    "start_time": "2024-02-16T18:28:01.643Z"
   },
   {
    "duration": 4,
    "start_time": "2024-02-16T18:28:19.408Z"
   },
   {
    "duration": 189070,
    "start_time": "2024-02-16T18:28:44.843Z"
   },
   {
    "duration": 2,
    "start_time": "2024-02-16T18:31:53.915Z"
   },
   {
    "duration": 14,
    "start_time": "2024-02-16T18:31:53.919Z"
   },
   {
    "duration": 1434,
    "start_time": "2024-02-16T18:31:57.022Z"
   },
   {
    "duration": 857,
    "start_time": "2024-02-16T18:31:58.458Z"
   },
   {
    "duration": 5,
    "start_time": "2024-02-16T18:31:59.317Z"
   },
   {
    "duration": 13,
    "start_time": "2024-02-16T18:31:59.324Z"
   },
   {
    "duration": 98,
    "start_time": "2024-02-16T18:31:59.339Z"
   },
   {
    "duration": 135,
    "start_time": "2024-02-16T18:31:59.439Z"
   },
   {
    "duration": 811,
    "start_time": "2024-02-16T18:31:59.576Z"
   },
   {
    "duration": 6,
    "start_time": "2024-02-16T18:32:00.388Z"
   },
   {
    "duration": 84,
    "start_time": "2024-02-16T18:32:00.395Z"
   },
   {
    "duration": 515,
    "start_time": "2024-02-16T18:32:00.482Z"
   },
   {
    "duration": 20,
    "start_time": "2024-02-16T18:32:00.998Z"
   },
   {
    "duration": 42,
    "start_time": "2024-02-16T18:32:01.019Z"
   },
   {
    "duration": 246,
    "start_time": "2024-02-16T18:32:01.063Z"
   },
   {
    "duration": 222,
    "start_time": "2024-02-16T18:32:01.311Z"
   },
   {
    "duration": 184,
    "start_time": "2024-02-16T18:32:01.535Z"
   },
   {
    "duration": 14,
    "start_time": "2024-02-16T18:32:01.720Z"
   },
   {
    "duration": 29,
    "start_time": "2024-02-16T18:32:01.735Z"
   },
   {
    "duration": 46,
    "start_time": "2024-02-16T18:32:01.766Z"
   },
   {
    "duration": 30,
    "start_time": "2024-02-16T18:32:01.814Z"
   },
   {
    "duration": 33,
    "start_time": "2024-02-16T18:32:01.845Z"
   },
   {
    "duration": 15,
    "start_time": "2024-02-16T18:32:01.880Z"
   },
   {
    "duration": 32,
    "start_time": "2024-02-16T18:32:01.897Z"
   },
   {
    "duration": 16,
    "start_time": "2024-02-16T18:32:01.931Z"
   },
   {
    "duration": 520,
    "start_time": "2024-02-16T18:32:01.949Z"
   },
   {
    "duration": 9,
    "start_time": "2024-02-16T18:32:02.471Z"
   },
   {
    "duration": 34,
    "start_time": "2024-02-16T18:32:02.481Z"
   },
   {
    "duration": 22,
    "start_time": "2024-02-16T18:32:02.516Z"
   },
   {
    "duration": 21,
    "start_time": "2024-02-16T18:32:02.541Z"
   },
   {
    "duration": 16,
    "start_time": "2024-02-16T18:32:02.563Z"
   },
   {
    "duration": 19,
    "start_time": "2024-02-16T18:32:02.581Z"
   },
   {
    "duration": 18,
    "start_time": "2024-02-16T18:32:02.617Z"
   },
   {
    "duration": 27,
    "start_time": "2024-02-16T18:32:02.637Z"
   },
   {
    "duration": 87,
    "start_time": "2024-02-16T18:32:02.666Z"
   },
   {
    "duration": 11,
    "start_time": "2024-02-16T18:32:02.754Z"
   },
   {
    "duration": 92,
    "start_time": "2024-02-16T18:32:02.766Z"
   },
   {
    "duration": 111,
    "start_time": "2024-02-16T18:32:02.859Z"
   },
   {
    "duration": 92,
    "start_time": "2024-02-16T18:32:02.972Z"
   },
   {
    "duration": 4,
    "start_time": "2024-02-16T18:32:03.066Z"
   },
   {
    "duration": 65,
    "start_time": "2024-02-16T18:32:03.071Z"
   },
   {
    "duration": 86,
    "start_time": "2024-02-16T18:32:03.138Z"
   },
   {
    "duration": 57,
    "start_time": "2024-02-16T18:32:03.226Z"
   },
   {
    "duration": 74,
    "start_time": "2024-02-16T18:32:03.285Z"
   },
   {
    "duration": 23,
    "start_time": "2024-02-16T18:32:03.361Z"
   },
   {
    "duration": 48,
    "start_time": "2024-02-16T18:32:03.385Z"
   },
   {
    "duration": 4,
    "start_time": "2024-02-16T18:32:03.435Z"
   },
   {
    "duration": 123,
    "start_time": "2024-02-16T18:32:03.441Z"
   },
   {
    "duration": 0,
    "start_time": "2024-02-16T18:32:03.565Z"
   },
   {
    "duration": 0,
    "start_time": "2024-02-16T18:32:03.567Z"
   },
   {
    "duration": 0,
    "start_time": "2024-02-16T18:32:03.568Z"
   },
   {
    "duration": 0,
    "start_time": "2024-02-16T18:32:03.570Z"
   },
   {
    "duration": 0,
    "start_time": "2024-02-16T18:32:03.571Z"
   },
   {
    "duration": 0,
    "start_time": "2024-02-16T18:32:03.572Z"
   },
   {
    "duration": 0,
    "start_time": "2024-02-16T18:32:03.573Z"
   },
   {
    "duration": 0,
    "start_time": "2024-02-16T18:32:03.575Z"
   },
   {
    "duration": 0,
    "start_time": "2024-02-16T18:32:03.576Z"
   },
   {
    "duration": 0,
    "start_time": "2024-02-16T18:32:03.577Z"
   },
   {
    "duration": 0,
    "start_time": "2024-02-16T18:32:03.578Z"
   },
   {
    "duration": 0,
    "start_time": "2024-02-16T18:32:03.580Z"
   },
   {
    "duration": 0,
    "start_time": "2024-02-16T18:32:03.581Z"
   },
   {
    "duration": 0,
    "start_time": "2024-02-16T18:32:03.583Z"
   },
   {
    "duration": 0,
    "start_time": "2024-02-16T18:32:03.584Z"
   },
   {
    "duration": 0,
    "start_time": "2024-02-16T18:32:03.585Z"
   },
   {
    "duration": 0,
    "start_time": "2024-02-16T18:32:03.586Z"
   },
   {
    "duration": 0,
    "start_time": "2024-02-16T18:32:03.619Z"
   },
   {
    "duration": 0,
    "start_time": "2024-02-16T18:32:03.621Z"
   },
   {
    "duration": 0,
    "start_time": "2024-02-16T18:32:03.624Z"
   },
   {
    "duration": 0,
    "start_time": "2024-02-16T18:32:03.625Z"
   },
   {
    "duration": 0,
    "start_time": "2024-02-16T18:32:03.627Z"
   },
   {
    "duration": 0,
    "start_time": "2024-02-16T18:32:03.628Z"
   },
   {
    "duration": 0,
    "start_time": "2024-02-16T18:32:03.629Z"
   },
   {
    "duration": 0,
    "start_time": "2024-02-16T18:32:03.630Z"
   },
   {
    "duration": 0,
    "start_time": "2024-02-16T18:32:03.631Z"
   },
   {
    "duration": 0,
    "start_time": "2024-02-16T18:32:03.632Z"
   },
   {
    "duration": 0,
    "start_time": "2024-02-16T18:32:03.633Z"
   },
   {
    "duration": 0,
    "start_time": "2024-02-16T18:32:03.635Z"
   },
   {
    "duration": 1441,
    "start_time": "2024-02-16T18:32:19.990Z"
   },
   {
    "duration": 834,
    "start_time": "2024-02-16T18:32:21.432Z"
   },
   {
    "duration": 5,
    "start_time": "2024-02-16T18:32:22.267Z"
   },
   {
    "duration": 26,
    "start_time": "2024-02-16T18:32:22.274Z"
   },
   {
    "duration": 90,
    "start_time": "2024-02-16T18:32:22.302Z"
   },
   {
    "duration": 150,
    "start_time": "2024-02-16T18:32:22.393Z"
   },
   {
    "duration": 815,
    "start_time": "2024-02-16T18:32:22.544Z"
   },
   {
    "duration": 6,
    "start_time": "2024-02-16T18:32:23.360Z"
   },
   {
    "duration": 92,
    "start_time": "2024-02-16T18:32:23.367Z"
   },
   {
    "duration": 478,
    "start_time": "2024-02-16T18:32:23.461Z"
   },
   {
    "duration": 12,
    "start_time": "2024-02-16T18:32:23.940Z"
   },
   {
    "duration": 46,
    "start_time": "2024-02-16T18:32:23.954Z"
   },
   {
    "duration": 203,
    "start_time": "2024-02-16T18:32:24.001Z"
   },
   {
    "duration": 215,
    "start_time": "2024-02-16T18:32:24.206Z"
   },
   {
    "duration": 168,
    "start_time": "2024-02-16T18:32:24.422Z"
   },
   {
    "duration": 12,
    "start_time": "2024-02-16T18:32:24.591Z"
   },
   {
    "duration": 14,
    "start_time": "2024-02-16T18:32:24.604Z"
   },
   {
    "duration": 25,
    "start_time": "2024-02-16T18:32:24.620Z"
   },
   {
    "duration": 27,
    "start_time": "2024-02-16T18:32:24.647Z"
   },
   {
    "duration": 31,
    "start_time": "2024-02-16T18:32:24.676Z"
   },
   {
    "duration": 12,
    "start_time": "2024-02-16T18:32:24.709Z"
   },
   {
    "duration": 35,
    "start_time": "2024-02-16T18:32:24.722Z"
   },
   {
    "duration": 4,
    "start_time": "2024-02-16T18:32:24.759Z"
   },
   {
    "duration": 485,
    "start_time": "2024-02-16T18:32:24.765Z"
   },
   {
    "duration": 12,
    "start_time": "2024-02-16T18:32:25.252Z"
   },
   {
    "duration": 21,
    "start_time": "2024-02-16T18:32:25.266Z"
   },
   {
    "duration": 22,
    "start_time": "2024-02-16T18:32:25.289Z"
   },
   {
    "duration": 22,
    "start_time": "2024-02-16T18:32:25.320Z"
   },
   {
    "duration": 11,
    "start_time": "2024-02-16T18:32:25.343Z"
   },
   {
    "duration": 25,
    "start_time": "2024-02-16T18:32:25.355Z"
   },
   {
    "duration": 39,
    "start_time": "2024-02-16T18:32:25.381Z"
   },
   {
    "duration": 25,
    "start_time": "2024-02-16T18:32:25.421Z"
   },
   {
    "duration": 80,
    "start_time": "2024-02-16T18:32:25.447Z"
   },
   {
    "duration": 6,
    "start_time": "2024-02-16T18:32:25.529Z"
   },
   {
    "duration": 103,
    "start_time": "2024-02-16T18:32:25.536Z"
   },
   {
    "duration": 107,
    "start_time": "2024-02-16T18:32:25.641Z"
   },
   {
    "duration": 94,
    "start_time": "2024-02-16T18:32:25.750Z"
   },
   {
    "duration": 3,
    "start_time": "2024-02-16T18:32:25.846Z"
   },
   {
    "duration": 75,
    "start_time": "2024-02-16T18:32:25.851Z"
   },
   {
    "duration": 62,
    "start_time": "2024-02-16T18:32:25.927Z"
   },
   {
    "duration": 62,
    "start_time": "2024-02-16T18:32:25.990Z"
   },
   {
    "duration": 66,
    "start_time": "2024-02-16T18:32:26.054Z"
   },
   {
    "duration": 22,
    "start_time": "2024-02-16T18:32:26.122Z"
   },
   {
    "duration": 36,
    "start_time": "2024-02-16T18:32:26.146Z"
   },
   {
    "duration": 5,
    "start_time": "2024-02-16T18:32:26.183Z"
   },
   {
    "duration": 4,
    "start_time": "2024-02-16T18:32:26.217Z"
   },
   {
    "duration": 25,
    "start_time": "2024-02-16T18:32:26.222Z"
   },
   {
    "duration": 18,
    "start_time": "2024-02-16T18:32:26.248Z"
   },
   {
    "duration": 12,
    "start_time": "2024-02-16T18:32:26.268Z"
   },
   {
    "duration": 23,
    "start_time": "2024-02-16T18:32:26.281Z"
   },
   {
    "duration": 10,
    "start_time": "2024-02-16T18:32:26.305Z"
   },
   {
    "duration": 22,
    "start_time": "2024-02-16T18:32:26.316Z"
   },
   {
    "duration": 297,
    "start_time": "2024-02-16T18:32:26.339Z"
   },
   {
    "duration": 181,
    "start_time": "2024-02-16T18:32:26.638Z"
   },
   {
    "duration": 5,
    "start_time": "2024-02-16T18:32:26.821Z"
   },
   {
    "duration": 5,
    "start_time": "2024-02-16T18:32:26.918Z"
   },
   {
    "duration": 8,
    "start_time": "2024-02-16T18:32:26.925Z"
   },
   {
    "duration": 4,
    "start_time": "2024-02-16T18:32:26.934Z"
   },
   {
    "duration": 5,
    "start_time": "2024-02-16T18:32:26.939Z"
   },
   {
    "duration": 3,
    "start_time": "2024-02-16T18:32:26.945Z"
   },
   {
    "duration": 30565,
    "start_time": "2024-02-16T18:32:26.950Z"
   },
   {
    "duration": 1767,
    "start_time": "2024-02-16T18:32:57.516Z"
   },
   {
    "duration": 4,
    "start_time": "2024-02-16T18:32:59.285Z"
   },
   {
    "duration": 5,
    "start_time": "2024-02-16T18:32:59.291Z"
   },
   {
    "duration": 25,
    "start_time": "2024-02-16T18:32:59.297Z"
   },
   {
    "duration": 14,
    "start_time": "2024-02-16T18:32:59.323Z"
   },
   {
    "duration": 367,
    "start_time": "2024-02-16T18:32:59.339Z"
   },
   {
    "duration": 3,
    "start_time": "2024-02-16T18:32:59.707Z"
   },
   {
    "duration": 116,
    "start_time": "2024-02-16T18:32:59.712Z"
   },
   {
    "duration": 0,
    "start_time": "2024-02-16T18:32:59.830Z"
   },
   {
    "duration": 0,
    "start_time": "2024-02-16T18:32:59.831Z"
   },
   {
    "duration": 0,
    "start_time": "2024-02-16T18:32:59.832Z"
   },
   {
    "duration": 0,
    "start_time": "2024-02-16T18:32:59.834Z"
   },
   {
    "duration": 3,
    "start_time": "2024-02-16T18:33:20.273Z"
   },
   {
    "duration": 3,
    "start_time": "2024-02-16T18:33:21.358Z"
   },
   {
    "duration": 1416,
    "start_time": "2024-02-16T18:41:42.428Z"
   },
   {
    "duration": 817,
    "start_time": "2024-02-16T18:41:43.846Z"
   },
   {
    "duration": 6,
    "start_time": "2024-02-16T18:41:44.664Z"
   },
   {
    "duration": 15,
    "start_time": "2024-02-16T18:41:44.671Z"
   },
   {
    "duration": 109,
    "start_time": "2024-02-16T18:41:44.687Z"
   },
   {
    "duration": 158,
    "start_time": "2024-02-16T18:41:44.797Z"
   },
   {
    "duration": 795,
    "start_time": "2024-02-16T18:41:44.957Z"
   },
   {
    "duration": 7,
    "start_time": "2024-02-16T18:41:45.754Z"
   },
   {
    "duration": 77,
    "start_time": "2024-02-16T18:41:45.763Z"
   },
   {
    "duration": 513,
    "start_time": "2024-02-16T18:41:45.843Z"
   },
   {
    "duration": 12,
    "start_time": "2024-02-16T18:41:46.358Z"
   },
   {
    "duration": 24,
    "start_time": "2024-02-16T18:41:46.371Z"
   },
   {
    "duration": 213,
    "start_time": "2024-02-16T18:41:46.396Z"
   },
   {
    "duration": 218,
    "start_time": "2024-02-16T18:41:46.611Z"
   },
   {
    "duration": 172,
    "start_time": "2024-02-16T18:41:46.831Z"
   },
   {
    "duration": 24,
    "start_time": "2024-02-16T18:41:47.004Z"
   },
   {
    "duration": 6,
    "start_time": "2024-02-16T18:41:47.029Z"
   },
   {
    "duration": 20,
    "start_time": "2024-02-16T18:41:47.036Z"
   },
   {
    "duration": 5,
    "start_time": "2024-02-16T18:41:47.057Z"
   },
   {
    "duration": 16,
    "start_time": "2024-02-16T18:41:47.063Z"
   },
   {
    "duration": 4,
    "start_time": "2024-02-16T18:41:47.080Z"
   },
   {
    "duration": 19,
    "start_time": "2024-02-16T18:41:47.117Z"
   },
   {
    "duration": 5,
    "start_time": "2024-02-16T18:41:47.137Z"
   },
   {
    "duration": 512,
    "start_time": "2024-02-16T18:41:47.143Z"
   },
   {
    "duration": 11,
    "start_time": "2024-02-16T18:41:47.656Z"
   },
   {
    "duration": 19,
    "start_time": "2024-02-16T18:41:47.669Z"
   },
   {
    "duration": 42,
    "start_time": "2024-02-16T18:41:47.689Z"
   },
   {
    "duration": 21,
    "start_time": "2024-02-16T18:41:47.735Z"
   },
   {
    "duration": 9,
    "start_time": "2024-02-16T18:41:47.758Z"
   },
   {
    "duration": 18,
    "start_time": "2024-02-16T18:41:47.769Z"
   },
   {
    "duration": 37,
    "start_time": "2024-02-16T18:41:47.789Z"
   },
   {
    "duration": 26,
    "start_time": "2024-02-16T18:41:47.827Z"
   },
   {
    "duration": 89,
    "start_time": "2024-02-16T18:41:47.855Z"
   },
   {
    "duration": 3,
    "start_time": "2024-02-16T18:41:47.946Z"
   },
   {
    "duration": 101,
    "start_time": "2024-02-16T18:41:47.951Z"
   },
   {
    "duration": 100,
    "start_time": "2024-02-16T18:41:48.053Z"
   },
   {
    "duration": 99,
    "start_time": "2024-02-16T18:41:48.154Z"
   },
   {
    "duration": 4,
    "start_time": "2024-02-16T18:41:48.255Z"
   },
   {
    "duration": 65,
    "start_time": "2024-02-16T18:41:48.260Z"
   },
   {
    "duration": 54,
    "start_time": "2024-02-16T18:41:48.326Z"
   },
   {
    "duration": 62,
    "start_time": "2024-02-16T18:41:48.382Z"
   },
   {
    "duration": 59,
    "start_time": "2024-02-16T18:41:48.446Z"
   },
   {
    "duration": 32,
    "start_time": "2024-02-16T18:41:48.506Z"
   },
   {
    "duration": 42,
    "start_time": "2024-02-16T18:41:48.540Z"
   },
   {
    "duration": 5,
    "start_time": "2024-02-16T18:41:48.584Z"
   },
   {
    "duration": 3,
    "start_time": "2024-02-16T18:41:48.591Z"
   },
   {
    "duration": 12,
    "start_time": "2024-02-16T18:41:48.618Z"
   },
   {
    "duration": 5,
    "start_time": "2024-02-16T18:41:48.631Z"
   },
   {
    "duration": 4,
    "start_time": "2024-02-16T18:41:48.637Z"
   },
   {
    "duration": 8,
    "start_time": "2024-02-16T18:41:48.643Z"
   },
   {
    "duration": 3,
    "start_time": "2024-02-16T18:41:48.652Z"
   },
   {
    "duration": 3,
    "start_time": "2024-02-16T18:41:48.657Z"
   },
   {
    "duration": 330,
    "start_time": "2024-02-16T18:41:48.661Z"
   },
   {
    "duration": 159,
    "start_time": "2024-02-16T18:41:48.993Z"
   },
   {
    "duration": 65,
    "start_time": "2024-02-16T18:41:49.154Z"
   },
   {
    "duration": 8,
    "start_time": "2024-02-16T18:41:49.221Z"
   },
   {
    "duration": 92,
    "start_time": "2024-02-16T18:41:49.232Z"
   },
   {
    "duration": 3,
    "start_time": "2024-02-16T18:41:49.326Z"
   },
   {
    "duration": 3,
    "start_time": "2024-02-16T18:41:49.331Z"
   },
   {
    "duration": 4,
    "start_time": "2024-02-16T18:41:49.336Z"
   },
   {
    "duration": 30733,
    "start_time": "2024-02-16T18:41:49.342Z"
   },
   {
    "duration": 1755,
    "start_time": "2024-02-16T18:42:20.077Z"
   },
   {
    "duration": 4,
    "start_time": "2024-02-16T18:42:21.833Z"
   },
   {
    "duration": 22,
    "start_time": "2024-02-16T18:42:21.839Z"
   },
   {
    "duration": 34,
    "start_time": "2024-02-16T18:42:21.863Z"
   },
   {
    "duration": 41,
    "start_time": "2024-02-16T18:42:21.898Z"
   },
   {
    "duration": 349,
    "start_time": "2024-02-16T18:42:21.940Z"
   },
   {
    "duration": 3,
    "start_time": "2024-02-16T18:42:22.290Z"
   },
   {
    "duration": 131,
    "start_time": "2024-02-16T18:42:22.294Z"
   },
   {
    "duration": 0,
    "start_time": "2024-02-16T18:42:22.428Z"
   },
   {
    "duration": 0,
    "start_time": "2024-02-16T18:42:22.429Z"
   },
   {
    "duration": 0,
    "start_time": "2024-02-16T18:42:22.430Z"
   },
   {
    "duration": 0,
    "start_time": "2024-02-16T18:42:22.431Z"
   },
   {
    "duration": 0,
    "start_time": "2024-02-16T18:42:22.432Z"
   },
   {
    "duration": 3,
    "start_time": "2024-02-16T18:42:45.881Z"
   },
   {
    "duration": 3,
    "start_time": "2024-02-16T18:42:46.063Z"
   },
   {
    "duration": 113031,
    "start_time": "2024-02-16T18:42:46.647Z"
   },
   {
    "duration": 15,
    "start_time": "2024-02-16T18:44:44.413Z"
   },
   {
    "duration": 9,
    "start_time": "2024-02-16T18:45:08.280Z"
   },
   {
    "duration": 96,
    "start_time": "2024-02-16T18:45:42.491Z"
   },
   {
    "duration": 97,
    "start_time": "2024-02-16T18:45:50.872Z"
   },
   {
    "duration": 5,
    "start_time": "2024-02-16T18:46:32.808Z"
   },
   {
    "duration": 3,
    "start_time": "2024-02-16T18:47:02.536Z"
   },
   {
    "duration": 95,
    "start_time": "2024-02-16T18:47:04.644Z"
   },
   {
    "duration": 3,
    "start_time": "2024-02-16T18:48:14.607Z"
   },
   {
    "duration": 99,
    "start_time": "2024-02-16T18:48:18.658Z"
   },
   {
    "duration": 15,
    "start_time": "2024-02-16T18:49:24.810Z"
   },
   {
    "duration": 3,
    "start_time": "2024-02-16T18:49:38.256Z"
   },
   {
    "duration": 2,
    "start_time": "2024-02-16T18:49:41.248Z"
   },
   {
    "duration": 11,
    "start_time": "2024-02-16T18:49:45.611Z"
   },
   {
    "duration": 11,
    "start_time": "2024-02-16T18:51:25.971Z"
   },
   {
    "duration": 9,
    "start_time": "2024-02-16T18:51:26.284Z"
   },
   {
    "duration": 311,
    "start_time": "2024-02-16T18:51:33.088Z"
   },
   {
    "duration": 304,
    "start_time": "2024-02-16T18:52:08.141Z"
   },
   {
    "duration": 16,
    "start_time": "2024-02-16T18:52:27.622Z"
   },
   {
    "duration": 14,
    "start_time": "2024-02-16T18:52:33.768Z"
   },
   {
    "duration": 25,
    "start_time": "2024-02-16T18:52:50.434Z"
   },
   {
    "duration": 2,
    "start_time": "2024-02-16T18:52:55.273Z"
   },
   {
    "duration": 3,
    "start_time": "2024-02-16T18:52:55.541Z"
   },
   {
    "duration": 4277,
    "start_time": "2024-02-16T18:53:07.759Z"
   },
   {
    "duration": 237,
    "start_time": "2024-02-16T18:53:36.299Z"
   },
   {
    "duration": 152,
    "start_time": "2024-02-16T18:53:44.780Z"
   },
   {
    "duration": 12,
    "start_time": "2024-02-16T18:54:28.147Z"
   },
   {
    "duration": 5,
    "start_time": "2024-02-16T18:54:53.124Z"
   },
   {
    "duration": 3,
    "start_time": "2024-02-16T18:55:41.194Z"
   },
   {
    "duration": 3,
    "start_time": "2024-02-16T18:55:41.505Z"
   },
   {
    "duration": 4019,
    "start_time": "2024-02-16T18:55:42.604Z"
   },
   {
    "duration": 221,
    "start_time": "2024-02-16T18:56:24.399Z"
   },
   {
    "duration": 4,
    "start_time": "2024-02-16T18:56:25.358Z"
   },
   {
    "duration": 3,
    "start_time": "2024-02-16T18:57:18.401Z"
   },
   {
    "duration": 4574,
    "start_time": "2024-02-16T18:57:19.249Z"
   },
   {
    "duration": 270,
    "start_time": "2024-02-16T18:57:26.348Z"
   },
   {
    "duration": 4,
    "start_time": "2024-02-16T18:57:27.429Z"
   },
   {
    "duration": 3,
    "start_time": "2024-02-16T18:57:51.627Z"
   },
   {
    "duration": 4163,
    "start_time": "2024-02-16T18:57:52.559Z"
   },
   {
    "duration": 300,
    "start_time": "2024-02-16T18:57:56.724Z"
   },
   {
    "duration": 4,
    "start_time": "2024-02-16T18:57:59.177Z"
   },
   {
    "duration": 4,
    "start_time": "2024-02-16T18:58:04.423Z"
   },
   {
    "duration": 4,
    "start_time": "2024-02-16T19:00:32.156Z"
   },
   {
    "duration": 305,
    "start_time": "2024-02-16T19:00:40.881Z"
   },
   {
    "duration": 26,
    "start_time": "2024-02-16T19:00:42.577Z"
   },
   {
    "duration": 3,
    "start_time": "2024-02-16T19:00:42.815Z"
   },
   {
    "duration": 3,
    "start_time": "2024-02-16T19:00:43.688Z"
   },
   {
    "duration": 4023,
    "start_time": "2024-02-16T19:00:44.200Z"
   },
   {
    "duration": 282,
    "start_time": "2024-02-16T19:00:50.236Z"
   },
   {
    "duration": 3,
    "start_time": "2024-02-16T19:00:51.712Z"
   },
   {
    "duration": 4,
    "start_time": "2024-02-16T19:00:54.126Z"
   },
   {
    "duration": 6,
    "start_time": "2024-02-16T19:01:52.155Z"
   },
   {
    "duration": 5,
    "start_time": "2024-02-16T19:02:37.966Z"
   },
   {
    "duration": 12,
    "start_time": "2024-02-16T19:02:45.607Z"
   },
   {
    "duration": 1881,
    "start_time": "2024-02-17T12:54:41.115Z"
   },
   {
    "duration": 3035,
    "start_time": "2024-02-17T12:54:42.998Z"
   },
   {
    "duration": 5,
    "start_time": "2024-02-17T12:54:46.035Z"
   },
   {
    "duration": 29,
    "start_time": "2024-02-17T12:54:46.042Z"
   },
   {
    "duration": 150,
    "start_time": "2024-02-17T12:54:46.073Z"
   },
   {
    "duration": 159,
    "start_time": "2024-02-17T12:54:46.224Z"
   },
   {
    "duration": 954,
    "start_time": "2024-02-17T12:54:46.391Z"
   },
   {
    "duration": 7,
    "start_time": "2024-02-17T12:54:47.347Z"
   },
   {
    "duration": 89,
    "start_time": "2024-02-17T12:54:47.355Z"
   },
   {
    "duration": 636,
    "start_time": "2024-02-17T12:54:47.447Z"
   },
   {
    "duration": 13,
    "start_time": "2024-02-17T12:54:48.085Z"
   },
   {
    "duration": 24,
    "start_time": "2024-02-17T12:54:48.100Z"
   },
   {
    "duration": 252,
    "start_time": "2024-02-17T12:54:48.126Z"
   },
   {
    "duration": 247,
    "start_time": "2024-02-17T12:54:48.380Z"
   },
   {
    "duration": 203,
    "start_time": "2024-02-17T12:54:48.629Z"
   },
   {
    "duration": 15,
    "start_time": "2024-02-17T12:54:48.834Z"
   },
   {
    "duration": 8,
    "start_time": "2024-02-17T12:54:48.851Z"
   },
   {
    "duration": 47,
    "start_time": "2024-02-17T12:54:48.861Z"
   },
   {
    "duration": 6,
    "start_time": "2024-02-17T12:54:48.910Z"
   },
   {
    "duration": 28,
    "start_time": "2024-02-17T12:54:48.918Z"
   },
   {
    "duration": 7,
    "start_time": "2024-02-17T12:54:48.948Z"
   },
   {
    "duration": 39,
    "start_time": "2024-02-17T12:54:48.956Z"
   },
   {
    "duration": 7,
    "start_time": "2024-02-17T12:54:48.997Z"
   },
   {
    "duration": 576,
    "start_time": "2024-02-17T12:54:49.005Z"
   },
   {
    "duration": 16,
    "start_time": "2024-02-17T12:54:49.583Z"
   },
   {
    "duration": 91,
    "start_time": "2024-02-17T12:54:49.601Z"
   },
   {
    "duration": 56,
    "start_time": "2024-02-17T12:54:49.694Z"
   },
   {
    "duration": 25,
    "start_time": "2024-02-17T12:54:49.756Z"
   },
   {
    "duration": 13,
    "start_time": "2024-02-17T12:54:49.783Z"
   },
   {
    "duration": 23,
    "start_time": "2024-02-17T12:54:49.798Z"
   },
   {
    "duration": 22,
    "start_time": "2024-02-17T12:54:49.823Z"
   },
   {
    "duration": 46,
    "start_time": "2024-02-17T12:54:49.847Z"
   },
   {
    "duration": 76,
    "start_time": "2024-02-17T12:54:49.895Z"
   },
   {
    "duration": 15,
    "start_time": "2024-02-17T12:54:49.972Z"
   },
   {
    "duration": 115,
    "start_time": "2024-02-17T12:54:49.992Z"
   },
   {
    "duration": 107,
    "start_time": "2024-02-17T12:54:50.108Z"
   },
   {
    "duration": 104,
    "start_time": "2024-02-17T12:54:50.217Z"
   },
   {
    "duration": 4,
    "start_time": "2024-02-17T12:54:50.323Z"
   },
   {
    "duration": 71,
    "start_time": "2024-02-17T12:54:50.328Z"
   },
   {
    "duration": 60,
    "start_time": "2024-02-17T12:54:50.401Z"
   },
   {
    "duration": 69,
    "start_time": "2024-02-17T12:54:50.463Z"
   },
   {
    "duration": 100,
    "start_time": "2024-02-17T12:54:50.534Z"
   },
   {
    "duration": 23,
    "start_time": "2024-02-17T12:54:50.635Z"
   },
   {
    "duration": 68,
    "start_time": "2024-02-17T12:54:50.660Z"
   },
   {
    "duration": 6,
    "start_time": "2024-02-17T12:54:50.730Z"
   },
   {
    "duration": 20,
    "start_time": "2024-02-17T12:54:50.737Z"
   },
   {
    "duration": 50,
    "start_time": "2024-02-17T12:54:50.759Z"
   },
   {
    "duration": 35,
    "start_time": "2024-02-17T12:54:50.811Z"
   },
   {
    "duration": 19,
    "start_time": "2024-02-17T12:54:50.848Z"
   },
   {
    "duration": 22,
    "start_time": "2024-02-17T12:54:50.869Z"
   },
   {
    "duration": 15,
    "start_time": "2024-02-17T12:54:50.893Z"
   },
   {
    "duration": 19,
    "start_time": "2024-02-17T12:54:50.910Z"
   },
   {
    "duration": 466,
    "start_time": "2024-02-17T12:54:50.930Z"
   },
   {
    "duration": 142,
    "start_time": "2024-02-17T12:54:51.398Z"
   },
   {
    "duration": 56,
    "start_time": "2024-02-17T12:54:51.542Z"
   },
   {
    "duration": 98,
    "start_time": "2024-02-17T12:54:51.601Z"
   },
   {
    "duration": 34,
    "start_time": "2024-02-17T12:54:51.701Z"
   },
   {
    "duration": 20,
    "start_time": "2024-02-17T12:54:51.737Z"
   },
   {
    "duration": 15,
    "start_time": "2024-02-17T12:54:51.759Z"
   },
   {
    "duration": 43,
    "start_time": "2024-02-17T12:54:51.776Z"
   },
   {
    "duration": 35572,
    "start_time": "2024-02-17T12:54:51.820Z"
   },
   {
    "duration": 1937,
    "start_time": "2024-02-17T12:55:27.394Z"
   },
   {
    "duration": 4,
    "start_time": "2024-02-17T12:55:29.333Z"
   },
   {
    "duration": 5,
    "start_time": "2024-02-17T12:55:29.339Z"
   },
   {
    "duration": 12,
    "start_time": "2024-02-17T12:55:29.345Z"
   },
   {
    "duration": 17,
    "start_time": "2024-02-17T12:55:29.359Z"
   },
   {
    "duration": 3,
    "start_time": "2024-02-17T12:55:29.392Z"
   },
   {
    "duration": 345,
    "start_time": "2024-02-17T12:55:29.396Z"
   },
   {
    "duration": 35,
    "start_time": "2024-02-17T12:55:29.743Z"
   },
   {
    "duration": 3,
    "start_time": "2024-02-17T12:55:29.780Z"
   },
   {
    "duration": 5,
    "start_time": "2024-02-17T12:55:29.792Z"
   },
   {
    "duration": 4498,
    "start_time": "2024-02-17T12:55:29.798Z"
   },
   {
    "duration": 304,
    "start_time": "2024-02-17T12:55:34.297Z"
   },
   {
    "duration": 89,
    "start_time": "2024-02-17T12:55:34.603Z"
   },
   {
    "duration": 5,
    "start_time": "2024-02-17T12:55:34.694Z"
   },
   {
    "duration": 5,
    "start_time": "2024-02-17T12:55:34.701Z"
   },
   {
    "duration": 4,
    "start_time": "2024-02-17T12:55:34.708Z"
   },
   {
    "duration": 4,
    "start_time": "2024-02-17T12:55:34.714Z"
   },
   {
    "duration": 228303,
    "start_time": "2024-02-17T12:55:34.720Z"
   },
   {
    "duration": 123,
    "start_time": "2024-02-17T12:59:23.025Z"
   },
   {
    "duration": 5,
    "start_time": "2024-02-17T12:59:23.149Z"
   },
   {
    "duration": 10,
    "start_time": "2024-02-17T12:59:23.159Z"
   },
   {
    "duration": 25,
    "start_time": "2024-02-17T12:59:23.170Z"
   },
   {
    "duration": 14,
    "start_time": "2024-02-17T14:19:19.025Z"
   },
   {
    "duration": 78,
    "start_time": "2024-02-17T14:19:19.713Z"
   },
   {
    "duration": 5,
    "start_time": "2024-02-17T14:19:20.397Z"
   },
   {
    "duration": 131,
    "start_time": "2024-02-17T14:19:50.409Z"
   },
   {
    "duration": 12,
    "start_time": "2024-02-17T14:20:10.513Z"
   },
   {
    "duration": 5,
    "start_time": "2024-02-17T14:20:21.110Z"
   },
   {
    "duration": 5,
    "start_time": "2024-02-17T14:20:30.074Z"
   },
   {
    "duration": 5,
    "start_time": "2024-02-17T14:20:38.638Z"
   },
   {
    "duration": 5,
    "start_time": "2024-02-17T14:23:56.692Z"
   },
   {
    "duration": 5,
    "start_time": "2024-02-17T14:24:11.605Z"
   },
   {
    "duration": 354,
    "start_time": "2024-02-17T14:26:10.637Z"
   },
   {
    "duration": 1679,
    "start_time": "2024-02-17T14:27:16.071Z"
   },
   {
    "duration": 1009,
    "start_time": "2024-02-17T14:27:17.752Z"
   },
   {
    "duration": 6,
    "start_time": "2024-02-17T14:27:18.763Z"
   },
   {
    "duration": 22,
    "start_time": "2024-02-17T14:27:18.771Z"
   },
   {
    "duration": 110,
    "start_time": "2024-02-17T14:27:18.795Z"
   },
   {
    "duration": 159,
    "start_time": "2024-02-17T14:27:18.907Z"
   },
   {
    "duration": 997,
    "start_time": "2024-02-17T14:27:19.067Z"
   },
   {
    "duration": 7,
    "start_time": "2024-02-17T14:27:20.066Z"
   },
   {
    "duration": 85,
    "start_time": "2024-02-17T14:27:20.074Z"
   },
   {
    "duration": 583,
    "start_time": "2024-02-17T14:27:20.162Z"
   },
   {
    "duration": 15,
    "start_time": "2024-02-17T14:27:20.747Z"
   },
   {
    "duration": 38,
    "start_time": "2024-02-17T14:27:20.763Z"
   },
   {
    "duration": 278,
    "start_time": "2024-02-17T14:27:20.803Z"
   },
   {
    "duration": 273,
    "start_time": "2024-02-17T14:27:21.082Z"
   },
   {
    "duration": 202,
    "start_time": "2024-02-17T14:27:21.357Z"
   },
   {
    "duration": 14,
    "start_time": "2024-02-17T14:27:21.561Z"
   },
   {
    "duration": 20,
    "start_time": "2024-02-17T14:27:21.576Z"
   },
   {
    "duration": 73,
    "start_time": "2024-02-17T14:27:21.597Z"
   },
   {
    "duration": 24,
    "start_time": "2024-02-17T14:27:21.672Z"
   },
   {
    "duration": 60,
    "start_time": "2024-02-17T14:27:21.698Z"
   },
   {
    "duration": 14,
    "start_time": "2024-02-17T14:27:21.760Z"
   },
   {
    "duration": 39,
    "start_time": "2024-02-17T14:27:21.775Z"
   },
   {
    "duration": 9,
    "start_time": "2024-02-17T14:27:21.815Z"
   },
   {
    "duration": 621,
    "start_time": "2024-02-17T14:27:21.825Z"
   },
   {
    "duration": 11,
    "start_time": "2024-02-17T14:27:22.448Z"
   },
   {
    "duration": 35,
    "start_time": "2024-02-17T14:27:22.460Z"
   },
   {
    "duration": 27,
    "start_time": "2024-02-17T14:27:22.497Z"
   },
   {
    "duration": 23,
    "start_time": "2024-02-17T14:27:22.528Z"
   },
   {
    "duration": 16,
    "start_time": "2024-02-17T14:27:22.553Z"
   },
   {
    "duration": 42,
    "start_time": "2024-02-17T14:27:22.570Z"
   },
   {
    "duration": 32,
    "start_time": "2024-02-17T14:27:22.614Z"
   },
   {
    "duration": 44,
    "start_time": "2024-02-17T14:27:22.648Z"
   },
   {
    "duration": 102,
    "start_time": "2024-02-17T14:27:22.694Z"
   },
   {
    "duration": 19,
    "start_time": "2024-02-17T14:27:22.798Z"
   },
   {
    "duration": 110,
    "start_time": "2024-02-17T14:27:22.819Z"
   },
   {
    "duration": 114,
    "start_time": "2024-02-17T14:27:22.931Z"
   },
   {
    "duration": 99,
    "start_time": "2024-02-17T14:27:23.047Z"
   },
   {
    "duration": 5,
    "start_time": "2024-02-17T14:27:23.148Z"
   },
   {
    "duration": 81,
    "start_time": "2024-02-17T14:27:23.154Z"
   },
   {
    "duration": 89,
    "start_time": "2024-02-17T14:27:23.237Z"
   },
   {
    "duration": 85,
    "start_time": "2024-02-17T14:27:23.328Z"
   },
   {
    "duration": 91,
    "start_time": "2024-02-17T14:27:23.416Z"
   },
   {
    "duration": 26,
    "start_time": "2024-02-17T14:27:23.509Z"
   },
   {
    "duration": 112,
    "start_time": "2024-02-17T14:27:23.537Z"
   },
   {
    "duration": 6,
    "start_time": "2024-02-17T14:27:23.650Z"
   },
   {
    "duration": 53,
    "start_time": "2024-02-17T14:27:23.658Z"
   },
   {
    "duration": 27,
    "start_time": "2024-02-17T14:27:23.713Z"
   },
   {
    "duration": 28,
    "start_time": "2024-02-17T14:27:23.741Z"
   },
   {
    "duration": 23,
    "start_time": "2024-02-17T14:27:23.772Z"
   },
   {
    "duration": 20,
    "start_time": "2024-02-17T14:27:23.797Z"
   },
   {
    "duration": 21,
    "start_time": "2024-02-17T14:27:23.819Z"
   },
   {
    "duration": 27,
    "start_time": "2024-02-17T14:27:23.842Z"
   },
   {
    "duration": 342,
    "start_time": "2024-02-17T14:27:23.871Z"
   },
   {
    "duration": 179,
    "start_time": "2024-02-17T14:27:24.215Z"
   },
   {
    "duration": 97,
    "start_time": "2024-02-17T14:27:24.396Z"
   },
   {
    "duration": 5,
    "start_time": "2024-02-17T14:27:24.495Z"
   },
   {
    "duration": 26,
    "start_time": "2024-02-17T14:27:24.503Z"
   },
   {
    "duration": 8,
    "start_time": "2024-02-17T14:27:24.531Z"
   },
   {
    "duration": 15,
    "start_time": "2024-02-17T14:27:24.541Z"
   },
   {
    "duration": 7,
    "start_time": "2024-02-17T14:27:24.557Z"
   },
   {
    "duration": 38347,
    "start_time": "2024-02-17T14:27:24.566Z"
   },
   {
    "duration": 1695,
    "start_time": "2024-02-17T14:28:02.915Z"
   },
   {
    "duration": 5,
    "start_time": "2024-02-17T14:28:04.611Z"
   },
   {
    "duration": 44,
    "start_time": "2024-02-17T14:28:04.617Z"
   },
   {
    "duration": 23,
    "start_time": "2024-02-17T14:28:04.663Z"
   },
   {
    "duration": 28,
    "start_time": "2024-02-17T14:28:04.688Z"
   },
   {
    "duration": 19,
    "start_time": "2024-02-17T14:28:04.718Z"
   },
   {
    "duration": 382,
    "start_time": "2024-02-17T14:28:04.739Z"
   },
   {
    "duration": 34,
    "start_time": "2024-02-17T14:28:05.123Z"
   },
   {
    "duration": 4,
    "start_time": "2024-02-17T14:28:05.159Z"
   },
   {
    "duration": 17,
    "start_time": "2024-02-17T14:28:05.167Z"
   },
   {
    "duration": 4513,
    "start_time": "2024-02-17T14:28:05.186Z"
   },
   {
    "duration": 394,
    "start_time": "2024-02-17T14:28:09.700Z"
   },
   {
    "duration": 5,
    "start_time": "2024-02-17T14:28:10.096Z"
   },
   {
    "duration": 15,
    "start_time": "2024-02-17T14:28:10.103Z"
   },
   {
    "duration": 5,
    "start_time": "2024-02-17T14:28:10.120Z"
   },
   {
    "duration": 4,
    "start_time": "2024-02-17T14:28:10.127Z"
   },
   {
    "duration": 4,
    "start_time": "2024-02-17T14:28:10.133Z"
   },
   {
    "duration": 231189,
    "start_time": "2024-02-17T14:28:10.139Z"
   },
   {
    "duration": 102,
    "start_time": "2024-02-17T14:32:01.330Z"
   },
   {
    "duration": 5,
    "start_time": "2024-02-17T14:32:01.434Z"
   },
   {
    "duration": 68,
    "start_time": "2024-02-17T14:32:01.445Z"
   },
   {
    "duration": 118,
    "start_time": "2024-02-17T14:32:01.515Z"
   },
   {
    "duration": 10,
    "start_time": "2024-02-17T14:44:29.274Z"
   },
   {
    "duration": 3,
    "start_time": "2024-02-17T14:44:32.974Z"
   },
   {
    "duration": 4,
    "start_time": "2024-02-17T14:44:37.594Z"
   },
   {
    "duration": 4,
    "start_time": "2024-02-17T14:44:51.051Z"
   },
   {
    "duration": 3,
    "start_time": "2024-02-17T14:44:55.852Z"
   },
   {
    "duration": 10,
    "start_time": "2024-02-17T14:44:57.370Z"
   },
   {
    "duration": 5,
    "start_time": "2024-02-17T14:56:07.261Z"
   },
   {
    "duration": 19,
    "start_time": "2024-02-17T14:56:22.938Z"
   },
   {
    "duration": 5,
    "start_time": "2024-02-17T14:56:52.662Z"
   },
   {
    "duration": 83,
    "start_time": "2024-02-17T14:57:42.470Z"
   },
   {
    "duration": 81,
    "start_time": "2024-02-17T14:58:23.073Z"
   },
   {
    "duration": 211,
    "start_time": "2024-02-17T14:59:09.986Z"
   },
   {
    "duration": 150,
    "start_time": "2024-02-17T14:59:31.444Z"
   },
   {
    "duration": 4,
    "start_time": "2024-02-17T15:00:04.166Z"
   },
   {
    "duration": 72,
    "start_time": "2024-02-17T15:01:00.928Z"
   },
   {
    "duration": 211,
    "start_time": "2024-02-17T15:01:01.799Z"
   },
   {
    "duration": 5,
    "start_time": "2024-02-17T15:01:02.848Z"
   },
   {
    "duration": 1677,
    "start_time": "2024-02-17T15:01:15.700Z"
   },
   {
    "duration": 1044,
    "start_time": "2024-02-17T15:01:17.379Z"
   },
   {
    "duration": 6,
    "start_time": "2024-02-17T15:01:18.424Z"
   },
   {
    "duration": 26,
    "start_time": "2024-02-17T15:01:18.433Z"
   },
   {
    "duration": 117,
    "start_time": "2024-02-17T15:01:18.461Z"
   },
   {
    "duration": 170,
    "start_time": "2024-02-17T15:01:18.580Z"
   },
   {
    "duration": 980,
    "start_time": "2024-02-17T15:01:18.751Z"
   },
   {
    "duration": 7,
    "start_time": "2024-02-17T15:01:19.733Z"
   },
   {
    "duration": 96,
    "start_time": "2024-02-17T15:01:19.742Z"
   },
   {
    "duration": 571,
    "start_time": "2024-02-17T15:01:19.841Z"
   },
   {
    "duration": 15,
    "start_time": "2024-02-17T15:01:20.414Z"
   },
   {
    "duration": 55,
    "start_time": "2024-02-17T15:01:20.432Z"
   },
   {
    "duration": 238,
    "start_time": "2024-02-17T15:01:20.489Z"
   },
   {
    "duration": 269,
    "start_time": "2024-02-17T15:01:20.729Z"
   },
   {
    "duration": 254,
    "start_time": "2024-02-17T15:01:20.999Z"
   },
   {
    "duration": 15,
    "start_time": "2024-02-17T15:01:21.255Z"
   },
   {
    "duration": 19,
    "start_time": "2024-02-17T15:01:21.272Z"
   },
   {
    "duration": 23,
    "start_time": "2024-02-17T15:01:21.293Z"
   },
   {
    "duration": 7,
    "start_time": "2024-02-17T15:01:21.317Z"
   },
   {
    "duration": 43,
    "start_time": "2024-02-17T15:01:21.326Z"
   },
   {
    "duration": 22,
    "start_time": "2024-02-17T15:01:21.371Z"
   },
   {
    "duration": 26,
    "start_time": "2024-02-17T15:01:21.395Z"
   },
   {
    "duration": 6,
    "start_time": "2024-02-17T15:01:21.423Z"
   },
   {
    "duration": 567,
    "start_time": "2024-02-17T15:01:21.431Z"
   },
   {
    "duration": 13,
    "start_time": "2024-02-17T15:01:22.000Z"
   },
   {
    "duration": 19,
    "start_time": "2024-02-17T15:01:22.015Z"
   },
   {
    "duration": 28,
    "start_time": "2024-02-17T15:01:22.035Z"
   },
   {
    "duration": 46,
    "start_time": "2024-02-17T15:01:22.068Z"
   },
   {
    "duration": 10,
    "start_time": "2024-02-17T15:01:22.116Z"
   },
   {
    "duration": 25,
    "start_time": "2024-02-17T15:01:22.128Z"
   },
   {
    "duration": 56,
    "start_time": "2024-02-17T15:01:22.154Z"
   },
   {
    "duration": 39,
    "start_time": "2024-02-17T15:01:22.212Z"
   },
   {
    "duration": 87,
    "start_time": "2024-02-17T15:01:22.252Z"
   },
   {
    "duration": 12,
    "start_time": "2024-02-17T15:01:22.341Z"
   },
   {
    "duration": 131,
    "start_time": "2024-02-17T15:01:22.355Z"
   },
   {
    "duration": 115,
    "start_time": "2024-02-17T15:01:22.492Z"
   },
   {
    "duration": 107,
    "start_time": "2024-02-17T15:01:22.608Z"
   },
   {
    "duration": 4,
    "start_time": "2024-02-17T15:01:22.716Z"
   },
   {
    "duration": 92,
    "start_time": "2024-02-17T15:01:22.721Z"
   },
   {
    "duration": 69,
    "start_time": "2024-02-17T15:01:22.815Z"
   },
   {
    "duration": 63,
    "start_time": "2024-02-17T15:01:22.886Z"
   },
   {
    "duration": 74,
    "start_time": "2024-02-17T15:01:22.950Z"
   },
   {
    "duration": 25,
    "start_time": "2024-02-17T15:01:23.026Z"
   },
   {
    "duration": 101,
    "start_time": "2024-02-17T15:01:23.053Z"
   },
   {
    "duration": 6,
    "start_time": "2024-02-17T15:01:23.156Z"
   },
   {
    "duration": 32,
    "start_time": "2024-02-17T15:01:23.164Z"
   },
   {
    "duration": 17,
    "start_time": "2024-02-17T15:01:23.198Z"
   },
   {
    "duration": 4,
    "start_time": "2024-02-17T15:01:23.217Z"
   },
   {
    "duration": 9,
    "start_time": "2024-02-17T15:01:23.223Z"
   },
   {
    "duration": 11,
    "start_time": "2024-02-17T15:01:23.234Z"
   },
   {
    "duration": 19,
    "start_time": "2024-02-17T15:01:23.246Z"
   },
   {
    "duration": 34,
    "start_time": "2024-02-17T15:01:23.267Z"
   },
   {
    "duration": 394,
    "start_time": "2024-02-17T15:01:23.303Z"
   },
   {
    "duration": 197,
    "start_time": "2024-02-17T15:01:23.699Z"
   },
   {
    "duration": 94,
    "start_time": "2024-02-17T15:01:23.898Z"
   },
   {
    "duration": 7,
    "start_time": "2024-02-17T15:01:23.994Z"
   },
   {
    "duration": 12,
    "start_time": "2024-02-17T15:01:24.003Z"
   },
   {
    "duration": 18,
    "start_time": "2024-02-17T15:01:24.017Z"
   },
   {
    "duration": 23,
    "start_time": "2024-02-17T15:01:24.037Z"
   },
   {
    "duration": 12,
    "start_time": "2024-02-17T15:01:24.062Z"
   },
   {
    "duration": 39747,
    "start_time": "2024-02-17T15:01:24.076Z"
   },
   {
    "duration": 1706,
    "start_time": "2024-02-17T15:02:03.825Z"
   },
   {
    "duration": 5,
    "start_time": "2024-02-17T15:02:05.533Z"
   },
   {
    "duration": 5,
    "start_time": "2024-02-17T15:02:05.540Z"
   },
   {
    "duration": 16,
    "start_time": "2024-02-17T15:02:05.546Z"
   },
   {
    "duration": 34,
    "start_time": "2024-02-17T15:02:05.565Z"
   },
   {
    "duration": 4,
    "start_time": "2024-02-17T15:02:05.601Z"
   },
   {
    "duration": 371,
    "start_time": "2024-02-17T15:02:05.607Z"
   },
   {
    "duration": 46,
    "start_time": "2024-02-17T15:02:05.980Z"
   },
   {
    "duration": 5,
    "start_time": "2024-02-17T15:02:06.028Z"
   },
   {
    "duration": 8,
    "start_time": "2024-02-17T15:02:06.035Z"
   },
   {
    "duration": 5,
    "start_time": "2024-02-17T15:02:06.045Z"
   },
   {
    "duration": 5546,
    "start_time": "2024-02-17T15:02:06.054Z"
   },
   {
    "duration": 401,
    "start_time": "2024-02-17T15:02:11.601Z"
   },
   {
    "duration": 7,
    "start_time": "2024-02-17T15:02:12.004Z"
   },
   {
    "duration": 13,
    "start_time": "2024-02-17T15:02:12.013Z"
   },
   {
    "duration": 6,
    "start_time": "2024-02-17T15:02:12.028Z"
   },
   {
    "duration": 56,
    "start_time": "2024-02-17T15:02:12.036Z"
   },
   {
    "duration": 4,
    "start_time": "2024-02-17T15:02:12.094Z"
   },
   {
    "duration": 211,
    "start_time": "2024-02-17T15:02:12.100Z"
   },
   {
    "duration": 10,
    "start_time": "2024-02-17T15:02:12.313Z"
   },
   {
    "duration": 0,
    "start_time": "2024-02-17T15:02:12.325Z"
   },
   {
    "duration": 0,
    "start_time": "2024-02-17T15:02:12.326Z"
   },
   {
    "duration": 0,
    "start_time": "2024-02-17T15:02:12.327Z"
   },
   {
    "duration": 0,
    "start_time": "2024-02-17T15:02:12.328Z"
   },
   {
    "duration": 0,
    "start_time": "2024-02-17T15:02:12.329Z"
   },
   {
    "duration": 4,
    "start_time": "2024-02-17T15:03:52.402Z"
   },
   {
    "duration": 10,
    "start_time": "2024-02-17T15:03:52.669Z"
   },
   {
    "duration": 12,
    "start_time": "2024-02-17T15:03:59.600Z"
   },
   {
    "duration": 14,
    "start_time": "2024-02-17T15:05:11.765Z"
   },
   {
    "duration": 2508,
    "start_time": "2024-02-17T15:07:31.320Z"
   },
   {
    "duration": 2652,
    "start_time": "2024-02-17T15:07:49.953Z"
   },
   {
    "duration": 14597,
    "start_time": "2024-02-17T15:08:02.581Z"
   },
   {
    "duration": 646,
    "start_time": "2024-02-17T15:08:19.736Z"
   },
   {
    "duration": 104,
    "start_time": "2024-02-17T15:08:42.204Z"
   },
   {
    "duration": 1730,
    "start_time": "2024-02-17T15:08:59.664Z"
   },
   {
    "duration": 1018,
    "start_time": "2024-02-17T15:09:01.396Z"
   },
   {
    "duration": 6,
    "start_time": "2024-02-17T15:09:02.415Z"
   },
   {
    "duration": 57,
    "start_time": "2024-02-17T15:09:02.424Z"
   },
   {
    "duration": 135,
    "start_time": "2024-02-17T15:09:02.483Z"
   },
   {
    "duration": 155,
    "start_time": "2024-02-17T15:09:02.620Z"
   },
   {
    "duration": 1006,
    "start_time": "2024-02-17T15:09:02.776Z"
   },
   {
    "duration": 8,
    "start_time": "2024-02-17T15:09:03.784Z"
   },
   {
    "duration": 80,
    "start_time": "2024-02-17T15:09:03.794Z"
   },
   {
    "duration": 558,
    "start_time": "2024-02-17T15:09:03.878Z"
   },
   {
    "duration": 13,
    "start_time": "2024-02-17T15:09:04.438Z"
   },
   {
    "duration": 60,
    "start_time": "2024-02-17T15:09:04.453Z"
   },
   {
    "duration": 217,
    "start_time": "2024-02-17T15:09:04.515Z"
   },
   {
    "duration": 243,
    "start_time": "2024-02-17T15:09:04.734Z"
   },
   {
    "duration": 221,
    "start_time": "2024-02-17T15:09:04.979Z"
   },
   {
    "duration": 16,
    "start_time": "2024-02-17T15:09:05.202Z"
   },
   {
    "duration": 7,
    "start_time": "2024-02-17T15:09:05.219Z"
   },
   {
    "duration": 59,
    "start_time": "2024-02-17T15:09:05.227Z"
   },
   {
    "duration": 15,
    "start_time": "2024-02-17T15:09:05.288Z"
   },
   {
    "duration": 27,
    "start_time": "2024-02-17T15:09:05.305Z"
   },
   {
    "duration": 4,
    "start_time": "2024-02-17T15:09:05.334Z"
   },
   {
    "duration": 52,
    "start_time": "2024-02-17T15:09:05.340Z"
   },
   {
    "duration": 12,
    "start_time": "2024-02-17T15:09:05.393Z"
   },
   {
    "duration": 602,
    "start_time": "2024-02-17T15:09:05.407Z"
   },
   {
    "duration": 12,
    "start_time": "2024-02-17T15:09:06.011Z"
   },
   {
    "duration": 28,
    "start_time": "2024-02-17T15:09:06.025Z"
   },
   {
    "duration": 37,
    "start_time": "2024-02-17T15:09:06.055Z"
   },
   {
    "duration": 24,
    "start_time": "2024-02-17T15:09:06.098Z"
   },
   {
    "duration": 10,
    "start_time": "2024-02-17T15:09:06.124Z"
   },
   {
    "duration": 21,
    "start_time": "2024-02-17T15:09:06.136Z"
   },
   {
    "duration": 47,
    "start_time": "2024-02-17T15:09:06.158Z"
   },
   {
    "duration": 29,
    "start_time": "2024-02-17T15:09:06.207Z"
   },
   {
    "duration": 97,
    "start_time": "2024-02-17T15:09:06.238Z"
   },
   {
    "duration": 15,
    "start_time": "2024-02-17T15:09:06.337Z"
   },
   {
    "duration": 109,
    "start_time": "2024-02-17T15:09:06.354Z"
   },
   {
    "duration": 110,
    "start_time": "2024-02-17T15:09:06.465Z"
   },
   {
    "duration": 105,
    "start_time": "2024-02-17T15:09:06.577Z"
   },
   {
    "duration": 8,
    "start_time": "2024-02-17T15:09:06.684Z"
   },
   {
    "duration": 58,
    "start_time": "2024-02-17T15:09:06.694Z"
   },
   {
    "duration": 77,
    "start_time": "2024-02-17T15:09:06.754Z"
   },
   {
    "duration": 65,
    "start_time": "2024-02-17T15:09:06.832Z"
   },
   {
    "duration": 65,
    "start_time": "2024-02-17T15:09:06.898Z"
   },
   {
    "duration": 45,
    "start_time": "2024-02-17T15:09:06.965Z"
   },
   {
    "duration": 88,
    "start_time": "2024-02-17T15:09:07.011Z"
   },
   {
    "duration": 6,
    "start_time": "2024-02-17T15:09:07.101Z"
   },
   {
    "duration": 15,
    "start_time": "2024-02-17T15:09:07.108Z"
   },
   {
    "duration": 18,
    "start_time": "2024-02-17T15:09:07.125Z"
   },
   {
    "duration": 11,
    "start_time": "2024-02-17T15:09:07.145Z"
   },
   {
    "duration": 5,
    "start_time": "2024-02-17T15:09:07.158Z"
   },
   {
    "duration": 17,
    "start_time": "2024-02-17T15:09:07.165Z"
   },
   {
    "duration": 4,
    "start_time": "2024-02-17T15:09:07.192Z"
   },
   {
    "duration": 6,
    "start_time": "2024-02-17T15:09:07.197Z"
   },
   {
    "duration": 342,
    "start_time": "2024-02-17T15:09:07.204Z"
   },
   {
    "duration": 180,
    "start_time": "2024-02-17T15:09:07.548Z"
   },
   {
    "duration": 63,
    "start_time": "2024-02-17T15:09:07.730Z"
   },
   {
    "duration": 97,
    "start_time": "2024-02-17T15:09:07.795Z"
   },
   {
    "duration": 13,
    "start_time": "2024-02-17T15:09:07.894Z"
   },
   {
    "duration": 8,
    "start_time": "2024-02-17T15:09:07.909Z"
   },
   {
    "duration": 9,
    "start_time": "2024-02-17T15:09:07.918Z"
   },
   {
    "duration": 10,
    "start_time": "2024-02-17T15:09:07.929Z"
   },
   {
    "duration": 38085,
    "start_time": "2024-02-17T15:09:07.940Z"
   },
   {
    "duration": 1687,
    "start_time": "2024-02-17T15:09:46.027Z"
   },
   {
    "duration": 6,
    "start_time": "2024-02-17T15:09:47.716Z"
   },
   {
    "duration": 9,
    "start_time": "2024-02-17T15:09:47.724Z"
   },
   {
    "duration": 20,
    "start_time": "2024-02-17T15:09:47.735Z"
   },
   {
    "duration": 43,
    "start_time": "2024-02-17T15:09:47.757Z"
   },
   {
    "duration": 4,
    "start_time": "2024-02-17T15:09:47.802Z"
   },
   {
    "duration": 354,
    "start_time": "2024-02-17T15:09:47.808Z"
   },
   {
    "duration": 37,
    "start_time": "2024-02-17T15:09:48.164Z"
   },
   {
    "duration": 5,
    "start_time": "2024-02-17T15:09:48.203Z"
   },
   {
    "duration": 10,
    "start_time": "2024-02-17T15:09:48.210Z"
   },
   {
    "duration": 6,
    "start_time": "2024-02-17T15:09:48.221Z"
   },
   {
    "duration": 4971,
    "start_time": "2024-02-17T15:09:48.229Z"
   },
   {
    "duration": 395,
    "start_time": "2024-02-17T15:09:53.202Z"
   },
   {
    "duration": 5,
    "start_time": "2024-02-17T15:09:53.599Z"
   },
   {
    "duration": 16,
    "start_time": "2024-02-17T15:09:53.606Z"
   },
   {
    "duration": 13,
    "start_time": "2024-02-17T15:09:53.624Z"
   },
   {
    "duration": 18,
    "start_time": "2024-02-17T15:09:53.639Z"
   },
   {
    "duration": 27,
    "start_time": "2024-02-17T15:09:53.659Z"
   },
   {
    "duration": 237,
    "start_time": "2024-02-17T15:09:53.688Z"
   },
   {
    "duration": 11,
    "start_time": "2024-02-17T15:09:53.927Z"
   },
   {
    "duration": 0,
    "start_time": "2024-02-17T15:09:53.940Z"
   },
   {
    "duration": 0,
    "start_time": "2024-02-17T15:09:53.941Z"
   },
   {
    "duration": 0,
    "start_time": "2024-02-17T15:09:53.943Z"
   },
   {
    "duration": 0,
    "start_time": "2024-02-17T15:09:53.944Z"
   },
   {
    "duration": 0,
    "start_time": "2024-02-17T15:09:53.945Z"
   },
   {
    "duration": 0,
    "start_time": "2024-02-17T15:09:53.947Z"
   },
   {
    "duration": 1589,
    "start_time": "2024-02-17T15:10:13.093Z"
   },
   {
    "duration": 1007,
    "start_time": "2024-02-17T15:10:14.684Z"
   },
   {
    "duration": 6,
    "start_time": "2024-02-17T15:10:15.693Z"
   },
   {
    "duration": 20,
    "start_time": "2024-02-17T15:10:15.702Z"
   },
   {
    "duration": 122,
    "start_time": "2024-02-17T15:10:15.724Z"
   },
   {
    "duration": 163,
    "start_time": "2024-02-17T15:10:15.848Z"
   },
   {
    "duration": 1014,
    "start_time": "2024-02-17T15:10:16.013Z"
   },
   {
    "duration": 7,
    "start_time": "2024-02-17T15:10:17.029Z"
   },
   {
    "duration": 88,
    "start_time": "2024-02-17T15:10:17.038Z"
   },
   {
    "duration": 543,
    "start_time": "2024-02-17T15:10:17.128Z"
   },
   {
    "duration": 15,
    "start_time": "2024-02-17T15:10:17.673Z"
   },
   {
    "duration": 25,
    "start_time": "2024-02-17T15:10:17.692Z"
   },
   {
    "duration": 254,
    "start_time": "2024-02-17T15:10:17.718Z"
   },
   {
    "duration": 302,
    "start_time": "2024-02-17T15:10:17.974Z"
   },
   {
    "duration": 205,
    "start_time": "2024-02-17T15:10:18.278Z"
   },
   {
    "duration": 19,
    "start_time": "2024-02-17T15:10:18.485Z"
   },
   {
    "duration": 6,
    "start_time": "2024-02-17T15:10:18.506Z"
   },
   {
    "duration": 24,
    "start_time": "2024-02-17T15:10:18.513Z"
   },
   {
    "duration": 5,
    "start_time": "2024-02-17T15:10:18.539Z"
   },
   {
    "duration": 46,
    "start_time": "2024-02-17T15:10:18.545Z"
   },
   {
    "duration": 5,
    "start_time": "2024-02-17T15:10:18.593Z"
   },
   {
    "duration": 25,
    "start_time": "2024-02-17T15:10:18.600Z"
   },
   {
    "duration": 17,
    "start_time": "2024-02-17T15:10:18.627Z"
   },
   {
    "duration": 552,
    "start_time": "2024-02-17T15:10:18.646Z"
   },
   {
    "duration": 11,
    "start_time": "2024-02-17T15:10:19.199Z"
   },
   {
    "duration": 24,
    "start_time": "2024-02-17T15:10:19.211Z"
   },
   {
    "duration": 24,
    "start_time": "2024-02-17T15:10:19.237Z"
   },
   {
    "duration": 44,
    "start_time": "2024-02-17T15:10:19.266Z"
   },
   {
    "duration": 10,
    "start_time": "2024-02-17T15:10:19.312Z"
   },
   {
    "duration": 25,
    "start_time": "2024-02-17T15:10:19.324Z"
   },
   {
    "duration": 20,
    "start_time": "2024-02-17T15:10:19.351Z"
   },
   {
    "duration": 28,
    "start_time": "2024-02-17T15:10:19.391Z"
   },
   {
    "duration": 98,
    "start_time": "2024-02-17T15:10:19.421Z"
   },
   {
    "duration": 3,
    "start_time": "2024-02-17T15:10:19.521Z"
   },
   {
    "duration": 102,
    "start_time": "2024-02-17T15:10:19.526Z"
   },
   {
    "duration": 104,
    "start_time": "2024-02-17T15:10:19.630Z"
   },
   {
    "duration": 131,
    "start_time": "2024-02-17T15:10:19.736Z"
   },
   {
    "duration": 4,
    "start_time": "2024-02-17T15:10:19.869Z"
   },
   {
    "duration": 61,
    "start_time": "2024-02-17T15:10:19.891Z"
   },
   {
    "duration": 75,
    "start_time": "2024-02-17T15:10:19.954Z"
   },
   {
    "duration": 66,
    "start_time": "2024-02-17T15:10:20.030Z"
   },
   {
    "duration": 65,
    "start_time": "2024-02-17T15:10:20.098Z"
   },
   {
    "duration": 42,
    "start_time": "2024-02-17T15:10:20.164Z"
   },
   {
    "duration": 92,
    "start_time": "2024-02-17T15:10:20.208Z"
   },
   {
    "duration": 6,
    "start_time": "2024-02-17T15:10:20.302Z"
   },
   {
    "duration": 9,
    "start_time": "2024-02-17T15:10:20.309Z"
   },
   {
    "duration": 23,
    "start_time": "2024-02-17T15:10:20.320Z"
   },
   {
    "duration": 9,
    "start_time": "2024-02-17T15:10:20.345Z"
   },
   {
    "duration": 25,
    "start_time": "2024-02-17T15:10:20.355Z"
   },
   {
    "duration": 25,
    "start_time": "2024-02-17T15:10:20.382Z"
   },
   {
    "duration": 24,
    "start_time": "2024-02-17T15:10:20.409Z"
   },
   {
    "duration": 5,
    "start_time": "2024-02-17T15:10:20.435Z"
   },
   {
    "duration": 358,
    "start_time": "2024-02-17T15:10:20.442Z"
   },
   {
    "duration": 193,
    "start_time": "2024-02-17T15:10:20.802Z"
   },
   {
    "duration": 96,
    "start_time": "2024-02-17T15:10:20.997Z"
   },
   {
    "duration": 18,
    "start_time": "2024-02-17T15:10:21.095Z"
   },
   {
    "duration": 10,
    "start_time": "2024-02-17T15:10:21.115Z"
   },
   {
    "duration": 12,
    "start_time": "2024-02-17T15:10:21.126Z"
   },
   {
    "duration": 21,
    "start_time": "2024-02-17T15:10:21.141Z"
   },
   {
    "duration": 11,
    "start_time": "2024-02-17T15:10:21.164Z"
   },
   {
    "duration": 37829,
    "start_time": "2024-02-17T15:10:21.177Z"
   },
   {
    "duration": 1719,
    "start_time": "2024-02-17T15:10:59.007Z"
   },
   {
    "duration": 4,
    "start_time": "2024-02-17T15:11:00.728Z"
   },
   {
    "duration": 65,
    "start_time": "2024-02-17T15:11:00.733Z"
   },
   {
    "duration": 57,
    "start_time": "2024-02-17T15:11:00.800Z"
   },
   {
    "duration": 85,
    "start_time": "2024-02-17T15:11:00.858Z"
   },
   {
    "duration": 40,
    "start_time": "2024-02-17T15:11:00.945Z"
   },
   {
    "duration": 417,
    "start_time": "2024-02-17T15:11:00.987Z"
   },
   {
    "duration": 34,
    "start_time": "2024-02-17T15:11:01.406Z"
   },
   {
    "duration": 9,
    "start_time": "2024-02-17T15:11:01.442Z"
   },
   {
    "duration": 40,
    "start_time": "2024-02-17T15:11:01.453Z"
   },
   {
    "duration": 6003,
    "start_time": "2024-02-17T15:11:01.495Z"
   },
   {
    "duration": 391,
    "start_time": "2024-02-17T15:11:07.500Z"
   },
   {
    "duration": 6,
    "start_time": "2024-02-17T15:11:07.893Z"
   },
   {
    "duration": 7,
    "start_time": "2024-02-17T15:11:07.901Z"
   },
   {
    "duration": 4,
    "start_time": "2024-02-17T15:11:07.910Z"
   },
   {
    "duration": 4,
    "start_time": "2024-02-17T15:11:07.916Z"
   },
   {
    "duration": 9,
    "start_time": "2024-02-17T15:11:07.921Z"
   },
   {
    "duration": 226,
    "start_time": "2024-02-17T15:11:07.932Z"
   },
   {
    "duration": 12,
    "start_time": "2024-02-17T15:11:08.160Z"
   },
   {
    "duration": 0,
    "start_time": "2024-02-17T15:11:08.173Z"
   },
   {
    "duration": 0,
    "start_time": "2024-02-17T15:11:08.175Z"
   },
   {
    "duration": 0,
    "start_time": "2024-02-17T15:11:08.176Z"
   },
   {
    "duration": 0,
    "start_time": "2024-02-17T15:11:08.177Z"
   },
   {
    "duration": 0,
    "start_time": "2024-02-17T15:11:08.178Z"
   },
   {
    "duration": 0,
    "start_time": "2024-02-17T15:11:08.180Z"
   },
   {
    "duration": 17,
    "start_time": "2024-02-17T15:12:08.923Z"
   },
   {
    "duration": 109,
    "start_time": "2024-02-17T15:12:54.368Z"
   },
   {
    "duration": 13,
    "start_time": "2024-02-17T15:13:30.985Z"
   },
   {
    "duration": 89,
    "start_time": "2024-02-17T15:13:49.118Z"
   },
   {
    "duration": 1657,
    "start_time": "2024-02-17T15:13:55.913Z"
   },
   {
    "duration": 86,
    "start_time": "2024-02-17T15:14:21.059Z"
   },
   {
    "duration": 17,
    "start_time": "2024-02-17T15:14:30.691Z"
   },
   {
    "duration": 110,
    "start_time": "2024-02-17T15:14:35.489Z"
   },
   {
    "duration": 162,
    "start_time": "2024-02-17T15:14:44.980Z"
   },
   {
    "duration": 82,
    "start_time": "2024-02-17T15:15:12.537Z"
   },
   {
    "duration": 138,
    "start_time": "2024-02-17T15:15:15.872Z"
   },
   {
    "duration": 10,
    "start_time": "2024-02-17T15:15:18.447Z"
   },
   {
    "duration": 5,
    "start_time": "2024-02-17T15:15:27.670Z"
   },
   {
    "duration": 5,
    "start_time": "2024-02-17T15:16:27.604Z"
   },
   {
    "duration": 1619,
    "start_time": "2024-02-17T15:16:46.714Z"
   },
   {
    "duration": 941,
    "start_time": "2024-02-17T15:16:48.336Z"
   },
   {
    "duration": 6,
    "start_time": "2024-02-17T15:16:49.278Z"
   },
   {
    "duration": 29,
    "start_time": "2024-02-17T15:16:49.285Z"
   },
   {
    "duration": 101,
    "start_time": "2024-02-17T15:16:49.315Z"
   },
   {
    "duration": 158,
    "start_time": "2024-02-17T15:16:49.418Z"
   },
   {
    "duration": 960,
    "start_time": "2024-02-17T15:16:49.577Z"
   },
   {
    "duration": 6,
    "start_time": "2024-02-17T15:16:50.539Z"
   },
   {
    "duration": 80,
    "start_time": "2024-02-17T15:16:50.547Z"
   },
   {
    "duration": 537,
    "start_time": "2024-02-17T15:16:50.630Z"
   },
   {
    "duration": 14,
    "start_time": "2024-02-17T15:16:51.168Z"
   },
   {
    "duration": 28,
    "start_time": "2024-02-17T15:16:51.200Z"
   },
   {
    "duration": 226,
    "start_time": "2024-02-17T15:16:51.231Z"
   },
   {
    "duration": 249,
    "start_time": "2024-02-17T15:16:51.458Z"
   },
   {
    "duration": 204,
    "start_time": "2024-02-17T15:16:51.709Z"
   },
   {
    "duration": 14,
    "start_time": "2024-02-17T15:16:51.915Z"
   },
   {
    "duration": 8,
    "start_time": "2024-02-17T15:16:51.931Z"
   },
   {
    "duration": 27,
    "start_time": "2024-02-17T15:16:51.940Z"
   },
   {
    "duration": 28,
    "start_time": "2024-02-17T15:16:51.968Z"
   },
   {
    "duration": 20,
    "start_time": "2024-02-17T15:16:51.998Z"
   },
   {
    "duration": 6,
    "start_time": "2024-02-17T15:16:52.020Z"
   },
   {
    "duration": 25,
    "start_time": "2024-02-17T15:16:52.028Z"
   },
   {
    "duration": 37,
    "start_time": "2024-02-17T15:16:52.055Z"
   },
   {
    "duration": 561,
    "start_time": "2024-02-17T15:16:52.095Z"
   },
   {
    "duration": 11,
    "start_time": "2024-02-17T15:16:52.658Z"
   },
   {
    "duration": 28,
    "start_time": "2024-02-17T15:16:52.671Z"
   },
   {
    "duration": 25,
    "start_time": "2024-02-17T15:16:52.701Z"
   },
   {
    "duration": 24,
    "start_time": "2024-02-17T15:16:52.732Z"
   },
   {
    "duration": 36,
    "start_time": "2024-02-17T15:16:52.757Z"
   },
   {
    "duration": 20,
    "start_time": "2024-02-17T15:16:52.795Z"
   },
   {
    "duration": 21,
    "start_time": "2024-02-17T15:16:52.817Z"
   },
   {
    "duration": 58,
    "start_time": "2024-02-17T15:16:52.839Z"
   },
   {
    "duration": 77,
    "start_time": "2024-02-17T15:16:52.899Z"
   },
   {
    "duration": 14,
    "start_time": "2024-02-17T15:16:52.978Z"
   },
   {
    "duration": 106,
    "start_time": "2024-02-17T15:16:52.994Z"
   },
   {
    "duration": 122,
    "start_time": "2024-02-17T15:16:53.101Z"
   },
   {
    "duration": 99,
    "start_time": "2024-02-17T15:16:53.224Z"
   },
   {
    "duration": 4,
    "start_time": "2024-02-17T15:16:53.325Z"
   },
   {
    "duration": 71,
    "start_time": "2024-02-17T15:16:53.331Z"
   },
   {
    "duration": 68,
    "start_time": "2024-02-17T15:16:53.404Z"
   },
   {
    "duration": 74,
    "start_time": "2024-02-17T15:16:53.474Z"
   },
   {
    "duration": 72,
    "start_time": "2024-02-17T15:16:53.549Z"
   },
   {
    "duration": 23,
    "start_time": "2024-02-17T15:16:53.623Z"
   },
   {
    "duration": 99,
    "start_time": "2024-02-17T15:16:53.648Z"
   },
   {
    "duration": 5,
    "start_time": "2024-02-17T15:16:53.749Z"
   },
   {
    "duration": 6,
    "start_time": "2024-02-17T15:16:53.756Z"
   },
   {
    "duration": 7,
    "start_time": "2024-02-17T15:16:53.763Z"
   },
   {
    "duration": 22,
    "start_time": "2024-02-17T15:16:53.771Z"
   },
   {
    "duration": 5,
    "start_time": "2024-02-17T15:16:53.795Z"
   },
   {
    "duration": 10,
    "start_time": "2024-02-17T15:16:53.803Z"
   },
   {
    "duration": 7,
    "start_time": "2024-02-17T15:16:53.816Z"
   },
   {
    "duration": 4,
    "start_time": "2024-02-17T15:16:53.825Z"
   },
   {
    "duration": 371,
    "start_time": "2024-02-17T15:16:53.830Z"
   },
   {
    "duration": 188,
    "start_time": "2024-02-17T15:16:54.203Z"
   },
   {
    "duration": 100,
    "start_time": "2024-02-17T15:16:54.393Z"
   },
   {
    "duration": 6,
    "start_time": "2024-02-17T15:16:54.494Z"
   },
   {
    "duration": 11,
    "start_time": "2024-02-17T15:16:54.502Z"
   },
   {
    "duration": 8,
    "start_time": "2024-02-17T15:16:54.515Z"
   },
   {
    "duration": 8,
    "start_time": "2024-02-17T15:16:54.524Z"
   },
   {
    "duration": 4,
    "start_time": "2024-02-17T15:16:54.534Z"
   },
   {
    "duration": 38306,
    "start_time": "2024-02-17T15:16:54.540Z"
   },
   {
    "duration": 1704,
    "start_time": "2024-02-17T15:17:32.848Z"
   },
   {
    "duration": 5,
    "start_time": "2024-02-17T15:17:34.554Z"
   },
   {
    "duration": 10,
    "start_time": "2024-02-17T15:17:34.561Z"
   },
   {
    "duration": 23,
    "start_time": "2024-02-17T15:17:34.573Z"
   },
   {
    "duration": 18,
    "start_time": "2024-02-17T15:17:34.597Z"
   },
   {
    "duration": 4,
    "start_time": "2024-02-17T15:17:34.617Z"
   },
   {
    "duration": 431,
    "start_time": "2024-02-17T15:17:34.623Z"
   },
   {
    "duration": 36,
    "start_time": "2024-02-17T15:17:35.056Z"
   },
   {
    "duration": 3,
    "start_time": "2024-02-17T15:17:35.093Z"
   },
   {
    "duration": 23,
    "start_time": "2024-02-17T15:17:35.098Z"
   },
   {
    "duration": 5273,
    "start_time": "2024-02-17T15:17:35.123Z"
   },
   {
    "duration": 394,
    "start_time": "2024-02-17T15:17:40.398Z"
   },
   {
    "duration": 6,
    "start_time": "2024-02-17T15:17:40.794Z"
   },
   {
    "duration": 5,
    "start_time": "2024-02-17T15:17:40.802Z"
   },
   {
    "duration": 6,
    "start_time": "2024-02-17T15:17:40.809Z"
   },
   {
    "duration": 4,
    "start_time": "2024-02-17T15:17:40.817Z"
   },
   {
    "duration": 12,
    "start_time": "2024-02-17T15:17:40.823Z"
   },
   {
    "duration": 232,
    "start_time": "2024-02-17T15:17:40.837Z"
   },
   {
    "duration": 12,
    "start_time": "2024-02-17T15:17:41.071Z"
   },
   {
    "duration": 0,
    "start_time": "2024-02-17T15:17:41.085Z"
   },
   {
    "duration": 0,
    "start_time": "2024-02-17T15:17:41.086Z"
   },
   {
    "duration": 0,
    "start_time": "2024-02-17T15:17:41.088Z"
   },
   {
    "duration": 4,
    "start_time": "2024-02-17T15:17:47.627Z"
   },
   {
    "duration": 9,
    "start_time": "2024-02-17T15:17:47.986Z"
   },
   {
    "duration": 4,
    "start_time": "2024-02-17T15:17:52.764Z"
   },
   {
    "duration": 110,
    "start_time": "2024-02-17T15:19:14.015Z"
   },
   {
    "duration": 95,
    "start_time": "2024-02-17T15:19:33.751Z"
   },
   {
    "duration": 4,
    "start_time": "2024-02-17T15:20:26.938Z"
   },
   {
    "duration": 5,
    "start_time": "2024-02-17T15:20:32.367Z"
   },
   {
    "duration": 1641,
    "start_time": "2024-02-17T15:21:22.164Z"
   },
   {
    "duration": 5,
    "start_time": "2024-02-17T15:21:25.482Z"
   },
   {
    "duration": 4,
    "start_time": "2024-02-17T15:21:41.460Z"
   },
   {
    "duration": 1647,
    "start_time": "2024-02-17T15:21:47.264Z"
   },
   {
    "duration": 964,
    "start_time": "2024-02-17T15:21:48.913Z"
   },
   {
    "duration": 5,
    "start_time": "2024-02-17T15:21:49.879Z"
   },
   {
    "duration": 18,
    "start_time": "2024-02-17T15:21:49.890Z"
   },
   {
    "duration": 166,
    "start_time": "2024-02-17T15:21:49.909Z"
   },
   {
    "duration": 171,
    "start_time": "2024-02-17T15:21:50.077Z"
   },
   {
    "duration": 937,
    "start_time": "2024-02-17T15:21:50.249Z"
   },
   {
    "duration": 8,
    "start_time": "2024-02-17T15:21:51.188Z"
   },
   {
    "duration": 79,
    "start_time": "2024-02-17T15:21:51.198Z"
   },
   {
    "duration": 580,
    "start_time": "2024-02-17T15:21:51.280Z"
   },
   {
    "duration": 14,
    "start_time": "2024-02-17T15:21:51.862Z"
   },
   {
    "duration": 30,
    "start_time": "2024-02-17T15:21:51.878Z"
   },
   {
    "duration": 247,
    "start_time": "2024-02-17T15:21:51.910Z"
   },
   {
    "duration": 257,
    "start_time": "2024-02-17T15:21:52.159Z"
   },
   {
    "duration": 210,
    "start_time": "2024-02-17T15:21:52.418Z"
   },
   {
    "duration": 16,
    "start_time": "2024-02-17T15:21:52.629Z"
   },
   {
    "duration": 6,
    "start_time": "2024-02-17T15:21:52.646Z"
   },
   {
    "duration": 42,
    "start_time": "2024-02-17T15:21:52.654Z"
   },
   {
    "duration": 5,
    "start_time": "2024-02-17T15:21:52.698Z"
   },
   {
    "duration": 19,
    "start_time": "2024-02-17T15:21:52.705Z"
   },
   {
    "duration": 6,
    "start_time": "2024-02-17T15:21:52.726Z"
   },
   {
    "duration": 23,
    "start_time": "2024-02-17T15:21:52.734Z"
   },
   {
    "duration": 35,
    "start_time": "2024-02-17T15:21:52.759Z"
   },
   {
    "duration": 551,
    "start_time": "2024-02-17T15:21:52.796Z"
   },
   {
    "duration": 11,
    "start_time": "2024-02-17T15:21:53.349Z"
   },
   {
    "duration": 43,
    "start_time": "2024-02-17T15:21:53.362Z"
   },
   {
    "duration": 26,
    "start_time": "2024-02-17T15:21:53.407Z"
   },
   {
    "duration": 24,
    "start_time": "2024-02-17T15:21:53.438Z"
   },
   {
    "duration": 32,
    "start_time": "2024-02-17T15:21:53.464Z"
   },
   {
    "duration": 21,
    "start_time": "2024-02-17T15:21:53.498Z"
   },
   {
    "duration": 20,
    "start_time": "2024-02-17T15:21:53.520Z"
   },
   {
    "duration": 52,
    "start_time": "2024-02-17T15:21:53.542Z"
   },
   {
    "duration": 76,
    "start_time": "2024-02-17T15:21:53.596Z"
   },
   {
    "duration": 4,
    "start_time": "2024-02-17T15:21:53.673Z"
   },
   {
    "duration": 100,
    "start_time": "2024-02-17T15:21:53.692Z"
   },
   {
    "duration": 111,
    "start_time": "2024-02-17T15:21:53.793Z"
   },
   {
    "duration": 105,
    "start_time": "2024-02-17T15:21:53.906Z"
   },
   {
    "duration": 4,
    "start_time": "2024-02-17T15:21:54.013Z"
   },
   {
    "duration": 77,
    "start_time": "2024-02-17T15:21:54.019Z"
   },
   {
    "duration": 59,
    "start_time": "2024-02-17T15:21:54.097Z"
   },
   {
    "duration": 84,
    "start_time": "2024-02-17T15:21:54.157Z"
   },
   {
    "duration": 75,
    "start_time": "2024-02-17T15:21:54.242Z"
   },
   {
    "duration": 24,
    "start_time": "2024-02-17T15:21:54.318Z"
   },
   {
    "duration": 99,
    "start_time": "2024-02-17T15:21:54.344Z"
   },
   {
    "duration": 5,
    "start_time": "2024-02-17T15:21:54.444Z"
   },
   {
    "duration": 12,
    "start_time": "2024-02-17T15:21:54.451Z"
   },
   {
    "duration": 9,
    "start_time": "2024-02-17T15:21:54.465Z"
   },
   {
    "duration": 4,
    "start_time": "2024-02-17T15:21:54.476Z"
   },
   {
    "duration": 14,
    "start_time": "2024-02-17T15:21:54.481Z"
   },
   {
    "duration": 11,
    "start_time": "2024-02-17T15:21:54.497Z"
   },
   {
    "duration": 4,
    "start_time": "2024-02-17T15:21:54.510Z"
   },
   {
    "duration": 9,
    "start_time": "2024-02-17T15:21:54.516Z"
   },
   {
    "duration": 372,
    "start_time": "2024-02-17T15:21:54.527Z"
   },
   {
    "duration": 130,
    "start_time": "2024-02-17T15:21:54.901Z"
   },
   {
    "duration": 159,
    "start_time": "2024-02-17T15:21:55.033Z"
   },
   {
    "duration": 26,
    "start_time": "2024-02-17T15:21:55.194Z"
   },
   {
    "duration": 59,
    "start_time": "2024-02-17T15:21:55.223Z"
   },
   {
    "duration": 16,
    "start_time": "2024-02-17T15:21:55.284Z"
   },
   {
    "duration": 36,
    "start_time": "2024-02-17T15:21:55.302Z"
   },
   {
    "duration": 24,
    "start_time": "2024-02-17T15:21:55.340Z"
   },
   {
    "duration": 38120,
    "start_time": "2024-02-17T15:21:55.366Z"
   },
   {
    "duration": 1635,
    "start_time": "2024-02-17T15:22:33.487Z"
   },
   {
    "duration": 4,
    "start_time": "2024-02-17T15:22:35.124Z"
   },
   {
    "duration": 8,
    "start_time": "2024-02-17T15:22:35.130Z"
   },
   {
    "duration": 18,
    "start_time": "2024-02-17T15:22:35.139Z"
   },
   {
    "duration": 15,
    "start_time": "2024-02-17T15:22:35.159Z"
   },
   {
    "duration": 17,
    "start_time": "2024-02-17T15:22:35.176Z"
   },
   {
    "duration": 350,
    "start_time": "2024-02-17T15:22:35.195Z"
   },
   {
    "duration": 34,
    "start_time": "2024-02-17T15:22:35.547Z"
   },
   {
    "duration": 9,
    "start_time": "2024-02-17T15:22:35.583Z"
   },
   {
    "duration": 10,
    "start_time": "2024-02-17T15:22:35.593Z"
   },
   {
    "duration": 4399,
    "start_time": "2024-02-17T15:22:35.604Z"
   },
   {
    "duration": 394,
    "start_time": "2024-02-17T15:22:40.005Z"
   },
   {
    "duration": 6,
    "start_time": "2024-02-17T15:22:40.400Z"
   },
   {
    "duration": 31,
    "start_time": "2024-02-17T15:22:40.408Z"
   },
   {
    "duration": 51,
    "start_time": "2024-02-17T15:22:40.441Z"
   },
   {
    "duration": 4,
    "start_time": "2024-02-17T15:22:40.494Z"
   },
   {
    "duration": 20,
    "start_time": "2024-02-17T15:22:40.500Z"
   },
   {
    "duration": 241,
    "start_time": "2024-02-17T15:22:40.521Z"
   },
   {
    "duration": 11,
    "start_time": "2024-02-17T15:22:40.764Z"
   },
   {
    "duration": 0,
    "start_time": "2024-02-17T15:22:40.777Z"
   },
   {
    "duration": 0,
    "start_time": "2024-02-17T15:22:40.779Z"
   },
   {
    "duration": 0,
    "start_time": "2024-02-17T15:22:40.781Z"
   },
   {
    "duration": 0,
    "start_time": "2024-02-17T15:22:40.782Z"
   },
   {
    "duration": 0,
    "start_time": "2024-02-17T15:22:40.784Z"
   },
   {
    "duration": 4,
    "start_time": "2024-02-17T15:24:06.963Z"
   },
   {
    "duration": 10,
    "start_time": "2024-02-17T15:24:07.180Z"
   },
   {
    "duration": 5,
    "start_time": "2024-02-17T15:24:11.435Z"
   },
   {
    "duration": 1656,
    "start_time": "2024-02-17T15:24:12.546Z"
   },
   {
    "duration": 4,
    "start_time": "2024-02-17T15:24:15.366Z"
   },
   {
    "duration": 1668,
    "start_time": "2024-02-17T15:25:29.470Z"
   },
   {
    "duration": 1012,
    "start_time": "2024-02-17T15:25:31.140Z"
   },
   {
    "duration": 5,
    "start_time": "2024-02-17T15:25:32.154Z"
   },
   {
    "duration": 109,
    "start_time": "2024-02-17T15:25:32.161Z"
   },
   {
    "duration": 194,
    "start_time": "2024-02-17T15:25:32.271Z"
   },
   {
    "duration": 154,
    "start_time": "2024-02-17T15:25:32.467Z"
   },
   {
    "duration": 1006,
    "start_time": "2024-02-17T15:25:32.632Z"
   },
   {
    "duration": 6,
    "start_time": "2024-02-17T15:25:33.640Z"
   },
   {
    "duration": 120,
    "start_time": "2024-02-17T15:25:33.647Z"
   },
   {
    "duration": 552,
    "start_time": "2024-02-17T15:25:33.770Z"
   },
   {
    "duration": 13,
    "start_time": "2024-02-17T15:25:34.324Z"
   },
   {
    "duration": 25,
    "start_time": "2024-02-17T15:25:34.339Z"
   },
   {
    "duration": 242,
    "start_time": "2024-02-17T15:25:34.365Z"
   },
   {
    "duration": 250,
    "start_time": "2024-02-17T15:25:34.608Z"
   },
   {
    "duration": 222,
    "start_time": "2024-02-17T15:25:34.860Z"
   },
   {
    "duration": 16,
    "start_time": "2024-02-17T15:25:35.084Z"
   },
   {
    "duration": 16,
    "start_time": "2024-02-17T15:25:35.101Z"
   },
   {
    "duration": 34,
    "start_time": "2024-02-17T15:25:35.119Z"
   },
   {
    "duration": 6,
    "start_time": "2024-02-17T15:25:35.155Z"
   },
   {
    "duration": 37,
    "start_time": "2024-02-17T15:25:35.163Z"
   },
   {
    "duration": 5,
    "start_time": "2024-02-17T15:25:35.202Z"
   },
   {
    "duration": 27,
    "start_time": "2024-02-17T15:25:35.208Z"
   },
   {
    "duration": 6,
    "start_time": "2024-02-17T15:25:35.237Z"
   },
   {
    "duration": 577,
    "start_time": "2024-02-17T15:25:35.245Z"
   },
   {
    "duration": 11,
    "start_time": "2024-02-17T15:25:35.824Z"
   },
   {
    "duration": 20,
    "start_time": "2024-02-17T15:25:35.836Z"
   },
   {
    "duration": 39,
    "start_time": "2024-02-17T15:25:35.858Z"
   },
   {
    "duration": 23,
    "start_time": "2024-02-17T15:25:35.901Z"
   },
   {
    "duration": 10,
    "start_time": "2024-02-17T15:25:35.926Z"
   },
   {
    "duration": 20,
    "start_time": "2024-02-17T15:25:35.938Z"
   },
   {
    "duration": 56,
    "start_time": "2024-02-17T15:25:35.959Z"
   },
   {
    "duration": 33,
    "start_time": "2024-02-17T15:25:36.017Z"
   },
   {
    "duration": 83,
    "start_time": "2024-02-17T15:25:36.052Z"
   },
   {
    "duration": 4,
    "start_time": "2024-02-17T15:25:36.136Z"
   },
   {
    "duration": 106,
    "start_time": "2024-02-17T15:25:36.142Z"
   },
   {
    "duration": 123,
    "start_time": "2024-02-17T15:25:36.250Z"
   },
   {
    "duration": 138,
    "start_time": "2024-02-17T15:25:36.376Z"
   },
   {
    "duration": 5,
    "start_time": "2024-02-17T15:25:36.515Z"
   },
   {
    "duration": 80,
    "start_time": "2024-02-17T15:25:36.522Z"
   },
   {
    "duration": 61,
    "start_time": "2024-02-17T15:25:36.603Z"
   },
   {
    "duration": 71,
    "start_time": "2024-02-17T15:25:36.666Z"
   },
   {
    "duration": 75,
    "start_time": "2024-02-17T15:25:36.739Z"
   },
   {
    "duration": 23,
    "start_time": "2024-02-17T15:25:36.816Z"
   },
   {
    "duration": 98,
    "start_time": "2024-02-17T15:25:36.841Z"
   },
   {
    "duration": 5,
    "start_time": "2024-02-17T15:25:36.941Z"
   },
   {
    "duration": 15,
    "start_time": "2024-02-17T15:25:36.948Z"
   },
   {
    "duration": 20,
    "start_time": "2024-02-17T15:25:36.965Z"
   },
   {
    "duration": 8,
    "start_time": "2024-02-17T15:25:36.987Z"
   },
   {
    "duration": 11,
    "start_time": "2024-02-17T15:25:36.997Z"
   },
   {
    "duration": 10,
    "start_time": "2024-02-17T15:25:37.010Z"
   },
   {
    "duration": 18,
    "start_time": "2024-02-17T15:25:37.021Z"
   },
   {
    "duration": 10,
    "start_time": "2024-02-17T15:25:37.041Z"
   },
   {
    "duration": 355,
    "start_time": "2024-02-17T15:25:37.052Z"
   },
   {
    "duration": 191,
    "start_time": "2024-02-17T15:25:37.408Z"
   },
   {
    "duration": 4,
    "start_time": "2024-02-17T15:25:37.692Z"
   },
   {
    "duration": 13,
    "start_time": "2024-02-17T15:25:37.698Z"
   },
   {
    "duration": 13,
    "start_time": "2024-02-17T15:25:37.713Z"
   },
   {
    "duration": 6,
    "start_time": "2024-02-17T15:25:37.728Z"
   },
   {
    "duration": 13,
    "start_time": "2024-02-17T15:25:37.736Z"
   },
   {
    "duration": 10,
    "start_time": "2024-02-17T15:25:37.751Z"
   },
   {
    "duration": 38315,
    "start_time": "2024-02-17T15:25:37.762Z"
   },
   {
    "duration": 1729,
    "start_time": "2024-02-17T15:26:16.079Z"
   },
   {
    "duration": 5,
    "start_time": "2024-02-17T15:26:17.809Z"
   },
   {
    "duration": 3,
    "start_time": "2024-02-17T15:26:17.817Z"
   },
   {
    "duration": 10,
    "start_time": "2024-02-17T15:26:17.822Z"
   },
   {
    "duration": 18,
    "start_time": "2024-02-17T15:26:17.834Z"
   },
   {
    "duration": 4,
    "start_time": "2024-02-17T15:26:17.854Z"
   },
   {
    "duration": 414,
    "start_time": "2024-02-17T15:26:17.860Z"
   },
   {
    "duration": 35,
    "start_time": "2024-02-17T15:26:18.276Z"
   },
   {
    "duration": 3,
    "start_time": "2024-02-17T15:26:18.313Z"
   },
   {
    "duration": 4,
    "start_time": "2024-02-17T15:26:18.317Z"
   },
   {
    "duration": 4679,
    "start_time": "2024-02-17T15:26:18.323Z"
   },
   {
    "duration": 394,
    "start_time": "2024-02-17T15:26:23.004Z"
   },
   {
    "duration": 5,
    "start_time": "2024-02-17T15:26:23.401Z"
   },
   {
    "duration": 5,
    "start_time": "2024-02-17T15:26:23.408Z"
   },
   {
    "duration": 5,
    "start_time": "2024-02-17T15:26:23.415Z"
   },
   {
    "duration": 29,
    "start_time": "2024-02-17T15:26:23.422Z"
   },
   {
    "duration": 41,
    "start_time": "2024-02-17T15:26:23.452Z"
   },
   {
    "duration": 230797,
    "start_time": "2024-02-17T15:26:23.495Z"
   },
   {
    "duration": 110,
    "start_time": "2024-02-17T15:30:14.294Z"
   },
   {
    "duration": 4,
    "start_time": "2024-02-17T15:30:14.406Z"
   },
   {
    "duration": 5,
    "start_time": "2024-02-17T15:30:14.416Z"
   },
   {
    "duration": 14,
    "start_time": "2024-02-17T15:30:14.423Z"
   },
   {
    "duration": 19,
    "start_time": "2024-02-17T15:30:14.439Z"
   },
   {
    "duration": 106,
    "start_time": "2024-02-17T15:31:07.319Z"
   },
   {
    "duration": 118,
    "start_time": "2024-02-17T15:31:39.635Z"
   },
   {
    "duration": 110,
    "start_time": "2024-02-17T15:31:42.907Z"
   },
   {
    "duration": 6,
    "start_time": "2024-02-17T15:31:43.502Z"
   },
   {
    "duration": 1873,
    "start_time": "2024-02-17T18:02:35.786Z"
   },
   {
    "duration": 2981,
    "start_time": "2024-02-17T18:02:37.740Z"
   },
   {
    "duration": 5,
    "start_time": "2024-02-17T18:02:40.724Z"
   },
   {
    "duration": 34,
    "start_time": "2024-02-17T18:02:40.731Z"
   },
   {
    "duration": 148,
    "start_time": "2024-02-17T18:02:43.276Z"
   },
   {
    "duration": 151,
    "start_time": "2024-02-17T18:02:45.494Z"
   },
   {
    "duration": 922,
    "start_time": "2024-02-17T18:02:46.027Z"
   },
   {
    "duration": 7,
    "start_time": "2024-02-17T18:02:47.724Z"
   },
   {
    "duration": 76,
    "start_time": "2024-02-17T18:02:48.641Z"
   },
   {
    "duration": 570,
    "start_time": "2024-02-17T18:02:49.691Z"
   },
   {
    "duration": 136,
    "start_time": "2024-02-17T18:02:59.567Z"
   },
   {
    "duration": 12,
    "start_time": "2024-02-17T18:03:18.193Z"
   },
   {
    "duration": 11,
    "start_time": "2024-02-17T18:03:48.814Z"
   },
   {
    "duration": 3687,
    "start_time": "2024-02-17T18:04:00.295Z"
   },
   {
    "duration": 43,
    "start_time": "2024-02-17T18:04:05.026Z"
   },
   {
    "duration": 18,
    "start_time": "2024-02-17T18:04:12.067Z"
   },
   {
    "duration": 242190,
    "start_time": "2024-02-17T18:06:24.307Z"
   },
   {
    "duration": 2570,
    "start_time": "2024-02-17T18:10:32.886Z"
   },
   {
    "duration": 1606,
    "start_time": "2024-02-17T18:10:35.458Z"
   },
   {
    "duration": 915,
    "start_time": "2024-02-17T18:10:37.066Z"
   },
   {
    "duration": 5,
    "start_time": "2024-02-17T18:10:37.983Z"
   },
   {
    "duration": 16,
    "start_time": "2024-02-17T18:10:37.990Z"
   },
   {
    "duration": 145,
    "start_time": "2024-02-17T18:10:38.007Z"
   },
   {
    "duration": 161,
    "start_time": "2024-02-17T18:10:38.154Z"
   },
   {
    "duration": 929,
    "start_time": "2024-02-17T18:10:38.317Z"
   },
   {
    "duration": 6,
    "start_time": "2024-02-17T18:10:39.248Z"
   },
   {
    "duration": 84,
    "start_time": "2024-02-17T18:10:39.256Z"
   },
   {
    "duration": 551,
    "start_time": "2024-02-17T18:10:39.342Z"
   },
   {
    "duration": 14,
    "start_time": "2024-02-17T18:10:39.895Z"
   },
   {
    "duration": 22,
    "start_time": "2024-02-17T18:10:39.911Z"
   },
   {
    "duration": 236,
    "start_time": "2024-02-17T18:10:39.935Z"
   },
   {
    "duration": 238,
    "start_time": "2024-02-17T18:10:40.172Z"
   },
   {
    "duration": 212,
    "start_time": "2024-02-17T18:10:40.411Z"
   },
   {
    "duration": 14,
    "start_time": "2024-02-17T18:10:40.624Z"
   },
   {
    "duration": 44,
    "start_time": "2024-02-17T18:10:40.639Z"
   },
   {
    "duration": 28,
    "start_time": "2024-02-17T18:10:40.685Z"
   },
   {
    "duration": 5,
    "start_time": "2024-02-17T18:10:40.715Z"
   },
   {
    "duration": 33,
    "start_time": "2024-02-17T18:10:40.721Z"
   },
   {
    "duration": 5,
    "start_time": "2024-02-17T18:10:40.756Z"
   },
   {
    "duration": 33,
    "start_time": "2024-02-17T18:10:40.762Z"
   },
   {
    "duration": 5,
    "start_time": "2024-02-17T18:10:40.797Z"
   },
   {
    "duration": 528,
    "start_time": "2024-02-17T18:10:40.803Z"
   },
   {
    "duration": 10,
    "start_time": "2024-02-17T18:10:41.333Z"
   },
   {
    "duration": 17,
    "start_time": "2024-02-17T18:10:41.345Z"
   },
   {
    "duration": 24,
    "start_time": "2024-02-17T18:10:41.379Z"
   },
   {
    "duration": 18,
    "start_time": "2024-02-17T18:10:41.405Z"
   },
   {
    "duration": 10,
    "start_time": "2024-02-17T18:10:41.425Z"
   },
   {
    "duration": 45,
    "start_time": "2024-02-17T18:10:41.436Z"
   },
   {
    "duration": 20,
    "start_time": "2024-02-17T18:10:41.483Z"
   },
   {
    "duration": 27,
    "start_time": "2024-02-17T18:10:41.505Z"
   },
   {
    "duration": 94,
    "start_time": "2024-02-17T18:10:41.533Z"
   },
   {
    "duration": 4,
    "start_time": "2024-02-17T18:10:41.628Z"
   },
   {
    "duration": 100,
    "start_time": "2024-02-17T18:10:41.633Z"
   },
   {
    "duration": 104,
    "start_time": "2024-02-17T18:10:41.735Z"
   },
   {
    "duration": 104,
    "start_time": "2024-02-17T18:10:41.841Z"
   },
   {
    "duration": 3,
    "start_time": "2024-02-17T18:10:41.947Z"
   },
   {
    "duration": 65,
    "start_time": "2024-02-17T18:10:41.952Z"
   },
   {
    "duration": 109,
    "start_time": "2024-02-17T18:10:42.019Z"
   },
   {
    "duration": 70,
    "start_time": "2024-02-17T18:10:42.130Z"
   },
   {
    "duration": 63,
    "start_time": "2024-02-17T18:10:42.202Z"
   },
   {
    "duration": 34,
    "start_time": "2024-02-17T18:10:42.267Z"
   },
   {
    "duration": 103,
    "start_time": "2024-02-17T18:10:42.303Z"
   },
   {
    "duration": 5,
    "start_time": "2024-02-17T18:10:42.408Z"
   },
   {
    "duration": 33,
    "start_time": "2024-02-17T18:10:42.415Z"
   },
   {
    "duration": 8,
    "start_time": "2024-02-17T18:10:42.451Z"
   },
   {
    "duration": 5,
    "start_time": "2024-02-17T18:10:42.461Z"
   },
   {
    "duration": 5,
    "start_time": "2024-02-17T18:10:42.468Z"
   },
   {
    "duration": 19,
    "start_time": "2024-02-17T18:10:42.475Z"
   },
   {
    "duration": 5,
    "start_time": "2024-02-17T18:10:42.496Z"
   },
   {
    "duration": 4,
    "start_time": "2024-02-17T18:10:42.502Z"
   },
   {
    "duration": 374,
    "start_time": "2024-02-17T18:10:42.508Z"
   },
   {
    "duration": 128,
    "start_time": "2024-02-17T18:10:42.884Z"
   },
   {
    "duration": 167,
    "start_time": "2024-02-17T18:10:43.014Z"
   },
   {
    "duration": 4,
    "start_time": "2024-02-17T18:10:43.182Z"
   },
   {
    "duration": 10,
    "start_time": "2024-02-17T18:10:43.187Z"
   },
   {
    "duration": 6,
    "start_time": "2024-02-17T18:10:43.199Z"
   },
   {
    "duration": 22,
    "start_time": "2024-02-17T18:10:43.206Z"
   },
   {
    "duration": 15,
    "start_time": "2024-02-17T18:10:43.230Z"
   },
   {
    "duration": 35876,
    "start_time": "2024-02-17T18:10:43.246Z"
   },
   {
    "duration": 1566,
    "start_time": "2024-02-17T18:11:19.124Z"
   },
   {
    "duration": 4,
    "start_time": "2024-02-17T18:11:20.692Z"
   },
   {
    "duration": 9,
    "start_time": "2024-02-17T18:11:20.698Z"
   },
   {
    "duration": 11,
    "start_time": "2024-02-17T18:11:20.709Z"
   },
   {
    "duration": 24,
    "start_time": "2024-02-17T18:11:20.722Z"
   },
   {
    "duration": 5,
    "start_time": "2024-02-17T18:11:20.748Z"
   },
   {
    "duration": 333,
    "start_time": "2024-02-17T18:11:20.755Z"
   },
   {
    "duration": 30,
    "start_time": "2024-02-17T18:11:21.089Z"
   },
   {
    "duration": 3,
    "start_time": "2024-02-17T18:11:21.120Z"
   },
   {
    "duration": 8,
    "start_time": "2024-02-17T18:11:21.125Z"
   },
   {
    "duration": 6954,
    "start_time": "2024-02-17T18:11:21.134Z"
   },
   {
    "duration": 391,
    "start_time": "2024-02-17T18:11:28.089Z"
   },
   {
    "duration": 6,
    "start_time": "2024-02-17T18:11:28.482Z"
   },
   {
    "duration": 5,
    "start_time": "2024-02-17T18:11:28.490Z"
   },
   {
    "duration": 16,
    "start_time": "2024-02-17T18:11:28.496Z"
   },
   {
    "duration": 5,
    "start_time": "2024-02-17T18:11:28.514Z"
   },
   {
    "duration": 6,
    "start_time": "2024-02-17T18:11:28.521Z"
   },
   {
    "duration": 11994,
    "start_time": "2024-02-17T18:11:28.529Z"
   },
   {
    "duration": 107,
    "start_time": "2024-02-17T18:11:40.526Z"
   },
   {
    "duration": 10,
    "start_time": "2024-02-17T18:11:40.638Z"
   },
   {
    "duration": 0,
    "start_time": "2024-02-17T18:11:40.649Z"
   },
   {
    "duration": 0,
    "start_time": "2024-02-17T18:11:40.650Z"
   },
   {
    "duration": 0,
    "start_time": "2024-02-17T18:11:40.651Z"
   },
   {
    "duration": 0,
    "start_time": "2024-02-17T18:11:40.652Z"
   },
   {
    "duration": 22,
    "start_time": "2024-02-17T18:12:24.688Z"
   },
   {
    "duration": 20,
    "start_time": "2024-02-17T18:14:22.603Z"
   },
   {
    "duration": 12,
    "start_time": "2024-02-17T18:15:10.193Z"
   },
   {
    "duration": 15,
    "start_time": "2024-02-17T18:15:41.950Z"
   },
   {
    "duration": 9,
    "start_time": "2024-02-17T18:15:44.644Z"
   },
   {
    "duration": 14,
    "start_time": "2024-02-17T18:18:12.428Z"
   },
   {
    "duration": 24,
    "start_time": "2024-02-17T18:18:35.799Z"
   },
   {
    "duration": 10,
    "start_time": "2024-02-17T18:25:14.750Z"
   },
   {
    "duration": 9,
    "start_time": "2024-02-17T18:26:16.890Z"
   },
   {
    "duration": 48,
    "start_time": "2024-02-17T18:27:34.204Z"
   },
   {
    "duration": 65,
    "start_time": "2024-02-17T18:27:55.986Z"
   },
   {
    "duration": 5,
    "start_time": "2024-02-17T18:27:58.276Z"
   },
   {
    "duration": 2625,
    "start_time": "2024-02-17T18:29:17.743Z"
   },
   {
    "duration": 1547,
    "start_time": "2024-02-17T18:29:20.370Z"
   },
   {
    "duration": 963,
    "start_time": "2024-02-17T18:29:21.918Z"
   },
   {
    "duration": 5,
    "start_time": "2024-02-17T18:29:22.883Z"
   },
   {
    "duration": 25,
    "start_time": "2024-02-17T18:29:22.889Z"
   },
   {
    "duration": 167,
    "start_time": "2024-02-17T18:29:22.915Z"
   },
   {
    "duration": 162,
    "start_time": "2024-02-17T18:29:23.084Z"
   },
   {
    "duration": 888,
    "start_time": "2024-02-17T18:29:23.248Z"
   },
   {
    "duration": 6,
    "start_time": "2024-02-17T18:29:24.138Z"
   },
   {
    "duration": 83,
    "start_time": "2024-02-17T18:29:24.147Z"
   },
   {
    "duration": 587,
    "start_time": "2024-02-17T18:29:24.232Z"
   },
   {
    "duration": 14,
    "start_time": "2024-02-17T18:29:24.821Z"
   },
   {
    "duration": 38,
    "start_time": "2024-02-17T18:29:24.836Z"
   },
   {
    "duration": 205,
    "start_time": "2024-02-17T18:29:24.876Z"
   },
   {
    "duration": 249,
    "start_time": "2024-02-17T18:29:25.082Z"
   },
   {
    "duration": 198,
    "start_time": "2024-02-17T18:29:25.333Z"
   },
   {
    "duration": 14,
    "start_time": "2024-02-17T18:29:25.533Z"
   },
   {
    "duration": 6,
    "start_time": "2024-02-17T18:29:25.549Z"
   },
   {
    "duration": 40,
    "start_time": "2024-02-17T18:29:25.556Z"
   },
   {
    "duration": 5,
    "start_time": "2024-02-17T18:29:25.597Z"
   },
   {
    "duration": 27,
    "start_time": "2024-02-17T18:29:25.603Z"
   },
   {
    "duration": 5,
    "start_time": "2024-02-17T18:29:25.632Z"
   },
   {
    "duration": 27,
    "start_time": "2024-02-17T18:29:25.638Z"
   },
   {
    "duration": 32,
    "start_time": "2024-02-17T18:29:25.667Z"
   },
   {
    "duration": 5,
    "start_time": "2024-02-17T18:29:25.701Z"
   },
   {
    "duration": 530,
    "start_time": "2024-02-17T18:29:25.707Z"
   },
   {
    "duration": 10,
    "start_time": "2024-02-17T18:29:26.238Z"
   },
   {
    "duration": 30,
    "start_time": "2024-02-17T18:29:26.253Z"
   },
   {
    "duration": 22,
    "start_time": "2024-02-17T18:29:26.285Z"
   },
   {
    "duration": 20,
    "start_time": "2024-02-17T18:29:26.309Z"
   },
   {
    "duration": 10,
    "start_time": "2024-02-17T18:29:26.330Z"
   },
   {
    "duration": 46,
    "start_time": "2024-02-17T18:29:26.342Z"
   },
   {
    "duration": 26,
    "start_time": "2024-02-17T18:29:26.389Z"
   },
   {
    "duration": 26,
    "start_time": "2024-02-17T18:29:26.417Z"
   },
   {
    "duration": 88,
    "start_time": "2024-02-17T18:29:26.444Z"
   },
   {
    "duration": 4,
    "start_time": "2024-02-17T18:29:26.534Z"
   },
   {
    "duration": 108,
    "start_time": "2024-02-17T18:29:26.540Z"
   },
   {
    "duration": 101,
    "start_time": "2024-02-17T18:29:26.650Z"
   },
   {
    "duration": 90,
    "start_time": "2024-02-17T18:29:26.753Z"
   },
   {
    "duration": 4,
    "start_time": "2024-02-17T18:29:26.844Z"
   },
   {
    "duration": 73,
    "start_time": "2024-02-17T18:29:26.850Z"
   },
   {
    "duration": 67,
    "start_time": "2024-02-17T18:29:26.925Z"
   },
   {
    "duration": 25,
    "start_time": "2024-02-17T18:29:26.993Z"
   },
   {
    "duration": 71,
    "start_time": "2024-02-17T18:29:27.020Z"
   },
   {
    "duration": 60,
    "start_time": "2024-02-17T18:29:27.093Z"
   },
   {
    "duration": 38,
    "start_time": "2024-02-17T18:29:27.155Z"
   },
   {
    "duration": 70,
    "start_time": "2024-02-17T18:29:27.195Z"
   },
   {
    "duration": 5,
    "start_time": "2024-02-17T18:29:27.267Z"
   },
   {
    "duration": 2,
    "start_time": "2024-02-17T18:29:27.281Z"
   },
   {
    "duration": 15,
    "start_time": "2024-02-17T18:29:27.285Z"
   },
   {
    "duration": 13,
    "start_time": "2024-02-17T18:29:27.302Z"
   },
   {
    "duration": 17,
    "start_time": "2024-02-17T18:29:27.317Z"
   },
   {
    "duration": 10,
    "start_time": "2024-02-17T18:29:27.335Z"
   },
   {
    "duration": 30,
    "start_time": "2024-02-17T18:29:27.346Z"
   },
   {
    "duration": 4,
    "start_time": "2024-02-17T18:29:27.378Z"
   },
   {
    "duration": 253,
    "start_time": "2024-02-17T18:29:27.383Z"
   },
   {
    "duration": 145,
    "start_time": "2024-02-17T18:29:27.637Z"
   },
   {
    "duration": 97,
    "start_time": "2024-02-17T18:29:27.783Z"
   },
   {
    "duration": 4,
    "start_time": "2024-02-17T18:29:27.883Z"
   },
   {
    "duration": 14,
    "start_time": "2024-02-17T18:29:27.889Z"
   },
   {
    "duration": 5,
    "start_time": "2024-02-17T18:29:27.904Z"
   },
   {
    "duration": 19,
    "start_time": "2024-02-17T18:29:27.911Z"
   },
   {
    "duration": 50,
    "start_time": "2024-02-17T18:29:27.932Z"
   },
   {
    "duration": 26221,
    "start_time": "2024-02-17T18:29:27.984Z"
   },
   {
    "duration": 1364,
    "start_time": "2024-02-17T18:29:54.207Z"
   },
   {
    "duration": 10,
    "start_time": "2024-02-17T18:29:55.572Z"
   },
   {
    "duration": 13,
    "start_time": "2024-02-17T18:29:55.583Z"
   },
   {
    "duration": 21,
    "start_time": "2024-02-17T18:29:55.597Z"
   },
   {
    "duration": 38,
    "start_time": "2024-02-17T18:29:55.620Z"
   },
   {
    "duration": 3,
    "start_time": "2024-02-17T18:29:55.659Z"
   },
   {
    "duration": 337,
    "start_time": "2024-02-17T18:29:55.664Z"
   },
   {
    "duration": 41,
    "start_time": "2024-02-17T18:29:56.003Z"
   },
   {
    "duration": 3,
    "start_time": "2024-02-17T18:29:56.047Z"
   },
   {
    "duration": 19,
    "start_time": "2024-02-17T18:29:56.051Z"
   },
   {
    "duration": 5909,
    "start_time": "2024-02-17T18:29:56.072Z"
   },
   {
    "duration": 308,
    "start_time": "2024-02-17T18:30:01.983Z"
   },
   {
    "duration": 5,
    "start_time": "2024-02-17T18:30:02.293Z"
   },
   {
    "duration": 22,
    "start_time": "2024-02-17T18:30:02.300Z"
   },
   {
    "duration": 20,
    "start_time": "2024-02-17T18:30:02.323Z"
   },
   {
    "duration": 37,
    "start_time": "2024-02-17T18:30:02.344Z"
   },
   {
    "duration": 23,
    "start_time": "2024-02-17T18:30:02.382Z"
   },
   {
    "duration": 211341,
    "start_time": "2024-02-17T18:30:02.411Z"
   },
   {
    "duration": 93,
    "start_time": "2024-02-17T18:33:33.753Z"
   },
   {
    "duration": 5,
    "start_time": "2024-02-17T18:33:33.848Z"
   },
   {
    "duration": 13,
    "start_time": "2024-02-17T18:33:33.854Z"
   },
   {
    "duration": 25,
    "start_time": "2024-02-17T18:33:33.868Z"
   },
   {
    "duration": 131,
    "start_time": "2024-02-17T18:33:33.895Z"
   },
   {
    "duration": 0,
    "start_time": "2024-02-17T18:33:34.028Z"
   },
   {
    "duration": 4,
    "start_time": "2024-02-17T18:35:49.792Z"
   },
   {
    "duration": 3,
    "start_time": "2024-02-17T18:35:54.836Z"
   },
   {
    "duration": 10,
    "start_time": "2024-02-17T18:36:04.860Z"
   },
   {
    "duration": 3,
    "start_time": "2024-02-17T18:36:09.433Z"
   },
   {
    "duration": 16971,
    "start_time": "2024-02-17T18:36:11.011Z"
   },
   {
    "duration": 70,
    "start_time": "2024-02-17T18:36:32.391Z"
   },
   {
    "duration": 4,
    "start_time": "2024-02-17T18:36:36.795Z"
   },
   {
    "duration": 3,
    "start_time": "2024-02-17T18:37:47.878Z"
   },
   {
    "duration": 3,
    "start_time": "2024-02-17T18:37:48.297Z"
   },
   {
    "duration": 3,
    "start_time": "2024-02-17T18:37:48.661Z"
   },
   {
    "duration": 193269,
    "start_time": "2024-02-17T18:37:49.617Z"
   },
   {
    "duration": 0,
    "start_time": "2024-02-17T18:41:02.993Z"
   },
   {
    "duration": 4,
    "start_time": "2024-02-17T18:41:19.965Z"
   },
   {
    "duration": 14,
    "start_time": "2024-02-17T18:45:16.829Z"
   },
   {
    "duration": 2644,
    "start_time": "2024-02-17T18:45:31.168Z"
   },
   {
    "duration": 1561,
    "start_time": "2024-02-17T18:45:33.814Z"
   },
   {
    "duration": 927,
    "start_time": "2024-02-17T18:45:35.377Z"
   },
   {
    "duration": 5,
    "start_time": "2024-02-17T18:45:36.306Z"
   },
   {
    "duration": 20,
    "start_time": "2024-02-17T18:45:36.313Z"
   },
   {
    "duration": 171,
    "start_time": "2024-02-17T18:45:36.335Z"
   },
   {
    "duration": 172,
    "start_time": "2024-02-17T18:45:36.508Z"
   },
   {
    "duration": 920,
    "start_time": "2024-02-17T18:45:36.682Z"
   },
   {
    "duration": 7,
    "start_time": "2024-02-17T18:45:37.604Z"
   },
   {
    "duration": 82,
    "start_time": "2024-02-17T18:45:37.614Z"
   },
   {
    "duration": 522,
    "start_time": "2024-02-17T18:45:37.698Z"
   },
   {
    "duration": 14,
    "start_time": "2024-02-17T18:45:38.221Z"
   },
   {
    "duration": 16,
    "start_time": "2024-02-17T18:45:38.237Z"
   },
   {
    "duration": 228,
    "start_time": "2024-02-17T18:45:38.255Z"
   },
   {
    "duration": 270,
    "start_time": "2024-02-17T18:45:38.485Z"
   },
   {
    "duration": 202,
    "start_time": "2024-02-17T18:45:38.757Z"
   },
   {
    "duration": 21,
    "start_time": "2024-02-17T18:45:38.961Z"
   },
   {
    "duration": 9,
    "start_time": "2024-02-17T18:45:38.984Z"
   },
   {
    "duration": 41,
    "start_time": "2024-02-17T18:45:38.996Z"
   },
   {
    "duration": 6,
    "start_time": "2024-02-17T18:45:39.038Z"
   },
   {
    "duration": 33,
    "start_time": "2024-02-17T18:45:39.046Z"
   },
   {
    "duration": 5,
    "start_time": "2024-02-17T18:45:39.081Z"
   },
   {
    "duration": 26,
    "start_time": "2024-02-17T18:45:39.087Z"
   },
   {
    "duration": 19,
    "start_time": "2024-02-17T18:45:39.115Z"
   },
   {
    "duration": 5,
    "start_time": "2024-02-17T18:45:39.136Z"
   },
   {
    "duration": 546,
    "start_time": "2024-02-17T18:45:39.142Z"
   },
   {
    "duration": 11,
    "start_time": "2024-02-17T18:45:39.690Z"
   },
   {
    "duration": 16,
    "start_time": "2024-02-17T18:45:39.706Z"
   },
   {
    "duration": 25,
    "start_time": "2024-02-17T18:45:39.723Z"
   },
   {
    "duration": 22,
    "start_time": "2024-02-17T18:45:39.779Z"
   },
   {
    "duration": 11,
    "start_time": "2024-02-17T18:45:39.803Z"
   },
   {
    "duration": 20,
    "start_time": "2024-02-17T18:45:39.816Z"
   },
   {
    "duration": 51,
    "start_time": "2024-02-17T18:45:39.838Z"
   },
   {
    "duration": 30,
    "start_time": "2024-02-17T18:45:39.890Z"
   },
   {
    "duration": 82,
    "start_time": "2024-02-17T18:45:39.922Z"
   },
   {
    "duration": 4,
    "start_time": "2024-02-17T18:45:40.005Z"
   },
   {
    "duration": 108,
    "start_time": "2024-02-17T18:45:40.010Z"
   },
   {
    "duration": 122,
    "start_time": "2024-02-17T18:45:40.121Z"
   },
   {
    "duration": 107,
    "start_time": "2024-02-17T18:45:40.245Z"
   },
   {
    "duration": 4,
    "start_time": "2024-02-17T18:45:40.354Z"
   },
   {
    "duration": 58,
    "start_time": "2024-02-17T18:45:40.380Z"
   },
   {
    "duration": 118,
    "start_time": "2024-02-17T18:45:40.440Z"
   },
   {
    "duration": 49,
    "start_time": "2024-02-17T18:45:40.561Z"
   },
   {
    "duration": 98,
    "start_time": "2024-02-17T18:45:40.612Z"
   },
   {
    "duration": 69,
    "start_time": "2024-02-17T18:45:40.711Z"
   },
   {
    "duration": 23,
    "start_time": "2024-02-17T18:45:40.782Z"
   },
   {
    "duration": 96,
    "start_time": "2024-02-17T18:45:40.807Z"
   },
   {
    "duration": 5,
    "start_time": "2024-02-17T18:45:40.904Z"
   },
   {
    "duration": 17,
    "start_time": "2024-02-17T18:45:40.911Z"
   },
   {
    "duration": 10,
    "start_time": "2024-02-17T18:45:40.930Z"
   },
   {
    "duration": 4,
    "start_time": "2024-02-17T18:45:40.942Z"
   },
   {
    "duration": 19,
    "start_time": "2024-02-17T18:45:40.948Z"
   },
   {
    "duration": 18,
    "start_time": "2024-02-17T18:45:40.968Z"
   },
   {
    "duration": 4,
    "start_time": "2024-02-17T18:45:40.988Z"
   },
   {
    "duration": 6,
    "start_time": "2024-02-17T18:45:40.993Z"
   },
   {
    "duration": 15779,
    "start_time": "2024-02-17T18:45:41.001Z"
   },
   {
    "duration": 71,
    "start_time": "2024-02-17T18:45:56.782Z"
   },
   {
    "duration": 5,
    "start_time": "2024-02-17T18:45:56.855Z"
   },
   {
    "duration": 3,
    "start_time": "2024-02-17T18:45:56.880Z"
   },
   {
    "duration": 13,
    "start_time": "2024-02-17T18:45:56.885Z"
   },
   {
    "duration": 3,
    "start_time": "2024-02-17T18:45:56.900Z"
   },
   {
    "duration": 8,
    "start_time": "2024-02-17T18:45:56.905Z"
   },
   {
    "duration": 6,
    "start_time": "2024-02-17T18:45:56.914Z"
   },
   {
    "duration": 194395,
    "start_time": "2024-02-17T18:45:56.921Z"
   },
   {
    "duration": 737,
    "start_time": "2024-02-17T18:49:11.318Z"
   },
   {
    "duration": 5,
    "start_time": "2024-02-17T18:49:12.058Z"
   },
   {
    "duration": 16,
    "start_time": "2024-02-17T18:49:12.065Z"
   },
   {
    "duration": 15,
    "start_time": "2024-02-17T18:49:12.083Z"
   },
   {
    "duration": 19,
    "start_time": "2024-02-17T18:49:12.101Z"
   },
   {
    "duration": 4,
    "start_time": "2024-02-17T18:49:12.122Z"
   },
   {
    "duration": 338,
    "start_time": "2024-02-17T18:49:12.128Z"
   },
   {
    "duration": 41,
    "start_time": "2024-02-17T18:49:12.468Z"
   },
   {
    "duration": 3,
    "start_time": "2024-02-17T18:49:12.511Z"
   },
   {
    "duration": 4,
    "start_time": "2024-02-17T18:49:12.516Z"
   },
   {
    "duration": 275871,
    "start_time": "2024-02-17T18:49:12.521Z"
   },
   {
    "duration": 291,
    "start_time": "2024-02-17T18:53:48.394Z"
   },
   {
    "duration": 5,
    "start_time": "2024-02-17T18:53:48.687Z"
   },
   {
    "duration": 35,
    "start_time": "2024-02-17T18:53:48.694Z"
   },
   {
    "duration": 7,
    "start_time": "2024-02-17T18:53:48.731Z"
   },
   {
    "duration": 11,
    "start_time": "2024-02-17T18:53:48.739Z"
   },
   {
    "duration": 17,
    "start_time": "2024-02-17T18:53:48.752Z"
   },
   {
    "duration": 215797,
    "start_time": "2024-02-17T18:53:48.784Z"
   },
   {
    "duration": 113,
    "start_time": "2024-02-17T18:57:24.583Z"
   },
   {
    "duration": 5,
    "start_time": "2024-02-17T18:57:24.699Z"
   },
   {
    "duration": 7,
    "start_time": "2024-02-17T18:57:24.706Z"
   },
   {
    "duration": 12,
    "start_time": "2024-02-17T18:57:24.715Z"
   },
   {
    "duration": 147,
    "start_time": "2024-02-17T18:57:24.729Z"
   },
   {
    "duration": 0,
    "start_time": "2024-02-17T18:57:24.878Z"
   },
   {
    "duration": 3,
    "start_time": "2024-02-17T19:01:09.117Z"
   },
   {
    "duration": 131422,
    "start_time": "2024-02-17T19:01:11.460Z"
   },
   {
    "duration": 122,
    "start_time": "2024-02-17T19:03:36.161Z"
   },
   {
    "duration": 5,
    "start_time": "2024-02-17T19:03:38.506Z"
   },
   {
    "duration": 3,
    "start_time": "2024-02-17T19:04:55.473Z"
   },
   {
    "duration": 63,
    "start_time": "2024-02-17T19:05:58.927Z"
   },
   {
    "duration": 10,
    "start_time": "2024-02-17T19:06:41.474Z"
   },
   {
    "duration": 113,
    "start_time": "2024-02-17T19:07:17.683Z"
   },
   {
    "duration": 4,
    "start_time": "2024-02-17T19:07:32.697Z"
   },
   {
    "duration": 120,
    "start_time": "2024-02-17T19:07:35.063Z"
   },
   {
    "duration": 12,
    "start_time": "2024-02-17T19:07:36.841Z"
   },
   {
    "duration": 5,
    "start_time": "2024-02-17T19:07:50.049Z"
   },
   {
    "duration": 2601,
    "start_time": "2024-02-17T19:10:08.092Z"
   },
   {
    "duration": 1523,
    "start_time": "2024-02-17T19:10:10.696Z"
   },
   {
    "duration": 926,
    "start_time": "2024-02-17T19:10:12.221Z"
   },
   {
    "duration": 5,
    "start_time": "2024-02-17T19:10:13.149Z"
   },
   {
    "duration": 24,
    "start_time": "2024-02-17T19:10:13.157Z"
   },
   {
    "duration": 146,
    "start_time": "2024-02-17T19:10:13.183Z"
   },
   {
    "duration": 157,
    "start_time": "2024-02-17T19:10:13.331Z"
   },
   {
    "duration": 881,
    "start_time": "2024-02-17T19:10:13.490Z"
   },
   {
    "duration": 7,
    "start_time": "2024-02-17T19:10:14.379Z"
   },
   {
    "duration": 87,
    "start_time": "2024-02-17T19:10:14.387Z"
   },
   {
    "duration": 535,
    "start_time": "2024-02-17T19:10:14.476Z"
   },
   {
    "duration": 127,
    "start_time": "2024-02-17T19:10:15.012Z"
   },
   {
    "duration": 0,
    "start_time": "2024-02-17T19:10:15.143Z"
   },
   {
    "duration": 0,
    "start_time": "2024-02-17T19:10:15.144Z"
   },
   {
    "duration": 0,
    "start_time": "2024-02-17T19:10:15.145Z"
   },
   {
    "duration": 0,
    "start_time": "2024-02-17T19:10:15.147Z"
   },
   {
    "duration": 0,
    "start_time": "2024-02-17T19:10:15.148Z"
   },
   {
    "duration": 0,
    "start_time": "2024-02-17T19:10:15.149Z"
   },
   {
    "duration": 0,
    "start_time": "2024-02-17T19:10:15.150Z"
   },
   {
    "duration": 0,
    "start_time": "2024-02-17T19:10:15.151Z"
   },
   {
    "duration": 0,
    "start_time": "2024-02-17T19:10:15.153Z"
   },
   {
    "duration": 0,
    "start_time": "2024-02-17T19:10:15.153Z"
   },
   {
    "duration": 0,
    "start_time": "2024-02-17T19:10:15.154Z"
   },
   {
    "duration": 0,
    "start_time": "2024-02-17T19:10:15.155Z"
   },
   {
    "duration": 0,
    "start_time": "2024-02-17T19:10:15.180Z"
   },
   {
    "duration": 0,
    "start_time": "2024-02-17T19:10:15.181Z"
   },
   {
    "duration": 0,
    "start_time": "2024-02-17T19:10:15.182Z"
   },
   {
    "duration": 0,
    "start_time": "2024-02-17T19:10:15.183Z"
   },
   {
    "duration": 0,
    "start_time": "2024-02-17T19:10:15.184Z"
   },
   {
    "duration": 0,
    "start_time": "2024-02-17T19:10:15.185Z"
   },
   {
    "duration": 0,
    "start_time": "2024-02-17T19:10:15.186Z"
   },
   {
    "duration": 0,
    "start_time": "2024-02-17T19:10:15.187Z"
   },
   {
    "duration": 0,
    "start_time": "2024-02-17T19:10:15.188Z"
   },
   {
    "duration": 0,
    "start_time": "2024-02-17T19:10:15.189Z"
   },
   {
    "duration": 0,
    "start_time": "2024-02-17T19:10:15.190Z"
   },
   {
    "duration": 0,
    "start_time": "2024-02-17T19:10:15.191Z"
   },
   {
    "duration": 0,
    "start_time": "2024-02-17T19:10:15.192Z"
   },
   {
    "duration": 0,
    "start_time": "2024-02-17T19:10:15.193Z"
   },
   {
    "duration": 0,
    "start_time": "2024-02-17T19:10:15.194Z"
   },
   {
    "duration": 0,
    "start_time": "2024-02-17T19:10:15.195Z"
   },
   {
    "duration": 0,
    "start_time": "2024-02-17T19:10:15.196Z"
   },
   {
    "duration": 0,
    "start_time": "2024-02-17T19:10:15.197Z"
   },
   {
    "duration": 0,
    "start_time": "2024-02-17T19:10:15.198Z"
   },
   {
    "duration": 0,
    "start_time": "2024-02-17T19:10:15.199Z"
   },
   {
    "duration": 0,
    "start_time": "2024-02-17T19:10:15.200Z"
   },
   {
    "duration": 0,
    "start_time": "2024-02-17T19:10:15.201Z"
   },
   {
    "duration": 0,
    "start_time": "2024-02-17T19:10:15.202Z"
   },
   {
    "duration": 0,
    "start_time": "2024-02-17T19:10:15.203Z"
   },
   {
    "duration": 0,
    "start_time": "2024-02-17T19:10:15.204Z"
   },
   {
    "duration": 0,
    "start_time": "2024-02-17T19:10:15.205Z"
   },
   {
    "duration": 0,
    "start_time": "2024-02-17T19:10:15.206Z"
   },
   {
    "duration": 0,
    "start_time": "2024-02-17T19:10:15.207Z"
   },
   {
    "duration": 0,
    "start_time": "2024-02-17T19:10:15.208Z"
   },
   {
    "duration": 0,
    "start_time": "2024-02-17T19:10:15.209Z"
   },
   {
    "duration": 0,
    "start_time": "2024-02-17T19:10:15.210Z"
   },
   {
    "duration": 0,
    "start_time": "2024-02-17T19:10:15.211Z"
   },
   {
    "duration": 0,
    "start_time": "2024-02-17T19:10:15.212Z"
   },
   {
    "duration": 0,
    "start_time": "2024-02-17T19:10:15.213Z"
   },
   {
    "duration": 0,
    "start_time": "2024-02-17T19:10:15.214Z"
   },
   {
    "duration": 0,
    "start_time": "2024-02-17T19:10:15.215Z"
   },
   {
    "duration": 0,
    "start_time": "2024-02-17T19:10:15.216Z"
   },
   {
    "duration": 0,
    "start_time": "2024-02-17T19:10:15.217Z"
   },
   {
    "duration": 0,
    "start_time": "2024-02-17T19:10:15.280Z"
   },
   {
    "duration": 0,
    "start_time": "2024-02-17T19:10:15.282Z"
   },
   {
    "duration": 0,
    "start_time": "2024-02-17T19:10:15.283Z"
   },
   {
    "duration": 0,
    "start_time": "2024-02-17T19:10:15.283Z"
   },
   {
    "duration": 0,
    "start_time": "2024-02-17T19:10:15.284Z"
   },
   {
    "duration": 0,
    "start_time": "2024-02-17T19:10:15.286Z"
   },
   {
    "duration": 0,
    "start_time": "2024-02-17T19:10:15.286Z"
   },
   {
    "duration": 0,
    "start_time": "2024-02-17T19:10:15.287Z"
   },
   {
    "duration": 0,
    "start_time": "2024-02-17T19:10:15.288Z"
   },
   {
    "duration": 0,
    "start_time": "2024-02-17T19:10:15.289Z"
   },
   {
    "duration": 0,
    "start_time": "2024-02-17T19:10:15.290Z"
   },
   {
    "duration": 0,
    "start_time": "2024-02-17T19:10:15.291Z"
   },
   {
    "duration": 0,
    "start_time": "2024-02-17T19:10:15.293Z"
   },
   {
    "duration": 0,
    "start_time": "2024-02-17T19:10:15.294Z"
   },
   {
    "duration": 0,
    "start_time": "2024-02-17T19:10:15.295Z"
   },
   {
    "duration": 0,
    "start_time": "2024-02-17T19:10:15.296Z"
   },
   {
    "duration": 0,
    "start_time": "2024-02-17T19:10:15.297Z"
   },
   {
    "duration": 0,
    "start_time": "2024-02-17T19:10:15.298Z"
   },
   {
    "duration": 0,
    "start_time": "2024-02-17T19:10:15.299Z"
   },
   {
    "duration": 0,
    "start_time": "2024-02-17T19:10:15.300Z"
   },
   {
    "duration": 0,
    "start_time": "2024-02-17T19:10:15.301Z"
   },
   {
    "duration": 0,
    "start_time": "2024-02-17T19:10:15.302Z"
   },
   {
    "duration": 0,
    "start_time": "2024-02-17T19:10:15.303Z"
   },
   {
    "duration": 0,
    "start_time": "2024-02-17T19:10:15.304Z"
   },
   {
    "duration": 0,
    "start_time": "2024-02-17T19:10:15.305Z"
   },
   {
    "duration": 0,
    "start_time": "2024-02-17T19:10:15.306Z"
   },
   {
    "duration": 0,
    "start_time": "2024-02-17T19:10:15.307Z"
   },
   {
    "duration": 0,
    "start_time": "2024-02-17T19:10:15.308Z"
   },
   {
    "duration": 109,
    "start_time": "2024-02-17T19:10:48.555Z"
   },
   {
    "duration": 123,
    "start_time": "2024-02-17T19:10:59.868Z"
   },
   {
    "duration": 230423,
    "start_time": "2024-02-17T19:11:13.905Z"
   },
   {
    "duration": 50238,
    "start_time": "2024-02-17T19:15:12.102Z"
   },
   {
    "duration": 0,
    "start_time": "2024-02-17T19:16:52.324Z"
   },
   {
    "duration": 0,
    "start_time": "2024-02-17T19:17:04.833Z"
   },
   {
    "duration": 29755,
    "start_time": "2024-02-17T19:17:06.092Z"
   },
   {
    "duration": 18066,
    "start_time": "2024-02-17T19:18:42.472Z"
   },
   {
    "duration": 48,
    "start_time": "2024-02-17T19:25:23.428Z"
   },
   {
    "duration": 2691,
    "start_time": "2024-02-17T19:25:29.416Z"
   },
   {
    "duration": 1653,
    "start_time": "2024-02-17T19:25:32.110Z"
   },
   {
    "duration": 2960,
    "start_time": "2024-02-17T19:25:33.765Z"
   },
   {
    "duration": 5,
    "start_time": "2024-02-17T19:25:36.728Z"
   },
   {
    "duration": 17,
    "start_time": "2024-02-17T19:25:36.735Z"
   },
   {
    "duration": 166,
    "start_time": "2024-02-17T19:25:36.754Z"
   },
   {
    "duration": 186,
    "start_time": "2024-02-17T19:25:36.922Z"
   },
   {
    "duration": 1011,
    "start_time": "2024-02-17T19:25:37.110Z"
   },
   {
    "duration": 6,
    "start_time": "2024-02-17T19:25:38.123Z"
   },
   {
    "duration": 90,
    "start_time": "2024-02-17T19:25:38.132Z"
   },
   {
    "duration": 661,
    "start_time": "2024-02-17T19:25:38.225Z"
   },
   {
    "duration": 2615,
    "start_time": "2024-02-17T19:31:04.342Z"
   },
   {
    "duration": 1587,
    "start_time": "2024-02-17T19:31:06.960Z"
   },
   {
    "duration": 938,
    "start_time": "2024-02-17T19:31:08.549Z"
   },
   {
    "duration": 5,
    "start_time": "2024-02-17T19:31:09.490Z"
   },
   {
    "duration": 37,
    "start_time": "2024-02-17T19:31:09.497Z"
   },
   {
    "duration": 101,
    "start_time": "2024-02-17T19:31:09.536Z"
   },
   {
    "duration": 160,
    "start_time": "2024-02-17T19:31:09.639Z"
   },
   {
    "duration": 910,
    "start_time": "2024-02-17T19:31:09.801Z"
   },
   {
    "duration": 6,
    "start_time": "2024-02-17T19:31:10.712Z"
   },
   {
    "duration": 79,
    "start_time": "2024-02-17T19:31:10.721Z"
   },
   {
    "duration": 506,
    "start_time": "2024-02-17T19:31:10.802Z"
   },
   {
    "duration": 65860,
    "start_time": "2024-02-17T19:31:11.309Z"
   },
   {
    "duration": 142,
    "start_time": "2024-02-17T19:32:17.172Z"
   },
   {
    "duration": 0,
    "start_time": "2024-02-17T19:32:17.318Z"
   },
   {
    "duration": 0,
    "start_time": "2024-02-17T19:32:17.319Z"
   },
   {
    "duration": 0,
    "start_time": "2024-02-17T19:32:17.321Z"
   },
   {
    "duration": 0,
    "start_time": "2024-02-17T19:32:17.322Z"
   },
   {
    "duration": 0,
    "start_time": "2024-02-17T19:32:17.324Z"
   },
   {
    "duration": 0,
    "start_time": "2024-02-17T19:32:17.325Z"
   },
   {
    "duration": 0,
    "start_time": "2024-02-17T19:32:17.326Z"
   },
   {
    "duration": 0,
    "start_time": "2024-02-17T19:32:17.327Z"
   },
   {
    "duration": 0,
    "start_time": "2024-02-17T19:32:17.328Z"
   },
   {
    "duration": 0,
    "start_time": "2024-02-17T19:32:17.329Z"
   },
   {
    "duration": 0,
    "start_time": "2024-02-17T19:32:17.330Z"
   },
   {
    "duration": 0,
    "start_time": "2024-02-17T19:32:17.331Z"
   },
   {
    "duration": 0,
    "start_time": "2024-02-17T19:32:17.332Z"
   },
   {
    "duration": 0,
    "start_time": "2024-02-17T19:32:17.333Z"
   },
   {
    "duration": 0,
    "start_time": "2024-02-17T19:32:17.334Z"
   },
   {
    "duration": 0,
    "start_time": "2024-02-17T19:32:17.335Z"
   },
   {
    "duration": 0,
    "start_time": "2024-02-17T19:32:17.336Z"
   },
   {
    "duration": 0,
    "start_time": "2024-02-17T19:32:17.337Z"
   },
   {
    "duration": 0,
    "start_time": "2024-02-17T19:32:17.338Z"
   },
   {
    "duration": 0,
    "start_time": "2024-02-17T19:32:17.339Z"
   },
   {
    "duration": 0,
    "start_time": "2024-02-17T19:32:17.340Z"
   },
   {
    "duration": 0,
    "start_time": "2024-02-17T19:32:17.341Z"
   },
   {
    "duration": 0,
    "start_time": "2024-02-17T19:32:17.380Z"
   },
   {
    "duration": 0,
    "start_time": "2024-02-17T19:32:17.382Z"
   },
   {
    "duration": 0,
    "start_time": "2024-02-17T19:32:17.383Z"
   },
   {
    "duration": 0,
    "start_time": "2024-02-17T19:32:17.385Z"
   },
   {
    "duration": 0,
    "start_time": "2024-02-17T19:32:17.386Z"
   },
   {
    "duration": 0,
    "start_time": "2024-02-17T19:32:17.387Z"
   },
   {
    "duration": 0,
    "start_time": "2024-02-17T19:32:17.389Z"
   },
   {
    "duration": 0,
    "start_time": "2024-02-17T19:32:17.390Z"
   },
   {
    "duration": 0,
    "start_time": "2024-02-17T19:32:17.391Z"
   },
   {
    "duration": 0,
    "start_time": "2024-02-17T19:32:17.393Z"
   },
   {
    "duration": 0,
    "start_time": "2024-02-17T19:32:17.395Z"
   },
   {
    "duration": 0,
    "start_time": "2024-02-17T19:32:17.396Z"
   },
   {
    "duration": 0,
    "start_time": "2024-02-17T19:32:17.398Z"
   },
   {
    "duration": 0,
    "start_time": "2024-02-17T19:32:17.399Z"
   },
   {
    "duration": 0,
    "start_time": "2024-02-17T19:32:17.401Z"
   },
   {
    "duration": 0,
    "start_time": "2024-02-17T19:32:17.403Z"
   },
   {
    "duration": 0,
    "start_time": "2024-02-17T19:32:17.404Z"
   },
   {
    "duration": 0,
    "start_time": "2024-02-17T19:32:17.405Z"
   },
   {
    "duration": 0,
    "start_time": "2024-02-17T19:32:17.407Z"
   },
   {
    "duration": 0,
    "start_time": "2024-02-17T19:32:17.409Z"
   },
   {
    "duration": 0,
    "start_time": "2024-02-17T19:32:17.410Z"
   },
   {
    "duration": 1,
    "start_time": "2024-02-17T19:32:17.411Z"
   },
   {
    "duration": 0,
    "start_time": "2024-02-17T19:32:17.413Z"
   },
   {
    "duration": 0,
    "start_time": "2024-02-17T19:32:17.414Z"
   },
   {
    "duration": 0,
    "start_time": "2024-02-17T19:32:17.416Z"
   },
   {
    "duration": 0,
    "start_time": "2024-02-17T19:32:17.417Z"
   },
   {
    "duration": 0,
    "start_time": "2024-02-17T19:32:17.418Z"
   },
   {
    "duration": 0,
    "start_time": "2024-02-17T19:32:17.420Z"
   },
   {
    "duration": 0,
    "start_time": "2024-02-17T19:32:17.483Z"
   },
   {
    "duration": 0,
    "start_time": "2024-02-17T19:32:17.485Z"
   },
   {
    "duration": 0,
    "start_time": "2024-02-17T19:32:17.487Z"
   },
   {
    "duration": 0,
    "start_time": "2024-02-17T19:32:17.489Z"
   },
   {
    "duration": 0,
    "start_time": "2024-02-17T19:32:17.490Z"
   },
   {
    "duration": 0,
    "start_time": "2024-02-17T19:32:17.491Z"
   },
   {
    "duration": 0,
    "start_time": "2024-02-17T19:32:17.491Z"
   },
   {
    "duration": 0,
    "start_time": "2024-02-17T19:32:17.493Z"
   },
   {
    "duration": 0,
    "start_time": "2024-02-17T19:32:17.494Z"
   },
   {
    "duration": 0,
    "start_time": "2024-02-17T19:32:17.495Z"
   },
   {
    "duration": 0,
    "start_time": "2024-02-17T19:32:17.496Z"
   },
   {
    "duration": 0,
    "start_time": "2024-02-17T19:32:17.497Z"
   },
   {
    "duration": 0,
    "start_time": "2024-02-17T19:32:17.498Z"
   },
   {
    "duration": 0,
    "start_time": "2024-02-17T19:32:17.499Z"
   },
   {
    "duration": 0,
    "start_time": "2024-02-17T19:32:17.500Z"
   },
   {
    "duration": 0,
    "start_time": "2024-02-17T19:32:17.502Z"
   },
   {
    "duration": 0,
    "start_time": "2024-02-17T19:32:17.503Z"
   },
   {
    "duration": 0,
    "start_time": "2024-02-17T19:32:17.504Z"
   },
   {
    "duration": 0,
    "start_time": "2024-02-17T19:32:17.505Z"
   },
   {
    "duration": 0,
    "start_time": "2024-02-17T19:32:17.506Z"
   },
   {
    "duration": 0,
    "start_time": "2024-02-17T19:32:17.507Z"
   },
   {
    "duration": 0,
    "start_time": "2024-02-17T19:32:17.508Z"
   },
   {
    "duration": 0,
    "start_time": "2024-02-17T19:32:17.509Z"
   },
   {
    "duration": 0,
    "start_time": "2024-02-17T19:32:17.510Z"
   },
   {
    "duration": 0,
    "start_time": "2024-02-17T19:32:17.511Z"
   },
   {
    "duration": 0,
    "start_time": "2024-02-17T19:32:17.512Z"
   },
   {
    "duration": 0,
    "start_time": "2024-02-17T19:32:17.513Z"
   },
   {
    "duration": 0,
    "start_time": "2024-02-17T19:32:17.514Z"
   },
   {
    "duration": 13,
    "start_time": "2024-02-17T19:33:57.711Z"
   },
   {
    "duration": 5,
    "start_time": "2024-02-17T19:34:03.281Z"
   },
   {
    "duration": 4,
    "start_time": "2024-02-17T19:34:11.946Z"
   },
   {
    "duration": 17,
    "start_time": "2024-02-17T19:35:05.581Z"
   },
   {
    "duration": 4,
    "start_time": "2024-02-17T19:35:16.654Z"
   },
   {
    "duration": 28,
    "start_time": "2024-02-17T19:37:08.193Z"
   },
   {
    "duration": 65,
    "start_time": "2024-02-17T19:37:47.320Z"
   },
   {
    "duration": 53,
    "start_time": "2024-02-17T19:38:00.904Z"
   },
   {
    "duration": 40,
    "start_time": "2024-02-17T19:38:34.146Z"
   },
   {
    "duration": 53,
    "start_time": "2024-02-17T19:38:39.213Z"
   },
   {
    "duration": 28428,
    "start_time": "2024-02-17T19:38:53.893Z"
   },
   {
    "duration": 0,
    "start_time": "2024-02-17T19:39:22.323Z"
   },
   {
    "duration": 2960,
    "start_time": "2024-02-17T19:39:27.434Z"
   },
   {
    "duration": 1688,
    "start_time": "2024-02-17T19:39:30.401Z"
   },
   {
    "duration": 1069,
    "start_time": "2024-02-17T19:39:32.092Z"
   },
   {
    "duration": 5,
    "start_time": "2024-02-17T19:39:33.163Z"
   },
   {
    "duration": 24,
    "start_time": "2024-02-17T19:39:33.191Z"
   },
   {
    "duration": 158,
    "start_time": "2024-02-17T19:39:33.216Z"
   },
   {
    "duration": 196,
    "start_time": "2024-02-17T19:39:33.375Z"
   },
   {
    "duration": 1036,
    "start_time": "2024-02-17T19:39:33.580Z"
   },
   {
    "duration": 7,
    "start_time": "2024-02-17T19:39:34.618Z"
   },
   {
    "duration": 87,
    "start_time": "2024-02-17T19:39:34.628Z"
   },
   {
    "duration": 545,
    "start_time": "2024-02-17T19:39:34.717Z"
   },
   {
    "duration": 58,
    "start_time": "2024-02-17T19:39:35.264Z"
   },
   {
    "duration": 105988,
    "start_time": "2024-02-17T19:39:35.323Z"
   },
   {
    "duration": 141,
    "start_time": "2024-02-17T19:41:21.313Z"
   },
   {
    "duration": 0,
    "start_time": "2024-02-17T19:41:21.539Z"
   },
   {
    "duration": 0,
    "start_time": "2024-02-17T19:41:21.541Z"
   },
   {
    "duration": 0,
    "start_time": "2024-02-17T19:41:21.542Z"
   },
   {
    "duration": 0,
    "start_time": "2024-02-17T19:41:21.543Z"
   },
   {
    "duration": 0,
    "start_time": "2024-02-17T19:41:21.544Z"
   },
   {
    "duration": 0,
    "start_time": "2024-02-17T19:41:21.545Z"
   },
   {
    "duration": 0,
    "start_time": "2024-02-17T19:41:21.546Z"
   },
   {
    "duration": 0,
    "start_time": "2024-02-17T19:41:21.547Z"
   },
   {
    "duration": 0,
    "start_time": "2024-02-17T19:41:21.548Z"
   },
   {
    "duration": 0,
    "start_time": "2024-02-17T19:41:21.550Z"
   },
   {
    "duration": 0,
    "start_time": "2024-02-17T19:41:21.551Z"
   },
   {
    "duration": 0,
    "start_time": "2024-02-17T19:41:21.552Z"
   },
   {
    "duration": 0,
    "start_time": "2024-02-17T19:41:21.553Z"
   },
   {
    "duration": 0,
    "start_time": "2024-02-17T19:41:21.583Z"
   },
   {
    "duration": 0,
    "start_time": "2024-02-17T19:41:21.584Z"
   },
   {
    "duration": 0,
    "start_time": "2024-02-17T19:41:21.585Z"
   },
   {
    "duration": 0,
    "start_time": "2024-02-17T19:41:21.585Z"
   },
   {
    "duration": 0,
    "start_time": "2024-02-17T19:41:21.586Z"
   },
   {
    "duration": 0,
    "start_time": "2024-02-17T19:41:21.589Z"
   },
   {
    "duration": 0,
    "start_time": "2024-02-17T19:41:21.590Z"
   },
   {
    "duration": 0,
    "start_time": "2024-02-17T19:41:21.592Z"
   },
   {
    "duration": 1,
    "start_time": "2024-02-17T19:41:21.592Z"
   },
   {
    "duration": 0,
    "start_time": "2024-02-17T19:41:21.593Z"
   },
   {
    "duration": 0,
    "start_time": "2024-02-17T19:41:21.594Z"
   },
   {
    "duration": 0,
    "start_time": "2024-02-17T19:41:21.595Z"
   },
   {
    "duration": 0,
    "start_time": "2024-02-17T19:41:21.596Z"
   },
   {
    "duration": 0,
    "start_time": "2024-02-17T19:41:21.597Z"
   },
   {
    "duration": 0,
    "start_time": "2024-02-17T19:41:21.598Z"
   },
   {
    "duration": 0,
    "start_time": "2024-02-17T19:41:21.605Z"
   },
   {
    "duration": 1,
    "start_time": "2024-02-17T19:41:21.605Z"
   },
   {
    "duration": 0,
    "start_time": "2024-02-17T19:41:21.606Z"
   },
   {
    "duration": 0,
    "start_time": "2024-02-17T19:41:21.607Z"
   },
   {
    "duration": 0,
    "start_time": "2024-02-17T19:41:21.608Z"
   },
   {
    "duration": 0,
    "start_time": "2024-02-17T19:41:21.609Z"
   },
   {
    "duration": 0,
    "start_time": "2024-02-17T19:41:21.610Z"
   },
   {
    "duration": 0,
    "start_time": "2024-02-17T19:41:21.612Z"
   },
   {
    "duration": 0,
    "start_time": "2024-02-17T19:41:21.613Z"
   },
   {
    "duration": 0,
    "start_time": "2024-02-17T19:41:21.614Z"
   },
   {
    "duration": 0,
    "start_time": "2024-02-17T19:41:21.615Z"
   },
   {
    "duration": 0,
    "start_time": "2024-02-17T19:41:21.616Z"
   },
   {
    "duration": 1,
    "start_time": "2024-02-17T19:41:21.616Z"
   },
   {
    "duration": 0,
    "start_time": "2024-02-17T19:41:21.617Z"
   },
   {
    "duration": 0,
    "start_time": "2024-02-17T19:41:21.618Z"
   },
   {
    "duration": 0,
    "start_time": "2024-02-17T19:41:21.619Z"
   },
   {
    "duration": 0,
    "start_time": "2024-02-17T19:41:21.620Z"
   },
   {
    "duration": 0,
    "start_time": "2024-02-17T19:41:21.621Z"
   },
   {
    "duration": 0,
    "start_time": "2024-02-17T19:41:21.622Z"
   },
   {
    "duration": 0,
    "start_time": "2024-02-17T19:41:21.623Z"
   },
   {
    "duration": 0,
    "start_time": "2024-02-17T19:41:21.624Z"
   },
   {
    "duration": 0,
    "start_time": "2024-02-17T19:41:21.625Z"
   },
   {
    "duration": 0,
    "start_time": "2024-02-17T19:41:21.626Z"
   },
   {
    "duration": 0,
    "start_time": "2024-02-17T19:41:21.627Z"
   },
   {
    "duration": 0,
    "start_time": "2024-02-17T19:41:21.628Z"
   },
   {
    "duration": 0,
    "start_time": "2024-02-17T19:41:21.629Z"
   },
   {
    "duration": 0,
    "start_time": "2024-02-17T19:41:21.630Z"
   },
   {
    "duration": 0,
    "start_time": "2024-02-17T19:41:21.687Z"
   },
   {
    "duration": 0,
    "start_time": "2024-02-17T19:41:21.689Z"
   },
   {
    "duration": 0,
    "start_time": "2024-02-17T19:41:21.690Z"
   },
   {
    "duration": 0,
    "start_time": "2024-02-17T19:41:21.691Z"
   },
   {
    "duration": 0,
    "start_time": "2024-02-17T19:41:21.695Z"
   },
   {
    "duration": 0,
    "start_time": "2024-02-17T19:41:21.696Z"
   },
   {
    "duration": 0,
    "start_time": "2024-02-17T19:41:21.697Z"
   },
   {
    "duration": 0,
    "start_time": "2024-02-17T19:41:21.698Z"
   },
   {
    "duration": 0,
    "start_time": "2024-02-17T19:41:21.702Z"
   },
   {
    "duration": 0,
    "start_time": "2024-02-17T19:41:21.704Z"
   },
   {
    "duration": 0,
    "start_time": "2024-02-17T19:41:21.706Z"
   },
   {
    "duration": 0,
    "start_time": "2024-02-17T19:41:21.708Z"
   },
   {
    "duration": 0,
    "start_time": "2024-02-17T19:41:21.711Z"
   },
   {
    "duration": 0,
    "start_time": "2024-02-17T19:41:21.712Z"
   },
   {
    "duration": 0,
    "start_time": "2024-02-17T19:41:21.713Z"
   },
   {
    "duration": 0,
    "start_time": "2024-02-17T19:41:21.714Z"
   },
   {
    "duration": 0,
    "start_time": "2024-02-17T19:41:21.715Z"
   },
   {
    "duration": 0,
    "start_time": "2024-02-17T19:41:21.716Z"
   },
   {
    "duration": 0,
    "start_time": "2024-02-17T19:41:21.717Z"
   },
   {
    "duration": 0,
    "start_time": "2024-02-17T19:41:21.718Z"
   },
   {
    "duration": 0,
    "start_time": "2024-02-17T19:41:21.720Z"
   },
   {
    "duration": 0,
    "start_time": "2024-02-17T19:41:21.721Z"
   },
   {
    "duration": 0,
    "start_time": "2024-02-17T19:41:21.722Z"
   },
   {
    "duration": 52,
    "start_time": "2024-02-18T06:34:31.953Z"
   },
   {
    "duration": 1547,
    "start_time": "2024-02-18T06:34:41.853Z"
   },
   {
    "duration": 4195,
    "start_time": "2024-02-18T06:34:46.515Z"
   },
   {
    "duration": 116,
    "start_time": "2024-02-18T06:34:58.429Z"
   },
   {
    "duration": 1119,
    "start_time": "2024-02-18T06:34:59.776Z"
   },
   {
    "duration": 6,
    "start_time": "2024-02-18T06:35:00.897Z"
   },
   {
    "duration": 57,
    "start_time": "2024-02-18T06:35:00.904Z"
   },
   {
    "duration": 148,
    "start_time": "2024-02-18T06:35:00.963Z"
   },
   {
    "duration": 142,
    "start_time": "2024-02-18T06:35:01.436Z"
   },
   {
    "duration": 807,
    "start_time": "2024-02-18T06:35:02.047Z"
   },
   {
    "duration": 6,
    "start_time": "2024-02-18T06:35:02.856Z"
   },
   {
    "duration": 69,
    "start_time": "2024-02-18T06:35:03.511Z"
   },
   {
    "duration": 529,
    "start_time": "2024-02-18T06:35:03.856Z"
   },
   {
    "duration": 33,
    "start_time": "2024-02-18T06:35:06.160Z"
   },
   {
    "duration": 93587,
    "start_time": "2024-02-18T06:35:07.128Z"
   },
   {
    "duration": 18,
    "start_time": "2024-02-18T06:37:50.522Z"
   },
   {
    "duration": 20,
    "start_time": "2024-02-18T06:37:57.844Z"
   },
   {
    "duration": 196,
    "start_time": "2024-02-18T06:37:59.092Z"
   },
   {
    "duration": 227,
    "start_time": "2024-02-18T06:37:59.290Z"
   },
   {
    "duration": 179,
    "start_time": "2024-02-18T06:37:59.603Z"
   },
   {
    "duration": 13,
    "start_time": "2024-02-18T06:38:00.287Z"
   },
   {
    "duration": 5,
    "start_time": "2024-02-18T06:38:00.483Z"
   },
   {
    "duration": 20,
    "start_time": "2024-02-18T06:38:00.908Z"
   },
   {
    "duration": 6,
    "start_time": "2024-02-18T06:38:01.818Z"
   },
   {
    "duration": 19,
    "start_time": "2024-02-18T06:38:02.027Z"
   },
   {
    "duration": 4,
    "start_time": "2024-02-18T06:38:03.020Z"
   },
   {
    "duration": 19,
    "start_time": "2024-02-18T06:38:03.630Z"
   },
   {
    "duration": 18,
    "start_time": "2024-02-18T06:38:03.822Z"
   },
   {
    "duration": 4,
    "start_time": "2024-02-18T06:38:05.056Z"
   },
   {
    "duration": 461,
    "start_time": "2024-02-18T06:38:08.687Z"
   },
   {
    "duration": 10,
    "start_time": "2024-02-18T06:38:09.248Z"
   },
   {
    "duration": 13,
    "start_time": "2024-02-18T06:38:10.711Z"
   },
   {
    "duration": 100,
    "start_time": "2024-02-18T06:38:14.332Z"
   },
   {
    "duration": 16,
    "start_time": "2024-02-18T06:38:18.612Z"
   },
   {
    "duration": 9,
    "start_time": "2024-02-18T06:38:26.378Z"
   },
   {
    "duration": 18,
    "start_time": "2024-02-18T06:38:34.869Z"
   },
   {
    "duration": 16,
    "start_time": "2024-02-18T06:38:45.808Z"
   },
   {
    "duration": 23,
    "start_time": "2024-02-18T06:38:51.715Z"
   },
   {
    "duration": 60,
    "start_time": "2024-02-18T06:38:53.431Z"
   },
   {
    "duration": 71,
    "start_time": "2024-02-18T06:39:56.591Z"
   },
   {
    "duration": 93,
    "start_time": "2024-02-18T06:40:42.715Z"
   },
   {
    "duration": 77,
    "start_time": "2024-02-18T06:40:59.320Z"
   },
   {
    "duration": 80,
    "start_time": "2024-02-18T06:41:06.987Z"
   },
   {
    "duration": 76,
    "start_time": "2024-02-18T06:41:13.523Z"
   },
   {
    "duration": 84,
    "start_time": "2024-02-18T06:41:35.970Z"
   },
   {
    "duration": 71,
    "start_time": "2024-02-18T06:50:09.025Z"
   },
   {
    "duration": 66,
    "start_time": "2024-02-18T06:50:12.904Z"
   },
   {
    "duration": 65,
    "start_time": "2024-02-18T06:50:17.376Z"
   },
   {
    "duration": 127,
    "start_time": "2024-02-18T06:50:33.532Z"
   },
   {
    "duration": 92,
    "start_time": "2024-02-18T06:50:43.641Z"
   },
   {
    "duration": 88,
    "start_time": "2024-02-18T06:50:55.002Z"
   },
   {
    "duration": 62,
    "start_time": "2024-02-18T06:51:05.314Z"
   },
   {
    "duration": 75,
    "start_time": "2024-02-18T06:51:07.962Z"
   },
   {
    "duration": 5,
    "start_time": "2024-02-18T06:51:11.130Z"
   },
   {
    "duration": 77,
    "start_time": "2024-02-18T06:51:13.101Z"
   },
   {
    "duration": 79,
    "start_time": "2024-02-18T06:51:16.990Z"
   },
   {
    "duration": 70,
    "start_time": "2024-02-18T06:51:30.102Z"
   },
   {
    "duration": 64,
    "start_time": "2024-02-18T06:51:46.828Z"
   },
   {
    "duration": 77,
    "start_time": "2024-02-18T06:52:06.464Z"
   },
   {
    "duration": 66,
    "start_time": "2024-02-18T06:52:11.786Z"
   },
   {
    "duration": 83,
    "start_time": "2024-02-18T06:52:34.004Z"
   },
   {
    "duration": 742,
    "start_time": "2024-02-18T06:53:09.811Z"
   },
   {
    "duration": 868,
    "start_time": "2024-02-18T06:53:19.808Z"
   },
   {
    "duration": 2187,
    "start_time": "2024-02-18T06:53:33.558Z"
   },
   {
    "duration": 78,
    "start_time": "2024-02-18T06:54:07.673Z"
   },
   {
    "duration": 2162,
    "start_time": "2024-02-18T06:54:27.036Z"
   },
   {
    "duration": 2223,
    "start_time": "2024-02-18T06:54:38.318Z"
   },
   {
    "duration": 83,
    "start_time": "2024-02-18T06:56:33.166Z"
   },
   {
    "duration": 85,
    "start_time": "2024-02-18T06:56:43.929Z"
   },
   {
    "duration": 80,
    "start_time": "2024-02-18T06:56:50.889Z"
   },
   {
    "duration": 113,
    "start_time": "2024-02-18T06:59:34.332Z"
   },
   {
    "duration": 84,
    "start_time": "2024-02-18T06:59:39.826Z"
   },
   {
    "duration": 81,
    "start_time": "2024-02-18T06:59:56.615Z"
   },
   {
    "duration": 72,
    "start_time": "2024-02-18T06:59:57.929Z"
   },
   {
    "duration": 67,
    "start_time": "2024-02-18T07:00:17.803Z"
   },
   {
    "duration": 59,
    "start_time": "2024-02-18T07:00:21.206Z"
   },
   {
    "duration": 35,
    "start_time": "2024-02-18T07:03:56.041Z"
   },
   {
    "duration": 27,
    "start_time": "2024-02-18T07:04:11.086Z"
   },
   {
    "duration": 23,
    "start_time": "2024-02-18T07:11:17.816Z"
   },
   {
    "duration": 16,
    "start_time": "2024-02-18T07:11:28.465Z"
   },
   {
    "duration": 26,
    "start_time": "2024-02-18T07:12:01.281Z"
   },
   {
    "duration": 13,
    "start_time": "2024-02-18T07:12:11.038Z"
   },
   {
    "duration": 20,
    "start_time": "2024-02-18T07:13:05.038Z"
   },
   {
    "duration": 1248,
    "start_time": "2024-02-18T07:13:33.871Z"
   },
   {
    "duration": 27,
    "start_time": "2024-02-18T07:13:54.400Z"
   },
   {
    "duration": 1319,
    "start_time": "2024-02-18T07:14:39.340Z"
   },
   {
    "duration": 14,
    "start_time": "2024-02-18T07:14:44.634Z"
   },
   {
    "duration": 64,
    "start_time": "2024-02-18T07:15:01.915Z"
   },
   {
    "duration": 27,
    "start_time": "2024-02-18T07:15:58.927Z"
   },
   {
    "duration": 14,
    "start_time": "2024-02-18T07:17:05.796Z"
   },
   {
    "duration": 25,
    "start_time": "2024-02-18T07:17:34.156Z"
   },
   {
    "duration": 13,
    "start_time": "2024-02-18T07:19:44.678Z"
   },
   {
    "duration": 65,
    "start_time": "2024-02-18T07:19:58.056Z"
   },
   {
    "duration": 2279,
    "start_time": "2024-02-18T07:21:32.230Z"
   },
   {
    "duration": 1435,
    "start_time": "2024-02-18T07:21:34.511Z"
   },
   {
    "duration": 837,
    "start_time": "2024-02-18T07:21:35.947Z"
   },
   {
    "duration": 5,
    "start_time": "2024-02-18T07:21:36.786Z"
   },
   {
    "duration": 13,
    "start_time": "2024-02-18T07:21:36.793Z"
   },
   {
    "duration": 114,
    "start_time": "2024-02-18T07:21:36.817Z"
   },
   {
    "duration": 141,
    "start_time": "2024-02-18T07:21:36.932Z"
   },
   {
    "duration": 793,
    "start_time": "2024-02-18T07:21:37.074Z"
   },
   {
    "duration": 5,
    "start_time": "2024-02-18T07:21:37.869Z"
   },
   {
    "duration": 76,
    "start_time": "2024-02-18T07:21:37.877Z"
   },
   {
    "duration": 456,
    "start_time": "2024-02-18T07:21:37.954Z"
   },
   {
    "duration": 33,
    "start_time": "2024-02-18T07:21:38.412Z"
   },
   {
    "duration": 79528,
    "start_time": "2024-02-18T07:21:38.447Z"
   },
   {
    "duration": 13,
    "start_time": "2024-02-18T07:22:57.976Z"
   },
   {
    "duration": 20,
    "start_time": "2024-02-18T07:22:57.990Z"
   },
   {
    "duration": 194,
    "start_time": "2024-02-18T07:22:58.012Z"
   },
   {
    "duration": 216,
    "start_time": "2024-02-18T07:22:58.207Z"
   },
   {
    "duration": 178,
    "start_time": "2024-02-18T07:22:58.425Z"
   },
   {
    "duration": 15,
    "start_time": "2024-02-18T07:22:58.605Z"
   },
   {
    "duration": 6,
    "start_time": "2024-02-18T07:22:58.621Z"
   },
   {
    "duration": 19,
    "start_time": "2024-02-18T07:22:58.628Z"
   },
   {
    "duration": 5,
    "start_time": "2024-02-18T07:22:58.648Z"
   },
   {
    "duration": 18,
    "start_time": "2024-02-18T07:22:58.654Z"
   },
   {
    "duration": 5,
    "start_time": "2024-02-18T07:22:58.673Z"
   },
   {
    "duration": 56,
    "start_time": "2024-02-18T07:22:58.679Z"
   },
   {
    "duration": 18,
    "start_time": "2024-02-18T07:22:58.737Z"
   },
   {
    "duration": 5,
    "start_time": "2024-02-18T07:22:58.756Z"
   },
   {
    "duration": 496,
    "start_time": "2024-02-18T07:22:58.765Z"
   },
   {
    "duration": 10,
    "start_time": "2024-02-18T07:22:59.263Z"
   },
   {
    "duration": 14,
    "start_time": "2024-02-18T07:22:59.274Z"
   },
   {
    "duration": 113,
    "start_time": "2024-02-18T07:22:59.290Z"
   },
   {
    "duration": 22,
    "start_time": "2024-02-18T07:22:59.405Z"
   },
   {
    "duration": 8,
    "start_time": "2024-02-18T07:22:59.429Z"
   },
   {
    "duration": 17,
    "start_time": "2024-02-18T07:22:59.438Z"
   },
   {
    "duration": 16,
    "start_time": "2024-02-18T07:22:59.456Z"
   },
   {
    "duration": 47,
    "start_time": "2024-02-18T07:22:59.473Z"
   },
   {
    "duration": 73,
    "start_time": "2024-02-18T07:22:59.521Z"
   },
   {
    "duration": 4,
    "start_time": "2024-02-18T07:22:59.595Z"
   },
   {
    "duration": 2002,
    "start_time": "2024-02-18T07:22:59.601Z"
   },
   {
    "duration": 91,
    "start_time": "2024-02-18T07:23:01.605Z"
   },
   {
    "duration": 103,
    "start_time": "2024-02-18T07:23:01.698Z"
   },
   {
    "duration": 64,
    "start_time": "2024-02-18T07:23:01.802Z"
   },
   {
    "duration": 42,
    "start_time": "2024-02-18T07:23:01.867Z"
   },
   {
    "duration": 36,
    "start_time": "2024-02-18T07:23:01.910Z"
   },
   {
    "duration": 45,
    "start_time": "2024-02-18T07:23:01.948Z"
   },
   {
    "duration": 21,
    "start_time": "2024-02-18T07:23:01.994Z"
   },
   {
    "duration": 31,
    "start_time": "2024-02-18T07:23:02.016Z"
   },
   {
    "duration": 14,
    "start_time": "2024-02-18T07:23:02.049Z"
   },
   {
    "duration": 28,
    "start_time": "2024-02-18T07:23:02.064Z"
   },
   {
    "duration": 34,
    "start_time": "2024-02-18T07:23:02.093Z"
   },
   {
    "duration": 34,
    "start_time": "2024-02-18T07:23:02.128Z"
   },
   {
    "duration": 22,
    "start_time": "2024-02-18T07:23:02.164Z"
   },
   {
    "duration": 67,
    "start_time": "2024-02-18T07:23:02.188Z"
   },
   {
    "duration": 38,
    "start_time": "2024-02-18T07:23:02.257Z"
   },
   {
    "duration": 85,
    "start_time": "2024-02-18T07:23:02.297Z"
   },
   {
    "duration": 4,
    "start_time": "2024-02-18T07:23:02.384Z"
   },
   {
    "duration": 24,
    "start_time": "2024-02-18T07:23:02.389Z"
   },
   {
    "duration": 14,
    "start_time": "2024-02-18T07:23:02.414Z"
   },
   {
    "duration": 4,
    "start_time": "2024-02-18T07:23:02.429Z"
   },
   {
    "duration": 12,
    "start_time": "2024-02-18T07:23:02.434Z"
   },
   {
    "duration": 26,
    "start_time": "2024-02-18T07:23:02.447Z"
   },
   {
    "duration": 3,
    "start_time": "2024-02-18T07:23:02.474Z"
   },
   {
    "duration": 5,
    "start_time": "2024-02-18T07:23:02.479Z"
   },
   {
    "duration": 21038,
    "start_time": "2024-02-18T07:23:02.485Z"
   },
   {
    "duration": 162,
    "start_time": "2024-02-18T07:23:23.525Z"
   },
   {
    "duration": 5,
    "start_time": "2024-02-18T07:23:23.689Z"
   },
   {
    "duration": 22,
    "start_time": "2024-02-18T07:23:23.696Z"
   },
   {
    "duration": 7,
    "start_time": "2024-02-18T07:23:23.719Z"
   },
   {
    "duration": 3,
    "start_time": "2024-02-18T07:23:23.728Z"
   },
   {
    "duration": 9,
    "start_time": "2024-02-18T07:23:23.733Z"
   },
   {
    "duration": 3,
    "start_time": "2024-02-18T07:23:23.744Z"
   },
   {
    "duration": 227402,
    "start_time": "2024-02-18T07:23:23.749Z"
   },
   {
    "duration": 813,
    "start_time": "2024-02-18T07:27:11.152Z"
   },
   {
    "duration": 4,
    "start_time": "2024-02-18T07:27:11.966Z"
   },
   {
    "duration": 4,
    "start_time": "2024-02-18T07:27:11.971Z"
   },
   {
    "duration": 8,
    "start_time": "2024-02-18T07:27:11.976Z"
   },
   {
    "duration": 44,
    "start_time": "2024-02-18T07:27:11.986Z"
   },
   {
    "duration": 3,
    "start_time": "2024-02-18T07:27:12.032Z"
   },
   {
    "duration": 372,
    "start_time": "2024-02-18T07:27:12.037Z"
   },
   {
    "duration": 43,
    "start_time": "2024-02-18T07:27:12.410Z"
   },
   {
    "duration": 3,
    "start_time": "2024-02-18T07:27:12.454Z"
   },
   {
    "duration": 4,
    "start_time": "2024-02-18T07:27:12.462Z"
   },
   {
    "duration": 131663,
    "start_time": "2024-02-18T07:27:12.467Z"
   },
   {
    "duration": 296,
    "start_time": "2024-02-18T07:29:24.131Z"
   },
   {
    "duration": 4,
    "start_time": "2024-02-18T07:29:24.429Z"
   },
   {
    "duration": 5,
    "start_time": "2024-02-18T07:29:24.434Z"
   },
   {
    "duration": 9,
    "start_time": "2024-02-18T07:29:24.440Z"
   },
   {
    "duration": 73,
    "start_time": "2024-02-18T07:29:24.450Z"
   },
   {
    "duration": 240274,
    "start_time": "2024-02-18T07:29:24.524Z"
   },
   {
    "duration": 99,
    "start_time": "2024-02-18T07:33:24.799Z"
   },
   {
    "duration": 5,
    "start_time": "2024-02-18T07:33:24.899Z"
   },
   {
    "duration": 14,
    "start_time": "2024-02-18T07:33:24.905Z"
   },
   {
    "duration": 9,
    "start_time": "2024-02-18T07:33:24.920Z"
   },
   {
    "duration": 66,
    "start_time": "2024-02-18T07:33:24.930Z"
   },
   {
    "duration": 20,
    "start_time": "2024-02-18T07:33:24.998Z"
   },
   {
    "duration": 109,
    "start_time": "2024-02-18T07:33:25.020Z"
   },
   {
    "duration": 90,
    "start_time": "2024-02-18T07:33:25.131Z"
   },
   {
    "duration": 802,
    "start_time": "2024-02-18T07:38:16.570Z"
   },
   {
    "duration": 103,
    "start_time": "2024-02-18T07:41:21.300Z"
   },
   {
    "duration": 15,
    "start_time": "2024-02-18T07:41:29.808Z"
   },
   {
    "duration": 633,
    "start_time": "2024-02-18T07:41:47.001Z"
   },
   {
    "duration": 10,
    "start_time": "2024-02-18T07:42:19.986Z"
   },
   {
    "duration": 68,
    "start_time": "2024-02-18T07:42:47.980Z"
   },
   {
    "duration": 17,
    "start_time": "2024-02-18T07:42:55.521Z"
   },
   {
    "duration": 84,
    "start_time": "2024-02-18T07:42:59.677Z"
   },
   {
    "duration": 5,
    "start_time": "2024-02-18T07:43:30.559Z"
   },
   {
    "duration": 72,
    "start_time": "2024-02-18T07:45:47.860Z"
   },
   {
    "duration": 4,
    "start_time": "2024-02-18T07:45:48.319Z"
   },
   {
    "duration": 115,
    "start_time": "2024-02-18T07:45:48.702Z"
   },
   {
    "duration": 5,
    "start_time": "2024-02-18T07:45:49.312Z"
   },
   {
    "duration": 10,
    "start_time": "2024-02-18T07:46:31.272Z"
   },
   {
    "duration": 3,
    "start_time": "2024-02-18T07:46:33.936Z"
   },
   {
    "duration": 69,
    "start_time": "2024-02-18T07:46:34.159Z"
   },
   {
    "duration": 4,
    "start_time": "2024-02-18T07:46:34.413Z"
   },
   {
    "duration": 43,
    "start_time": "2024-02-18T07:48:09.854Z"
   },
   {
    "duration": 170,
    "start_time": "2024-02-18T07:48:31.254Z"
   },
   {
    "duration": 5,
    "start_time": "2024-02-18T07:48:43.658Z"
   },
   {
    "duration": 2424,
    "start_time": "2024-02-18T07:48:49.929Z"
   },
   {
    "duration": 1419,
    "start_time": "2024-02-18T07:48:52.356Z"
   },
   {
    "duration": 833,
    "start_time": "2024-02-18T07:48:53.776Z"
   },
   {
    "duration": 9,
    "start_time": "2024-02-18T07:48:54.611Z"
   },
   {
    "duration": 15,
    "start_time": "2024-02-18T07:48:54.622Z"
   },
   {
    "duration": 143,
    "start_time": "2024-02-18T07:48:54.638Z"
   },
   {
    "duration": 170,
    "start_time": "2024-02-18T07:48:54.782Z"
   },
   {
    "duration": 842,
    "start_time": "2024-02-18T07:48:54.954Z"
   },
   {
    "duration": 7,
    "start_time": "2024-02-18T07:48:55.798Z"
   },
   {
    "duration": 64,
    "start_time": "2024-02-18T07:48:55.817Z"
   },
   {
    "duration": 589,
    "start_time": "2024-02-18T07:48:55.882Z"
   },
   {
    "duration": 34,
    "start_time": "2024-02-18T07:48:56.472Z"
   },
   {
    "duration": 93186,
    "start_time": "2024-02-18T07:48:56.509Z"
   },
   {
    "duration": 19,
    "start_time": "2024-02-18T07:50:29.697Z"
   },
   {
    "duration": 28,
    "start_time": "2024-02-18T07:50:29.718Z"
   },
   {
    "duration": 206,
    "start_time": "2024-02-18T07:50:29.748Z"
   },
   {
    "duration": 218,
    "start_time": "2024-02-18T07:50:29.956Z"
   },
   {
    "duration": 193,
    "start_time": "2024-02-18T07:50:30.176Z"
   },
   {
    "duration": 14,
    "start_time": "2024-02-18T07:50:30.371Z"
   },
   {
    "duration": 31,
    "start_time": "2024-02-18T07:50:30.387Z"
   },
   {
    "duration": 32,
    "start_time": "2024-02-18T07:50:30.420Z"
   },
   {
    "duration": 9,
    "start_time": "2024-02-18T07:50:30.454Z"
   },
   {
    "duration": 27,
    "start_time": "2024-02-18T07:50:30.464Z"
   },
   {
    "duration": 23,
    "start_time": "2024-02-18T07:50:30.493Z"
   },
   {
    "duration": 39,
    "start_time": "2024-02-18T07:50:30.518Z"
   },
   {
    "duration": 22,
    "start_time": "2024-02-18T07:50:30.559Z"
   },
   {
    "duration": 7,
    "start_time": "2024-02-18T07:50:30.583Z"
   },
   {
    "duration": 504,
    "start_time": "2024-02-18T07:50:30.596Z"
   },
   {
    "duration": 18,
    "start_time": "2024-02-18T07:50:31.101Z"
   },
   {
    "duration": 43,
    "start_time": "2024-02-18T07:50:31.121Z"
   },
   {
    "duration": 30,
    "start_time": "2024-02-18T07:50:31.166Z"
   },
   {
    "duration": 32,
    "start_time": "2024-02-18T07:50:31.197Z"
   },
   {
    "duration": 27,
    "start_time": "2024-02-18T07:50:31.230Z"
   },
   {
    "duration": 17,
    "start_time": "2024-02-18T07:50:31.259Z"
   },
   {
    "duration": 50,
    "start_time": "2024-02-18T07:50:31.278Z"
   },
   {
    "duration": 44,
    "start_time": "2024-02-18T07:50:31.329Z"
   },
   {
    "duration": 84,
    "start_time": "2024-02-18T07:50:31.374Z"
   },
   {
    "duration": 29,
    "start_time": "2024-02-18T07:50:31.459Z"
   },
   {
    "duration": 2097,
    "start_time": "2024-02-18T07:50:31.489Z"
   },
   {
    "duration": 116,
    "start_time": "2024-02-18T07:50:33.589Z"
   },
   {
    "duration": 111,
    "start_time": "2024-02-18T07:50:33.707Z"
   },
   {
    "duration": 63,
    "start_time": "2024-02-18T07:50:33.820Z"
   },
   {
    "duration": 37,
    "start_time": "2024-02-18T07:50:33.885Z"
   },
   {
    "duration": 24,
    "start_time": "2024-02-18T07:50:33.923Z"
   },
   {
    "duration": 51,
    "start_time": "2024-02-18T07:50:33.949Z"
   },
   {
    "duration": 18,
    "start_time": "2024-02-18T07:50:34.002Z"
   },
   {
    "duration": 25,
    "start_time": "2024-02-18T07:50:34.021Z"
   },
   {
    "duration": 12,
    "start_time": "2024-02-18T07:50:34.048Z"
   },
   {
    "duration": 32,
    "start_time": "2024-02-18T07:50:34.062Z"
   },
   {
    "duration": 33,
    "start_time": "2024-02-18T07:50:34.096Z"
   },
   {
    "duration": 28,
    "start_time": "2024-02-18T07:50:34.130Z"
   },
   {
    "duration": 19,
    "start_time": "2024-02-18T07:50:34.159Z"
   },
   {
    "duration": 72,
    "start_time": "2024-02-18T07:50:34.179Z"
   },
   {
    "duration": 104,
    "start_time": "2024-02-18T07:50:34.253Z"
   },
   {
    "duration": 107,
    "start_time": "2024-02-18T07:50:34.358Z"
   },
   {
    "duration": 5,
    "start_time": "2024-02-18T07:50:34.467Z"
   },
   {
    "duration": 10,
    "start_time": "2024-02-18T07:50:34.473Z"
   },
   {
    "duration": 16,
    "start_time": "2024-02-18T07:50:34.484Z"
   },
   {
    "duration": 4,
    "start_time": "2024-02-18T07:50:34.501Z"
   },
   {
    "duration": 15,
    "start_time": "2024-02-18T07:50:34.506Z"
   },
   {
    "duration": 8,
    "start_time": "2024-02-18T07:50:34.523Z"
   },
   {
    "duration": 3,
    "start_time": "2024-02-18T07:50:34.533Z"
   },
   {
    "duration": 5,
    "start_time": "2024-02-18T07:50:34.538Z"
   },
   {
    "duration": 17076,
    "start_time": "2024-02-18T07:50:34.544Z"
   },
   {
    "duration": 212,
    "start_time": "2024-02-18T07:50:51.622Z"
   },
   {
    "duration": 5,
    "start_time": "2024-02-18T07:50:51.835Z"
   },
   {
    "duration": 4,
    "start_time": "2024-02-18T07:50:51.841Z"
   },
   {
    "duration": 7,
    "start_time": "2024-02-18T07:50:51.847Z"
   },
   {
    "duration": 4,
    "start_time": "2024-02-18T07:50:51.855Z"
   },
   {
    "duration": 3,
    "start_time": "2024-02-18T07:50:51.861Z"
   },
   {
    "duration": 54,
    "start_time": "2024-02-18T07:50:51.865Z"
   },
   {
    "duration": 227980,
    "start_time": "2024-02-18T07:50:51.921Z"
   },
   {
    "duration": 804,
    "start_time": "2024-02-18T07:54:39.904Z"
   },
   {
    "duration": 11,
    "start_time": "2024-02-18T07:54:40.709Z"
   },
   {
    "duration": 6,
    "start_time": "2024-02-18T07:54:40.721Z"
   },
   {
    "duration": 10,
    "start_time": "2024-02-18T07:54:40.728Z"
   },
   {
    "duration": 19,
    "start_time": "2024-02-18T07:54:40.739Z"
   },
   {
    "duration": 3,
    "start_time": "2024-02-18T07:54:40.760Z"
   },
   {
    "duration": 388,
    "start_time": "2024-02-18T07:54:40.764Z"
   },
   {
    "duration": 52,
    "start_time": "2024-02-18T07:54:41.153Z"
   },
   {
    "duration": 12,
    "start_time": "2024-02-18T07:54:41.207Z"
   },
   {
    "duration": 16,
    "start_time": "2024-02-18T07:54:41.224Z"
   },
   {
    "duration": 111488,
    "start_time": "2024-02-18T07:54:41.241Z"
   },
   {
    "duration": 299,
    "start_time": "2024-02-18T07:56:32.730Z"
   },
   {
    "duration": 4,
    "start_time": "2024-02-18T07:56:33.031Z"
   },
   {
    "duration": 6,
    "start_time": "2024-02-18T07:56:33.036Z"
   },
   {
    "duration": 5,
    "start_time": "2024-02-18T07:56:33.043Z"
   },
   {
    "duration": 4,
    "start_time": "2024-02-18T07:56:33.049Z"
   },
   {
    "duration": 240048,
    "start_time": "2024-02-18T07:56:33.054Z"
   },
   {
    "duration": 98,
    "start_time": "2024-02-18T08:00:33.104Z"
   },
   {
    "duration": 27,
    "start_time": "2024-02-18T08:00:33.204Z"
   },
   {
    "duration": 4,
    "start_time": "2024-02-18T08:00:33.232Z"
   },
   {
    "duration": 16,
    "start_time": "2024-02-18T08:00:33.237Z"
   },
   {
    "duration": 94,
    "start_time": "2024-02-18T08:00:33.255Z"
   },
   {
    "duration": 5,
    "start_time": "2024-02-18T08:00:33.350Z"
   },
   {
    "duration": 5,
    "start_time": "2024-02-18T08:00:33.356Z"
   },
   {
    "duration": 20,
    "start_time": "2024-02-18T08:00:33.363Z"
   },
   {
    "duration": 148,
    "start_time": "2024-02-18T08:00:33.384Z"
   },
   {
    "duration": 5,
    "start_time": "2024-02-18T08:00:33.617Z"
   },
   {
    "duration": 79,
    "start_time": "2024-02-18T08:05:14.966Z"
   },
   {
    "duration": 8,
    "start_time": "2024-02-18T08:06:00.768Z"
   },
   {
    "duration": 3,
    "start_time": "2024-02-18T08:06:31.218Z"
   },
   {
    "duration": 7,
    "start_time": "2024-02-18T08:06:33.219Z"
   },
   {
    "duration": 3,
    "start_time": "2024-02-18T08:07:00.859Z"
   },
   {
    "duration": 7,
    "start_time": "2024-02-18T08:07:01.278Z"
   },
   {
    "duration": 4,
    "start_time": "2024-02-18T08:07:23.350Z"
   },
   {
    "duration": 4,
    "start_time": "2024-02-18T08:08:02.593Z"
   },
   {
    "duration": 9,
    "start_time": "2024-02-18T08:08:09.893Z"
   },
   {
    "duration": 43,
    "start_time": "2024-02-18T15:16:24.510Z"
   },
   {
    "duration": 3508,
    "start_time": "2024-02-18T15:16:28.301Z"
   },
   {
    "duration": 1497,
    "start_time": "2024-02-18T15:16:31.811Z"
   },
   {
    "duration": 911,
    "start_time": "2024-02-18T15:16:33.310Z"
   },
   {
    "duration": 4,
    "start_time": "2024-02-18T15:16:34.223Z"
   },
   {
    "duration": 20,
    "start_time": "2024-02-18T15:16:34.228Z"
   },
   {
    "duration": 83,
    "start_time": "2024-02-18T15:16:34.249Z"
   },
   {
    "duration": 99,
    "start_time": "2024-02-18T15:16:34.333Z"
   },
   {
    "duration": 690,
    "start_time": "2024-02-18T15:16:34.433Z"
   },
   {
    "duration": 6,
    "start_time": "2024-02-18T15:16:35.125Z"
   },
   {
    "duration": 81,
    "start_time": "2024-02-18T15:16:35.134Z"
   },
   {
    "duration": 466,
    "start_time": "2024-02-18T15:16:35.216Z"
   },
   {
    "duration": 36,
    "start_time": "2024-02-18T15:16:35.684Z"
   },
   {
    "duration": 31042,
    "start_time": "2024-02-18T15:16:35.722Z"
   },
   {
    "duration": 11,
    "start_time": "2024-02-18T15:17:06.766Z"
   },
   {
    "duration": 39,
    "start_time": "2024-02-18T15:17:06.778Z"
   },
   {
    "duration": 187,
    "start_time": "2024-02-18T15:17:06.818Z"
   },
   {
    "duration": 189,
    "start_time": "2024-02-18T15:17:07.006Z"
   },
   {
    "duration": 157,
    "start_time": "2024-02-18T15:17:07.202Z"
   },
   {
    "duration": 10,
    "start_time": "2024-02-18T15:17:07.360Z"
   },
   {
    "duration": 10,
    "start_time": "2024-02-18T15:17:07.371Z"
   },
   {
    "duration": 42,
    "start_time": "2024-02-18T15:17:07.382Z"
   },
   {
    "duration": 5,
    "start_time": "2024-02-18T15:17:07.425Z"
   },
   {
    "duration": 27,
    "start_time": "2024-02-18T15:17:07.431Z"
   },
   {
    "duration": 14,
    "start_time": "2024-02-18T15:17:07.459Z"
   },
   {
    "duration": 29,
    "start_time": "2024-02-18T15:17:07.474Z"
   },
   {
    "duration": 18,
    "start_time": "2024-02-18T15:17:07.504Z"
   },
   {
    "duration": 4,
    "start_time": "2024-02-18T15:17:07.523Z"
   },
   {
    "duration": 417,
    "start_time": "2024-02-18T15:17:07.531Z"
   },
   {
    "duration": 8,
    "start_time": "2024-02-18T15:17:07.949Z"
   },
   {
    "duration": 16,
    "start_time": "2024-02-18T15:17:07.958Z"
   },
   {
    "duration": 33,
    "start_time": "2024-02-18T15:17:07.975Z"
   },
   {
    "duration": 15,
    "start_time": "2024-02-18T15:17:08.009Z"
   },
   {
    "duration": 10,
    "start_time": "2024-02-18T15:17:08.025Z"
   },
   {
    "duration": 15,
    "start_time": "2024-02-18T15:17:08.036Z"
   },
   {
    "duration": 26,
    "start_time": "2024-02-18T15:17:08.053Z"
   },
   {
    "duration": 27,
    "start_time": "2024-02-18T15:17:08.102Z"
   },
   {
    "duration": 59,
    "start_time": "2024-02-18T15:17:08.131Z"
   },
   {
    "duration": 4,
    "start_time": "2024-02-18T15:17:08.201Z"
   },
   {
    "duration": 1729,
    "start_time": "2024-02-18T15:17:08.206Z"
   },
   {
    "duration": 74,
    "start_time": "2024-02-18T15:17:09.936Z"
   },
   {
    "duration": 71,
    "start_time": "2024-02-18T15:17:10.012Z"
   },
   {
    "duration": 50,
    "start_time": "2024-02-18T15:17:10.084Z"
   },
   {
    "duration": 27,
    "start_time": "2024-02-18T15:17:10.136Z"
   },
   {
    "duration": 23,
    "start_time": "2024-02-18T15:17:10.164Z"
   },
   {
    "duration": 21,
    "start_time": "2024-02-18T15:17:10.188Z"
   },
   {
    "duration": 11,
    "start_time": "2024-02-18T15:17:10.210Z"
   },
   {
    "duration": 22,
    "start_time": "2024-02-18T15:17:10.222Z"
   },
   {
    "duration": 12,
    "start_time": "2024-02-18T15:17:10.245Z"
   },
   {
    "duration": 37,
    "start_time": "2024-02-18T15:17:10.258Z"
   },
   {
    "duration": 9,
    "start_time": "2024-02-18T15:17:10.296Z"
   },
   {
    "duration": 22,
    "start_time": "2024-02-18T15:17:10.307Z"
   },
   {
    "duration": 18,
    "start_time": "2024-02-18T15:17:10.330Z"
   },
   {
    "duration": 73,
    "start_time": "2024-02-18T15:17:10.350Z"
   },
   {
    "duration": 20,
    "start_time": "2024-02-18T15:17:10.424Z"
   },
   {
    "duration": 78,
    "start_time": "2024-02-18T15:17:10.445Z"
   },
   {
    "duration": 5,
    "start_time": "2024-02-18T15:17:10.524Z"
   },
   {
    "duration": 13,
    "start_time": "2024-02-18T15:17:10.531Z"
   },
   {
    "duration": 6,
    "start_time": "2024-02-18T15:17:10.545Z"
   },
   {
    "duration": 4,
    "start_time": "2024-02-18T15:17:10.553Z"
   },
   {
    "duration": 5,
    "start_time": "2024-02-18T15:17:10.558Z"
   },
   {
    "duration": 16,
    "start_time": "2024-02-18T15:17:10.564Z"
   },
   {
    "duration": 24,
    "start_time": "2024-02-18T15:17:10.581Z"
   },
   {
    "duration": 15,
    "start_time": "2024-02-18T15:17:10.606Z"
   },
   {
    "duration": 18885,
    "start_time": "2024-02-18T15:17:10.622Z"
   },
   {
    "duration": 150,
    "start_time": "2024-02-18T15:17:29.510Z"
   },
   {
    "duration": 3,
    "start_time": "2024-02-18T15:17:29.662Z"
   },
   {
    "duration": 8,
    "start_time": "2024-02-18T15:17:29.667Z"
   },
   {
    "duration": 26,
    "start_time": "2024-02-18T15:17:29.676Z"
   },
   {
    "duration": 4,
    "start_time": "2024-02-18T15:17:29.704Z"
   },
   {
    "duration": 4,
    "start_time": "2024-02-18T15:17:29.709Z"
   },
   {
    "duration": 21,
    "start_time": "2024-02-18T15:17:29.715Z"
   },
   {
    "duration": 228128,
    "start_time": "2024-02-18T15:17:29.737Z"
   },
   {
    "duration": 5,
    "start_time": "2024-02-18T15:21:17.866Z"
   },
   {
    "duration": 792,
    "start_time": "2024-02-18T15:21:17.872Z"
   },
   {
    "duration": 4,
    "start_time": "2024-02-18T15:21:18.665Z"
   },
   {
    "duration": 12,
    "start_time": "2024-02-18T15:21:18.670Z"
   },
   {
    "duration": 22,
    "start_time": "2024-02-18T15:21:18.683Z"
   },
   {
    "duration": 23,
    "start_time": "2024-02-18T15:21:18.706Z"
   },
   {
    "duration": 2,
    "start_time": "2024-02-18T15:21:18.731Z"
   },
   {
    "duration": 323,
    "start_time": "2024-02-18T15:21:18.734Z"
   },
   {
    "duration": 49,
    "start_time": "2024-02-18T15:21:19.058Z"
   },
   {
    "duration": 2,
    "start_time": "2024-02-18T15:21:19.112Z"
   },
   {
    "duration": 6,
    "start_time": "2024-02-18T15:21:19.115Z"
   },
   {
    "duration": 113081,
    "start_time": "2024-02-18T15:21:19.122Z"
   },
   {
    "duration": 298,
    "start_time": "2024-02-18T15:23:12.204Z"
   },
   {
    "duration": 4,
    "start_time": "2024-02-18T15:23:12.504Z"
   },
   {
    "duration": 5,
    "start_time": "2024-02-18T15:23:12.509Z"
   },
   {
    "duration": 8,
    "start_time": "2024-02-18T15:23:12.515Z"
   },
   {
    "duration": 13,
    "start_time": "2024-02-18T15:23:12.525Z"
   },
   {
    "duration": 238174,
    "start_time": "2024-02-18T15:23:12.540Z"
   },
   {
    "duration": 98,
    "start_time": "2024-02-18T15:27:10.715Z"
   },
   {
    "duration": 3,
    "start_time": "2024-02-18T15:27:10.814Z"
   },
   {
    "duration": 10,
    "start_time": "2024-02-18T15:27:10.819Z"
   },
   {
    "duration": 16,
    "start_time": "2024-02-18T15:27:10.830Z"
   },
   {
    "duration": 162,
    "start_time": "2024-02-18T15:27:10.847Z"
   },
   {
    "duration": 4,
    "start_time": "2024-02-18T15:27:11.101Z"
   },
   {
    "duration": 3,
    "start_time": "2024-02-18T15:38:54.027Z"
   },
   {
    "duration": 3,
    "start_time": "2024-02-18T15:42:40.263Z"
   },
   {
    "duration": 103,
    "start_time": "2024-02-18T15:42:56.884Z"
   },
   {
    "duration": 23038,
    "start_time": "2024-02-18T15:43:19.638Z"
   },
   {
    "duration": 810,
    "start_time": "2024-02-18T15:44:13.137Z"
   },
   {
    "duration": 782,
    "start_time": "2024-02-18T15:44:28.858Z"
   },
   {
    "duration": 3,
    "start_time": "2024-02-18T15:44:46.244Z"
   },
   {
    "duration": 4,
    "start_time": "2024-02-18T15:44:51.300Z"
   },
   {
    "duration": 22868,
    "start_time": "2024-02-18T15:48:55.658Z"
   },
   {
    "duration": 775,
    "start_time": "2024-02-18T15:51:27.870Z"
   },
   {
    "duration": 4,
    "start_time": "2024-02-18T15:51:30.562Z"
   },
   {
    "duration": 8,
    "start_time": "2024-02-18T15:52:02.841Z"
   },
   {
    "duration": 3,
    "start_time": "2024-02-18T15:52:04.622Z"
   },
   {
    "duration": 7,
    "start_time": "2024-02-18T15:52:06.163Z"
   },
   {
    "duration": 3,
    "start_time": "2024-02-18T15:52:59.930Z"
   },
   {
    "duration": 73,
    "start_time": "2024-02-18T15:55:26.794Z"
   },
   {
    "duration": 77,
    "start_time": "2024-02-18T15:56:45.527Z"
   },
   {
    "duration": 2,
    "start_time": "2024-02-18T15:57:16.846Z"
   },
   {
    "duration": 2877,
    "start_time": "2024-02-18T15:57:38.533Z"
   },
   {
    "duration": 2969,
    "start_time": "2024-02-18T15:57:43.039Z"
   },
   {
    "duration": 232,
    "start_time": "2024-02-18T15:58:04.270Z"
   },
   {
    "duration": 248,
    "start_time": "2024-02-18T15:58:08.753Z"
   },
   {
    "duration": 4,
    "start_time": "2024-02-18T15:58:40.479Z"
   },
   {
    "duration": 3,
    "start_time": "2024-02-18T15:58:53.449Z"
   },
   {
    "duration": 3,
    "start_time": "2024-02-18T15:59:25.045Z"
   },
   {
    "duration": 83,
    "start_time": "2024-02-18T16:00:28.583Z"
   },
   {
    "duration": 133,
    "start_time": "2024-02-18T16:01:18.812Z"
   },
   {
    "duration": 3,
    "start_time": "2024-02-18T16:01:22.557Z"
   },
   {
    "duration": 32272,
    "start_time": "2024-02-18T16:02:02.726Z"
   },
   {
    "duration": 21263,
    "start_time": "2024-02-18T16:03:05.966Z"
   },
   {
    "duration": 110,
    "start_time": "2024-02-18T16:07:11.763Z"
   },
   {
    "duration": 113,
    "start_time": "2024-02-18T16:07:25.097Z"
   },
   {
    "duration": 4,
    "start_time": "2024-02-18T16:07:55.396Z"
   },
   {
    "duration": 3,
    "start_time": "2024-02-18T16:08:29.352Z"
   },
   {
    "duration": 7,
    "start_time": "2024-02-18T16:08:30.701Z"
   },
   {
    "duration": 155613,
    "start_time": "2024-02-18T16:08:38.538Z"
   },
   {
    "duration": 3,
    "start_time": "2024-02-18T16:11:21.407Z"
   },
   {
    "duration": 2,
    "start_time": "2024-02-18T16:11:44.025Z"
   },
   {
    "duration": 352525,
    "start_time": "2024-02-18T16:11:45.125Z"
   },
   {
    "duration": 3,
    "start_time": "2024-02-18T16:17:47.144Z"
   },
   {
    "duration": 20756,
    "start_time": "2024-02-18T16:17:57.214Z"
   },
   {
    "duration": 3,
    "start_time": "2024-02-18T16:18:17.972Z"
   },
   {
    "duration": 3,
    "start_time": "2024-02-18T16:18:19.857Z"
   },
   {
    "duration": 31183,
    "start_time": "2024-02-18T16:18:21.004Z"
   },
   {
    "duration": 146,
    "start_time": "2024-02-18T16:18:54.639Z"
   },
   {
    "duration": 3,
    "start_time": "2024-02-18T16:18:57.532Z"
   },
   {
    "duration": 3,
    "start_time": "2024-02-18T16:19:25.803Z"
   },
   {
    "duration": 20869,
    "start_time": "2024-02-18T16:19:26.037Z"
   },
   {
    "duration": 4,
    "start_time": "2024-02-18T16:19:52.290Z"
   },
   {
    "duration": 112,
    "start_time": "2024-02-18T16:20:03.891Z"
   },
   {
    "duration": 3,
    "start_time": "2024-02-18T16:20:04.727Z"
   },
   {
    "duration": 8,
    "start_time": "2024-02-18T16:20:09.697Z"
   },
   {
    "duration": 135,
    "start_time": "2024-02-18T16:20:35.468Z"
   },
   {
    "duration": 3,
    "start_time": "2024-02-18T16:20:35.719Z"
   },
   {
    "duration": 3,
    "start_time": "2024-02-18T16:22:37.993Z"
   },
   {
    "duration": 31240,
    "start_time": "2024-02-18T16:22:38.361Z"
   },
   {
    "duration": 156,
    "start_time": "2024-02-18T16:23:11.089Z"
   },
   {
    "duration": 4,
    "start_time": "2024-02-18T16:23:13.810Z"
   },
   {
    "duration": 3,
    "start_time": "2024-02-18T16:23:24.723Z"
   },
   {
    "duration": 7,
    "start_time": "2024-02-18T16:23:25.915Z"
   },
   {
    "duration": 47,
    "start_time": "2024-02-19T06:47:07.591Z"
   },
   {
    "duration": 1604,
    "start_time": "2024-02-19T06:47:17.893Z"
   },
   {
    "duration": 3307,
    "start_time": "2024-02-19T06:47:25.412Z"
   },
   {
    "duration": 212,
    "start_time": "2024-02-19T06:47:38.147Z"
   },
   {
    "duration": 1060,
    "start_time": "2024-02-19T06:48:08.178Z"
   },
   {
    "duration": 19,
    "start_time": "2024-02-19T06:48:20.760Z"
   },
   {
    "duration": 7,
    "start_time": "2024-02-19T06:48:51.768Z"
   },
   {
    "duration": 334,
    "start_time": "2024-02-19T06:48:57.274Z"
   },
   {
    "duration": 156,
    "start_time": "2024-02-19T06:49:27.306Z"
   },
   {
    "duration": 207,
    "start_time": "2024-02-19T06:49:42.534Z"
   },
   {
    "duration": 224,
    "start_time": "2024-02-19T06:50:02.481Z"
   },
   {
    "duration": 2356,
    "start_time": "2024-02-19T06:53:09.698Z"
   },
   {
    "duration": 1376,
    "start_time": "2024-02-19T06:53:12.056Z"
   },
   {
    "duration": 854,
    "start_time": "2024-02-19T06:53:13.434Z"
   },
   {
    "duration": 5,
    "start_time": "2024-02-19T06:53:14.290Z"
   },
   {
    "duration": 26,
    "start_time": "2024-02-19T06:53:14.297Z"
   },
   {
    "duration": 123,
    "start_time": "2024-02-19T06:53:14.324Z"
   },
   {
    "duration": 137,
    "start_time": "2024-02-19T06:53:14.449Z"
   },
   {
    "duration": 801,
    "start_time": "2024-02-19T06:53:14.587Z"
   },
   {
    "duration": 7,
    "start_time": "2024-02-19T06:53:15.390Z"
   },
   {
    "duration": 77,
    "start_time": "2024-02-19T06:53:15.400Z"
   },
   {
    "duration": 520,
    "start_time": "2024-02-19T06:53:15.479Z"
   },
   {
    "duration": 35,
    "start_time": "2024-02-19T06:53:16.001Z"
   },
   {
    "duration": 29781,
    "start_time": "2024-02-19T06:53:16.038Z"
   },
   {
    "duration": 12,
    "start_time": "2024-02-19T06:53:45.821Z"
   },
   {
    "duration": 25,
    "start_time": "2024-02-19T06:53:45.835Z"
   },
   {
    "duration": 202,
    "start_time": "2024-02-19T06:53:45.861Z"
   },
   {
    "duration": 231,
    "start_time": "2024-02-19T06:53:46.065Z"
   },
   {
    "duration": 186,
    "start_time": "2024-02-19T06:53:46.298Z"
   },
   {
    "duration": 12,
    "start_time": "2024-02-19T06:53:46.485Z"
   },
   {
    "duration": 22,
    "start_time": "2024-02-19T06:53:46.498Z"
   },
   {
    "duration": 19,
    "start_time": "2024-02-19T06:53:46.522Z"
   },
   {
    "duration": 5,
    "start_time": "2024-02-19T06:53:46.542Z"
   },
   {
    "duration": 24,
    "start_time": "2024-02-19T06:53:46.548Z"
   },
   {
    "duration": 4,
    "start_time": "2024-02-19T06:53:46.574Z"
   },
   {
    "duration": 53,
    "start_time": "2024-02-19T06:53:46.579Z"
   },
   {
    "duration": 19,
    "start_time": "2024-02-19T06:53:46.634Z"
   },
   {
    "duration": 6,
    "start_time": "2024-02-19T06:53:46.655Z"
   },
   {
    "duration": 491,
    "start_time": "2024-02-19T06:53:46.666Z"
   },
   {
    "duration": 11,
    "start_time": "2024-02-19T06:53:47.159Z"
   },
   {
    "duration": 15,
    "start_time": "2024-02-19T06:53:47.171Z"
   },
   {
    "duration": 121,
    "start_time": "2024-02-19T06:53:47.188Z"
   },
   {
    "duration": 20,
    "start_time": "2024-02-19T06:53:47.311Z"
   },
   {
    "duration": 10,
    "start_time": "2024-02-19T06:53:47.333Z"
   },
   {
    "duration": 17,
    "start_time": "2024-02-19T06:53:47.345Z"
   },
   {
    "duration": 18,
    "start_time": "2024-02-19T06:53:47.364Z"
   },
   {
    "duration": 51,
    "start_time": "2024-02-19T06:53:47.384Z"
   },
   {
    "duration": 61,
    "start_time": "2024-02-19T06:53:47.437Z"
   },
   {
    "duration": 4,
    "start_time": "2024-02-19T06:53:47.518Z"
   },
   {
    "duration": 2062,
    "start_time": "2024-02-19T06:53:47.523Z"
   },
   {
    "duration": 95,
    "start_time": "2024-02-19T06:53:49.587Z"
   },
   {
    "duration": 101,
    "start_time": "2024-02-19T06:53:49.683Z"
   },
   {
    "duration": 70,
    "start_time": "2024-02-19T06:53:49.786Z"
   },
   {
    "duration": 30,
    "start_time": "2024-02-19T06:53:49.858Z"
   },
   {
    "duration": 14,
    "start_time": "2024-02-19T06:53:49.889Z"
   },
   {
    "duration": 26,
    "start_time": "2024-02-19T06:53:49.918Z"
   },
   {
    "duration": 13,
    "start_time": "2024-02-19T06:53:49.945Z"
   },
   {
    "duration": 38,
    "start_time": "2024-02-19T06:53:49.960Z"
   },
   {
    "duration": 20,
    "start_time": "2024-02-19T06:53:49.999Z"
   },
   {
    "duration": 45,
    "start_time": "2024-02-19T06:53:50.021Z"
   },
   {
    "duration": 14,
    "start_time": "2024-02-19T06:53:50.067Z"
   },
   {
    "duration": 27,
    "start_time": "2024-02-19T06:53:50.082Z"
   },
   {
    "duration": 13,
    "start_time": "2024-02-19T06:53:50.111Z"
   },
   {
    "duration": 63,
    "start_time": "2024-02-19T06:53:50.125Z"
   },
   {
    "duration": 15,
    "start_time": "2024-02-19T06:53:50.190Z"
   },
   {
    "duration": 83,
    "start_time": "2024-02-19T06:53:50.217Z"
   },
   {
    "duration": 5,
    "start_time": "2024-02-19T06:53:50.302Z"
   },
   {
    "duration": 10,
    "start_time": "2024-02-19T06:53:50.308Z"
   },
   {
    "duration": 8,
    "start_time": "2024-02-19T06:53:50.320Z"
   },
   {
    "duration": 4,
    "start_time": "2024-02-19T06:53:50.329Z"
   },
   {
    "duration": 5,
    "start_time": "2024-02-19T06:53:50.334Z"
   },
   {
    "duration": 9,
    "start_time": "2024-02-19T06:53:50.340Z"
   },
   {
    "duration": 4,
    "start_time": "2024-02-19T06:53:50.350Z"
   },
   {
    "duration": 9,
    "start_time": "2024-02-19T06:53:50.355Z"
   },
   {
    "duration": 21060,
    "start_time": "2024-02-19T06:53:50.365Z"
   },
   {
    "duration": 218,
    "start_time": "2024-02-19T06:54:11.428Z"
   },
   {
    "duration": 4,
    "start_time": "2024-02-19T06:54:11.647Z"
   },
   {
    "duration": 3,
    "start_time": "2024-02-19T06:54:11.653Z"
   },
   {
    "duration": 62,
    "start_time": "2024-02-19T06:54:11.657Z"
   },
   {
    "duration": 6,
    "start_time": "2024-02-19T06:54:11.720Z"
   },
   {
    "duration": 11,
    "start_time": "2024-02-19T06:54:11.727Z"
   },
   {
    "duration": 14,
    "start_time": "2024-02-19T06:54:11.739Z"
   },
   {
    "duration": 228547,
    "start_time": "2024-02-19T06:54:11.754Z"
   },
   {
    "duration": 111,
    "start_time": "2024-02-19T06:58:00.303Z"
   },
   {
    "duration": 0,
    "start_time": "2024-02-19T06:58:00.417Z"
   },
   {
    "duration": 0,
    "start_time": "2024-02-19T06:58:00.419Z"
   },
   {
    "duration": 0,
    "start_time": "2024-02-19T06:58:00.420Z"
   },
   {
    "duration": 0,
    "start_time": "2024-02-19T06:58:00.422Z"
   },
   {
    "duration": 0,
    "start_time": "2024-02-19T06:58:00.423Z"
   },
   {
    "duration": 0,
    "start_time": "2024-02-19T06:58:00.425Z"
   },
   {
    "duration": 0,
    "start_time": "2024-02-19T06:58:00.427Z"
   },
   {
    "duration": 0,
    "start_time": "2024-02-19T06:58:00.428Z"
   },
   {
    "duration": 0,
    "start_time": "2024-02-19T06:58:00.429Z"
   },
   {
    "duration": 0,
    "start_time": "2024-02-19T06:58:00.431Z"
   },
   {
    "duration": 0,
    "start_time": "2024-02-19T06:58:00.432Z"
   },
   {
    "duration": 0,
    "start_time": "2024-02-19T06:58:00.434Z"
   },
   {
    "duration": 0,
    "start_time": "2024-02-19T06:58:00.435Z"
   },
   {
    "duration": 0,
    "start_time": "2024-02-19T06:58:00.436Z"
   },
   {
    "duration": 0,
    "start_time": "2024-02-19T06:58:00.438Z"
   },
   {
    "duration": 0,
    "start_time": "2024-02-19T06:58:00.439Z"
   },
   {
    "duration": 0,
    "start_time": "2024-02-19T06:58:00.440Z"
   },
   {
    "duration": 0,
    "start_time": "2024-02-19T06:58:00.441Z"
   },
   {
    "duration": 0,
    "start_time": "2024-02-19T06:58:00.443Z"
   },
   {
    "duration": 0,
    "start_time": "2024-02-19T06:58:00.444Z"
   },
   {
    "duration": 0,
    "start_time": "2024-02-19T06:58:00.446Z"
   },
   {
    "duration": 0,
    "start_time": "2024-02-19T06:58:00.446Z"
   },
   {
    "duration": 0,
    "start_time": "2024-02-19T06:58:00.448Z"
   },
   {
    "duration": 0,
    "start_time": "2024-02-19T06:58:00.449Z"
   },
   {
    "duration": 0,
    "start_time": "2024-02-19T06:58:00.450Z"
   },
   {
    "duration": 0,
    "start_time": "2024-02-19T06:58:00.451Z"
   },
   {
    "duration": 0,
    "start_time": "2024-02-19T06:58:00.452Z"
   },
   {
    "duration": 0,
    "start_time": "2024-02-19T06:58:00.453Z"
   },
   {
    "duration": 0,
    "start_time": "2024-02-19T06:58:00.454Z"
   },
   {
    "duration": 0,
    "start_time": "2024-02-19T06:58:00.455Z"
   },
   {
    "duration": 0,
    "start_time": "2024-02-19T06:58:00.456Z"
   },
   {
    "duration": 9,
    "start_time": "2024-02-19T06:58:05.918Z"
   }
  ],
  "kernelspec": {
   "display_name": "Python 3 (ipykernel)",
   "language": "python",
   "name": "python3"
  },
  "language_info": {
   "codemirror_mode": {
    "name": "ipython",
    "version": 3
   },
   "file_extension": ".py",
   "mimetype": "text/x-python",
   "name": "python",
   "nbconvert_exporter": "python",
   "pygments_lexer": "ipython3",
   "version": "3.10.13"
  },
  "toc": {
   "base_numbering": 1,
   "nav_menu": {},
   "number_sections": true,
   "sideBar": true,
   "skip_h1_title": true,
   "title_cell": "Table of Contents",
   "title_sidebar": "Contents",
   "toc_cell": false,
   "toc_position": {},
   "toc_section_display": true,
   "toc_window_display": false
  }
 },
 "nbformat": 4,
 "nbformat_minor": 4
}
