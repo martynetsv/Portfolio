{
 "cells": [
  {
   "cell_type": "markdown",
   "id": "359a715f-3291-46db-930e-1f44797f65d8",
   "metadata": {},
   "source": [
    "Проект по мэтчингу (поиску товаров, похожих по описанию"
   ]
  },
  {
   "cell_type": "code",
   "execution_count": 1,
   "id": "276139c3",
   "metadata": {},
   "outputs": [
    {
     "name": "stdout",
     "output_type": "stream",
     "text": [
      "3.10.13 (main, Sep 11 2023, 08:39:02) [Clang 14.0.6 ]\n"
     ]
    }
   ],
   "source": [
    "import sys\n",
    "print(sys.version)"
   ]
  },
  {
   "cell_type": "raw",
   "id": "f88b1d96-eee6-49eb-9b7d-8d66ad65eac3",
   "metadata": {},
   "source": [
    "!pip install faiss-cpu --no-cache\n",
    "!pip install phik"
   ]
  },
  {
   "cell_type": "code",
   "execution_count": 2,
   "id": "b9cbeb7e-1507-4740-b68c-5416d8e4d19e",
   "metadata": {},
   "outputs": [],
   "source": [
    "import pandas as pd\n",
    "import numpy as np\n",
    "import matplotlib.pyplot as plt\n",
    "\n",
    "from sklearn.preprocessing import MinMaxScaler\n",
    "from sklearn.preprocessing import StandardScaler\n",
    "\n",
    "import faiss\n",
    "import phik\n",
    "from phik.report import plot_correlation_matrix"
   ]
  },
  {
   "cell_type": "code",
   "execution_count": 3,
   "id": "fc015254-88f7-4964-a0dc-a65c09dd141a",
   "metadata": {},
   "outputs": [],
   "source": [
    "base = pd.read_csv('base.csv', index_col=0)"
   ]
  },
  {
   "cell_type": "raw",
   "id": "80378b77",
   "metadata": {},
   "source": [
    "del base"
   ]
  },
  {
   "cell_type": "code",
   "execution_count": 4,
   "id": "6558725a-60e4-4a1c-88a5-bfab8e86a44d",
   "metadata": {},
   "outputs": [],
   "source": [
    "train = pd.read_csv('train.csv', index_col=0)"
   ]
  },
  {
   "cell_type": "code",
   "execution_count": 5,
   "id": "dfcfa577-a9e5-4008-9338-34ca502f3852",
   "metadata": {},
   "outputs": [],
   "source": [
    "validation = pd.read_csv('validation.csv', index_col=0)"
   ]
  },
  {
   "cell_type": "code",
   "execution_count": 6,
   "id": "da4592ba-e7fa-47af-ab58-bc2dc73a7674",
   "metadata": {},
   "outputs": [],
   "source": [
    "validation_answer = pd.read_csv('validation_answer.csv', index_col=0)"
   ]
  },
  {
   "cell_type": "code",
   "execution_count": 7,
   "id": "248bb7f2-eb88-4a41-bafd-1c0ec000339f",
   "metadata": {},
   "outputs": [],
   "source": [
    "def inform(x):\n",
    "    print('Размер датасета:')\n",
    "    print(x.shape)\n",
    "    print('Инфо:')\n",
    "    print(x.info())\n",
    "    print('Первые строки:')\n",
    "    print(x.head())\n",
    "    print('Описание:')\n",
    "    print(x.describe())\n",
    "    print('Количество дубликатов')\n",
    "    print(x.duplicated().sum())"
   ]
  },
  {
   "cell_type": "raw",
   "id": "4ccf6b49-a0e5-429a-bfab-d426244a577e",
   "metadata": {},
   "source": [
    "inform(base)"
   ]
  },
  {
   "cell_type": "raw",
   "id": "b1e66b21-34b3-4ec4-91fa-fd9c960e74cf",
   "metadata": {},
   "source": [
    "inform(train)"
   ]
  },
  {
   "cell_type": "raw",
   "id": "78a7371c-97dc-4fa5-ab88-266841953a46",
   "metadata": {},
   "source": [
    "inform(validation)"
   ]
  },
  {
   "cell_type": "raw",
   "id": "2f84abf5-3b8d-4e9b-92e1-20c13e00e7bc",
   "metadata": {},
   "source": [
    "inform(validation_answer)"
   ]
  },
  {
   "cell_type": "markdown",
   "id": "9d1e0a91-8226-4d8e-886e-56d78fa5473b",
   "metadata": {},
   "source": [
    "Все данные закодированы, пропусков нет, собственно и предобработка не требуется. Подумал, что может перевести float64 в float32 для сокращения требуемого объема памяти, но тогда часть значений в цифрах не сохраняется, что недопустимо"
   ]
  },
  {
   "cell_type": "code",
   "execution_count": 8,
   "id": "e6c85e0b-ddaf-45ee-80e3-96376d10ef1d",
   "metadata": {},
   "outputs": [
    {
     "data": {
      "text/html": [
       "<div>\n",
       "<style scoped>\n",
       "    .dataframe tbody tr th:only-of-type {\n",
       "        vertical-align: middle;\n",
       "    }\n",
       "\n",
       "    .dataframe tbody tr th {\n",
       "        vertical-align: top;\n",
       "    }\n",
       "\n",
       "    .dataframe thead th {\n",
       "        text-align: right;\n",
       "    }\n",
       "</style>\n",
       "<table border=\"1\" class=\"dataframe\">\n",
       "  <thead>\n",
       "    <tr style=\"text-align: right;\">\n",
       "      <th></th>\n",
       "      <th>0</th>\n",
       "      <th>1</th>\n",
       "      <th>2</th>\n",
       "      <th>3</th>\n",
       "      <th>4</th>\n",
       "      <th>5</th>\n",
       "      <th>6</th>\n",
       "      <th>7</th>\n",
       "      <th>8</th>\n",
       "      <th>9</th>\n",
       "      <th>...</th>\n",
       "      <th>62</th>\n",
       "      <th>63</th>\n",
       "      <th>64</th>\n",
       "      <th>65</th>\n",
       "      <th>66</th>\n",
       "      <th>67</th>\n",
       "      <th>68</th>\n",
       "      <th>69</th>\n",
       "      <th>70</th>\n",
       "      <th>71</th>\n",
       "    </tr>\n",
       "    <tr>\n",
       "      <th>Id</th>\n",
       "      <th></th>\n",
       "      <th></th>\n",
       "      <th></th>\n",
       "      <th></th>\n",
       "      <th></th>\n",
       "      <th></th>\n",
       "      <th></th>\n",
       "      <th></th>\n",
       "      <th></th>\n",
       "      <th></th>\n",
       "      <th></th>\n",
       "      <th></th>\n",
       "      <th></th>\n",
       "      <th></th>\n",
       "      <th></th>\n",
       "      <th></th>\n",
       "      <th></th>\n",
       "      <th></th>\n",
       "      <th></th>\n",
       "      <th></th>\n",
       "      <th></th>\n",
       "    </tr>\n",
       "  </thead>\n",
       "  <tbody>\n",
       "    <tr>\n",
       "      <th>0-base</th>\n",
       "      <td>-115.083890</td>\n",
       "      <td>11.152912</td>\n",
       "      <td>-64.426760</td>\n",
       "      <td>-118.88089</td>\n",
       "      <td>216.482440</td>\n",
       "      <td>-104.698060</td>\n",
       "      <td>-469.070588</td>\n",
       "      <td>44.348083</td>\n",
       "      <td>120.915344</td>\n",
       "      <td>181.449700</td>\n",
       "      <td>...</td>\n",
       "      <td>-42.808693</td>\n",
       "      <td>38.800827</td>\n",
       "      <td>-151.76218</td>\n",
       "      <td>-74.389090</td>\n",
       "      <td>63.66634</td>\n",
       "      <td>-4.703861</td>\n",
       "      <td>92.933610</td>\n",
       "      <td>115.269190</td>\n",
       "      <td>-112.756640</td>\n",
       "      <td>-60.830353</td>\n",
       "    </tr>\n",
       "    <tr>\n",
       "      <th>1-base</th>\n",
       "      <td>-34.562202</td>\n",
       "      <td>13.332763</td>\n",
       "      <td>-69.787610</td>\n",
       "      <td>-166.53348</td>\n",
       "      <td>57.680607</td>\n",
       "      <td>-86.098370</td>\n",
       "      <td>-85.076666</td>\n",
       "      <td>-35.637436</td>\n",
       "      <td>119.718636</td>\n",
       "      <td>195.234190</td>\n",
       "      <td>...</td>\n",
       "      <td>-117.767525</td>\n",
       "      <td>41.100000</td>\n",
       "      <td>-157.82940</td>\n",
       "      <td>-94.446806</td>\n",
       "      <td>68.20211</td>\n",
       "      <td>24.346846</td>\n",
       "      <td>179.937930</td>\n",
       "      <td>116.834000</td>\n",
       "      <td>-84.888941</td>\n",
       "      <td>-59.524610</td>\n",
       "    </tr>\n",
       "    <tr>\n",
       "      <th>2-base</th>\n",
       "      <td>-54.233746</td>\n",
       "      <td>6.379371</td>\n",
       "      <td>-29.210136</td>\n",
       "      <td>-133.41383</td>\n",
       "      <td>150.895830</td>\n",
       "      <td>-99.435326</td>\n",
       "      <td>52.554795</td>\n",
       "      <td>62.381706</td>\n",
       "      <td>128.951450</td>\n",
       "      <td>164.381470</td>\n",
       "      <td>...</td>\n",
       "      <td>-76.397800</td>\n",
       "      <td>46.011803</td>\n",
       "      <td>-207.14442</td>\n",
       "      <td>127.325570</td>\n",
       "      <td>65.56618</td>\n",
       "      <td>66.325680</td>\n",
       "      <td>81.073490</td>\n",
       "      <td>116.594154</td>\n",
       "      <td>-1074.464888</td>\n",
       "      <td>-32.527206</td>\n",
       "    </tr>\n",
       "    <tr>\n",
       "      <th>3-base</th>\n",
       "      <td>-87.520130</td>\n",
       "      <td>4.037884</td>\n",
       "      <td>-87.803030</td>\n",
       "      <td>-185.06763</td>\n",
       "      <td>76.369540</td>\n",
       "      <td>-58.985165</td>\n",
       "      <td>-383.182845</td>\n",
       "      <td>-33.611237</td>\n",
       "      <td>122.031910</td>\n",
       "      <td>136.233580</td>\n",
       "      <td>...</td>\n",
       "      <td>-70.647940</td>\n",
       "      <td>-6.358921</td>\n",
       "      <td>-147.20105</td>\n",
       "      <td>-37.692750</td>\n",
       "      <td>66.20289</td>\n",
       "      <td>-20.566910</td>\n",
       "      <td>137.206940</td>\n",
       "      <td>117.474100</td>\n",
       "      <td>-1074.464888</td>\n",
       "      <td>-72.915490</td>\n",
       "    </tr>\n",
       "    <tr>\n",
       "      <th>4-base</th>\n",
       "      <td>-72.743850</td>\n",
       "      <td>6.522049</td>\n",
       "      <td>43.671265</td>\n",
       "      <td>-140.60803</td>\n",
       "      <td>5.820023</td>\n",
       "      <td>-112.074080</td>\n",
       "      <td>-397.711282</td>\n",
       "      <td>45.182500</td>\n",
       "      <td>122.167180</td>\n",
       "      <td>112.119064</td>\n",
       "      <td>...</td>\n",
       "      <td>-57.199104</td>\n",
       "      <td>56.642403</td>\n",
       "      <td>-159.35184</td>\n",
       "      <td>85.944724</td>\n",
       "      <td>66.76632</td>\n",
       "      <td>-2.505783</td>\n",
       "      <td>65.315285</td>\n",
       "      <td>135.051590</td>\n",
       "      <td>-1074.464888</td>\n",
       "      <td>0.319401</td>\n",
       "    </tr>\n",
       "  </tbody>\n",
       "</table>\n",
       "<p>5 rows × 72 columns</p>\n",
       "</div>"
      ],
      "text/plain": [
       "                 0          1          2          3           4           5  \\\n",
       "Id                                                                            \n",
       "0-base -115.083890  11.152912 -64.426760 -118.88089  216.482440 -104.698060   \n",
       "1-base  -34.562202  13.332763 -69.787610 -166.53348   57.680607  -86.098370   \n",
       "2-base  -54.233746   6.379371 -29.210136 -133.41383  150.895830  -99.435326   \n",
       "3-base  -87.520130   4.037884 -87.803030 -185.06763   76.369540  -58.985165   \n",
       "4-base  -72.743850   6.522049  43.671265 -140.60803    5.820023 -112.074080   \n",
       "\n",
       "                 6          7           8           9  ...          62  \\\n",
       "Id                                                     ...               \n",
       "0-base -469.070588  44.348083  120.915344  181.449700  ...  -42.808693   \n",
       "1-base  -85.076666 -35.637436  119.718636  195.234190  ... -117.767525   \n",
       "2-base   52.554795  62.381706  128.951450  164.381470  ...  -76.397800   \n",
       "3-base -383.182845 -33.611237  122.031910  136.233580  ...  -70.647940   \n",
       "4-base -397.711282  45.182500  122.167180  112.119064  ...  -57.199104   \n",
       "\n",
       "               63         64          65        66         67          68  \\\n",
       "Id                                                                          \n",
       "0-base  38.800827 -151.76218  -74.389090  63.66634  -4.703861   92.933610   \n",
       "1-base  41.100000 -157.82940  -94.446806  68.20211  24.346846  179.937930   \n",
       "2-base  46.011803 -207.14442  127.325570  65.56618  66.325680   81.073490   \n",
       "3-base  -6.358921 -147.20105  -37.692750  66.20289 -20.566910  137.206940   \n",
       "4-base  56.642403 -159.35184   85.944724  66.76632  -2.505783   65.315285   \n",
       "\n",
       "                69           70         71  \n",
       "Id                                          \n",
       "0-base  115.269190  -112.756640 -60.830353  \n",
       "1-base  116.834000   -84.888941 -59.524610  \n",
       "2-base  116.594154 -1074.464888 -32.527206  \n",
       "3-base  117.474100 -1074.464888 -72.915490  \n",
       "4-base  135.051590 -1074.464888   0.319401  \n",
       "\n",
       "[5 rows x 72 columns]"
      ]
     },
     "execution_count": 8,
     "metadata": {},
     "output_type": "execute_result"
    }
   ],
   "source": [
    "base.head()"
   ]
  },
  {
   "cell_type": "raw",
   "id": "09d5446a-a143-4ada-80b0-22347e9f86cd",
   "metadata": {
    "scrolled": true
   },
   "source": [
    "base.hist(figsize=(16,18));"
   ]
  },
  {
   "cell_type": "raw",
   "id": "a7efd841-df5c-4c68-93ee-f3c16c740103",
   "metadata": {},
   "source": [
    "data_phik = train.sample(2000).phik_matrix()\n",
    "plot_correlation_matrix(data_phik.values, x_labels=data_phik.columns,y_labels=data_phik.index, figsize=(40, 30))"
   ]
  },
  {
   "cell_type": "raw",
   "id": "8dc86a4f-3f80-4ab3-b137-95ea6aab2afc",
   "metadata": {},
   "source": [
    "del data_phik"
   ]
  },
  {
   "cell_type": "markdown",
   "id": "ec2acb21-7403-4ad8-b3e2-4603d226c1ae",
   "metadata": {},
   "source": [
    "Все признаки имеют нормальное распределение, кроме 6, 21, 25, 35, 44, 59, 65, 70. Остальные признаки скорее, будут вносить лишний шум в результаты. Слабо коррелирующих признаков с таргетом тоже не выявлено.\n",
    "\n",
    "Уберу выявленные признаки:"
   ]
  },
  {
   "cell_type": "code",
   "execution_count": 9,
   "id": "1b589391",
   "metadata": {},
   "outputs": [],
   "source": [
    "base = base.drop(['6', '21', '25', '35', '44', '59', '65', '70'], axis=1)\n",
    "train = train.drop(['6', '21', '25', '35', '44', '59', '65', '70'], axis=1)"
   ]
  },
  {
   "cell_type": "code",
   "execution_count": 10,
   "id": "fcd5ebc8-efc3-4b81-b6ea-5cf093a17794",
   "metadata": {},
   "outputs": [
    {
     "data": {
      "text/html": [
       "<div>\n",
       "<style scoped>\n",
       "    .dataframe tbody tr th:only-of-type {\n",
       "        vertical-align: middle;\n",
       "    }\n",
       "\n",
       "    .dataframe tbody tr th {\n",
       "        vertical-align: top;\n",
       "    }\n",
       "\n",
       "    .dataframe thead th {\n",
       "        text-align: right;\n",
       "    }\n",
       "</style>\n",
       "<table border=\"1\" class=\"dataframe\">\n",
       "  <thead>\n",
       "    <tr style=\"text-align: right;\">\n",
       "      <th></th>\n",
       "      <th>0</th>\n",
       "      <th>1</th>\n",
       "      <th>2</th>\n",
       "      <th>3</th>\n",
       "      <th>4</th>\n",
       "      <th>5</th>\n",
       "      <th>7</th>\n",
       "      <th>8</th>\n",
       "      <th>9</th>\n",
       "      <th>10</th>\n",
       "      <th>...</th>\n",
       "      <th>60</th>\n",
       "      <th>61</th>\n",
       "      <th>62</th>\n",
       "      <th>63</th>\n",
       "      <th>64</th>\n",
       "      <th>66</th>\n",
       "      <th>67</th>\n",
       "      <th>68</th>\n",
       "      <th>69</th>\n",
       "      <th>71</th>\n",
       "    </tr>\n",
       "    <tr>\n",
       "      <th>Id</th>\n",
       "      <th></th>\n",
       "      <th></th>\n",
       "      <th></th>\n",
       "      <th></th>\n",
       "      <th></th>\n",
       "      <th></th>\n",
       "      <th></th>\n",
       "      <th></th>\n",
       "      <th></th>\n",
       "      <th></th>\n",
       "      <th></th>\n",
       "      <th></th>\n",
       "      <th></th>\n",
       "      <th></th>\n",
       "      <th></th>\n",
       "      <th></th>\n",
       "      <th></th>\n",
       "      <th></th>\n",
       "      <th></th>\n",
       "      <th></th>\n",
       "      <th></th>\n",
       "    </tr>\n",
       "  </thead>\n",
       "  <tbody>\n",
       "    <tr>\n",
       "      <th>0-base</th>\n",
       "      <td>-115.083890</td>\n",
       "      <td>11.152912</td>\n",
       "      <td>-64.426760</td>\n",
       "      <td>-118.88089</td>\n",
       "      <td>216.482440</td>\n",
       "      <td>-104.698060</td>\n",
       "      <td>44.348083</td>\n",
       "      <td>120.915344</td>\n",
       "      <td>181.449700</td>\n",
       "      <td>-124.06151</td>\n",
       "      <td>...</td>\n",
       "      <td>-64.518950</td>\n",
       "      <td>-138.77763</td>\n",
       "      <td>-42.808693</td>\n",
       "      <td>38.800827</td>\n",
       "      <td>-151.76218</td>\n",
       "      <td>63.66634</td>\n",
       "      <td>-4.703861</td>\n",
       "      <td>92.933610</td>\n",
       "      <td>115.269190</td>\n",
       "      <td>-60.830353</td>\n",
       "    </tr>\n",
       "    <tr>\n",
       "      <th>1-base</th>\n",
       "      <td>-34.562202</td>\n",
       "      <td>13.332763</td>\n",
       "      <td>-69.787610</td>\n",
       "      <td>-166.53348</td>\n",
       "      <td>57.680607</td>\n",
       "      <td>-86.098370</td>\n",
       "      <td>-35.637436</td>\n",
       "      <td>119.718636</td>\n",
       "      <td>195.234190</td>\n",
       "      <td>-141.30435</td>\n",
       "      <td>...</td>\n",
       "      <td>11.392853</td>\n",
       "      <td>-148.57166</td>\n",
       "      <td>-117.767525</td>\n",
       "      <td>41.100000</td>\n",
       "      <td>-157.82940</td>\n",
       "      <td>68.20211</td>\n",
       "      <td>24.346846</td>\n",
       "      <td>179.937930</td>\n",
       "      <td>116.834000</td>\n",
       "      <td>-59.524610</td>\n",
       "    </tr>\n",
       "    <tr>\n",
       "      <th>2-base</th>\n",
       "      <td>-54.233746</td>\n",
       "      <td>6.379371</td>\n",
       "      <td>-29.210136</td>\n",
       "      <td>-133.41383</td>\n",
       "      <td>150.895830</td>\n",
       "      <td>-99.435326</td>\n",
       "      <td>62.381706</td>\n",
       "      <td>128.951450</td>\n",
       "      <td>164.381470</td>\n",
       "      <td>-140.82245</td>\n",
       "      <td>...</td>\n",
       "      <td>-101.581375</td>\n",
       "      <td>-134.65822</td>\n",
       "      <td>-76.397800</td>\n",
       "      <td>46.011803</td>\n",
       "      <td>-207.14442</td>\n",
       "      <td>65.56618</td>\n",
       "      <td>66.325680</td>\n",
       "      <td>81.073490</td>\n",
       "      <td>116.594154</td>\n",
       "      <td>-32.527206</td>\n",
       "    </tr>\n",
       "    <tr>\n",
       "      <th>3-base</th>\n",
       "      <td>-87.520130</td>\n",
       "      <td>4.037884</td>\n",
       "      <td>-87.803030</td>\n",
       "      <td>-185.06763</td>\n",
       "      <td>76.369540</td>\n",
       "      <td>-58.985165</td>\n",
       "      <td>-33.611237</td>\n",
       "      <td>122.031910</td>\n",
       "      <td>136.233580</td>\n",
       "      <td>-108.47044</td>\n",
       "      <td>...</td>\n",
       "      <td>-89.588715</td>\n",
       "      <td>-149.32669</td>\n",
       "      <td>-70.647940</td>\n",
       "      <td>-6.358921</td>\n",
       "      <td>-147.20105</td>\n",
       "      <td>66.20289</td>\n",
       "      <td>-20.566910</td>\n",
       "      <td>137.206940</td>\n",
       "      <td>117.474100</td>\n",
       "      <td>-72.915490</td>\n",
       "    </tr>\n",
       "    <tr>\n",
       "      <th>4-base</th>\n",
       "      <td>-72.743850</td>\n",
       "      <td>6.522049</td>\n",
       "      <td>43.671265</td>\n",
       "      <td>-140.60803</td>\n",
       "      <td>5.820023</td>\n",
       "      <td>-112.074080</td>\n",
       "      <td>45.182500</td>\n",
       "      <td>122.167180</td>\n",
       "      <td>112.119064</td>\n",
       "      <td>-110.34245</td>\n",
       "      <td>...</td>\n",
       "      <td>-100.565520</td>\n",
       "      <td>-125.31733</td>\n",
       "      <td>-57.199104</td>\n",
       "      <td>56.642403</td>\n",
       "      <td>-159.35184</td>\n",
       "      <td>66.76632</td>\n",
       "      <td>-2.505783</td>\n",
       "      <td>65.315285</td>\n",
       "      <td>135.051590</td>\n",
       "      <td>0.319401</td>\n",
       "    </tr>\n",
       "  </tbody>\n",
       "</table>\n",
       "<p>5 rows × 64 columns</p>\n",
       "</div>"
      ],
      "text/plain": [
       "                 0          1          2          3           4           5  \\\n",
       "Id                                                                            \n",
       "0-base -115.083890  11.152912 -64.426760 -118.88089  216.482440 -104.698060   \n",
       "1-base  -34.562202  13.332763 -69.787610 -166.53348   57.680607  -86.098370   \n",
       "2-base  -54.233746   6.379371 -29.210136 -133.41383  150.895830  -99.435326   \n",
       "3-base  -87.520130   4.037884 -87.803030 -185.06763   76.369540  -58.985165   \n",
       "4-base  -72.743850   6.522049  43.671265 -140.60803    5.820023 -112.074080   \n",
       "\n",
       "                7           8           9         10  ...          60  \\\n",
       "Id                                                    ...               \n",
       "0-base  44.348083  120.915344  181.449700 -124.06151  ...  -64.518950   \n",
       "1-base -35.637436  119.718636  195.234190 -141.30435  ...   11.392853   \n",
       "2-base  62.381706  128.951450  164.381470 -140.82245  ... -101.581375   \n",
       "3-base -33.611237  122.031910  136.233580 -108.47044  ...  -89.588715   \n",
       "4-base  45.182500  122.167180  112.119064 -110.34245  ... -100.565520   \n",
       "\n",
       "               61          62         63         64        66         67  \\\n",
       "Id                                                                         \n",
       "0-base -138.77763  -42.808693  38.800827 -151.76218  63.66634  -4.703861   \n",
       "1-base -148.57166 -117.767525  41.100000 -157.82940  68.20211  24.346846   \n",
       "2-base -134.65822  -76.397800  46.011803 -207.14442  65.56618  66.325680   \n",
       "3-base -149.32669  -70.647940  -6.358921 -147.20105  66.20289 -20.566910   \n",
       "4-base -125.31733  -57.199104  56.642403 -159.35184  66.76632  -2.505783   \n",
       "\n",
       "                68          69         71  \n",
       "Id                                         \n",
       "0-base   92.933610  115.269190 -60.830353  \n",
       "1-base  179.937930  116.834000 -59.524610  \n",
       "2-base   81.073490  116.594154 -32.527206  \n",
       "3-base  137.206940  117.474100 -72.915490  \n",
       "4-base   65.315285  135.051590   0.319401  \n",
       "\n",
       "[5 rows x 64 columns]"
      ]
     },
     "execution_count": 10,
     "metadata": {},
     "output_type": "execute_result"
    }
   ],
   "source": [
    "base.head()"
   ]
  },
  {
   "cell_type": "markdown",
   "id": "e44e240b-0b50-4f43-a4c9-918348211d89",
   "metadata": {},
   "source": [
    "Масштабирование признаков"
   ]
  },
  {
   "cell_type": "markdown",
   "id": "99f7b436-e86e-4018-9c73-668f4627035f",
   "metadata": {},
   "source": [
    "Обучим скалеры"
   ]
  },
  {
   "cell_type": "code",
   "execution_count": 11,
   "id": "5e403f9a-b977-43ff-8723-5db9e95ac8b3",
   "metadata": {},
   "outputs": [],
   "source": [
    "scaler_standart = StandardScaler()\n",
    "scaler_min_max = MinMaxScaler()\n"
   ]
  },
  {
   "cell_type": "code",
   "execution_count": 12,
   "id": "7b928df2-abc2-4f0c-80dd-12ec0a7a4f32",
   "metadata": {},
   "outputs": [],
   "source": [
    "target_train = train[\"Target\"]\n",
    "features_train = train.drop(\"Target\", axis=1)"
   ]
  },
  {
   "cell_type": "raw",
   "id": "0dd96a10-69e2-4263-a673-add378e361e2",
   "metadata": {},
   "source": [
    "X = scaler.fit_transform(X)"
   ]
  },
  {
   "cell_type": "markdown",
   "id": "613a00d5-4715-4465-86f9-58af176cdec5",
   "metadata": {},
   "source": [
    "## FAISS"
   ]
  },
  {
   "cell_type": "markdown",
   "id": "5fafe579-6dcd-4376-bb5b-9d0884958aa8",
   "metadata": {},
   "source": [
    "Чтобы долго не ждать вычислений, возьмем из base, например 100000 значений"
   ]
  },
  {
   "cell_type": "code",
   "execution_count": 13,
   "id": "c17aa477-2fab-4f32-8a6d-6cfd426c380d",
   "metadata": {},
   "outputs": [],
   "source": [
    "base_small = base[:100000]\n",
    "base_small_np = np.ascontiguousarray(base_small.values)"
   ]
  },
  {
   "cell_type": "code",
   "execution_count": 14,
   "id": "375a5501-f430-4694-8a24-06930201ccc4",
   "metadata": {},
   "outputs": [],
   "source": [
    "base_np = np.ascontiguousarray(base.values)\n",
    "\n",
    "features_train = train.drop('Target', axis=1)\n",
    "target_train = train['Target']\n",
    "features_train_np = np.ascontiguousarray(features_train.values)\n",
    "\n",
    "features_valid = validation.copy()\n",
    "target_valid = validation_answer.copy()\n",
    "features_valid_np = np.ascontiguousarray(features_valid.values)\n"
   ]
  },
  {
   "cell_type": "code",
   "execution_count": 15,
   "id": "bdd0c127-2db9-419e-aa7f-1be1319e44e4",
   "metadata": {},
   "outputs": [],
   "source": [
    "dims = base_np.shape[1]\n",
    "k_nearest = 5\n",
    "# создание словаря для нахождения индекса товара в базовом наборе данных\n",
    "base_index = {k: v for k, v in enumerate(base.index.to_list())}"
   ]
  },
  {
   "cell_type": "code",
   "execution_count": 16,
   "id": "3a32b8d9-0f83-4a26-93fe-01927f7e9ba8",
   "metadata": {},
   "outputs": [],
   "source": [
    "\n",
    "\n",
    "def accuracy5(targets, predicted, base_index):\n",
    "  accuracy = 0\n",
    "  for target, el in zip(targets.tolist(), predicted.tolist()):\n",
    "    accuracy += int(target in [base_index[r] for r in el])\n",
    "  return accuracy / len(predicted)\n",
    "\n"
   ]
  },
  {
   "cell_type": "code",
   "execution_count": 17,
   "id": "fec68deb-2b9b-4d32-b4fb-418990830890",
   "metadata": {},
   "outputs": [
    {
     "ename": "TypeError",
     "evalue": "in method 'fvec_renorm_L2', argument 3 of type 'float *'",
     "output_type": "error",
     "traceback": [
      "\u001b[0;31m---------------------------------------------------------------------------\u001b[0m",
      "\u001b[0;31mTypeError\u001b[0m                                 Traceback (most recent call last)",
      "\u001b[0;32m/var/folders/07/xdxwrq5j59zg8pplr70_1nj00000gn/T/ipykernel_14592/4115201078.py\u001b[0m in \u001b[0;36m?\u001b[0;34m()\u001b[0m\n\u001b[1;32m      1\u001b[0m \u001b[0mindex\u001b[0m \u001b[0;34m=\u001b[0m \u001b[0mfaiss\u001b[0m\u001b[0;34m.\u001b[0m\u001b[0mindex_factory\u001b[0m\u001b[0;34m(\u001b[0m\u001b[0mbase\u001b[0m\u001b[0;34m.\u001b[0m\u001b[0mshape\u001b[0m\u001b[0;34m[\u001b[0m\u001b[0;36m1\u001b[0m\u001b[0;34m]\u001b[0m\u001b[0;34m,\u001b[0m \u001b[0;34m\"Flat\"\u001b[0m\u001b[0;34m,\u001b[0m \u001b[0mfaiss\u001b[0m\u001b[0;34m.\u001b[0m\u001b[0mMETRIC_INNER_PRODUCT\u001b[0m\u001b[0;34m)\u001b[0m\u001b[0;34m\u001b[0m\u001b[0;34m\u001b[0m\u001b[0m\n\u001b[0;32m----> 2\u001b[0;31m \u001b[0mfaiss\u001b[0m\u001b[0;34m.\u001b[0m\u001b[0mnormalize_L2\u001b[0m\u001b[0;34m(\u001b[0m\u001b[0mbase_small_np\u001b[0m\u001b[0;34m)\u001b[0m\u001b[0;34m\u001b[0m\u001b[0;34m\u001b[0m\u001b[0m\n\u001b[0m\u001b[1;32m      3\u001b[0m \u001b[0mindex\u001b[0m\u001b[0;34m.\u001b[0m\u001b[0madd\u001b[0m\u001b[0;34m(\u001b[0m\u001b[0mbase_small_np\u001b[0m\u001b[0;34m)\u001b[0m\u001b[0;34m\u001b[0m\u001b[0;34m\u001b[0m\u001b[0m\n\u001b[1;32m      4\u001b[0m \u001b[0mfaiss\u001b[0m\u001b[0;34m.\u001b[0m\u001b[0mnormalize_L2\u001b[0m\u001b[0;34m(\u001b[0m\u001b[0mfeatures_train_np\u001b[0m\u001b[0;34m)\u001b[0m\u001b[0;34m\u001b[0m\u001b[0;34m\u001b[0m\u001b[0m\n\u001b[1;32m      5\u001b[0m \u001b[0mnprobs\u001b[0m \u001b[0;34m=\u001b[0m \u001b[0;36m100\u001b[0m\u001b[0;34m\u001b[0m\u001b[0;34m\u001b[0m\u001b[0m\n",
      "\u001b[0;32m~/anaconda3/envs/downgrade/lib/python3.10/site-packages/faiss/extra_wrappers.py\u001b[0m in \u001b[0;36m?\u001b[0;34m(x)\u001b[0m\n\u001b[1;32m    141\u001b[0m \u001b[0;32mdef\u001b[0m \u001b[0mnormalize_L2\u001b[0m\u001b[0;34m(\u001b[0m\u001b[0mx\u001b[0m\u001b[0;34m)\u001b[0m\u001b[0;34m:\u001b[0m\u001b[0;34m\u001b[0m\u001b[0;34m\u001b[0m\u001b[0m\n\u001b[0;32m--> 142\u001b[0;31m     \u001b[0mfvec_renorm_L2\u001b[0m\u001b[0;34m(\u001b[0m\u001b[0mx\u001b[0m\u001b[0;34m.\u001b[0m\u001b[0mshape\u001b[0m\u001b[0;34m[\u001b[0m\u001b[0;36m1\u001b[0m\u001b[0;34m]\u001b[0m\u001b[0;34m,\u001b[0m \u001b[0mx\u001b[0m\u001b[0;34m.\u001b[0m\u001b[0mshape\u001b[0m\u001b[0;34m[\u001b[0m\u001b[0;36m0\u001b[0m\u001b[0;34m]\u001b[0m\u001b[0;34m,\u001b[0m \u001b[0mswig_ptr\u001b[0m\u001b[0;34m(\u001b[0m\u001b[0mx\u001b[0m\u001b[0;34m)\u001b[0m\u001b[0;34m)\u001b[0m\u001b[0;34m\u001b[0m\u001b[0;34m\u001b[0m\u001b[0m\n\u001b[0m",
      "\u001b[0;32m~/anaconda3/envs/downgrade/lib/python3.10/site-packages/faiss/swigfaiss_avx2.py\u001b[0m in \u001b[0;36m?\u001b[0;34m(d, nx, x)\u001b[0m\n\u001b[1;32m   1184\u001b[0m \u001b[0;32mdef\u001b[0m \u001b[0mfvec_renorm_L2\u001b[0m\u001b[0;34m(\u001b[0m\u001b[0md\u001b[0m\u001b[0;34m,\u001b[0m \u001b[0mnx\u001b[0m\u001b[0;34m,\u001b[0m \u001b[0mx\u001b[0m\u001b[0;34m)\u001b[0m\u001b[0;34m:\u001b[0m\u001b[0;34m\u001b[0m\u001b[0;34m\u001b[0m\u001b[0m\n\u001b[0;32m-> 1185\u001b[0;31m     \u001b[0;32mreturn\u001b[0m \u001b[0m_swigfaiss_avx2\u001b[0m\u001b[0;34m.\u001b[0m\u001b[0mfvec_renorm_L2\u001b[0m\u001b[0;34m(\u001b[0m\u001b[0md\u001b[0m\u001b[0;34m,\u001b[0m \u001b[0mnx\u001b[0m\u001b[0;34m,\u001b[0m \u001b[0mx\u001b[0m\u001b[0;34m)\u001b[0m\u001b[0;34m\u001b[0m\u001b[0;34m\u001b[0m\u001b[0m\n\u001b[0m",
      "\u001b[0;31mTypeError\u001b[0m: in method 'fvec_renorm_L2', argument 3 of type 'float *'"
     ]
    }
   ],
   "source": [
    "index = faiss.index_factory(base.shape[1], \"Flat\", faiss.METRIC_INNER_PRODUCT)\n",
    "faiss.normalize_L2(base_small_np)\n",
    "index.add(base_small_np)\n",
    "faiss.normalize_L2(features_train_np)\n",
    "nprobs = 100\n",
    "distances, indexes = index.search(target_vectors, nprobs)"
   ]
  },
  {
   "cell_type": "code",
   "execution_count": null,
   "id": "938252c6-2a33-4af4-b940-d166aa046d83",
   "metadata": {},
   "outputs": [],
   "source": []
  },
  {
   "cell_type": "code",
   "execution_count": null,
   "id": "1995aeab-081f-499b-a551-60140f54d184",
   "metadata": {},
   "outputs": [],
   "source": []
  }
 ],
 "metadata": {
  "kernelspec": {
   "display_name": "Python 3 (ipykernel)",
   "language": "python",
   "name": "python3"
  },
  "language_info": {
   "codemirror_mode": {
    "name": "ipython",
    "version": 3
   },
   "file_extension": ".py",
   "mimetype": "text/x-python",
   "name": "python",
   "nbconvert_exporter": "python",
   "pygments_lexer": "ipython3",
   "version": "3.10.13"
  }
 },
 "nbformat": 4,
 "nbformat_minor": 5
}
