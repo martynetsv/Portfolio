{
 "cells": [
  {
   "cell_type": "markdown",
   "id": "GEqQaHzsZ_bA",
   "metadata": {
    "id": "GEqQaHzsZ_bA"
   },
   "source": [
    "## Предсказание стоимости жилья\n",
    "\n",
    "В проекте нужно обучить модель линейной регрессии на данных о жилье в Калифорнии в 1990 году. На основе данных нужно предсказать медианную стоимость дома в жилом массиве. Обучить модель и сделать предсказания на тестовой выборке. Для оценки качества модели необходимо использовать метрики RMSE, MAE и R2."
   ]
  },
  {
   "cell_type": "markdown",
   "id": "14a62691",
   "metadata": {},
   "source": [
    "В колонках датасета содержатся следующие данные:\n",
    "\n",
    "    longitude — широта;\n",
    "    latitude — долгота;\n",
    "    housing_median_age — медианный возраст жителей жилого массива;\n",
    "    total_rooms — общее количество комнат в домах жилого массива;\n",
    "    total_bedrooms — общее количество спален в домах жилого массива;\n",
    "    population — количество человек, которые проживают в жилом массиве;\n",
    "    households — количество домовладений в жилом массиве;\n",
    "    median_income — медианный доход жителей жилого массива;\n",
    "    median_house_value — медианная стоимость дома в жилом массиве;\n",
    "    ocean_proximity — близость к океану.\n",
    "\n",
    "На основе данных нужно предсказать медианную стоимость дома в жилом массиве — median_house_value.  \n",
    "Цель- обучить модель и сделать предсказания на тестовой выборке.   \n",
    "Для оценки качества модели будем использовать метрики RMSE, MAE и R2."
   ]
  },
  {
   "cell_type": "markdown",
   "id": "53871372",
   "metadata": {
    "id": "53871372"
   },
   "source": [
    "# Подготовка данных"
   ]
  },
  {
   "cell_type": "code",
   "execution_count": 1,
   "id": "df92e3ec",
   "metadata": {
    "id": "df92e3ec",
    "scrolled": false
   },
   "outputs": [],
   "source": [
    "import pandas as pd \n",
    "import numpy as np\n",
    "\n",
    "import pyspark\n",
    "from pyspark.sql import SparkSession\n",
    "from pyspark.sql.types import *\n",
    "import pyspark.sql.functions as F\n",
    "\n",
    "from pyspark.ml.feature import Imputer\n",
    "from pyspark.ml.feature import StringIndexer, VectorAssembler, StandardScaler\n",
    "from pyspark.ml.regression import LinearRegression\n",
    "from pyspark.mllib.evaluation import RegressionMetrics\n",
    "\n",
    "from pyspark.ml.feature import OneHotEncoder    \n",
    "\n",
    "        \n",
    "RANDOM_SEED = 12345"
   ]
  },
  {
   "cell_type": "markdown",
   "id": "51f35d78",
   "metadata": {},
   "source": [
    "Создам спарк-сессию"
   ]
  },
  {
   "cell_type": "code",
   "execution_count": 2,
   "id": "1e0f0d66",
   "metadata": {},
   "outputs": [],
   "source": [
    "spark = (SparkSession.builder \n",
    "                    .master(\"local\") \n",
    "                    .appName(\"California houses - Logistic regression\")\n",
    "                    .getOrCreate()\n",
    "        )"
   ]
  },
  {
   "cell_type": "code",
   "execution_count": 3,
   "id": "613450d6",
   "metadata": {},
   "outputs": [
    {
     "name": "stderr",
     "output_type": "stream",
     "text": [
      "                                                                                \r"
     ]
    },
    {
     "data": {
      "text/html": [
       "\n",
       "            <div>\n",
       "                <p><b>SparkSession - in-memory</b></p>\n",
       "                \n",
       "        <div>\n",
       "            <p><b>SparkContext</b></p>\n",
       "\n",
       "            <p><a href=\"http://jupyter-user-0-212538650:4040\">Spark UI</a></p>\n",
       "\n",
       "            <dl>\n",
       "              <dt>Version</dt>\n",
       "                <dd><code>v3.0.2</code></dd>\n",
       "              <dt>Master</dt>\n",
       "                <dd><code>local</code></dd>\n",
       "              <dt>AppName</dt>\n",
       "                <dd><code>California houses - Logistic regression</code></dd>\n",
       "            </dl>\n",
       "        </div>\n",
       "        \n",
       "            </div>\n",
       "        "
      ],
      "text/plain": [
       "<pyspark.sql.session.SparkSession at 0x7f0dea8b4790>"
      ]
     },
     "execution_count": 3,
     "metadata": {},
     "output_type": "execute_result"
    }
   ],
   "source": [
    "df = spark.read.option('header', 'true').csv('/datasets/housing.csv', inferSchema = True) \n",
    "spark #проверим версию спарка"
   ]
  },
  {
   "cell_type": "code",
   "execution_count": 4,
   "id": "82e649d2",
   "metadata": {
    "scrolled": true
   },
   "outputs": [
    {
     "name": "stdout",
     "output_type": "stream",
     "text": [
      "root\n",
      " |-- longitude: double (nullable = true)\n",
      " |-- latitude: double (nullable = true)\n",
      " |-- housing_median_age: double (nullable = true)\n",
      " |-- total_rooms: double (nullable = true)\n",
      " |-- total_bedrooms: double (nullable = true)\n",
      " |-- population: double (nullable = true)\n",
      " |-- households: double (nullable = true)\n",
      " |-- median_income: double (nullable = true)\n",
      " |-- median_house_value: double (nullable = true)\n",
      " |-- ocean_proximity: string (nullable = true)\n",
      "\n"
     ]
    }
   ],
   "source": [
    "df.printSchema()"
   ]
  },
  {
   "cell_type": "markdown",
   "id": "7b965f87",
   "metadata": {},
   "source": [
    "В основом данные с числовыми значениями и один со строковым (единственный категориальный признак)"
   ]
  },
  {
   "cell_type": "code",
   "execution_count": 5,
   "id": "f4b4720b",
   "metadata": {},
   "outputs": [
    {
     "name": "stdout",
     "output_type": "stream",
     "text": [
      "+---------+--------+------------------+-----------+--------------+----------+----------+-------------+------------------+---------------+\n",
      "|longitude|latitude|housing_median_age|total_rooms|total_bedrooms|population|households|median_income|median_house_value|ocean_proximity|\n",
      "+---------+--------+------------------+-----------+--------------+----------+----------+-------------+------------------+---------------+\n",
      "|  -122.23|   37.88|              41.0|      880.0|         129.0|     322.0|     126.0|       8.3252|          452600.0|       NEAR BAY|\n",
      "|  -122.22|   37.86|              21.0|     7099.0|        1106.0|    2401.0|    1138.0|       8.3014|          358500.0|       NEAR BAY|\n",
      "|  -122.24|   37.85|              52.0|     1467.0|         190.0|     496.0|     177.0|       7.2574|          352100.0|       NEAR BAY|\n",
      "|  -122.25|   37.85|              52.0|     1274.0|         235.0|     558.0|     219.0|       5.6431|          341300.0|       NEAR BAY|\n",
      "|  -122.25|   37.85|              52.0|     1627.0|         280.0|     565.0|     259.0|       3.8462|          342200.0|       NEAR BAY|\n",
      "|  -122.25|   37.85|              52.0|      919.0|         213.0|     413.0|     193.0|       4.0368|          269700.0|       NEAR BAY|\n",
      "|  -122.25|   37.84|              52.0|     2535.0|         489.0|    1094.0|     514.0|       3.6591|          299200.0|       NEAR BAY|\n",
      "|  -122.25|   37.84|              52.0|     3104.0|         687.0|    1157.0|     647.0|         3.12|          241400.0|       NEAR BAY|\n",
      "|  -122.26|   37.84|              42.0|     2555.0|         665.0|    1206.0|     595.0|       2.0804|          226700.0|       NEAR BAY|\n",
      "|  -122.25|   37.84|              52.0|     3549.0|         707.0|    1551.0|     714.0|       3.6912|          261100.0|       NEAR BAY|\n",
      "+---------+--------+------------------+-----------+--------------+----------+----------+-------------+------------------+---------------+\n",
      "only showing top 10 rows\n",
      "\n"
     ]
    }
   ],
   "source": [
    "df.show(10)"
   ]
  },
  {
   "cell_type": "code",
   "execution_count": 6,
   "id": "3de339f4",
   "metadata": {},
   "outputs": [
    {
     "name": "stderr",
     "output_type": "stream",
     "text": [
      "                                                                                \r"
     ]
    },
    {
     "data": {
      "text/html": [
       "<div>\n",
       "<style scoped>\n",
       "    .dataframe tbody tr th:only-of-type {\n",
       "        vertical-align: middle;\n",
       "    }\n",
       "\n",
       "    .dataframe tbody tr th {\n",
       "        vertical-align: top;\n",
       "    }\n",
       "\n",
       "    .dataframe thead th {\n",
       "        text-align: right;\n",
       "    }\n",
       "</style>\n",
       "<table border=\"1\" class=\"dataframe\">\n",
       "  <thead>\n",
       "    <tr style=\"text-align: right;\">\n",
       "      <th></th>\n",
       "      <th>summary</th>\n",
       "      <th>longitude</th>\n",
       "      <th>latitude</th>\n",
       "      <th>housing_median_age</th>\n",
       "      <th>total_rooms</th>\n",
       "      <th>total_bedrooms</th>\n",
       "      <th>population</th>\n",
       "      <th>households</th>\n",
       "      <th>median_income</th>\n",
       "      <th>median_house_value</th>\n",
       "      <th>ocean_proximity</th>\n",
       "    </tr>\n",
       "  </thead>\n",
       "  <tbody>\n",
       "    <tr>\n",
       "      <th>0</th>\n",
       "      <td>count</td>\n",
       "      <td>20640</td>\n",
       "      <td>20640</td>\n",
       "      <td>20640</td>\n",
       "      <td>20640</td>\n",
       "      <td>20433</td>\n",
       "      <td>20640</td>\n",
       "      <td>20640</td>\n",
       "      <td>20640</td>\n",
       "      <td>20640</td>\n",
       "      <td>20640</td>\n",
       "    </tr>\n",
       "    <tr>\n",
       "      <th>1</th>\n",
       "      <td>mean</td>\n",
       "      <td>-119.56970445736148</td>\n",
       "      <td>35.6318614341087</td>\n",
       "      <td>28.639486434108527</td>\n",
       "      <td>2635.7630813953488</td>\n",
       "      <td>537.8705525375618</td>\n",
       "      <td>1425.4767441860465</td>\n",
       "      <td>499.5396802325581</td>\n",
       "      <td>3.8706710029070246</td>\n",
       "      <td>206855.81690891474</td>\n",
       "      <td>None</td>\n",
       "    </tr>\n",
       "    <tr>\n",
       "      <th>2</th>\n",
       "      <td>stddev</td>\n",
       "      <td>2.003531723502584</td>\n",
       "      <td>2.135952397457101</td>\n",
       "      <td>12.58555761211163</td>\n",
       "      <td>2181.6152515827944</td>\n",
       "      <td>421.38507007403115</td>\n",
       "      <td>1132.46212176534</td>\n",
       "      <td>382.3297528316098</td>\n",
       "      <td>1.899821717945263</td>\n",
       "      <td>115395.61587441359</td>\n",
       "      <td>None</td>\n",
       "    </tr>\n",
       "    <tr>\n",
       "      <th>3</th>\n",
       "      <td>min</td>\n",
       "      <td>-124.35</td>\n",
       "      <td>32.54</td>\n",
       "      <td>1.0</td>\n",
       "      <td>2.0</td>\n",
       "      <td>1.0</td>\n",
       "      <td>3.0</td>\n",
       "      <td>1.0</td>\n",
       "      <td>0.4999</td>\n",
       "      <td>14999.0</td>\n",
       "      <td>&lt;1H OCEAN</td>\n",
       "    </tr>\n",
       "    <tr>\n",
       "      <th>4</th>\n",
       "      <td>max</td>\n",
       "      <td>-114.31</td>\n",
       "      <td>41.95</td>\n",
       "      <td>52.0</td>\n",
       "      <td>39320.0</td>\n",
       "      <td>6445.0</td>\n",
       "      <td>35682.0</td>\n",
       "      <td>6082.0</td>\n",
       "      <td>15.0001</td>\n",
       "      <td>500001.0</td>\n",
       "      <td>NEAR OCEAN</td>\n",
       "    </tr>\n",
       "  </tbody>\n",
       "</table>\n",
       "</div>"
      ],
      "text/plain": [
       "  summary            longitude           latitude  housing_median_age  \\\n",
       "0   count                20640              20640               20640   \n",
       "1    mean  -119.56970445736148   35.6318614341087  28.639486434108527   \n",
       "2  stddev    2.003531723502584  2.135952397457101   12.58555761211163   \n",
       "3     min              -124.35              32.54                 1.0   \n",
       "4     max              -114.31              41.95                52.0   \n",
       "\n",
       "          total_rooms      total_bedrooms          population  \\\n",
       "0               20640               20433               20640   \n",
       "1  2635.7630813953488   537.8705525375618  1425.4767441860465   \n",
       "2  2181.6152515827944  421.38507007403115    1132.46212176534   \n",
       "3                 2.0                 1.0                 3.0   \n",
       "4             39320.0              6445.0             35682.0   \n",
       "\n",
       "          households       median_income  median_house_value ocean_proximity  \n",
       "0              20640               20640               20640           20640  \n",
       "1  499.5396802325581  3.8706710029070246  206855.81690891474            None  \n",
       "2  382.3297528316098   1.899821717945263  115395.61587441359            None  \n",
       "3                1.0              0.4999             14999.0       <1H OCEAN  \n",
       "4             6082.0             15.0001            500001.0      NEAR OCEAN  "
      ]
     },
     "execution_count": 6,
     "metadata": {},
     "output_type": "execute_result"
    }
   ],
   "source": [
    "df.describe().toPandas()"
   ]
  },
  {
   "cell_type": "markdown",
   "id": "7a4c9f15",
   "metadata": {},
   "source": [
    "Есть немного пропусков в total_bedrooms"
   ]
  },
  {
   "cell_type": "code",
   "execution_count": 7,
   "id": "8d724696",
   "metadata": {},
   "outputs": [
    {
     "data": {
      "text/plain": [
       "1.002906976744186"
      ]
     },
     "execution_count": 7,
     "metadata": {},
     "output_type": "execute_result"
    }
   ],
   "source": [
    "(20640-20433)/20640 * 100"
   ]
  },
  {
   "cell_type": "markdown",
   "id": "f720727d",
   "metadata": {},
   "source": [
    "Пропусков 1%,  можно удалить"
   ]
  },
  {
   "cell_type": "markdown",
   "id": "2c3a6d84",
   "metadata": {},
   "source": [
    "Разделим датасет на данные на обуачающую и тестовую выборки в пропорции 80/20 перед заполнением "
   ]
  },
  {
   "cell_type": "code",
   "execution_count": 8,
   "id": "573902f2",
   "metadata": {
    "scrolled": true
   },
   "outputs": [
    {
     "name": "stderr",
     "output_type": "stream",
     "text": [
      "                                                                                \r"
     ]
    },
    {
     "name": "stdout",
     "output_type": "stream",
     "text": [
      "16431 4209\n"
     ]
    }
   ],
   "source": [
    "train_data, test_data = df.randomSplit([.8,.2], seed=RANDOM_SEED)\n",
    "print(train_data.count(), test_data.count()) "
   ]
  },
  {
   "cell_type": "markdown",
   "id": "06427ef6",
   "metadata": {},
   "source": [
    "Использую Imputer для заполнения пропусков"
   ]
  },
  {
   "cell_type": "code",
   "execution_count": 9,
   "id": "80d77a3a",
   "metadata": {},
   "outputs": [
    {
     "data": {
      "text/html": [
       "<div>\n",
       "<style scoped>\n",
       "    .dataframe tbody tr th:only-of-type {\n",
       "        vertical-align: middle;\n",
       "    }\n",
       "\n",
       "    .dataframe tbody tr th {\n",
       "        vertical-align: top;\n",
       "    }\n",
       "\n",
       "    .dataframe thead th {\n",
       "        text-align: right;\n",
       "    }\n",
       "</style>\n",
       "<table border=\"1\" class=\"dataframe\">\n",
       "  <thead>\n",
       "    <tr style=\"text-align: right;\">\n",
       "      <th></th>\n",
       "      <th>longitude</th>\n",
       "      <th>latitude</th>\n",
       "      <th>housing_median_age</th>\n",
       "      <th>total_rooms</th>\n",
       "      <th>total_bedrooms</th>\n",
       "      <th>population</th>\n",
       "      <th>households</th>\n",
       "      <th>median_income</th>\n",
       "      <th>median_house_value</th>\n",
       "      <th>ocean_proximity</th>\n",
       "    </tr>\n",
       "  </thead>\n",
       "  <tbody>\n",
       "    <tr>\n",
       "      <th>0</th>\n",
       "      <td>-124.35</td>\n",
       "      <td>40.54</td>\n",
       "      <td>52.0</td>\n",
       "      <td>1820.0</td>\n",
       "      <td>300.0</td>\n",
       "      <td>806.0</td>\n",
       "      <td>270.0</td>\n",
       "      <td>3.0147</td>\n",
       "      <td>94600.0</td>\n",
       "      <td>NEAR OCEAN</td>\n",
       "    </tr>\n",
       "    <tr>\n",
       "      <th>1</th>\n",
       "      <td>-124.30</td>\n",
       "      <td>41.80</td>\n",
       "      <td>19.0</td>\n",
       "      <td>2672.0</td>\n",
       "      <td>552.0</td>\n",
       "      <td>1298.0</td>\n",
       "      <td>478.0</td>\n",
       "      <td>1.9797</td>\n",
       "      <td>85800.0</td>\n",
       "      <td>NEAR OCEAN</td>\n",
       "    </tr>\n",
       "    <tr>\n",
       "      <th>2</th>\n",
       "      <td>-124.30</td>\n",
       "      <td>41.84</td>\n",
       "      <td>17.0</td>\n",
       "      <td>2677.0</td>\n",
       "      <td>531.0</td>\n",
       "      <td>1244.0</td>\n",
       "      <td>456.0</td>\n",
       "      <td>3.0313</td>\n",
       "      <td>103600.0</td>\n",
       "      <td>NEAR OCEAN</td>\n",
       "    </tr>\n",
       "    <tr>\n",
       "      <th>3</th>\n",
       "      <td>-124.27</td>\n",
       "      <td>40.69</td>\n",
       "      <td>36.0</td>\n",
       "      <td>2349.0</td>\n",
       "      <td>528.0</td>\n",
       "      <td>1194.0</td>\n",
       "      <td>465.0</td>\n",
       "      <td>2.5179</td>\n",
       "      <td>79000.0</td>\n",
       "      <td>NEAR OCEAN</td>\n",
       "    </tr>\n",
       "    <tr>\n",
       "      <th>4</th>\n",
       "      <td>-124.26</td>\n",
       "      <td>40.58</td>\n",
       "      <td>52.0</td>\n",
       "      <td>2217.0</td>\n",
       "      <td>394.0</td>\n",
       "      <td>907.0</td>\n",
       "      <td>369.0</td>\n",
       "      <td>2.3571</td>\n",
       "      <td>111400.0</td>\n",
       "      <td>NEAR OCEAN</td>\n",
       "    </tr>\n",
       "  </tbody>\n",
       "</table>\n",
       "</div>"
      ],
      "text/plain": [
       "   longitude  latitude  housing_median_age  total_rooms  total_bedrooms  \\\n",
       "0    -124.35     40.54                52.0       1820.0           300.0   \n",
       "1    -124.30     41.80                19.0       2672.0           552.0   \n",
       "2    -124.30     41.84                17.0       2677.0           531.0   \n",
       "3    -124.27     40.69                36.0       2349.0           528.0   \n",
       "4    -124.26     40.58                52.0       2217.0           394.0   \n",
       "\n",
       "   population  households  median_income  median_house_value ocean_proximity  \n",
       "0       806.0       270.0         3.0147             94600.0      NEAR OCEAN  \n",
       "1      1298.0       478.0         1.9797             85800.0      NEAR OCEAN  \n",
       "2      1244.0       456.0         3.0313            103600.0      NEAR OCEAN  \n",
       "3      1194.0       465.0         2.5179             79000.0      NEAR OCEAN  \n",
       "4       907.0       369.0         2.3571            111400.0      NEAR OCEAN  "
      ]
     },
     "execution_count": 9,
     "metadata": {},
     "output_type": "execute_result"
    }
   ],
   "source": [
    "imputer = Imputer(\n",
    "    strategy=\"mean\",\n",
    "    inputCol='total_bedrooms', outputCol=\"total_bedrooms\",)\n",
    "model = imputer.fit(train_data)\n",
    "train_data = model.transform(train_data)\n",
    "test_data = model.transform(test_data)\n",
    "train_data.limit(5).toPandas()"
   ]
  },
  {
   "cell_type": "markdown",
   "id": "4ef62c7b",
   "metadata": {},
   "source": [
    "Заполнил пропуски средним, с медианой метрики совсем немного, но были хуже"
   ]
  },
  {
   "cell_type": "code",
   "execution_count": 10,
   "id": "cd8c51ad",
   "metadata": {},
   "outputs": [
    {
     "name": "stderr",
     "output_type": "stream",
     "text": [
      "                                                                                \r"
     ]
    },
    {
     "data": {
      "text/html": [
       "<div>\n",
       "<style scoped>\n",
       "    .dataframe tbody tr th:only-of-type {\n",
       "        vertical-align: middle;\n",
       "    }\n",
       "\n",
       "    .dataframe tbody tr th {\n",
       "        vertical-align: top;\n",
       "    }\n",
       "\n",
       "    .dataframe thead th {\n",
       "        text-align: right;\n",
       "    }\n",
       "</style>\n",
       "<table border=\"1\" class=\"dataframe\">\n",
       "  <thead>\n",
       "    <tr style=\"text-align: right;\">\n",
       "      <th></th>\n",
       "      <th>summary</th>\n",
       "      <th>longitude</th>\n",
       "      <th>latitude</th>\n",
       "      <th>housing_median_age</th>\n",
       "      <th>total_rooms</th>\n",
       "      <th>total_bedrooms</th>\n",
       "      <th>population</th>\n",
       "      <th>households</th>\n",
       "      <th>median_income</th>\n",
       "      <th>median_house_value</th>\n",
       "      <th>ocean_proximity</th>\n",
       "    </tr>\n",
       "  </thead>\n",
       "  <tbody>\n",
       "    <tr>\n",
       "      <th>0</th>\n",
       "      <td>count</td>\n",
       "      <td>20640</td>\n",
       "      <td>20640</td>\n",
       "      <td>20640</td>\n",
       "      <td>20640</td>\n",
       "      <td>20433</td>\n",
       "      <td>20640</td>\n",
       "      <td>20640</td>\n",
       "      <td>20640</td>\n",
       "      <td>20640</td>\n",
       "      <td>20640</td>\n",
       "    </tr>\n",
       "    <tr>\n",
       "      <th>1</th>\n",
       "      <td>mean</td>\n",
       "      <td>-119.56970445736148</td>\n",
       "      <td>35.6318614341087</td>\n",
       "      <td>28.639486434108527</td>\n",
       "      <td>2635.7630813953488</td>\n",
       "      <td>537.8705525375618</td>\n",
       "      <td>1425.4767441860465</td>\n",
       "      <td>499.5396802325581</td>\n",
       "      <td>3.8706710029070246</td>\n",
       "      <td>206855.81690891474</td>\n",
       "      <td>None</td>\n",
       "    </tr>\n",
       "    <tr>\n",
       "      <th>2</th>\n",
       "      <td>stddev</td>\n",
       "      <td>2.003531723502584</td>\n",
       "      <td>2.135952397457101</td>\n",
       "      <td>12.58555761211163</td>\n",
       "      <td>2181.6152515827944</td>\n",
       "      <td>421.38507007403115</td>\n",
       "      <td>1132.46212176534</td>\n",
       "      <td>382.3297528316098</td>\n",
       "      <td>1.899821717945263</td>\n",
       "      <td>115395.61587441359</td>\n",
       "      <td>None</td>\n",
       "    </tr>\n",
       "    <tr>\n",
       "      <th>3</th>\n",
       "      <td>min</td>\n",
       "      <td>-124.35</td>\n",
       "      <td>32.54</td>\n",
       "      <td>1.0</td>\n",
       "      <td>2.0</td>\n",
       "      <td>1.0</td>\n",
       "      <td>3.0</td>\n",
       "      <td>1.0</td>\n",
       "      <td>0.4999</td>\n",
       "      <td>14999.0</td>\n",
       "      <td>&lt;1H OCEAN</td>\n",
       "    </tr>\n",
       "    <tr>\n",
       "      <th>4</th>\n",
       "      <td>max</td>\n",
       "      <td>-114.31</td>\n",
       "      <td>41.95</td>\n",
       "      <td>52.0</td>\n",
       "      <td>39320.0</td>\n",
       "      <td>6445.0</td>\n",
       "      <td>35682.0</td>\n",
       "      <td>6082.0</td>\n",
       "      <td>15.0001</td>\n",
       "      <td>500001.0</td>\n",
       "      <td>NEAR OCEAN</td>\n",
       "    </tr>\n",
       "  </tbody>\n",
       "</table>\n",
       "</div>"
      ],
      "text/plain": [
       "  summary            longitude           latitude  housing_median_age  \\\n",
       "0   count                20640              20640               20640   \n",
       "1    mean  -119.56970445736148   35.6318614341087  28.639486434108527   \n",
       "2  stddev    2.003531723502584  2.135952397457101   12.58555761211163   \n",
       "3     min              -124.35              32.54                 1.0   \n",
       "4     max              -114.31              41.95                52.0   \n",
       "\n",
       "          total_rooms      total_bedrooms          population  \\\n",
       "0               20640               20433               20640   \n",
       "1  2635.7630813953488   537.8705525375618  1425.4767441860465   \n",
       "2  2181.6152515827944  421.38507007403115    1132.46212176534   \n",
       "3                 2.0                 1.0                 3.0   \n",
       "4             39320.0              6445.0             35682.0   \n",
       "\n",
       "          households       median_income  median_house_value ocean_proximity  \n",
       "0              20640               20640               20640           20640  \n",
       "1  499.5396802325581  3.8706710029070246  206855.81690891474            None  \n",
       "2  382.3297528316098   1.899821717945263  115395.61587441359            None  \n",
       "3                1.0              0.4999             14999.0       <1H OCEAN  \n",
       "4             6082.0             15.0001            500001.0      NEAR OCEAN  "
      ]
     },
     "execution_count": 10,
     "metadata": {},
     "output_type": "execute_result"
    }
   ],
   "source": [
    "df.describe().toPandas()"
   ]
  },
  {
   "cell_type": "markdown",
   "id": "01c0d099",
   "metadata": {},
   "source": [
    "Выведем колонки с названиями признаков"
   ]
  },
  {
   "cell_type": "code",
   "execution_count": 11,
   "id": "bddb08c4",
   "metadata": {
    "id": "bddb08c4",
    "scrolled": true
   },
   "outputs": [],
   "source": [
    "numerical_cols = train_data.drop('ocean_proximity','median_house_value').columns\n",
    "categorical_cols = 'ocean_proximity'\n",
    "target = 'median_house_value'"
   ]
  },
  {
   "cell_type": "code",
   "execution_count": 12,
   "id": "e2f23465",
   "metadata": {
    "scrolled": false
   },
   "outputs": [
    {
     "data": {
      "text/plain": [
       "['longitude',\n",
       " 'latitude',\n",
       " 'housing_median_age',\n",
       " 'total_rooms',\n",
       " 'total_bedrooms',\n",
       " 'population',\n",
       " 'households',\n",
       " 'median_income']"
      ]
     },
     "execution_count": 12,
     "metadata": {},
     "output_type": "execute_result"
    }
   ],
   "source": [
    "numerical_cols"
   ]
  },
  {
   "cell_type": "markdown",
   "id": "f0844e20",
   "metadata": {},
   "source": [
    "Преобразуем категориальный признак в индексы, чтобы модель их восприняла"
   ]
  },
  {
   "cell_type": "code",
   "execution_count": 13,
   "id": "1cf6ed16",
   "metadata": {},
   "outputs": [
    {
     "name": "stderr",
     "output_type": "stream",
     "text": [
      "                                                                                \r"
     ]
    }
   ],
   "source": [
    "indexer = StringIndexer(inputCol=\"ocean_proximity\", \n",
    "                        outputCol=\"ocean_proximity_idx\") \n",
    "\n",
    "train_data = indexer.fit(train_data).transform(train_data)\n",
    "test_data = indexer.fit(test_data).transform(test_data)\n"
   ]
  },
  {
   "cell_type": "code",
   "execution_count": 14,
   "id": "be858fd2",
   "metadata": {},
   "outputs": [
    {
     "name": "stdout",
     "output_type": "stream",
     "text": [
      "+-------------------+\n",
      "|ocean_proximity_idx|\n",
      "+-------------------+\n",
      "|                2.0|\n",
      "|                2.0|\n",
      "|                2.0|\n",
      "|                2.0|\n",
      "|                2.0|\n",
      "+-------------------+\n",
      "only showing top 5 rows\n",
      "\n"
     ]
    }
   ],
   "source": [
    "train_data.select('ocean_proximity_idx').show(5)"
   ]
  },
  {
   "cell_type": "code",
   "execution_count": 15,
   "id": "d761ca5b",
   "metadata": {
    "scrolled": true
   },
   "outputs": [
    {
     "name": "stdout",
     "output_type": "stream",
     "text": [
      "+-------------------+\n",
      "|ocean_proximity_idx|\n",
      "+-------------------+\n",
      "|                2.0|\n",
      "|                2.0|\n",
      "|                2.0|\n",
      "|                2.0|\n",
      "|                2.0|\n",
      "+-------------------+\n",
      "only showing top 5 rows\n",
      "\n"
     ]
    }
   ],
   "source": [
    "test_data.select('ocean_proximity_idx').show(5)"
   ]
  },
  {
   "cell_type": "markdown",
   "id": "dc3a4a7f",
   "metadata": {},
   "source": [
    "И применим к индексированной кагегориальной фиче OHE"
   ]
  },
  {
   "cell_type": "code",
   "execution_count": 16,
   "id": "282ce5e2",
   "metadata": {
    "scrolled": false
   },
   "outputs": [
    {
     "name": "stdout",
     "output_type": "stream",
     "text": [
      "+-----------------------+\n",
      "|ocean_proximity_idx_ohe|\n",
      "+-----------------------+\n",
      "|          (4,[2],[1.0])|\n",
      "|          (4,[2],[1.0])|\n",
      "|          (4,[2],[1.0])|\n",
      "+-----------------------+\n",
      "only showing top 3 rows\n",
      "\n"
     ]
    }
   ],
   "source": [
    "encoder = OneHotEncoder(inputCol='ocean_proximity_idx',\n",
    "                        outputCol='ocean_proximity_idx_ohe')\n",
    "train_data = encoder.fit(train_data).transform(train_data)\n",
    "test_data = encoder.fit(test_data).transform(test_data)\n",
    "\n",
    "train_data.select('ocean_proximity_idx_ohe').show(3) "
   ]
  },
  {
   "cell_type": "markdown",
   "id": "57331fd9",
   "metadata": {},
   "source": [
    "Создадим новую колонку под названием categorical_features"
   ]
  },
  {
   "cell_type": "code",
   "execution_count": 17,
   "id": "9b8c9b89",
   "metadata": {},
   "outputs": [],
   "source": [
    "categorical_assembler = (\n",
    "        VectorAssembler(inputCols=['ocean_proximity_idx_ohe'],\n",
    "                                        outputCol=\"categorical_features\")\n",
    "    )\n",
    "train_data = categorical_assembler.transform(train_data)\n",
    "test_data  = categorical_assembler.transform(test_data )"
   ]
  },
  {
   "cell_type": "code",
   "execution_count": 18,
   "id": "81dd3256",
   "metadata": {
    "scrolled": false
   },
   "outputs": [
    {
     "data": {
      "text/html": [
       "<div>\n",
       "<style scoped>\n",
       "    .dataframe tbody tr th:only-of-type {\n",
       "        vertical-align: middle;\n",
       "    }\n",
       "\n",
       "    .dataframe tbody tr th {\n",
       "        vertical-align: top;\n",
       "    }\n",
       "\n",
       "    .dataframe thead th {\n",
       "        text-align: right;\n",
       "    }\n",
       "</style>\n",
       "<table border=\"1\" class=\"dataframe\">\n",
       "  <thead>\n",
       "    <tr style=\"text-align: right;\">\n",
       "      <th></th>\n",
       "      <th>longitude</th>\n",
       "      <th>latitude</th>\n",
       "      <th>housing_median_age</th>\n",
       "      <th>total_rooms</th>\n",
       "      <th>total_bedrooms</th>\n",
       "      <th>population</th>\n",
       "      <th>households</th>\n",
       "      <th>median_income</th>\n",
       "      <th>median_house_value</th>\n",
       "      <th>ocean_proximity</th>\n",
       "      <th>ocean_proximity_idx</th>\n",
       "      <th>ocean_proximity_idx_ohe</th>\n",
       "      <th>categorical_features</th>\n",
       "    </tr>\n",
       "  </thead>\n",
       "  <tbody>\n",
       "    <tr>\n",
       "      <th>0</th>\n",
       "      <td>-124.35</td>\n",
       "      <td>40.54</td>\n",
       "      <td>52.0</td>\n",
       "      <td>1820.0</td>\n",
       "      <td>300.0</td>\n",
       "      <td>806.0</td>\n",
       "      <td>270.0</td>\n",
       "      <td>3.0147</td>\n",
       "      <td>94600.0</td>\n",
       "      <td>NEAR OCEAN</td>\n",
       "      <td>2.0</td>\n",
       "      <td>(0.0, 0.0, 1.0, 0.0)</td>\n",
       "      <td>(0.0, 0.0, 1.0, 0.0)</td>\n",
       "    </tr>\n",
       "    <tr>\n",
       "      <th>1</th>\n",
       "      <td>-124.30</td>\n",
       "      <td>41.80</td>\n",
       "      <td>19.0</td>\n",
       "      <td>2672.0</td>\n",
       "      <td>552.0</td>\n",
       "      <td>1298.0</td>\n",
       "      <td>478.0</td>\n",
       "      <td>1.9797</td>\n",
       "      <td>85800.0</td>\n",
       "      <td>NEAR OCEAN</td>\n",
       "      <td>2.0</td>\n",
       "      <td>(0.0, 0.0, 1.0, 0.0)</td>\n",
       "      <td>(0.0, 0.0, 1.0, 0.0)</td>\n",
       "    </tr>\n",
       "    <tr>\n",
       "      <th>2</th>\n",
       "      <td>-124.30</td>\n",
       "      <td>41.84</td>\n",
       "      <td>17.0</td>\n",
       "      <td>2677.0</td>\n",
       "      <td>531.0</td>\n",
       "      <td>1244.0</td>\n",
       "      <td>456.0</td>\n",
       "      <td>3.0313</td>\n",
       "      <td>103600.0</td>\n",
       "      <td>NEAR OCEAN</td>\n",
       "      <td>2.0</td>\n",
       "      <td>(0.0, 0.0, 1.0, 0.0)</td>\n",
       "      <td>(0.0, 0.0, 1.0, 0.0)</td>\n",
       "    </tr>\n",
       "    <tr>\n",
       "      <th>3</th>\n",
       "      <td>-124.27</td>\n",
       "      <td>40.69</td>\n",
       "      <td>36.0</td>\n",
       "      <td>2349.0</td>\n",
       "      <td>528.0</td>\n",
       "      <td>1194.0</td>\n",
       "      <td>465.0</td>\n",
       "      <td>2.5179</td>\n",
       "      <td>79000.0</td>\n",
       "      <td>NEAR OCEAN</td>\n",
       "      <td>2.0</td>\n",
       "      <td>(0.0, 0.0, 1.0, 0.0)</td>\n",
       "      <td>(0.0, 0.0, 1.0, 0.0)</td>\n",
       "    </tr>\n",
       "    <tr>\n",
       "      <th>4</th>\n",
       "      <td>-124.26</td>\n",
       "      <td>40.58</td>\n",
       "      <td>52.0</td>\n",
       "      <td>2217.0</td>\n",
       "      <td>394.0</td>\n",
       "      <td>907.0</td>\n",
       "      <td>369.0</td>\n",
       "      <td>2.3571</td>\n",
       "      <td>111400.0</td>\n",
       "      <td>NEAR OCEAN</td>\n",
       "      <td>2.0</td>\n",
       "      <td>(0.0, 0.0, 1.0, 0.0)</td>\n",
       "      <td>(0.0, 0.0, 1.0, 0.0)</td>\n",
       "    </tr>\n",
       "  </tbody>\n",
       "</table>\n",
       "</div>"
      ],
      "text/plain": [
       "   longitude  latitude  housing_median_age  total_rooms  total_bedrooms  \\\n",
       "0    -124.35     40.54                52.0       1820.0           300.0   \n",
       "1    -124.30     41.80                19.0       2672.0           552.0   \n",
       "2    -124.30     41.84                17.0       2677.0           531.0   \n",
       "3    -124.27     40.69                36.0       2349.0           528.0   \n",
       "4    -124.26     40.58                52.0       2217.0           394.0   \n",
       "\n",
       "   population  households  median_income  median_house_value ocean_proximity  \\\n",
       "0       806.0       270.0         3.0147             94600.0      NEAR OCEAN   \n",
       "1      1298.0       478.0         1.9797             85800.0      NEAR OCEAN   \n",
       "2      1244.0       456.0         3.0313            103600.0      NEAR OCEAN   \n",
       "3      1194.0       465.0         2.5179             79000.0      NEAR OCEAN   \n",
       "4       907.0       369.0         2.3571            111400.0      NEAR OCEAN   \n",
       "\n",
       "   ocean_proximity_idx ocean_proximity_idx_ohe  categorical_features  \n",
       "0                  2.0    (0.0, 0.0, 1.0, 0.0)  (0.0, 0.0, 1.0, 0.0)  \n",
       "1                  2.0    (0.0, 0.0, 1.0, 0.0)  (0.0, 0.0, 1.0, 0.0)  \n",
       "2                  2.0    (0.0, 0.0, 1.0, 0.0)  (0.0, 0.0, 1.0, 0.0)  \n",
       "3                  2.0    (0.0, 0.0, 1.0, 0.0)  (0.0, 0.0, 1.0, 0.0)  \n",
       "4                  2.0    (0.0, 0.0, 1.0, 0.0)  (0.0, 0.0, 1.0, 0.0)  "
      ]
     },
     "execution_count": 18,
     "metadata": {},
     "output_type": "execute_result"
    }
   ],
   "source": [
    "train_data.limit(5).toPandas()"
   ]
  },
  {
   "cell_type": "markdown",
   "id": "6e008617",
   "metadata": {},
   "source": [
    "Преобразуем все числовые признаки и затем применим к ним StandardScaler"
   ]
  },
  {
   "cell_type": "code",
   "execution_count": 19,
   "id": "009bbed9",
   "metadata": {},
   "outputs": [],
   "source": [
    "numerical_assembler = VectorAssembler(inputCols=numerical_cols, outputCol=\"numerical_features\")\n",
    "train_data = numerical_assembler.transform(train_data) \n",
    "test_data = numerical_assembler.transform(test_data) "
   ]
  },
  {
   "cell_type": "code",
   "execution_count": 20,
   "id": "9cfc2a58",
   "metadata": {},
   "outputs": [
    {
     "data": {
      "text/html": [
       "<div>\n",
       "<style scoped>\n",
       "    .dataframe tbody tr th:only-of-type {\n",
       "        vertical-align: middle;\n",
       "    }\n",
       "\n",
       "    .dataframe tbody tr th {\n",
       "        vertical-align: top;\n",
       "    }\n",
       "\n",
       "    .dataframe thead th {\n",
       "        text-align: right;\n",
       "    }\n",
       "</style>\n",
       "<table border=\"1\" class=\"dataframe\">\n",
       "  <thead>\n",
       "    <tr style=\"text-align: right;\">\n",
       "      <th></th>\n",
       "      <th>longitude</th>\n",
       "      <th>latitude</th>\n",
       "      <th>housing_median_age</th>\n",
       "      <th>total_rooms</th>\n",
       "      <th>total_bedrooms</th>\n",
       "      <th>population</th>\n",
       "      <th>households</th>\n",
       "      <th>median_income</th>\n",
       "      <th>median_house_value</th>\n",
       "      <th>ocean_proximity</th>\n",
       "      <th>ocean_proximity_idx</th>\n",
       "      <th>ocean_proximity_idx_ohe</th>\n",
       "      <th>categorical_features</th>\n",
       "      <th>numerical_features</th>\n",
       "    </tr>\n",
       "  </thead>\n",
       "  <tbody>\n",
       "    <tr>\n",
       "      <th>0</th>\n",
       "      <td>-124.35</td>\n",
       "      <td>40.54</td>\n",
       "      <td>52.0</td>\n",
       "      <td>1820.0</td>\n",
       "      <td>300.0</td>\n",
       "      <td>806.0</td>\n",
       "      <td>270.0</td>\n",
       "      <td>3.0147</td>\n",
       "      <td>94600.0</td>\n",
       "      <td>NEAR OCEAN</td>\n",
       "      <td>2.0</td>\n",
       "      <td>(0.0, 0.0, 1.0, 0.0)</td>\n",
       "      <td>(0.0, 0.0, 1.0, 0.0)</td>\n",
       "      <td>[-124.35, 40.54, 52.0, 1820.0, 300.0, 806.0, 2...</td>\n",
       "    </tr>\n",
       "    <tr>\n",
       "      <th>1</th>\n",
       "      <td>-124.30</td>\n",
       "      <td>41.80</td>\n",
       "      <td>19.0</td>\n",
       "      <td>2672.0</td>\n",
       "      <td>552.0</td>\n",
       "      <td>1298.0</td>\n",
       "      <td>478.0</td>\n",
       "      <td>1.9797</td>\n",
       "      <td>85800.0</td>\n",
       "      <td>NEAR OCEAN</td>\n",
       "      <td>2.0</td>\n",
       "      <td>(0.0, 0.0, 1.0, 0.0)</td>\n",
       "      <td>(0.0, 0.0, 1.0, 0.0)</td>\n",
       "      <td>[-124.3, 41.8, 19.0, 2672.0, 552.0, 1298.0, 47...</td>\n",
       "    </tr>\n",
       "    <tr>\n",
       "      <th>2</th>\n",
       "      <td>-124.30</td>\n",
       "      <td>41.84</td>\n",
       "      <td>17.0</td>\n",
       "      <td>2677.0</td>\n",
       "      <td>531.0</td>\n",
       "      <td>1244.0</td>\n",
       "      <td>456.0</td>\n",
       "      <td>3.0313</td>\n",
       "      <td>103600.0</td>\n",
       "      <td>NEAR OCEAN</td>\n",
       "      <td>2.0</td>\n",
       "      <td>(0.0, 0.0, 1.0, 0.0)</td>\n",
       "      <td>(0.0, 0.0, 1.0, 0.0)</td>\n",
       "      <td>[-124.3, 41.84, 17.0, 2677.0, 531.0, 1244.0, 4...</td>\n",
       "    </tr>\n",
       "    <tr>\n",
       "      <th>3</th>\n",
       "      <td>-124.27</td>\n",
       "      <td>40.69</td>\n",
       "      <td>36.0</td>\n",
       "      <td>2349.0</td>\n",
       "      <td>528.0</td>\n",
       "      <td>1194.0</td>\n",
       "      <td>465.0</td>\n",
       "      <td>2.5179</td>\n",
       "      <td>79000.0</td>\n",
       "      <td>NEAR OCEAN</td>\n",
       "      <td>2.0</td>\n",
       "      <td>(0.0, 0.0, 1.0, 0.0)</td>\n",
       "      <td>(0.0, 0.0, 1.0, 0.0)</td>\n",
       "      <td>[-124.27, 40.69, 36.0, 2349.0, 528.0, 1194.0, ...</td>\n",
       "    </tr>\n",
       "    <tr>\n",
       "      <th>4</th>\n",
       "      <td>-124.26</td>\n",
       "      <td>40.58</td>\n",
       "      <td>52.0</td>\n",
       "      <td>2217.0</td>\n",
       "      <td>394.0</td>\n",
       "      <td>907.0</td>\n",
       "      <td>369.0</td>\n",
       "      <td>2.3571</td>\n",
       "      <td>111400.0</td>\n",
       "      <td>NEAR OCEAN</td>\n",
       "      <td>2.0</td>\n",
       "      <td>(0.0, 0.0, 1.0, 0.0)</td>\n",
       "      <td>(0.0, 0.0, 1.0, 0.0)</td>\n",
       "      <td>[-124.26, 40.58, 52.0, 2217.0, 394.0, 907.0, 3...</td>\n",
       "    </tr>\n",
       "  </tbody>\n",
       "</table>\n",
       "</div>"
      ],
      "text/plain": [
       "   longitude  latitude  housing_median_age  total_rooms  total_bedrooms  \\\n",
       "0    -124.35     40.54                52.0       1820.0           300.0   \n",
       "1    -124.30     41.80                19.0       2672.0           552.0   \n",
       "2    -124.30     41.84                17.0       2677.0           531.0   \n",
       "3    -124.27     40.69                36.0       2349.0           528.0   \n",
       "4    -124.26     40.58                52.0       2217.0           394.0   \n",
       "\n",
       "   population  households  median_income  median_house_value ocean_proximity  \\\n",
       "0       806.0       270.0         3.0147             94600.0      NEAR OCEAN   \n",
       "1      1298.0       478.0         1.9797             85800.0      NEAR OCEAN   \n",
       "2      1244.0       456.0         3.0313            103600.0      NEAR OCEAN   \n",
       "3      1194.0       465.0         2.5179             79000.0      NEAR OCEAN   \n",
       "4       907.0       369.0         2.3571            111400.0      NEAR OCEAN   \n",
       "\n",
       "   ocean_proximity_idx ocean_proximity_idx_ohe  categorical_features  \\\n",
       "0                  2.0    (0.0, 0.0, 1.0, 0.0)  (0.0, 0.0, 1.0, 0.0)   \n",
       "1                  2.0    (0.0, 0.0, 1.0, 0.0)  (0.0, 0.0, 1.0, 0.0)   \n",
       "2                  2.0    (0.0, 0.0, 1.0, 0.0)  (0.0, 0.0, 1.0, 0.0)   \n",
       "3                  2.0    (0.0, 0.0, 1.0, 0.0)  (0.0, 0.0, 1.0, 0.0)   \n",
       "4                  2.0    (0.0, 0.0, 1.0, 0.0)  (0.0, 0.0, 1.0, 0.0)   \n",
       "\n",
       "                                  numerical_features  \n",
       "0  [-124.35, 40.54, 52.0, 1820.0, 300.0, 806.0, 2...  \n",
       "1  [-124.3, 41.8, 19.0, 2672.0, 552.0, 1298.0, 47...  \n",
       "2  [-124.3, 41.84, 17.0, 2677.0, 531.0, 1244.0, 4...  \n",
       "3  [-124.27, 40.69, 36.0, 2349.0, 528.0, 1194.0, ...  \n",
       "4  [-124.26, 40.58, 52.0, 2217.0, 394.0, 907.0, 3...  "
      ]
     },
     "execution_count": 20,
     "metadata": {},
     "output_type": "execute_result"
    }
   ],
   "source": [
    "train_data.limit(5).toPandas()"
   ]
  },
  {
   "cell_type": "code",
   "execution_count": 21,
   "id": "2c820183",
   "metadata": {},
   "outputs": [],
   "source": [
    "standardScaler = StandardScaler(inputCol='numerical_features', outputCol=\"numerical_features_scaled\")\n",
    "train_data = standardScaler.fit(train_data).transform(train_data) \n",
    "test_data = standardScaler.fit(test_data).transform(test_data) \n"
   ]
  },
  {
   "cell_type": "code",
   "execution_count": 22,
   "id": "521fd0c2",
   "metadata": {},
   "outputs": [
    {
     "data": {
      "text/html": [
       "<div>\n",
       "<style scoped>\n",
       "    .dataframe tbody tr th:only-of-type {\n",
       "        vertical-align: middle;\n",
       "    }\n",
       "\n",
       "    .dataframe tbody tr th {\n",
       "        vertical-align: top;\n",
       "    }\n",
       "\n",
       "    .dataframe thead th {\n",
       "        text-align: right;\n",
       "    }\n",
       "</style>\n",
       "<table border=\"1\" class=\"dataframe\">\n",
       "  <thead>\n",
       "    <tr style=\"text-align: right;\">\n",
       "      <th></th>\n",
       "      <th>longitude</th>\n",
       "      <th>latitude</th>\n",
       "      <th>housing_median_age</th>\n",
       "      <th>total_rooms</th>\n",
       "      <th>total_bedrooms</th>\n",
       "      <th>population</th>\n",
       "      <th>households</th>\n",
       "      <th>median_income</th>\n",
       "      <th>median_house_value</th>\n",
       "      <th>ocean_proximity</th>\n",
       "      <th>ocean_proximity_idx</th>\n",
       "      <th>ocean_proximity_idx_ohe</th>\n",
       "      <th>categorical_features</th>\n",
       "      <th>numerical_features</th>\n",
       "      <th>numerical_features_scaled</th>\n",
       "    </tr>\n",
       "  </thead>\n",
       "  <tbody>\n",
       "    <tr>\n",
       "      <th>0</th>\n",
       "      <td>-124.35</td>\n",
       "      <td>40.54</td>\n",
       "      <td>52.0</td>\n",
       "      <td>1820.0</td>\n",
       "      <td>300.0</td>\n",
       "      <td>806.0</td>\n",
       "      <td>270.0</td>\n",
       "      <td>3.0147</td>\n",
       "      <td>94600.0</td>\n",
       "      <td>NEAR OCEAN</td>\n",
       "      <td>2.0</td>\n",
       "      <td>(0.0, 0.0, 1.0, 0.0)</td>\n",
       "      <td>(0.0, 0.0, 1.0, 0.0)</td>\n",
       "      <td>[-124.35, 40.54, 52.0, 1820.0, 300.0, 806.0, 2...</td>\n",
       "      <td>[-62.00413245156368, 18.933996002402658, 4.129...</td>\n",
       "    </tr>\n",
       "    <tr>\n",
       "      <th>1</th>\n",
       "      <td>-124.30</td>\n",
       "      <td>41.80</td>\n",
       "      <td>19.0</td>\n",
       "      <td>2672.0</td>\n",
       "      <td>552.0</td>\n",
       "      <td>1298.0</td>\n",
       "      <td>478.0</td>\n",
       "      <td>1.9797</td>\n",
       "      <td>85800.0</td>\n",
       "      <td>NEAR OCEAN</td>\n",
       "      <td>2.0</td>\n",
       "      <td>(0.0, 0.0, 1.0, 0.0)</td>\n",
       "      <td>(0.0, 0.0, 1.0, 0.0)</td>\n",
       "      <td>[-124.3, 41.8, 19.0, 2672.0, 552.0, 1298.0, 47...</td>\n",
       "      <td>[-61.97920115584532, 19.522472444509894, 1.508...</td>\n",
       "    </tr>\n",
       "    <tr>\n",
       "      <th>2</th>\n",
       "      <td>-124.30</td>\n",
       "      <td>41.84</td>\n",
       "      <td>17.0</td>\n",
       "      <td>2677.0</td>\n",
       "      <td>531.0</td>\n",
       "      <td>1244.0</td>\n",
       "      <td>456.0</td>\n",
       "      <td>3.0313</td>\n",
       "      <td>103600.0</td>\n",
       "      <td>NEAR OCEAN</td>\n",
       "      <td>2.0</td>\n",
       "      <td>(0.0, 0.0, 1.0, 0.0)</td>\n",
       "      <td>(0.0, 0.0, 1.0, 0.0)</td>\n",
       "      <td>[-124.3, 41.84, 17.0, 2677.0, 531.0, 1244.0, 4...</td>\n",
       "      <td>[-61.97920115584532, 19.541154236322825, 1.350...</td>\n",
       "    </tr>\n",
       "    <tr>\n",
       "      <th>3</th>\n",
       "      <td>-124.27</td>\n",
       "      <td>40.69</td>\n",
       "      <td>36.0</td>\n",
       "      <td>2349.0</td>\n",
       "      <td>528.0</td>\n",
       "      <td>1194.0</td>\n",
       "      <td>465.0</td>\n",
       "      <td>2.5179</td>\n",
       "      <td>79000.0</td>\n",
       "      <td>NEAR OCEAN</td>\n",
       "      <td>2.0</td>\n",
       "      <td>(0.0, 0.0, 1.0, 0.0)</td>\n",
       "      <td>(0.0, 0.0, 1.0, 0.0)</td>\n",
       "      <td>[-124.27, 40.69, 36.0, 2349.0, 528.0, 1194.0, ...</td>\n",
       "      <td>[-61.9642423784143, 19.00405272170114, 2.85903...</td>\n",
       "    </tr>\n",
       "    <tr>\n",
       "      <th>4</th>\n",
       "      <td>-124.26</td>\n",
       "      <td>40.58</td>\n",
       "      <td>52.0</td>\n",
       "      <td>2217.0</td>\n",
       "      <td>394.0</td>\n",
       "      <td>907.0</td>\n",
       "      <td>369.0</td>\n",
       "      <td>2.3571</td>\n",
       "      <td>111400.0</td>\n",
       "      <td>NEAR OCEAN</td>\n",
       "      <td>2.0</td>\n",
       "      <td>(0.0, 0.0, 1.0, 0.0)</td>\n",
       "      <td>(0.0, 0.0, 1.0, 0.0)</td>\n",
       "      <td>[-124.26, 40.58, 52.0, 2217.0, 394.0, 907.0, 3...</td>\n",
       "      <td>[-61.959256119270634, 18.95267779421559, 4.129...</td>\n",
       "    </tr>\n",
       "  </tbody>\n",
       "</table>\n",
       "</div>"
      ],
      "text/plain": [
       "   longitude  latitude  housing_median_age  total_rooms  total_bedrooms  \\\n",
       "0    -124.35     40.54                52.0       1820.0           300.0   \n",
       "1    -124.30     41.80                19.0       2672.0           552.0   \n",
       "2    -124.30     41.84                17.0       2677.0           531.0   \n",
       "3    -124.27     40.69                36.0       2349.0           528.0   \n",
       "4    -124.26     40.58                52.0       2217.0           394.0   \n",
       "\n",
       "   population  households  median_income  median_house_value ocean_proximity  \\\n",
       "0       806.0       270.0         3.0147             94600.0      NEAR OCEAN   \n",
       "1      1298.0       478.0         1.9797             85800.0      NEAR OCEAN   \n",
       "2      1244.0       456.0         3.0313            103600.0      NEAR OCEAN   \n",
       "3      1194.0       465.0         2.5179             79000.0      NEAR OCEAN   \n",
       "4       907.0       369.0         2.3571            111400.0      NEAR OCEAN   \n",
       "\n",
       "   ocean_proximity_idx ocean_proximity_idx_ohe  categorical_features  \\\n",
       "0                  2.0    (0.0, 0.0, 1.0, 0.0)  (0.0, 0.0, 1.0, 0.0)   \n",
       "1                  2.0    (0.0, 0.0, 1.0, 0.0)  (0.0, 0.0, 1.0, 0.0)   \n",
       "2                  2.0    (0.0, 0.0, 1.0, 0.0)  (0.0, 0.0, 1.0, 0.0)   \n",
       "3                  2.0    (0.0, 0.0, 1.0, 0.0)  (0.0, 0.0, 1.0, 0.0)   \n",
       "4                  2.0    (0.0, 0.0, 1.0, 0.0)  (0.0, 0.0, 1.0, 0.0)   \n",
       "\n",
       "                                  numerical_features  \\\n",
       "0  [-124.35, 40.54, 52.0, 1820.0, 300.0, 806.0, 2...   \n",
       "1  [-124.3, 41.8, 19.0, 2672.0, 552.0, 1298.0, 47...   \n",
       "2  [-124.3, 41.84, 17.0, 2677.0, 531.0, 1244.0, 4...   \n",
       "3  [-124.27, 40.69, 36.0, 2349.0, 528.0, 1194.0, ...   \n",
       "4  [-124.26, 40.58, 52.0, 2217.0, 394.0, 907.0, 3...   \n",
       "\n",
       "                           numerical_features_scaled  \n",
       "0  [-62.00413245156368, 18.933996002402658, 4.129...  \n",
       "1  [-61.97920115584532, 19.522472444509894, 1.508...  \n",
       "2  [-61.97920115584532, 19.541154236322825, 1.350...  \n",
       "3  [-61.9642423784143, 19.00405272170114, 2.85903...  \n",
       "4  [-61.959256119270634, 18.95267779421559, 4.129...  "
      ]
     },
     "execution_count": 22,
     "metadata": {},
     "output_type": "execute_result"
    }
   ],
   "source": [
    "train_data.limit(5).toPandas()"
   ]
  },
  {
   "cell_type": "code",
   "execution_count": 23,
   "id": "4539b8f1",
   "metadata": {
    "scrolled": false
   },
   "outputs": [
    {
     "data": {
      "text/plain": [
       "['longitude',\n",
       " 'latitude',\n",
       " 'housing_median_age',\n",
       " 'total_rooms',\n",
       " 'total_bedrooms',\n",
       " 'population',\n",
       " 'households',\n",
       " 'median_income',\n",
       " 'median_house_value',\n",
       " 'ocean_proximity',\n",
       " 'ocean_proximity_idx',\n",
       " 'ocean_proximity_idx_ohe',\n",
       " 'categorical_features',\n",
       " 'numerical_features',\n",
       " 'numerical_features_scaled']"
      ]
     },
     "execution_count": 23,
     "metadata": {},
     "output_type": "execute_result"
    }
   ],
   "source": [
    "train_data.columns"
   ]
  },
  {
   "cell_type": "markdown",
   "id": "48aea507",
   "metadata": {},
   "source": [
    "Оставим одну колонку признаков (включены и числовые и категориальные признаки)"
   ]
  },
  {
   "cell_type": "code",
   "execution_count": 24,
   "id": "1d95ca18",
   "metadata": {},
   "outputs": [],
   "source": [
    "all_features = ['numerical_features', 'categorical_features']\n",
    "\n",
    "final_assembler = VectorAssembler(inputCols=all_features, \n",
    "                                  outputCol=\"features\") \n",
    "train_data = final_assembler.transform(train_data)\n",
    "test_data = final_assembler.transform(test_data)\n",
    "\n"
   ]
  },
  {
   "cell_type": "markdown",
   "id": "3a084382",
   "metadata": {},
   "source": [
    "Тут используем только числовые признаки"
   ]
  },
  {
   "cell_type": "code",
   "execution_count": 25,
   "id": "adbade09",
   "metadata": {},
   "outputs": [],
   "source": [
    "final_assembler_num = VectorAssembler(inputCols=['numerical_features'], \n",
    "                                  outputCol=\"num_features\") \n",
    "train_data_num = final_assembler_num.transform(train_data)\n",
    "test_data_num = final_assembler_num.transform(test_data)"
   ]
  },
  {
   "cell_type": "code",
   "execution_count": 26,
   "id": "c4d07c98",
   "metadata": {
    "scrolled": true
   },
   "outputs": [
    {
     "name": "stdout",
     "output_type": "stream",
     "text": [
      "+--------------------+--------------------+\n",
      "|  numerical_features|categorical_features|\n",
      "+--------------------+--------------------+\n",
      "|[-124.35,40.54,52...|       (4,[2],[1.0])|\n",
      "|[-124.3,41.8,19.0...|       (4,[2],[1.0])|\n",
      "|[-124.3,41.84,17....|       (4,[2],[1.0])|\n",
      "|[-124.27,40.69,36...|       (4,[2],[1.0])|\n",
      "+--------------------+--------------------+\n",
      "only showing top 4 rows\n",
      "\n"
     ]
    }
   ],
   "source": [
    "train_data.select(all_features).show(4)"
   ]
  },
  {
   "cell_type": "code",
   "execution_count": 27,
   "id": "5c5515c1",
   "metadata": {},
   "outputs": [
    {
     "name": "stdout",
     "output_type": "stream",
     "text": [
      "+--------------------+\n",
      "|  numerical_features|\n",
      "+--------------------+\n",
      "|[-124.35,40.54,52...|\n",
      "|[-124.3,41.8,19.0...|\n",
      "|[-124.3,41.84,17....|\n",
      "|[-124.27,40.69,36...|\n",
      "+--------------------+\n",
      "only showing top 4 rows\n",
      "\n"
     ]
    }
   ],
   "source": [
    "train_data_num.select('numerical_features').show(4)"
   ]
  },
  {
   "cell_type": "code",
   "execution_count": 28,
   "id": "9d4a4efc",
   "metadata": {},
   "outputs": [
    {
     "data": {
      "text/html": [
       "<div>\n",
       "<style scoped>\n",
       "    .dataframe tbody tr th:only-of-type {\n",
       "        vertical-align: middle;\n",
       "    }\n",
       "\n",
       "    .dataframe tbody tr th {\n",
       "        vertical-align: top;\n",
       "    }\n",
       "\n",
       "    .dataframe thead th {\n",
       "        text-align: right;\n",
       "    }\n",
       "</style>\n",
       "<table border=\"1\" class=\"dataframe\">\n",
       "  <thead>\n",
       "    <tr style=\"text-align: right;\">\n",
       "      <th></th>\n",
       "      <th>longitude</th>\n",
       "      <th>latitude</th>\n",
       "      <th>housing_median_age</th>\n",
       "      <th>total_rooms</th>\n",
       "      <th>total_bedrooms</th>\n",
       "      <th>population</th>\n",
       "      <th>households</th>\n",
       "      <th>median_income</th>\n",
       "      <th>median_house_value</th>\n",
       "      <th>ocean_proximity</th>\n",
       "      <th>ocean_proximity_idx</th>\n",
       "      <th>ocean_proximity_idx_ohe</th>\n",
       "      <th>categorical_features</th>\n",
       "      <th>numerical_features</th>\n",
       "      <th>numerical_features_scaled</th>\n",
       "      <th>features</th>\n",
       "    </tr>\n",
       "  </thead>\n",
       "  <tbody>\n",
       "    <tr>\n",
       "      <th>0</th>\n",
       "      <td>-124.35</td>\n",
       "      <td>40.54</td>\n",
       "      <td>52.0</td>\n",
       "      <td>1820.0</td>\n",
       "      <td>300.0</td>\n",
       "      <td>806.0</td>\n",
       "      <td>270.0</td>\n",
       "      <td>3.0147</td>\n",
       "      <td>94600.0</td>\n",
       "      <td>NEAR OCEAN</td>\n",
       "      <td>2.0</td>\n",
       "      <td>(0.0, 0.0, 1.0, 0.0)</td>\n",
       "      <td>(0.0, 0.0, 1.0, 0.0)</td>\n",
       "      <td>[-124.35, 40.54, 52.0, 1820.0, 300.0, 806.0, 2...</td>\n",
       "      <td>[-62.00413245156368, 18.933996002402658, 4.129...</td>\n",
       "      <td>[-124.35, 40.54, 52.0, 1820.0, 300.0, 806.0, 2...</td>\n",
       "    </tr>\n",
       "    <tr>\n",
       "      <th>1</th>\n",
       "      <td>-124.30</td>\n",
       "      <td>41.80</td>\n",
       "      <td>19.0</td>\n",
       "      <td>2672.0</td>\n",
       "      <td>552.0</td>\n",
       "      <td>1298.0</td>\n",
       "      <td>478.0</td>\n",
       "      <td>1.9797</td>\n",
       "      <td>85800.0</td>\n",
       "      <td>NEAR OCEAN</td>\n",
       "      <td>2.0</td>\n",
       "      <td>(0.0, 0.0, 1.0, 0.0)</td>\n",
       "      <td>(0.0, 0.0, 1.0, 0.0)</td>\n",
       "      <td>[-124.3, 41.8, 19.0, 2672.0, 552.0, 1298.0, 47...</td>\n",
       "      <td>[-61.97920115584532, 19.522472444509894, 1.508...</td>\n",
       "      <td>[-124.3, 41.8, 19.0, 2672.0, 552.0, 1298.0, 47...</td>\n",
       "    </tr>\n",
       "    <tr>\n",
       "      <th>2</th>\n",
       "      <td>-124.30</td>\n",
       "      <td>41.84</td>\n",
       "      <td>17.0</td>\n",
       "      <td>2677.0</td>\n",
       "      <td>531.0</td>\n",
       "      <td>1244.0</td>\n",
       "      <td>456.0</td>\n",
       "      <td>3.0313</td>\n",
       "      <td>103600.0</td>\n",
       "      <td>NEAR OCEAN</td>\n",
       "      <td>2.0</td>\n",
       "      <td>(0.0, 0.0, 1.0, 0.0)</td>\n",
       "      <td>(0.0, 0.0, 1.0, 0.0)</td>\n",
       "      <td>[-124.3, 41.84, 17.0, 2677.0, 531.0, 1244.0, 4...</td>\n",
       "      <td>[-61.97920115584532, 19.541154236322825, 1.350...</td>\n",
       "      <td>[-124.3, 41.84, 17.0, 2677.0, 531.0, 1244.0, 4...</td>\n",
       "    </tr>\n",
       "    <tr>\n",
       "      <th>3</th>\n",
       "      <td>-124.27</td>\n",
       "      <td>40.69</td>\n",
       "      <td>36.0</td>\n",
       "      <td>2349.0</td>\n",
       "      <td>528.0</td>\n",
       "      <td>1194.0</td>\n",
       "      <td>465.0</td>\n",
       "      <td>2.5179</td>\n",
       "      <td>79000.0</td>\n",
       "      <td>NEAR OCEAN</td>\n",
       "      <td>2.0</td>\n",
       "      <td>(0.0, 0.0, 1.0, 0.0)</td>\n",
       "      <td>(0.0, 0.0, 1.0, 0.0)</td>\n",
       "      <td>[-124.27, 40.69, 36.0, 2349.0, 528.0, 1194.0, ...</td>\n",
       "      <td>[-61.9642423784143, 19.00405272170114, 2.85903...</td>\n",
       "      <td>[-124.27, 40.69, 36.0, 2349.0, 528.0, 1194.0, ...</td>\n",
       "    </tr>\n",
       "    <tr>\n",
       "      <th>4</th>\n",
       "      <td>-124.26</td>\n",
       "      <td>40.58</td>\n",
       "      <td>52.0</td>\n",
       "      <td>2217.0</td>\n",
       "      <td>394.0</td>\n",
       "      <td>907.0</td>\n",
       "      <td>369.0</td>\n",
       "      <td>2.3571</td>\n",
       "      <td>111400.0</td>\n",
       "      <td>NEAR OCEAN</td>\n",
       "      <td>2.0</td>\n",
       "      <td>(0.0, 0.0, 1.0, 0.0)</td>\n",
       "      <td>(0.0, 0.0, 1.0, 0.0)</td>\n",
       "      <td>[-124.26, 40.58, 52.0, 2217.0, 394.0, 907.0, 3...</td>\n",
       "      <td>[-61.959256119270634, 18.95267779421559, 4.129...</td>\n",
       "      <td>[-124.26, 40.58, 52.0, 2217.0, 394.0, 907.0, 3...</td>\n",
       "    </tr>\n",
       "  </tbody>\n",
       "</table>\n",
       "</div>"
      ],
      "text/plain": [
       "   longitude  latitude  housing_median_age  total_rooms  total_bedrooms  \\\n",
       "0    -124.35     40.54                52.0       1820.0           300.0   \n",
       "1    -124.30     41.80                19.0       2672.0           552.0   \n",
       "2    -124.30     41.84                17.0       2677.0           531.0   \n",
       "3    -124.27     40.69                36.0       2349.0           528.0   \n",
       "4    -124.26     40.58                52.0       2217.0           394.0   \n",
       "\n",
       "   population  households  median_income  median_house_value ocean_proximity  \\\n",
       "0       806.0       270.0         3.0147             94600.0      NEAR OCEAN   \n",
       "1      1298.0       478.0         1.9797             85800.0      NEAR OCEAN   \n",
       "2      1244.0       456.0         3.0313            103600.0      NEAR OCEAN   \n",
       "3      1194.0       465.0         2.5179             79000.0      NEAR OCEAN   \n",
       "4       907.0       369.0         2.3571            111400.0      NEAR OCEAN   \n",
       "\n",
       "   ocean_proximity_idx ocean_proximity_idx_ohe  categorical_features  \\\n",
       "0                  2.0    (0.0, 0.0, 1.0, 0.0)  (0.0, 0.0, 1.0, 0.0)   \n",
       "1                  2.0    (0.0, 0.0, 1.0, 0.0)  (0.0, 0.0, 1.0, 0.0)   \n",
       "2                  2.0    (0.0, 0.0, 1.0, 0.0)  (0.0, 0.0, 1.0, 0.0)   \n",
       "3                  2.0    (0.0, 0.0, 1.0, 0.0)  (0.0, 0.0, 1.0, 0.0)   \n",
       "4                  2.0    (0.0, 0.0, 1.0, 0.0)  (0.0, 0.0, 1.0, 0.0)   \n",
       "\n",
       "                                  numerical_features  \\\n",
       "0  [-124.35, 40.54, 52.0, 1820.0, 300.0, 806.0, 2...   \n",
       "1  [-124.3, 41.8, 19.0, 2672.0, 552.0, 1298.0, 47...   \n",
       "2  [-124.3, 41.84, 17.0, 2677.0, 531.0, 1244.0, 4...   \n",
       "3  [-124.27, 40.69, 36.0, 2349.0, 528.0, 1194.0, ...   \n",
       "4  [-124.26, 40.58, 52.0, 2217.0, 394.0, 907.0, 3...   \n",
       "\n",
       "                           numerical_features_scaled  \\\n",
       "0  [-62.00413245156368, 18.933996002402658, 4.129...   \n",
       "1  [-61.97920115584532, 19.522472444509894, 1.508...   \n",
       "2  [-61.97920115584532, 19.541154236322825, 1.350...   \n",
       "3  [-61.9642423784143, 19.00405272170114, 2.85903...   \n",
       "4  [-61.959256119270634, 18.95267779421559, 4.129...   \n",
       "\n",
       "                                            features  \n",
       "0  [-124.35, 40.54, 52.0, 1820.0, 300.0, 806.0, 2...  \n",
       "1  [-124.3, 41.8, 19.0, 2672.0, 552.0, 1298.0, 47...  \n",
       "2  [-124.3, 41.84, 17.0, 2677.0, 531.0, 1244.0, 4...  \n",
       "3  [-124.27, 40.69, 36.0, 2349.0, 528.0, 1194.0, ...  \n",
       "4  [-124.26, 40.58, 52.0, 2217.0, 394.0, 907.0, 3...  "
      ]
     },
     "execution_count": 28,
     "metadata": {},
     "output_type": "execute_result"
    }
   ],
   "source": [
    "train_data.limit(5).toPandas()"
   ]
  },
  {
   "cell_type": "markdown",
   "id": "9f0a82f3",
   "metadata": {
    "id": "9f0a82f3"
   },
   "source": [
    "# Обучение моделей"
   ]
  },
  {
   "cell_type": "code",
   "execution_count": 29,
   "id": "59e30dc8",
   "metadata": {},
   "outputs": [],
   "source": [
    "features = train_data.select(['features', 'median_house_value'])\n",
    "num_features = train_data_num.select(['features', 'median_house_value'])"
   ]
  },
  {
   "cell_type": "code",
   "execution_count": 30,
   "id": "3f918f54",
   "metadata": {},
   "outputs": [
    {
     "name": "stdout",
     "output_type": "stream",
     "text": [
      "+---------------------------------------------------------------------+------------------+\n",
      "|                                                             features|median_house_value|\n",
      "+---------------------------------------------------------------------+------------------+\n",
      "| [-124.35,40.54,52.0,1820.0,300.0,806.0,270.0,3.0147,0.0,0.0,1.0,0.0]|           94600.0|\n",
      "|  [-124.3,41.8,19.0,2672.0,552.0,1298.0,478.0,1.9797,0.0,0.0,1.0,0.0]|           85800.0|\n",
      "| [-124.3,41.84,17.0,2677.0,531.0,1244.0,456.0,3.0313,0.0,0.0,1.0,0.0]|          103600.0|\n",
      "|[-124.27,40.69,36.0,2349.0,528.0,1194.0,465.0,2.5179,0.0,0.0,1.0,0.0]|           79000.0|\n",
      "| [-124.26,40.58,52.0,2217.0,394.0,907.0,369.0,2.3571,0.0,0.0,1.0,0.0]|          111400.0|\n",
      "+---------------------------------------------------------------------+------------------+\n",
      "only showing top 5 rows\n",
      "\n"
     ]
    }
   ],
   "source": [
    "features.show(5, truncate=100)"
   ]
  },
  {
   "cell_type": "code",
   "execution_count": 31,
   "id": "315428fc",
   "metadata": {},
   "outputs": [
    {
     "name": "stdout",
     "output_type": "stream",
     "text": [
      "+---------------------------------------------------------------------+------------------+\n",
      "|                                                             features|median_house_value|\n",
      "+---------------------------------------------------------------------+------------------+\n",
      "| [-124.35,40.54,52.0,1820.0,300.0,806.0,270.0,3.0147,0.0,0.0,1.0,0.0]|           94600.0|\n",
      "|  [-124.3,41.8,19.0,2672.0,552.0,1298.0,478.0,1.9797,0.0,0.0,1.0,0.0]|           85800.0|\n",
      "| [-124.3,41.84,17.0,2677.0,531.0,1244.0,456.0,3.0313,0.0,0.0,1.0,0.0]|          103600.0|\n",
      "|[-124.27,40.69,36.0,2349.0,528.0,1194.0,465.0,2.5179,0.0,0.0,1.0,0.0]|           79000.0|\n",
      "| [-124.26,40.58,52.0,2217.0,394.0,907.0,369.0,2.3571,0.0,0.0,1.0,0.0]|          111400.0|\n",
      "+---------------------------------------------------------------------+------------------+\n",
      "only showing top 5 rows\n",
      "\n"
     ]
    }
   ],
   "source": [
    "num_features.show(5, truncate=100)"
   ]
  },
  {
   "cell_type": "markdown",
   "id": "1946d3e5",
   "metadata": {},
   "source": [
    "Обучим 2 модели- одну на всех признаках, вторую без категориальных"
   ]
  },
  {
   "cell_type": "code",
   "execution_count": 32,
   "id": "18522d85",
   "metadata": {
    "scrolled": false
   },
   "outputs": [
    {
     "name": "stderr",
     "output_type": "stream",
     "text": [
      "24/02/19 14:11:31 WARN Instrumentation: [1a753b5e] regParam is zero, which might cause numerical instability and overfitting.\n",
      "24/02/19 14:11:32 WARN BLAS: Failed to load implementation from: com.github.fommil.netlib.NativeSystemBLAS\n",
      "24/02/19 14:11:32 WARN BLAS: Failed to load implementation from: com.github.fommil.netlib.NativeRefBLAS\n",
      "24/02/19 14:11:32 WARN LAPACK: Failed to load implementation from: com.github.fommil.netlib.NativeSystemLAPACK\n",
      "24/02/19 14:11:32 WARN LAPACK: Failed to load implementation from: com.github.fommil.netlib.NativeRefLAPACK\n",
      "                                                                                \r"
     ]
    }
   ],
   "source": [
    "lr = LinearRegression(labelCol='median_house_value', featuresCol='features')\n",
    "\n",
    "model = lr.fit(train_data) "
   ]
  },
  {
   "cell_type": "code",
   "execution_count": 33,
   "id": "d19bce36",
   "metadata": {},
   "outputs": [
    {
     "name": "stderr",
     "output_type": "stream",
     "text": [
      "24/02/19 14:11:34 WARN Instrumentation: [eff4daab] regParam is zero, which might cause numerical instability and overfitting.\n"
     ]
    }
   ],
   "source": [
    "lr_num = LinearRegression(labelCol='median_house_value', featuresCol='num_features')\n",
    "\n",
    "model_num = lr_num.fit(train_data_num) "
   ]
  },
  {
   "cell_type": "markdown",
   "id": "dc0099e2",
   "metadata": {},
   "source": [
    "Выведем предсказания моделей"
   ]
  },
  {
   "cell_type": "code",
   "execution_count": 34,
   "id": "b5fd612d",
   "metadata": {
    "scrolled": false
   },
   "outputs": [
    {
     "name": "stdout",
     "output_type": "stream",
     "text": [
      "+------------------+------------------+\n",
      "|median_house_value|        prediction|\n",
      "+------------------+------------------+\n",
      "|          106700.0|216087.60925776418|\n",
      "|          128900.0|206922.95425788546|\n",
      "|          116100.0|233227.54237230122|\n",
      "|           70500.0| 162780.8485760684|\n",
      "|           85600.0|187478.17195710773|\n",
      "|           75500.0|137446.33413939644|\n",
      "|           79600.0| 160086.7610943555|\n",
      "|           92800.0|208629.36113462178|\n",
      "|           97300.0| 167099.6187994955|\n",
      "|           82100.0|158695.64149460103|\n",
      "|          126900.0|157473.01958837314|\n",
      "|          119400.0| 166826.4396998654|\n",
      "|           71300.0|168546.74359048577|\n",
      "|           75600.0|148638.00878931116|\n",
      "|           98800.0|184655.81815120578|\n",
      "|           92600.0|150614.00529157603|\n",
      "|          152700.0|141229.11361282645|\n",
      "|          150000.0|156772.47377330298|\n",
      "|           74000.0|158070.49044044083|\n",
      "|           82400.0|163099.63733509835|\n",
      "+------------------+------------------+\n",
      "only showing top 20 rows\n",
      "\n",
      "+------------------+------------------+\n",
      "|median_house_value|        prediction|\n",
      "+------------------+------------------+\n",
      "|          106700.0| 189372.1163759278|\n",
      "|          128900.0|174080.33004972572|\n",
      "|          116100.0|200411.00447695656|\n",
      "|           70500.0|130167.16411242168|\n",
      "|           85600.0|155100.67758532334|\n",
      "|           75500.0| 99516.82517554658|\n",
      "|           79600.0|130043.44822186325|\n",
      "|           92800.0|175676.50301523693|\n",
      "|           97300.0| 141273.7681554933|\n",
      "|           82100.0| 122322.9404502851|\n",
      "|          126900.0|119432.82170344936|\n",
      "|          119400.0|126762.15023752069|\n",
      "|           71300.0|144535.31017124746|\n",
      "|           75600.0| 116542.2280801963|\n",
      "|           98800.0| 154410.6573250359|\n",
      "|           92600.0|122811.23170116683|\n",
      "|          152700.0| 93636.09296235442|\n",
      "|          150000.0|146326.72035050672|\n",
      "|           74000.0|133469.08946447168|\n",
      "|           82400.0| 140833.1117564058|\n",
      "+------------------+------------------+\n",
      "only showing top 20 rows\n",
      "\n"
     ]
    }
   ],
   "source": [
    "predictions = model.transform(test_data)\n",
    "predictions_num =  model_num.transform(test_data_num)\n",
    "\n",
    "predictedLabes= predictions.select(\"median_house_value\", \"prediction\")\n",
    "predictedLabes_num = predictions_num.select(\"median_house_value\", \"prediction\")\n",
    "predictedLabes.show() \n",
    "predictedLabes_num.show()"
   ]
  },
  {
   "cell_type": "markdown",
   "id": "ec982dfa",
   "metadata": {},
   "source": [
    "Проверю метрики: MAE, RMSE, R2"
   ]
  },
  {
   "cell_type": "code",
   "execution_count": 35,
   "id": "2a75ec5a",
   "metadata": {
    "scrolled": true
   },
   "outputs": [
    {
     "name": "stderr",
     "output_type": "stream",
     "text": [
      "                                                                                \r"
     ]
    },
    {
     "name": "stdout",
     "output_type": "stream",
     "text": [
      "MAE score:  49090.7514192648\n",
      "RMSE score:  67712.601490065\n",
      "R2 score:  0.6588164615851325\n"
     ]
    }
   ],
   "source": [
    "results = predictions.select(['prediction', 'median_house_value'])\n",
    " \n",
    "results_collect = results.collect()\n",
    "results_list = [ (float(i[0]), float(i[1])) for i in results_collect]\n",
    "scoreAndLabels = spark.sparkContext.parallelize(results_list)\n",
    " \n",
    "metrics = RegressionMetrics(scoreAndLabels)\n",
    "print(\"MAE score: \", metrics.meanAbsoluteError) \n",
    "print(\"RMSE score: \", metrics.rootMeanSquaredError) \n",
    "print(\"R2 score: \", metrics.r2) "
   ]
  },
  {
   "cell_type": "markdown",
   "id": "129b757a",
   "metadata": {},
   "source": [
    "Результаты с заполнением пропусков медианой\n",
    "\n",
    "MAE score:  49828.73915337292\n",
    "\n",
    "RMSE score:  68709.32557762177\n",
    "\n",
    "R2 score:  0.6454530166046596"
   ]
  },
  {
   "cell_type": "code",
   "execution_count": 36,
   "id": "10bd8009",
   "metadata": {
    "scrolled": true
   },
   "outputs": [
    {
     "name": "stdout",
     "output_type": "stream",
     "text": [
      "MAE score:  50295.51413988937\n",
      "RMSE score:  68812.8941205236\n",
      "R2 score:  0.6476382832035474\n"
     ]
    }
   ],
   "source": [
    "results_num = predictions_num.select(['prediction', 'median_house_value'])\n",
    " \n",
    "results_num_collect = results_num.collect()\n",
    "results_num_list = [ (float(i[0]), float(i[1])) for i in results_num_collect]\n",
    "scoreAndLabelsNum = spark.sparkContext.parallelize(results_num_list)\n",
    " \n",
    "metrics_num = RegressionMetrics(scoreAndLabelsNum)\n",
    "print(\"MAE score: \", metrics_num.meanAbsoluteError) \n",
    "print(\"RMSE score: \", metrics_num.rootMeanSquaredError) \n",
    "print(\"R2 score: \", metrics_num.r2)"
   ]
  },
  {
   "cell_type": "markdown",
   "id": "d0d3fc36",
   "metadata": {},
   "source": [
    "Результаты с заполнением пропусков медианой\n",
    "\n",
    "MAE score:  50922.857653104635\n",
    "\n",
    "RMSE score:  69658.1903557703\n",
    "\n",
    "R2 score:  0.6355929262797926\n"
   ]
  },
  {
   "cell_type": "code",
   "execution_count": 37,
   "id": "b9e2254e",
   "metadata": {},
   "outputs": [],
   "source": [
    "spark.stop()"
   ]
  },
  {
   "cell_type": "markdown",
   "id": "757fd103",
   "metadata": {
    "id": "757fd103"
   },
   "source": [
    "# Анализ результатов"
   ]
  },
  {
   "cell_type": "markdown",
   "id": "f50b53d2",
   "metadata": {},
   "source": [
    "На входе был получен датасет с данными о жилье в Калифорнии. Датасет небольшой-порядка 20 тыс срок.\n",
    "Цель- обучить модель, которая предсказывает стоимость жилья и проверить качество модели метриками MAE, RMSE, R2\n",
    "\n",
    "В ходе изучения данных было выявлено, что предобработка практически не требуется- заполнили только 1% пропусков в признаке total_bedrooms средним по колонке (пробовал медианой, результат был практически идентичный, но со средним чуть, но лучше).\n",
    "\n",
    "Произвел транформацию категориального признака с помощью OHE, и числовых с помощью StandartScaler\n",
    "\n",
    "При обучении были получены результаты:\n",
    "\n",
    "С использованием всех признаков:\n",
    "\n",
    "MAE score:  49090.75  \n",
    "RMSE score:  67712.60  \n",
    "R2 score:  0.6588  \n",
    "\n",
    "Без использования категориального признака:                                                                    \n",
    "\n",
    "MAE score:  50295.51  \n",
    "RMSE score:  68812.89  \n",
    "R2 score:  0.6476  \n",
    "\n",
    "\n",
    "То есть окончальный вывод: при использовании всех данных и заполнении пропусков средним модель показала лучший результат"
   ]
  }
 ],
 "metadata": {
  "ExecuteTimeLog": [
   {
    "duration": 22549,
    "start_time": "2024-01-06T10:35:07.634Z"
   },
   {
    "duration": 4024,
    "start_time": "2024-01-06T10:35:53.055Z"
   },
   {
    "duration": 1225,
    "start_time": "2024-01-06T10:36:10.065Z"
   },
   {
    "duration": 679,
    "start_time": "2024-01-06T10:36:44.630Z"
   },
   {
    "duration": 320,
    "start_time": "2024-01-06T10:37:08.848Z"
   },
   {
    "duration": 71,
    "start_time": "2024-01-06T10:43:04.118Z"
   },
   {
    "duration": 8,
    "start_time": "2024-01-06T10:43:07.103Z"
   },
   {
    "duration": 382,
    "start_time": "2024-01-06T10:43:15.940Z"
   },
   {
    "duration": 374,
    "start_time": "2024-01-06T10:43:26.831Z"
   },
   {
    "duration": 1147,
    "start_time": "2024-01-06T10:43:33.548Z"
   },
   {
    "duration": 390,
    "start_time": "2024-01-06T10:43:40.894Z"
   },
   {
    "duration": 22969,
    "start_time": "2024-01-06T18:01:38.604Z"
   },
   {
    "duration": 3990,
    "start_time": "2024-01-06T18:02:01.576Z"
   },
   {
    "duration": 1037,
    "start_time": "2024-01-06T18:02:05.568Z"
   },
   {
    "duration": 661,
    "start_time": "2024-01-06T18:02:06.607Z"
   },
   {
    "duration": 1529,
    "start_time": "2024-01-06T18:02:32.295Z"
   },
   {
    "duration": 8,
    "start_time": "2024-01-06T18:02:42.631Z"
   },
   {
    "duration": 580,
    "start_time": "2024-01-06T18:02:49.911Z"
   },
   {
    "duration": 7,
    "start_time": "2024-01-06T18:04:35.068Z"
   },
   {
    "duration": 8,
    "start_time": "2024-01-06T18:05:15.659Z"
   },
   {
    "duration": 6,
    "start_time": "2024-01-06T18:05:18.244Z"
   },
   {
    "duration": 4,
    "start_time": "2024-01-06T18:05:21.638Z"
   },
   {
    "duration": 8,
    "start_time": "2024-01-06T18:05:31.957Z"
   },
   {
    "duration": 4,
    "start_time": "2024-01-06T18:05:35.816Z"
   },
   {
    "duration": 9,
    "start_time": "2024-01-06T18:07:02.369Z"
   },
   {
    "duration": 3,
    "start_time": "2024-01-06T18:07:20.567Z"
   },
   {
    "duration": 26497,
    "start_time": "2024-01-07T07:40:46.793Z"
   },
   {
    "duration": 1599,
    "start_time": "2024-01-07T07:41:13.350Z"
   },
   {
    "duration": 941,
    "start_time": "2024-01-07T07:41:14.960Z"
   },
   {
    "duration": 47,
    "start_time": "2024-01-07T07:41:15.902Z"
   },
   {
    "duration": 819,
    "start_time": "2024-01-07T07:41:15.950Z"
   },
   {
    "duration": 14,
    "start_time": "2024-01-07T07:41:34.862Z"
   },
   {
    "duration": 839,
    "start_time": "2024-01-07T07:42:01.815Z"
   },
   {
    "duration": 651,
    "start_time": "2024-01-07T07:42:13.105Z"
   },
   {
    "duration": 13,
    "start_time": "2024-01-07T07:42:14.949Z"
   },
   {
    "duration": 39,
    "start_time": "2024-01-07T08:59:35.135Z"
   },
   {
    "duration": 933,
    "start_time": "2024-01-07T08:59:48.666Z"
   },
   {
    "duration": 19,
    "start_time": "2024-01-07T09:12:32.875Z"
   },
   {
    "duration": 348,
    "start_time": "2024-01-07T09:12:39.917Z"
   },
   {
    "duration": 496,
    "start_time": "2024-01-07T09:13:13.473Z"
   },
   {
    "duration": 3,
    "start_time": "2024-01-07T09:13:16.790Z"
   },
   {
    "duration": 186,
    "start_time": "2024-01-07T09:13:16.794Z"
   },
   {
    "duration": 825,
    "start_time": "2024-01-07T09:13:17.060Z"
   },
   {
    "duration": 484,
    "start_time": "2024-01-07T09:13:17.887Z"
   },
   {
    "duration": 324,
    "start_time": "2024-01-07T09:13:22.051Z"
   },
   {
    "duration": 11,
    "start_time": "2024-01-07T09:13:32.622Z"
   },
   {
    "duration": 481,
    "start_time": "2024-01-07T09:13:33.093Z"
   },
   {
    "duration": 4,
    "start_time": "2024-01-07T09:13:42.368Z"
   },
   {
    "duration": 79,
    "start_time": "2024-01-07T09:13:48.117Z"
   },
   {
    "duration": 13,
    "start_time": "2024-01-07T09:13:52.961Z"
   },
   {
    "duration": 11,
    "start_time": "2024-01-07T09:14:07.515Z"
   },
   {
    "duration": 493,
    "start_time": "2024-01-07T09:14:49.858Z"
   },
   {
    "duration": 488,
    "start_time": "2024-01-07T09:14:59.924Z"
   },
   {
    "duration": 321,
    "start_time": "2024-01-07T09:15:13.497Z"
   },
   {
    "duration": 465,
    "start_time": "2024-01-07T09:15:32.690Z"
   },
   {
    "duration": 370,
    "start_time": "2024-01-07T09:15:35.442Z"
   },
   {
    "duration": 254,
    "start_time": "2024-01-07T09:15:59.070Z"
   },
   {
    "duration": 342,
    "start_time": "2024-01-07T09:16:07.360Z"
   },
   {
    "duration": 655,
    "start_time": "2024-01-07T09:16:13.653Z"
   },
   {
    "duration": 300,
    "start_time": "2024-01-07T09:16:18.771Z"
   },
   {
    "duration": 7,
    "start_time": "2024-01-07T09:16:29.693Z"
   },
   {
    "duration": 13,
    "start_time": "2024-01-07T09:16:32.940Z"
   },
   {
    "duration": 7,
    "start_time": "2024-01-07T09:16:36.815Z"
   },
   {
    "duration": 6,
    "start_time": "2024-01-07T09:17:49.573Z"
   },
   {
    "duration": 6,
    "start_time": "2024-01-07T09:17:53.097Z"
   },
   {
    "duration": 24,
    "start_time": "2024-01-07T09:18:00.255Z"
   },
   {
    "duration": 20,
    "start_time": "2024-01-07T09:18:26.174Z"
   },
   {
    "duration": 18,
    "start_time": "2024-01-07T09:18:30.950Z"
   },
   {
    "duration": 4,
    "start_time": "2024-01-07T09:19:01.979Z"
   },
   {
    "duration": 4,
    "start_time": "2024-01-07T09:19:25.810Z"
   },
   {
    "duration": 3,
    "start_time": "2024-01-07T09:19:34.603Z"
   },
   {
    "duration": 3,
    "start_time": "2024-01-07T09:19:44.581Z"
   },
   {
    "duration": 4,
    "start_time": "2024-01-07T09:19:50.901Z"
   },
   {
    "duration": 17,
    "start_time": "2024-01-07T09:19:54.156Z"
   },
   {
    "duration": 4,
    "start_time": "2024-01-07T09:20:19.487Z"
   },
   {
    "duration": 3,
    "start_time": "2024-01-07T09:20:44.801Z"
   },
   {
    "duration": 31,
    "start_time": "2024-01-07T09:21:41.740Z"
   },
   {
    "duration": 10,
    "start_time": "2024-01-07T09:21:49.975Z"
   },
   {
    "duration": 401,
    "start_time": "2024-01-07T09:21:51.668Z"
   },
   {
    "duration": 7,
    "start_time": "2024-01-07T09:27:50.372Z"
   },
   {
    "duration": 7,
    "start_time": "2024-01-07T09:28:03.312Z"
   },
   {
    "duration": 3,
    "start_time": "2024-01-07T09:28:14.108Z"
   },
   {
    "duration": 10,
    "start_time": "2024-01-07T09:28:22.171Z"
   },
   {
    "duration": 8,
    "start_time": "2024-01-07T09:28:26.507Z"
   },
   {
    "duration": 8,
    "start_time": "2024-01-07T09:33:42.090Z"
   },
   {
    "duration": 14,
    "start_time": "2024-01-07T09:33:46.859Z"
   },
   {
    "duration": 42,
    "start_time": "2024-01-07T09:33:47.260Z"
   },
   {
    "duration": 8,
    "start_time": "2024-01-07T09:34:18.122Z"
   },
   {
    "duration": 2400,
    "start_time": "2024-01-07T09:34:21.273Z"
   },
   {
    "duration": 127,
    "start_time": "2024-01-07T09:34:48.077Z"
   },
   {
    "duration": 84,
    "start_time": "2024-01-07T09:34:50.568Z"
   },
   {
    "duration": 120,
    "start_time": "2024-01-07T09:34:54.262Z"
   },
   {
    "duration": 4,
    "start_time": "2024-01-07T09:35:27.276Z"
   },
   {
    "duration": 99,
    "start_time": "2024-01-07T09:35:29.187Z"
   },
   {
    "duration": 231,
    "start_time": "2024-01-07T09:35:47.838Z"
   },
   {
    "duration": 222,
    "start_time": "2024-01-07T09:35:57.586Z"
   },
   {
    "duration": 12,
    "start_time": "2024-01-07T09:36:25.873Z"
   },
   {
    "duration": 8,
    "start_time": "2024-01-07T09:36:31.797Z"
   },
   {
    "duration": 22,
    "start_time": "2024-01-07T09:36:50.844Z"
   },
   {
    "duration": 11,
    "start_time": "2024-01-07T09:36:59.262Z"
   },
   {
    "duration": 37,
    "start_time": "2024-01-07T09:37:01.529Z"
   },
   {
    "duration": 14,
    "start_time": "2024-01-07T09:37:07.511Z"
   },
   {
    "duration": 13,
    "start_time": "2024-01-07T09:37:13.612Z"
   },
   {
    "duration": 14,
    "start_time": "2024-01-07T09:37:18.937Z"
   },
   {
    "duration": 14,
    "start_time": "2024-01-07T09:37:27.074Z"
   },
   {
    "duration": 306,
    "start_time": "2024-01-07T09:37:38.939Z"
   },
   {
    "duration": 8,
    "start_time": "2024-01-07T09:38:07.719Z"
   },
   {
    "duration": 8,
    "start_time": "2024-01-07T09:38:14.729Z"
   },
   {
    "duration": 572,
    "start_time": "2024-01-07T09:38:18.403Z"
   },
   {
    "duration": 420,
    "start_time": "2024-01-07T09:38:37.939Z"
   },
   {
    "duration": 117,
    "start_time": "2024-01-07T09:40:27.305Z"
   },
   {
    "duration": 104,
    "start_time": "2024-01-07T09:40:30.187Z"
   },
   {
    "duration": 138,
    "start_time": "2024-01-07T09:40:39.821Z"
   },
   {
    "duration": 7,
    "start_time": "2024-01-07T09:43:18.611Z"
   },
   {
    "duration": 17,
    "start_time": "2024-01-07T09:43:29.842Z"
   },
   {
    "duration": 141,
    "start_time": "2024-01-07T09:43:44.545Z"
   },
   {
    "duration": 182,
    "start_time": "2024-01-07T09:44:03.913Z"
   },
   {
    "duration": 16,
    "start_time": "2024-01-07T09:44:12.425Z"
   },
   {
    "duration": 114,
    "start_time": "2024-01-07T09:44:25.304Z"
   },
   {
    "duration": 114,
    "start_time": "2024-01-07T09:45:42.215Z"
   },
   {
    "duration": 12,
    "start_time": "2024-01-07T09:46:47.505Z"
   },
   {
    "duration": 9,
    "start_time": "2024-01-07T09:47:25.711Z"
   },
   {
    "duration": 119,
    "start_time": "2024-01-07T09:47:26.026Z"
   },
   {
    "duration": 11,
    "start_time": "2024-01-07T09:47:34.068Z"
   },
   {
    "duration": 377,
    "start_time": "2024-01-07T09:47:34.410Z"
   },
   {
    "duration": 8,
    "start_time": "2024-01-07T09:47:37.734Z"
   },
   {
    "duration": 750,
    "start_time": "2024-01-07T09:47:39.419Z"
   },
   {
    "duration": 77,
    "start_time": "2024-01-07T09:47:42.341Z"
   },
   {
    "duration": 610,
    "start_time": "2024-01-07T09:48:08.875Z"
   },
   {
    "duration": 123,
    "start_time": "2024-01-07T09:49:14.219Z"
   },
   {
    "duration": 100,
    "start_time": "2024-01-07T09:49:48.807Z"
   },
   {
    "duration": 9,
    "start_time": "2024-01-07T09:49:53.634Z"
   },
   {
    "duration": 463,
    "start_time": "2024-01-07T09:49:53.833Z"
   },
   {
    "duration": 6,
    "start_time": "2024-01-07T09:49:56.677Z"
   },
   {
    "duration": 777,
    "start_time": "2024-01-07T09:49:57.172Z"
   },
   {
    "duration": 321,
    "start_time": "2024-01-07T09:49:58.934Z"
   },
   {
    "duration": 137,
    "start_time": "2024-01-07T09:50:00.952Z"
   },
   {
    "duration": 10,
    "start_time": "2024-01-07T09:51:21.629Z"
   },
   {
    "duration": 9,
    "start_time": "2024-01-07T09:51:26.899Z"
   },
   {
    "duration": 92,
    "start_time": "2024-01-07T09:51:29.517Z"
   },
   {
    "duration": 24,
    "start_time": "2024-01-07T09:51:48.068Z"
   },
   {
    "duration": 466,
    "start_time": "2024-01-07T09:51:48.290Z"
   },
   {
    "duration": 7,
    "start_time": "2024-01-07T09:51:50.290Z"
   },
   {
    "duration": 940,
    "start_time": "2024-01-07T09:51:50.562Z"
   },
   {
    "duration": 264,
    "start_time": "2024-01-07T09:51:52.370Z"
   },
   {
    "duration": 21,
    "start_time": "2024-01-07T09:51:54.219Z"
   },
   {
    "duration": 111,
    "start_time": "2024-01-07T09:51:54.693Z"
   },
   {
    "duration": 1375,
    "start_time": "2024-01-07T09:52:05.575Z"
   },
   {
    "duration": 13,
    "start_time": "2024-01-07T09:52:27.362Z"
   },
   {
    "duration": 112,
    "start_time": "2024-01-07T09:53:30.768Z"
   },
   {
    "duration": 2485,
    "start_time": "2024-01-07T09:54:38.092Z"
   },
   {
    "duration": 166,
    "start_time": "2024-01-07T09:55:01.796Z"
   },
   {
    "duration": 137,
    "start_time": "2024-01-07T09:57:21.339Z"
   },
   {
    "duration": 105,
    "start_time": "2024-01-07T09:57:32.871Z"
   },
   {
    "duration": 128,
    "start_time": "2024-01-07T09:58:58.042Z"
   },
   {
    "duration": 29,
    "start_time": "2024-01-07T09:59:06.005Z"
   },
   {
    "duration": 125,
    "start_time": "2024-01-07T09:59:11.187Z"
   },
   {
    "duration": 98,
    "start_time": "2024-01-07T09:59:11.527Z"
   },
   {
    "duration": 5,
    "start_time": "2024-01-07T09:59:18.607Z"
   },
   {
    "duration": 262,
    "start_time": "2024-01-07T09:59:20.705Z"
   },
   {
    "duration": 2495,
    "start_time": "2024-01-07T09:59:24.585Z"
   },
   {
    "duration": 15576,
    "start_time": "2024-01-07T11:46:08.911Z"
   },
   {
    "duration": 8386,
    "start_time": "2024-01-07T11:46:24.490Z"
   },
   {
    "duration": 69,
    "start_time": "2024-01-07T11:46:32.879Z"
   },
   {
    "duration": 704,
    "start_time": "2024-01-07T11:46:32.950Z"
   },
   {
    "duration": 1226,
    "start_time": "2024-01-07T11:46:33.656Z"
   },
   {
    "duration": 999,
    "start_time": "2024-01-07T11:46:34.884Z"
   },
   {
    "duration": 4,
    "start_time": "2024-01-07T11:46:35.884Z"
   },
   {
    "duration": 80,
    "start_time": "2024-01-07T11:46:35.890Z"
   },
   {
    "duration": 1091,
    "start_time": "2024-01-07T11:46:35.972Z"
   },
   {
    "duration": 15,
    "start_time": "2024-01-07T11:46:37.065Z"
   },
   {
    "duration": 2991,
    "start_time": "2024-01-07T11:46:37.081Z"
   },
   {
    "duration": 622,
    "start_time": "2024-01-07T11:46:40.073Z"
   },
   {
    "duration": 0,
    "start_time": "2024-01-07T11:46:40.697Z"
   },
   {
    "duration": 0,
    "start_time": "2024-01-07T11:46:40.698Z"
   },
   {
    "duration": 0,
    "start_time": "2024-01-07T11:46:40.699Z"
   },
   {
    "duration": 0,
    "start_time": "2024-01-07T11:46:40.700Z"
   },
   {
    "duration": 0,
    "start_time": "2024-01-07T11:46:40.701Z"
   },
   {
    "duration": 0,
    "start_time": "2024-01-07T11:46:40.702Z"
   },
   {
    "duration": 0,
    "start_time": "2024-01-07T11:46:40.703Z"
   },
   {
    "duration": 0,
    "start_time": "2024-01-07T11:46:40.704Z"
   },
   {
    "duration": 0,
    "start_time": "2024-01-07T11:46:40.705Z"
   },
   {
    "duration": 16299,
    "start_time": "2024-01-07T17:39:31.337Z"
   },
   {
    "duration": 9490,
    "start_time": "2024-01-07T17:39:47.638Z"
   },
   {
    "duration": 16,
    "start_time": "2024-01-07T17:39:57.130Z"
   },
   {
    "duration": 874,
    "start_time": "2024-01-07T17:39:57.149Z"
   },
   {
    "duration": 1500,
    "start_time": "2024-01-07T17:39:58.025Z"
   },
   {
    "duration": 1001,
    "start_time": "2024-01-07T17:39:59.527Z"
   },
   {
    "duration": 4,
    "start_time": "2024-01-07T17:40:00.530Z"
   },
   {
    "duration": 341,
    "start_time": "2024-01-07T17:40:00.536Z"
   },
   {
    "duration": 968,
    "start_time": "2024-01-07T17:40:00.879Z"
   },
   {
    "duration": 75,
    "start_time": "2024-01-07T17:40:01.851Z"
   },
   {
    "duration": 2806,
    "start_time": "2024-01-07T17:40:01.928Z"
   },
   {
    "duration": 803,
    "start_time": "2024-01-07T17:40:04.736Z"
   },
   {
    "duration": 182,
    "start_time": "2024-01-07T17:40:05.541Z"
   },
   {
    "duration": 100,
    "start_time": "2024-01-07T17:40:05.725Z"
   },
   {
    "duration": 1496,
    "start_time": "2024-01-07T17:40:05.827Z"
   },
   {
    "duration": 8,
    "start_time": "2024-01-07T17:40:07.325Z"
   },
   {
    "duration": 606,
    "start_time": "2024-01-07T17:40:07.335Z"
   },
   {
    "duration": 3806,
    "start_time": "2024-01-07T17:40:07.943Z"
   },
   {
    "duration": 0,
    "start_time": "2024-01-07T17:43:26.043Z"
   },
   {
    "duration": 0,
    "start_time": "2024-01-07T17:43:26.049Z"
   },
   {
    "duration": 0,
    "start_time": "2024-01-07T17:43:26.051Z"
   },
   {
    "duration": 0,
    "start_time": "2024-01-07T17:46:15.356Z"
   },
   {
    "duration": 16013,
    "start_time": "2024-01-07T17:50:44.831Z"
   },
   {
    "duration": 9083,
    "start_time": "2024-01-07T17:51:00.847Z"
   },
   {
    "duration": 16,
    "start_time": "2024-01-07T17:51:09.931Z"
   },
   {
    "duration": 707,
    "start_time": "2024-01-07T17:51:09.950Z"
   },
   {
    "duration": 1322,
    "start_time": "2024-01-07T17:51:10.723Z"
   },
   {
    "duration": 1109,
    "start_time": "2024-01-07T17:51:12.047Z"
   },
   {
    "duration": 5,
    "start_time": "2024-01-07T17:51:13.158Z"
   },
   {
    "duration": 81,
    "start_time": "2024-01-07T17:51:13.165Z"
   },
   {
    "duration": 811,
    "start_time": "2024-01-07T17:51:13.248Z"
   },
   {
    "duration": 14,
    "start_time": "2024-01-07T17:51:14.061Z"
   },
   {
    "duration": 2695,
    "start_time": "2024-01-07T17:51:14.077Z"
   },
   {
    "duration": 903,
    "start_time": "2024-01-07T17:51:16.824Z"
   },
   {
    "duration": 111,
    "start_time": "2024-01-07T17:51:17.729Z"
   },
   {
    "duration": 93,
    "start_time": "2024-01-07T17:51:17.842Z"
   },
   {
    "duration": 1497,
    "start_time": "2024-01-07T17:51:17.937Z"
   },
   {
    "duration": 6,
    "start_time": "2024-01-07T17:51:19.436Z"
   },
   {
    "duration": 599,
    "start_time": "2024-01-07T17:51:19.443Z"
   },
   {
    "duration": 3287,
    "start_time": "2024-01-07T17:51:20.044Z"
   },
   {
    "duration": 0,
    "start_time": "2024-01-07T17:58:56.423Z"
   },
   {
    "duration": 0,
    "start_time": "2024-01-07T17:58:56.424Z"
   },
   {
    "duration": 0,
    "start_time": "2024-01-07T17:58:56.425Z"
   },
   {
    "duration": 275983,
    "start_time": "2024-01-07T17:59:00.381Z"
   },
   {
    "duration": 1070873,
    "start_time": "2024-01-07T18:03:41.057Z"
   },
   {
    "duration": 707725,
    "start_time": "2024-01-07T18:21:36.908Z"
   },
   {
    "duration": 19,
    "start_time": "2024-01-07T18:35:22.845Z"
   },
   {
    "duration": 16441,
    "start_time": "2024-01-07T18:35:35.785Z"
   },
   {
    "duration": 9411,
    "start_time": "2024-01-07T18:35:52.229Z"
   },
   {
    "duration": 17,
    "start_time": "2024-01-07T18:36:01.642Z"
   },
   {
    "duration": 884,
    "start_time": "2024-01-07T18:36:01.662Z"
   },
   {
    "duration": 1308,
    "start_time": "2024-01-07T18:36:02.549Z"
   },
   {
    "duration": 872,
    "start_time": "2024-01-07T18:36:03.859Z"
   },
   {
    "duration": 4,
    "start_time": "2024-01-07T18:36:04.734Z"
   },
   {
    "duration": 28,
    "start_time": "2024-01-07T18:36:04.740Z"
   },
   {
    "duration": 867,
    "start_time": "2024-01-07T18:36:04.770Z"
   },
   {
    "duration": 12,
    "start_time": "2024-01-07T18:36:05.640Z"
   },
   {
    "duration": 2888,
    "start_time": "2024-01-07T18:36:05.653Z"
   },
   {
    "duration": 897,
    "start_time": "2024-01-07T18:36:08.543Z"
   },
   {
    "duration": 117,
    "start_time": "2024-01-07T18:36:09.442Z"
   },
   {
    "duration": 95,
    "start_time": "2024-01-07T18:36:09.561Z"
   },
   {
    "duration": 1700,
    "start_time": "2024-01-07T18:36:09.723Z"
   },
   {
    "duration": 7,
    "start_time": "2024-01-07T18:36:11.425Z"
   },
   {
    "duration": 511,
    "start_time": "2024-01-07T18:36:11.434Z"
   },
   {
    "duration": 3891,
    "start_time": "2024-01-07T18:36:11.947Z"
   },
   {
    "duration": 367528,
    "start_time": "2024-01-07T18:36:15.840Z"
   },
   {
    "duration": 0,
    "start_time": "2024-01-07T18:42:23.423Z"
   },
   {
    "duration": 0,
    "start_time": "2024-01-07T18:42:23.424Z"
   },
   {
    "duration": 15382,
    "start_time": "2024-01-08T06:32:32.520Z"
   },
   {
    "duration": 7802,
    "start_time": "2024-01-08T06:32:47.905Z"
   },
   {
    "duration": 69,
    "start_time": "2024-01-08T06:32:55.709Z"
   },
   {
    "duration": 697,
    "start_time": "2024-01-08T06:32:55.780Z"
   },
   {
    "duration": 1127,
    "start_time": "2024-01-08T06:32:56.479Z"
   },
   {
    "duration": 801,
    "start_time": "2024-01-08T06:32:57.607Z"
   },
   {
    "duration": 4,
    "start_time": "2024-01-08T06:32:58.409Z"
   },
   {
    "duration": 18,
    "start_time": "2024-01-08T06:32:58.414Z"
   },
   {
    "duration": 773,
    "start_time": "2024-01-08T06:32:58.434Z"
   },
   {
    "duration": 12,
    "start_time": "2024-01-08T06:32:59.264Z"
   },
   {
    "duration": 2504,
    "start_time": "2024-01-08T06:32:59.277Z"
   },
   {
    "duration": 806,
    "start_time": "2024-01-08T06:33:01.782Z"
   },
   {
    "duration": 103,
    "start_time": "2024-01-08T06:33:02.590Z"
   },
   {
    "duration": 95,
    "start_time": "2024-01-08T06:33:02.695Z"
   },
   {
    "duration": 1406,
    "start_time": "2024-01-08T06:33:02.791Z"
   },
   {
    "duration": 67,
    "start_time": "2024-01-08T06:33:04.199Z"
   },
   {
    "duration": 466,
    "start_time": "2024-01-08T06:33:04.268Z"
   },
   {
    "duration": 3030,
    "start_time": "2024-01-08T06:33:04.737Z"
   },
   {
    "duration": 15263,
    "start_time": "2024-01-09T18:09:30.046Z"
   },
   {
    "duration": 7381,
    "start_time": "2024-01-09T18:09:59.318Z"
   },
   {
    "duration": 15,
    "start_time": "2024-01-09T18:10:16.009Z"
   },
   {
    "duration": 541,
    "start_time": "2024-01-09T18:10:19.929Z"
   },
   {
    "duration": 1101,
    "start_time": "2024-01-09T18:10:24.166Z"
   },
   {
    "duration": 647,
    "start_time": "2024-01-09T18:12:03.123Z"
   },
   {
    "duration": 4,
    "start_time": "2024-01-09T18:12:06.750Z"
   },
   {
    "duration": 23,
    "start_time": "2024-01-09T18:12:11.642Z"
   },
   {
    "duration": 910,
    "start_time": "2024-01-09T18:12:12.263Z"
   },
   {
    "duration": 14,
    "start_time": "2024-01-09T18:12:19.832Z"
   },
   {
    "duration": 66,
    "start_time": "2024-01-09T18:15:43.394Z"
   },
   {
    "duration": 9,
    "start_time": "2024-01-09T18:15:56.789Z"
   },
   {
    "duration": 32,
    "start_time": "2024-01-09T18:16:15.030Z"
   },
   {
    "duration": 18,
    "start_time": "2024-01-09T18:17:22.691Z"
   },
   {
    "duration": 15,
    "start_time": "2024-01-09T18:17:42.127Z"
   },
   {
    "duration": 17,
    "start_time": "2024-01-09T18:18:19.797Z"
   },
   {
    "duration": 16,
    "start_time": "2024-01-09T18:18:43.859Z"
   },
   {
    "duration": 12,
    "start_time": "2024-01-09T18:18:57.884Z"
   },
   {
    "duration": 2312,
    "start_time": "2024-01-09T18:19:13.667Z"
   },
   {
    "duration": 91,
    "start_time": "2024-01-09T18:19:36.316Z"
   },
   {
    "duration": 14,
    "start_time": "2024-01-09T18:19:52.488Z"
   },
   {
    "duration": 6,
    "start_time": "2024-01-09T18:20:08.728Z"
   },
   {
    "duration": 770,
    "start_time": "2024-01-09T18:20:21.119Z"
   },
   {
    "duration": 481,
    "start_time": "2024-01-09T18:20:29.015Z"
   },
   {
    "duration": 240,
    "start_time": "2024-01-09T18:20:41.431Z"
   },
   {
    "duration": 95,
    "start_time": "2024-01-09T18:21:01.795Z"
   },
   {
    "duration": 250,
    "start_time": "2024-01-09T18:21:05.082Z"
   },
   {
    "duration": 222,
    "start_time": "2024-01-09T18:21:10.647Z"
   },
   {
    "duration": 572,
    "start_time": "2024-01-09T18:23:07.155Z"
   },
   {
    "duration": 8,
    "start_time": "2024-01-09T18:24:33.953Z"
   },
   {
    "duration": 20,
    "start_time": "2024-01-09T18:24:43.989Z"
   },
   {
    "duration": 43,
    "start_time": "2024-01-09T18:24:52.503Z"
   },
   {
    "duration": 49,
    "start_time": "2024-01-09T18:25:10.863Z"
   },
   {
    "duration": 314,
    "start_time": "2024-01-09T18:25:19.961Z"
   },
   {
    "duration": 2187,
    "start_time": "2024-01-09T18:25:42.729Z"
   },
   {
    "duration": 1600,
    "start_time": "2024-01-09T18:25:51.841Z"
   },
   {
    "duration": 8,
    "start_time": "2024-01-09T18:35:42.580Z"
   },
   {
    "duration": 2080,
    "start_time": "2024-01-09T18:35:47.672Z"
   },
   {
    "duration": 39,
    "start_time": "2024-01-09T18:35:57.906Z"
   },
   {
    "duration": 2760,
    "start_time": "2024-01-09T18:35:59.724Z"
   },
   {
    "duration": 1102,
    "start_time": "2024-01-09T18:36:22.205Z"
   },
   {
    "duration": 9,
    "start_time": "2024-01-09T18:36:25.380Z"
   },
   {
    "duration": 387,
    "start_time": "2024-01-09T18:36:37.082Z"
   },
   {
    "duration": 2943,
    "start_time": "2024-01-09T18:36:43.534Z"
   },
   {
    "duration": 81565,
    "start_time": "2024-01-09T18:36:50.958Z"
   },
   {
    "duration": 0,
    "start_time": "2024-01-09T18:38:12.525Z"
   },
   {
    "duration": 99,
    "start_time": "2024-01-09T18:38:15.311Z"
   },
   {
    "duration": 22712,
    "start_time": "2024-01-09T18:38:24.676Z"
   },
   {
    "duration": 5584,
    "start_time": "2024-01-09T18:38:49.819Z"
   },
   {
    "duration": 0,
    "start_time": "2024-01-09T18:39:24.368Z"
   },
   {
    "duration": 15974,
    "start_time": "2024-01-09T18:39:35.299Z"
   },
   {
    "duration": 9112,
    "start_time": "2024-01-09T18:39:51.276Z"
   },
   {
    "duration": 15,
    "start_time": "2024-01-09T18:40:00.390Z"
   },
   {
    "duration": 895,
    "start_time": "2024-01-09T18:40:00.407Z"
   },
   {
    "duration": 1439,
    "start_time": "2024-01-09T18:40:01.368Z"
   },
   {
    "duration": 857,
    "start_time": "2024-01-09T18:40:02.809Z"
   },
   {
    "duration": 4,
    "start_time": "2024-01-09T18:40:03.668Z"
   },
   {
    "duration": 69,
    "start_time": "2024-01-09T18:40:03.674Z"
   },
   {
    "duration": 1062,
    "start_time": "2024-01-09T18:40:03.744Z"
   },
   {
    "duration": 68,
    "start_time": "2024-01-09T18:40:04.808Z"
   },
   {
    "duration": 2101,
    "start_time": "2024-01-09T18:40:04.877Z"
   },
   {
    "duration": 448,
    "start_time": "2024-01-09T18:40:06.979Z"
   },
   {
    "duration": 753,
    "start_time": "2024-01-09T18:40:07.429Z"
   },
   {
    "duration": 103,
    "start_time": "2024-01-09T18:40:08.183Z"
   },
   {
    "duration": 2639,
    "start_time": "2024-01-09T18:40:08.288Z"
   },
   {
    "duration": 52,
    "start_time": "2024-01-09T18:40:10.929Z"
   },
   {
    "duration": 3117,
    "start_time": "2024-01-09T18:40:10.983Z"
   },
   {
    "duration": 1104,
    "start_time": "2024-01-09T18:40:14.102Z"
   },
   {
    "duration": 15,
    "start_time": "2024-01-09T18:40:15.269Z"
   },
   {
    "duration": 86,
    "start_time": "2024-01-09T18:40:15.286Z"
   },
   {
    "duration": 622,
    "start_time": "2024-01-09T18:40:15.374Z"
   },
   {
    "duration": 2790,
    "start_time": "2024-01-09T18:40:15.997Z"
   },
   {
    "duration": 58310,
    "start_time": "2024-01-09T18:40:18.789Z"
   },
   {
    "duration": 0,
    "start_time": "2024-01-09T18:41:17.101Z"
   },
   {
    "duration": 0,
    "start_time": "2024-01-09T18:41:17.102Z"
   },
   {
    "duration": 0,
    "start_time": "2024-01-09T18:41:17.103Z"
   },
   {
    "duration": 0,
    "start_time": "2024-01-09T18:41:17.180Z"
   },
   {
    "duration": 30,
    "start_time": "2024-01-09T18:41:20.947Z"
   },
   {
    "duration": 16097,
    "start_time": "2024-01-09T18:42:14.375Z"
   },
   {
    "duration": 8420,
    "start_time": "2024-01-09T18:42:30.475Z"
   },
   {
    "duration": 77,
    "start_time": "2024-01-09T18:42:38.897Z"
   },
   {
    "duration": 722,
    "start_time": "2024-01-09T18:42:38.977Z"
   },
   {
    "duration": 1157,
    "start_time": "2024-01-09T18:42:39.766Z"
   },
   {
    "duration": 1047,
    "start_time": "2024-01-09T18:42:40.925Z"
   },
   {
    "duration": 5,
    "start_time": "2024-01-09T18:42:41.974Z"
   },
   {
    "duration": 34,
    "start_time": "2024-01-09T18:42:41.980Z"
   },
   {
    "duration": 1005,
    "start_time": "2024-01-09T18:42:42.015Z"
   },
   {
    "duration": 49,
    "start_time": "2024-01-09T18:42:43.022Z"
   },
   {
    "duration": 2295,
    "start_time": "2024-01-09T18:42:43.073Z"
   },
   {
    "duration": 497,
    "start_time": "2024-01-09T18:42:45.370Z"
   },
   {
    "duration": 808,
    "start_time": "2024-01-09T18:42:45.869Z"
   },
   {
    "duration": 109,
    "start_time": "2024-01-09T18:42:46.678Z"
   },
   {
    "duration": 2728,
    "start_time": "2024-01-09T18:42:46.789Z"
   },
   {
    "duration": 65,
    "start_time": "2024-01-09T18:42:49.518Z"
   },
   {
    "duration": 3244,
    "start_time": "2024-01-09T18:42:49.585Z"
   },
   {
    "duration": 1170,
    "start_time": "2024-01-09T18:42:52.831Z"
   },
   {
    "duration": 6,
    "start_time": "2024-01-09T18:42:54.068Z"
   },
   {
    "duration": 32,
    "start_time": "2024-01-09T18:42:54.075Z"
   },
   {
    "duration": 23,
    "start_time": "2024-01-09T18:42:54.168Z"
   },
   {
    "duration": 393,
    "start_time": "2024-01-09T18:42:54.193Z"
   },
   {
    "duration": 2587,
    "start_time": "2024-01-09T18:42:54.587Z"
   },
   {
    "duration": 107,
    "start_time": "2024-01-09T18:42:57.175Z"
   },
   {
    "duration": 0,
    "start_time": "2024-01-09T18:42:57.284Z"
   },
   {
    "duration": 0,
    "start_time": "2024-01-09T18:42:57.286Z"
   },
   {
    "duration": 0,
    "start_time": "2024-01-09T18:42:57.287Z"
   },
   {
    "duration": 2773,
    "start_time": "2024-01-09T18:43:18.053Z"
   },
   {
    "duration": 107,
    "start_time": "2024-01-09T18:46:44.381Z"
   },
   {
    "duration": 15812,
    "start_time": "2024-01-09T18:48:08.797Z"
   },
   {
    "duration": 8296,
    "start_time": "2024-01-09T18:48:24.612Z"
   },
   {
    "duration": 69,
    "start_time": "2024-01-09T18:48:32.910Z"
   },
   {
    "duration": 694,
    "start_time": "2024-01-09T18:48:32.981Z"
   },
   {
    "duration": 1324,
    "start_time": "2024-01-09T18:48:33.677Z"
   },
   {
    "duration": 940,
    "start_time": "2024-01-09T18:48:35.003Z"
   },
   {
    "duration": 4,
    "start_time": "2024-01-09T18:48:35.945Z"
   },
   {
    "duration": 64,
    "start_time": "2024-01-09T18:48:35.950Z"
   },
   {
    "duration": 876,
    "start_time": "2024-01-09T18:48:36.017Z"
   },
   {
    "duration": 11,
    "start_time": "2024-01-09T18:48:36.896Z"
   },
   {
    "duration": 2184,
    "start_time": "2024-01-09T18:48:36.909Z"
   },
   {
    "duration": 438,
    "start_time": "2024-01-09T18:48:39.094Z"
   },
   {
    "duration": 572,
    "start_time": "2024-01-09T18:48:39.534Z"
   },
   {
    "duration": 88,
    "start_time": "2024-01-09T18:48:40.108Z"
   },
   {
    "duration": 2518,
    "start_time": "2024-01-09T18:48:40.198Z"
   },
   {
    "duration": 57,
    "start_time": "2024-01-09T18:48:42.717Z"
   },
   {
    "duration": 3571,
    "start_time": "2024-01-09T18:48:42.775Z"
   },
   {
    "duration": 1128,
    "start_time": "2024-01-09T18:48:46.348Z"
   },
   {
    "duration": 5,
    "start_time": "2024-01-09T18:48:47.479Z"
   },
   {
    "duration": 105,
    "start_time": "2024-01-09T18:48:47.486Z"
   },
   {
    "duration": 489,
    "start_time": "2024-01-09T18:48:47.592Z"
   },
   {
    "duration": 614,
    "start_time": "2024-01-09T18:48:48.083Z"
   },
   {
    "duration": 2976,
    "start_time": "2024-01-09T18:48:48.699Z"
   },
   {
    "duration": 127,
    "start_time": "2024-01-09T18:48:51.677Z"
   },
   {
    "duration": 0,
    "start_time": "2024-01-09T18:48:51.806Z"
   },
   {
    "duration": 0,
    "start_time": "2024-01-09T18:48:51.807Z"
   },
   {
    "duration": 0,
    "start_time": "2024-01-09T18:48:51.808Z"
   },
   {
    "duration": 7,
    "start_time": "2024-01-09T18:49:44.787Z"
   },
   {
    "duration": 109,
    "start_time": "2024-01-09T18:52:45.717Z"
   },
   {
    "duration": 12,
    "start_time": "2024-01-09T18:53:00.660Z"
   },
   {
    "duration": 2031,
    "start_time": "2024-01-09T18:53:08.250Z"
   },
   {
    "duration": 5,
    "start_time": "2024-01-09T18:53:14.046Z"
   },
   {
    "duration": 16687,
    "start_time": "2024-01-09T18:54:19.896Z"
   },
   {
    "duration": 8598,
    "start_time": "2024-01-09T18:54:36.585Z"
   },
   {
    "duration": 16,
    "start_time": "2024-01-09T18:54:45.185Z"
   },
   {
    "duration": 882,
    "start_time": "2024-01-09T18:54:45.203Z"
   },
   {
    "duration": 1298,
    "start_time": "2024-01-09T18:54:46.087Z"
   },
   {
    "duration": 908,
    "start_time": "2024-01-09T18:54:47.387Z"
   },
   {
    "duration": 4,
    "start_time": "2024-01-09T18:54:48.296Z"
   },
   {
    "duration": 36,
    "start_time": "2024-01-09T18:54:48.301Z"
   },
   {
    "duration": 1166,
    "start_time": "2024-01-09T18:54:48.338Z"
   },
   {
    "duration": 77,
    "start_time": "2024-01-09T18:54:49.506Z"
   },
   {
    "duration": 2304,
    "start_time": "2024-01-09T18:54:49.584Z"
   },
   {
    "duration": 495,
    "start_time": "2024-01-09T18:54:51.890Z"
   },
   {
    "duration": 834,
    "start_time": "2024-01-09T18:54:52.387Z"
   },
   {
    "duration": 113,
    "start_time": "2024-01-09T18:54:53.271Z"
   },
   {
    "duration": 2845,
    "start_time": "2024-01-09T18:54:53.387Z"
   },
   {
    "duration": 68,
    "start_time": "2024-01-09T18:54:56.234Z"
   },
   {
    "duration": 3687,
    "start_time": "2024-01-09T18:54:56.304Z"
   },
   {
    "duration": 1092,
    "start_time": "2024-01-09T18:54:59.992Z"
   },
   {
    "duration": 6,
    "start_time": "2024-01-09T18:55:01.087Z"
   },
   {
    "duration": 100,
    "start_time": "2024-01-09T18:55:01.095Z"
   },
   {
    "duration": 494,
    "start_time": "2024-01-09T18:55:01.197Z"
   },
   {
    "duration": 779,
    "start_time": "2024-01-09T18:55:01.693Z"
   },
   {
    "duration": 19,
    "start_time": "2024-01-09T18:55:02.473Z"
   },
   {
    "duration": 2421,
    "start_time": "2024-01-09T18:55:02.494Z"
   },
   {
    "duration": 117,
    "start_time": "2024-01-09T18:55:04.966Z"
   },
   {
    "duration": 0,
    "start_time": "2024-01-09T18:55:05.087Z"
   },
   {
    "duration": 0,
    "start_time": "2024-01-09T18:55:05.088Z"
   },
   {
    "duration": 0,
    "start_time": "2024-01-09T18:55:05.089Z"
   },
   {
    "duration": 1963040,
    "start_time": "2024-01-09T18:55:10.593Z"
   },
   {
    "duration": 15661,
    "start_time": "2024-01-09T19:27:58.739Z"
   },
   {
    "duration": 8684,
    "start_time": "2024-01-09T19:28:14.403Z"
   },
   {
    "duration": 13,
    "start_time": "2024-01-09T19:28:23.089Z"
   },
   {
    "duration": 703,
    "start_time": "2024-01-09T19:28:23.104Z"
   },
   {
    "duration": 1216,
    "start_time": "2024-01-09T19:28:23.867Z"
   },
   {
    "duration": 1202,
    "start_time": "2024-01-09T19:28:25.084Z"
   },
   {
    "duration": 4,
    "start_time": "2024-01-09T19:28:26.287Z"
   },
   {
    "duration": 81,
    "start_time": "2024-01-09T19:28:26.292Z"
   },
   {
    "duration": 834,
    "start_time": "2024-01-09T19:28:26.375Z"
   },
   {
    "duration": 19,
    "start_time": "2024-01-09T19:28:27.269Z"
   },
   {
    "duration": 2218,
    "start_time": "2024-01-09T19:28:27.290Z"
   },
   {
    "duration": 450,
    "start_time": "2024-01-09T19:28:29.567Z"
   },
   {
    "duration": 870,
    "start_time": "2024-01-09T19:28:30.019Z"
   },
   {
    "duration": 100,
    "start_time": "2024-01-09T19:28:30.891Z"
   },
   {
    "duration": 2720,
    "start_time": "2024-01-09T19:28:30.993Z"
   },
   {
    "duration": 71,
    "start_time": "2024-01-09T19:28:33.715Z"
   },
   {
    "duration": 3473,
    "start_time": "2024-01-09T19:28:33.787Z"
   },
   {
    "duration": 1035,
    "start_time": "2024-01-09T19:28:37.267Z"
   },
   {
    "duration": 3073,
    "start_time": "2024-01-09T19:28:38.304Z"
   },
   {
    "duration": 3,
    "start_time": "2024-01-09T19:28:41.382Z"
   },
   {
    "duration": 29,
    "start_time": "2024-01-09T19:28:41.387Z"
   },
   {
    "duration": 370,
    "start_time": "2024-01-09T19:28:41.418Z"
   },
   {
    "duration": 622,
    "start_time": "2024-01-09T19:28:41.790Z"
   },
   {
    "duration": 70,
    "start_time": "2024-01-09T19:28:42.414Z"
   },
   {
    "duration": 2612,
    "start_time": "2024-01-09T19:28:42.486Z"
   },
   {
    "duration": 135,
    "start_time": "2024-01-09T19:28:45.100Z"
   },
   {
    "duration": 0,
    "start_time": "2024-01-09T19:28:45.236Z"
   },
   {
    "duration": 0,
    "start_time": "2024-01-09T19:28:45.237Z"
   },
   {
    "duration": 0,
    "start_time": "2024-01-09T19:28:45.274Z"
   },
   {
    "duration": 3592,
    "start_time": "2024-01-09T19:29:22.788Z"
   },
   {
    "duration": 15749,
    "start_time": "2024-01-09T19:30:07.155Z"
   },
   {
    "duration": 8192,
    "start_time": "2024-01-09T19:30:22.907Z"
   },
   {
    "duration": 67,
    "start_time": "2024-01-09T19:30:31.101Z"
   },
   {
    "duration": 798,
    "start_time": "2024-01-09T19:30:31.172Z"
   },
   {
    "duration": 1398,
    "start_time": "2024-01-09T19:30:31.972Z"
   },
   {
    "duration": 833,
    "start_time": "2024-01-09T19:30:33.378Z"
   },
   {
    "duration": 4,
    "start_time": "2024-01-09T19:30:34.212Z"
   },
   {
    "duration": 27,
    "start_time": "2024-01-09T19:30:34.217Z"
   },
   {
    "duration": 970,
    "start_time": "2024-01-09T19:30:34.245Z"
   },
   {
    "duration": 20,
    "start_time": "2024-01-09T19:30:35.269Z"
   },
   {
    "duration": 2321,
    "start_time": "2024-01-09T19:30:35.291Z"
   },
   {
    "duration": 502,
    "start_time": "2024-01-09T19:30:37.671Z"
   },
   {
    "duration": 724,
    "start_time": "2024-01-09T19:30:38.175Z"
   },
   {
    "duration": 112,
    "start_time": "2024-01-09T19:30:38.901Z"
   },
   {
    "duration": 2627,
    "start_time": "2024-01-09T19:30:39.067Z"
   },
   {
    "duration": 1906,
    "start_time": "2024-01-09T19:30:41.696Z"
   },
   {
    "duration": 188,
    "start_time": "2024-01-09T19:30:43.604Z"
   },
   {
    "duration": 0,
    "start_time": "2024-01-09T19:30:43.793Z"
   },
   {
    "duration": 0,
    "start_time": "2024-01-09T19:30:43.794Z"
   },
   {
    "duration": 0,
    "start_time": "2024-01-09T19:30:43.795Z"
   },
   {
    "duration": 0,
    "start_time": "2024-01-09T19:30:43.796Z"
   },
   {
    "duration": 0,
    "start_time": "2024-01-09T19:30:43.797Z"
   },
   {
    "duration": 0,
    "start_time": "2024-01-09T19:30:43.798Z"
   },
   {
    "duration": 0,
    "start_time": "2024-01-09T19:30:43.799Z"
   },
   {
    "duration": 0,
    "start_time": "2024-01-09T19:30:43.799Z"
   },
   {
    "duration": 0,
    "start_time": "2024-01-09T19:30:43.803Z"
   },
   {
    "duration": 0,
    "start_time": "2024-01-09T19:30:43.803Z"
   },
   {
    "duration": 0,
    "start_time": "2024-01-09T19:30:43.804Z"
   },
   {
    "duration": 40,
    "start_time": "2024-01-09T19:32:13.476Z"
   },
   {
    "duration": 2716,
    "start_time": "2024-01-09T19:32:18.257Z"
   },
   {
    "duration": 4,
    "start_time": "2024-01-09T19:32:20.975Z"
   },
   {
    "duration": 105,
    "start_time": "2024-01-09T19:32:27.100Z"
   },
   {
    "duration": 22,
    "start_time": "2024-01-09T19:32:37.893Z"
   },
   {
    "duration": 403,
    "start_time": "2024-01-09T19:32:39.365Z"
   },
   {
    "duration": 515,
    "start_time": "2024-01-09T19:32:39.769Z"
   },
   {
    "duration": 296,
    "start_time": "2024-01-09T19:32:42.679Z"
   },
   {
    "duration": 12,
    "start_time": "2024-01-09T19:32:45.208Z"
   },
   {
    "duration": 1754,
    "start_time": "2024-01-09T19:32:45.851Z"
   },
   {
    "duration": 15961,
    "start_time": "2024-01-10T11:55:08.906Z"
   },
   {
    "duration": 8241,
    "start_time": "2024-01-10T11:55:24.870Z"
   },
   {
    "duration": 67,
    "start_time": "2024-01-10T11:55:33.113Z"
   },
   {
    "duration": 690,
    "start_time": "2024-01-10T11:55:33.182Z"
   },
   {
    "duration": 1200,
    "start_time": "2024-01-10T11:55:33.873Z"
   },
   {
    "duration": 710,
    "start_time": "2024-01-10T11:55:35.075Z"
   },
   {
    "duration": 4,
    "start_time": "2024-01-10T11:55:35.787Z"
   },
   {
    "duration": 52,
    "start_time": "2024-01-10T11:55:35.793Z"
   },
   {
    "duration": 1032,
    "start_time": "2024-01-10T11:55:35.846Z"
   },
   {
    "duration": 13,
    "start_time": "2024-01-10T11:55:36.880Z"
   },
   {
    "duration": 2091,
    "start_time": "2024-01-10T11:55:36.895Z"
   },
   {
    "duration": 393,
    "start_time": "2024-01-10T11:55:38.988Z"
   },
   {
    "duration": 633,
    "start_time": "2024-01-10T11:55:39.383Z"
   },
   {
    "duration": 86,
    "start_time": "2024-01-10T11:55:40.017Z"
   },
   {
    "duration": 2725,
    "start_time": "2024-01-10T11:55:40.105Z"
   },
   {
    "duration": 51,
    "start_time": "2024-01-10T11:55:42.831Z"
   },
   {
    "duration": 3139,
    "start_time": "2024-01-10T11:55:42.883Z"
   },
   {
    "duration": 2072,
    "start_time": "2024-01-10T11:55:46.024Z"
   },
   {
    "duration": 5,
    "start_time": "2024-01-10T11:55:48.097Z"
   },
   {
    "duration": 69,
    "start_time": "2024-01-10T11:55:48.103Z"
   },
   {
    "duration": 400,
    "start_time": "2024-01-10T11:55:48.174Z"
   },
   {
    "duration": 513,
    "start_time": "2024-01-10T11:55:48.575Z"
   },
   {
    "duration": 82,
    "start_time": "2024-01-10T11:55:49.091Z"
   },
   {
    "duration": 2094,
    "start_time": "2024-01-10T11:55:49.175Z"
   },
   {
    "duration": 103,
    "start_time": "2024-01-10T11:55:51.271Z"
   },
   {
    "duration": 0,
    "start_time": "2024-01-10T11:55:51.376Z"
   },
   {
    "duration": 0,
    "start_time": "2024-01-10T11:55:51.377Z"
   },
   {
    "duration": 0,
    "start_time": "2024-01-10T11:55:51.378Z"
   },
   {
    "duration": 115958,
    "start_time": "2024-01-10T11:56:17.017Z"
   },
   {
    "duration": 0,
    "start_time": "2024-01-10T11:58:12.977Z"
   },
   {
    "duration": 4,
    "start_time": "2024-01-10T11:58:24.675Z"
   },
   {
    "duration": 23,
    "start_time": "2024-01-10T11:58:47.973Z"
   },
   {
    "duration": 4,
    "start_time": "2024-01-10T11:58:48.343Z"
   },
   {
    "duration": 15415,
    "start_time": "2024-01-10T11:58:53.862Z"
   },
   {
    "duration": 8409,
    "start_time": "2024-01-10T11:59:09.279Z"
   },
   {
    "duration": 14,
    "start_time": "2024-01-10T11:59:17.689Z"
   },
   {
    "duration": 590,
    "start_time": "2024-01-10T11:59:17.705Z"
   },
   {
    "duration": 1272,
    "start_time": "2024-01-10T11:59:18.297Z"
   },
   {
    "duration": 1200,
    "start_time": "2024-01-10T11:59:19.571Z"
   },
   {
    "duration": 4,
    "start_time": "2024-01-10T11:59:20.773Z"
   },
   {
    "duration": 93,
    "start_time": "2024-01-10T11:59:20.778Z"
   },
   {
    "duration": 800,
    "start_time": "2024-01-10T11:59:20.872Z"
   },
   {
    "duration": 12,
    "start_time": "2024-01-10T11:59:21.675Z"
   },
   {
    "duration": 80,
    "start_time": "2024-01-10T11:59:21.688Z"
   },
   {
    "duration": 1936,
    "start_time": "2024-01-10T11:59:21.770Z"
   },
   {
    "duration": 414,
    "start_time": "2024-01-10T11:59:23.768Z"
   },
   {
    "duration": 784,
    "start_time": "2024-01-10T11:59:24.183Z"
   },
   {
    "duration": 109,
    "start_time": "2024-01-10T11:59:24.969Z"
   },
   {
    "duration": 2289,
    "start_time": "2024-01-10T11:59:25.080Z"
   },
   {
    "duration": 33,
    "start_time": "2024-01-10T11:59:27.371Z"
   },
   {
    "duration": 3044,
    "start_time": "2024-01-10T11:59:27.405Z"
   },
   {
    "duration": 2231,
    "start_time": "2024-01-10T11:59:30.450Z"
   },
   {
    "duration": 4,
    "start_time": "2024-01-10T11:59:32.683Z"
   },
   {
    "duration": 77,
    "start_time": "2024-01-10T11:59:32.688Z"
   },
   {
    "duration": 268,
    "start_time": "2024-01-10T11:59:32.767Z"
   },
   {
    "duration": 536,
    "start_time": "2024-01-10T11:59:33.037Z"
   },
   {
    "duration": 10,
    "start_time": "2024-01-10T11:59:33.575Z"
   },
   {
    "duration": 2393,
    "start_time": "2024-01-10T11:59:33.587Z"
   },
   {
    "duration": 128,
    "start_time": "2024-01-10T11:59:35.981Z"
   },
   {
    "duration": 0,
    "start_time": "2024-01-10T11:59:36.111Z"
   },
   {
    "duration": 0,
    "start_time": "2024-01-10T11:59:36.113Z"
   },
   {
    "duration": 0,
    "start_time": "2024-01-10T11:59:36.114Z"
   },
   {
    "duration": 306127,
    "start_time": "2024-01-10T11:59:48.275Z"
   },
   {
    "duration": 15376,
    "start_time": "2024-01-10T12:05:24.838Z"
   },
   {
    "duration": 7800,
    "start_time": "2024-01-10T12:05:40.268Z"
   },
   {
    "duration": 14,
    "start_time": "2024-01-10T12:05:48.070Z"
   },
   {
    "duration": 695,
    "start_time": "2024-01-10T12:05:48.085Z"
   },
   {
    "duration": 1289,
    "start_time": "2024-01-10T12:05:48.783Z"
   },
   {
    "duration": 1029,
    "start_time": "2024-01-10T12:05:50.074Z"
   },
   {
    "duration": 4,
    "start_time": "2024-01-10T12:05:51.105Z"
   },
   {
    "duration": 66,
    "start_time": "2024-01-10T12:05:51.111Z"
   },
   {
    "duration": 790,
    "start_time": "2024-01-10T12:05:51.179Z"
   },
   {
    "duration": 13,
    "start_time": "2024-01-10T12:05:51.971Z"
   },
   {
    "duration": 7,
    "start_time": "2024-01-10T12:05:51.985Z"
   },
   {
    "duration": 2104,
    "start_time": "2024-01-10T12:05:51.994Z"
   },
   {
    "duration": 469,
    "start_time": "2024-01-10T12:05:54.100Z"
   },
   {
    "duration": 732,
    "start_time": "2024-01-10T12:05:54.574Z"
   },
   {
    "duration": 92,
    "start_time": "2024-01-10T12:05:55.308Z"
   },
   {
    "duration": 2379,
    "start_time": "2024-01-10T12:05:55.466Z"
   },
   {
    "duration": 42,
    "start_time": "2024-01-10T12:05:57.846Z"
   },
   {
    "duration": 3544,
    "start_time": "2024-01-10T12:05:57.889Z"
   },
   {
    "duration": 957,
    "start_time": "2024-01-10T12:06:01.434Z"
   },
   {
    "duration": 3518,
    "start_time": "2024-01-10T12:06:02.393Z"
   },
   {
    "duration": 3,
    "start_time": "2024-01-10T12:06:05.912Z"
   },
   {
    "duration": 53,
    "start_time": "2024-01-10T12:06:05.917Z"
   },
   {
    "duration": 352,
    "start_time": "2024-01-10T12:06:05.972Z"
   },
   {
    "duration": 454,
    "start_time": "2024-01-10T12:06:06.326Z"
   },
   {
    "duration": 14,
    "start_time": "2024-01-10T12:06:06.782Z"
   },
   {
    "duration": 2399,
    "start_time": "2024-01-10T12:06:06.797Z"
   },
   {
    "duration": 138,
    "start_time": "2024-01-10T12:06:09.197Z"
   },
   {
    "duration": 0,
    "start_time": "2024-01-10T12:06:09.337Z"
   },
   {
    "duration": 0,
    "start_time": "2024-01-10T12:06:09.339Z"
   },
   {
    "duration": 0,
    "start_time": "2024-01-10T12:06:09.366Z"
   },
   {
    "duration": 17583,
    "start_time": "2024-01-10T12:08:19.419Z"
   },
   {
    "duration": 7987,
    "start_time": "2024-01-10T12:08:37.004Z"
   },
   {
    "duration": 75,
    "start_time": "2024-01-10T12:08:44.992Z"
   },
   {
    "duration": 800,
    "start_time": "2024-01-10T12:08:45.070Z"
   },
   {
    "duration": 1117,
    "start_time": "2024-01-10T12:08:45.872Z"
   },
   {
    "duration": 872,
    "start_time": "2024-01-10T12:08:46.990Z"
   },
   {
    "duration": 4,
    "start_time": "2024-01-10T12:08:47.867Z"
   },
   {
    "duration": 21,
    "start_time": "2024-01-10T12:08:47.873Z"
   },
   {
    "duration": 714,
    "start_time": "2024-01-10T12:08:47.895Z"
   },
   {
    "duration": 12,
    "start_time": "2024-01-10T12:08:48.668Z"
   },
   {
    "duration": 102,
    "start_time": "2024-01-10T12:08:48.682Z"
   },
   {
    "duration": 2283,
    "start_time": "2024-01-10T12:08:48.785Z"
   },
   {
    "duration": 411,
    "start_time": "2024-01-10T12:08:51.069Z"
   },
   {
    "duration": 599,
    "start_time": "2024-01-10T12:08:51.481Z"
   },
   {
    "duration": 105,
    "start_time": "2024-01-10T12:08:52.082Z"
   },
   {
    "duration": 2409,
    "start_time": "2024-01-10T12:08:52.189Z"
   },
   {
    "duration": 67,
    "start_time": "2024-01-10T12:08:54.600Z"
   },
   {
    "duration": 2774,
    "start_time": "2024-01-10T12:08:54.669Z"
   },
   {
    "duration": 949,
    "start_time": "2024-01-10T12:08:57.445Z"
   },
   {
    "duration": 2938,
    "start_time": "2024-01-10T12:08:58.396Z"
   },
   {
    "duration": 4,
    "start_time": "2024-01-10T12:09:01.336Z"
   },
   {
    "duration": 164,
    "start_time": "2024-01-10T12:09:01.341Z"
   },
   {
    "duration": 470,
    "start_time": "2024-01-10T12:09:01.507Z"
   },
   {
    "duration": 507,
    "start_time": "2024-01-10T12:09:01.979Z"
   },
   {
    "duration": 11,
    "start_time": "2024-01-10T12:09:02.487Z"
   },
   {
    "duration": 470,
    "start_time": "2024-01-10T12:09:02.500Z"
   },
   {
    "duration": 1909,
    "start_time": "2024-01-10T12:09:02.971Z"
   },
   {
    "duration": 141,
    "start_time": "2024-01-10T12:09:04.884Z"
   },
   {
    "duration": 0,
    "start_time": "2024-01-10T12:09:05.027Z"
   },
   {
    "duration": 0,
    "start_time": "2024-01-10T12:09:05.028Z"
   },
   {
    "duration": 0,
    "start_time": "2024-01-10T12:09:05.029Z"
   },
   {
    "duration": 15231,
    "start_time": "2024-01-10T12:17:56.475Z"
   },
   {
    "duration": 7691,
    "start_time": "2024-01-10T12:18:11.708Z"
   },
   {
    "duration": 76,
    "start_time": "2024-01-10T12:18:19.400Z"
   },
   {
    "duration": 621,
    "start_time": "2024-01-10T12:18:19.479Z"
   },
   {
    "duration": 1295,
    "start_time": "2024-01-10T12:18:20.102Z"
   },
   {
    "duration": 882,
    "start_time": "2024-01-10T12:18:21.399Z"
   },
   {
    "duration": 4,
    "start_time": "2024-01-10T12:18:22.283Z"
   },
   {
    "duration": 24,
    "start_time": "2024-01-10T12:18:22.288Z"
   },
   {
    "duration": 862,
    "start_time": "2024-01-10T12:18:22.314Z"
   },
   {
    "duration": 16,
    "start_time": "2024-01-10T12:18:23.179Z"
   },
   {
    "duration": 12,
    "start_time": "2024-01-10T12:18:23.196Z"
   },
   {
    "duration": 2118,
    "start_time": "2024-01-10T12:18:23.267Z"
   },
   {
    "duration": 396,
    "start_time": "2024-01-10T12:18:25.386Z"
   },
   {
    "duration": 827,
    "start_time": "2024-01-10T12:18:25.784Z"
   },
   {
    "duration": 88,
    "start_time": "2024-01-10T12:18:26.613Z"
   },
   {
    "duration": 2618,
    "start_time": "2024-01-10T12:18:26.703Z"
   },
   {
    "duration": 63,
    "start_time": "2024-01-10T12:18:29.323Z"
   },
   {
    "duration": 3044,
    "start_time": "2024-01-10T12:18:29.389Z"
   },
   {
    "duration": 1056,
    "start_time": "2024-01-10T12:18:32.435Z"
   },
   {
    "duration": 2830,
    "start_time": "2024-01-10T12:18:33.493Z"
   },
   {
    "duration": 3,
    "start_time": "2024-01-10T12:18:36.325Z"
   },
   {
    "duration": 71,
    "start_time": "2024-01-10T12:18:36.330Z"
   },
   {
    "duration": 474,
    "start_time": "2024-01-10T12:18:36.402Z"
   },
   {
    "duration": 498,
    "start_time": "2024-01-10T12:18:36.877Z"
   },
   {
    "duration": 14,
    "start_time": "2024-01-10T12:18:37.377Z"
   },
   {
    "duration": 327,
    "start_time": "2024-01-10T12:18:37.393Z"
   },
   {
    "duration": 2346,
    "start_time": "2024-01-10T12:18:37.722Z"
   },
   {
    "duration": 114,
    "start_time": "2024-01-10T12:18:40.073Z"
   },
   {
    "duration": 0,
    "start_time": "2024-01-10T12:18:40.188Z"
   },
   {
    "duration": 0,
    "start_time": "2024-01-10T12:18:40.189Z"
   },
   {
    "duration": 0,
    "start_time": "2024-01-10T12:18:40.190Z"
   },
   {
    "duration": 3123,
    "start_time": "2024-01-10T12:21:11.497Z"
   },
   {
    "duration": 7,
    "start_time": "2024-01-10T12:21:24.026Z"
   },
   {
    "duration": 531,
    "start_time": "2024-01-10T12:21:25.677Z"
   },
   {
    "duration": 3,
    "start_time": "2024-01-10T12:21:30.414Z"
   },
   {
    "duration": 182,
    "start_time": "2024-01-10T12:21:32.095Z"
   },
   {
    "duration": 573,
    "start_time": "2024-01-10T12:21:34.351Z"
   },
   {
    "duration": 326,
    "start_time": "2024-01-10T12:21:36.350Z"
   },
   {
    "duration": 5,
    "start_time": "2024-01-10T12:21:39.381Z"
   },
   {
    "duration": 2261,
    "start_time": "2024-01-10T12:21:45.367Z"
   },
   {
    "duration": 15461,
    "start_time": "2024-01-10T12:21:47.630Z"
   },
   {
    "duration": 7974,
    "start_time": "2024-01-10T12:22:03.093Z"
   },
   {
    "duration": 16,
    "start_time": "2024-01-10T12:22:11.069Z"
   },
   {
    "duration": 685,
    "start_time": "2024-01-10T12:22:11.088Z"
   },
   {
    "duration": 1199,
    "start_time": "2024-01-10T12:22:11.775Z"
   },
   {
    "duration": 934,
    "start_time": "2024-01-10T12:22:12.976Z"
   },
   {
    "duration": 3,
    "start_time": "2024-01-10T12:22:13.912Z"
   },
   {
    "duration": 52,
    "start_time": "2024-01-10T12:22:13.917Z"
   },
   {
    "duration": 821,
    "start_time": "2024-01-10T12:22:13.971Z"
   },
   {
    "duration": 77,
    "start_time": "2024-01-10T12:22:14.793Z"
   },
   {
    "duration": 4,
    "start_time": "2024-01-10T12:22:14.872Z"
   },
   {
    "duration": 2094,
    "start_time": "2024-01-10T12:22:14.878Z"
   },
   {
    "duration": 396,
    "start_time": "2024-01-10T12:22:16.976Z"
   },
   {
    "duration": 708,
    "start_time": "2024-01-10T12:22:17.374Z"
   },
   {
    "duration": 109,
    "start_time": "2024-01-10T12:22:18.084Z"
   },
   {
    "duration": 2431,
    "start_time": "2024-01-10T12:22:18.195Z"
   },
   {
    "duration": 57,
    "start_time": "2024-01-10T12:22:20.627Z"
   },
   {
    "duration": 2832,
    "start_time": "2024-01-10T12:22:20.685Z"
   },
   {
    "duration": 864,
    "start_time": "2024-01-10T12:22:23.519Z"
   },
   {
    "duration": 2978,
    "start_time": "2024-01-10T12:22:24.385Z"
   },
   {
    "duration": 4,
    "start_time": "2024-01-10T12:22:27.366Z"
   },
   {
    "duration": 88,
    "start_time": "2024-01-10T12:22:27.371Z"
   },
   {
    "duration": 423,
    "start_time": "2024-01-10T12:22:27.460Z"
   },
   {
    "duration": 508,
    "start_time": "2024-01-10T12:22:27.884Z"
   },
   {
    "duration": 73,
    "start_time": "2024-01-10T12:22:28.394Z"
   },
   {
    "duration": 330,
    "start_time": "2024-01-10T12:22:28.469Z"
   },
   {
    "duration": 2092,
    "start_time": "2024-01-10T12:22:28.801Z"
   },
   {
    "duration": 187,
    "start_time": "2024-01-10T12:22:30.895Z"
   },
   {
    "duration": 0,
    "start_time": "2024-01-10T12:22:31.084Z"
   },
   {
    "duration": 0,
    "start_time": "2024-01-10T12:22:31.085Z"
   },
   {
    "duration": 0,
    "start_time": "2024-01-10T12:22:31.086Z"
   },
   {
    "duration": 2316,
    "start_time": "2024-01-10T12:26:39.732Z"
   },
   {
    "duration": 15327,
    "start_time": "2024-01-10T12:26:42.050Z"
   },
   {
    "duration": 8408,
    "start_time": "2024-01-10T12:26:57.379Z"
   },
   {
    "duration": 77,
    "start_time": "2024-01-10T12:27:05.790Z"
   },
   {
    "duration": 616,
    "start_time": "2024-01-10T12:27:05.869Z"
   },
   {
    "duration": 1322,
    "start_time": "2024-01-10T12:27:06.487Z"
   },
   {
    "duration": 1087,
    "start_time": "2024-01-10T12:27:07.811Z"
   },
   {
    "duration": 4,
    "start_time": "2024-01-10T12:27:08.900Z"
   },
   {
    "duration": 80,
    "start_time": "2024-01-10T12:27:08.906Z"
   },
   {
    "duration": 1007,
    "start_time": "2024-01-10T12:27:08.989Z"
   },
   {
    "duration": 70,
    "start_time": "2024-01-10T12:27:09.998Z"
   },
   {
    "duration": 28,
    "start_time": "2024-01-10T12:27:10.070Z"
   },
   {
    "duration": 1978,
    "start_time": "2024-01-10T12:27:10.100Z"
   },
   {
    "duration": 447,
    "start_time": "2024-01-10T12:27:12.080Z"
   },
   {
    "duration": 704,
    "start_time": "2024-01-10T12:27:12.568Z"
   },
   {
    "duration": 96,
    "start_time": "2024-01-10T12:27:13.274Z"
   },
   {
    "duration": 2603,
    "start_time": "2024-01-10T12:27:13.372Z"
   },
   {
    "duration": 32,
    "start_time": "2024-01-10T12:27:15.977Z"
   },
   {
    "duration": 2823,
    "start_time": "2024-01-10T12:27:16.011Z"
   },
   {
    "duration": 1055,
    "start_time": "2024-01-10T12:27:18.836Z"
   },
   {
    "duration": 3049,
    "start_time": "2024-01-10T12:27:19.893Z"
   },
   {
    "duration": 3,
    "start_time": "2024-01-10T12:27:22.944Z"
   },
   {
    "duration": 63,
    "start_time": "2024-01-10T12:27:22.949Z"
   },
   {
    "duration": 362,
    "start_time": "2024-01-10T12:27:23.014Z"
   },
   {
    "duration": 496,
    "start_time": "2024-01-10T12:27:23.378Z"
   },
   {
    "duration": 23,
    "start_time": "2024-01-10T12:27:23.876Z"
   },
   {
    "duration": 366,
    "start_time": "2024-01-10T12:27:23.901Z"
   },
   {
    "duration": 1909,
    "start_time": "2024-01-10T12:27:24.270Z"
   },
   {
    "duration": 134,
    "start_time": "2024-01-10T12:27:26.181Z"
   },
   {
    "duration": 0,
    "start_time": "2024-01-10T12:27:26.317Z"
   },
   {
    "duration": 0,
    "start_time": "2024-01-10T12:27:26.318Z"
   },
   {
    "duration": 0,
    "start_time": "2024-01-10T12:27:26.319Z"
   },
   {
    "duration": 2283,
    "start_time": "2024-01-10T12:28:52.127Z"
   },
   {
    "duration": 14966,
    "start_time": "2024-01-10T12:28:54.412Z"
   },
   {
    "duration": 7498,
    "start_time": "2024-01-10T12:29:09.381Z"
   },
   {
    "duration": 15,
    "start_time": "2024-01-10T12:29:16.881Z"
   },
   {
    "duration": 675,
    "start_time": "2024-01-10T12:29:16.897Z"
   },
   {
    "duration": 1132,
    "start_time": "2024-01-10T12:29:17.574Z"
   },
   {
    "duration": 963,
    "start_time": "2024-01-10T12:29:18.707Z"
   },
   {
    "duration": 3,
    "start_time": "2024-01-10T12:29:19.672Z"
   },
   {
    "duration": 28,
    "start_time": "2024-01-10T12:29:19.676Z"
   },
   {
    "duration": 895,
    "start_time": "2024-01-10T12:29:19.705Z"
   },
   {
    "duration": 67,
    "start_time": "2024-01-10T12:29:20.602Z"
   },
   {
    "duration": 4,
    "start_time": "2024-01-10T12:29:20.670Z"
   },
   {
    "duration": 1898,
    "start_time": "2024-01-10T12:29:20.676Z"
   },
   {
    "duration": 405,
    "start_time": "2024-01-10T12:29:22.577Z"
   },
   {
    "duration": 685,
    "start_time": "2024-01-10T12:29:22.984Z"
   },
   {
    "duration": 102,
    "start_time": "2024-01-10T12:29:23.670Z"
   },
   {
    "duration": 2677,
    "start_time": "2024-01-10T12:29:23.773Z"
   },
   {
    "duration": 38,
    "start_time": "2024-01-10T12:29:26.452Z"
   },
   {
    "duration": 2982,
    "start_time": "2024-01-10T12:29:26.491Z"
   },
   {
    "duration": 992,
    "start_time": "2024-01-10T12:29:29.475Z"
   },
   {
    "duration": 2840,
    "start_time": "2024-01-10T12:29:30.469Z"
   },
   {
    "duration": 3,
    "start_time": "2024-01-10T12:29:33.311Z"
   },
   {
    "duration": 58,
    "start_time": "2024-01-10T12:29:33.316Z"
   },
   {
    "duration": 360,
    "start_time": "2024-01-10T12:29:33.375Z"
   },
   {
    "duration": 450,
    "start_time": "2024-01-10T12:29:33.736Z"
   },
   {
    "duration": 13,
    "start_time": "2024-01-10T12:29:34.188Z"
   },
   {
    "duration": 304,
    "start_time": "2024-01-10T12:29:34.266Z"
   },
   {
    "duration": 2310,
    "start_time": "2024-01-10T12:29:34.572Z"
   },
   {
    "duration": 139,
    "start_time": "2024-01-10T12:29:36.884Z"
   },
   {
    "duration": 0,
    "start_time": "2024-01-10T12:29:37.024Z"
   },
   {
    "duration": 0,
    "start_time": "2024-01-10T12:29:37.026Z"
   },
   {
    "duration": 0,
    "start_time": "2024-01-10T12:29:37.028Z"
   },
   {
    "duration": 2252,
    "start_time": "2024-01-10T12:33:09.684Z"
   },
   {
    "duration": 15451,
    "start_time": "2024-01-10T12:33:11.939Z"
   },
   {
    "duration": 7804,
    "start_time": "2024-01-10T12:33:27.392Z"
   },
   {
    "duration": 76,
    "start_time": "2024-01-10T12:33:35.198Z"
   },
   {
    "duration": 623,
    "start_time": "2024-01-10T12:33:35.275Z"
   },
   {
    "duration": 1299,
    "start_time": "2024-01-10T12:33:35.900Z"
   },
   {
    "duration": 1011,
    "start_time": "2024-01-10T12:33:37.200Z"
   },
   {
    "duration": 57,
    "start_time": "2024-01-10T12:33:38.213Z"
   },
   {
    "duration": 95,
    "start_time": "2024-01-10T12:33:38.272Z"
   },
   {
    "duration": 756,
    "start_time": "2024-01-10T12:33:38.370Z"
   },
   {
    "duration": 42,
    "start_time": "2024-01-10T12:33:39.127Z"
   },
   {
    "duration": 4,
    "start_time": "2024-01-10T12:33:39.170Z"
   },
   {
    "duration": 2108,
    "start_time": "2024-01-10T12:33:39.175Z"
   },
   {
    "duration": 398,
    "start_time": "2024-01-10T12:33:41.284Z"
   },
   {
    "duration": 701,
    "start_time": "2024-01-10T12:33:41.684Z"
   },
   {
    "duration": 102,
    "start_time": "2024-01-10T12:33:42.387Z"
   },
   {
    "duration": 2488,
    "start_time": "2024-01-10T12:33:42.491Z"
   },
   {
    "duration": 86,
    "start_time": "2024-01-10T12:33:44.981Z"
   },
   {
    "duration": 2902,
    "start_time": "2024-01-10T12:33:45.069Z"
   },
   {
    "duration": 911,
    "start_time": "2024-01-10T12:33:47.972Z"
   },
   {
    "duration": 2886,
    "start_time": "2024-01-10T12:33:48.885Z"
   },
   {
    "duration": 4,
    "start_time": "2024-01-10T12:33:51.773Z"
   },
   {
    "duration": 62,
    "start_time": "2024-01-10T12:33:51.778Z"
   },
   {
    "duration": 341,
    "start_time": "2024-01-10T12:33:51.842Z"
   },
   {
    "duration": 530,
    "start_time": "2024-01-10T12:33:52.184Z"
   },
   {
    "duration": 61,
    "start_time": "2024-01-10T12:33:52.716Z"
   },
   {
    "duration": 319,
    "start_time": "2024-01-10T12:33:52.779Z"
   },
   {
    "duration": 2099,
    "start_time": "2024-01-10T12:33:53.101Z"
   },
   {
    "duration": 132,
    "start_time": "2024-01-10T12:33:55.202Z"
   },
   {
    "duration": 0,
    "start_time": "2024-01-10T12:33:55.335Z"
   },
   {
    "duration": 0,
    "start_time": "2024-01-10T12:33:55.336Z"
   },
   {
    "duration": 0,
    "start_time": "2024-01-10T12:33:55.337Z"
   },
   {
    "duration": 221,
    "start_time": "2024-01-10T12:34:03.453Z"
   },
   {
    "duration": 4948,
    "start_time": "2024-01-10T12:52:08.811Z"
   },
   {
    "duration": 15647,
    "start_time": "2024-01-10T12:52:13.762Z"
   },
   {
    "duration": 8102,
    "start_time": "2024-01-10T12:52:29.411Z"
   },
   {
    "duration": 64,
    "start_time": "2024-01-10T12:52:37.514Z"
   },
   {
    "duration": 788,
    "start_time": "2024-01-10T12:52:37.580Z"
   },
   {
    "duration": 1161,
    "start_time": "2024-01-10T12:52:38.370Z"
   },
   {
    "duration": 1037,
    "start_time": "2024-01-10T12:52:39.533Z"
   },
   {
    "duration": 4,
    "start_time": "2024-01-10T12:52:40.571Z"
   },
   {
    "duration": 30,
    "start_time": "2024-01-10T12:52:40.576Z"
   },
   {
    "duration": 875,
    "start_time": "2024-01-10T12:52:40.608Z"
   },
   {
    "duration": 12,
    "start_time": "2024-01-10T12:52:41.484Z"
   },
   {
    "duration": 3,
    "start_time": "2024-01-10T12:52:41.498Z"
   },
   {
    "duration": 2126,
    "start_time": "2024-01-10T12:52:41.567Z"
   },
   {
    "duration": 488,
    "start_time": "2024-01-10T12:52:43.696Z"
   },
   {
    "duration": 620,
    "start_time": "2024-01-10T12:52:44.186Z"
   },
   {
    "duration": 1763,
    "start_time": "2024-01-10T12:52:44.808Z"
   },
   {
    "duration": 103,
    "start_time": "2024-01-10T12:52:46.572Z"
   },
   {
    "duration": 2066,
    "start_time": "2024-01-10T12:52:46.677Z"
   },
   {
    "duration": 1054,
    "start_time": "2024-01-10T12:52:48.744Z"
   },
   {
    "duration": 2731,
    "start_time": "2024-01-10T12:52:49.799Z"
   },
   {
    "duration": 4,
    "start_time": "2024-01-10T12:52:52.531Z"
   },
   {
    "duration": 216,
    "start_time": "2024-01-10T12:52:52.536Z"
   },
   {
    "duration": 0,
    "start_time": "2024-01-10T12:52:52.754Z"
   },
   {
    "duration": 0,
    "start_time": "2024-01-10T12:52:52.755Z"
   },
   {
    "duration": 0,
    "start_time": "2024-01-10T12:52:52.756Z"
   },
   {
    "duration": 0,
    "start_time": "2024-01-10T12:52:52.758Z"
   },
   {
    "duration": 0,
    "start_time": "2024-01-10T12:52:52.759Z"
   },
   {
    "duration": 0,
    "start_time": "2024-01-10T12:52:52.761Z"
   },
   {
    "duration": 0,
    "start_time": "2024-01-10T12:52:52.762Z"
   },
   {
    "duration": 0,
    "start_time": "2024-01-10T12:52:52.764Z"
   },
   {
    "duration": 0,
    "start_time": "2024-01-10T12:52:52.765Z"
   },
   {
    "duration": 27,
    "start_time": "2024-01-10T12:53:47.983Z"
   },
   {
    "duration": 305,
    "start_time": "2024-01-10T12:53:49.077Z"
   },
   {
    "duration": 360,
    "start_time": "2024-01-10T12:53:54.628Z"
   },
   {
    "duration": 13,
    "start_time": "2024-01-10T12:53:57.935Z"
   },
   {
    "duration": 366,
    "start_time": "2024-01-10T12:53:58.304Z"
   },
   {
    "duration": 2075,
    "start_time": "2024-01-10T12:54:00.899Z"
   },
   {
    "duration": 20075,
    "start_time": "2024-01-10T13:41:28.942Z"
   },
   {
    "duration": 8294,
    "start_time": "2024-01-10T13:41:49.020Z"
   },
   {
    "duration": 13,
    "start_time": "2024-01-10T13:41:57.316Z"
   },
   {
    "duration": 798,
    "start_time": "2024-01-10T13:41:57.332Z"
   },
   {
    "duration": 1302,
    "start_time": "2024-01-10T13:41:58.132Z"
   },
   {
    "duration": 1064,
    "start_time": "2024-01-10T13:41:59.435Z"
   },
   {
    "duration": 4,
    "start_time": "2024-01-10T13:42:00.501Z"
   },
   {
    "duration": 60,
    "start_time": "2024-01-10T13:42:00.507Z"
   },
   {
    "duration": 769,
    "start_time": "2024-01-10T13:42:00.569Z"
   },
   {
    "duration": 12,
    "start_time": "2024-01-10T13:42:01.342Z"
   },
   {
    "duration": 50,
    "start_time": "2024-01-10T13:42:01.356Z"
   },
   {
    "duration": 2005,
    "start_time": "2024-01-10T13:42:01.408Z"
   },
   {
    "duration": 491,
    "start_time": "2024-01-10T13:42:03.415Z"
   },
   {
    "duration": 616,
    "start_time": "2024-01-10T13:42:03.908Z"
   },
   {
    "duration": 103,
    "start_time": "2024-01-10T13:42:04.525Z"
   },
   {
    "duration": 2791,
    "start_time": "2024-01-10T13:42:04.629Z"
   },
   {
    "duration": 42,
    "start_time": "2024-01-10T13:42:07.422Z"
   },
   {
    "duration": 3145,
    "start_time": "2024-01-10T13:42:07.499Z"
   },
   {
    "duration": 1074,
    "start_time": "2024-01-10T13:42:10.646Z"
   },
   {
    "duration": 3009,
    "start_time": "2024-01-10T13:42:11.722Z"
   },
   {
    "duration": 5,
    "start_time": "2024-01-10T13:42:14.732Z"
   },
   {
    "duration": 62,
    "start_time": "2024-01-10T13:42:14.738Z"
   },
   {
    "duration": 404,
    "start_time": "2024-01-10T13:42:14.802Z"
   },
   {
    "duration": 620,
    "start_time": "2024-01-10T13:42:15.208Z"
   },
   {
    "duration": 77,
    "start_time": "2024-01-10T13:42:15.830Z"
   },
   {
    "duration": 360,
    "start_time": "2024-01-10T13:42:15.910Z"
   },
   {
    "duration": 2849,
    "start_time": "2024-01-10T13:42:16.271Z"
   },
   {
    "duration": 21183,
    "start_time": "2024-01-10T13:42:19.123Z"
   },
   {
    "duration": 649,
    "start_time": "2024-01-10T14:00:50.468Z"
   },
   {
    "duration": 14969,
    "start_time": "2024-01-10T14:00:51.119Z"
   },
   {
    "duration": 8078,
    "start_time": "2024-01-10T14:01:06.090Z"
   },
   {
    "duration": 15,
    "start_time": "2024-01-10T14:01:14.170Z"
   },
   {
    "duration": 686,
    "start_time": "2024-01-10T14:01:14.186Z"
   },
   {
    "duration": 3697,
    "start_time": "2024-01-10T14:01:14.873Z"
   },
   {
    "duration": 838,
    "start_time": "2024-01-10T14:01:18.572Z"
   },
   {
    "duration": 4,
    "start_time": "2024-01-10T14:01:19.467Z"
   },
   {
    "duration": 29,
    "start_time": "2024-01-10T14:01:19.472Z"
   },
   {
    "duration": 1175,
    "start_time": "2024-01-10T14:01:19.503Z"
   },
   {
    "duration": 24,
    "start_time": "2024-01-10T14:01:20.680Z"
   },
   {
    "duration": 3,
    "start_time": "2024-01-10T14:01:20.706Z"
   },
   {
    "duration": 1662,
    "start_time": "2024-01-10T14:01:20.711Z"
   },
   {
    "duration": 393,
    "start_time": "2024-01-10T14:01:22.375Z"
   },
   {
    "duration": 713,
    "start_time": "2024-01-10T14:01:22.769Z"
   },
   {
    "duration": 100,
    "start_time": "2024-01-10T14:01:23.484Z"
   },
   {
    "duration": 2311,
    "start_time": "2024-01-10T14:01:23.585Z"
   },
   {
    "duration": 186,
    "start_time": "2024-01-10T14:01:25.898Z"
   },
   {
    "duration": 2926,
    "start_time": "2024-01-10T14:01:26.086Z"
   },
   {
    "duration": 982,
    "start_time": "2024-01-10T14:01:29.013Z"
   },
   {
    "duration": 2999,
    "start_time": "2024-01-10T14:01:29.996Z"
   },
   {
    "duration": 4,
    "start_time": "2024-01-10T14:01:32.996Z"
   },
   {
    "duration": 103,
    "start_time": "2024-01-10T14:01:33.002Z"
   },
   {
    "duration": 360,
    "start_time": "2024-01-10T14:01:33.107Z"
   },
   {
    "duration": 417,
    "start_time": "2024-01-10T14:01:33.469Z"
   },
   {
    "duration": 12,
    "start_time": "2024-01-10T14:01:33.888Z"
   },
   {
    "duration": 312,
    "start_time": "2024-01-10T14:01:33.902Z"
   },
   {
    "duration": 2024,
    "start_time": "2024-01-10T14:01:34.270Z"
   },
   {
    "duration": 188,
    "start_time": "2024-01-10T14:01:36.297Z"
   },
   {
    "duration": 8,
    "start_time": "2024-01-10T14:01:48.116Z"
   },
   {
    "duration": 4,
    "start_time": "2024-01-10T14:02:35.578Z"
   },
   {
    "duration": 2695,
    "start_time": "2024-01-10T14:02:45.098Z"
   },
   {
    "duration": 117,
    "start_time": "2024-01-10T14:02:55.667Z"
   },
   {
    "duration": 617,
    "start_time": "2024-01-10T14:04:03.251Z"
   },
   {
    "duration": 815,
    "start_time": "2024-01-10T14:04:18.559Z"
   },
   {
    "duration": 519,
    "start_time": "2024-01-10T14:04:47.372Z"
   },
   {
    "duration": 538,
    "start_time": "2024-01-10T14:04:57.250Z"
   },
   {
    "duration": 580,
    "start_time": "2024-01-10T14:05:04.588Z"
   },
   {
    "duration": 1698,
    "start_time": "2024-01-10T14:05:32.792Z"
   },
   {
    "duration": 61,
    "start_time": "2024-01-10T17:24:52.975Z"
   },
   {
    "duration": 742,
    "start_time": "2024-01-10T17:24:57.146Z"
   },
   {
    "duration": 16306,
    "start_time": "2024-01-10T17:25:02.946Z"
   },
   {
    "duration": 9520,
    "start_time": "2024-01-10T17:25:23.303Z"
   },
   {
    "duration": 19,
    "start_time": "2024-01-10T17:25:36.472Z"
   },
   {
    "duration": 714,
    "start_time": "2024-01-10T17:25:38.929Z"
   },
   {
    "duration": 4573,
    "start_time": "2024-01-10T17:25:45.086Z"
   },
   {
    "duration": 47,
    "start_time": "2024-01-10T17:26:45.633Z"
   },
   {
    "duration": 1166,
    "start_time": "2024-01-10T17:27:07.881Z"
   },
   {
    "duration": 9,
    "start_time": "2024-01-10T17:28:52.245Z"
   },
   {
    "duration": 21,
    "start_time": "2024-01-10T17:29:02.475Z"
   },
   {
    "duration": 27,
    "start_time": "2024-01-10T17:29:28.487Z"
   },
   {
    "duration": 16,
    "start_time": "2024-01-10T17:29:33.773Z"
   },
   {
    "duration": 15,
    "start_time": "2024-01-10T17:29:41.259Z"
   },
   {
    "duration": 54,
    "start_time": "2024-01-10T17:31:41.897Z"
   },
   {
    "duration": 15,
    "start_time": "2024-01-10T17:31:48.349Z"
   },
   {
    "duration": 16,
    "start_time": "2024-01-10T17:31:55.703Z"
   },
   {
    "duration": 34,
    "start_time": "2024-01-10T17:31:58.942Z"
   },
   {
    "duration": 37,
    "start_time": "2024-01-10T17:32:07.294Z"
   },
   {
    "duration": 13,
    "start_time": "2024-01-10T17:32:28.367Z"
   },
   {
    "duration": 26,
    "start_time": "2024-01-10T17:32:32.569Z"
   },
   {
    "duration": 35,
    "start_time": "2024-01-10T17:32:37.342Z"
   },
   {
    "duration": 23,
    "start_time": "2024-01-10T17:32:41.124Z"
   },
   {
    "duration": 13,
    "start_time": "2024-01-10T17:32:56.441Z"
   },
   {
    "duration": 18,
    "start_time": "2024-01-10T17:37:16.200Z"
   },
   {
    "duration": 695,
    "start_time": "2024-01-10T17:37:22.328Z"
   },
   {
    "duration": 19,
    "start_time": "2024-01-10T17:37:37.018Z"
   },
   {
    "duration": 22,
    "start_time": "2024-01-10T17:37:51.241Z"
   },
   {
    "duration": 129,
    "start_time": "2024-01-10T17:38:04.269Z"
   },
   {
    "duration": 18,
    "start_time": "2024-01-10T17:38:16.277Z"
   },
   {
    "duration": 22,
    "start_time": "2024-01-10T17:38:18.611Z"
   },
   {
    "duration": 337,
    "start_time": "2024-01-10T17:38:25.385Z"
   },
   {
    "duration": 428,
    "start_time": "2024-01-10T17:38:34.019Z"
   },
   {
    "duration": 1543,
    "start_time": "2024-01-10T17:38:40.934Z"
   },
   {
    "duration": 1478,
    "start_time": "2024-01-10T17:38:45.674Z"
   },
   {
    "duration": 414,
    "start_time": "2024-01-10T17:38:53.430Z"
   },
   {
    "duration": 402,
    "start_time": "2024-01-10T17:39:30.030Z"
   },
   {
    "duration": 264,
    "start_time": "2024-01-10T17:39:41.464Z"
   },
   {
    "duration": 24,
    "start_time": "2024-01-10T17:39:47.511Z"
   },
   {
    "duration": 287,
    "start_time": "2024-01-10T17:39:58.920Z"
   },
   {
    "duration": 20,
    "start_time": "2024-01-10T17:41:02.441Z"
   },
   {
    "duration": 21,
    "start_time": "2024-01-10T17:41:05.458Z"
   },
   {
    "duration": 15,
    "start_time": "2024-01-10T17:41:12.292Z"
   },
   {
    "duration": 16,
    "start_time": "2024-01-10T17:41:19.787Z"
   },
   {
    "duration": 15,
    "start_time": "2024-01-10T17:41:29.116Z"
   },
   {
    "duration": 18,
    "start_time": "2024-01-10T17:41:34.039Z"
   },
   {
    "duration": 288,
    "start_time": "2024-01-10T17:44:50.248Z"
   },
   {
    "duration": 281,
    "start_time": "2024-01-10T17:44:58.572Z"
   },
   {
    "duration": 204,
    "start_time": "2024-01-10T17:45:12.993Z"
   },
   {
    "duration": 196,
    "start_time": "2024-01-10T17:45:15.842Z"
   },
   {
    "duration": 256,
    "start_time": "2024-01-10T17:45:18.571Z"
   },
   {
    "duration": 417,
    "start_time": "2024-01-10T17:45:27.950Z"
   },
   {
    "duration": 241,
    "start_time": "2024-01-10T17:45:32.282Z"
   },
   {
    "duration": 150,
    "start_time": "2024-01-10T17:45:35.090Z"
   },
   {
    "duration": 71,
    "start_time": "2024-01-10T17:48:41.565Z"
   },
   {
    "duration": 56,
    "start_time": "2024-01-10T17:48:45.750Z"
   },
   {
    "duration": 18,
    "start_time": "2024-01-10T17:50:25.628Z"
   },
   {
    "duration": 30,
    "start_time": "2024-01-10T17:51:33.326Z"
   },
   {
    "duration": 1542,
    "start_time": "2024-01-10T17:51:44.820Z"
   },
   {
    "duration": 9,
    "start_time": "2024-01-10T17:51:58.671Z"
   },
   {
    "duration": 758,
    "start_time": "2024-01-10T17:52:05.482Z"
   },
   {
    "duration": 713,
    "start_time": "2024-01-10T17:52:27.719Z"
   },
   {
    "duration": 497,
    "start_time": "2024-01-10T17:52:35.356Z"
   },
   {
    "duration": 599,
    "start_time": "2024-01-10T17:52:44.757Z"
   },
   {
    "duration": 1036,
    "start_time": "2024-01-10T17:52:50.046Z"
   },
   {
    "duration": 9,
    "start_time": "2024-01-10T17:53:29.865Z"
   },
   {
    "duration": 602,
    "start_time": "2024-01-10T17:53:47.662Z"
   },
   {
    "duration": 427,
    "start_time": "2024-01-10T17:53:49.661Z"
   },
   {
    "duration": 10,
    "start_time": "2024-01-10T17:53:50.090Z"
   },
   {
    "duration": 28,
    "start_time": "2024-01-10T18:00:27.890Z"
   },
   {
    "duration": 1529,
    "start_time": "2024-01-10T18:02:29.113Z"
   },
   {
    "duration": 392,
    "start_time": "2024-01-10T18:04:15.864Z"
   },
   {
    "duration": 1994,
    "start_time": "2024-01-10T18:05:28.358Z"
   },
   {
    "duration": 280,
    "start_time": "2024-01-10T18:05:42.492Z"
   },
   {
    "duration": 9,
    "start_time": "2024-01-10T18:05:59.305Z"
   },
   {
    "duration": 865,
    "start_time": "2024-01-10T18:06:13.864Z"
   },
   {
    "duration": 126,
    "start_time": "2024-01-10T18:06:18.882Z"
   },
   {
    "duration": 522,
    "start_time": "2024-01-10T18:07:03.137Z"
   },
   {
    "duration": 144,
    "start_time": "2024-01-10T18:07:29.616Z"
   },
   {
    "duration": 63,
    "start_time": "2024-01-10T18:08:12.272Z"
   },
   {
    "duration": 481,
    "start_time": "2024-01-10T18:08:12.908Z"
   },
   {
    "duration": 3043,
    "start_time": "2024-01-10T18:08:25.218Z"
   },
   {
    "duration": 404,
    "start_time": "2024-01-10T18:08:50.238Z"
   },
   {
    "duration": 224,
    "start_time": "2024-01-10T18:08:58.812Z"
   },
   {
    "duration": 46,
    "start_time": "2024-01-10T18:09:32.417Z"
   },
   {
    "duration": 3727,
    "start_time": "2024-01-10T18:09:36.923Z"
   },
   {
    "duration": 1844,
    "start_time": "2024-01-10T18:10:13.699Z"
   },
   {
    "duration": 3529,
    "start_time": "2024-01-10T18:10:17.216Z"
   },
   {
    "duration": 2871,
    "start_time": "2024-01-10T18:10:24.924Z"
   },
   {
    "duration": 4,
    "start_time": "2024-01-10T18:10:31.243Z"
   },
   {
    "duration": 40,
    "start_time": "2024-01-10T18:10:53.859Z"
   },
   {
    "duration": 334,
    "start_time": "2024-01-10T18:10:58.397Z"
   },
   {
    "duration": 386,
    "start_time": "2024-01-10T18:11:01.862Z"
   },
   {
    "duration": 12,
    "start_time": "2024-01-10T18:11:09.368Z"
   },
   {
    "duration": 270,
    "start_time": "2024-01-10T18:11:09.707Z"
   },
   {
    "duration": 2755,
    "start_time": "2024-01-10T18:11:15.605Z"
   },
   {
    "duration": 360,
    "start_time": "2024-01-10T18:11:24.684Z"
   },
   {
    "duration": 2664,
    "start_time": "2024-01-10T18:11:30.595Z"
   },
   {
    "duration": 10,
    "start_time": "2024-01-10T18:15:33.690Z"
   },
   {
    "duration": 18,
    "start_time": "2024-01-10T18:15:40.471Z"
   },
   {
    "duration": 10,
    "start_time": "2024-01-10T18:16:02.086Z"
   },
   {
    "duration": 40,
    "start_time": "2024-01-10T18:16:14.437Z"
   },
   {
    "duration": 11,
    "start_time": "2024-01-10T18:16:23.546Z"
   },
   {
    "duration": 245,
    "start_time": "2024-01-10T18:16:36.490Z"
   },
   {
    "duration": 31,
    "start_time": "2024-01-10T18:17:07.872Z"
   },
   {
    "duration": 132,
    "start_time": "2024-01-10T18:18:09.345Z"
   },
   {
    "duration": 1973,
    "start_time": "2024-01-10T18:18:50.589Z"
   },
   {
    "duration": 1309,
    "start_time": "2024-01-10T18:19:01.940Z"
   },
   {
    "duration": 1622,
    "start_time": "2024-01-10T18:19:04.812Z"
   },
   {
    "duration": 1241,
    "start_time": "2024-01-10T18:19:16.513Z"
   },
   {
    "duration": 1288,
    "start_time": "2024-01-10T18:19:19.452Z"
   },
   {
    "duration": 966,
    "start_time": "2024-01-10T18:19:23.882Z"
   },
   {
    "duration": 531,
    "start_time": "2024-01-10T18:20:23.440Z"
   },
   {
    "duration": 711,
    "start_time": "2024-01-10T18:21:29.437Z"
   },
   {
    "duration": 704,
    "start_time": "2024-01-10T18:21:46.976Z"
   },
   {
    "duration": 16042,
    "start_time": "2024-01-10T18:21:47.682Z"
   },
   {
    "duration": 9210,
    "start_time": "2024-01-10T18:22:03.726Z"
   },
   {
    "duration": 22,
    "start_time": "2024-01-10T18:22:12.939Z"
   },
   {
    "duration": 777,
    "start_time": "2024-01-10T18:22:12.964Z"
   },
   {
    "duration": 5305,
    "start_time": "2024-01-10T18:22:13.743Z"
   },
   {
    "duration": 901,
    "start_time": "2024-01-10T18:22:19.050Z"
   },
   {
    "duration": 5,
    "start_time": "2024-01-10T18:22:19.953Z"
   },
   {
    "duration": 2375,
    "start_time": "2024-01-10T18:22:19.960Z"
   },
   {
    "duration": 151,
    "start_time": "2024-01-10T18:22:22.338Z"
   },
   {
    "duration": 0,
    "start_time": "2024-01-10T18:22:22.491Z"
   },
   {
    "duration": 0,
    "start_time": "2024-01-10T18:22:22.492Z"
   },
   {
    "duration": 0,
    "start_time": "2024-01-10T18:22:22.493Z"
   },
   {
    "duration": 0,
    "start_time": "2024-01-10T18:22:22.495Z"
   },
   {
    "duration": 0,
    "start_time": "2024-01-10T18:22:22.496Z"
   },
   {
    "duration": 0,
    "start_time": "2024-01-10T18:22:22.497Z"
   },
   {
    "duration": 0,
    "start_time": "2024-01-10T18:22:22.498Z"
   },
   {
    "duration": 0,
    "start_time": "2024-01-10T18:22:22.522Z"
   },
   {
    "duration": 0,
    "start_time": "2024-01-10T18:22:22.524Z"
   },
   {
    "duration": 0,
    "start_time": "2024-01-10T18:22:22.525Z"
   },
   {
    "duration": 0,
    "start_time": "2024-01-10T18:22:22.526Z"
   },
   {
    "duration": 0,
    "start_time": "2024-01-10T18:22:22.527Z"
   },
   {
    "duration": 0,
    "start_time": "2024-01-10T18:22:22.528Z"
   },
   {
    "duration": 0,
    "start_time": "2024-01-10T18:22:22.529Z"
   },
   {
    "duration": 0,
    "start_time": "2024-01-10T18:22:22.531Z"
   },
   {
    "duration": 0,
    "start_time": "2024-01-10T18:22:22.532Z"
   },
   {
    "duration": 0,
    "start_time": "2024-01-10T18:22:22.533Z"
   },
   {
    "duration": 0,
    "start_time": "2024-01-10T18:22:22.534Z"
   },
   {
    "duration": 0,
    "start_time": "2024-01-10T18:22:22.535Z"
   },
   {
    "duration": 0,
    "start_time": "2024-01-10T18:22:22.536Z"
   },
   {
    "duration": 0,
    "start_time": "2024-01-10T18:22:22.537Z"
   },
   {
    "duration": 0,
    "start_time": "2024-01-10T18:22:22.538Z"
   },
   {
    "duration": 0,
    "start_time": "2024-01-10T18:22:22.539Z"
   },
   {
    "duration": 0,
    "start_time": "2024-01-10T18:22:22.541Z"
   },
   {
    "duration": 0,
    "start_time": "2024-01-10T18:22:22.542Z"
   },
   {
    "duration": 0,
    "start_time": "2024-01-10T18:22:22.543Z"
   },
   {
    "duration": 1268,
    "start_time": "2024-01-10T18:23:03.999Z"
   },
   {
    "duration": 748,
    "start_time": "2024-01-10T18:23:10.032Z"
   },
   {
    "duration": 15764,
    "start_time": "2024-01-10T18:23:10.783Z"
   },
   {
    "duration": 9406,
    "start_time": "2024-01-10T18:23:26.549Z"
   },
   {
    "duration": 74,
    "start_time": "2024-01-10T18:23:35.957Z"
   },
   {
    "duration": 694,
    "start_time": "2024-01-10T18:23:36.033Z"
   },
   {
    "duration": 4503,
    "start_time": "2024-01-10T18:23:36.729Z"
   },
   {
    "duration": 1325,
    "start_time": "2024-01-10T18:23:41.234Z"
   },
   {
    "duration": 5,
    "start_time": "2024-01-10T18:23:42.560Z"
   },
   {
    "duration": 2088,
    "start_time": "2024-01-10T18:23:42.566Z"
   },
   {
    "duration": 1098,
    "start_time": "2024-01-10T18:23:44.658Z"
   },
   {
    "duration": 72,
    "start_time": "2024-01-10T18:23:45.758Z"
   },
   {
    "duration": 4,
    "start_time": "2024-01-10T18:23:45.832Z"
   },
   {
    "duration": 1785,
    "start_time": "2024-01-10T18:23:45.838Z"
   },
   {
    "duration": 2097,
    "start_time": "2024-01-10T18:23:47.626Z"
   },
   {
    "duration": 309,
    "start_time": "2024-01-10T18:23:49.725Z"
   },
   {
    "duration": 227,
    "start_time": "2024-01-10T18:23:50.036Z"
   },
   {
    "duration": 818,
    "start_time": "2024-01-10T18:23:50.265Z"
   },
   {
    "duration": 151,
    "start_time": "2024-01-10T18:23:51.085Z"
   },
   {
    "duration": 709,
    "start_time": "2024-01-10T18:23:51.238Z"
   },
   {
    "duration": 123,
    "start_time": "2024-01-10T18:23:51.949Z"
   },
   {
    "duration": 3410,
    "start_time": "2024-01-10T18:23:52.123Z"
   },
   {
    "duration": 1789,
    "start_time": "2024-01-10T18:23:55.535Z"
   },
   {
    "duration": 3481,
    "start_time": "2024-01-10T18:23:57.326Z"
   },
   {
    "duration": 4,
    "start_time": "2024-01-10T18:24:00.809Z"
   },
   {
    "duration": 54,
    "start_time": "2024-01-10T18:24:00.822Z"
   },
   {
    "duration": 74,
    "start_time": "2024-01-10T18:24:00.878Z"
   },
   {
    "duration": 378,
    "start_time": "2024-01-10T18:24:00.954Z"
   },
   {
    "duration": 324,
    "start_time": "2024-01-10T18:24:01.335Z"
   },
   {
    "duration": 478,
    "start_time": "2024-01-10T18:24:01.661Z"
   },
   {
    "duration": 91,
    "start_time": "2024-01-10T18:24:02.140Z"
   },
   {
    "duration": 290,
    "start_time": "2024-01-10T18:24:02.233Z"
   },
   {
    "duration": 2726,
    "start_time": "2024-01-10T18:24:02.525Z"
   },
   {
    "duration": 1776,
    "start_time": "2024-01-10T18:24:05.253Z"
   },
   {
    "duration": 721,
    "start_time": "2024-01-10T18:24:07.031Z"
   },
   {
    "duration": 2075,
    "start_time": "2024-01-10T18:24:07.754Z"
   },
   {
    "duration": 1395,
    "start_time": "2024-01-10T18:24:09.831Z"
   },
   {
    "duration": 255,
    "start_time": "2024-01-10T18:24:48.664Z"
   },
   {
    "duration": 165,
    "start_time": "2024-01-10T18:25:08.436Z"
   },
   {
    "duration": 1307,
    "start_time": "2024-01-10T18:25:21.724Z"
   },
   {
    "duration": 252,
    "start_time": "2024-01-10T18:25:23.033Z"
   },
   {
    "duration": 739,
    "start_time": "2024-01-10T18:25:43.530Z"
   },
   {
    "duration": 16468,
    "start_time": "2024-01-10T18:25:44.271Z"
   },
   {
    "duration": 9412,
    "start_time": "2024-01-10T18:26:00.742Z"
   },
   {
    "duration": 82,
    "start_time": "2024-01-10T18:26:10.157Z"
   },
   {
    "duration": 983,
    "start_time": "2024-01-10T18:26:10.241Z"
   },
   {
    "duration": 4821,
    "start_time": "2024-01-10T18:26:11.227Z"
   },
   {
    "duration": 1227,
    "start_time": "2024-01-10T18:26:16.051Z"
   },
   {
    "duration": 4,
    "start_time": "2024-01-10T18:26:17.280Z"
   },
   {
    "duration": 2247,
    "start_time": "2024-01-10T18:26:17.286Z"
   },
   {
    "duration": 1027,
    "start_time": "2024-01-10T18:26:19.536Z"
   },
   {
    "duration": 14,
    "start_time": "2024-01-10T18:26:20.565Z"
   },
   {
    "duration": 41,
    "start_time": "2024-01-10T18:26:20.581Z"
   },
   {
    "duration": 1922,
    "start_time": "2024-01-10T18:26:20.625Z"
   },
   {
    "duration": 2276,
    "start_time": "2024-01-10T18:26:22.549Z"
   },
   {
    "duration": 333,
    "start_time": "2024-01-10T18:26:24.828Z"
   },
   {
    "duration": 260,
    "start_time": "2024-01-10T18:26:25.163Z"
   },
   {
    "duration": 798,
    "start_time": "2024-01-10T18:26:25.425Z"
   },
   {
    "duration": 113,
    "start_time": "2024-01-10T18:26:26.226Z"
   },
   {
    "duration": 413,
    "start_time": "2024-01-10T18:26:26.341Z"
   },
   {
    "duration": 187,
    "start_time": "2024-01-10T18:26:26.756Z"
   },
   {
    "duration": 4046,
    "start_time": "2024-01-10T18:26:26.944Z"
   },
   {
    "duration": 1955,
    "start_time": "2024-01-10T18:26:30.992Z"
   },
   {
    "duration": 3452,
    "start_time": "2024-01-10T18:26:32.949Z"
   },
   {
    "duration": 4,
    "start_time": "2024-01-10T18:26:36.403Z"
   },
   {
    "duration": 114,
    "start_time": "2024-01-10T18:26:36.409Z"
   },
   {
    "duration": 101,
    "start_time": "2024-01-10T18:26:36.525Z"
   },
   {
    "duration": 356,
    "start_time": "2024-01-10T18:26:36.627Z"
   },
   {
    "duration": 302,
    "start_time": "2024-01-10T18:26:37.021Z"
   },
   {
    "duration": 416,
    "start_time": "2024-01-10T18:26:37.326Z"
   },
   {
    "duration": 79,
    "start_time": "2024-01-10T18:26:37.744Z"
   },
   {
    "duration": 349,
    "start_time": "2024-01-10T18:26:37.825Z"
   },
   {
    "duration": 3845,
    "start_time": "2024-01-10T18:26:38.177Z"
   },
   {
    "duration": 2219,
    "start_time": "2024-01-10T18:26:42.024Z"
   },
   {
    "duration": 789,
    "start_time": "2024-01-10T18:26:44.245Z"
   },
   {
    "duration": 2587,
    "start_time": "2024-01-10T18:26:45.036Z"
   },
   {
    "duration": 332,
    "start_time": "2024-01-10T18:26:47.625Z"
   },
   {
    "duration": 1312,
    "start_time": "2024-01-10T18:27:27.242Z"
   },
   {
    "duration": 732,
    "start_time": "2024-01-10T18:28:30.643Z"
   },
   {
    "duration": 16447,
    "start_time": "2024-01-10T18:28:31.377Z"
   },
   {
    "duration": 9099,
    "start_time": "2024-01-10T18:28:47.827Z"
   },
   {
    "duration": 22,
    "start_time": "2024-01-10T18:28:56.928Z"
   },
   {
    "duration": 882,
    "start_time": "2024-01-10T18:28:56.953Z"
   },
   {
    "duration": 5093,
    "start_time": "2024-01-10T18:28:57.837Z"
   },
   {
    "duration": 1490,
    "start_time": "2024-01-10T18:29:02.932Z"
   },
   {
    "duration": 4,
    "start_time": "2024-01-10T18:29:04.425Z"
   },
   {
    "duration": 2202,
    "start_time": "2024-01-10T18:29:04.431Z"
   },
   {
    "duration": 1112,
    "start_time": "2024-01-10T18:29:06.635Z"
   },
   {
    "duration": 12,
    "start_time": "2024-01-10T18:29:07.749Z"
   },
   {
    "duration": 4,
    "start_time": "2024-01-10T18:29:07.763Z"
   },
   {
    "duration": 1582,
    "start_time": "2024-01-10T18:29:07.769Z"
   },
   {
    "duration": 1584,
    "start_time": "2024-01-10T18:29:09.354Z"
   },
   {
    "duration": 499,
    "start_time": "2024-01-10T18:29:10.940Z"
   },
   {
    "duration": 3,
    "start_time": "2024-01-10T18:29:11.440Z"
   },
   {
    "duration": 588,
    "start_time": "2024-01-10T18:29:11.445Z"
   },
   {
    "duration": 109,
    "start_time": "2024-01-10T18:29:12.035Z"
   },
   {
    "duration": 502,
    "start_time": "2024-01-10T18:29:12.147Z"
   },
   {
    "duration": 93,
    "start_time": "2024-01-10T18:29:12.651Z"
   },
   {
    "duration": 4135,
    "start_time": "2024-01-10T18:29:12.746Z"
   },
   {
    "duration": 1171,
    "start_time": "2024-01-10T18:29:16.882Z"
   },
   {
    "duration": 3957,
    "start_time": "2024-01-10T18:29:18.055Z"
   },
   {
    "duration": 10,
    "start_time": "2024-01-10T18:29:22.014Z"
   },
   {
    "duration": 32,
    "start_time": "2024-01-10T18:29:22.026Z"
   },
   {
    "duration": 85,
    "start_time": "2024-01-10T18:29:22.060Z"
   },
   {
    "duration": 389,
    "start_time": "2024-01-10T18:29:22.147Z"
   },
   {
    "duration": 232,
    "start_time": "2024-01-10T18:29:22.538Z"
   },
   {
    "duration": 599,
    "start_time": "2024-01-10T18:29:22.823Z"
   },
   {
    "duration": 22,
    "start_time": "2024-01-10T18:29:23.424Z"
   },
   {
    "duration": 381,
    "start_time": "2024-01-10T18:29:23.448Z"
   },
   {
    "duration": 3098,
    "start_time": "2024-01-10T18:29:23.831Z"
   },
   {
    "duration": 2496,
    "start_time": "2024-01-10T18:29:26.931Z"
   },
   {
    "duration": 320,
    "start_time": "2024-01-10T18:29:29.429Z"
   },
   {
    "duration": 0,
    "start_time": "2024-01-10T18:29:29.751Z"
   },
   {
    "duration": 0,
    "start_time": "2024-01-10T18:29:29.753Z"
   },
   {
    "duration": 146,
    "start_time": "2024-01-10T18:30:27.288Z"
   },
   {
    "duration": 769,
    "start_time": "2024-01-10T18:31:02.706Z"
   },
   {
    "duration": 16474,
    "start_time": "2024-01-10T18:31:03.477Z"
   },
   {
    "duration": 9880,
    "start_time": "2024-01-10T18:31:19.954Z"
   },
   {
    "duration": 18,
    "start_time": "2024-01-10T18:31:29.836Z"
   },
   {
    "duration": 819,
    "start_time": "2024-01-10T18:31:29.922Z"
   },
   {
    "duration": 4821,
    "start_time": "2024-01-10T18:31:30.743Z"
   },
   {
    "duration": 984,
    "start_time": "2024-01-10T18:31:35.567Z"
   },
   {
    "duration": 4,
    "start_time": "2024-01-10T18:31:36.552Z"
   },
   {
    "duration": 2676,
    "start_time": "2024-01-10T18:31:36.558Z"
   },
   {
    "duration": 1130,
    "start_time": "2024-01-10T18:31:39.236Z"
   },
   {
    "duration": 13,
    "start_time": "2024-01-10T18:31:40.368Z"
   },
   {
    "duration": 41,
    "start_time": "2024-01-10T18:31:40.383Z"
   },
   {
    "duration": 2119,
    "start_time": "2024-01-10T18:31:40.426Z"
   },
   {
    "duration": 2092,
    "start_time": "2024-01-10T18:31:42.549Z"
   },
   {
    "duration": 391,
    "start_time": "2024-01-10T18:31:44.643Z"
   },
   {
    "duration": 222,
    "start_time": "2024-01-10T18:31:45.036Z"
   },
   {
    "duration": 777,
    "start_time": "2024-01-10T18:31:45.260Z"
   },
   {
    "duration": 186,
    "start_time": "2024-01-10T18:31:46.039Z"
   },
   {
    "duration": 427,
    "start_time": "2024-01-10T18:31:46.227Z"
   },
   {
    "duration": 128,
    "start_time": "2024-01-10T18:31:46.722Z"
   },
   {
    "duration": 3840,
    "start_time": "2024-01-10T18:31:46.853Z"
   },
   {
    "duration": 2162,
    "start_time": "2024-01-10T18:31:50.695Z"
   },
   {
    "duration": 3732,
    "start_time": "2024-01-10T18:31:52.923Z"
   },
   {
    "duration": 4,
    "start_time": "2024-01-10T18:31:56.658Z"
   },
   {
    "duration": 78,
    "start_time": "2024-01-10T18:31:56.664Z"
   },
   {
    "duration": 177,
    "start_time": "2024-01-10T18:31:56.745Z"
   },
   {
    "duration": 398,
    "start_time": "2024-01-10T18:31:56.924Z"
   },
   {
    "duration": 307,
    "start_time": "2024-01-10T18:31:57.325Z"
   },
   {
    "duration": 500,
    "start_time": "2024-01-10T18:31:57.635Z"
   },
   {
    "duration": 22,
    "start_time": "2024-01-10T18:31:58.137Z"
   },
   {
    "duration": 308,
    "start_time": "2024-01-10T18:31:58.222Z"
   },
   {
    "duration": 3094,
    "start_time": "2024-01-10T18:31:58.532Z"
   },
   {
    "duration": 2196,
    "start_time": "2024-01-10T18:32:01.629Z"
   },
   {
    "duration": 733,
    "start_time": "2024-01-10T18:32:03.827Z"
   },
   {
    "duration": 2678,
    "start_time": "2024-01-10T18:32:04.562Z"
   },
   {
    "duration": 1511,
    "start_time": "2024-01-10T18:32:07.242Z"
   },
   {
    "duration": 1201,
    "start_time": "2024-01-10T18:32:57.926Z"
   },
   {
    "duration": 617,
    "start_time": "2024-01-11T16:49:28.361Z"
   },
   {
    "duration": 14504,
    "start_time": "2024-01-11T16:49:28.979Z"
   },
   {
    "duration": 7569,
    "start_time": "2024-01-11T16:49:43.485Z"
   },
   {
    "duration": 13,
    "start_time": "2024-01-11T16:49:51.056Z"
   },
   {
    "duration": 675,
    "start_time": "2024-01-11T16:49:51.071Z"
   },
   {
    "duration": 3936,
    "start_time": "2024-01-11T16:49:51.748Z"
   },
   {
    "duration": 838,
    "start_time": "2024-01-11T16:49:55.745Z"
   },
   {
    "duration": 4,
    "start_time": "2024-01-11T16:49:56.585Z"
   },
   {
    "duration": 1763,
    "start_time": "2024-01-11T16:49:56.591Z"
   },
   {
    "duration": 909,
    "start_time": "2024-01-11T16:49:58.356Z"
   },
   {
    "duration": 10,
    "start_time": "2024-01-11T16:49:59.266Z"
   },
   {
    "duration": 4,
    "start_time": "2024-01-11T16:49:59.278Z"
   },
   {
    "duration": 1477,
    "start_time": "2024-01-11T16:49:59.284Z"
   },
   {
    "duration": 1782,
    "start_time": "2024-01-11T16:50:00.763Z"
   },
   {
    "duration": 304,
    "start_time": "2024-01-11T16:50:02.547Z"
   },
   {
    "duration": 329,
    "start_time": "2024-01-11T16:50:02.853Z"
   },
   {
    "duration": 672,
    "start_time": "2024-01-11T16:50:03.183Z"
   },
   {
    "duration": 108,
    "start_time": "2024-01-11T16:50:03.857Z"
   },
   {
    "duration": 598,
    "start_time": "2024-01-11T16:50:03.967Z"
   },
   {
    "duration": 115,
    "start_time": "2024-01-11T16:50:04.567Z"
   },
   {
    "duration": 3201,
    "start_time": "2024-01-11T16:50:04.684Z"
   },
   {
    "duration": 1462,
    "start_time": "2024-01-11T16:50:07.886Z"
   },
   {
    "duration": 2751,
    "start_time": "2024-01-11T16:50:09.349Z"
   },
   {
    "duration": 4,
    "start_time": "2024-01-11T16:50:12.101Z"
   },
   {
    "duration": 52,
    "start_time": "2024-01-11T16:50:12.106Z"
   },
   {
    "duration": 100,
    "start_time": "2024-01-11T16:50:12.160Z"
   },
   {
    "duration": 363,
    "start_time": "2024-01-11T16:50:12.262Z"
   },
   {
    "duration": 245,
    "start_time": "2024-01-11T16:50:12.644Z"
   },
   {
    "duration": 467,
    "start_time": "2024-01-11T16:50:12.890Z"
   },
   {
    "duration": 19,
    "start_time": "2024-01-11T16:50:13.359Z"
   },
   {
    "duration": 331,
    "start_time": "2024-01-11T16:50:13.379Z"
   },
   {
    "duration": 2352,
    "start_time": "2024-01-11T16:50:13.712Z"
   },
   {
    "duration": 1707,
    "start_time": "2024-01-11T16:50:16.066Z"
   },
   {
    "duration": 679,
    "start_time": "2024-01-11T16:50:17.774Z"
   },
   {
    "duration": 1917,
    "start_time": "2024-01-11T16:50:18.454Z"
   },
   {
    "duration": 1383,
    "start_time": "2024-01-11T16:50:20.373Z"
   },
   {
    "duration": 665,
    "start_time": "2024-01-11T16:58:54.991Z"
   },
   {
    "duration": 14590,
    "start_time": "2024-01-11T16:58:55.658Z"
   },
   {
    "duration": 7637,
    "start_time": "2024-01-11T16:59:10.249Z"
   },
   {
    "duration": 15,
    "start_time": "2024-01-11T16:59:17.944Z"
   },
   {
    "duration": 703,
    "start_time": "2024-01-11T16:59:17.961Z"
   },
   {
    "duration": 4023,
    "start_time": "2024-01-11T16:59:18.665Z"
   },
   {
    "duration": 995,
    "start_time": "2024-01-11T16:59:22.690Z"
   },
   {
    "duration": 3,
    "start_time": "2024-01-11T16:59:23.687Z"
   },
   {
    "duration": 1696,
    "start_time": "2024-01-11T16:59:23.692Z"
   },
   {
    "duration": 781,
    "start_time": "2024-01-11T16:59:25.390Z"
   },
   {
    "duration": 10,
    "start_time": "2024-01-11T16:59:26.173Z"
   },
   {
    "duration": 12,
    "start_time": "2024-01-11T16:59:26.185Z"
   },
   {
    "duration": 1270,
    "start_time": "2024-01-11T16:59:26.198Z"
   },
   {
    "duration": 1496,
    "start_time": "2024-01-11T16:59:27.469Z"
   },
   {
    "duration": 391,
    "start_time": "2024-01-11T16:59:28.966Z"
   },
   {
    "duration": 317,
    "start_time": "2024-01-11T16:59:29.358Z"
   },
   {
    "duration": 778,
    "start_time": "2024-01-11T16:59:29.677Z"
   },
   {
    "duration": 105,
    "start_time": "2024-01-11T16:59:30.457Z"
   },
   {
    "duration": 383,
    "start_time": "2024-01-11T16:59:30.563Z"
   },
   {
    "duration": 109,
    "start_time": "2024-01-11T16:59:30.947Z"
   },
   {
    "duration": 3651,
    "start_time": "2024-01-11T16:59:31.057Z"
   },
   {
    "duration": 1456,
    "start_time": "2024-01-11T16:59:34.710Z"
   },
   {
    "duration": 2755,
    "start_time": "2024-01-11T16:59:36.168Z"
   },
   {
    "duration": 3,
    "start_time": "2024-01-11T16:59:38.925Z"
   },
   {
    "duration": 56,
    "start_time": "2024-01-11T16:59:38.929Z"
   },
   {
    "duration": 76,
    "start_time": "2024-01-11T16:59:38.987Z"
   },
   {
    "duration": 341,
    "start_time": "2024-01-11T16:59:39.065Z"
   },
   {
    "duration": 229,
    "start_time": "2024-01-11T16:59:39.445Z"
   },
   {
    "duration": 384,
    "start_time": "2024-01-11T16:59:39.676Z"
   },
   {
    "duration": 17,
    "start_time": "2024-01-11T16:59:40.061Z"
   },
   {
    "duration": 372,
    "start_time": "2024-01-11T16:59:40.079Z"
   },
   {
    "duration": 2824,
    "start_time": "2024-01-11T16:59:40.453Z"
   },
   {
    "duration": 1618,
    "start_time": "2024-01-11T16:59:43.344Z"
   },
   {
    "duration": 636,
    "start_time": "2024-01-11T16:59:44.964Z"
   },
   {
    "duration": 1767,
    "start_time": "2024-01-11T16:59:45.602Z"
   },
   {
    "duration": 1095,
    "start_time": "2024-01-11T16:59:47.370Z"
   },
   {
    "duration": 921,
    "start_time": "2024-01-11T17:01:02.039Z"
   },
   {
    "duration": 409,
    "start_time": "2024-01-11T17:04:56.775Z"
   },
   {
    "duration": 76,
    "start_time": "2024-01-11T17:08:06.978Z"
   },
   {
    "duration": 219,
    "start_time": "2024-01-11T17:14:14.968Z"
   },
   {
    "duration": 2783,
    "start_time": "2024-01-11T18:24:44.556Z"
   },
   {
    "duration": 38284,
    "start_time": "2024-01-11T18:24:47.341Z"
   },
   {
    "duration": 34795,
    "start_time": "2024-01-11T18:25:25.630Z"
   },
   {
    "duration": 104,
    "start_time": "2024-01-11T18:26:00.428Z"
   },
   {
    "duration": 2204,
    "start_time": "2024-01-11T18:26:00.625Z"
   },
   {
    "duration": 13909,
    "start_time": "2024-01-11T18:26:02.831Z"
   },
   {
    "duration": 2802,
    "start_time": "2024-01-11T18:26:16.824Z"
   },
   {
    "duration": 6,
    "start_time": "2024-01-11T18:26:19.628Z"
   },
   {
    "duration": 7906,
    "start_time": "2024-01-11T18:26:19.636Z"
   },
   {
    "duration": 4101,
    "start_time": "2024-01-11T18:26:27.625Z"
   },
   {
    "duration": 97,
    "start_time": "2024-01-11T18:26:31.729Z"
   },
   {
    "duration": 95,
    "start_time": "2024-01-11T18:26:31.828Z"
   },
   {
    "duration": 6010,
    "start_time": "2024-01-11T18:26:31.926Z"
   },
   {
    "duration": 6499,
    "start_time": "2024-01-11T18:26:38.024Z"
   },
   {
    "duration": 1213,
    "start_time": "2024-01-11T18:26:44.525Z"
   },
   {
    "duration": 510,
    "start_time": "2024-01-11T18:26:45.823Z"
   },
   {
    "duration": 2890,
    "start_time": "2024-01-11T18:26:46.335Z"
   },
   {
    "duration": 597,
    "start_time": "2024-01-11T18:26:49.227Z"
   },
   {
    "duration": 1400,
    "start_time": "2024-01-11T18:26:49.826Z"
   },
   {
    "duration": 509,
    "start_time": "2024-01-11T18:26:51.228Z"
   },
   {
    "duration": 1399,
    "start_time": "2024-01-11T18:26:51.738Z"
   },
   {
    "duration": 6410,
    "start_time": "2024-01-11T18:26:53.223Z"
   },
   {
    "duration": 1398,
    "start_time": "2024-01-11T18:26:59.636Z"
   },
   {
    "duration": 98,
    "start_time": "2024-01-11T18:27:01.036Z"
   },
   {
    "duration": 286,
    "start_time": "2024-01-11T18:27:01.137Z"
   },
   {
    "duration": 298,
    "start_time": "2024-01-11T18:27:01.425Z"
   },
   {
    "duration": 912,
    "start_time": "2024-01-11T18:27:01.725Z"
   },
   {
    "duration": 709,
    "start_time": "2024-01-11T18:27:02.723Z"
   },
   {
    "duration": 1496,
    "start_time": "2024-01-11T18:27:03.434Z"
   },
   {
    "duration": 290,
    "start_time": "2024-01-11T18:27:04.932Z"
   },
   {
    "duration": 808,
    "start_time": "2024-01-11T18:27:05.224Z"
   },
   {
    "duration": 804,
    "start_time": "2024-01-11T18:27:06.034Z"
   },
   {
    "duration": 800,
    "start_time": "2024-01-11T18:27:38.531Z"
   },
   {
    "duration": 1409,
    "start_time": "2024-01-11T18:28:43.024Z"
   },
   {
    "duration": 45,
    "start_time": "2024-01-12T17:07:17.097Z"
   },
   {
    "duration": 754,
    "start_time": "2024-01-12T17:07:22.356Z"
   },
   {
    "duration": 14867,
    "start_time": "2024-01-12T17:07:24.340Z"
   },
   {
    "duration": 8086,
    "start_time": "2024-01-12T17:07:39.209Z"
   },
   {
    "duration": 74,
    "start_time": "2024-01-12T17:07:47.296Z"
   },
   {
    "duration": 1009,
    "start_time": "2024-01-12T17:07:47.372Z"
   },
   {
    "duration": 64,
    "start_time": "2024-01-12T17:08:02.363Z"
   },
   {
    "duration": 7,
    "start_time": "2024-01-12T17:08:09.127Z"
   },
   {
    "duration": 5,
    "start_time": "2024-01-12T17:08:13.526Z"
   },
   {
    "duration": 7,
    "start_time": "2024-01-12T17:08:31.135Z"
   },
   {
    "duration": 7,
    "start_time": "2024-01-12T17:08:33.703Z"
   },
   {
    "duration": 358,
    "start_time": "2024-01-12T17:08:51.322Z"
   },
   {
    "duration": 18,
    "start_time": "2024-01-12T17:09:04.879Z"
   },
   {
    "duration": 346,
    "start_time": "2024-01-12T17:09:38.737Z"
   },
   {
    "duration": 7,
    "start_time": "2024-01-12T17:10:08.076Z"
   },
   {
    "duration": 7,
    "start_time": "2024-01-12T17:10:18.612Z"
   },
   {
    "duration": 2717,
    "start_time": "2024-01-12T17:10:30.164Z"
   },
   {
    "duration": 3317,
    "start_time": "2024-01-12T17:15:25.788Z"
   },
   {
    "duration": 30,
    "start_time": "2024-01-12T17:17:38.476Z"
   },
   {
    "duration": 8,
    "start_time": "2024-01-12T17:17:41.867Z"
   },
   {
    "duration": 1490,
    "start_time": "2024-01-12T17:17:47.277Z"
   },
   {
    "duration": 1454,
    "start_time": "2024-01-12T17:17:50.626Z"
   },
   {
    "duration": 1423,
    "start_time": "2024-01-12T17:18:05.052Z"
   },
   {
    "duration": 74,
    "start_time": "2024-01-12T17:19:23.621Z"
   },
   {
    "duration": 1299,
    "start_time": "2024-01-12T17:20:04.272Z"
   },
   {
    "duration": 131,
    "start_time": "2024-01-12T17:20:30.202Z"
   },
   {
    "duration": 498,
    "start_time": "2024-01-12T17:21:30.408Z"
   },
   {
    "duration": 722,
    "start_time": "2024-01-12T17:21:41.388Z"
   },
   {
    "duration": 14968,
    "start_time": "2024-01-12T17:21:42.112Z"
   },
   {
    "duration": 8311,
    "start_time": "2024-01-12T17:21:57.082Z"
   },
   {
    "duration": 71,
    "start_time": "2024-01-12T17:22:05.395Z"
   },
   {
    "duration": 699,
    "start_time": "2024-01-12T17:22:05.468Z"
   },
   {
    "duration": 4000,
    "start_time": "2024-01-12T17:22:06.169Z"
   },
   {
    "duration": 4,
    "start_time": "2024-01-12T17:22:10.170Z"
   },
   {
    "duration": 1609,
    "start_time": "2024-01-12T17:22:10.175Z"
   },
   {
    "duration": 2114,
    "start_time": "2024-01-12T17:22:11.786Z"
   },
   {
    "duration": 1379,
    "start_time": "2024-01-12T17:22:13.902Z"
   },
   {
    "duration": 124,
    "start_time": "2024-01-12T17:22:15.282Z"
   },
   {
    "duration": 0,
    "start_time": "2024-01-12T17:22:15.409Z"
   },
   {
    "duration": 0,
    "start_time": "2024-01-12T17:22:15.410Z"
   },
   {
    "duration": 0,
    "start_time": "2024-01-12T17:22:15.411Z"
   },
   {
    "duration": 0,
    "start_time": "2024-01-12T17:22:15.413Z"
   },
   {
    "duration": 1,
    "start_time": "2024-01-12T17:22:15.413Z"
   },
   {
    "duration": 0,
    "start_time": "2024-01-12T17:22:15.414Z"
   },
   {
    "duration": 0,
    "start_time": "2024-01-12T17:22:15.415Z"
   },
   {
    "duration": 0,
    "start_time": "2024-01-12T17:22:15.416Z"
   },
   {
    "duration": 0,
    "start_time": "2024-01-12T17:22:15.417Z"
   },
   {
    "duration": 0,
    "start_time": "2024-01-12T17:22:15.418Z"
   },
   {
    "duration": 0,
    "start_time": "2024-01-12T17:22:15.419Z"
   },
   {
    "duration": 0,
    "start_time": "2024-01-12T17:22:15.420Z"
   },
   {
    "duration": 0,
    "start_time": "2024-01-12T17:22:15.423Z"
   },
   {
    "duration": 0,
    "start_time": "2024-01-12T17:22:15.424Z"
   },
   {
    "duration": 0,
    "start_time": "2024-01-12T17:22:15.425Z"
   },
   {
    "duration": 0,
    "start_time": "2024-01-12T17:22:15.426Z"
   },
   {
    "duration": 0,
    "start_time": "2024-01-12T17:22:15.427Z"
   },
   {
    "duration": 0,
    "start_time": "2024-01-12T17:22:15.466Z"
   },
   {
    "duration": 0,
    "start_time": "2024-01-12T17:22:15.466Z"
   },
   {
    "duration": 0,
    "start_time": "2024-01-12T17:22:15.468Z"
   },
   {
    "duration": 0,
    "start_time": "2024-01-12T17:22:15.469Z"
   },
   {
    "duration": 0,
    "start_time": "2024-01-12T17:22:15.470Z"
   },
   {
    "duration": 0,
    "start_time": "2024-01-12T17:22:15.471Z"
   },
   {
    "duration": 0,
    "start_time": "2024-01-12T17:22:15.472Z"
   },
   {
    "duration": 0,
    "start_time": "2024-01-12T17:22:15.473Z"
   },
   {
    "duration": 0,
    "start_time": "2024-01-12T17:22:15.474Z"
   },
   {
    "duration": 12,
    "start_time": "2024-01-12T17:23:10.659Z"
   },
   {
    "duration": 3,
    "start_time": "2024-01-12T17:23:14.488Z"
   },
   {
    "duration": 1788,
    "start_time": "2024-01-12T17:23:18.003Z"
   },
   {
    "duration": 394,
    "start_time": "2024-01-12T17:23:29.280Z"
   },
   {
    "duration": 396,
    "start_time": "2024-01-12T17:23:29.676Z"
   },
   {
    "duration": 714,
    "start_time": "2024-01-12T17:23:32.355Z"
   },
   {
    "duration": 57,
    "start_time": "2024-01-12T17:23:34.131Z"
   },
   {
    "duration": 522,
    "start_time": "2024-01-12T17:23:34.353Z"
   },
   {
    "duration": 102,
    "start_time": "2024-01-12T17:23:34.877Z"
   },
   {
    "duration": 501,
    "start_time": "2024-01-12T17:23:34.981Z"
   },
   {
    "duration": 1612,
    "start_time": "2024-01-12T17:23:35.485Z"
   },
   {
    "duration": 584,
    "start_time": "2024-01-12T17:23:37.098Z"
   },
   {
    "duration": 7,
    "start_time": "2024-01-12T17:23:37.684Z"
   },
   {
    "duration": 173,
    "start_time": "2024-01-12T17:23:37.692Z"
   },
   {
    "duration": 110,
    "start_time": "2024-01-12T17:23:37.867Z"
   },
   {
    "duration": 389,
    "start_time": "2024-01-12T17:23:37.979Z"
   },
   {
    "duration": 396,
    "start_time": "2024-01-12T17:23:38.370Z"
   },
   {
    "duration": 615,
    "start_time": "2024-01-12T17:23:38.769Z"
   },
   {
    "duration": 39,
    "start_time": "2024-01-12T17:23:42.803Z"
   },
   {
    "duration": 447,
    "start_time": "2024-01-12T17:23:43.960Z"
   },
   {
    "duration": 361,
    "start_time": "2024-01-12T17:23:44.513Z"
   },
   {
    "duration": 2851,
    "start_time": "2024-01-12T17:23:48.428Z"
   },
   {
    "duration": 1846,
    "start_time": "2024-01-12T17:23:52.146Z"
   },
   {
    "duration": 893,
    "start_time": "2024-01-12T17:23:58.978Z"
   },
   {
    "duration": 1890,
    "start_time": "2024-01-12T17:24:11.979Z"
   },
   {
    "duration": 863,
    "start_time": "2024-01-12T17:24:18.404Z"
   },
   {
    "duration": 767,
    "start_time": "2024-01-12T17:25:38.510Z"
   },
   {
    "duration": 697,
    "start_time": "2024-01-12T17:25:45.125Z"
   },
   {
    "duration": 15388,
    "start_time": "2024-01-12T17:25:45.824Z"
   },
   {
    "duration": 8319,
    "start_time": "2024-01-12T17:26:01.267Z"
   },
   {
    "duration": 76,
    "start_time": "2024-01-12T17:26:09.590Z"
   },
   {
    "duration": 708,
    "start_time": "2024-01-12T17:26:09.668Z"
   },
   {
    "duration": 4341,
    "start_time": "2024-01-12T17:26:10.378Z"
   },
   {
    "duration": 4,
    "start_time": "2024-01-12T17:26:14.721Z"
   },
   {
    "duration": 1807,
    "start_time": "2024-01-12T17:26:14.766Z"
   },
   {
    "duration": 2108,
    "start_time": "2024-01-12T17:26:16.575Z"
   },
   {
    "duration": 1396,
    "start_time": "2024-01-12T17:26:18.686Z"
   },
   {
    "duration": 12,
    "start_time": "2024-01-12T17:26:20.083Z"
   },
   {
    "duration": 4,
    "start_time": "2024-01-12T17:26:20.096Z"
   },
   {
    "duration": 1896,
    "start_time": "2024-01-12T17:26:20.101Z"
   },
   {
    "duration": 523,
    "start_time": "2024-01-12T17:26:21.999Z"
   },
   {
    "duration": 443,
    "start_time": "2024-01-12T17:26:22.524Z"
   },
   {
    "duration": 705,
    "start_time": "2024-01-12T17:26:22.969Z"
   },
   {
    "duration": 102,
    "start_time": "2024-01-12T17:26:23.676Z"
   },
   {
    "duration": 509,
    "start_time": "2024-01-12T17:26:23.780Z"
   },
   {
    "duration": 93,
    "start_time": "2024-01-12T17:26:24.291Z"
   },
   {
    "duration": 583,
    "start_time": "2024-01-12T17:26:24.386Z"
   },
   {
    "duration": 1529,
    "start_time": "2024-01-12T17:26:24.971Z"
   },
   {
    "duration": 501,
    "start_time": "2024-01-12T17:26:26.565Z"
   },
   {
    "duration": 10,
    "start_time": "2024-01-12T17:26:27.068Z"
   },
   {
    "duration": 102,
    "start_time": "2024-01-12T17:26:27.080Z"
   },
   {
    "duration": 104,
    "start_time": "2024-01-12T17:26:27.184Z"
   },
   {
    "duration": 487,
    "start_time": "2024-01-12T17:26:27.290Z"
   },
   {
    "duration": 486,
    "start_time": "2024-01-12T17:26:27.779Z"
   },
   {
    "duration": 426,
    "start_time": "2024-01-12T17:26:28.268Z"
   },
   {
    "duration": 73,
    "start_time": "2024-01-12T17:26:28.696Z"
   },
   {
    "duration": 407,
    "start_time": "2024-01-12T17:26:28.771Z"
   },
   {
    "duration": 398,
    "start_time": "2024-01-12T17:26:29.179Z"
   },
   {
    "duration": 2702,
    "start_time": "2024-01-12T17:26:29.579Z"
   },
   {
    "duration": 1722,
    "start_time": "2024-01-12T17:26:32.283Z"
   },
   {
    "duration": 984,
    "start_time": "2024-01-12T17:26:34.007Z"
   },
   {
    "duration": 2087,
    "start_time": "2024-01-12T17:26:34.993Z"
   },
   {
    "duration": 810,
    "start_time": "2024-01-12T17:26:37.082Z"
   },
   {
    "duration": 1007,
    "start_time": "2024-01-12T17:26:37.895Z"
   },
   {
    "duration": 706,
    "start_time": "2024-02-17T09:52:53.333Z"
   },
   {
    "duration": 15066,
    "start_time": "2024-02-17T09:52:54.040Z"
   },
   {
    "duration": 8344,
    "start_time": "2024-02-17T09:53:12.150Z"
   },
   {
    "duration": 16,
    "start_time": "2024-02-17T09:53:23.005Z"
   },
   {
    "duration": 634,
    "start_time": "2024-02-17T09:53:24.581Z"
   },
   {
    "duration": 4168,
    "start_time": "2024-02-17T09:53:29.927Z"
   },
   {
    "duration": 4,
    "start_time": "2024-02-17T09:53:36.689Z"
   },
   {
    "duration": 1547,
    "start_time": "2024-02-17T09:53:37.457Z"
   },
   {
    "duration": 1983,
    "start_time": "2024-02-17T09:53:40.244Z"
   },
   {
    "duration": 1285,
    "start_time": "2024-02-17T09:56:00.236Z"
   },
   {
    "duration": 12,
    "start_time": "2024-02-17T09:56:04.699Z"
   },
   {
    "duration": 4,
    "start_time": "2024-02-17T09:56:05.103Z"
   },
   {
    "duration": 1855,
    "start_time": "2024-02-17T09:56:18.055Z"
   },
   {
    "duration": 210,
    "start_time": "2024-02-17T09:56:25.080Z"
   },
   {
    "duration": 361,
    "start_time": "2024-02-17T09:56:29.643Z"
   },
   {
    "duration": 289,
    "start_time": "2024-02-17T09:56:30.756Z"
   },
   {
    "duration": 721,
    "start_time": "2024-02-17T09:56:34.018Z"
   },
   {
    "duration": 54,
    "start_time": "2024-02-17T09:56:38.564Z"
   },
   {
    "duration": 604,
    "start_time": "2024-02-17T09:56:39.000Z"
   },
   {
    "duration": 533,
    "start_time": "2024-02-17T09:57:04.383Z"
   },
   {
    "duration": 38,
    "start_time": "2024-02-17T09:57:20.799Z"
   },
   {
    "duration": 380,
    "start_time": "2024-02-17T09:57:21.127Z"
   },
   {
    "duration": 1453,
    "start_time": "2024-02-17T09:57:25.069Z"
   },
   {
    "duration": 533,
    "start_time": "2024-02-17T09:57:26.524Z"
   },
   {
    "duration": 453,
    "start_time": "2024-02-17T09:57:31.850Z"
   },
   {
    "duration": 5,
    "start_time": "2024-02-17T09:57:34.283Z"
   },
   {
    "duration": 38,
    "start_time": "2024-02-17T09:57:37.141Z"
   },
   {
    "duration": 43,
    "start_time": "2024-02-17T09:57:39.406Z"
   },
   {
    "duration": 320,
    "start_time": "2024-02-17T09:57:40.038Z"
   },
   {
    "duration": 403,
    "start_time": "2024-02-17T09:57:42.006Z"
   },
   {
    "duration": 479,
    "start_time": "2024-02-17T09:57:44.924Z"
   },
   {
    "duration": 457,
    "start_time": "2024-02-17T09:57:50.144Z"
   },
   {
    "duration": 18,
    "start_time": "2024-02-17T09:57:54.963Z"
   },
   {
    "duration": 291,
    "start_time": "2024-02-17T09:57:55.565Z"
   },
   {
    "duration": 326,
    "start_time": "2024-02-17T09:57:58.575Z"
   },
   {
    "duration": 676,
    "start_time": "2024-02-19T14:09:46.470Z"
   },
   {
    "duration": 14390,
    "start_time": "2024-02-19T14:09:48.249Z"
   },
   {
    "duration": 7383,
    "start_time": "2024-02-19T14:10:02.642Z"
   },
   {
    "duration": 14,
    "start_time": "2024-02-19T14:10:10.027Z"
   },
   {
    "duration": 702,
    "start_time": "2024-02-19T14:10:10.043Z"
   },
   {
    "duration": 3897,
    "start_time": "2024-02-19T14:10:10.746Z"
   },
   {
    "duration": 4,
    "start_time": "2024-02-19T14:10:14.644Z"
   },
   {
    "duration": 1710,
    "start_time": "2024-02-19T14:10:14.717Z"
   },
   {
    "duration": 1994,
    "start_time": "2024-02-19T14:10:33.441Z"
   },
   {
    "duration": 1397,
    "start_time": "2024-02-19T14:10:35.437Z"
   },
   {
    "duration": 12,
    "start_time": "2024-02-19T14:10:40.393Z"
   },
   {
    "duration": 4,
    "start_time": "2024-02-19T14:10:40.928Z"
   },
   {
    "duration": 1899,
    "start_time": "2024-02-19T14:10:42.640Z"
   },
   {
    "duration": 719,
    "start_time": "2024-02-19T14:10:49.430Z"
   },
   {
    "duration": 14697,
    "start_time": "2024-02-19T14:10:50.150Z"
   },
   {
    "duration": 7685,
    "start_time": "2024-02-19T14:11:04.849Z"
   },
   {
    "duration": 14,
    "start_time": "2024-02-19T14:11:12.537Z"
   },
   {
    "duration": 589,
    "start_time": "2024-02-19T14:11:12.554Z"
   },
   {
    "duration": 3674,
    "start_time": "2024-02-19T14:11:13.145Z"
   },
   {
    "duration": 4,
    "start_time": "2024-02-19T14:11:16.820Z"
   },
   {
    "duration": 1794,
    "start_time": "2024-02-19T14:11:16.826Z"
   },
   {
    "duration": 1920,
    "start_time": "2024-02-19T14:11:18.622Z"
   },
   {
    "duration": 1298,
    "start_time": "2024-02-19T14:11:20.544Z"
   },
   {
    "duration": 9,
    "start_time": "2024-02-19T14:11:21.844Z"
   },
   {
    "duration": 4,
    "start_time": "2024-02-19T14:11:21.855Z"
   },
   {
    "duration": 1983,
    "start_time": "2024-02-19T14:11:21.860Z"
   },
   {
    "duration": 496,
    "start_time": "2024-02-19T14:11:23.844Z"
   },
   {
    "duration": 390,
    "start_time": "2024-02-19T14:11:24.341Z"
   },
   {
    "duration": 738,
    "start_time": "2024-02-19T14:11:24.732Z"
   },
   {
    "duration": 148,
    "start_time": "2024-02-19T14:11:25.473Z"
   },
   {
    "duration": 622,
    "start_time": "2024-02-19T14:11:25.624Z"
   },
   {
    "duration": 87,
    "start_time": "2024-02-19T14:11:26.250Z"
   },
   {
    "duration": 519,
    "start_time": "2024-02-19T14:11:26.339Z"
   },
   {
    "duration": 1294,
    "start_time": "2024-02-19T14:11:26.859Z"
   },
   {
    "duration": 679,
    "start_time": "2024-02-19T14:11:28.155Z"
   },
   {
    "duration": 5,
    "start_time": "2024-02-19T14:11:28.836Z"
   },
   {
    "duration": 98,
    "start_time": "2024-02-19T14:11:28.842Z"
   },
   {
    "duration": 100,
    "start_time": "2024-02-19T14:11:28.942Z"
   },
   {
    "duration": 474,
    "start_time": "2024-02-19T14:11:29.044Z"
   },
   {
    "duration": 404,
    "start_time": "2024-02-19T14:11:29.519Z"
   },
   {
    "duration": 429,
    "start_time": "2024-02-19T14:11:29.927Z"
   },
   {
    "duration": 70,
    "start_time": "2024-02-19T14:11:30.358Z"
   },
   {
    "duration": 413,
    "start_time": "2024-02-19T14:11:30.429Z"
   },
   {
    "duration": 320,
    "start_time": "2024-02-19T14:11:30.844Z"
   },
   {
    "duration": 2678,
    "start_time": "2024-02-19T14:11:31.166Z"
   },
   {
    "duration": 1800,
    "start_time": "2024-02-19T14:11:33.847Z"
   },
   {
    "duration": 988,
    "start_time": "2024-02-19T14:11:35.648Z"
   },
   {
    "duration": 1794,
    "start_time": "2024-02-19T14:11:36.637Z"
   },
   {
    "duration": 794,
    "start_time": "2024-02-19T14:11:38.433Z"
   },
   {
    "duration": 1000,
    "start_time": "2024-02-19T14:11:39.228Z"
   }
  ],
  "colab": {
   "name": "PySparkSprint.ipynb",
   "provenance": []
  },
  "kernelspec": {
   "display_name": "Python 3 (ipykernel)",
   "language": "python",
   "name": "python3"
  },
  "language_info": {
   "codemirror_mode": {
    "name": "ipython",
    "version": 3
   },
   "file_extension": ".py",
   "mimetype": "text/x-python",
   "name": "python",
   "nbconvert_exporter": "python",
   "pygments_lexer": "ipython3",
   "version": "3.9.5"
  },
  "toc": {
   "base_numbering": 1,
   "nav_menu": {},
   "number_sections": true,
   "sideBar": true,
   "skip_h1_title": true,
   "title_cell": "Table of Contents",
   "title_sidebar": "Contents",
   "toc_cell": false,
   "toc_position": {},
   "toc_section_display": true,
   "toc_window_display": false
  }
 },
 "nbformat": 4,
 "nbformat_minor": 5
}
